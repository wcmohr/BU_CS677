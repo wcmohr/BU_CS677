{
 "cells": [
  {
   "cell_type": "markdown",
   "id": "a55f4e01-4ea3-44d0-b14d-9fdcf27f21d6",
   "metadata": {},
   "source": [
    "Lecture 1 overview:\n",
    "\n",
    "Keppler:\n",
    "\n",
    "Simpler the better, less specific fitting to training set\n",
    "\n",
    "features: columns, observations: rows\n",
    "\n",
    "Classifier:  explainability vs accuracy vs solvability"
   ]
  },
  {
   "cell_type": "markdown",
   "id": "788d6f13-579c-4b12-99ca-ffee5bd52f4a",
   "metadata": {},
   "source": [
    "### Lecture 2"
   ]
  },
  {
   "cell_type": "markdown",
   "id": "ff678754-26a2-4d2b-8d6b-61ce30de17ad",
   "metadata": {
    "tags": []
   },
   "source": [
    "## Numpy (numeric python)"
   ]
  },
  {
   "cell_type": "code",
   "execution_count": null,
   "id": "33edbd7d-49ae-47d4-a56b-228b0d963879",
   "metadata": {},
   "outputs": [],
   "source": [
    "n"
   ]
  },
  {
   "cell_type": "markdown",
   "id": "a09672ea-a631-4bb1-bdd4-ff38f92c1fa8",
   "metadata": {},
   "source": [
    "\n",
    "python numerics: int , float , complex\n",
    "\n",
    "Numpy base object: array\n",
    "\n",
    "why numpy vs list? numpy is vectorized"
   ]
  },
  {
   "cell_type": "code",
   "execution_count": null,
   "id": "03eb740e-c7db-4458-a217-e8b855621470",
   "metadata": {},
   "outputs": [],
   "source": [
    "x_list = [ random() for i in range(n)]\n",
    "y_list = [ random() for i in range(n)]"
   ]
  },
  {
   "cell_type": "code",
   "execution_count": 3,
   "id": "968d1219-db8a-4a1b-aaad-6ded51813324",
   "metadata": {},
   "outputs": [
    {
     "data": {
      "text/plain": [
       "{2, 4, 6, 8}"
      ]
     },
     "execution_count": 3,
     "metadata": {},
     "output_type": "execute_result"
    }
   ],
   "source": [
    "# set comprehension\n",
    "{i for i in range(1,10) if i%2==0 }"
   ]
  },
  {
   "cell_type": "markdown",
   "id": "84fcff5f-d5fe-44d4-9528-3b304e03e860",
   "metadata": {},
   "source": [
    "numpy much faster , more memory efficient than adding lists, array operations in lists"
   ]
  },
  {
   "cell_type": "code",
   "execution_count": 4,
   "id": "ef5aea8b-3dd8-4771-89cf-9ae2ed2429b2",
   "metadata": {},
   "outputs": [],
   "source": [
    "import numpy as np"
   ]
  },
  {
   "cell_type": "code",
   "execution_count": 5,
   "id": "60d05307-6b53-427e-b708-4669443b0555",
   "metadata": {},
   "outputs": [
    {
     "data": {
      "text/plain": [
       "array([0. , 0.4, 0.8, 1.2, 1.6, 2. ])"
      ]
     },
     "execution_count": 5,
     "metadata": {},
     "output_type": "execute_result"
    }
   ],
   "source": [
    "np.linspace(0,2,6)"
   ]
  },
  {
   "cell_type": "code",
   "execution_count": 7,
   "id": "0250b670-7e97-4184-bde4-4bbb0e83d98c",
   "metadata": {},
   "outputs": [
    {
     "data": {
      "text/plain": [
       "2.0"
      ]
     },
     "execution_count": 7,
     "metadata": {},
     "output_type": "execute_result"
    }
   ],
   "source": [
    "x = np.linspace(0,2,6)\n",
    "\n",
    "np.max(x)"
   ]
  },
  {
   "cell_type": "code",
   "execution_count": 8,
   "id": "cdddea08-b153-4157-8de0-16c9d74435e2",
   "metadata": {},
   "outputs": [
    {
     "data": {
      "text/plain": [
       "5"
      ]
     },
     "execution_count": 8,
     "metadata": {},
     "output_type": "execute_result"
    }
   ],
   "source": [
    "np.argmax(x)"
   ]
  },
  {
   "cell_type": "code",
   "execution_count": 15,
   "id": "f5d5a135-ebed-4a75-9554-5c45c05e11bb",
   "metadata": {},
   "outputs": [],
   "source": [
    "# numpy mesh\n",
    "x_points a"
   ]
  },
  {
   "cell_type": "markdown",
   "id": "4273ec26-8472-498f-88da-83bd68425cdd",
   "metadata": {},
   "source": [
    "Distance metric requirements:\n",
    "\n",
    "D(x,x) = 0\n",
    "D(y,x) = D(x,y)\n",
    "Triangle equality\n",
    "\n",
    "p-norm: generalization of manhattan (\"El-1\"), Euclidean(\"El-2\").  p-root\n",
    "\n",
    "need to scale data before classifying."
   ]
  },
  {
   "cell_type": "code",
   "execution_count": null,
   "id": "a02488f9-27f7-4787-bb39-d4c407c9d3c2",
   "metadata": {},
   "outputs": [],
   "source": []
  }
 ],
 "metadata": {
  "kernelspec": {
   "display_name": "Python 3 (ipykernel)",
   "language": "python",
   "name": "python3"
  },
  "language_info": {
   "codemirror_mode": {
    "name": "ipython",
    "version": 3
   },
   "file_extension": ".py",
   "mimetype": "text/x-python",
   "name": "python",
   "nbconvert_exporter": "python",
   "pygments_lexer": "ipython3",
   "version": "3.9.13"
  }
 },
 "nbformat": 4,
 "nbformat_minor": 5
}
