{
 "cells": [
  {
   "cell_type": "code",
   "execution_count": 11,
   "id": "9a54e989-a667-4afb-ab95-c84c4d89d5a2",
   "metadata": {
    "tags": []
   },
   "outputs": [],
   "source": [
    "def k_days_momentum(stock, pattern):\n",
    "    \"\"\"args -- stock: stockDataFrame of stock data with the column True_Label. \n",
    "    pattern: csv string of True_Label values, \n",
    "    i.e. '+,+,+' | '-,-,-' | '+,+,-'| '+,-,-' | etc. \n",
    "    return -- p: probability of non-negative return\"\"\"\n",
    "    pos_returns = 0\n",
    "    sample_size = 0\n",
    "    k = len(pattern.split(','))\n",
    "    for i in range(k,len(stock)):\n",
    "        if (','.join(stock.True_Label[(i-k):i]) == pattern):\n",
    "            sample_size += 1\n",
    "            if stock.True_Label[i] == '+':\n",
    "                pos_returns += 1\n",
    "    return round(pos_returns/sample_size,3)"
   ]
  },
  {
   "cell_type": "code",
   "execution_count": 26,
   "id": "4350f14c-56a3-4cd4-8410-ff8cee5f8ede",
   "metadata": {
    "tags": []
   },
   "outputs": [],
   "source": [
    "def predict_45(data,ws):\n",
    "    # y_4_begin = data.Year[data.Year==2020].index[0]\n",
    "    data_45 = data.query('Year>=2020').copy(deep=True)\n",
    "    preds = []\n",
    "    for w in ws:\n",
    "        pattern_probs_n = perm_probs\n",
    "        for i in range(data_45.index[0],data_45.index[-1]+1):\n",
    "            pattern = ''.join(data.True_Label[i-w:i])\n",
    "            prob = pattern_predict(data[0:i],pattern)\n",
    "            try:\n",
    "                if prob>=.5:\n",
    "                    preds.append('+')\n",
    "                else:\n",
    "                    preds.append('-')\n",
    "            except TypeError:\n",
    "                preds.append('NotEnoughData')\n",
    "        data_45[f'w_{w}'] = preds\n",
    "    \n",
    "    cols = [f'w_{w}' for w in ws]\n",
    "    return data_45[cols]\n",
    "            \n",
    "            "
   ]
  },
  {
   "cell_type": "code",
   "execution_count": 36,
   "id": "ad7b3819-29b2-49c9-a9c6-23558d5bd805",
   "metadata": {
    "tags": []
   },
   "outputs": [],
   "source": [
    "def hydra(patterns):\n",
    "    \"\"\"take a list of patterns and return a list with a '+' and '-' added to\n",
    "    each pattern\"\"\"\n",
    "    patterns_doubled = []\n",
    "    for p in patterns:\n",
    "        patterns_doubled.append(p+'+')\n",
    "        patterns_doubled.append(p+'-')\n",
    "    return patterns_doubled"
   ]
  },
  {
   "cell_type": "code",
   "execution_count": 23,
   "id": "678a113d-8a7e-4326-9ca9-ffbdb42daa09",
   "metadata": {},
   "outputs": [],
   "source": [
    "def date_transform(date):\n",
    "    \"\"\"arg: date as tuple of ints (YYYY,MM,DD) \n",
    "    return: date transformed into int by multiplying year by 2080, month by 32,\n",
    "    day by 1, and summing\"\"\"\n",
    "    transform_factors = [2080,40,1]\n",
    "    return sum([i*j for i,j in zip(date,transform_factors)])"
   ]
  },
  {
   "cell_type": "code",
   "execution_count": 24,
   "id": "72063ac2-573f-42c2-8fa5-c5ddd4ef2313",
   "metadata": {},
   "outputs": [],
   "source": [
    "def five_years(original_trading_data,ticker):\n",
    "    \"\"\"arg: 5 years of data; ticker string, i.e. 'SPY'\n",
    "    return: list of data chopped into yearly periods\"\"\"\n",
    "    \n",
    "    evaporating_data = [td for td in original_trading_data]\n",
    "    ticker = ticker.lower()\n",
    "    years = [1,2,3,4]\n",
    "    d0 = date_transform(original_trading_data[0][0])\n",
    "    d0_transformed = date_transform(evaporating_data[0][0])\n",
    "    for year in years:\n",
    "        placeholder = f'{ticker}_{year}'\n",
    "        globals()[placeholder] = [evaporating_data.pop(0) for _ in \n",
    "                                 evaporating_data \n",
    "                                if  date_transform(evaporating_data[0][0]) < \n",
    "                                 d0+year*2080]\n",
    "    placeholder = f'{ticker}_5'\n",
    "    globals()[placeholder]=evaporating_data\n",
    "    placeholder = f'{ticker}_1_5'\n",
    "    globals()[placeholder] = [td for td in original_trading_data] # all years    \n",
    "    # split_yearly = eval(f'[{ticker}_{year} for year in years]')\n",
    "    print(f'{ticker}_year, i.e {ticker}_1, {ticker}_2, ... {ticker}_5,\\\n",
    " {ticker}_1_5 are now in the local namespace.')"
   ]
  },
  {
   "cell_type": "code",
   "execution_count": null,
   "id": "6d28a91d-b3f4-4ccd-9f44-0e65ad5b6bc7",
   "metadata": {},
   "outputs": [],
   "source": []
  },
  {
   "cell_type": "markdown",
   "id": "ffa35b90-3e0f-4a17-ab09-e39632c0e6cd",
   "metadata": {},
   "source": [
    "Notes from "
   ]
  },
  {
   "cell_type": "code",
   "execution_count": 5,
   "id": "3e0fc5f0-da0a-43df-9f76-7eeca8a7035e",
   "metadata": {
    "tags": []
   },
   "outputs": [],
   "source": [
    "# convert date to (y,m,d) tuples\n",
    "# msft.Date = [tuple(date.split('-')) for date in msft.Date]"
   ]
  }
 ],
 "metadata": {
  "kernelspec": {
   "display_name": "Python 3 (ipykernel)",
   "language": "python",
   "name": "python3"
  },
  "language_info": {
   "codemirror_mode": {
    "name": "ipython",
    "version": 3
   },
   "file_extension": ".py",
   "mimetype": "text/x-python",
   "name": "python",
   "nbconvert_exporter": "python",
   "pygments_lexer": "ipython3",
   "version": "3.9.18"
  }
 },
 "nbformat": 4,
 "nbformat_minor": 5
}
