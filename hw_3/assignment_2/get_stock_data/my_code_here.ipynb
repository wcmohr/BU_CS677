{
 "cells": [
  {
   "cell_type": "code",
   "execution_count": 1,
   "id": "d2940006-1946-40db-a402-6bac44e6ba8f",
   "metadata": {
    "tags": [
     "Imports"
    ]
   },
   "outputs": [],
   "source": [
    "import seaborn as sns"
   ]
  },
  {
   "cell_type": "code",
   "execution_count": 2,
   "id": "7d96e0c8-3e95-44db-97b0-b2f3592b449d",
   "metadata": {},
   "outputs": [
    {
     "name": "stdout",
     "output_type": "stream",
     "text": [
      "[*********************100%***********************]  1 of 1 completed\n",
      "\n",
      "1 Failed download:\n",
      "- SPY: No data found for this date range, symbol may be delisted\n",
      "read  0  lines of data for ticker:  SPY\n",
      "wrote 0 lines to file: /Users/williammohr/BostonUniversity/CS677/hw_3/assignment_2/get_stock_data/SPY.csv\n"
     ]
    }
   ],
   "source": [
    "# -*- coding: utf-8 -*-\n",
    "\"\"\"\n",
    "Created on Tue Sep  7 16:02:02 2021\n",
    "\n",
    "@author: epinsky\n",
    "\"\"\"\n",
    "\n",
    "# -*- coding: utf-8 -*-\n",
    "\"\"\"\n",
    "Created on Mon Nov  5 14:37:29 2018\n",
    "\n",
    "@author: epinsky\n",
    "\"\"\"\n",
    "\n",
    "# install yfinance version 0.1.62\n",
    "#   !pip install yfinance==0.1.62\n",
    "# run this  !pip install pandas_datareader\n",
    "from pandas_datareader import data as web\n",
    "import os\n",
    "import pandas as pd\n",
    "import yfinance as yf\n",
    "\n",
    "def get_stock(ticker, start_date, end_date, s_window, l_window):\n",
    "    try:\n",
    "#       yf.pdr_override()\n",
    "        df = yf.download(ticker, start=start_date, end=end_date)\n",
    "# can use this as well        df = web.get_data_yahoo(ticker, start=start_date, end=end_date)\n",
    "        df['Return'] = df['Adj Close'].pct_change()\n",
    "        df['Return'].fillna(0, inplace = True)\n",
    "        df['Date'] = df.index\n",
    "        df['Date'] = pd.to_datetime(df['Date'])\n",
    "        df['Month'] = df['Date'].dt.month\n",
    "        df['Year'] = df['Date'].dt.year \n",
    "        df['Day'] = df['Date'].dt.day\n",
    "        for col in ['Open', 'High', 'Low', 'Close', 'Adj Close']:\n",
    "            df[col] = df[col].round(2)\n",
    "        df['Weekday'] = df['Date'].dt.day_name()\n",
    "        df['Week_Number'] = df['Date'].dt.strftime('%U')\n",
    "        df['Year_Week'] = df['Date'].dt.strftime('%Y-%U')\n",
    "        df['Short_MA'] = df['Adj Close'].rolling(window=s_window, min_periods=1).mean()\n",
    "        df['Long_MA'] = df['Adj Close'].rolling(window=l_window, min_periods=1).mean()        \n",
    "        col_list = ['Date', 'Year', 'Month', 'Day', 'Weekday', \n",
    "                    'Week_Number', 'Year_Week', 'Open', \n",
    "                    'High', 'Low', 'Close', 'Volume', 'Adj Close',\n",
    "                    'Return', 'Short_MA', 'Long_MA']\n",
    "        num_lines = len(df)\n",
    "        df = df[col_list]\n",
    "        print('read ', num_lines, ' lines of data for ticker: ' , ticker)\n",
    "        return df\n",
    "    except Exception as error:\n",
    "        print(error)\n",
    "        return None\n",
    "\n",
    "try:\n",
    "    ticker='SPY'\n",
    "    input_dir = os.getcwd()\n",
    "    output_file = os.path.join(input_dir, ticker + '.csv')\n",
    "    df = get_stock(ticker, start_date='2018-09-01', end_date='2023-08-31', \n",
    "               s_window=14, l_window=50)\n",
    "    df.to_csv(output_file, index=False)\n",
    "    print('wrote ' + str(len(df)) + ' lines to file: ' + output_file)\n",
    "except Exception as e:\n",
    "    print(e)\n",
    "    print('failed to get Yahoo stock data for ticker: ', ticker)"
   ]
  },
  {
   "cell_type": "code",
   "execution_count": 3,
   "id": "6bd819f6-eec5-41d8-a109-46cd8d6af9fa",
   "metadata": {},
   "outputs": [
    {
     "name": "stdout",
     "output_type": "stream",
     "text": [
      "[*********************100%***********************]  1 of 1 completed\n",
      "\n",
      "1 Failed download:\n",
      "- GME: No data found for this date range, symbol may be delisted\n",
      "read  0  lines of data for ticker:  GME\n",
      "wrote 0 lines to file: /Users/williammohr/BostonUniversity/CS677/hw_3/assignment_2/get_stock_data/GME.csv\n"
     ]
    }
   ],
   "source": [
    "# -*- coding: utf-8 -*-\n",
    "\"\"\"\n",
    "Created on Tue Sep  7 16:02:02 2021\n",
    "\n",
    "@author: epinsky\n",
    "\"\"\"\n",
    "\n",
    "# -*- coding: utf-8 -*-\n",
    "\"\"\"\n",
    "Created on Mon Nov  5 14:37:29 2018\n",
    "\n",
    "@author: epinsky\n",
    "\"\"\"\n",
    "\n",
    "# install yfinance version 0.1.62\n",
    "#   !pip install yfinance==0.1.62\n",
    "# run this  !pip install pandas_datareader\n",
    "from pandas_datareader import data as web\n",
    "import os\n",
    "import pandas as pd\n",
    "import yfinance as yf\n",
    "\n",
    "def get_stock(ticker, start_date, end_date, s_window, l_window):\n",
    "    try:\n",
    "#       yf.pdr_override()\n",
    "        df = yf.download(ticker, start=start_date, end=end_date)\n",
    "# can use this as well        df = web.get_data_yahoo(ticker, start=start_date, end=end_date)\n",
    "        df['Return'] = df['Adj Close'].pct_change()\n",
    "        df['Return'].fillna(0, inplace = True)\n",
    "        df['Date'] = df.index\n",
    "        df['Date'] = pd.to_datetime(df['Date'])\n",
    "        df['Month'] = df['Date'].dt.month\n",
    "        df['Year'] = df['Date'].dt.year \n",
    "        df['Day'] = df['Date'].dt.day\n",
    "        for col in ['Open', 'High', 'Low', 'Close', 'Adj Close']:\n",
    "            df[col] = df[col].round(2)\n",
    "        df['Weekday'] = df['Date'].dt.day_name()\n",
    "        df['Week_Number'] = df['Date'].dt.strftime('%U')\n",
    "        df['Year_Week'] = df['Date'].dt.strftime('%Y-%U')\n",
    "        df['Short_MA'] = df['Adj Close'].rolling(window=s_window, min_periods=1).mean()\n",
    "        df['Long_MA'] = df['Adj Close'].rolling(window=l_window, min_periods=1).mean()        \n",
    "        col_list = ['Date', 'Year', 'Month', 'Day', 'Weekday', \n",
    "                    'Week_Number', 'Year_Week', 'Open', \n",
    "                    'High', 'Low', 'Close', 'Volume', 'Adj Close',\n",
    "                    'Return', 'Short_MA', 'Long_MA']\n",
    "        num_lines = len(df)\n",
    "        df = df[col_list]\n",
    "        print('read ', num_lines, ' lines of data for ticker: ' , ticker)\n",
    "        return df\n",
    "    except Exception as error:\n",
    "        print(error)\n",
    "        return None\n",
    "\n",
    "try:\n",
    "    ticker='GME'\n",
    "    input_dir = os.getcwd()\n",
    "    output_file = os.path.join(input_dir, ticker + '.csv')\n",
    "    df = get_stock(ticker, start_date='2018-09-01', end_date='2023-08-31', \n",
    "               s_window=14, l_window=50)\n",
    "    df.to_csv(output_file, index=False)\n",
    "    print('wrote ' + str(len(df)) + ' lines to file: ' + output_file)\n",
    "except Exception as e:\n",
    "    print(e)\n",
    "    print('failed to get Yahoo stock data for ticker: ', ticker)"
   ]
  },
  {
   "cell_type": "markdown",
   "id": "a6f22981-8305-44c1-94bb-c246609284b9",
   "metadata": {
    "tags": []
   },
   "source": [
    "##### Import stock data"
   ]
  },
  {
   "cell_type": "code",
   "execution_count": 4,
   "id": "3ac30d72-6d01-4eca-bbae-8a1a8ca7f1d5",
   "metadata": {
    "tags": []
   },
   "outputs": [
    {
     "name": "stdout",
     "output_type": "stream",
     "text": [
      "opened file for ticker:  GME\n"
     ]
    }
   ],
   "source": [
    "ticker='GME'\n",
    "input_dir = \\\n",
    "r'/Users/williammohr/BostonUniversity/CS677/assignment_2/get_stock_data/'\n",
    "ticker_file = os.path.join(input_dir, ticker + '.csv')\n",
    "\n",
    "try:   \n",
    "    with open(ticker_file) as f:\n",
    "        gme_lines = f.read().splitlines()\n",
    "    print('opened file for ticker: ', ticker)\n",
    "    \"\"\"    your code for assignment 1 goes here\n",
    "    \"\"\"\n",
    "    \n",
    "except Exception as e:\n",
    "    print(e)\n",
    "    print('failed to read stock data for ticker: ', ticker)\n",
    "\n"
   ]
  },
  {
   "cell_type": "code",
   "execution_count": 5,
   "id": "8c726ed6-b543-4383-8b33-e8dcf34764d2",
   "metadata": {},
   "outputs": [
    {
     "name": "stdout",
     "output_type": "stream",
     "text": [
      "opened file for ticker:  SPY\n"
     ]
    }
   ],
   "source": [
    "ticker='SPY'\n",
    "input_dir = r'/Users/williammohr/BostonUniversity/CS677/assignment_2/get_stock_data/'\n",
    "ticker_file = os.path.join(input_dir, ticker + '.csv')\n",
    "\n",
    "try:   \n",
    "    with open(ticker_file) as f:\n",
    "        spy_lines = f.read().splitlines()\n",
    "    print('opened file for ticker: ', ticker)\n",
    "    \"\"\"    your code for assignment 1 goes here\n",
    "    \"\"\"\n",
    "    \n",
    "except Exception as e:\n",
    "    print(e)\n",
    "    print('failed to read stock data for ticker: ', ticker)\n",
    "\n"
   ]
  },
  {
   "cell_type": "code",
   "execution_count": 6,
   "id": "3325f33f-5446-4d50-904b-c2472d0be9fa",
   "metadata": {},
   "outputs": [
    {
     "data": {
      "text/plain": [
       "'Date,Year,Month,Day,Weekday,Week_Number,Year_Week,Open,High,Low,Close,Volume,Adj Close,Return,Short_MA,Long_MA'"
      ]
     },
     "execution_count": 6,
     "metadata": {},
     "output_type": "execute_result"
    }
   ],
   "source": [
    "spy_lines[0]"
   ]
  },
  {
   "cell_type": "markdown",
   "id": "f67e23b1-5835-440f-ac51-8ec3e1b344a0",
   "metadata": {
    "tags": []
   },
   "source": [
    "1. if the Open price is higher than the ”Adj Close” price of yesterday (i.e. overnight return is positive) then you assume that the stock price will continue to increase during the day. Therefore, you buy $100 worth of shares at the ”Open” price and sell this number of shares at the end of the day (at adj close) to close your ”long” position. The number of shares will typically be fractional, like 1.12 or 0.89. Your profit/loss per share is (adj close - open).\n",
    "\n",
    "2. if the open price is lower than the ”Adj Close” price of yesterday (i.e. overnigh return is negative) then you assume that the stock price will continue to fall during the day. Therefore, you sell short $100 worth of shares at the ”Open” price and buy this same number of shares at the end of the day (at adj close price) to close your ”short” position. You profit loss per share is (open - adj close)\n",
    "\n",
    "3. unless the opening price equals yesterdays (adj) closing price, you will always day trade.  Assume in both cases (whether you establish a long or short position) that you have $100 to invest and you know the overnight returns. We ignore trading costs in our analysis.\n",
    "\n",
    "4. for every day that you trade, you are given $100 (regardless of your previous trading performance).\n",
    "\n",
    "5. finally, in your computation of percentages, number of shares, prices - round to 2 decimal points."
   ]
  },
  {
   "cell_type": "markdown",
   "id": "07c99fea-3cc8-489a-b2fe-928b50eb4385",
   "metadata": {},
   "source": [
    "Plan: loop through data from the second day to the last day. Compare adj_close to open_price.  If open_price_t1 > adj_close_t0, append 100*(adj_close_t1-open_price_t1)/open_price_t1.  Likewise, if open_price_t0 > adj_close_t1, append 100*(open_price_t1-adj_close_t0)/(open_price_t1)"
   ]
  },
  {
   "cell_type": "markdown",
   "id": "15caa4df-8986-4b01-ab18-56313e18bdd6",
   "metadata": {
    "tags": []
   },
   "source": [
    "##### Initial Formatting"
   ]
  },
  {
   "cell_type": "code",
   "execution_count": 7,
   "id": "6a232d77-9fa7-47c5-8d1d-19b9f0d73349",
   "metadata": {},
   "outputs": [],
   "source": [
    "def get_daily_profits(prices,threshold):\n",
    "    \"\"\"args --> str: ticker of stock; float: proportion of stock change that\n",
    "    triggers a trade.\n",
    "    return --> list: tuples of date, profit, and position\"\"\"\n",
    "    daily_profits = \\\n",
    "    [(d[0],100/d[1]*(d[2]-d[1]),'long') \n",
    "     # profit is 100*(adj_close_t1 - open_t1)\n",
    "     if (d[1]>(prices[i][2] + prices[i][2]*threshold)) # if open_t1 g.t. adj_close_t0\n",
    "     else [(d[0],100/d[1]*(d[1]-d[2]),'short') \n",
    "           if ((prices[i][2]*(1-threshold))>d[1]) # if adj_close_t0 g.t. open_t1\n",
    "           else (d[0], 0,'no_trade')][0]\n",
    "     for i,d in enumerate(prices[1:])] \n",
    "        # begin trading on day2 based on d2 a.close\n",
    "    daily_profits = [tuple([\n",
    "    tuple([int(x) for x in \n",
    "           day[0].split(' ')[0].split('-')]), day[1], day[2]]) \n",
    "                     for day in daily_profits]\n",
    "    return daily_profits"
   ]
  },
  {
   "cell_type": "markdown",
   "id": "26e0864e-7424-471f-b5c5-439dfa9def4d",
   "metadata": {
    "tags": []
   },
   "source": [
    "###### gme"
   ]
  },
  {
   "cell_type": "markdown",
   "id": "08a5eb9b-a320-4b0e-96fb-e21ffdf4fdf2",
   "metadata": {},
   "source": [
    "1) Lines are initially a single string with comma separated values.  I need to convert each line to a list of values of the appropriate type."
   ]
  },
  {
   "cell_type": "code",
   "execution_count": 8,
   "id": "1a67cfed-d9f0-4b4f-8b88-adcb2c54d1fb",
   "metadata": {},
   "outputs": [
    {
     "data": {
      "text/plain": [
       "'Date,Year,Month,Day,Weekday,Week_Number,Year_Week,Open,High,Low,Close,Volume,Adj Close,Return,Short_MA,Long_MA'"
      ]
     },
     "execution_count": 8,
     "metadata": {},
     "output_type": "execute_result"
    }
   ],
   "source": [
    "gme_lines[0]"
   ]
  },
  {
   "cell_type": "code",
   "execution_count": 9,
   "id": "df8204ea-1673-4382-a945-e8e9bb1b92fa",
   "metadata": {},
   "outputs": [],
   "source": [
    "# Collect relevant indices\n",
    "relev_inxs = [gme_lines[0].split(',').index(x) \\\n",
    " for x in gme_lines[0].split(',')\\\n",
    "if x in ['Date','Open','Adj Close']\n",
    " ]"
   ]
  },
  {
   "cell_type": "markdown",
   "id": "83cefd73-8c0f-41c2-99ad-7719c72223cb",
   "metadata": {},
   "source": [
    "[0, 7, 12] is the list of relevant indices for momentum analysis purposes, corresponding to Date, Open, and Adj Close."
   ]
  },
  {
   "cell_type": "code",
   "execution_count": 10,
   "id": "921e50f2-46f9-4605-af01-579e0df9b348",
   "metadata": {},
   "outputs": [],
   "source": [
    "gme_lines = [line.split(',') for line in gme_lines] # convert csv string to list"
   ]
  },
  {
   "cell_type": "code",
   "execution_count": 11,
   "id": "08a5217d-a939-400e-be03-4a70a6d9ee41",
   "metadata": {},
   "outputs": [],
   "source": [
    "# collect relev. header vals\n",
    "headers = [header for inx,header in \n",
    "           enumerate(gme_lines.pop(0)) if inx in [0,7,12]]\n",
    "headers = ['_'.join(header_val.split(' ')) for header_val in headers] # concat."
   ]
  },
  {
   "cell_type": "code",
   "execution_count": 12,
   "id": "fc531eed-3858-412f-926f-fa35eab5ad53",
   "metadata": {},
   "outputs": [],
   "source": [
    "gme_prices = [\n",
    "    [val if inx==0 else float(val) # convert open, adj_close to floats\n",
    "  for inx,val in enumerate(\n",
    "      [val for inx,val in enumerate(line) # keep Date, Open, and Adj_\n",
    "       if inx in relev_inxs])] \n",
    "    for line in gme_lines\n",
    "]"
   ]
  },
  {
   "cell_type": "code",
   "execution_count": 13,
   "id": "9d4163fd-4be0-4122-9e02-85bca0e7b3f7",
   "metadata": {
    "tags": []
   },
   "outputs": [],
   "source": [
    "gme_daily_profits = get_daily_profits(gme_prices,0)"
   ]
  },
  {
   "cell_type": "markdown",
   "id": "8edc9980-d5f1-4d95-96f0-014c900f1f92",
   "metadata": {
    "tags": []
   },
   "source": [
    "###### spy"
   ]
  },
  {
   "cell_type": "markdown",
   "id": "2d8c1769-3440-4da3-8d93-e9e17b6da41a",
   "metadata": {},
   "source": [
    "1) Lines are initially a single string with comma separated values.  I need to convert each line to a list of values of the appropriate type."
   ]
  },
  {
   "cell_type": "code",
   "execution_count": 14,
   "id": "3e550113-11d4-4d0a-9950-612c5ca76b50",
   "metadata": {},
   "outputs": [
    {
     "data": {
      "text/plain": [
       "'Date,Year,Month,Day,Weekday,Week_Number,Year_Week,Open,High,Low,Close,Volume,Adj Close,Return,Short_MA,Long_MA'"
      ]
     },
     "execution_count": 14,
     "metadata": {},
     "output_type": "execute_result"
    }
   ],
   "source": [
    "spy_lines[0]"
   ]
  },
  {
   "cell_type": "code",
   "execution_count": 15,
   "id": "2f1da6c0-417e-414d-9865-46ee9ae54f9e",
   "metadata": {},
   "outputs": [],
   "source": [
    "# Collect relevant indices\n",
    "relev_inxs = [spy_lines[0].split(',').index(x) \\\n",
    " for x in spy_lines[0].split(',')\\\n",
    "if x in ['Date','Open','Adj Close']\n",
    " ]"
   ]
  },
  {
   "cell_type": "markdown",
   "id": "85f0e6b8-ed80-45f5-b66e-af2a953e51ce",
   "metadata": {},
   "source": [
    "[0, 7, 12] is the list of relevant indices for momentum analysis purposes, corresponding to Date, Open, and Adj Close."
   ]
  },
  {
   "cell_type": "code",
   "execution_count": 16,
   "id": "bb0988ea-07ff-468f-846f-b4291c44683d",
   "metadata": {},
   "outputs": [],
   "source": [
    "spy_lines = [line.split(',') for line in spy_lines] # convert csv string to list"
   ]
  },
  {
   "cell_type": "code",
   "execution_count": 17,
   "id": "abb3de8a-cd95-4046-973c-4f6635e9823f",
   "metadata": {},
   "outputs": [],
   "source": [
    "# collect relev. header vals\n",
    "headers = [header for inx,header in \n",
    "           enumerate(spy_lines.pop(0)) if inx in [0,7,12]]\n",
    "headers = ['_'.join(header_val.split(' ')) for header_val in headers] # concat."
   ]
  },
  {
   "cell_type": "code",
   "execution_count": 18,
   "id": "7af7d72d-4ab4-4796-9ee3-b27303796696",
   "metadata": {},
   "outputs": [],
   "source": [
    "spy_prices = [\n",
    "    [val if inx==0 else float(val) # convert open, adj_close to floats\n",
    "  for inx,val in enumerate(\n",
    "      [val for inx,val in enumerate(line) # keep Date, Open, and Adj_\n",
    "       if inx in relev_inxs])] \n",
    "    for line in spy_lines\n",
    "]"
   ]
  },
  {
   "cell_type": "code",
   "execution_count": 19,
   "id": "88b94e13-a197-4411-a9db-89349b6f1ad8",
   "metadata": {
    "tags": []
   },
   "outputs": [],
   "source": [
    "spy_daily_profits = get_daily_profits(spy_prices, 0)"
   ]
  },
  {
   "cell_type": "markdown",
   "id": "e3b79eb5-97cc-4321-9cf0-567626df5e58",
   "metadata": {},
   "source": [
    "##### Profit Analysis"
   ]
  },
  {
   "cell_type": "markdown",
   "id": "db00a336-36e3-4d73-8bb8-ffb953678678",
   "metadata": {},
   "source": [
    "For a particular time period (e.g. year): \n",
    "\n",
    "Statistic         | Definition\n",
    "------------------|--------------------------------------------------------\n",
    " \\|S\\|            | number of days when a short position was taken\n",
    " \\|L\\|            | number of days when a long position was taken\n",
    " \\|S+L\\|          | number of days when either a long or short position was taken\n",
    " P(S)             | total profit/loss for 'short' days\n",
    " P(S) / \\|S\\|     | avg daily profit for 'short position' days\n",
    " P(L) / \\|L\\|     | avg daily profit for 'long position' days\n",
    " P(S+L) / \\|S+L\\| | avg daily profit for trading days"
   ]
  },
  {
   "cell_type": "markdown",
   "id": "62b1b594-1182-4f62-90e7-aee5ac61c1d0",
   "metadata": {
    "tags": []
   },
   "source": [
    "###### Trading statistics functions"
   ]
  },
  {
   "cell_type": "code",
   "execution_count": 20,
   "id": "f82ead0f-c2a3-4ebb-80f9-143394cffe9d",
   "metadata": {},
   "outputs": [],
   "source": [
    "def short_days(time_period):\n",
    "    \"\"\"arg: a list of profit data-tuples, i.e. (date,profit,position)\n",
    "    return: integer |S|\"\"\"\n",
    "    return sum([1 for day in time_period if day[2] == 'short'])"
   ]
  },
  {
   "cell_type": "code",
   "execution_count": 21,
   "id": "440423c2-6088-43f3-83fc-e7a9829cee27",
   "metadata": {},
   "outputs": [],
   "source": [
    "def short_profit(time_period):\n",
    "    \"\"\"arg: a list of profit data-tuples, i.e. (date,profit,position)\n",
    "    return: float P(S) rounded to 2 decimal places\"\"\"\n",
    "    return round(sum([day[1] for day in time_period if day[2] == 'short']),2)"
   ]
  },
  {
   "cell_type": "code",
   "execution_count": 22,
   "id": "7281c67a-2019-40cc-8c2c-529ca32f3c6b",
   "metadata": {},
   "outputs": [],
   "source": [
    "def short_profit_mean(time_period):\n",
    "    \"\"\"arg: a list of profit data-tuples, i.e. (date,profit,position)\n",
    "    return: float P(S)/|S| rounded to 2 decimal places\"\"\"\n",
    "    return round(short_profit(time_period)/short_days(time_period),2)"
   ]
  },
  {
   "cell_type": "code",
   "execution_count": 23,
   "id": "528dfd26-59e1-4141-b60a-17fae5ee03f9",
   "metadata": {},
   "outputs": [],
   "source": [
    "def long_days(time_period):\n",
    "    \"\"\"arg: a list of profit data-tuples, i.e. (date,profit,position)\n",
    "    return: integer |L|\"\"\"\n",
    "    return sum([1 for day in time_period if day[2] == 'long'])"
   ]
  },
  {
   "cell_type": "code",
   "execution_count": 24,
   "id": "0bafacaa-084b-4600-8a29-482bb523950d",
   "metadata": {},
   "outputs": [],
   "source": [
    "def long_profit(time_period):\n",
    "    \"\"\"arg: a list of profit data-tuples, i.e. (date,profit,position)\n",
    "    return: float P(L) rounded to 2 decimal places\"\"\"\n",
    "    return round(sum([day[1] for day in time_period if day[2] == 'long']),2)"
   ]
  },
  {
   "cell_type": "code",
   "execution_count": 25,
   "id": "eed83f30-ddbe-43fd-a9b5-4a4c43e0a88a",
   "metadata": {},
   "outputs": [],
   "source": [
    "def long_profit_mean(time_period):\n",
    "    \"\"\"arg: a list of profit data-tuples, i.e. (date,profit,position)\n",
    "    return: float P(L)/|L| rounded to 2 decimal places\"\"\"\n",
    "    return round(long_profit(time_period)/long_days(time_period),2)"
   ]
  },
  {
   "cell_type": "code",
   "execution_count": 26,
   "id": "f7ec4979-65a3-4712-8669-99c38bec1057",
   "metadata": {},
   "outputs": [],
   "source": [
    "def trading_days(time_period):\n",
    "    \"\"\"arg: a list of profit data-tuples, i.e. (date,profit,position)\n",
    "    return: integer |S+L|\"\"\"\n",
    "    return sum([1 for day in time_period if day[2] in ('long','short')])"
   ]
  },
  {
   "cell_type": "code",
   "execution_count": 27,
   "id": "a2011eb7-33ac-452b-8d8c-6ec9fe72b039",
   "metadata": {},
   "outputs": [],
   "source": [
    "def total_profit(time_period):\n",
    "    \"\"\"arg: a list of profit data-tuples, i.e. (date,profit,position)\n",
    "    return: float P(S+L) rounded to 2 decimal places\"\"\"\n",
    "    return round(sum([day[1] for day in time_period]),2)"
   ]
  },
  {
   "cell_type": "code",
   "execution_count": 28,
   "id": "69bc41b4-0b66-4541-8553-438a16b40b58",
   "metadata": {},
   "outputs": [],
   "source": [
    "def total_profit_mean(time_period):\n",
    "    \"\"\"arg: a list of profit data-tuples, i.e. (date,profit,position)\n",
    "    return: float P(S+L)/|S+L| rounded to 2 decimal places\"\"\"\n",
    "    return round(total_profit(time_period)/trading_days(time_period),2)"
   ]
  },
  {
   "cell_type": "code",
   "execution_count": 29,
   "id": "73c382aa-97cf-44de-892f-c23f5a5b8a59",
   "metadata": {},
   "outputs": [],
   "source": [
    "b = ['a']"
   ]
  },
  {
   "cell_type": "code",
   "execution_count": 30,
   "id": "d74ad09b-a05a-4611-8b21-3ff95918f8e3",
   "metadata": {},
   "outputs": [],
   "source": [
    "b.append(['c'])"
   ]
  },
  {
   "cell_type": "code",
   "execution_count": 31,
   "id": "a9b2d106-689d-44eb-b735-4fbf21caee86",
   "metadata": {},
   "outputs": [],
   "source": [
    "def trading_stats(trading_periods):\n",
    "    \"\"\"arg: a list of lists of tuples containing trading data (date,profit,position)\n",
    "    return: a year-by-year list of (|S|, P(S), P(S)/|S|, |L|, P(L), P(L)/|L|,\n",
    "    |S+L|, P(S+L), P(S+L)/|S+L|\"\"\"\n",
    "    stats = []\n",
    "    for p in trading_periods:\n",
    "        try:\n",
    "            spm = short_profit_mean(p)\n",
    "        except ZeroDivisionError:\n",
    "            spm = 0\n",
    "        try:\n",
    "            lpm = long_profit_mean(p)\n",
    "        except ZeroDivisionError:\n",
    "            lpm = 0           \n",
    "        stats = stats + [(short_days(p), short_profit(p),\n",
    "               spm, long_days(p), long_profit(p), lpm, trading_days(p),\n",
    "               total_profit(p), total_profit_mean(p))]\n",
    "        \n",
    "    return stats"
   ]
  },
  {
   "cell_type": "markdown",
   "id": "993b9b06-886d-4db6-ba18-6d45d95204d7",
   "metadata": {
    "tags": []
   },
   "source": [
    "##### Split profit data into yearly intervals"
   ]
  },
  {
   "cell_type": "markdown",
   "id": "5cbd7e3b-4b86-4f02-ba69-58c286e45934",
   "metadata": {},
   "source": [
    "I'll use the property that for every date d0 with year d0_y, month d0_m, day d0_d  prior to any other date with yyyy, mm, dd being respectively d1_y, d1_m, d1_d the following holds:\n",
    "\n",
    "d1_y*2080 + d1_m*32 + d1_d > d0_y*2080 + d0_m*32 + d0_d\n",
    "\n",
    "Thus, I can pop the first day's data while (d1_y*2080 + d1_m*32 + d1_d) < (d0_y*2080 + d0_m*32 + d0_d + (d1_y-d0_y)*2080)"
   ]
  },
  {
   "cell_type": "code",
   "execution_count": 32,
   "id": "fd09aa84-00a5-4208-b199-7a3dd18f0bb0",
   "metadata": {},
   "outputs": [],
   "source": [
    "def date_transform(date):\n",
    "    \"\"\"arg: date as tuple of ints (YYYY,MM,DD) \n",
    "    return: date transformed into int by multiplying year by 2080, month by 32,\n",
    "    day by 1, and summing\"\"\"\n",
    "    transform_factors = [2080,40,1]\n",
    "    return sum([i*j for i,j in zip(date,transform_factors)])"
   ]
  },
  {
   "cell_type": "code",
   "execution_count": 33,
   "id": "70891d25-2a85-4630-b45f-965e95029229",
   "metadata": {},
   "outputs": [],
   "source": [
    "def five_years(original_trading_data,ticker):\n",
    "    \"\"\"arg: 5 years of data; ticker string, i.e. 'SPY'\n",
    "    return: list of data chopped into yearly periods\"\"\"\n",
    "    \n",
    "    evaporating_data = [td for td in original_trading_data]\n",
    "    ticker = ticker.lower()\n",
    "    years = [1,2,3,4]\n",
    "    d0 = date_transform(original_trading_data[0][0])\n",
    "    d0_transformed = date_transform(evaporating_data[0][0])\n",
    "    for year in years:\n",
    "        placeholder = f'{ticker}_{year}'\n",
    "        globals()[placeholder] = [evaporating_data.pop(0) for _ in \n",
    "                                 evaporating_data \n",
    "                                if  date_transform(evaporating_data[0][0]) < \n",
    "                                 d0+year*2080]\n",
    "    placeholder = f'{ticker}_5'\n",
    "    globals()[placeholder]=evaporating_data\n",
    "    placeholder = f'{ticker}_1_5'\n",
    "    globals()[placeholder] = [td for td in original_trading_data] # all years    \n",
    "    # split_yearly = eval(f'[{ticker}_{year} for year in years]')\n",
    "    print(f'{ticker}_year, i.e {ticker}_1, {ticker}_2, ... {ticker}_5,\\\n",
    " {ticker}_1_5 are now in the local namespace.')"
   ]
  },
  {
   "cell_type": "markdown",
   "id": "eea8c627-7062-40c5-9431-6657dcba9ef4",
   "metadata": {
    "tags": []
   },
   "source": [
    "###### GME"
   ]
  },
  {
   "cell_type": "code",
   "execution_count": 34,
   "id": "6cd61eee-f837-4ef3-a246-ca5f3f3a0912",
   "metadata": {},
   "outputs": [
    {
     "name": "stdout",
     "output_type": "stream",
     "text": [
      "gme_year, i.e gme_1, gme_2, ... gme_5, gme_1_5 are now in the local namespace.\n"
     ]
    }
   ],
   "source": [
    "five_years(gme_daily_profits,'gme')"
   ]
  },
  {
   "cell_type": "markdown",
   "id": "2552e1e8-83cf-47cb-853a-d89584039c79",
   "metadata": {},
   "source": [
    "verify that the year separations are correct"
   ]
  },
  {
   "cell_type": "code",
   "execution_count": 35,
   "id": "c4cb3cb5-8766-4e8f-a0c0-08c69cb88266",
   "metadata": {},
   "outputs": [
    {
     "name": "stdout",
     "output_type": "stream",
     "text": [
      "(2018, 9, 5),(2019, 9, 4),(2019, 9, 5),(2020, 9, 4),(2020, 9, 8),(2021, 9, 3),(2021, 9, 7),(2022, 9, 1),(2022, 9, 2),(2023, 8, 30),(2018, 9, 5),(2023, 8, 30)\n"
     ]
    }
   ],
   "source": [
    "print('{},{},{},{},{},{},{},{},{},{},{},{}'.format(gme_1[0][0],gme_1[-1][0],\n",
    "                                    gme_2[0][0],gme_2[-1][0],gme_3[0][0],\n",
    "                                    gme_3[-1][0],gme_4[0][0],gme_4[-1][0],\n",
    "                                    gme_5[0][0],gme_5[-1][0],gme_1_5[0][0], \n",
    "                                    gme_1_5[-1][0]\n",
    "                                   ))"
   ]
  },
  {
   "cell_type": "code",
   "execution_count": 36,
   "id": "1ef5ab68-c00b-430b-98dc-67ef94c5f365",
   "metadata": {},
   "outputs": [
    {
     "data": {
      "text/plain": [
       "1255"
      ]
     },
     "execution_count": 36,
     "metadata": {},
     "output_type": "execute_result"
    }
   ],
   "source": [
    "len(gme_daily_profits)"
   ]
  },
  {
   "cell_type": "code",
   "execution_count": 37,
   "id": "6ae668d8-e13a-467b-825c-fc7be80d13c1",
   "metadata": {},
   "outputs": [
    {
     "data": {
      "text/plain": [
       "1255"
      ]
     },
     "execution_count": 37,
     "metadata": {},
     "output_type": "execute_result"
    }
   ],
   "source": [
    "sum([len(p) for p in [gme_1,gme_2,gme_3,gme_4,gme_5]])"
   ]
  },
  {
   "cell_type": "code",
   "execution_count": 38,
   "id": "a6552148-fc29-4ca2-8eb3-fa4c8efd6baa",
   "metadata": {
    "tags": []
   },
   "outputs": [
    {
     "data": {
      "text/plain": [
       "[((2022, 9, 2), -3.1847133757961856, 'long'),\n",
       " ((2022, 9, 6), 2.368932038834949, 'short'),\n",
       " ((2022, 9, 7), 2.790133441164583, 'short'),\n",
       " ((2022, 9, 8), 3.319999999999993, 'long'),\n",
       " ((2022, 9, 9), 9.961977186311792, 'long'),\n",
       " ((2022, 9, 12), 0.7233895969686438, 'long'),\n",
       " ((2022, 9, 13), -1.642335766423368, 'short'),\n",
       " ((2022, 9, 14), -2.068214804063862, 'short'),\n",
       " ((2022, 9, 15), -2.6920315865039486, 'short'),\n",
       " ((2022, 9, 16), -1.0942463819272936, 'short'),\n",
       " ((2022, 9, 19), -2.187720536344393, 'short'),\n",
       " ((2022, 9, 20), -5.942622950819679, 'long'),\n",
       " ((2022, 9, 21), 2.149362477231329, 'short'),\n",
       " ((2022, 9, 22), -9.0909090909091, 'long'),\n",
       " ((2022, 9, 23), -3.68530020703934, 'short'),\n",
       " ((2022, 9, 26), 0.7299270072992688, 'short'),\n",
       " ((2022, 9, 27), 2.5912838633686697, 'long'),\n",
       " ((2022, 9, 28), -5.484743144071063, 'short'),\n",
       " ((2022, 9, 29), 5.982274741506638, 'short'),\n",
       " ((2022, 9, 30), -0.39952057530961993, 'short'),\n",
       " ((2022, 10, 3), 0.9546539379474878, 'long'),\n",
       " ((2022, 10, 4), 6.358381502890182, 'long'),\n",
       " ((2022, 10, 5), 1.4194994396712701, 'short'),\n",
       " ((2022, 10, 6), 1.1411182959300141, 'short'),\n",
       " ((2022, 10, 7), 1.8962848297213561, 'short'),\n",
       " ((2022, 10, 10), -1.458415451320461, 'long'),\n",
       " ((2022, 10, 11), -1.6083634901487678, 'short'),\n",
       " ((2022, 10, 12), -2.311248073959944, 'long'),\n",
       " ((2022, 10, 13), -4.668304668304656, 'short'),\n",
       " ((2022, 10, 14), -4.42374854481956, 'long'),\n",
       " ((2022, 10, 17), 2.3255813953488365, 'long'),\n",
       " ((2022, 10, 18), -1.5867158671586705, 'long'),\n",
       " ((2022, 10, 19), 5.6153846153846185, 'short'),\n",
       " ((2022, 10, 20), -0.9736308316429957, 'long'),\n",
       " ((2022, 10, 21), -4.761904761904771, 'short'),\n",
       " ((2022, 10, 24), 1.1599999999999966, 'short'),\n",
       " ((2022, 10, 25), 8.25946817082998, 'long'),\n",
       " ((2022, 10, 26), 3.602578687902917, 'short'),\n",
       " ((2022, 10, 27), 0.6990291262135911, 'long'),\n",
       " ((2022, 10, 28), 4.799107142857153, 'long'),\n",
       " ((2022, 10, 31), -9.320948110185778, 'long'),\n",
       " ((2022, 11, 1), -3.4353741496598573, 'long'),\n",
       " ((2022, 11, 2), 4.587813620071676, 'short'),\n",
       " ((2022, 11, 3), -1.115384615384612, 'short'),\n",
       " ((2022, 11, 4), -0.3383458646616536, 'long'),\n",
       " ((2022, 11, 7), 1.8666666666666607, 'short'),\n",
       " ((2022, 11, 8), 0.7500986971969907, 'short'),\n",
       " ((2022, 11, 9), 5.865580448065178, 'short'),\n",
       " ((2022, 11, 10), 1.0560519902518197, 'long'),\n",
       " ((2022, 11, 11), -5.326876513317192, 'short'),\n",
       " ((2022, 11, 14), -0.9505703422053232, 'long'),\n",
       " ((2022, 11, 15), 3.7608123354644603, 'long'),\n",
       " ((2022, 11, 16), -1.9534184823441005, 'short'),\n",
       " ((2022, 11, 17), -5.551330798479091, 'short'),\n",
       " ((2022, 11, 18), -1.988636363636359, 'long'),\n",
       " ((2022, 11, 21), 5.626406601650412, 'short'),\n",
       " ((2022, 11, 22), -4.655789892558702, 'short'),\n",
       " ((2022, 11, 23), -3.0092592592592498, 'short'),\n",
       " ((2022, 11, 25), 1.245283018867918, 'short'),\n",
       " ((2022, 11, 28), 1.938735944164405, 'short'),\n",
       " ((2022, 11, 29), 0.07818608287726007, 'long'),\n",
       " ((2022, 11, 30), 1.1969111969112058, 'long'),\n",
       " ((2022, 12, 1), -2.3076923076923133, 'short'),\n",
       " ((2022, 12, 2), -4.838095238095236, 'short'),\n",
       " ((2022, 12, 5), 6.407909190772611, 'short'),\n",
       " ((2022, 12, 6), 7.949626131444312, 'short'),\n",
       " ((2022, 12, 7), -4.871794871794859, 'long'),\n",
       " ((2022, 12, 8), -12.68181818181818, 'short'),\n",
       " ((2022, 12, 9), 7.970719804798702, 'short'),\n",
       " ((2022, 12, 12), 0.0441306266549054, 'long'),\n",
       " ((2022, 12, 13), -10.828025477707008, 'long'),\n",
       " ((2022, 12, 14), -0.660689004247289, 'long'),\n",
       " ((2022, 12, 15), 0.7714561234329805, 'short'),\n",
       " ((2022, 12, 16), -1.5625000000000013, 'short'),\n",
       " ((2022, 12, 19), 3.0656934306569297, 'short'),\n",
       " ((2022, 12, 20), -2.0140986908358616, 'short'),\n",
       " ((2022, 12, 21), 0.7843137254901968, 'long'),\n",
       " ((2022, 12, 22), 3.3658536585365915, 'short'),\n",
       " ((2022, 12, 23), 0.3999999999999915, 'long'),\n",
       " ((2022, 12, 27), 8.588648920140637, 'short'),\n",
       " ((2022, 12, 28), -2.0229633679606205, 'long'),\n",
       " ((2022, 12, 29), 1.1589403973509784, 'long'),\n",
       " ((2022, 12, 30), -2.841225626740956, 'short'),\n",
       " ((2023, 1, 3), -7.725321888412023, 'long'),\n",
       " ((2023, 1, 4), 0.405797101449277, 'long'),\n",
       " ((2023, 1, 5), 4.92379835873388, 'short'),\n",
       " ((2023, 1, 6), -2.8750000000000053, 'short'),\n",
       " ((2023, 1, 9), -1.6216216216216193, 'long'),\n",
       " ((2023, 1, 10), -9.018404907975453, 'short'),\n",
       " ((2023, 1, 11), 4.67289719626167, 'long'),\n",
       " ((2023, 1, 12), 0, 'no_trade'),\n",
       " ((2023, 1, 13), -3.0684104627766575, 'short'),\n",
       " ((2023, 1, 17), 0, 'no_trade'),\n",
       " ((2023, 1, 18), -5.542935029532041, 'long'),\n",
       " ((2023, 1, 19), 6.84931506849316, 'short'),\n",
       " ((2023, 1, 20), 2.939632545931752, 'long'),\n",
       " ((2023, 1, 23), -11.076923076923078, 'short'),\n",
       " ((2023, 1, 24), -0.4694835680751074, 'short'),\n",
       " ((2023, 1, 25), 1.7484215638659515, 'short'),\n",
       " ((2023, 1, 26), -2.9112081513828136, 'long'),\n",
       " ((2023, 1, 27), -15.252525252525249, 'short'),\n",
       " ((2023, 1, 30), 5.555555555555555, 'short'),\n",
       " ((2023, 1, 31), 2.1485287248949128, 'long'),\n",
       " ((2023, 2, 1), -1.5821312238250342, 'short'),\n",
       " ((2023, 2, 2), 1.1586452762923263, 'long'),\n",
       " ((2023, 2, 3), -1.0904134484325234, 'short'),\n",
       " ((2023, 2, 6), -9.049360146252289, 'short'),\n",
       " ((2023, 2, 7), 7.739130434782613, 'short'),\n",
       " ((2023, 2, 8), -1.5398973401773135, 'long'),\n",
       " ((2023, 2, 9), -7.435294117647051, 'long'),\n",
       " ((2023, 2, 10), 1.482617586912061, 'short'),\n",
       " ((2023, 2, 13), 2.020725388601039, 'long'),\n",
       " ((2023, 2, 14), -2.9000517866390587, 'short'),\n",
       " ((2023, 2, 15), -10.1010101010101, 'short'),\n",
       " ((2023, 2, 16), -1.6470588235294186, 'short'),\n",
       " ((2023, 2, 17), -3.3850493653032383, 'short'),\n",
       " ((2023, 2, 21), 3.141115799343639, 'short'),\n",
       " ((2023, 2, 22), 0.04870920603994917, 'short'),\n",
       " ((2023, 2, 23), -2.516940948693125, 'long'),\n",
       " ((2023, 2, 24), 0.8625063419584054, 'short'),\n",
       " ((2023, 2, 27), -2.6007139214686283, 'long'),\n",
       " ((2023, 2, 28), -0.8919202518363154, 'short'),\n",
       " ((2023, 3, 1), 4.069767441860481, 'short'),\n",
       " ((2023, 3, 2), 0, 'no_trade'),\n",
       " ((2023, 3, 3), 0, 'no_trade'),\n",
       " ((2023, 3, 6), -0.7019438444924353, 'short'),\n",
       " ((2023, 3, 7), 2.588996763754048, 'short'),\n",
       " ((2023, 3, 8), -0.6648199445983434, 'short'),\n",
       " ((2023, 3, 9), 3.0437188710570044, 'short'),\n",
       " ((2023, 3, 10), -1.5972618368511189, 'long'),\n",
       " ((2023, 3, 13), 0.1192605843768609, 'short'),\n",
       " ((2023, 3, 14), -2.648244099021306, 'long'),\n",
       " ((2023, 3, 15), 3.3333333333333375, 'short'),\n",
       " ((2023, 3, 16), 4.75000000000001, 'long'),\n",
       " ((2023, 3, 17), 0.12033694344163402, 'short'),\n",
       " ((2023, 3, 20), 1.321321321321336, 'long'),\n",
       " ((2023, 3, 21), 2.915451895043732, 'long'),\n",
       " ((2023, 3, 22), -10.263157894736844, 'long'),\n",
       " ((2023, 3, 23), -0.04430660168364205, 'short'),\n",
       " ((2023, 3, 24), -7.437275985663083, 'short'),\n",
       " ((2023, 3, 27), -4.126719466444346, 'long'),\n",
       " ((2023, 3, 28), -0.7836308228123628, 'short'),\n",
       " ((2023, 3, 29), 2.686308492201029, 'short'),\n",
       " ((2023, 3, 30), -0.44247787610620093, 'long'),\n",
       " ((2023, 3, 31), -2.9977628635346676, 'short'),\n",
       " ((2023, 4, 3), -1.002615518744553, 'short'),\n",
       " ((2023, 4, 4), 1.7582417582417522, 'short'),\n",
       " ((2023, 4, 5), -1.7801513128615871, 'long'),\n",
       " ((2023, 4, 6), -1.818181818181812, 'short'),\n",
       " ((2023, 4, 10), -2.3798627002288306, 'short'),\n",
       " ((2023, 4, 11), 0.5316792202038148, 'long'),\n",
       " ((2023, 4, 12), -2.7947598253274983, 'long'),\n",
       " ((2023, 4, 13), 0.2222222222222254, 'long'),\n",
       " ((2023, 4, 14), -1.2313104661389518, 'long'),\n",
       " ((2023, 4, 17), -0.044903457566239625, 'short'),\n",
       " ((2023, 4, 18), 2.3938572719060573, 'short'),\n",
       " ((2023, 4, 19), -0.14097744360901118, 'short'),\n",
       " ((2023, 4, 20), 3.160919540229886, 'short'),\n",
       " ((2023, 4, 21), -1.4356435643564314, 'short'),\n",
       " ((2023, 4, 24), 1.091811414392054, 'short'),\n",
       " ((2023, 4, 25), 3.748733535967571, 'short'),\n",
       " ((2023, 4, 26), 1.7386722866175017, 'short'),\n",
       " ((2023, 4, 27), 1.01333333333334, 'long'),\n",
       " ((2023, 4, 28), -1.955602536997872, 'short'),\n",
       " ((2023, 5, 1), 3.1837160751565734, 'short'),\n",
       " ((2023, 5, 2), -0.7046070460704553, 'short'),\n",
       " ((2023, 5, 3), -1.8318965517241372, 'short'),\n",
       " ((2023, 5, 4), 0.5194805194805269, 'long'),\n",
       " ((2023, 5, 5), 4.0774719673802275, 'long'),\n",
       " ((2023, 5, 8), 0.24437927663734463, 'long'),\n",
       " ((2023, 5, 9), -0.39682539682538837, 'short'),\n",
       " ((2023, 5, 10), 1.5158924205379085, 'long'),\n",
       " ((2023, 5, 11), -0.9183180280328551, 'short'),\n",
       " ((2023, 5, 12), 0.6721075372059386, 'short'),\n",
       " ((2023, 5, 15), -4.849660523763336, 'short'),\n",
       " ((2023, 5, 16), -2.2790697674418534, 'short'),\n",
       " ((2023, 5, 17), 0, 'no_trade'),\n",
       " ((2023, 5, 18), 0.6550218340611448, 'long'),\n",
       " ((2023, 5, 19), 3.836094158674815, 'short'),\n",
       " ((2023, 5, 22), 9.547511312217193, 'long'),\n",
       " ((2023, 5, 23), 3.0556718292172476, 'short'),\n",
       " ((2023, 5, 24), -0.6052745352356272, 'short'),\n",
       " ((2023, 5, 25), -0.6382978723404195, 'long'),\n",
       " ((2023, 5, 26), -0.9373668512995266, 'long'),\n",
       " ((2023, 5, 30), 5.22483940042826, 'long'),\n",
       " ((2023, 5, 31), 1.8767849857201175, 'short'),\n",
       " ((2023, 6, 1), -0.2495840266223056, 'short'),\n",
       " ((2023, 6, 2), 1.440922190201735, 'long'),\n",
       " ((2023, 6, 5), 0.896860986547095, 'short'),\n",
       " ((2023, 6, 6), -2.832153269471052, 'short'),\n",
       " ((2023, 6, 7), -0.34351145038167885, 'long'),\n",
       " ((2023, 6, 8), -5.615763546798033, 'short'),\n",
       " ((2023, 6, 9), 4.132231404958671, 'long'),\n",
       " ((2023, 6, 12), 6.345733041575489, 'long'),\n",
       " ((2023, 6, 13), 2.8625954198473282, 'long'),\n",
       " ((2023, 6, 14), 3.8173652694610762, 'short'),\n",
       " ((2023, 6, 15), 2.243211334120426, 'short'),\n",
       " ((2023, 6, 16), -1.8385291766586767, 'long'),\n",
       " ((2023, 6, 20), -0.6964358869315779, 'short'),\n",
       " ((2023, 6, 21), -1.6505636070853469, 'long'),\n",
       " ((2023, 6, 22), -0.7874015748031549, 'short'),\n",
       " ((2023, 6, 23), 0.3364171572750288, 'short'),\n",
       " ((2023, 6, 26), 1.539777587681777, 'short'),\n",
       " ((2023, 6, 27), 1.2451696006869866, 'long'),\n",
       " ((2023, 6, 28), -6.569965870307164, 'short'),\n",
       " ((2023, 6, 29), 0.2403846153846245, 'short'),\n",
       " ((2023, 6, 30), -2.8834601521826144, 'long'),\n",
       " ((2023, 7, 3), 2.5524907369287813, 'long'),\n",
       " ((2023, 7, 5), 3.0032467532467613, 'short'),\n",
       " ((2023, 7, 6), 2.933673469387761, 'short'),\n",
       " ((2023, 7, 7), -1.1319111885067394, 'long'),\n",
       " ((2023, 7, 10), -4.113224237063245, 'short'),\n",
       " ((2023, 7, 11), -3.060344827586211, 'short'),\n",
       " ((2023, 7, 12), -3.3402061855670047, 'long'),\n",
       " ((2023, 7, 13), -0.3398470688190242, 'long'),\n",
       " ((2023, 7, 14), -2.213707960834396, 'long'),\n",
       " ((2023, 7, 17), 0.2622377622377567, 'short'),\n",
       " ((2023, 7, 18), -1.5845070422535188, 'short'),\n",
       " ((2023, 7, 19), -1.067463706233988, 'long'),\n",
       " ((2023, 7, 20), 0.4345936549326442, 'short'),\n",
       " ((2023, 7, 21), -3.7744034707158396, 'long'),\n",
       " ((2023, 7, 24), 2.7653880463871428, 'long'),\n",
       " ((2023, 7, 25), -1.0822510822510822, 'long'),\n",
       " ((2023, 7, 26), 0.0, 'short'),\n",
       " ((2023, 7, 27), -3.138622493461214, 'long'),\n",
       " ((2023, 7, 28), 0.4087193460490457, 'short'),\n",
       " ((2023, 7, 31), 0.909090909090906, 'long'),\n",
       " ((2023, 8, 1), 2.0501138952163975, 'short'),\n",
       " ((2023, 8, 2), 1.5130023640661954, 'short'),\n",
       " ((2023, 8, 3), 0.23946360153257049, 'long'),\n",
       " ((2023, 8, 4), 0.14319809069212955, 'long'),\n",
       " ((2023, 8, 7), -0.813397129186611, 'short'),\n",
       " ((2023, 8, 8), -0.1932367149758413, 'short'),\n",
       " ((2023, 8, 9), -4.412470023980823, 'long'),\n",
       " ((2023, 8, 10), 0.9500000000000064, 'long'),\n",
       " ((2023, 8, 11), -0.7988017973040447, 'short'),\n",
       " ((2023, 8, 14), -1.0632911392405107, 'short'),\n",
       " ((2023, 8, 15), 2.2255943348507907, 'short'),\n",
       " ((2023, 8, 16), 3.0761209593326373, 'short'),\n",
       " ((2023, 8, 17), -2.182011708355509, 'long'),\n",
       " ((2023, 8, 18), -0.9900990099009884, 'short'),\n",
       " ((2023, 8, 21), -0.9836065573770476, 'short'),\n",
       " ((2023, 8, 22), -7.303974221267451, 'long'),\n",
       " ((2023, 8, 23), 2.0869565217391273, 'short'),\n",
       " ((2023, 8, 24), -3.4238488783943435, 'long'),\n",
       " ((2023, 8, 25), 3.818181818181812, 'long'),\n",
       " ((2023, 8, 28), 1.268011527377515, 'long'),\n",
       " ((2023, 8, 29), 3.6363636363636194, 'long'),\n",
       " ((2023, 8, 30), -0.9340659340659434, 'short')]"
      ]
     },
     "execution_count": 38,
     "metadata": {},
     "output_type": "execute_result"
    }
   ],
   "source": [
    "gme_5"
   ]
  },
  {
   "cell_type": "markdown",
   "id": "d2f47e54-999e-4f33-bc11-f746a87d6faa",
   "metadata": {},
   "source": [
    "No missing vals. Hurray!"
   ]
  },
  {
   "cell_type": "code",
   "execution_count": 39,
   "id": "46c0ea18-19c2-4867-8ec4-f298f296908a",
   "metadata": {},
   "outputs": [
    {
     "data": {
      "text/plain": [
       "[251, 254, 251, 250, 249, 1255]"
      ]
     },
     "execution_count": 39,
     "metadata": {},
     "output_type": "execute_result"
    }
   ],
   "source": [
    "[len(p) for p in [gme_1,gme_2,gme_3,gme_4,gme_5,gme_1_5]]"
   ]
  },
  {
   "cell_type": "markdown",
   "id": "2eddb251-32a6-490c-8e6c-079abb154d45",
   "metadata": {},
   "source": [
    "~ 252 trading days per year.  Hurray!"
   ]
  },
  {
   "cell_type": "markdown",
   "id": "cca5f294-2ba4-466a-b55c-dcfd7641c526",
   "metadata": {
    "tags": []
   },
   "source": [
    "###### SPY"
   ]
  },
  {
   "cell_type": "code",
   "execution_count": 40,
   "id": "572c0fa8-b398-4ea8-8b37-b17fd7ab0deb",
   "metadata": {},
   "outputs": [
    {
     "name": "stdout",
     "output_type": "stream",
     "text": [
      "spy_year, i.e spy_1, spy_2, ... spy_5, spy_1_5 are now in the local namespace.\n"
     ]
    }
   ],
   "source": [
    "five_years(spy_daily_profits,'spy')"
   ]
  },
  {
   "cell_type": "markdown",
   "id": "70e26192-36e7-4a24-ae79-793e067eaee1",
   "metadata": {},
   "source": [
    "verify that the year separations are correct"
   ]
  },
  {
   "cell_type": "code",
   "execution_count": 41,
   "id": "446da691-afca-473f-80db-d3cb7283bb19",
   "metadata": {},
   "outputs": [
    {
     "data": {
      "text/plain": [
       "1255"
      ]
     },
     "execution_count": 41,
     "metadata": {},
     "output_type": "execute_result"
    }
   ],
   "source": [
    "len(spy_daily_profits)"
   ]
  },
  {
   "cell_type": "code",
   "execution_count": 42,
   "id": "7e1a287f-3902-40d2-9d71-329daa64daf1",
   "metadata": {},
   "outputs": [
    {
     "name": "stdout",
     "output_type": "stream",
     "text": [
      "(2018, 9, 5),(2019, 9, 4),(2019, 9, 5),(2020, 9, 4),(2020, 9, 8),(2021, 9, 3),(2021, 9, 7),(2022, 9, 1),(2022, 9, 2),(2023, 8, 30)\n"
     ]
    }
   ],
   "source": [
    "print('{},{},{},{},{},{},{},{},{},{}'.format(spy_1[0][0],spy_1[-1][0],\n",
    "                                    spy_2[0][0],spy_2[-1][0],spy_3[0][0],\n",
    "                                    spy_3[-1][0],spy_4[0][0],spy_4[-1][0],\n",
    "                                    spy_5[0][0],spy_5[-1][0]\n",
    "                                   ))"
   ]
  },
  {
   "cell_type": "code",
   "execution_count": 43,
   "id": "b8a03f17-29d7-4c26-9873-50b62db691c5",
   "metadata": {},
   "outputs": [
    {
     "data": {
      "text/plain": [
       "[251, 254, 251, 250, 249]"
      ]
     },
     "execution_count": 43,
     "metadata": {},
     "output_type": "execute_result"
    }
   ],
   "source": [
    "[len(p) for p in [spy_1,spy_2,spy_3,spy_4,spy_5]]"
   ]
  },
  {
   "cell_type": "markdown",
   "id": "53bf270b-691b-41fd-8e63-db71e8cd3940",
   "metadata": {},
   "source": [
    "~252 trades per day.  Hurray!"
   ]
  },
  {
   "cell_type": "markdown",
   "id": "aa336e6f-5a93-4806-aba9-8ac2d5ec7e08",
   "metadata": {},
   "source": [
    "No missing vals. Hurray!"
   ]
  },
  {
   "cell_type": "code",
   "execution_count": 44,
   "id": "8e09868b-4ebe-404d-8594-9ea48c2b7169",
   "metadata": {},
   "outputs": [
    {
     "name": "stdout",
     "output_type": "stream",
     "text": [
      "(2018, 9, 5),(2019, 9, 4),(2019, 9, 5),(2020, 9, 4),(2020, 9, 8),(2021, 9, 3),(2021, 9, 7),(2022, 9, 1),(2022, 9, 2),(2023, 8, 30),(2018, 9, 5),(2023, 8, 30)\n"
     ]
    }
   ],
   "source": [
    "print('{},{},{},{},{},{},{},{},{},{},{},{}'.format(spy_1[0][0],spy_1[-1][0],\n",
    "                                    spy_2[0][0],spy_2[-1][0],spy_3[0][0],\n",
    "                                    spy_3[-1][0],spy_4[0][0],spy_4[-1][0],\n",
    "                                    spy_5[0][0],spy_5[-1][0],spy_1_5[0][0], \n",
    "                                    spy_1_5[-1][0]\n",
    "                                   ))"
   ]
  },
  {
   "cell_type": "code",
   "execution_count": 45,
   "id": "e516c0c0-dba5-451e-a9f1-29c60b14652c",
   "metadata": {},
   "outputs": [
    {
     "data": {
      "text/plain": [
       "1255"
      ]
     },
     "execution_count": 45,
     "metadata": {},
     "output_type": "execute_result"
    }
   ],
   "source": [
    "sum([len(p) for p in [spy_1,spy_2,spy_3,spy_4,spy_5]])"
   ]
  },
  {
   "cell_type": "markdown",
   "id": "bdb6903d-e8e9-431f-8299-26623389fdd4",
   "metadata": {},
   "source": [
    "No missing vals. Hurray!"
   ]
  },
  {
   "cell_type": "code",
   "execution_count": 46,
   "id": "bc5ae059-003a-402b-ba61-d931d60aaff6",
   "metadata": {},
   "outputs": [
    {
     "data": {
      "text/plain": [
       "[251, 254, 251, 250, 249, 1255]"
      ]
     },
     "execution_count": 46,
     "metadata": {},
     "output_type": "execute_result"
    }
   ],
   "source": [
    "[len(p) for p in [spy_1,spy_2,spy_3,spy_4,spy_5,spy_1_5]]"
   ]
  },
  {
   "cell_type": "markdown",
   "id": "c032b7a5-8be0-4654-b5a3-9355d04ee150",
   "metadata": {},
   "source": [
    "~ 252 trading days per year.  Hurray!"
   ]
  },
  {
   "cell_type": "markdown",
   "id": "c6e80924-e2f0-45b3-94c0-155fafdac67b",
   "metadata": {
    "tags": []
   },
   "source": [
    "##### stock metrics"
   ]
  },
  {
   "cell_type": "code",
   "execution_count": 47,
   "id": "2cf9c345-4038-4514-81eb-640536ec3747",
   "metadata": {},
   "outputs": [],
   "source": [
    "def markdown_table(stats):\n",
    "    headers = ['Year', '|S|', 'P(S)', 'P(S)/|S|',\n",
    "               '|L|', 'P(L)','P(L)/|L|','|S+L|', 'P(S+L)', 'P(S+L)/|S+L|']\n",
    "    w_year = [val for (y,s) in \n",
    "        zip(['1','2','3','4','5','1_5'], [list(tup) for tup in stats]) for val in (y,s)]\n",
    "    w_year_all_list = [[val] if type(val) != list else val for val in w_year]\n",
    "    w_year_flat = [val for val_list in w_year_all_list for val in val_list]\n",
    "    flattened_stats = headers + [v if type(v)==str else str(v) for v in w_year_flat]\n",
    "    print(\"\\n\\\n",
    "    {:5s} | {:4s} | {:8s} | {:8s} | {:4s} | {:8s} | {:8s} | {:5s} | {:6s} | {:12s}\\n\\\n",
    "    ------------------------------------------------------------------------------------------------\\n\\\n",
    "    {:5s} | {:4s} | {:8s} | {:8s} | {:4s} | {:8s} | {:8s} | {:5s} | {:6s} | {:12s}\\n\\\n",
    "    {:5s} | {:4s} | {:8s} | {:8s} | {:4s} | {:8s} | {:8s} | {:5s} | {:6s} | {:12s}\\n\\\n",
    "    {:5s} | {:4s} | {:8s} | {:8s} | {:4s} | {:8s} | {:8s} | {:5s} | {:6s} | {:12s}\\n\\\n",
    "    {:5s} | {:4s} | {:8s} | {:8s} | {:4s} | {:8s} | {:8s} | {:5s} | {:6s} | {:12s}\\n\\\n",
    "    {:5s} | {:4s} | {:8s} | {:8s} | {:4s} | {:8s} | {:8s} | {:5s} | {:6s} | {:12s}\\n\\\n",
    "    {:5s} | {:4s} | {:8s} | {:8s} | {:4s} | {:8s} | {:8s} | {:5s} | {:6s} | {:12s}\".format(*flattened_stats))"
   ]
  },
  {
   "cell_type": "code",
   "execution_count": 48,
   "id": "6ca94174-641e-4cb0-9f13-2b241ef22854",
   "metadata": {},
   "outputs": [
    {
     "data": {
      "text/plain": [
       "[(506, -133.86, -0.26, 609, -505.09, -0.83, 1115, -638.95, -0.57)]"
      ]
     },
     "execution_count": 48,
     "metadata": {},
     "output_type": "execute_result"
    }
   ],
   "source": [
    "trading_stats([gme_daily_profits])"
   ]
  },
  {
   "cell_type": "code",
   "execution_count": 49,
   "id": "9372f1ef-2876-4ac0-aeaa-4b4ca2e22c75",
   "metadata": {},
   "outputs": [
    {
     "data": {
      "text/plain": [
       "[(21, 36.12, 1.72, 1234, -5048.57, -4.09, 1255, -5012.45, -3.99)]"
      ]
     },
     "execution_count": 49,
     "metadata": {},
     "output_type": "execute_result"
    }
   ],
   "source": [
    "trading_stats([spy_daily_profits])"
   ]
  },
  {
   "cell_type": "markdown",
   "id": "992d041b-8a03-4380-9e3a-27d255a550f4",
   "metadata": {
    "tags": []
   },
   "source": [
    "###### GME Statistics"
   ]
  },
  {
   "cell_type": "code",
   "execution_count": 50,
   "id": "e3658999-899f-4d8d-80e4-ec2fc653665d",
   "metadata": {},
   "outputs": [
    {
     "name": "stdout",
     "output_type": "stream",
     "text": [
      "\n",
      "    Year  | |S|  | P(S)     | P(S)/|S| | |L|  | P(L)     | P(L)/|L| | |S+L| | P(S+L) | P(S+L)/|S+L|\n",
      "    ------------------------------------------------------------------------------------------------\n",
      "    1     | 36   | 44.31    | 1.23     | 165  | -588.65  | -3.57    | 201   | -544.34 | -2.71       \n",
      "    2     | 91   | -86.92   | -0.96    | 89   | 68.61    | 0.77     | 180   | -18.31 | -0.1        \n",
      "    3     | 101  | -13.2    | -0.13    | 143  | 107.45   | 0.75     | 244   | 94.25  | 0.39        \n",
      "    4     | 136  | -53.97   | -0.4     | 110  | -57.29   | -0.52    | 246   | -111.26 | -0.45       \n",
      "    5     | 142  | -24.08   | -0.17    | 102  | -35.2    | -0.35    | 244   | -59.29 | -0.24       \n",
      "    1_5   | 506  | -133.86  | -0.26    | 609  | -505.09  | -0.83    | 1115  | -638.95 | -0.57       \n"
     ]
    }
   ],
   "source": [
    "markdown_table(trading_stats([gme_1,gme_2,gme_3,gme_4,gme_5,gme_1_5]))"
   ]
  },
  {
   "cell_type": "markdown",
   "id": "b9a3ff4c-1e19-49e3-b3e8-570b38089999",
   "metadata": {},
   "source": [
    "###### SPY Statistics"
   ]
  },
  {
   "cell_type": "code",
   "execution_count": 51,
   "id": "a6c18670-0af0-4563-980e-b1c2697430dc",
   "metadata": {},
   "outputs": [
    {
     "name": "stdout",
     "output_type": "stream",
     "text": [
      "\n",
      "    Year  | |S|  | P(S)     | P(S)/|S| | |L|  | P(L)     | P(L)/|L| | |S+L| | P(S+L) | P(S+L)/|S+L|\n",
      "    ------------------------------------------------------------------------------------------------\n",
      "    1     | 0    | 0        | 0        | 251  | -1853.09 | -7.38    | 251   | -1853.09 | -7.38       \n",
      "    2     | 4    | 25.17    | 6.29     | 250  | -1366.6  | -5.47    | 254   | -1341.44 | -5.28       \n",
      "    3     | 0    | 0        | 0        | 251  | -965.37  | -3.85    | 251   | -965.37 | -3.85       \n",
      "    4     | 1    | 3.62     | 3.62     | 249  | -638.28  | -2.56    | 250   | -634.66 | -2.54       \n",
      "    5     | 16   | 7.33     | 0.46     | 233  | -225.22  | -0.97    | 249   | -217.89 | -0.88       \n",
      "    1_5   | 21   | 36.12    | 1.72     | 1234 | -5048.57 | -4.09    | 1255  | -5012.45 | -3.99       \n"
     ]
    }
   ],
   "source": [
    "markdown_table(trading_stats([spy_1,spy_2,spy_3,spy_4,spy_5,spy_1_5]))"
   ]
  },
  {
   "cell_type": "markdown",
   "id": "1af1c162-6387-4cb9-83c5-858e7308b706",
   "metadata": {},
   "source": [
    "##### With restriction"
   ]
  },
  {
   "cell_type": "markdown",
   "id": "a7ab2523-a4e1-457c-83c1-4f1f7ccc753c",
   "metadata": {},
   "source": [
    "GME"
   ]
  },
  {
   "cell_type": "code",
   "execution_count": 52,
   "id": "6187cecb-635e-4b7d-9ab7-0702946f79e0",
   "metadata": {
    "tags": []
   },
   "outputs": [],
   "source": [
    "h_p_gme = []\n",
    "for i in range(0,100):\n",
    "    h_p = i/1000\n",
    "    h_p_gme = h_p_gme + [(h_p, trading_stats([get_daily_profits(gme_prices,h_p)])[-1][-1])]"
   ]
  },
  {
   "cell_type": "markdown",
   "id": "fe00a137-8995-4d4d-a25a-37343206f411",
   "metadata": {},
   "source": [
    "SPY"
   ]
  },
  {
   "cell_type": "code",
   "execution_count": 53,
   "id": "72b51734-3764-400f-8d74-6dd923a29341",
   "metadata": {},
   "outputs": [],
   "source": [
    "h_p_spy = []\n",
    "for i in range(0,100):\n",
    "    h_p = i/1000\n",
    "    h_p_spy = h_p_spy + [(h_p, trading_stats([get_daily_profits(spy_prices,h_p)])[-1][-1])]"
   ]
  },
  {
   "cell_type": "markdown",
   "id": "8d0f0aa7-9f35-48ac-82c6-efeb7180ecfe",
   "metadata": {},
   "source": [
    "Zipped"
   ]
  },
  {
   "cell_type": "code",
   "execution_count": 54,
   "id": "7a1394c6-dfb5-434b-ba36-d1e364e7b177",
   "metadata": {
    "tags": []
   },
   "outputs": [
    {
     "data": {
      "text/plain": [
       "[((0.0, -0.57), (0.0, -3.99)),\n",
       " ((0.001, -0.57), (0.001, -4.03)),\n",
       " ((0.002, -0.59), (0.002, -4.07)),\n",
       " ((0.003, -0.6), (0.003, -4.13)),\n",
       " ((0.004, -0.65), (0.004, -4.17)),\n",
       " ((0.005, -0.65), (0.005, -4.2)),\n",
       " ((0.006, -0.52), (0.006, -4.28)),\n",
       " ((0.007, -0.54), (0.007, -4.31)),\n",
       " ((0.008, -0.55), (0.008, -4.37)),\n",
       " ((0.009, -0.54), (0.009, -4.44)),\n",
       " ((0.01, -0.61), (0.01, -4.48)),\n",
       " ((0.011, -0.56), (0.011, -4.52)),\n",
       " ((0.012, -0.54), (0.012, -4.55)),\n",
       " ((0.013, -0.68), (0.013, -4.59)),\n",
       " ((0.014, -0.67), (0.014, -4.63)),\n",
       " ((0.015, -0.74), (0.015, -4.68)),\n",
       " ((0.016, -0.83), (0.016, -4.73)),\n",
       " ((0.017, -0.88), (0.017, -4.76)),\n",
       " ((0.018, -0.99), (0.018, -4.78)),\n",
       " ((0.019, -1.12), (0.019, -4.85)),\n",
       " ((0.02, -1.15), (0.02, -4.88)),\n",
       " ((0.021, -1.16), (0.021, -4.93)),\n",
       " ((0.022, -1.22), (0.022, -4.96)),\n",
       " ((0.023, -1.25), (0.023, -4.99)),\n",
       " ((0.024, -1.32), (0.024, -5.02)),\n",
       " ((0.025, -1.52), (0.025, -5.06)),\n",
       " ((0.026, -1.58), (0.026, -5.09)),\n",
       " ((0.027, -1.74), (0.027, -5.14)),\n",
       " ((0.028, -1.84), (0.028, -5.17)),\n",
       " ((0.029, -1.87), (0.029, -5.21)),\n",
       " ((0.03, -1.86), (0.03, -5.25)),\n",
       " ((0.031, -1.98), (0.031, -5.3)),\n",
       " ((0.032, -2.03), (0.032, -5.35)),\n",
       " ((0.033, -2.03), (0.033, -5.39)),\n",
       " ((0.034, -2.06), (0.034, -5.46)),\n",
       " ((0.035, -2.1), (0.035, -5.54)),\n",
       " ((0.036, -2.15), (0.036, -5.6)),\n",
       " ((0.037, -2.27), (0.037, -5.7)),\n",
       " ((0.038, -2.35), (0.038, -5.77)),\n",
       " ((0.039, -2.49), (0.039, -5.84)),\n",
       " ((0.04, -2.59), (0.04, -5.9)),\n",
       " ((0.041, -2.59), (0.041, -5.94)),\n",
       " ((0.042, -2.59), (0.042, -6.0)),\n",
       " ((0.043, -2.57), (0.043, -6.05)),\n",
       " ((0.044, -2.66), (0.044, -6.11)),\n",
       " ((0.045, -2.66), (0.045, -6.16)),\n",
       " ((0.046, -2.62), (0.046, -6.2)),\n",
       " ((0.047, -2.61), (0.047, -6.25)),\n",
       " ((0.048, -2.67), (0.048, -6.29)),\n",
       " ((0.049, -2.75), (0.049, -6.34)),\n",
       " ((0.05, -2.6), (0.05, -6.37)),\n",
       " ((0.051, -2.56), (0.051, -6.43)),\n",
       " ((0.052, -2.59), (0.052, -6.48)),\n",
       " ((0.053, -2.53), (0.053, -6.54)),\n",
       " ((0.054, -2.54), (0.054, -6.61)),\n",
       " ((0.055, -2.53), (0.055, -6.63)),\n",
       " ((0.056, -2.54), (0.056, -6.67)),\n",
       " ((0.057, -2.59), (0.057, -6.69)),\n",
       " ((0.058, -2.59), (0.058, -6.72)),\n",
       " ((0.059, -2.75), (0.059, -6.75)),\n",
       " ((0.06, -2.65), (0.06, -6.77)),\n",
       " ((0.061, -2.58), (0.061, -6.8)),\n",
       " ((0.062, -2.59), (0.062, -6.82)),\n",
       " ((0.063, -2.47), (0.063, -6.86)),\n",
       " ((0.064, -2.31), (0.064, -6.91)),\n",
       " ((0.065, -2.25), (0.065, -6.95)),\n",
       " ((0.066, -2.18), (0.066, -7.01)),\n",
       " ((0.067, -2.15), (0.067, -7.07)),\n",
       " ((0.068, -2.32), (0.068, -7.12)),\n",
       " ((0.069, -2.17), (0.069, -7.17)),\n",
       " ((0.07, -2.12), (0.07, -7.19)),\n",
       " ((0.071, -2.12), (0.071, -7.22)),\n",
       " ((0.072, -2.04), (0.072, -7.23)),\n",
       " ((0.073, -1.95), (0.073, -7.26)),\n",
       " ((0.074, -1.85), (0.074, -7.29)),\n",
       " ((0.075, -1.81), (0.075, -7.35)),\n",
       " ((0.076, -1.71), (0.076, -7.38)),\n",
       " ((0.077, -1.71), (0.077, -7.43)),\n",
       " ((0.078, -1.58), (0.078, -7.46)),\n",
       " ((0.079, -1.49), (0.079, -7.5)),\n",
       " ((0.08, -1.38), (0.08, -7.55)),\n",
       " ((0.081, -1.22), (0.081, -7.58)),\n",
       " ((0.082, -0.77), (0.082, -7.64)),\n",
       " ((0.083, -0.66), (0.083, -7.65)),\n",
       " ((0.084, -0.66), (0.084, -7.75)),\n",
       " ((0.085, -0.66), (0.085, -7.7)),\n",
       " ((0.086, -0.66), (0.086, -7.59)),\n",
       " ((0.087, -0.65), (0.087, -7.62)),\n",
       " ((0.088, -0.65), (0.088, -7.55)),\n",
       " ((0.089, -0.27), (0.089, -7.64)),\n",
       " ((0.09, -0.27), (0.09, -7.58)),\n",
       " ((0.091, 0.01), (0.091, -7.54)),\n",
       " ((0.092, 0.17), (0.092, -7.36)),\n",
       " ((0.093, -0.07), (0.093, -7.12)),\n",
       " ((0.094, -0.2), (0.094, -7.12)),\n",
       " ((0.095, 0.03), (0.095, -6.97)),\n",
       " ((0.096, -0.06), (0.096, -7.22)),\n",
       " ((0.097, -0.06), (0.097, -7.03)),\n",
       " ((0.098, -0.04), (0.098, -6.87)),\n",
       " ((0.099, -0.04), (0.099, -6.73))]"
      ]
     },
     "execution_count": 54,
     "metadata": {},
     "output_type": "execute_result"
    }
   ],
   "source": [
    "[val for val in zip(h_p_gme, h_p_spy)]"
   ]
  },
  {
   "cell_type": "markdown",
   "id": "679216de-15fd-478c-ac4f-667c7d4cd46b",
   "metadata": {
    "tags": []
   },
   "source": [
    "##### Long and short"
   ]
  },
  {
   "cell_type": "code",
   "execution_count": 55,
   "id": "80708918-ff37-4da7-944a-84f85f1a93c8",
   "metadata": {},
   "outputs": [],
   "source": [
    "h_p_gme_long = []\n",
    "for i in range(0,100):\n",
    "    h_p = i/1000\n",
    "    h_p_gme_long = h_p_gme_long + [(h_p, trading_stats([get_daily_profits(gme_prices,h_p)])[-1][5])]"
   ]
  },
  {
   "cell_type": "code",
   "execution_count": 56,
   "id": "cc10292d-ba65-44b2-bbb9-f603e4b935a4",
   "metadata": {},
   "outputs": [],
   "source": [
    "h_p_spy_long = []\n",
    "for i in range(0,100):\n",
    "    h_p = i/1000\n",
    "    h_p_spy_long = h_p_spy_long + [(h_p, trading_stats([get_daily_profits(spy_prices,h_p)])[-1][5])]"
   ]
  },
  {
   "cell_type": "code",
   "execution_count": 57,
   "id": "c18c5911-acfb-4df8-8a89-e1f0d3610299",
   "metadata": {
    "tags": []
   },
   "outputs": [
    {
     "data": {
      "text/plain": [
       "[((0.0, -0.83), (0.0, -4.09)),\n",
       " ((0.001, -0.83), (0.001, -4.12)),\n",
       " ((0.002, -0.86), (0.002, -4.14)),\n",
       " ((0.003, -0.86), (0.003, -4.18)),\n",
       " ((0.004, -0.9), (0.004, -4.21)),\n",
       " ((0.005, -0.93), (0.005, -4.24)),\n",
       " ((0.006, -0.99), (0.006, -4.31)),\n",
       " ((0.007, -0.99), (0.007, -4.35)),\n",
       " ((0.008, -1.03), (0.008, -4.41)),\n",
       " ((0.009, -1.01), (0.009, -4.48)),\n",
       " ((0.01, -1.11), (0.01, -4.51)),\n",
       " ((0.011, -1.24), (0.011, -4.54)),\n",
       " ((0.012, -1.26), (0.012, -4.57)),\n",
       " ((0.013, -1.38), (0.013, -4.61)),\n",
       " ((0.014, -1.4), (0.014, -4.65)),\n",
       " ((0.015, -1.51), (0.015, -4.7)),\n",
       " ((0.016, -1.54), (0.016, -4.75)),\n",
       " ((0.017, -1.63), (0.017, -4.78)),\n",
       " ((0.018, -1.75), (0.018, -4.8)),\n",
       " ((0.019, -1.9), (0.019, -4.86)),\n",
       " ((0.02, -2.01), (0.02, -4.89)),\n",
       " ((0.021, -2.05), (0.021, -4.94)),\n",
       " ((0.022, -2.11), (0.022, -4.97)),\n",
       " ((0.023, -2.12), (0.023, -5.0)),\n",
       " ((0.024, -2.23), (0.024, -5.03)),\n",
       " ((0.025, -2.46), (0.025, -5.07)),\n",
       " ((0.026, -2.45), (0.026, -5.1)),\n",
       " ((0.027, -2.69), (0.027, -5.15)),\n",
       " ((0.028, -2.81), (0.028, -5.19)),\n",
       " ((0.029, -2.81), (0.029, -5.22)),\n",
       " ((0.03, -2.8), (0.03, -5.26)),\n",
       " ((0.031, -2.86), (0.031, -5.31)),\n",
       " ((0.032, -2.88), (0.032, -5.36)),\n",
       " ((0.033, -2.93), (0.033, -5.4)),\n",
       " ((0.034, -3.0), (0.034, -5.48)),\n",
       " ((0.035, -2.94), (0.035, -5.56)),\n",
       " ((0.036, -3.03), (0.036, -5.62)),\n",
       " ((0.037, -3.12), (0.037, -5.72)),\n",
       " ((0.038, -3.19), (0.038, -5.79)),\n",
       " ((0.039, -3.35), (0.039, -5.86)),\n",
       " ((0.04, -3.43), (0.04, -5.92)),\n",
       " ((0.041, -3.46), (0.041, -5.96)),\n",
       " ((0.042, -3.46), (0.042, -6.02)),\n",
       " ((0.043, -3.53), (0.043, -6.07)),\n",
       " ((0.044, -3.7), (0.044, -6.13)),\n",
       " ((0.045, -3.68), (0.045, -6.19)),\n",
       " ((0.046, -3.68), (0.046, -6.23)),\n",
       " ((0.047, -3.68), (0.047, -6.28)),\n",
       " ((0.048, -3.73), (0.048, -6.32)),\n",
       " ((0.049, -3.82), (0.049, -6.37)),\n",
       " ((0.05, -3.68), (0.05, -6.4)),\n",
       " ((0.051, -3.68), (0.051, -6.43)),\n",
       " ((0.052, -3.74), (0.052, -6.48)),\n",
       " ((0.053, -3.74), (0.053, -6.54)),\n",
       " ((0.054, -3.72), (0.054, -6.61)),\n",
       " ((0.055, -3.7), (0.055, -6.63)),\n",
       " ((0.056, -3.72), (0.056, -6.67)),\n",
       " ((0.057, -3.71), (0.057, -6.69)),\n",
       " ((0.058, -3.73), (0.058, -6.72)),\n",
       " ((0.059, -3.84), (0.059, -6.75)),\n",
       " ((0.06, -3.76), (0.06, -6.77)),\n",
       " ((0.061, -3.69), (0.061, -6.8)),\n",
       " ((0.062, -3.74), (0.062, -6.82)),\n",
       " ((0.063, -3.62), (0.063, -6.86)),\n",
       " ((0.064, -3.46), (0.064, -6.91)),\n",
       " ((0.065, -3.38), (0.065, -6.95)),\n",
       " ((0.066, -3.32), (0.066, -7.01)),\n",
       " ((0.067, -3.36), (0.067, -7.07)),\n",
       " ((0.068, -3.25), (0.068, -7.12)),\n",
       " ((0.069, -3.09), (0.069, -7.17)),\n",
       " ((0.07, -3.04), (0.07, -7.19)),\n",
       " ((0.071, -3.04), (0.071, -7.22)),\n",
       " ((0.072, -2.99), (0.072, -7.23)),\n",
       " ((0.073, -2.91), (0.073, -7.26)),\n",
       " ((0.074, -2.78), (0.074, -7.29)),\n",
       " ((0.075, -2.76), (0.075, -7.35)),\n",
       " ((0.076, -2.65), (0.076, -7.38)),\n",
       " ((0.077, -2.65), (0.077, -7.43)),\n",
       " ((0.078, -2.5), (0.078, -7.46)),\n",
       " ((0.079, -2.42), (0.079, -7.5)),\n",
       " ((0.08, -2.3), (0.08, -7.55)),\n",
       " ((0.081, -2.12), (0.081, -7.58)),\n",
       " ((0.082, -1.95), (0.082, -7.64)),\n",
       " ((0.083, -1.83), (0.083, -7.65)),\n",
       " ((0.084, -1.83), (0.084, -7.75)),\n",
       " ((0.085, -1.83), (0.085, -7.7)),\n",
       " ((0.086, -1.83), (0.086, -7.59)),\n",
       " ((0.087, -1.73), (0.087, -7.62)),\n",
       " ((0.088, -1.73), (0.088, -7.55)),\n",
       " ((0.089, -1.41), (0.089, -7.64)),\n",
       " ((0.09, -1.41), (0.09, -7.58)),\n",
       " ((0.091, -1.41), (0.091, -7.54)),\n",
       " ((0.092, -1.25), (0.092, -7.36)),\n",
       " ((0.093, -1.66), (0.093, -7.12)),\n",
       " ((0.094, -1.91), (0.094, -7.12)),\n",
       " ((0.095, -1.91), (0.095, -6.97)),\n",
       " ((0.096, -2.13), (0.096, -7.22)),\n",
       " ((0.097, -2.13), (0.097, -7.03)),\n",
       " ((0.098, -2.29), (0.098, -6.87)),\n",
       " ((0.099, -2.29), (0.099, -6.73))]"
      ]
     },
     "execution_count": 57,
     "metadata": {},
     "output_type": "execute_result"
    }
   ],
   "source": [
    "[val for val in zip(h_p_gme_long,h_p_spy_long)]"
   ]
  },
  {
   "cell_type": "code",
   "execution_count": 58,
   "id": "6fedc003-63ec-4226-88f4-b64b90531178",
   "metadata": {},
   "outputs": [],
   "source": [
    "h_p_gme_short = []\n",
    "for i in range(0,100):\n",
    "    h_p = i/1000\n",
    "    h_p_gme_short = h_p_gme_short + [(h_p, trading_stats([get_daily_profits(gme_prices,h_p)])[-1][5])]"
   ]
  },
  {
   "cell_type": "code",
   "execution_count": 59,
   "id": "173c9889-1766-412a-9c43-79333c66f3fb",
   "metadata": {},
   "outputs": [],
   "source": [
    "h_p_spy_short = []\n",
    "for i in range(0,100):\n",
    "    h_p = i/1000\n",
    "    h_p_spy_short = h_p_spy_short + [(h_p, trading_stats([get_daily_profits(spy_prices,h_p)])[-1][5])]"
   ]
  },
  {
   "cell_type": "code",
   "execution_count": 60,
   "id": "f9219511-6982-4948-9c02-f39511ced959",
   "metadata": {
    "tags": []
   },
   "outputs": [
    {
     "data": {
      "text/plain": [
       "[((0.0, -0.83), (0.0, -4.09)),\n",
       " ((0.001, -0.83), (0.001, -4.12)),\n",
       " ((0.002, -0.86), (0.002, -4.14)),\n",
       " ((0.003, -0.86), (0.003, -4.18)),\n",
       " ((0.004, -0.9), (0.004, -4.21)),\n",
       " ((0.005, -0.93), (0.005, -4.24)),\n",
       " ((0.006, -0.99), (0.006, -4.31)),\n",
       " ((0.007, -0.99), (0.007, -4.35)),\n",
       " ((0.008, -1.03), (0.008, -4.41)),\n",
       " ((0.009, -1.01), (0.009, -4.48)),\n",
       " ((0.01, -1.11), (0.01, -4.51)),\n",
       " ((0.011, -1.24), (0.011, -4.54)),\n",
       " ((0.012, -1.26), (0.012, -4.57)),\n",
       " ((0.013, -1.38), (0.013, -4.61)),\n",
       " ((0.014, -1.4), (0.014, -4.65)),\n",
       " ((0.015, -1.51), (0.015, -4.7)),\n",
       " ((0.016, -1.54), (0.016, -4.75)),\n",
       " ((0.017, -1.63), (0.017, -4.78)),\n",
       " ((0.018, -1.75), (0.018, -4.8)),\n",
       " ((0.019, -1.9), (0.019, -4.86)),\n",
       " ((0.02, -2.01), (0.02, -4.89)),\n",
       " ((0.021, -2.05), (0.021, -4.94)),\n",
       " ((0.022, -2.11), (0.022, -4.97)),\n",
       " ((0.023, -2.12), (0.023, -5.0)),\n",
       " ((0.024, -2.23), (0.024, -5.03)),\n",
       " ((0.025, -2.46), (0.025, -5.07)),\n",
       " ((0.026, -2.45), (0.026, -5.1)),\n",
       " ((0.027, -2.69), (0.027, -5.15)),\n",
       " ((0.028, -2.81), (0.028, -5.19)),\n",
       " ((0.029, -2.81), (0.029, -5.22)),\n",
       " ((0.03, -2.8), (0.03, -5.26)),\n",
       " ((0.031, -2.86), (0.031, -5.31)),\n",
       " ((0.032, -2.88), (0.032, -5.36)),\n",
       " ((0.033, -2.93), (0.033, -5.4)),\n",
       " ((0.034, -3.0), (0.034, -5.48)),\n",
       " ((0.035, -2.94), (0.035, -5.56)),\n",
       " ((0.036, -3.03), (0.036, -5.62)),\n",
       " ((0.037, -3.12), (0.037, -5.72)),\n",
       " ((0.038, -3.19), (0.038, -5.79)),\n",
       " ((0.039, -3.35), (0.039, -5.86)),\n",
       " ((0.04, -3.43), (0.04, -5.92)),\n",
       " ((0.041, -3.46), (0.041, -5.96)),\n",
       " ((0.042, -3.46), (0.042, -6.02)),\n",
       " ((0.043, -3.53), (0.043, -6.07)),\n",
       " ((0.044, -3.7), (0.044, -6.13)),\n",
       " ((0.045, -3.68), (0.045, -6.19)),\n",
       " ((0.046, -3.68), (0.046, -6.23)),\n",
       " ((0.047, -3.68), (0.047, -6.28)),\n",
       " ((0.048, -3.73), (0.048, -6.32)),\n",
       " ((0.049, -3.82), (0.049, -6.37)),\n",
       " ((0.05, -3.68), (0.05, -6.4)),\n",
       " ((0.051, -3.68), (0.051, -6.43)),\n",
       " ((0.052, -3.74), (0.052, -6.48)),\n",
       " ((0.053, -3.74), (0.053, -6.54)),\n",
       " ((0.054, -3.72), (0.054, -6.61)),\n",
       " ((0.055, -3.7), (0.055, -6.63)),\n",
       " ((0.056, -3.72), (0.056, -6.67)),\n",
       " ((0.057, -3.71), (0.057, -6.69)),\n",
       " ((0.058, -3.73), (0.058, -6.72)),\n",
       " ((0.059, -3.84), (0.059, -6.75)),\n",
       " ((0.06, -3.76), (0.06, -6.77)),\n",
       " ((0.061, -3.69), (0.061, -6.8)),\n",
       " ((0.062, -3.74), (0.062, -6.82)),\n",
       " ((0.063, -3.62), (0.063, -6.86)),\n",
       " ((0.064, -3.46), (0.064, -6.91)),\n",
       " ((0.065, -3.38), (0.065, -6.95)),\n",
       " ((0.066, -3.32), (0.066, -7.01)),\n",
       " ((0.067, -3.36), (0.067, -7.07)),\n",
       " ((0.068, -3.25), (0.068, -7.12)),\n",
       " ((0.069, -3.09), (0.069, -7.17)),\n",
       " ((0.07, -3.04), (0.07, -7.19)),\n",
       " ((0.071, -3.04), (0.071, -7.22)),\n",
       " ((0.072, -2.99), (0.072, -7.23)),\n",
       " ((0.073, -2.91), (0.073, -7.26)),\n",
       " ((0.074, -2.78), (0.074, -7.29)),\n",
       " ((0.075, -2.76), (0.075, -7.35)),\n",
       " ((0.076, -2.65), (0.076, -7.38)),\n",
       " ((0.077, -2.65), (0.077, -7.43)),\n",
       " ((0.078, -2.5), (0.078, -7.46)),\n",
       " ((0.079, -2.42), (0.079, -7.5)),\n",
       " ((0.08, -2.3), (0.08, -7.55)),\n",
       " ((0.081, -2.12), (0.081, -7.58)),\n",
       " ((0.082, -1.95), (0.082, -7.64)),\n",
       " ((0.083, -1.83), (0.083, -7.65)),\n",
       " ((0.084, -1.83), (0.084, -7.75)),\n",
       " ((0.085, -1.83), (0.085, -7.7)),\n",
       " ((0.086, -1.83), (0.086, -7.59)),\n",
       " ((0.087, -1.73), (0.087, -7.62)),\n",
       " ((0.088, -1.73), (0.088, -7.55)),\n",
       " ((0.089, -1.41), (0.089, -7.64)),\n",
       " ((0.09, -1.41), (0.09, -7.58)),\n",
       " ((0.091, -1.41), (0.091, -7.54)),\n",
       " ((0.092, -1.25), (0.092, -7.36)),\n",
       " ((0.093, -1.66), (0.093, -7.12)),\n",
       " ((0.094, -1.91), (0.094, -7.12)),\n",
       " ((0.095, -1.91), (0.095, -6.97)),\n",
       " ((0.096, -2.13), (0.096, -7.22)),\n",
       " ((0.097, -2.13), (0.097, -7.03)),\n",
       " ((0.098, -2.29), (0.098, -6.87)),\n",
       " ((0.099, -2.29), (0.099, -6.73))]"
      ]
     },
     "execution_count": 60,
     "metadata": {},
     "output_type": "execute_result"
    }
   ],
   "source": [
    "[val for val in zip(h_p_gme_short,h_p_spy_short)]"
   ]
  },
  {
   "cell_type": "code",
   "execution_count": 61,
   "id": "4ce34162-45ef-4bf4-9d3e-177cea57ae24",
   "metadata": {},
   "outputs": [
    {
     "data": {
      "text/plain": [
       "'d'"
      ]
     },
     "execution_count": 61,
     "metadata": {},
     "output_type": "execute_result"
    }
   ],
   "source": [
    "'abcd'[-1]"
   ]
  },
  {
   "cell_type": "markdown",
   "id": "364216ea-66bc-4604-9455-043f16d66ab8",
   "metadata": {},
   "source": [
    "##### Last digit analysis"
   ]
  },
  {
   "cell_type": "code",
   "execution_count": 62,
   "id": "3b7c72b9-c0b2-4457-9f0c-3da5ae913e44",
   "metadata": {
    "tags": []
   },
   "outputs": [],
   "source": [
    "def last_digit(prices):\n",
    "    return [int(str(d[1])[-1]) for d in prices]"
   ]
  },
  {
   "cell_type": "code",
   "execution_count": 63,
   "id": "e70cb72f-e7e0-4a79-bb29-e0cc3cca6e7e",
   "metadata": {},
   "outputs": [],
   "source": [
    "def digit_counts(digits):\n",
    "    zeros = 0; ones = 0; twos = 0; threes = 0; fours = 0;\n",
    "    fives = 0; sixes = 0; sevens = 0; eights = 0; nines = 0;\n",
    "    for d in digits:\n",
    "        if d == 0:\n",
    "            zeros += 1\n",
    "        elif d == 1:\n",
    "            ones += 1\n",
    "        elif d == 2:\n",
    "            twos += 1\n",
    "        elif d == 3:\n",
    "            threes += 1\n",
    "        elif d == 4:\n",
    "            fours += 1\n",
    "        elif d == 5:\n",
    "            fives += 1\n",
    "        elif d == 6:\n",
    "            sixes += 1\n",
    "        elif d == 7:\n",
    "            sevens += 1\n",
    "        elif d == 8:\n",
    "            eights += 1\n",
    "        elif d == 9:\n",
    "            nines += 1\n",
    "    return([zeros,ones,twos,threes,fours,fives,sixes,sevens,eights,nines])"
   ]
  },
  {
   "cell_type": "code",
   "execution_count": 64,
   "id": "6292afed-500d-471a-8d76-6d1dfc180aa9",
   "metadata": {},
   "outputs": [
    {
     "data": {
      "text/plain": [
       "[51, 127, 132, 123, 129, 223, 107, 115, 125, 124]"
      ]
     },
     "execution_count": 64,
     "metadata": {},
     "output_type": "execute_result"
    }
   ],
   "source": [
    "gme_digit_counts = digit_counts(last_digit(gme_prices))\n",
    "gme_digit_counts"
   ]
  },
  {
   "cell_type": "code",
   "execution_count": 65,
   "id": "a1eb35d1-4ffc-45b6-91a2-5192b9967184",
   "metadata": {},
   "outputs": [
    {
     "data": {
      "text/plain": [
       "<Axes: >"
      ]
     },
     "execution_count": 65,
     "metadata": {},
     "output_type": "execute_result"
    },
    {
     "data": {
      "image/png": "[encoded data removed]",
      "text/plain": [
       "<Figure size 640x480 with 1 Axes>"
      ]
     },
     "metadata": {},
     "output_type": "display_data"
    }
   ],
   "source": [
    "sns.barplot(x = ['zeros','ones','twos','threes','fours','fives','sixes','sevens',\n",
    "                 'eights','nines'],\n",
    "    y=[51, 127, 132, 123, 129, 223, 107, 115, 125, 124])"
   ]
  },
  {
   "cell_type": "code",
   "execution_count": 66,
   "id": "0efd6c77-983b-49e5-8dbf-e8321e4daa4c",
   "metadata": {},
   "outputs": [
    {
     "data": {
      "text/plain": [
       "[13, 147, 154, 140, 145, 127, 122, 146, 126, 136]"
      ]
     },
     "execution_count": 66,
     "metadata": {},
     "output_type": "execute_result"
    }
   ],
   "source": [
    "spy_digit_counts = digit_counts(last_digit(spy_prices))\n",
    "spy_digit_counts"
   ]
  },
  {
   "cell_type": "code",
   "execution_count": 67,
   "id": "65bec619-8f7b-4d4f-86c5-7f680447e6b7",
   "metadata": {},
   "outputs": [],
   "source": [
    "import seaborn as sns"
   ]
  },
  {
   "cell_type": "code",
   "execution_count": 68,
   "id": "f7417a27-f9b7-4988-86fa-fba3dbaa28ba",
   "metadata": {},
   "outputs": [
    {
     "data": {
      "text/plain": [
       "<Axes: >"
      ]
     },
     "execution_count": 68,
     "metadata": {},
     "output_type": "execute_result"
    },
    {
     "data": {
      "image/png": "[encoded data removed]",
      "text/plain": [
       "<Figure size 640x480 with 1 Axes>"
      ]
     },
     "metadata": {},
     "output_type": "display_data"
    }
   ],
   "source": [
    "sns.barplot(x = ['zeros','ones','twos','threes','fours','fives','sixes','sevens',\n",
    "                 'eights','nines'],\n",
    "    y=[13, 147, 154, 140, 145, 127, 122, 146, 126, 136])"
   ]
  },
  {
   "cell_type": "code",
   "execution_count": 69,
   "id": "d7fa57c0-4068-4036-91e3-659284fcdd9a",
   "metadata": {},
   "outputs": [
    {
     "data": {
      "text/plain": [
       "<Axes: >"
      ]
     },
     "execution_count": 69,
     "metadata": {},
     "output_type": "execute_result"
    },
    {
     "data": {
      "image/png": "[encoded data removed]",
      "text/plain": [
       "<Figure size 640x480 with 1 Axes>"
      ]
     },
     "metadata": {},
     "output_type": "display_data"
    }
   ],
   "source": [
    "sns.barplot(x = ['zeros','ones','twos','threes','fours','fives','sixes','sevens',\n",
    "                 'eights','nines'],\n",
    "    y=[13, 147, 154, 140, 145, 127, 122, 146, 126, 136])"
   ]
  },
  {
   "cell_type": "code",
   "execution_count": 70,
   "id": "20b2c259-7ef5-43a9-9851-9328216ed8a8",
   "metadata": {},
   "outputs": [
    {
     "name": "stdout",
     "output_type": "stream",
     "text": [
      "all code runs!\n"
     ]
    }
   ],
   "source": [
    "print('all code runs!')"
   ]
  }
 ],
 "metadata": {
  "kernelspec": {
   "display_name": "Python 3 (ipykernel)",
   "language": "python",
   "name": "python3"
  },
  "language_info": {
   "codemirror_mode": {
    "name": "ipython",
    "version": 3
   },
   "file_extension": ".py",
   "mimetype": "text/x-python",
   "name": "python",
   "nbconvert_exporter": "python",
   "pygments_lexer": "ipython3",
   "version": "3.9.18"
  }
 },
 "nbformat": 4,
 "nbformat_minor": 5
}
