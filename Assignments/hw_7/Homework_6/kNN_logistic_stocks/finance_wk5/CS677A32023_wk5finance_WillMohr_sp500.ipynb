{
 "cells": [
  {
   "cell_type": "code",
   "execution_count": 1,
   "id": "41e59634-72cb-4e52-b628-eb35d9eb65eb",
   "metadata": {
    "tags": []
   },
   "outputs": [],
   "source": [
    "import pandas as pd\n",
    "import matplotlib.pyplot as plt\n",
    "import numpy as np\n",
    "import os"
   ]
  },
  {
   "cell_type": "code",
   "execution_count": 2,
   "id": "54430343-ea32-4354-9650-e145c2f6afab",
   "metadata": {
    "tags": []
   },
   "outputs": [],
   "source": [
    "spy = pd.read_csv('./spy.csv')\n",
    "spy_labels = pd.read_csv('./spy_labels.csv',header=None)\n",
    "spy_labels.columns=['Label','date']\n",
    "spy_labels.drop(columns='date',inplace=True)\n",
    "columns = ['Year','Year_Week','Week_Number','Day', 'Weekday','Open','Adj Close',\n",
    "           'Return','Month']\n",
    "spy = spy[columns]\n",
    "spy45 = spy[(spy.Year==2020)|(spy.Year==2021)]\n",
    "dict_labs = dict(zip(spy45.Year_Week.unique(),spy_labels.Label))\n",
    "spy45 = spy45.assign(Label=[dict_labs[y_w] for y_w in spy45.Year_Week])"
   ]
  },
  {
   "cell_type": "code",
   "execution_count": 3,
   "id": "51483b47-37ed-46a1-9ca6-332a58411c8b",
   "metadata": {
    "tags": []
   },
   "outputs": [
    {
     "name": "stderr",
     "output_type": "stream",
     "text": [
      "/var/folders/7q/63cgxnn50sl5zwxkchv_j2cr0000gn/T/ipykernel_20414/585712261.py:4: SettingWithCopyWarning: \n",
      "A value is trying to be set on a copy of a slice from a DataFrame.\n",
      "Try using .loc[row_indexer,col_indexer] = value instead\n",
      "\n",
      "See the caveats in the documentation: https://pandas.pydata.org/pandas-docs/stable/user_guide/indexing.html#returning-a-view-versus-a-copy\n",
      "  spy_wr['Label']=[v for val in spy_labels.values for v in val]\n"
     ]
    },
    {
     "data": {
      "text/html": [
       "<div>\n",
       "<style scoped>\n",
       "    .dataframe tbody tr th:only-of-type {\n",
       "        vertical-align: middle;\n",
       "    }\n",
       "\n",
       "    .dataframe tbody tr th {\n",
       "        vertical-align: top;\n",
       "    }\n",
       "\n",
       "    .dataframe thead th {\n",
       "        text-align: right;\n",
       "    }\n",
       "</style>\n",
       "<table border=\"1\" class=\"dataframe\">\n",
       "  <thead>\n",
       "    <tr style=\"text-align: right;\">\n",
       "      <th></th>\n",
       "      <th>Year</th>\n",
       "      <th>Week_Number</th>\n",
       "      <th>mean_return</th>\n",
       "      <th>volatility</th>\n",
       "      <th>Label</th>\n",
       "    </tr>\n",
       "  </thead>\n",
       "  <tbody>\n",
       "    <tr>\n",
       "      <th>158</th>\n",
       "      <td>2020</td>\n",
       "      <td>0</td>\n",
       "      <td>0.08900</td>\n",
       "      <td>1.196425</td>\n",
       "      <td>Red</td>\n",
       "    </tr>\n",
       "    <tr>\n",
       "      <th>159</th>\n",
       "      <td>2020</td>\n",
       "      <td>1</td>\n",
       "      <td>0.20460</td>\n",
       "      <td>0.458676</td>\n",
       "      <td>Green</td>\n",
       "    </tr>\n",
       "    <tr>\n",
       "      <th>160</th>\n",
       "      <td>2020</td>\n",
       "      <td>2</td>\n",
       "      <td>0.38100</td>\n",
       "      <td>0.390725</td>\n",
       "      <td>Green</td>\n",
       "    </tr>\n",
       "    <tr>\n",
       "      <th>161</th>\n",
       "      <td>2020</td>\n",
       "      <td>3</td>\n",
       "      <td>-0.23950</td>\n",
       "      <td>0.451909</td>\n",
       "      <td>Red</td>\n",
       "    </tr>\n",
       "    <tr>\n",
       "      <th>162</th>\n",
       "      <td>2020</td>\n",
       "      <td>4</td>\n",
       "      <td>-0.42580</td>\n",
       "      <td>1.242151</td>\n",
       "      <td>Red</td>\n",
       "    </tr>\n",
       "    <tr>\n",
       "      <th>...</th>\n",
       "      <td>...</td>\n",
       "      <td>...</td>\n",
       "      <td>...</td>\n",
       "      <td>...</td>\n",
       "      <td>...</td>\n",
       "    </tr>\n",
       "    <tr>\n",
       "      <th>258</th>\n",
       "      <td>2021</td>\n",
       "      <td>48</td>\n",
       "      <td>-0.23360</td>\n",
       "      <td>1.529530</td>\n",
       "      <td>Red</td>\n",
       "    </tr>\n",
       "    <tr>\n",
       "      <th>259</th>\n",
       "      <td>2021</td>\n",
       "      <td>49</td>\n",
       "      <td>0.75660</td>\n",
       "      <td>1.028056</td>\n",
       "      <td>Green</td>\n",
       "    </tr>\n",
       "    <tr>\n",
       "      <th>260</th>\n",
       "      <td>2021</td>\n",
       "      <td>50</td>\n",
       "      <td>-0.39140</td>\n",
       "      <td>1.100609</td>\n",
       "      <td>Red</td>\n",
       "    </tr>\n",
       "    <tr>\n",
       "      <th>261</th>\n",
       "      <td>2021</td>\n",
       "      <td>51</td>\n",
       "      <td>0.58375</td>\n",
       "      <td>1.198328</td>\n",
       "      <td>Green</td>\n",
       "    </tr>\n",
       "    <tr>\n",
       "      <th>262</th>\n",
       "      <td>2021</td>\n",
       "      <td>52</td>\n",
       "      <td>0.29625</td>\n",
       "      <td>0.763861</td>\n",
       "      <td>Green</td>\n",
       "    </tr>\n",
       "  </tbody>\n",
       "</table>\n",
       "<p>105 rows × 5 columns</p>\n",
       "</div>"
      ],
      "text/plain": [
       "     Year  Week_Number  mean_return  volatility  Label\n",
       "158  2020            0      0.08900    1.196425    Red\n",
       "159  2020            1      0.20460    0.458676  Green\n",
       "160  2020            2      0.38100    0.390725  Green\n",
       "161  2020            3     -0.23950    0.451909    Red\n",
       "162  2020            4     -0.42580    1.242151    Red\n",
       "..    ...          ...          ...         ...    ...\n",
       "258  2021           48     -0.23360    1.529530    Red\n",
       "259  2021           49      0.75660    1.028056  Green\n",
       "260  2021           50     -0.39140    1.100609    Red\n",
       "261  2021           51      0.58375    1.198328  Green\n",
       "262  2021           52      0.29625    0.763861  Green\n",
       "\n",
       "[105 rows x 5 columns]"
      ]
     },
     "execution_count": 3,
     "metadata": {},
     "output_type": "execute_result"
    }
   ],
   "source": [
    "spy_weekly_return = pd.read_csv('./spy_weekly_return_volatility.csv')\n",
    "y = spy_weekly_return.Year\n",
    "spy_wr = spy_weekly_return[np.where((y==2020)|(y==2021),True,False)]\n",
    "spy_wr['Label']=[v for val in spy_labels.values for v in val]\n",
    "spy_wr"
   ]
  },
  {
   "cell_type": "markdown",
   "id": "e5c49c8d-c7bf-4fa6-b71a-5d751e48fd56",
   "metadata": {
    "tags": []
   },
   "source": [
    "#### Linear separability"
   ]
  },
  {
   "cell_type": "code",
   "execution_count": 4,
   "id": "be8ee763-85b1-4080-9f88-4913c34357d4",
   "metadata": {
    "tags": []
   },
   "outputs": [],
   "source": [
    "spy_wr_2020 = spy_wr.query('Year == 2020')\n",
    "spy_wr_2021 = spy_wr.query('Year == 2021')"
   ]
  },
  {
   "cell_type": "code",
   "execution_count": 5,
   "id": "9af15ff4-4e33-4355-836c-0f679ed39139",
   "metadata": {
    "tags": []
   },
   "outputs": [
    {
     "data": {
      "image/png": "[encoded data removed]",
      "text/plain": [
       "<Figure size 1000x1000 with 3 Axes>"
      ]
     },
     "metadata": {},
     "output_type": "display_data"
    }
   ],
   "source": [
    "\n",
    "# for i in range(0,53):\n",
    "#     plt.annotate(spy_wr.iloc[i,1],(spy_wr.iloc[i,2],spy_wr.iloc[i,3]),rotation=0)\n",
    "# plt.xlabel(\"Return\");plt.ylabel('Standard Deviation');\n",
    "# plt.title('2020 GameStop Weekly Return, Standard Deviation, and Label')\n",
    "# plt.savefig('./spy_2020_R_SD')\n",
    "fig = plt.figure(1,figsize=(10,10))\n",
    "plt.subplot(221)\n",
    "plt.scatter(data=spy_wr_2020, x='mean_return', y='volatility',c='Label')\n",
    "plt.plot([0,0],[0,23])\n",
    "for i in range(0,53):\n",
    "    plt.annotate(spy_wr.iloc[i,1],(spy_wr.iloc[i,2],spy_wr.iloc[i,3]),rotation=0)\n",
    "plt.xlabel(\"Return\");plt.ylabel('Standard Deviation');\n",
    "plt.title(f'2020 GameStop $\\mu, \\sigma$')\n",
    "plt.savefig('./spy_2020_R_SD')\n",
    "plt.ylim(1,22)\n",
    "\n",
    "plt.subplot(222)\n",
    "plt.scatter(data=spy_wr_2021, x='mean_return', y='volatility',c='Label')\n",
    "plt.plot([0,0],[0,72])\n",
    "for i in range(0,52):\n",
    "    plt.annotate(spy_wr_2021.iloc[i,1],\n",
    "                 (spy_wr_2021.iloc[i,2],spy_wr_2021.iloc[i,3]),rotation=0)\n",
    "plt.xlabel(\"Return\");plt.ylabel('Standard Deviation');\n",
    "plt.title('2021 GameStop $\\mu, \\sigma$')\n",
    "plt.ylim(1,72)\n",
    "plt.savefig('./spy_2021_R_SD_Broad_View')\n",
    "plt.subplot(223)\n",
    "plt.scatter(data=spy_wr_2021, x='mean_return', y='volatility',c='Label')\n",
    "plt.plot([0,0],[0,13])\n",
    "for i in range(0,52):\n",
    "    plt.annotate(spy_wr_2021.iloc[i,1],\n",
    "                 (spy_wr_2021.iloc[i,2],spy_wr_2021.iloc[i,3]),rotation=0)\n",
    "plt.xlabel(\"Return\");plt.ylabel('Standard Deviation');\n",
    "plt.title('2021 GameStop $\\mu, \\sigma$ Zoomed')\n",
    "plt.xlim(-7.5,7.5)\n",
    "plt.ylim(1.5,13)\n",
    "plt.savefig('./spy_plot')"
   ]
  },
  {
   "cell_type": "code",
   "execution_count": 6,
   "id": "bae99202-c475-4a53-841b-d1435afe78c1",
   "metadata": {
    "tags": []
   },
   "outputs": [
    {
     "data": {
      "text/plain": [
       "(-0.5, 2.5)"
      ]
     },
     "execution_count": 6,
     "metadata": {},
     "output_type": "execute_result"
    },
    {
     "data": {
      "image/png": "[encoded data removed]",
      "text/plain": [
       "<Figure size 1000x1000 with 1 Axes>"
      ]
     },
     "metadata": {},
     "output_type": "display_data"
    }
   ],
   "source": [
    "fig = plt.figure(1,figsize=(10,10))\n",
    "plt.subplot(111)\n",
    "plt.scatter(data=spy_wr_2020, x='mean_return', y='volatility',c='Label')\n",
    "plt.plot([0,0],[0,23])\n",
    "for i in range(0,53):\n",
    "    plt.annotate(spy_wr.iloc[i,1],(spy_wr.iloc[i,2],spy_wr.iloc[i,3]),rotation=0)\n",
    "plt.xlabel(\"Return\");plt.ylabel('Standard Deviation');\n",
    "plt.title(f'2020 GameStop $\\mu, \\sigma$')\n",
    "plt.savefig('./spy_2020_R_SD_superzoom.png')\n",
    "plt.ylim(2,6)\n",
    "plt.xlim(-.5,2.5)"
   ]
  },
  {
   "cell_type": "code",
   "execution_count": 7,
   "id": "d51cf9ad-207e-4677-91d2-aec9f10cce5e",
   "metadata": {
    "tags": []
   },
   "outputs": [
    {
     "data": {
      "text/plain": [
       "53"
      ]
     },
     "execution_count": 7,
     "metadata": {},
     "output_type": "execute_result"
    }
   ],
   "source": [
    "len(spy_wr_2020)"
   ]
  },
  {
   "cell_type": "code",
   "execution_count": 8,
   "id": "e26640ba-67c9-4f40-96df-b7466b5d512b",
   "metadata": {
    "tags": []
   },
   "outputs": [],
   "source": [
    "spy_labels_rem = spy_labels.copy(deep=True)"
   ]
  },
  {
   "cell_type": "code",
   "execution_count": 9,
   "id": "40c030d2-8f8c-4f7d-a2db-b83be8fc4417",
   "metadata": {
    "tags": []
   },
   "outputs": [],
   "source": [
    "ignore_weeks = [5,20,27,29,22,9,11,16,7]"
   ]
  },
  {
   "cell_type": "code",
   "execution_count": 10,
   "id": "6a127aa2-0c6c-4f1a-845b-f88e668f6b26",
   "metadata": {
    "tags": []
   },
   "outputs": [],
   "source": [
    "ignore_weeks_2020 = np.array(ignore_weeks)+158"
   ]
  },
  {
   "cell_type": "code",
   "execution_count": 11,
   "id": "600b96a6-0452-493f-b12c-03e1acbb4e5f",
   "metadata": {
    "tags": []
   },
   "outputs": [],
   "source": [
    "spy_wr_2020_rem = spy_wr_2020.drop(ignore_weeks_2020,axis=0).copy(deep=True)"
   ]
  },
  {
   "cell_type": "code",
   "execution_count": null,
   "id": "ddabb012-29a2-4b96-8be1-bc22f452c886",
   "metadata": {},
   "outputs": [],
   "source": []
  },
  {
   "cell_type": "code",
   "execution_count": 12,
   "id": "2b85c1a9-080c-4194-b149-024c4f35d342",
   "metadata": {
    "tags": []
   },
   "outputs": [
    {
     "data": {
      "text/plain": [
       "(-15.0, 15.0)"
      ]
     },
     "execution_count": 12,
     "metadata": {},
     "output_type": "execute_result"
    },
    {
     "data": {
      "image/png": "[encoded data removed]",
      "text/plain": [
       "<Figure size 1000x1000 with 1 Axes>"
      ]
     },
     "metadata": {},
     "output_type": "display_data"
    }
   ],
   "source": [
    "fig = plt.figure(1,figsize=(10,10))\n",
    "plt.subplot(111)\n",
    "plt.scatter(data=spy_wr_2020_rem, x='mean_return', y='volatility',c='Label')\n",
    "plt.plot([0,1],[0,25])\n",
    "for i in range(0,53):\n",
    "    if i not in ignore_weeks:\n",
    "        plt.annotate(spy_wr.iloc[i,1],(spy_wr.iloc[i,2],spy_wr.iloc[i,3]),rotation=0)\n",
    "plt.xlabel(\"Return\");plt.ylabel('Standard Deviation');\n",
    "plt.title(f'2020 GameStop $\\mu, \\sigma$')\n",
    "plt.savefig('./spy_2020_R_SD_superzoom.png')\n",
    "plt.ylim(0,25)\n",
    "plt.xlim(-15,15)"
   ]
  },
  {
   "cell_type": "markdown",
   "id": "ac9754a7-c22b-4508-8587-2704f2c04bed",
   "metadata": {},
   "source": [
    "I'm choosing the line y = 0 + 25\\*r to differentiate between red and green points."
   ]
  },
  {
   "cell_type": "code",
   "execution_count": 13,
   "id": "ef7d2720-df73-4074-ac65-da8d94d0bb4d",
   "metadata": {
    "tags": []
   },
   "outputs": [],
   "source": [
    "spy_wr_2021_linear_discriminator = spy_wr_2021.copy(deep=True)"
   ]
  },
  {
   "cell_type": "code",
   "execution_count": 14,
   "id": "5bc3d3a5-5bfe-4996-8c43-5140e7b84134",
   "metadata": {
    "tags": []
   },
   "outputs": [],
   "source": [
    "def red_green(mus,sigmas,a,b):\n",
    "    '''take return,vol df and assign labels based on line coeffs'''\n",
    "    labels = []\n",
    "    for mu, sigma in zip(mus,sigmas):\n",
    "        if sigma>=(a + b*mu):\n",
    "            labels.append('Red')\n",
    "        else:\n",
    "            labels.append('Green')\n",
    "    return labels"
   ]
  },
  {
   "cell_type": "code",
   "execution_count": 15,
   "id": "cb737f07-7919-4b9d-b106-6294809eac68",
   "metadata": {
    "tags": []
   },
   "outputs": [],
   "source": [
    "spy_2021_new_labels = red_green(spy_wr_2021.mean_return,spy_wr_2021.volatility,0,25)"
   ]
  },
  {
   "cell_type": "code",
   "execution_count": 16,
   "id": "1b3d107b-c7ad-48c0-bf86-e4bd6d2ec572",
   "metadata": {
    "tags": []
   },
   "outputs": [],
   "source": [
    "spy_wr_2021_nl = spy_wr_2021.copy(deep=True)\n",
    "spy_wr_2021_nl['Label'] = spy_2021_new_labels"
   ]
  },
  {
   "cell_type": "code",
   "execution_count": 17,
   "id": "47aada72-7c53-4bb7-bf2e-fd35df0fc64a",
   "metadata": {
    "tags": []
   },
   "outputs": [
    {
     "data": {
      "text/plain": [
       "(-25.0, 30.0)"
      ]
     },
     "execution_count": 17,
     "metadata": {},
     "output_type": "execute_result"
    },
    {
     "data": {
      "image/png": "[encoded data removed]",
      "text/plain": [
       "<Figure size 500x500 with 1 Axes>"
      ]
     },
     "metadata": {},
     "output_type": "display_data"
    }
   ],
   "source": [
    "fig = plt.figure(1,figsize=(5,5))\n",
    "plt.subplot(111)\n",
    "plt.scatter(data=spy_wr_2021_nl, x='mean_return', y='volatility',c='Label')\n",
    "plt.plot([0,2],[0,50])\n",
    "# for i in range(0,52):\n",
    "#         plt.annotate(spy_wr_2021_nl.iloc[i,1],(spy_wr_2021_nl.iloc[i,2],spy_wr_2021_nl.iloc[i,3]),rotation=0)\n",
    "plt.xlabel(\"Return\");plt.ylabel('Standard Deviation');\n",
    "plt.title(f'2021 GameStop $\\mu, \\sigma$, new labels')\n",
    "plt.savefig('./spy_2021_new_labels.png')\n",
    "plt.ylim(0,50)\n",
    "plt.xlim(-25,30)"
   ]
  },
  {
   "cell_type": "code",
   "execution_count": 18,
   "id": "d59d76d0-e2f2-4b03-a74e-e62113d02302",
   "metadata": {
    "tags": []
   },
   "outputs": [],
   "source": [
    "def buy_and_hold(stock):\n",
    "    return list(100*(stock.tail(1)[\"Adj Close\"].values.astype(float))/\\\n",
    "            stock.head(1)['Open'].values.astype(float))[0]"
   ]
  },
  {
   "cell_type": "code",
   "execution_count": 19,
   "id": "c1795ed2-8b99-49ec-8569-e346889de2e0",
   "metadata": {},
   "outputs": [],
   "source": [
    "def trade_from_open_close(stock):\n",
    "    '''Return a dataframe with weekly return factors based on first day of week\n",
    "    open and last day of week close'''\n",
    "    stock_by_week = pd.DataFrame(\n",
    "        columns=['Year','Week_Number',\"Open\",\"Adj Close\", 'Return', \"Label\"])\n",
    "    y = stock.Year.unique()[0]\n",
    "    \n",
    "    for inx, week_num in enumerate(stock[\"Week_Number\"].unique()):\n",
    "        this_week = stock[stock[\"Week_Number\"]==week_num]\n",
    "        o = this_week.head(1)['Open'].values[0]\n",
    "        ac = this_week.tail(1)['Adj Close'].values[0]\n",
    "        r = 1+(ac-o)/o\n",
    "        l = this_week.head(1)['Label'].values[0]\n",
    "        stock_by_week.loc[inx,:] = [y,week_num,o,ac,r,l]\n",
    "    return stock_by_week"
   ]
  },
  {
   "cell_type": "code",
   "execution_count": 20,
   "id": "a864966e-775e-4751-afd4-538aaafc88ee",
   "metadata": {
    "tags": []
   },
   "outputs": [],
   "source": [
    "def buy_hold_weekly(stock):\n",
    "    tail_ac = []\n",
    "    o = stock.head(1)['Open']\n",
    "    for wk in sorted(stock['Week_Number'].unique()):\n",
    "        ac = stock[stock[\"Week_Number\"] == \\\n",
    "                              wk].tail(1)['Adj Close'].values[0]\n",
    "        tail_ac.append(ac)\n",
    "    r = np.array(tail_ac)/o.values[0]\n",
    "    return r"
   ]
  },
  {
   "cell_type": "code",
   "execution_count": 21,
   "id": "575a446b-53da-4d5d-a38a-112293e676be",
   "metadata": {
    "tags": []
   },
   "outputs": [],
   "source": [
    "spy2021 = spy.query('Year == 2021')"
   ]
  },
  {
   "cell_type": "code",
   "execution_count": 22,
   "id": "2f2880c9-1a36-405e-9877-dab71962dbb0",
   "metadata": {
    "tags": []
   },
   "outputs": [],
   "source": [
    "dict_labs = dict(zip(spy2021.Year_Week.unique(),spy_2021_new_labels))\n",
    "spy2021 = spy2021.assign(Label=[dict_labs[y_w] for y_w in spy2021.Year_Week])"
   ]
  },
  {
   "cell_type": "code",
   "execution_count": 23,
   "id": "c167e2ed-389b-41d6-b842-bca638467309",
   "metadata": {
    "tags": []
   },
   "outputs": [],
   "source": [
    "spy_sbw = trade_from_open_close(spy2021) # stock by week"
   ]
  },
  {
   "cell_type": "markdown",
   "id": "8a16290c-63b4-4850-9ec4-67cf1b7b83fc",
   "metadata": {},
   "source": [
    "Cumulative returns: Buy open, Sell Close, Trade Green.  138.15x return"
   ]
  },
  {
   "cell_type": "code",
   "execution_count": 24,
   "id": "40ebaf6f-18d1-4c0a-beca-1dc0624b7002",
   "metadata": {
    "tags": []
   },
   "outputs": [
    {
     "data": {
      "text/plain": [
       "(array([97.56, 97.56, 94.83, 94.83, 94.49, 91.53, 91.53, 91.53, 87.46,\n",
       "        86.06, 86.06, 84.19, 82.4 , 80.98, 79.24, 79.24, 76.33, 74.02,\n",
       "        74.02, 74.02, 71.79, 69.18, 66.93, 66.93, 66.23, 65.01, 63.1 ,\n",
       "        63.1 , 62.97, 62.97, 61.17, 59.59, 59.59, 58.27, 56.6 , 56.6 ,\n",
       "        56.6 , 56.03, 56.03, 54.95, 54.35, 53.8 , 52.75, 52.07, 52.07,\n",
       "        50.52, 50.52, 50.52, 50.57, 50.57, 50.96, 50.03]),\n",
       " array([97.56, 93.17, 90.56, 83.89, 83.59, 80.98, 77.  , 72.67, 69.44,\n",
       "        68.32, 65.02, 63.61, 62.26, 61.19, 59.88, 57.76, 55.64, 53.96,\n",
       "        51.26, 49.34, 47.85, 46.11, 44.62, 42.17, 41.72, 40.95, 39.75,\n",
       "        38.07, 37.99, 36.66, 35.61, 34.69, 33.45, 32.71, 31.77, 30.22,\n",
       "        28.83, 28.54, 27.15, 26.62, 26.33, 26.07, 25.56, 25.23, 24.34,\n",
       "        23.62, 22.33, 21.16, 21.17, 20.16, 20.31, 19.94]),\n",
       " array([ 97.56,  96.14,  97.98,  94.7 ,  99.22, 100.48,  99.81,  97.34,\n",
       "         98.17, 100.84,  99.99, 101.67, 102.85, 105.65, 107.13, 106.99,\n",
       "        107.14, 108.38, 106.95, 106.53, 107.84, 108.5 , 108.94, 106.88,\n",
       "        109.89, 111.72, 112.18, 111.11, 113.32, 112.95, 113.98, 114.86,\n",
       "        114.2 , 115.98, 116.71, 114.74, 114.06, 114.71, 112.21, 113.15,\n",
       "        115.22, 117.09, 118.67, 121.07, 120.75, 121.16, 118.6 , 117.17,\n",
       "        121.64, 119.25, 122.03, 123.47]),\n",
       " 123.47392821933867)"
      ]
     },
     "execution_count": 24,
     "metadata": {},
     "output_type": "execute_result"
    }
   ],
   "source": [
    "labels = spy_sbw.Label\n",
    "returns = spy_sbw.Return\n",
    "trade_green = np.round(100*np.cumprod(np.where(labels=='Green',\n",
    "                             returns.values.astype(float),1)),2)\n",
    "trade_all_weeks = np.round(100*np.cumprod(returns.values.astype(float)),2)\n",
    "bh_weekly = np.round(100*buy_hold_weekly(spy2021),2)\n",
    "trade_green,trade_all_weeks,bh_weekly,buy_and_hold(spy2021)"
   ]
  },
  {
   "cell_type": "code",
   "execution_count": 25,
   "id": "78ac4714-f178-4b81-8ab9-11cd0c6b405a",
   "metadata": {
    "tags": []
   },
   "outputs": [
    {
     "data": {
      "text/plain": [
       "array([ 97.56,  96.14,  97.98,  94.7 ,  99.22, 100.48,  99.81,  97.34,\n",
       "        98.17, 100.84,  99.99, 101.67, 102.85, 105.65, 107.13, 106.99,\n",
       "       107.14, 108.38, 106.95, 106.53, 107.84, 108.5 , 108.94, 106.88,\n",
       "       109.89, 111.72, 112.18, 111.11, 113.32, 112.95, 113.98, 114.86,\n",
       "       114.2 , 115.98, 116.71, 114.74, 114.06, 114.71, 112.21, 113.15,\n",
       "       115.22, 117.09, 118.67, 121.07, 120.75, 121.16, 118.6 , 117.17,\n",
       "       121.64, 119.25, 122.03, 123.47])"
      ]
     },
     "execution_count": 25,
     "metadata": {},
     "output_type": "execute_result"
    }
   ],
   "source": [
    "bh_weekly = np.round(100*buy_hold_weekly(spy2021),2)\n",
    "bh_weekly"
   ]
  },
  {
   "cell_type": "markdown",
   "id": "304921e7-d0da-4f64-8d19-dd461e5a4d2f",
   "metadata": {},
   "source": [
    "From above, a \\\\$100 portfolio kept in the market on green weeks would accumulate to \\\\$13,814.94, while a portfolio that trades on all weeks would accumulate to $242.24.  Meanwhile, a simple buy and hold approach that does not miss weekend trading would accumulate to \\\\$817.47, which highlights the importance here of being invested between the Friday close and the Monday open."
   ]
  },
  {
   "cell_type": "code",
   "execution_count": 1,
   "id": "869cc4e4-8b1c-43fc-8254-323be82dce60",
   "metadata": {},
   "outputs": [
    {
     "ename": "NameError",
     "evalue": "name 'plt' is not defined",
     "output_type": "error",
     "traceback": [
      "\u001b[0;31m---------------------------------------------------------------------------\u001b[0m",
      "\u001b[0;31mNameError\u001b[0m                                 Traceback (most recent call last)",
      "Cell \u001b[0;32mIn[1], line 1\u001b[0m\n\u001b[0;32m----> 1\u001b[0m \u001b[43mplt\u001b[49m\u001b[38;5;241m.\u001b[39mplot(\u001b[38;5;28mrange\u001b[39m(\u001b[38;5;28mlen\u001b[39m(trade_green)),trade_green,\n\u001b[1;32m      2\u001b[0m         \u001b[38;5;28mrange\u001b[39m(\u001b[38;5;28mlen\u001b[39m(trade_all_weeks)),trade_all_weeks,\n\u001b[1;32m      3\u001b[0m         \u001b[38;5;28mrange\u001b[39m(\u001b[38;5;28mlen\u001b[39m(bh_weekly)),bh_weekly)\n\u001b[1;32m      4\u001b[0m plt\u001b[38;5;241m.\u001b[39mlegend([\u001b[38;5;124m'\u001b[39m\u001b[38;5;124mtrade green\u001b[39m\u001b[38;5;124m'\u001b[39m,\u001b[38;5;124m'\u001b[39m\u001b[38;5;124mtrade all weeks\u001b[39m\u001b[38;5;124m'\u001b[39m,\u001b[38;5;124m'\u001b[39m\u001b[38;5;124mbuy and hold\u001b[39m\u001b[38;5;124m'\u001b[39m])\n\u001b[1;32m      5\u001b[0m plt\u001b[38;5;241m.\u001b[39mxlabel(\u001b[38;5;124m'\u001b[39m\u001b[38;5;124mWeek #\u001b[39m\u001b[38;5;124m'\u001b[39m)\n",
      "\u001b[0;31mNameError\u001b[0m: name 'plt' is not defined"
     ]
    }
   ],
   "source": [
    "plt.plot(range(len(trade_green)),trade_green,\n",
    "        range(len(trade_all_weeks)),trade_all_weeks,\n",
    "        range(len(bh_weekly)),bh_weekly)\n",
    "plt.legend(['trade green','trade all weeks','buy and hold'])\n",
    "plt.xlabel('Week #')\n",
    "plt.ylabel('Portfolio Dollar Value')\n",
    "plt.title('SPY $100 Accumulation')\n",
    "plt.savefig('./spy_100_accumulation.jpg')"
   ]
  },
  {
   "cell_type": "markdown",
   "id": "2fdee54d-dbad-4148-b79f-7121ba7a614a",
   "metadata": {},
   "source": [
    "#### Statistical Oracle"
   ]
  },
  {
   "cell_type": "markdown",
   "id": "0f836ae4-d024-4375-823f-4fd678ab2649",
   "metadata": {},
   "source": [
    "Questions:\n",
    "\n",
    "1. If you buy a stock for just one week, what is the best and worst week (on the average) of the month to do so? Re- call that Weekly returns would always mean returns from ’Friday” close price to next Friday’s ”close” price.\n",
    "\n",
    "2. What is the best and worst month to be invested in your stock and in S&P-500? Should you take a break from in- vesting in the summer months?\n",
    "\n",
    "3. comparison of returns if you have an ”oracle” that can sta- tistically predict the future behavior of your stock price for next week\n",
    "\n"
   ]
  },
  {
   "cell_type": "markdown",
   "id": "b7531f51-cd2d-4c33-a854-dbf01be72995",
   "metadata": {},
   "source": [
    "##### Question 1"
   ]
  },
  {
   "cell_type": "markdown",
   "id": "731c7918-cdd9-4f84-9e6b-dfe67a6ba00a",
   "metadata": {},
   "source": [
    "##### 1. for each of the five years, compute the mean and standard deviation for the sets R, R− and R+ of weekly returns for your stock for each week of the month"
   ]
  },
  {
   "cell_type": "markdown",
   "id": "d9a36fb6-f79c-4395-b91f-04445e1e0b44",
   "metadata": {
    "tags": []
   },
   "source": [
    "First I need to generate new weekly labels so that the week with the first Friday of the month is Week 1 for each month, etc."
   ]
  },
  {
   "cell_type": "code",
   "execution_count": 27,
   "id": "8755b2bd-7ea8-4305-a527-9e96caf5cf36",
   "metadata": {
    "tags": []
   },
   "outputs": [],
   "source": [
    "spy_week_number_labeling = spy.copy(deep=True)"
   ]
  },
  {
   "cell_type": "code",
   "execution_count": 28,
   "id": "0981863f-7611-4389-85df-d3ec3fba212e",
   "metadata": {
    "tags": []
   },
   "outputs": [
    {
     "data": {
      "text/html": [
       "<div>\n",
       "<style scoped>\n",
       "    .dataframe tbody tr th:only-of-type {\n",
       "        vertical-align: middle;\n",
       "    }\n",
       "\n",
       "    .dataframe tbody tr th {\n",
       "        vertical-align: top;\n",
       "    }\n",
       "\n",
       "    .dataframe thead th {\n",
       "        text-align: right;\n",
       "    }\n",
       "</style>\n",
       "<table border=\"1\" class=\"dataframe\">\n",
       "  <thead>\n",
       "    <tr style=\"text-align: right;\">\n",
       "      <th></th>\n",
       "      <th>Year</th>\n",
       "      <th>Year_Week</th>\n",
       "      <th>Week_Number</th>\n",
       "      <th>Day</th>\n",
       "      <th>Weekday</th>\n",
       "      <th>Open</th>\n",
       "      <th>Adj Close</th>\n",
       "      <th>Return</th>\n",
       "      <th>Month</th>\n",
       "    </tr>\n",
       "  </thead>\n",
       "  <tbody>\n",
       "    <tr>\n",
       "      <th>0</th>\n",
       "      <td>2017</td>\n",
       "      <td>2017-01</td>\n",
       "      <td>1</td>\n",
       "      <td>3</td>\n",
       "      <td>Tuesday</td>\n",
       "      <td>225.04</td>\n",
       "      <td>200.63</td>\n",
       "      <td>0.000000</td>\n",
       "      <td>1</td>\n",
       "    </tr>\n",
       "    <tr>\n",
       "      <th>1</th>\n",
       "      <td>2017</td>\n",
       "      <td>2017-01</td>\n",
       "      <td>1</td>\n",
       "      <td>4</td>\n",
       "      <td>Wednesday</td>\n",
       "      <td>225.62</td>\n",
       "      <td>201.82</td>\n",
       "      <td>0.005949</td>\n",
       "      <td>1</td>\n",
       "    </tr>\n",
       "    <tr>\n",
       "      <th>2</th>\n",
       "      <td>2017</td>\n",
       "      <td>2017-01</td>\n",
       "      <td>1</td>\n",
       "      <td>5</td>\n",
       "      <td>Thursday</td>\n",
       "      <td>226.27</td>\n",
       "      <td>201.66</td>\n",
       "      <td>-0.000795</td>\n",
       "      <td>1</td>\n",
       "    </tr>\n",
       "    <tr>\n",
       "      <th>3</th>\n",
       "      <td>2017</td>\n",
       "      <td>2017-01</td>\n",
       "      <td>1</td>\n",
       "      <td>6</td>\n",
       "      <td>Friday</td>\n",
       "      <td>226.53</td>\n",
       "      <td>202.38</td>\n",
       "      <td>0.003578</td>\n",
       "      <td>1</td>\n",
       "    </tr>\n",
       "    <tr>\n",
       "      <th>4</th>\n",
       "      <td>2017</td>\n",
       "      <td>2017-02</td>\n",
       "      <td>2</td>\n",
       "      <td>9</td>\n",
       "      <td>Monday</td>\n",
       "      <td>226.91</td>\n",
       "      <td>201.72</td>\n",
       "      <td>-0.003301</td>\n",
       "      <td>1</td>\n",
       "    </tr>\n",
       "    <tr>\n",
       "      <th>...</th>\n",
       "      <td>...</td>\n",
       "      <td>...</td>\n",
       "      <td>...</td>\n",
       "      <td>...</td>\n",
       "      <td>...</td>\n",
       "      <td>...</td>\n",
       "      <td>...</td>\n",
       "      <td>...</td>\n",
       "      <td>...</td>\n",
       "    </tr>\n",
       "    <tr>\n",
       "      <th>1253</th>\n",
       "      <td>2021</td>\n",
       "      <td>2021-51</td>\n",
       "      <td>51</td>\n",
       "      <td>23</td>\n",
       "      <td>Thursday</td>\n",
       "      <td>468.75</td>\n",
       "      <td>458.00</td>\n",
       "      <td>0.006222</td>\n",
       "      <td>12</td>\n",
       "    </tr>\n",
       "    <tr>\n",
       "      <th>1254</th>\n",
       "      <td>2021</td>\n",
       "      <td>2021-52</td>\n",
       "      <td>52</td>\n",
       "      <td>27</td>\n",
       "      <td>Monday</td>\n",
       "      <td>472.06</td>\n",
       "      <td>464.49</td>\n",
       "      <td>0.014152</td>\n",
       "      <td>12</td>\n",
       "    </tr>\n",
       "    <tr>\n",
       "      <th>1255</th>\n",
       "      <td>2021</td>\n",
       "      <td>2021-52</td>\n",
       "      <td>52</td>\n",
       "      <td>28</td>\n",
       "      <td>Tuesday</td>\n",
       "      <td>477.72</td>\n",
       "      <td>464.11</td>\n",
       "      <td>-0.000817</td>\n",
       "      <td>12</td>\n",
       "    </tr>\n",
       "    <tr>\n",
       "      <th>1256</th>\n",
       "      <td>2021</td>\n",
       "      <td>2021-52</td>\n",
       "      <td>52</td>\n",
       "      <td>29</td>\n",
       "      <td>Wednesday</td>\n",
       "      <td>476.98</td>\n",
       "      <td>464.70</td>\n",
       "      <td>0.001279</td>\n",
       "      <td>12</td>\n",
       "    </tr>\n",
       "    <tr>\n",
       "      <th>1257</th>\n",
       "      <td>2021</td>\n",
       "      <td>2021-52</td>\n",
       "      <td>52</td>\n",
       "      <td>30</td>\n",
       "      <td>Thursday</td>\n",
       "      <td>477.93</td>\n",
       "      <td>463.41</td>\n",
       "      <td>-0.002765</td>\n",
       "      <td>12</td>\n",
       "    </tr>\n",
       "  </tbody>\n",
       "</table>\n",
       "<p>1258 rows × 9 columns</p>\n",
       "</div>"
      ],
      "text/plain": [
       "      Year Year_Week  Week_Number  Day    Weekday    Open  Adj Close  \\\n",
       "0     2017   2017-01            1    3    Tuesday  225.04     200.63   \n",
       "1     2017   2017-01            1    4  Wednesday  225.62     201.82   \n",
       "2     2017   2017-01            1    5   Thursday  226.27     201.66   \n",
       "3     2017   2017-01            1    6     Friday  226.53     202.38   \n",
       "4     2017   2017-02            2    9     Monday  226.91     201.72   \n",
       "...    ...       ...          ...  ...        ...     ...        ...   \n",
       "1253  2021   2021-51           51   23   Thursday  468.75     458.00   \n",
       "1254  2021   2021-52           52   27     Monday  472.06     464.49   \n",
       "1255  2021   2021-52           52   28    Tuesday  477.72     464.11   \n",
       "1256  2021   2021-52           52   29  Wednesday  476.98     464.70   \n",
       "1257  2021   2021-52           52   30   Thursday  477.93     463.41   \n",
       "\n",
       "        Return  Month  \n",
       "0     0.000000      1  \n",
       "1     0.005949      1  \n",
       "2    -0.000795      1  \n",
       "3     0.003578      1  \n",
       "4    -0.003301      1  \n",
       "...        ...    ...  \n",
       "1253  0.006222     12  \n",
       "1254  0.014152     12  \n",
       "1255 -0.000817     12  \n",
       "1256  0.001279     12  \n",
       "1257 -0.002765     12  \n",
       "\n",
       "[1258 rows x 9 columns]"
      ]
     },
     "execution_count": 28,
     "metadata": {},
     "output_type": "execute_result"
    }
   ],
   "source": [
    "spy_week_number_labeling"
   ]
  },
  {
   "cell_type": "code",
   "execution_count": null,
   "id": "9d1bc6c8-c7c2-4ced-83f2-e196148a258c",
   "metadata": {},
   "outputs": [],
   "source": []
  },
  {
   "cell_type": "markdown",
   "id": "f0f7e0ff-f633-4532-9ca5-f2fb77d3816d",
   "metadata": {},
   "source": [
    "idea: code each trading day with "
   ]
  },
  {
   "cell_type": "code",
   "execution_count": 29,
   "id": "4880016a-cc4f-4444-843f-8dee3cdc849c",
   "metadata": {
    "tags": []
   },
   "outputs": [],
   "source": [
    "spy_week_number_labeling['Friday'] = np.where(spy.Weekday=='Friday',1,0)\n",
    "# spy_week_number_labeling[\"Year_Month\"] = spy_week_number_labeling['Year'].str +'-'+\\\n",
    "#                                          spy_week_number_labeling['Friday']       "
   ]
  },
  {
   "cell_type": "code",
   "execution_count": null,
   "id": "3192a1b6-2105-46b1-a2b1-f290491cd957",
   "metadata": {},
   "outputs": [],
   "source": []
  },
  {
   "cell_type": "code",
   "execution_count": 30,
   "id": "cb9c8f08-f0bf-4325-a144-b7e3a33fce15",
   "metadata": {
    "tags": []
   },
   "outputs": [
    {
     "data": {
      "text/plain": [
       "0       0\n",
       "1       0\n",
       "2       0\n",
       "3       1\n",
       "4       0\n",
       "       ..\n",
       "1253    0\n",
       "1254    0\n",
       "1255    0\n",
       "1256    0\n",
       "1257    0\n",
       "Name: Friday, Length: 1258, dtype: int64"
      ]
     },
     "execution_count": 30,
     "metadata": {},
     "output_type": "execute_result"
    }
   ],
   "source": [
    "spy_week_number_labeling[\"Friday\"] = np.where(spy.Weekday == 'Friday',1,0) \n",
    "spy_week_number_labeling[\"Friday\"]"
   ]
  },
  {
   "cell_type": "code",
   "execution_count": 31,
   "id": "3fbe05ef-194c-4329-b524-dc6e8e94cac8",
   "metadata": {
    "tags": []
   },
   "outputs": [
    {
     "data": {
      "text/html": [
       "<div>\n",
       "<style scoped>\n",
       "    .dataframe tbody tr th:only-of-type {\n",
       "        vertical-align: middle;\n",
       "    }\n",
       "\n",
       "    .dataframe tbody tr th {\n",
       "        vertical-align: top;\n",
       "    }\n",
       "\n",
       "    .dataframe thead th {\n",
       "        text-align: right;\n",
       "    }\n",
       "</style>\n",
       "<table border=\"1\" class=\"dataframe\">\n",
       "  <thead>\n",
       "    <tr style=\"text-align: right;\">\n",
       "      <th></th>\n",
       "      <th>Year</th>\n",
       "      <th>Year_Week</th>\n",
       "      <th>Week_Number</th>\n",
       "      <th>Day</th>\n",
       "      <th>Weekday</th>\n",
       "      <th>Open</th>\n",
       "      <th>Adj Close</th>\n",
       "      <th>Return</th>\n",
       "      <th>Month</th>\n",
       "      <th>Friday</th>\n",
       "    </tr>\n",
       "  </thead>\n",
       "  <tbody>\n",
       "    <tr>\n",
       "      <th>0</th>\n",
       "      <td>2017</td>\n",
       "      <td>2017-01</td>\n",
       "      <td>1</td>\n",
       "      <td>3</td>\n",
       "      <td>Tuesday</td>\n",
       "      <td>225.04</td>\n",
       "      <td>200.63</td>\n",
       "      <td>0.000000</td>\n",
       "      <td>1</td>\n",
       "      <td>0</td>\n",
       "    </tr>\n",
       "    <tr>\n",
       "      <th>1</th>\n",
       "      <td>2017</td>\n",
       "      <td>2017-01</td>\n",
       "      <td>1</td>\n",
       "      <td>4</td>\n",
       "      <td>Wednesday</td>\n",
       "      <td>225.62</td>\n",
       "      <td>201.82</td>\n",
       "      <td>0.005949</td>\n",
       "      <td>1</td>\n",
       "      <td>0</td>\n",
       "    </tr>\n",
       "    <tr>\n",
       "      <th>2</th>\n",
       "      <td>2017</td>\n",
       "      <td>2017-01</td>\n",
       "      <td>1</td>\n",
       "      <td>5</td>\n",
       "      <td>Thursday</td>\n",
       "      <td>226.27</td>\n",
       "      <td>201.66</td>\n",
       "      <td>-0.000795</td>\n",
       "      <td>1</td>\n",
       "      <td>0</td>\n",
       "    </tr>\n",
       "    <tr>\n",
       "      <th>3</th>\n",
       "      <td>2017</td>\n",
       "      <td>2017-01</td>\n",
       "      <td>1</td>\n",
       "      <td>6</td>\n",
       "      <td>Friday</td>\n",
       "      <td>226.53</td>\n",
       "      <td>202.38</td>\n",
       "      <td>0.003578</td>\n",
       "      <td>1</td>\n",
       "      <td>1</td>\n",
       "    </tr>\n",
       "    <tr>\n",
       "      <th>4</th>\n",
       "      <td>2017</td>\n",
       "      <td>2017-02</td>\n",
       "      <td>2</td>\n",
       "      <td>9</td>\n",
       "      <td>Monday</td>\n",
       "      <td>226.91</td>\n",
       "      <td>201.72</td>\n",
       "      <td>-0.003301</td>\n",
       "      <td>1</td>\n",
       "      <td>0</td>\n",
       "    </tr>\n",
       "    <tr>\n",
       "      <th>...</th>\n",
       "      <td>...</td>\n",
       "      <td>...</td>\n",
       "      <td>...</td>\n",
       "      <td>...</td>\n",
       "      <td>...</td>\n",
       "      <td>...</td>\n",
       "      <td>...</td>\n",
       "      <td>...</td>\n",
       "      <td>...</td>\n",
       "      <td>...</td>\n",
       "    </tr>\n",
       "    <tr>\n",
       "      <th>1253</th>\n",
       "      <td>2021</td>\n",
       "      <td>2021-51</td>\n",
       "      <td>51</td>\n",
       "      <td>23</td>\n",
       "      <td>Thursday</td>\n",
       "      <td>468.75</td>\n",
       "      <td>458.00</td>\n",
       "      <td>0.006222</td>\n",
       "      <td>12</td>\n",
       "      <td>0</td>\n",
       "    </tr>\n",
       "    <tr>\n",
       "      <th>1254</th>\n",
       "      <td>2021</td>\n",
       "      <td>2021-52</td>\n",
       "      <td>52</td>\n",
       "      <td>27</td>\n",
       "      <td>Monday</td>\n",
       "      <td>472.06</td>\n",
       "      <td>464.49</td>\n",
       "      <td>0.014152</td>\n",
       "      <td>12</td>\n",
       "      <td>0</td>\n",
       "    </tr>\n",
       "    <tr>\n",
       "      <th>1255</th>\n",
       "      <td>2021</td>\n",
       "      <td>2021-52</td>\n",
       "      <td>52</td>\n",
       "      <td>28</td>\n",
       "      <td>Tuesday</td>\n",
       "      <td>477.72</td>\n",
       "      <td>464.11</td>\n",
       "      <td>-0.000817</td>\n",
       "      <td>12</td>\n",
       "      <td>0</td>\n",
       "    </tr>\n",
       "    <tr>\n",
       "      <th>1256</th>\n",
       "      <td>2021</td>\n",
       "      <td>2021-52</td>\n",
       "      <td>52</td>\n",
       "      <td>29</td>\n",
       "      <td>Wednesday</td>\n",
       "      <td>476.98</td>\n",
       "      <td>464.70</td>\n",
       "      <td>0.001279</td>\n",
       "      <td>12</td>\n",
       "      <td>0</td>\n",
       "    </tr>\n",
       "    <tr>\n",
       "      <th>1257</th>\n",
       "      <td>2021</td>\n",
       "      <td>2021-52</td>\n",
       "      <td>52</td>\n",
       "      <td>30</td>\n",
       "      <td>Thursday</td>\n",
       "      <td>477.93</td>\n",
       "      <td>463.41</td>\n",
       "      <td>-0.002765</td>\n",
       "      <td>12</td>\n",
       "      <td>0</td>\n",
       "    </tr>\n",
       "  </tbody>\n",
       "</table>\n",
       "<p>1258 rows × 10 columns</p>\n",
       "</div>"
      ],
      "text/plain": [
       "      Year Year_Week  Week_Number  Day    Weekday    Open  Adj Close  \\\n",
       "0     2017   2017-01            1    3    Tuesday  225.04     200.63   \n",
       "1     2017   2017-01            1    4  Wednesday  225.62     201.82   \n",
       "2     2017   2017-01            1    5   Thursday  226.27     201.66   \n",
       "3     2017   2017-01            1    6     Friday  226.53     202.38   \n",
       "4     2017   2017-02            2    9     Monday  226.91     201.72   \n",
       "...    ...       ...          ...  ...        ...     ...        ...   \n",
       "1253  2021   2021-51           51   23   Thursday  468.75     458.00   \n",
       "1254  2021   2021-52           52   27     Monday  472.06     464.49   \n",
       "1255  2021   2021-52           52   28    Tuesday  477.72     464.11   \n",
       "1256  2021   2021-52           52   29  Wednesday  476.98     464.70   \n",
       "1257  2021   2021-52           52   30   Thursday  477.93     463.41   \n",
       "\n",
       "        Return  Month  Friday  \n",
       "0     0.000000      1       0  \n",
       "1     0.005949      1       0  \n",
       "2    -0.000795      1       0  \n",
       "3     0.003578      1       1  \n",
       "4    -0.003301      1       0  \n",
       "...        ...    ...     ...  \n",
       "1253  0.006222     12       0  \n",
       "1254  0.014152     12       0  \n",
       "1255 -0.000817     12       0  \n",
       "1256  0.001279     12       0  \n",
       "1257 -0.002765     12       0  \n",
       "\n",
       "[1258 rows x 10 columns]"
      ]
     },
     "execution_count": 31,
     "metadata": {},
     "output_type": "execute_result"
    }
   ],
   "source": [
    "spy_week_number_labeling"
   ]
  },
  {
   "cell_type": "code",
   "execution_count": 32,
   "id": "bb89dc62-4c93-4247-b818-472a3bb10b4a",
   "metadata": {
    "tags": []
   },
   "outputs": [
    {
     "data": {
      "text/plain": [
       "array([0, 0, 0, 1, 1, 2, 3, 3, 3, 3])"
      ]
     },
     "execution_count": 32,
     "metadata": {},
     "output_type": "execute_result"
    }
   ],
   "source": [
    "r = list(range(10))\n",
    "np.where(np.cumsum(r)<=3,0,np.where(np.cumsum(r)<=10,1,np.where(np.cumsum(r)<=20,2,3)))"
   ]
  },
  {
   "cell_type": "code",
   "execution_count": 33,
   "id": "b707f478-61f5-4cb4-b55b-00c8a0c33503",
   "metadata": {
    "tags": []
   },
   "outputs": [
    {
     "data": {
      "text/html": [
       "<div>\n",
       "<style scoped>\n",
       "    .dataframe tbody tr th:only-of-type {\n",
       "        vertical-align: middle;\n",
       "    }\n",
       "\n",
       "    .dataframe tbody tr th {\n",
       "        vertical-align: top;\n",
       "    }\n",
       "\n",
       "    .dataframe thead th {\n",
       "        text-align: right;\n",
       "    }\n",
       "</style>\n",
       "<table border=\"1\" class=\"dataframe\">\n",
       "  <thead>\n",
       "    <tr style=\"text-align: right;\">\n",
       "      <th></th>\n",
       "      <th>Year</th>\n",
       "      <th>Year_Week</th>\n",
       "      <th>Week_Number</th>\n",
       "      <th>Day</th>\n",
       "      <th>Weekday</th>\n",
       "      <th>Open</th>\n",
       "      <th>Adj Close</th>\n",
       "      <th>Return</th>\n",
       "      <th>Month</th>\n",
       "      <th>Friday</th>\n",
       "    </tr>\n",
       "  </thead>\n",
       "  <tbody>\n",
       "    <tr>\n",
       "      <th>0</th>\n",
       "      <td>2017</td>\n",
       "      <td>2017-01</td>\n",
       "      <td>1</td>\n",
       "      <td>3</td>\n",
       "      <td>Tuesday</td>\n",
       "      <td>225.04</td>\n",
       "      <td>200.63</td>\n",
       "      <td>0.000000</td>\n",
       "      <td>1</td>\n",
       "      <td>0</td>\n",
       "    </tr>\n",
       "    <tr>\n",
       "      <th>1</th>\n",
       "      <td>2017</td>\n",
       "      <td>2017-01</td>\n",
       "      <td>1</td>\n",
       "      <td>4</td>\n",
       "      <td>Wednesday</td>\n",
       "      <td>225.62</td>\n",
       "      <td>201.82</td>\n",
       "      <td>0.005949</td>\n",
       "      <td>1</td>\n",
       "      <td>0</td>\n",
       "    </tr>\n",
       "    <tr>\n",
       "      <th>2</th>\n",
       "      <td>2017</td>\n",
       "      <td>2017-01</td>\n",
       "      <td>1</td>\n",
       "      <td>5</td>\n",
       "      <td>Thursday</td>\n",
       "      <td>226.27</td>\n",
       "      <td>201.66</td>\n",
       "      <td>-0.000795</td>\n",
       "      <td>1</td>\n",
       "      <td>0</td>\n",
       "    </tr>\n",
       "    <tr>\n",
       "      <th>3</th>\n",
       "      <td>2017</td>\n",
       "      <td>2017-01</td>\n",
       "      <td>1</td>\n",
       "      <td>6</td>\n",
       "      <td>Friday</td>\n",
       "      <td>226.53</td>\n",
       "      <td>202.38</td>\n",
       "      <td>0.003578</td>\n",
       "      <td>1</td>\n",
       "      <td>1</td>\n",
       "    </tr>\n",
       "    <tr>\n",
       "      <th>4</th>\n",
       "      <td>2017</td>\n",
       "      <td>2017-02</td>\n",
       "      <td>2</td>\n",
       "      <td>9</td>\n",
       "      <td>Monday</td>\n",
       "      <td>226.91</td>\n",
       "      <td>201.72</td>\n",
       "      <td>-0.003301</td>\n",
       "      <td>1</td>\n",
       "      <td>0</td>\n",
       "    </tr>\n",
       "    <tr>\n",
       "      <th>5</th>\n",
       "      <td>2017</td>\n",
       "      <td>2017-02</td>\n",
       "      <td>2</td>\n",
       "      <td>10</td>\n",
       "      <td>Tuesday</td>\n",
       "      <td>226.48</td>\n",
       "      <td>201.72</td>\n",
       "      <td>0.000000</td>\n",
       "      <td>1</td>\n",
       "      <td>0</td>\n",
       "    </tr>\n",
       "    <tr>\n",
       "      <th>6</th>\n",
       "      <td>2017</td>\n",
       "      <td>2017-02</td>\n",
       "      <td>2</td>\n",
       "      <td>11</td>\n",
       "      <td>Wednesday</td>\n",
       "      <td>226.36</td>\n",
       "      <td>202.29</td>\n",
       "      <td>0.002826</td>\n",
       "      <td>1</td>\n",
       "      <td>0</td>\n",
       "    </tr>\n",
       "    <tr>\n",
       "      <th>7</th>\n",
       "      <td>2017</td>\n",
       "      <td>2017-02</td>\n",
       "      <td>2</td>\n",
       "      <td>12</td>\n",
       "      <td>Thursday</td>\n",
       "      <td>226.50</td>\n",
       "      <td>201.78</td>\n",
       "      <td>-0.002510</td>\n",
       "      <td>1</td>\n",
       "      <td>0</td>\n",
       "    </tr>\n",
       "    <tr>\n",
       "      <th>8</th>\n",
       "      <td>2017</td>\n",
       "      <td>2017-02</td>\n",
       "      <td>2</td>\n",
       "      <td>13</td>\n",
       "      <td>Friday</td>\n",
       "      <td>226.73</td>\n",
       "      <td>202.24</td>\n",
       "      <td>0.002296</td>\n",
       "      <td>1</td>\n",
       "      <td>1</td>\n",
       "    </tr>\n",
       "    <tr>\n",
       "      <th>9</th>\n",
       "      <td>2017</td>\n",
       "      <td>2017-03</td>\n",
       "      <td>3</td>\n",
       "      <td>17</td>\n",
       "      <td>Tuesday</td>\n",
       "      <td>226.31</td>\n",
       "      <td>201.53</td>\n",
       "      <td>-0.003524</td>\n",
       "      <td>1</td>\n",
       "      <td>0</td>\n",
       "    </tr>\n",
       "    <tr>\n",
       "      <th>10</th>\n",
       "      <td>2017</td>\n",
       "      <td>2017-03</td>\n",
       "      <td>3</td>\n",
       "      <td>18</td>\n",
       "      <td>Wednesday</td>\n",
       "      <td>226.54</td>\n",
       "      <td>201.97</td>\n",
       "      <td>0.002210</td>\n",
       "      <td>1</td>\n",
       "      <td>0</td>\n",
       "    </tr>\n",
       "    <tr>\n",
       "      <th>11</th>\n",
       "      <td>2017</td>\n",
       "      <td>2017-03</td>\n",
       "      <td>3</td>\n",
       "      <td>19</td>\n",
       "      <td>Thursday</td>\n",
       "      <td>226.84</td>\n",
       "      <td>201.23</td>\n",
       "      <td>-0.003704</td>\n",
       "      <td>1</td>\n",
       "      <td>0</td>\n",
       "    </tr>\n",
       "    <tr>\n",
       "      <th>12</th>\n",
       "      <td>2017</td>\n",
       "      <td>2017-03</td>\n",
       "      <td>3</td>\n",
       "      <td>20</td>\n",
       "      <td>Friday</td>\n",
       "      <td>226.70</td>\n",
       "      <td>201.97</td>\n",
       "      <td>0.003674</td>\n",
       "      <td>1</td>\n",
       "      <td>1</td>\n",
       "    </tr>\n",
       "    <tr>\n",
       "      <th>13</th>\n",
       "      <td>2017</td>\n",
       "      <td>2017-04</td>\n",
       "      <td>4</td>\n",
       "      <td>23</td>\n",
       "      <td>Monday</td>\n",
       "      <td>226.74</td>\n",
       "      <td>201.44</td>\n",
       "      <td>-0.002602</td>\n",
       "      <td>1</td>\n",
       "      <td>0</td>\n",
       "    </tr>\n",
       "    <tr>\n",
       "      <th>14</th>\n",
       "      <td>2017</td>\n",
       "      <td>2017-04</td>\n",
       "      <td>4</td>\n",
       "      <td>24</td>\n",
       "      <td>Tuesday</td>\n",
       "      <td>226.40</td>\n",
       "      <td>202.73</td>\n",
       "      <td>0.006412</td>\n",
       "      <td>1</td>\n",
       "      <td>0</td>\n",
       "    </tr>\n",
       "    <tr>\n",
       "      <th>15</th>\n",
       "      <td>2017</td>\n",
       "      <td>2017-04</td>\n",
       "      <td>4</td>\n",
       "      <td>25</td>\n",
       "      <td>Wednesday</td>\n",
       "      <td>228.70</td>\n",
       "      <td>204.49</td>\n",
       "      <td>0.008656</td>\n",
       "      <td>1</td>\n",
       "      <td>0</td>\n",
       "    </tr>\n",
       "    <tr>\n",
       "      <th>16</th>\n",
       "      <td>2017</td>\n",
       "      <td>2017-04</td>\n",
       "      <td>4</td>\n",
       "      <td>26</td>\n",
       "      <td>Thursday</td>\n",
       "      <td>229.40</td>\n",
       "      <td>204.27</td>\n",
       "      <td>-0.001046</td>\n",
       "      <td>1</td>\n",
       "      <td>0</td>\n",
       "    </tr>\n",
       "    <tr>\n",
       "      <th>17</th>\n",
       "      <td>2017</td>\n",
       "      <td>2017-04</td>\n",
       "      <td>4</td>\n",
       "      <td>27</td>\n",
       "      <td>Friday</td>\n",
       "      <td>229.42</td>\n",
       "      <td>203.95</td>\n",
       "      <td>-0.001570</td>\n",
       "      <td>1</td>\n",
       "      <td>1</td>\n",
       "    </tr>\n",
       "    <tr>\n",
       "      <th>18</th>\n",
       "      <td>2017</td>\n",
       "      <td>2017-05</td>\n",
       "      <td>5</td>\n",
       "      <td>30</td>\n",
       "      <td>Monday</td>\n",
       "      <td>228.17</td>\n",
       "      <td>202.69</td>\n",
       "      <td>-0.006202</td>\n",
       "      <td>1</td>\n",
       "      <td>0</td>\n",
       "    </tr>\n",
       "    <tr>\n",
       "      <th>19</th>\n",
       "      <td>2017</td>\n",
       "      <td>2017-05</td>\n",
       "      <td>5</td>\n",
       "      <td>31</td>\n",
       "      <td>Tuesday</td>\n",
       "      <td>226.98</td>\n",
       "      <td>202.67</td>\n",
       "      <td>-0.000088</td>\n",
       "      <td>1</td>\n",
       "      <td>0</td>\n",
       "    </tr>\n",
       "  </tbody>\n",
       "</table>\n",
       "</div>"
      ],
      "text/plain": [
       "    Year Year_Week  Week_Number  Day    Weekday    Open  Adj Close    Return  \\\n",
       "0   2017   2017-01            1    3    Tuesday  225.04     200.63  0.000000   \n",
       "1   2017   2017-01            1    4  Wednesday  225.62     201.82  0.005949   \n",
       "2   2017   2017-01            1    5   Thursday  226.27     201.66 -0.000795   \n",
       "3   2017   2017-01            1    6     Friday  226.53     202.38  0.003578   \n",
       "4   2017   2017-02            2    9     Monday  226.91     201.72 -0.003301   \n",
       "5   2017   2017-02            2   10    Tuesday  226.48     201.72  0.000000   \n",
       "6   2017   2017-02            2   11  Wednesday  226.36     202.29  0.002826   \n",
       "7   2017   2017-02            2   12   Thursday  226.50     201.78 -0.002510   \n",
       "8   2017   2017-02            2   13     Friday  226.73     202.24  0.002296   \n",
       "9   2017   2017-03            3   17    Tuesday  226.31     201.53 -0.003524   \n",
       "10  2017   2017-03            3   18  Wednesday  226.54     201.97  0.002210   \n",
       "11  2017   2017-03            3   19   Thursday  226.84     201.23 -0.003704   \n",
       "12  2017   2017-03            3   20     Friday  226.70     201.97  0.003674   \n",
       "13  2017   2017-04            4   23     Monday  226.74     201.44 -0.002602   \n",
       "14  2017   2017-04            4   24    Tuesday  226.40     202.73  0.006412   \n",
       "15  2017   2017-04            4   25  Wednesday  228.70     204.49  0.008656   \n",
       "16  2017   2017-04            4   26   Thursday  229.40     204.27 -0.001046   \n",
       "17  2017   2017-04            4   27     Friday  229.42     203.95 -0.001570   \n",
       "18  2017   2017-05            5   30     Monday  228.17     202.69 -0.006202   \n",
       "19  2017   2017-05            5   31    Tuesday  226.98     202.67 -0.000088   \n",
       "\n",
       "    Month  Friday  \n",
       "0       1       0  \n",
       "1       1       0  \n",
       "2       1       0  \n",
       "3       1       1  \n",
       "4       1       0  \n",
       "5       1       0  \n",
       "6       1       0  \n",
       "7       1       0  \n",
       "8       1       1  \n",
       "9       1       0  \n",
       "10      1       0  \n",
       "11      1       0  \n",
       "12      1       1  \n",
       "13      1       0  \n",
       "14      1       0  \n",
       "15      1       0  \n",
       "16      1       0  \n",
       "17      1       1  \n",
       "18      1       0  \n",
       "19      1       0  "
      ]
     },
     "execution_count": 33,
     "metadata": {},
     "output_type": "execute_result"
    }
   ],
   "source": [
    "spy_week_number_labeling.query('(Year==2017)&(Month==1)')"
   ]
  },
  {
   "cell_type": "code",
   "execution_count": 34,
   "id": "48131869-5da7-4e24-8aba-2975c24d82ba",
   "metadata": {
    "tags": []
   },
   "outputs": [
    {
     "data": {
      "text/plain": [
       "3"
      ]
     },
     "execution_count": 34,
     "metadata": {},
     "output_type": "execute_result"
    }
   ],
   "source": [
    "np.max([1,2,3,0,0])"
   ]
  },
  {
   "cell_type": "markdown",
   "id": "7ce739f6-4c7f-44e4-a9bb-a37596df948e",
   "metadata": {},
   "source": [
    "###### assinspynt continued"
   ]
  },
  {
   "cell_type": "code",
   "execution_count": 35,
   "id": "57c22fcd-7d78-4626-ad77-22ae530d3752",
   "metadata": {
    "tags": []
   },
   "outputs": [
    {
     "data": {
      "text/html": [
       "<div>\n",
       "<style scoped>\n",
       "    .dataframe tbody tr th:only-of-type {\n",
       "        vertical-align: middle;\n",
       "    }\n",
       "\n",
       "    .dataframe tbody tr th {\n",
       "        vertical-align: top;\n",
       "    }\n",
       "\n",
       "    .dataframe thead th {\n",
       "        text-align: right;\n",
       "    }\n",
       "</style>\n",
       "<table border=\"1\" class=\"dataframe\">\n",
       "  <thead>\n",
       "    <tr style=\"text-align: right;\">\n",
       "      <th></th>\n",
       "      <th>Year</th>\n",
       "      <th>Year_Week</th>\n",
       "      <th>Week_Number</th>\n",
       "      <th>Day</th>\n",
       "      <th>Weekday</th>\n",
       "      <th>Open</th>\n",
       "      <th>Adj Close</th>\n",
       "      <th>Return</th>\n",
       "      <th>Month</th>\n",
       "      <th>Friday</th>\n",
       "    </tr>\n",
       "  </thead>\n",
       "  <tbody>\n",
       "    <tr>\n",
       "      <th>0</th>\n",
       "      <td>2017</td>\n",
       "      <td>2017-01</td>\n",
       "      <td>1</td>\n",
       "      <td>3</td>\n",
       "      <td>Tuesday</td>\n",
       "      <td>225.04</td>\n",
       "      <td>200.63</td>\n",
       "      <td>0.000000</td>\n",
       "      <td>1</td>\n",
       "      <td>0</td>\n",
       "    </tr>\n",
       "    <tr>\n",
       "      <th>1</th>\n",
       "      <td>2017</td>\n",
       "      <td>2017-01</td>\n",
       "      <td>1</td>\n",
       "      <td>4</td>\n",
       "      <td>Wednesday</td>\n",
       "      <td>225.62</td>\n",
       "      <td>201.82</td>\n",
       "      <td>0.005949</td>\n",
       "      <td>1</td>\n",
       "      <td>0</td>\n",
       "    </tr>\n",
       "    <tr>\n",
       "      <th>2</th>\n",
       "      <td>2017</td>\n",
       "      <td>2017-01</td>\n",
       "      <td>1</td>\n",
       "      <td>5</td>\n",
       "      <td>Thursday</td>\n",
       "      <td>226.27</td>\n",
       "      <td>201.66</td>\n",
       "      <td>-0.000795</td>\n",
       "      <td>1</td>\n",
       "      <td>0</td>\n",
       "    </tr>\n",
       "    <tr>\n",
       "      <th>3</th>\n",
       "      <td>2017</td>\n",
       "      <td>2017-01</td>\n",
       "      <td>1</td>\n",
       "      <td>6</td>\n",
       "      <td>Friday</td>\n",
       "      <td>226.53</td>\n",
       "      <td>202.38</td>\n",
       "      <td>0.003578</td>\n",
       "      <td>1</td>\n",
       "      <td>1</td>\n",
       "    </tr>\n",
       "    <tr>\n",
       "      <th>4</th>\n",
       "      <td>2017</td>\n",
       "      <td>2017-02</td>\n",
       "      <td>2</td>\n",
       "      <td>9</td>\n",
       "      <td>Monday</td>\n",
       "      <td>226.91</td>\n",
       "      <td>201.72</td>\n",
       "      <td>-0.003301</td>\n",
       "      <td>1</td>\n",
       "      <td>0</td>\n",
       "    </tr>\n",
       "    <tr>\n",
       "      <th>...</th>\n",
       "      <td>...</td>\n",
       "      <td>...</td>\n",
       "      <td>...</td>\n",
       "      <td>...</td>\n",
       "      <td>...</td>\n",
       "      <td>...</td>\n",
       "      <td>...</td>\n",
       "      <td>...</td>\n",
       "      <td>...</td>\n",
       "      <td>...</td>\n",
       "    </tr>\n",
       "    <tr>\n",
       "      <th>1245</th>\n",
       "      <td>2021</td>\n",
       "      <td>2021-50</td>\n",
       "      <td>50</td>\n",
       "      <td>13</td>\n",
       "      <td>Monday</td>\n",
       "      <td>470.19</td>\n",
       "      <td>452.49</td>\n",
       "      <td>-0.008858</td>\n",
       "      <td>12</td>\n",
       "      <td>0</td>\n",
       "    </tr>\n",
       "    <tr>\n",
       "      <th>1246</th>\n",
       "      <td>2021</td>\n",
       "      <td>2021-50</td>\n",
       "      <td>50</td>\n",
       "      <td>14</td>\n",
       "      <td>Tuesday</td>\n",
       "      <td>463.09</td>\n",
       "      <td>449.38</td>\n",
       "      <td>-0.006880</td>\n",
       "      <td>12</td>\n",
       "      <td>0</td>\n",
       "    </tr>\n",
       "    <tr>\n",
       "      <th>1247</th>\n",
       "      <td>2021</td>\n",
       "      <td>2021-50</td>\n",
       "      <td>50</td>\n",
       "      <td>15</td>\n",
       "      <td>Wednesday</td>\n",
       "      <td>463.42</td>\n",
       "      <td>456.40</td>\n",
       "      <td>0.015625</td>\n",
       "      <td>12</td>\n",
       "      <td>0</td>\n",
       "    </tr>\n",
       "    <tr>\n",
       "      <th>1248</th>\n",
       "      <td>2021</td>\n",
       "      <td>2021-50</td>\n",
       "      <td>50</td>\n",
       "      <td>16</td>\n",
       "      <td>Thursday</td>\n",
       "      <td>472.57</td>\n",
       "      <td>452.38</td>\n",
       "      <td>-0.008818</td>\n",
       "      <td>12</td>\n",
       "      <td>0</td>\n",
       "    </tr>\n",
       "    <tr>\n",
       "      <th>1249</th>\n",
       "      <td>2021</td>\n",
       "      <td>2021-50</td>\n",
       "      <td>50</td>\n",
       "      <td>17</td>\n",
       "      <td>Friday</td>\n",
       "      <td>461.55</td>\n",
       "      <td>447.56</td>\n",
       "      <td>-0.010643</td>\n",
       "      <td>12</td>\n",
       "      <td>1</td>\n",
       "    </tr>\n",
       "  </tbody>\n",
       "</table>\n",
       "<p>1215 rows × 10 columns</p>\n",
       "</div>"
      ],
      "text/plain": [
       "      Year Year_Week Week_Number Day    Weekday    Open  Adj Close    Return  \\\n",
       "0     2017   2017-01           1   3    Tuesday  225.04     200.63  0.000000   \n",
       "1     2017   2017-01           1   4  Wednesday  225.62     201.82  0.005949   \n",
       "2     2017   2017-01           1   5   Thursday  226.27     201.66 -0.000795   \n",
       "3     2017   2017-01           1   6     Friday  226.53     202.38  0.003578   \n",
       "4     2017   2017-02           2   9     Monday  226.91     201.72 -0.003301   \n",
       "...    ...       ...         ...  ..        ...     ...        ...       ...   \n",
       "1245  2021   2021-50          50  13     Monday  470.19     452.49 -0.008858   \n",
       "1246  2021   2021-50          50  14    Tuesday  463.09     449.38 -0.006880   \n",
       "1247  2021   2021-50          50  15  Wednesday  463.42     456.40  0.015625   \n",
       "1248  2021   2021-50          50  16   Thursday  472.57     452.38 -0.008818   \n",
       "1249  2021   2021-50          50  17     Friday  461.55     447.56 -0.010643   \n",
       "\n",
       "     Month Friday  \n",
       "0        1      0  \n",
       "1        1      0  \n",
       "2        1      0  \n",
       "3        1      1  \n",
       "4        1      0  \n",
       "...    ...    ...  \n",
       "1245    12      0  \n",
       "1246    12      0  \n",
       "1247    12      0  \n",
       "1248    12      0  \n",
       "1249    12      1  \n",
       "\n",
       "[1215 rows x 10 columns]"
      ]
     },
     "execution_count": 35,
     "metadata": {},
     "output_type": "execute_result"
    }
   ],
   "source": [
    "spy_has_friday = pd.DataFrame(columns = spy_week_number_labeling.columns)\n",
    "for yw in spy_week_number_labeling.Year_Week.unique():\n",
    "    if 'Friday' in spy_week_number_labeling.query(f'Year_Week == \"{yw}\" ').Weekday.values:\n",
    "        spy_has_friday = pd.concat([spy_has_friday,spy_week_number_labeling.query(f'Year_Week == \"{yw}\"')])\n",
    "spy_has_friday"
   ]
  },
  {
   "cell_type": "code",
   "execution_count": 36,
   "id": "4dad7d80-07d5-4799-befd-f9a9685d636b",
   "metadata": {
    "tags": []
   },
   "outputs": [
    {
     "name": "stderr",
     "output_type": "stream",
     "text": [
      "/var/folders/7q/63cgxnn50sl5zwxkchv_j2cr0000gn/T/ipykernel_20414/2608627572.py:8: SettingWithCopyWarning: \n",
      "A value is trying to be set on a copy of a slice from a DataFrame.\n",
      "Try using .loc[row_indexer,col_indexer] = value instead\n",
      "\n",
      "See the caveats in the documentation: https://pandas.pydata.org/pandas-docs/stable/user_guide/indexing.html#returning-a-view-versus-a-copy\n",
      "  this_week.Friday = wn_month+1\n"
     ]
    },
    {
     "data": {
      "text/html": [
       "<div>\n",
       "<style scoped>\n",
       "    .dataframe tbody tr th:only-of-type {\n",
       "        vertical-align: middle;\n",
       "    }\n",
       "\n",
       "    .dataframe tbody tr th {\n",
       "        vertical-align: top;\n",
       "    }\n",
       "\n",
       "    .dataframe thead th {\n",
       "        text-align: right;\n",
       "    }\n",
       "</style>\n",
       "<table border=\"1\" class=\"dataframe\">\n",
       "  <thead>\n",
       "    <tr style=\"text-align: right;\">\n",
       "      <th></th>\n",
       "      <th>Year</th>\n",
       "      <th>Year_Week</th>\n",
       "      <th>Week_Number</th>\n",
       "      <th>Day</th>\n",
       "      <th>Weekday</th>\n",
       "      <th>Open</th>\n",
       "      <th>Adj Close</th>\n",
       "      <th>Return</th>\n",
       "      <th>Month</th>\n",
       "      <th>Friday</th>\n",
       "    </tr>\n",
       "  </thead>\n",
       "  <tbody>\n",
       "    <tr>\n",
       "      <th>0</th>\n",
       "      <td>2017</td>\n",
       "      <td>2017-01</td>\n",
       "      <td>1</td>\n",
       "      <td>3</td>\n",
       "      <td>Tuesday</td>\n",
       "      <td>225.04</td>\n",
       "      <td>200.63</td>\n",
       "      <td>0.000000</td>\n",
       "      <td>1</td>\n",
       "      <td>1</td>\n",
       "    </tr>\n",
       "    <tr>\n",
       "      <th>1</th>\n",
       "      <td>2017</td>\n",
       "      <td>2017-01</td>\n",
       "      <td>1</td>\n",
       "      <td>4</td>\n",
       "      <td>Wednesday</td>\n",
       "      <td>225.62</td>\n",
       "      <td>201.82</td>\n",
       "      <td>0.005949</td>\n",
       "      <td>1</td>\n",
       "      <td>1</td>\n",
       "    </tr>\n",
       "    <tr>\n",
       "      <th>2</th>\n",
       "      <td>2017</td>\n",
       "      <td>2017-01</td>\n",
       "      <td>1</td>\n",
       "      <td>5</td>\n",
       "      <td>Thursday</td>\n",
       "      <td>226.27</td>\n",
       "      <td>201.66</td>\n",
       "      <td>-0.000795</td>\n",
       "      <td>1</td>\n",
       "      <td>1</td>\n",
       "    </tr>\n",
       "    <tr>\n",
       "      <th>3</th>\n",
       "      <td>2017</td>\n",
       "      <td>2017-01</td>\n",
       "      <td>1</td>\n",
       "      <td>6</td>\n",
       "      <td>Friday</td>\n",
       "      <td>226.53</td>\n",
       "      <td>202.38</td>\n",
       "      <td>0.003578</td>\n",
       "      <td>1</td>\n",
       "      <td>1</td>\n",
       "    </tr>\n",
       "    <tr>\n",
       "      <th>4</th>\n",
       "      <td>2017</td>\n",
       "      <td>2017-02</td>\n",
       "      <td>2</td>\n",
       "      <td>9</td>\n",
       "      <td>Monday</td>\n",
       "      <td>226.91</td>\n",
       "      <td>201.72</td>\n",
       "      <td>-0.003301</td>\n",
       "      <td>1</td>\n",
       "      <td>2</td>\n",
       "    </tr>\n",
       "    <tr>\n",
       "      <th>...</th>\n",
       "      <td>...</td>\n",
       "      <td>...</td>\n",
       "      <td>...</td>\n",
       "      <td>...</td>\n",
       "      <td>...</td>\n",
       "      <td>...</td>\n",
       "      <td>...</td>\n",
       "      <td>...</td>\n",
       "      <td>...</td>\n",
       "      <td>...</td>\n",
       "    </tr>\n",
       "    <tr>\n",
       "      <th>1245</th>\n",
       "      <td>2021</td>\n",
       "      <td>2021-50</td>\n",
       "      <td>50</td>\n",
       "      <td>13</td>\n",
       "      <td>Monday</td>\n",
       "      <td>470.19</td>\n",
       "      <td>452.49</td>\n",
       "      <td>-0.008858</td>\n",
       "      <td>12</td>\n",
       "      <td>3</td>\n",
       "    </tr>\n",
       "    <tr>\n",
       "      <th>1246</th>\n",
       "      <td>2021</td>\n",
       "      <td>2021-50</td>\n",
       "      <td>50</td>\n",
       "      <td>14</td>\n",
       "      <td>Tuesday</td>\n",
       "      <td>463.09</td>\n",
       "      <td>449.38</td>\n",
       "      <td>-0.006880</td>\n",
       "      <td>12</td>\n",
       "      <td>3</td>\n",
       "    </tr>\n",
       "    <tr>\n",
       "      <th>1247</th>\n",
       "      <td>2021</td>\n",
       "      <td>2021-50</td>\n",
       "      <td>50</td>\n",
       "      <td>15</td>\n",
       "      <td>Wednesday</td>\n",
       "      <td>463.42</td>\n",
       "      <td>456.40</td>\n",
       "      <td>0.015625</td>\n",
       "      <td>12</td>\n",
       "      <td>3</td>\n",
       "    </tr>\n",
       "    <tr>\n",
       "      <th>1248</th>\n",
       "      <td>2021</td>\n",
       "      <td>2021-50</td>\n",
       "      <td>50</td>\n",
       "      <td>16</td>\n",
       "      <td>Thursday</td>\n",
       "      <td>472.57</td>\n",
       "      <td>452.38</td>\n",
       "      <td>-0.008818</td>\n",
       "      <td>12</td>\n",
       "      <td>3</td>\n",
       "    </tr>\n",
       "    <tr>\n",
       "      <th>1249</th>\n",
       "      <td>2021</td>\n",
       "      <td>2021-50</td>\n",
       "      <td>50</td>\n",
       "      <td>17</td>\n",
       "      <td>Friday</td>\n",
       "      <td>461.55</td>\n",
       "      <td>447.56</td>\n",
       "      <td>-0.010643</td>\n",
       "      <td>12</td>\n",
       "      <td>3</td>\n",
       "    </tr>\n",
       "  </tbody>\n",
       "</table>\n",
       "<p>1215 rows × 10 columns</p>\n",
       "</div>"
      ],
      "text/plain": [
       "      Year Year_Week Week_Number Day    Weekday    Open  Adj Close    Return  \\\n",
       "0     2017   2017-01           1   3    Tuesday  225.04     200.63  0.000000   \n",
       "1     2017   2017-01           1   4  Wednesday  225.62     201.82  0.005949   \n",
       "2     2017   2017-01           1   5   Thursday  226.27     201.66 -0.000795   \n",
       "3     2017   2017-01           1   6     Friday  226.53     202.38  0.003578   \n",
       "4     2017   2017-02           2   9     Monday  226.91     201.72 -0.003301   \n",
       "...    ...       ...         ...  ..        ...     ...        ...       ...   \n",
       "1245  2021   2021-50          50  13     Monday  470.19     452.49 -0.008858   \n",
       "1246  2021   2021-50          50  14    Tuesday  463.09     449.38 -0.006880   \n",
       "1247  2021   2021-50          50  15  Wednesday  463.42     456.40  0.015625   \n",
       "1248  2021   2021-50          50  16   Thursday  472.57     452.38 -0.008818   \n",
       "1249  2021   2021-50          50  17     Friday  461.55     447.56 -0.010643   \n",
       "\n",
       "     Month Friday  \n",
       "0        1      1  \n",
       "1        1      1  \n",
       "2        1      1  \n",
       "3        1      1  \n",
       "4        1      2  \n",
       "...    ...    ...  \n",
       "1245    12      3  \n",
       "1246    12      3  \n",
       "1247    12      3  \n",
       "1248    12      3  \n",
       "1249    12      3  \n",
       "\n",
       "[1215 rows x 10 columns]"
      ]
     },
     "execution_count": 36,
     "metadata": {},
     "output_type": "execute_result"
    }
   ],
   "source": [
    "spy_fri_numbered = pd.DataFrame(columns = spy_has_friday.columns)\n",
    "for y in spy_has_friday.Year.unique():\n",
    "    for m in spy_has_friday.query(f'Year == {y}').Month.unique():\n",
    "        for wn_month, wn_absolute in enumerate(spy_has_friday.query(f'(Year == {y}) &\\\n",
    "                                            (Month == {m}) ').Week_Number.unique()):\n",
    "            this_week = spy_has_friday.query(f'(Year == {y}) & ((Month == {m})\\\n",
    "                                & Week_Number == {wn_absolute})')\n",
    "            this_week.Friday = wn_month+1\n",
    "            \n",
    "            spy_fri_numbered = pd.concat([spy_fri_numbered,this_week])                                 \n",
    "            \n",
    "spy_fri_numbered"
   ]
  },
  {
   "cell_type": "code",
   "execution_count": 37,
   "id": "5eec8649-66f9-49d4-9d5d-7f9e99984845",
   "metadata": {
    "tags": []
   },
   "outputs": [],
   "source": [
    "spy_fri_numbered = spy_fri_numbered[[True if f in [1,2,3,4] \n",
    "                  else False for f in spy_fri_numbered.Friday.values]]"
   ]
  },
  {
   "cell_type": "code",
   "execution_count": 38,
   "id": "4f3c161d-d639-4c53-8dd1-41b76d4c96f5",
   "metadata": {
    "tags": []
   },
   "outputs": [
    {
     "data": {
      "text/plain": [
       "(1073, 10)"
      ]
     },
     "execution_count": 38,
     "metadata": {},
     "output_type": "execute_result"
    }
   ],
   "source": [
    "spy_fri_numbered.shape"
   ]
  },
  {
   "cell_type": "markdown",
   "id": "ffd83589-4f76-4617-be27-6a8768e7dfeb",
   "metadata": {},
   "source": [
    "1073 observations when including week on Friday."
   ]
  },
  {
   "cell_type": "code",
   "execution_count": 39,
   "id": "a34d8b9a-ca14-487c-a334-f4f411f3b9ff",
   "metadata": {
    "tags": []
   },
   "outputs": [
    {
     "data": {
      "text/plain": [
       "Month\n",
       "1     88\n",
       "2     86\n",
       "3     91\n",
       "4     89\n",
       "5     93\n",
       "6     92\n",
       "7     93\n",
       "8     94\n",
       "9     88\n",
       "10    92\n",
       "11    87\n",
       "12    80\n",
       "Name: Year, dtype: int64"
      ]
     },
     "execution_count": 39,
     "metadata": {},
     "output_type": "execute_result"
    }
   ],
   "source": [
    "spy_fri_numbered.groupby(by='Month',axis=0).agg('count').Year"
   ]
  },
  {
   "cell_type": "code",
   "execution_count": 40,
   "id": "e6f5cc40-8f96-4df2-9407-bfa10924afd4",
   "metadata": {
    "tags": []
   },
   "outputs": [
    {
     "data": {
      "text/plain": [
       "3.964807305493795"
      ]
     },
     "execution_count": 40,
     "metadata": {},
     "output_type": "execute_result"
    }
   ],
   "source": [
    "spy_fri_numbered.groupby(by='Month',axis=0).agg('count').Year.std()"
   ]
  },
  {
   "cell_type": "markdown",
   "id": "88a83cb6-86d8-40da-9ab1-e00b60ef1945",
   "metadata": {},
   "source": [
    "Since it looks like december may be consistently missing a week of data due to the holidays. I will try removing the 'must have friday' requirement"
   ]
  },
  {
   "cell_type": "code",
   "execution_count": 41,
   "id": "2560a737-6f85-4ecf-9a52-09a5ee92a5ba",
   "metadata": {
    "tags": []
   },
   "outputs": [],
   "source": [
    "spy_wn_labs = spy.copy()\n",
    "spy_wn_labs['WoM'] = 0 # create week of month column"
   ]
  },
  {
   "cell_type": "code",
   "execution_count": 42,
   "id": "b9e65002-f5e7-4dae-acc9-5d032a2ecdde",
   "metadata": {
    "tags": []
   },
   "outputs": [
    {
     "name": "stderr",
     "output_type": "stream",
     "text": [
      "/var/folders/7q/63cgxnn50sl5zwxkchv_j2cr0000gn/T/ipykernel_20414/4197741338.py:8: SettingWithCopyWarning: \n",
      "A value is trying to be set on a copy of a slice from a DataFrame.\n",
      "Try using .loc[row_indexer,col_indexer] = value instead\n",
      "\n",
      "See the caveats in the documentation: https://pandas.pydata.org/pandas-docs/stable/user_guide/indexing.html#returning-a-view-versus-a-copy\n",
      "  this_week.WoM = wn_month+1\n"
     ]
    },
    {
     "data": {
      "text/html": [
       "<div>\n",
       "<style scoped>\n",
       "    .dataframe tbody tr th:only-of-type {\n",
       "        vertical-align: middle;\n",
       "    }\n",
       "\n",
       "    .dataframe tbody tr th {\n",
       "        vertical-align: top;\n",
       "    }\n",
       "\n",
       "    .dataframe thead th {\n",
       "        text-align: right;\n",
       "    }\n",
       "</style>\n",
       "<table border=\"1\" class=\"dataframe\">\n",
       "  <thead>\n",
       "    <tr style=\"text-align: right;\">\n",
       "      <th></th>\n",
       "      <th>Year</th>\n",
       "      <th>Year_Week</th>\n",
       "      <th>Week_Number</th>\n",
       "      <th>Day</th>\n",
       "      <th>Weekday</th>\n",
       "      <th>Open</th>\n",
       "      <th>Adj Close</th>\n",
       "      <th>Return</th>\n",
       "      <th>Month</th>\n",
       "      <th>WoM</th>\n",
       "    </tr>\n",
       "  </thead>\n",
       "  <tbody>\n",
       "    <tr>\n",
       "      <th>0</th>\n",
       "      <td>2017</td>\n",
       "      <td>2017-01</td>\n",
       "      <td>1</td>\n",
       "      <td>3</td>\n",
       "      <td>Tuesday</td>\n",
       "      <td>225.04</td>\n",
       "      <td>200.63</td>\n",
       "      <td>0.000000</td>\n",
       "      <td>1</td>\n",
       "      <td>1</td>\n",
       "    </tr>\n",
       "    <tr>\n",
       "      <th>1</th>\n",
       "      <td>2017</td>\n",
       "      <td>2017-01</td>\n",
       "      <td>1</td>\n",
       "      <td>4</td>\n",
       "      <td>Wednesday</td>\n",
       "      <td>225.62</td>\n",
       "      <td>201.82</td>\n",
       "      <td>0.005949</td>\n",
       "      <td>1</td>\n",
       "      <td>1</td>\n",
       "    </tr>\n",
       "    <tr>\n",
       "      <th>2</th>\n",
       "      <td>2017</td>\n",
       "      <td>2017-01</td>\n",
       "      <td>1</td>\n",
       "      <td>5</td>\n",
       "      <td>Thursday</td>\n",
       "      <td>226.27</td>\n",
       "      <td>201.66</td>\n",
       "      <td>-0.000795</td>\n",
       "      <td>1</td>\n",
       "      <td>1</td>\n",
       "    </tr>\n",
       "    <tr>\n",
       "      <th>3</th>\n",
       "      <td>2017</td>\n",
       "      <td>2017-01</td>\n",
       "      <td>1</td>\n",
       "      <td>6</td>\n",
       "      <td>Friday</td>\n",
       "      <td>226.53</td>\n",
       "      <td>202.38</td>\n",
       "      <td>0.003578</td>\n",
       "      <td>1</td>\n",
       "      <td>1</td>\n",
       "    </tr>\n",
       "    <tr>\n",
       "      <th>4</th>\n",
       "      <td>2017</td>\n",
       "      <td>2017-02</td>\n",
       "      <td>2</td>\n",
       "      <td>9</td>\n",
       "      <td>Monday</td>\n",
       "      <td>226.91</td>\n",
       "      <td>201.72</td>\n",
       "      <td>-0.003301</td>\n",
       "      <td>1</td>\n",
       "      <td>2</td>\n",
       "    </tr>\n",
       "    <tr>\n",
       "      <th>...</th>\n",
       "      <td>...</td>\n",
       "      <td>...</td>\n",
       "      <td>...</td>\n",
       "      <td>...</td>\n",
       "      <td>...</td>\n",
       "      <td>...</td>\n",
       "      <td>...</td>\n",
       "      <td>...</td>\n",
       "      <td>...</td>\n",
       "      <td>...</td>\n",
       "    </tr>\n",
       "    <tr>\n",
       "      <th>1249</th>\n",
       "      <td>2021</td>\n",
       "      <td>2021-50</td>\n",
       "      <td>50</td>\n",
       "      <td>17</td>\n",
       "      <td>Friday</td>\n",
       "      <td>461.55</td>\n",
       "      <td>447.56</td>\n",
       "      <td>-0.010643</td>\n",
       "      <td>12</td>\n",
       "      <td>3</td>\n",
       "    </tr>\n",
       "    <tr>\n",
       "      <th>1250</th>\n",
       "      <td>2021</td>\n",
       "      <td>2021-51</td>\n",
       "      <td>51</td>\n",
       "      <td>20</td>\n",
       "      <td>Monday</td>\n",
       "      <td>454.48</td>\n",
       "      <td>442.80</td>\n",
       "      <td>-0.010633</td>\n",
       "      <td>12</td>\n",
       "      <td>4</td>\n",
       "    </tr>\n",
       "    <tr>\n",
       "      <th>1251</th>\n",
       "      <td>2021</td>\n",
       "      <td>2021-51</td>\n",
       "      <td>51</td>\n",
       "      <td>21</td>\n",
       "      <td>Tuesday</td>\n",
       "      <td>458.61</td>\n",
       "      <td>450.67</td>\n",
       "      <td>0.017759</td>\n",
       "      <td>12</td>\n",
       "      <td>4</td>\n",
       "    </tr>\n",
       "    <tr>\n",
       "      <th>1252</th>\n",
       "      <td>2021</td>\n",
       "      <td>2021-51</td>\n",
       "      <td>51</td>\n",
       "      <td>22</td>\n",
       "      <td>Wednesday</td>\n",
       "      <td>462.79</td>\n",
       "      <td>455.17</td>\n",
       "      <td>0.009999</td>\n",
       "      <td>12</td>\n",
       "      <td>4</td>\n",
       "    </tr>\n",
       "    <tr>\n",
       "      <th>1253</th>\n",
       "      <td>2021</td>\n",
       "      <td>2021-51</td>\n",
       "      <td>51</td>\n",
       "      <td>23</td>\n",
       "      <td>Thursday</td>\n",
       "      <td>468.75</td>\n",
       "      <td>458.00</td>\n",
       "      <td>0.006222</td>\n",
       "      <td>12</td>\n",
       "      <td>4</td>\n",
       "    </tr>\n",
       "  </tbody>\n",
       "</table>\n",
       "<p>1080 rows × 10 columns</p>\n",
       "</div>"
      ],
      "text/plain": [
       "      Year Year_Week Week_Number Day    Weekday    Open  Adj Close    Return  \\\n",
       "0     2017   2017-01           1   3    Tuesday  225.04     200.63  0.000000   \n",
       "1     2017   2017-01           1   4  Wednesday  225.62     201.82  0.005949   \n",
       "2     2017   2017-01           1   5   Thursday  226.27     201.66 -0.000795   \n",
       "3     2017   2017-01           1   6     Friday  226.53     202.38  0.003578   \n",
       "4     2017   2017-02           2   9     Monday  226.91     201.72 -0.003301   \n",
       "...    ...       ...         ...  ..        ...     ...        ...       ...   \n",
       "1249  2021   2021-50          50  17     Friday  461.55     447.56 -0.010643   \n",
       "1250  2021   2021-51          51  20     Monday  454.48     442.80 -0.010633   \n",
       "1251  2021   2021-51          51  21    Tuesday  458.61     450.67  0.017759   \n",
       "1252  2021   2021-51          51  22  Wednesday  462.79     455.17  0.009999   \n",
       "1253  2021   2021-51          51  23   Thursday  468.75     458.00  0.006222   \n",
       "\n",
       "     Month WoM  \n",
       "0        1   1  \n",
       "1        1   1  \n",
       "2        1   1  \n",
       "3        1   1  \n",
       "4        1   2  \n",
       "...    ...  ..  \n",
       "1249    12   3  \n",
       "1250    12   4  \n",
       "1251    12   4  \n",
       "1252    12   4  \n",
       "1253    12   4  \n",
       "\n",
       "[1080 rows x 10 columns]"
      ]
     },
     "execution_count": 42,
     "metadata": {},
     "output_type": "execute_result"
    }
   ],
   "source": [
    "spy_first_four = pd.DataFrame(columns = spy_wn_labs.columns)\n",
    "for y in spy_wn_labs.Year.unique():\n",
    "    for m in spy_wn_labs.query(f'Year == {y}').Month.unique():\n",
    "        for wn_month, wn_absolute in enumerate(spy_wn_labs.query(f'(Year == {y}) &\\\n",
    "                                            (Month == {m}) ').Week_Number.unique()):\n",
    "            this_week = spy_wn_labs.query(f'(Year == {y}) & ((Month == {m})\\\n",
    "                                & Week_Number == {wn_absolute})')\n",
    "            this_week.WoM = wn_month+1\n",
    "            \n",
    "            spy_first_four = pd.concat([spy_first_four,this_week])\n",
    "spy_first_four = spy_first_four[[True if f in [1,2,3,4] \n",
    "                  else False for f in spy_first_four.WoM.values]]                                 \n",
    "            \n",
    "spy_first_four"
   ]
  },
  {
   "cell_type": "code",
   "execution_count": 43,
   "id": "18d08d8f-f87c-4b08-8159-594e852e73c0",
   "metadata": {
    "tags": []
   },
   "outputs": [
    {
     "data": {
      "text/html": [
       "<div>\n",
       "<style scoped>\n",
       "    .dataframe tbody tr th:only-of-type {\n",
       "        vertical-align: middle;\n",
       "    }\n",
       "\n",
       "    .dataframe tbody tr th {\n",
       "        vertical-align: top;\n",
       "    }\n",
       "\n",
       "    .dataframe thead th {\n",
       "        text-align: right;\n",
       "    }\n",
       "</style>\n",
       "<table border=\"1\" class=\"dataframe\">\n",
       "  <thead>\n",
       "    <tr style=\"text-align: right;\">\n",
       "      <th></th>\n",
       "      <th>Year</th>\n",
       "      <th>Year_Week</th>\n",
       "      <th>Week_Number</th>\n",
       "      <th>Day</th>\n",
       "      <th>Weekday</th>\n",
       "      <th>Open</th>\n",
       "      <th>Adj Close</th>\n",
       "      <th>Return</th>\n",
       "      <th>WoM</th>\n",
       "    </tr>\n",
       "    <tr>\n",
       "      <th>Month</th>\n",
       "      <th></th>\n",
       "      <th></th>\n",
       "      <th></th>\n",
       "      <th></th>\n",
       "      <th></th>\n",
       "      <th></th>\n",
       "      <th></th>\n",
       "      <th></th>\n",
       "      <th></th>\n",
       "    </tr>\n",
       "  </thead>\n",
       "  <tbody>\n",
       "    <tr>\n",
       "      <th>1</th>\n",
       "      <td>88</td>\n",
       "      <td>88</td>\n",
       "      <td>88</td>\n",
       "      <td>88</td>\n",
       "      <td>88</td>\n",
       "      <td>88</td>\n",
       "      <td>88</td>\n",
       "      <td>88</td>\n",
       "      <td>88</td>\n",
       "    </tr>\n",
       "    <tr>\n",
       "      <th>2</th>\n",
       "      <td>86</td>\n",
       "      <td>86</td>\n",
       "      <td>86</td>\n",
       "      <td>86</td>\n",
       "      <td>86</td>\n",
       "      <td>86</td>\n",
       "      <td>86</td>\n",
       "      <td>86</td>\n",
       "      <td>86</td>\n",
       "    </tr>\n",
       "    <tr>\n",
       "      <th>3</th>\n",
       "      <td>91</td>\n",
       "      <td>91</td>\n",
       "      <td>91</td>\n",
       "      <td>91</td>\n",
       "      <td>91</td>\n",
       "      <td>91</td>\n",
       "      <td>91</td>\n",
       "      <td>91</td>\n",
       "      <td>91</td>\n",
       "    </tr>\n",
       "    <tr>\n",
       "      <th>4</th>\n",
       "      <td>91</td>\n",
       "      <td>91</td>\n",
       "      <td>91</td>\n",
       "      <td>91</td>\n",
       "      <td>91</td>\n",
       "      <td>91</td>\n",
       "      <td>91</td>\n",
       "      <td>91</td>\n",
       "      <td>91</td>\n",
       "    </tr>\n",
       "    <tr>\n",
       "      <th>5</th>\n",
       "      <td>93</td>\n",
       "      <td>93</td>\n",
       "      <td>93</td>\n",
       "      <td>93</td>\n",
       "      <td>93</td>\n",
       "      <td>93</td>\n",
       "      <td>93</td>\n",
       "      <td>93</td>\n",
       "      <td>93</td>\n",
       "    </tr>\n",
       "    <tr>\n",
       "      <th>6</th>\n",
       "      <td>92</td>\n",
       "      <td>92</td>\n",
       "      <td>92</td>\n",
       "      <td>92</td>\n",
       "      <td>92</td>\n",
       "      <td>92</td>\n",
       "      <td>92</td>\n",
       "      <td>92</td>\n",
       "      <td>92</td>\n",
       "    </tr>\n",
       "    <tr>\n",
       "      <th>7</th>\n",
       "      <td>90</td>\n",
       "      <td>90</td>\n",
       "      <td>90</td>\n",
       "      <td>90</td>\n",
       "      <td>90</td>\n",
       "      <td>90</td>\n",
       "      <td>90</td>\n",
       "      <td>90</td>\n",
       "      <td>90</td>\n",
       "    </tr>\n",
       "    <tr>\n",
       "      <th>8</th>\n",
       "      <td>94</td>\n",
       "      <td>94</td>\n",
       "      <td>94</td>\n",
       "      <td>94</td>\n",
       "      <td>94</td>\n",
       "      <td>94</td>\n",
       "      <td>94</td>\n",
       "      <td>94</td>\n",
       "      <td>94</td>\n",
       "    </tr>\n",
       "    <tr>\n",
       "      <th>9</th>\n",
       "      <td>88</td>\n",
       "      <td>88</td>\n",
       "      <td>88</td>\n",
       "      <td>88</td>\n",
       "      <td>88</td>\n",
       "      <td>88</td>\n",
       "      <td>88</td>\n",
       "      <td>88</td>\n",
       "      <td>88</td>\n",
       "    </tr>\n",
       "    <tr>\n",
       "      <th>10</th>\n",
       "      <td>92</td>\n",
       "      <td>92</td>\n",
       "      <td>92</td>\n",
       "      <td>92</td>\n",
       "      <td>92</td>\n",
       "      <td>92</td>\n",
       "      <td>92</td>\n",
       "      <td>92</td>\n",
       "      <td>92</td>\n",
       "    </tr>\n",
       "    <tr>\n",
       "      <th>11</th>\n",
       "      <td>87</td>\n",
       "      <td>87</td>\n",
       "      <td>87</td>\n",
       "      <td>87</td>\n",
       "      <td>87</td>\n",
       "      <td>87</td>\n",
       "      <td>87</td>\n",
       "      <td>87</td>\n",
       "      <td>87</td>\n",
       "    </tr>\n",
       "    <tr>\n",
       "      <th>12</th>\n",
       "      <td>88</td>\n",
       "      <td>88</td>\n",
       "      <td>88</td>\n",
       "      <td>88</td>\n",
       "      <td>88</td>\n",
       "      <td>88</td>\n",
       "      <td>88</td>\n",
       "      <td>88</td>\n",
       "      <td>88</td>\n",
       "    </tr>\n",
       "  </tbody>\n",
       "</table>\n",
       "</div>"
      ],
      "text/plain": [
       "       Year  Year_Week  Week_Number  Day  Weekday  Open  Adj Close  Return  \\\n",
       "Month                                                                        \n",
       "1        88         88           88   88       88    88         88      88   \n",
       "2        86         86           86   86       86    86         86      86   \n",
       "3        91         91           91   91       91    91         91      91   \n",
       "4        91         91           91   91       91    91         91      91   \n",
       "5        93         93           93   93       93    93         93      93   \n",
       "6        92         92           92   92       92    92         92      92   \n",
       "7        90         90           90   90       90    90         90      90   \n",
       "8        94         94           94   94       94    94         94      94   \n",
       "9        88         88           88   88       88    88         88      88   \n",
       "10       92         92           92   92       92    92         92      92   \n",
       "11       87         87           87   87       87    87         87      87   \n",
       "12       88         88           88   88       88    88         88      88   \n",
       "\n",
       "       WoM  \n",
       "Month       \n",
       "1       88  \n",
       "2       86  \n",
       "3       91  \n",
       "4       91  \n",
       "5       93  \n",
       "6       92  \n",
       "7       90  \n",
       "8       94  \n",
       "9       88  \n",
       "10      92  \n",
       "11      87  \n",
       "12      88  "
      ]
     },
     "execution_count": 43,
     "metadata": {},
     "output_type": "execute_result"
    }
   ],
   "source": [
    "spy_first_four.groupby(by='Month',axis=0).agg('count')"
   ]
  },
  {
   "cell_type": "code",
   "execution_count": 44,
   "id": "b3f2ab2c-32b9-4da9-9c65-d1d4b72e6b35",
   "metadata": {
    "tags": []
   },
   "outputs": [
    {
     "data": {
      "text/plain": [
       "2.558"
      ]
     },
     "execution_count": 44,
     "metadata": {},
     "output_type": "execute_result"
    }
   ],
   "source": [
    "np.round(spy_first_four.groupby(by='Month',axis=0).agg('count').Year.std(),3)"
   ]
  },
  {
   "cell_type": "code",
   "execution_count": 45,
   "id": "5f29561b-05ae-4660-869a-42508068cded",
   "metadata": {
    "tags": []
   },
   "outputs": [
    {
     "data": {
      "text/plain": [
       "3.965"
      ]
     },
     "execution_count": 45,
     "metadata": {},
     "output_type": "execute_result"
    }
   ],
   "source": [
    "np.round(spy_fri_numbered.groupby(by='Month',axis=0).agg('count').Year.std(),3)"
   ]
  },
  {
   "cell_type": "markdown",
   "id": "067d3441-b500-4827-b676-4a43742d5f11",
   "metadata": {},
   "source": [
    "After discarding the 'must have Friday' inclusion criterion for weeks, December now has closer to average number of days in the dataset and the standard deviation in counts of observations between months is now 2.558, compared to 3.965.\n",
    "\n",
    "I believe that this observation justifies excluding the need for Friday as the inclusion criterion for the week, and so I will proceed with the \"spy_first_four\" DataFrame object for subsequent analysis."
   ]
  },
  {
   "cell_type": "markdown",
   "id": "04ed4ac3-7137-4637-9bf2-e27cd14228ed",
   "metadata": {
    "tags": []
   },
   "source": [
    "##### Question 1:\n",
    "1. for each of the five years, compute the mean and standard deviation for the sets R, R− and R+ of weekly returns for your stock for each week of the month.\n",
    "2. summarize your results in the table as shown below (5 tables total).\n",
    "<img src= './table_q1.png' />\n",
    "3. are there more weeks with negative or non-negative returns?\n",
    "4. does your stock lose more on a ”down” week than it gains on an ”up” week.\n",
    "5. are these results the same weeks of the month?"
   ]
  },
  {
   "cell_type": "code",
   "execution_count": 46,
   "id": "e961604e-b41b-43e1-a9fc-421467bb09fd",
   "metadata": {
    "tags": []
   },
   "outputs": [],
   "source": [
    "def trade_from_open_close(stock):\n",
    "    '''Return a dataframe with weekly return factors based on first day of week\n",
    "    open and last day of week close'''\n",
    "    \n",
    "    stock_by_week = pd.DataFrame(\n",
    "        columns=['Year','Year_Week',\"Open\",\"Adj Close\", 'Return', 'WoM'])\n",
    "    \n",
    "    year_weeks = stock[\"Year_Week\"].unique()\n",
    "    \n",
    "    for inx, yw in enumerate(year_weeks):\n",
    "        this_week = stock[stock[\"Year_Week\"]==yw]\n",
    "        o = this_week.head(1)['Open'].values[0]\n",
    "        ac = this_week.tail(1)['Adj Close'].values[0]\n",
    "        r = 1+(ac-o)/o\n",
    "        wom = this_week.head(1)['WoM'].values[0]\n",
    "        y = this_week.tail(1)['Year'].values[0]\n",
    "        stock_by_week.loc[inx,:] = [y,yw,o,ac,r,wom]\n",
    "    return stock_by_week"
   ]
  },
  {
   "cell_type": "code",
   "execution_count": 47,
   "id": "5fbfbe89-ce38-4eb1-a081-9f98289f147d",
   "metadata": {
    "tags": []
   },
   "outputs": [
    {
     "data": {
      "text/plain": [
       "'2017-02'"
      ]
     },
     "execution_count": 47,
     "metadata": {},
     "output_type": "execute_result"
    }
   ],
   "source": [
    "year_weeks = spy[\"Year_Week\"].unique()\n",
    "year_weeks[2-1]"
   ]
  },
  {
   "cell_type": "markdown",
   "id": "0462776f-7d2f-48ad-aa96-f0e969dfb5bd",
   "metadata": {
    "tags": []
   },
   "source": [
    "###### procceeding with trade_from_open_close"
   ]
  },
  {
   "cell_type": "code",
   "execution_count": 48,
   "id": "ad4ff962-1c36-4974-ae7e-1edbcd6e8ca9",
   "metadata": {
    "tags": []
   },
   "outputs": [
    {
     "data": {
      "text/plain": [
       "{1: [], 2: [], 3: [], 4: []}"
      ]
     },
     "execution_count": 48,
     "metadata": {},
     "output_type": "execute_result"
    }
   ],
   "source": [
    "weekly_returns = trade_from_open_close(spy_first_four)\n",
    "# nested dictionary of year_num: {week_num: return}\n",
    "wr_by_year = {y:{1:[],2:[],3:[],4:[]} for y in weekly_returns.Year.values}\n",
    "wr_by_year[2017]"
   ]
  },
  {
   "cell_type": "code",
   "execution_count": 49,
   "id": "ef9ae5b9-b3c5-48ed-934a-ce4656a6f230",
   "metadata": {
    "tags": []
   },
   "outputs": [
    {
     "data": {
      "text/html": [
       "<div>\n",
       "<style scoped>\n",
       "    .dataframe tbody tr th:only-of-type {\n",
       "        vertical-align: middle;\n",
       "    }\n",
       "\n",
       "    .dataframe tbody tr th {\n",
       "        vertical-align: top;\n",
       "    }\n",
       "\n",
       "    .dataframe thead th {\n",
       "        text-align: right;\n",
       "    }\n",
       "</style>\n",
       "<table border=\"1\" class=\"dataframe\">\n",
       "  <thead>\n",
       "    <tr style=\"text-align: right;\">\n",
       "      <th></th>\n",
       "      <th>Year</th>\n",
       "      <th>Year_Week</th>\n",
       "      <th>Open</th>\n",
       "      <th>Adj Close</th>\n",
       "      <th>Return</th>\n",
       "      <th>WoM</th>\n",
       "    </tr>\n",
       "  </thead>\n",
       "  <tbody>\n",
       "    <tr>\n",
       "      <th>0</th>\n",
       "      <td>2017</td>\n",
       "      <td>2017-01</td>\n",
       "      <td>225.04</td>\n",
       "      <td>202.38</td>\n",
       "      <td>0.899307</td>\n",
       "      <td>1</td>\n",
       "    </tr>\n",
       "    <tr>\n",
       "      <th>1</th>\n",
       "      <td>2017</td>\n",
       "      <td>2017-02</td>\n",
       "      <td>226.91</td>\n",
       "      <td>202.24</td>\n",
       "      <td>0.891278</td>\n",
       "      <td>2</td>\n",
       "    </tr>\n",
       "    <tr>\n",
       "      <th>2</th>\n",
       "      <td>2017</td>\n",
       "      <td>2017-03</td>\n",
       "      <td>226.31</td>\n",
       "      <td>201.97</td>\n",
       "      <td>0.892448</td>\n",
       "      <td>3</td>\n",
       "    </tr>\n",
       "    <tr>\n",
       "      <th>3</th>\n",
       "      <td>2017</td>\n",
       "      <td>2017-04</td>\n",
       "      <td>226.74</td>\n",
       "      <td>203.95</td>\n",
       "      <td>0.899488</td>\n",
       "      <td>4</td>\n",
       "    </tr>\n",
       "    <tr>\n",
       "      <th>4</th>\n",
       "      <td>2017</td>\n",
       "      <td>2017-05</td>\n",
       "      <td>227.53</td>\n",
       "      <td>204.28</td>\n",
       "      <td>0.897816</td>\n",
       "      <td>1</td>\n",
       "    </tr>\n",
       "    <tr>\n",
       "      <th>...</th>\n",
       "      <td>...</td>\n",
       "      <td>...</td>\n",
       "      <td>...</td>\n",
       "      <td>...</td>\n",
       "      <td>...</td>\n",
       "      <td>...</td>\n",
       "    </tr>\n",
       "    <tr>\n",
       "      <th>235</th>\n",
       "      <td>2021</td>\n",
       "      <td>2021-47</td>\n",
       "      <td>470.89</td>\n",
       "      <td>445.12</td>\n",
       "      <td>0.945274</td>\n",
       "      <td>4</td>\n",
       "    </tr>\n",
       "    <tr>\n",
       "      <th>236</th>\n",
       "      <td>2021</td>\n",
       "      <td>2021-48</td>\n",
       "      <td>461.64</td>\n",
       "      <td>439.74</td>\n",
       "      <td>0.95256</td>\n",
       "      <td>1</td>\n",
       "    </tr>\n",
       "    <tr>\n",
       "      <th>237</th>\n",
       "      <td>2021</td>\n",
       "      <td>2021-49</td>\n",
       "      <td>456.13</td>\n",
       "      <td>456.54</td>\n",
       "      <td>1.000899</td>\n",
       "      <td>2</td>\n",
       "    </tr>\n",
       "    <tr>\n",
       "      <th>238</th>\n",
       "      <td>2021</td>\n",
       "      <td>2021-50</td>\n",
       "      <td>470.19</td>\n",
       "      <td>447.56</td>\n",
       "      <td>0.951871</td>\n",
       "      <td>3</td>\n",
       "    </tr>\n",
       "    <tr>\n",
       "      <th>239</th>\n",
       "      <td>2021</td>\n",
       "      <td>2021-51</td>\n",
       "      <td>454.48</td>\n",
       "      <td>458.0</td>\n",
       "      <td>1.007745</td>\n",
       "      <td>4</td>\n",
       "    </tr>\n",
       "  </tbody>\n",
       "</table>\n",
       "<p>240 rows × 6 columns</p>\n",
       "</div>"
      ],
      "text/plain": [
       "     Year Year_Week    Open Adj Close    Return WoM\n",
       "0    2017   2017-01  225.04    202.38  0.899307   1\n",
       "1    2017   2017-02  226.91    202.24  0.891278   2\n",
       "2    2017   2017-03  226.31    201.97  0.892448   3\n",
       "3    2017   2017-04  226.74    203.95  0.899488   4\n",
       "4    2017   2017-05  227.53    204.28  0.897816   1\n",
       "..    ...       ...     ...       ...       ...  ..\n",
       "235  2021   2021-47  470.89    445.12  0.945274   4\n",
       "236  2021   2021-48  461.64    439.74   0.95256   1\n",
       "237  2021   2021-49  456.13    456.54  1.000899   2\n",
       "238  2021   2021-50  470.19    447.56  0.951871   3\n",
       "239  2021   2021-51  454.48     458.0  1.007745   4\n",
       "\n",
       "[240 rows x 6 columns]"
      ]
     },
     "execution_count": 49,
     "metadata": {},
     "output_type": "execute_result"
    }
   ],
   "source": [
    "weekly_returns"
   ]
  },
  {
   "cell_type": "code",
   "execution_count": 50,
   "id": "dd9fafc2-c8f0-4868-af6c-3e1d114be295",
   "metadata": {
    "tags": []
   },
   "outputs": [],
   "source": [
    "wr_by_year = {y:{1:[],2:[],3:[],4:[]} for y in weekly_returns.Year.values}\n",
    "for yw in weekly_returns.iterrows():\n",
    "    wr_by_year[yw[1][\"Year\"]][yw[1][\"WoM\"\n",
    "    ]].append(yw[1]['Return'])\n"
   ]
  },
  {
   "cell_type": "code",
   "execution_count": 51,
   "id": "1ddd406d-3581-4bbd-83d4-9e2c24cf2018",
   "metadata": {
    "tags": []
   },
   "outputs": [
    {
     "name": "stderr",
     "output_type": "stream",
     "text": [
      "/Users/williammohr/opt/anaconda3/lib/python3.9/site-packages/numpy/core/fromnumeric.py:3464: RuntimeWarning: Mean of empty slice.\n",
      "  return _methods._mean(a, axis=axis, dtype=dtype,\n",
      "/Users/williammohr/opt/anaconda3/lib/python3.9/site-packages/numpy/core/_methods.py:192: RuntimeWarning: invalid value encountered in scalar divide\n",
      "  ret = ret.dtype.type(ret / rcount)\n",
      "/Users/williammohr/opt/anaconda3/lib/python3.9/site-packages/numpy/core/_methods.py:269: RuntimeWarning: Degrees of freedom <= 0 for slice\n",
      "  ret = _var(a, axis=axis, dtype=dtype, out=out, ddof=ddof,\n",
      "/Users/williammohr/opt/anaconda3/lib/python3.9/site-packages/numpy/core/_methods.py:226: RuntimeWarning: invalid value encountered in divide\n",
      "  arrmean = um.true_divide(arrmean, div, out=arrmean,\n",
      "/Users/williammohr/opt/anaconda3/lib/python3.9/site-packages/numpy/core/_methods.py:261: RuntimeWarning: invalid value encountered in scalar divide\n",
      "  ret = ret.dtype.type(ret / rcount)\n"
     ]
    }
   ],
   "source": [
    "wr_dfs = {y: pd.DataFrame(columns =['mu(R)','sigma(R)','|R-|', 'mu(R-)', 'sigma(R-)'\n",
    "                               , '|R+|', 'mu(R+)', 'sigma(R+)'], \n",
    "                       index = [1+w for w in range(0,4)],) for y in \n",
    "          spy_first_four.Year.unique()}\n",
    "for y,df in wr_dfs.items():\n",
    "    df.name = y # name dataframes according to year\n",
    "    \n",
    "for y, wrs in wr_by_year.items():\n",
    "    for wk, rs in wrs.items():\n",
    "        rs = np.array(rs)\n",
    "        \n",
    "        rs_pos = rs[rs>=1]; rs_neg = rs[rs<1]\n",
    "        mu_r = np.round(np.mean(rs),3); sigma_r = np.round(np.std(rs),3)\n",
    "        \n",
    "        r_neg_count = np.shape(rs_neg)[0];\n",
    "        mu_r_neg = np.round(np.mean(rs_neg),3)\n",
    "        sigma_r_neg = np.round(np.std(rs_neg),3)\n",
    "        \n",
    "        r_pos_count = np.shape(rs_pos)[0]; mu_r_pos = np.round(np.mean(rs_pos),3)\n",
    "        sigma_r_pos = np.round(np.std(rs_pos),3)\n",
    "        \n",
    "        wr_dfs[y].loc[wk] = {'mu(R)':mu_r, 'sigma(R)':sigma_r, \n",
    "            '|R-|':r_neg_count, 'mu(R-)':mu_r_neg, 'sigma(R-)':sigma_r_neg, \n",
    "            '|R+|':r_pos_count, 'mu(R+)':mu_r_pos, 'sigma(R+)':sigma_r_pos }"
   ]
  },
  {
   "cell_type": "code",
   "execution_count": 52,
   "id": "014d3d36-af2c-4c14-be2a-50b2237792d2",
   "metadata": {
    "tags": []
   },
   "outputs": [
    {
     "data": {
      "text/html": [
       "<div>\n",
       "<style scoped>\n",
       "    .dataframe tbody tr th:only-of-type {\n",
       "        vertical-align: middle;\n",
       "    }\n",
       "\n",
       "    .dataframe tbody tr th {\n",
       "        vertical-align: top;\n",
       "    }\n",
       "\n",
       "    .dataframe thead th {\n",
       "        text-align: right;\n",
       "    }\n",
       "</style>\n",
       "<table border=\"1\" class=\"dataframe\">\n",
       "  <thead>\n",
       "    <tr style=\"text-align: right;\">\n",
       "      <th></th>\n",
       "      <th>mu(R)</th>\n",
       "      <th>sigma(R)</th>\n",
       "      <th>|R-|</th>\n",
       "      <th>mu(R-)</th>\n",
       "      <th>sigma(R-)</th>\n",
       "      <th>|R+|</th>\n",
       "      <th>mu(R+)</th>\n",
       "      <th>sigma(R+)</th>\n",
       "    </tr>\n",
       "  </thead>\n",
       "  <tbody>\n",
       "    <tr>\n",
       "      <th>1</th>\n",
       "      <td>0.9</td>\n",
       "      <td>0.006</td>\n",
       "      <td>12.0</td>\n",
       "      <td>0.9</td>\n",
       "      <td>0.006</td>\n",
       "      <td>0.0</td>\n",
       "      <td>NaN</td>\n",
       "      <td>NaN</td>\n",
       "    </tr>\n",
       "    <tr>\n",
       "      <th>2</th>\n",
       "      <td>0.896</td>\n",
       "      <td>0.008</td>\n",
       "      <td>12.0</td>\n",
       "      <td>0.896</td>\n",
       "      <td>0.008</td>\n",
       "      <td>0.0</td>\n",
       "      <td>NaN</td>\n",
       "      <td>NaN</td>\n",
       "    </tr>\n",
       "    <tr>\n",
       "      <th>3</th>\n",
       "      <td>0.9</td>\n",
       "      <td>0.007</td>\n",
       "      <td>12.0</td>\n",
       "      <td>0.9</td>\n",
       "      <td>0.007</td>\n",
       "      <td>0.0</td>\n",
       "      <td>NaN</td>\n",
       "      <td>NaN</td>\n",
       "    </tr>\n",
       "    <tr>\n",
       "      <th>4</th>\n",
       "      <td>0.901</td>\n",
       "      <td>0.007</td>\n",
       "      <td>12.0</td>\n",
       "      <td>0.901</td>\n",
       "      <td>0.007</td>\n",
       "      <td>0.0</td>\n",
       "      <td>NaN</td>\n",
       "      <td>NaN</td>\n",
       "    </tr>\n",
       "  </tbody>\n",
       "</table>\n",
       "</div>"
      ],
      "text/plain": [
       "   mu(R) sigma(R)  |R-| mu(R-) sigma(R-) |R+| mu(R+) sigma(R+)\n",
       "1    0.9    0.006  12.0    0.9     0.006  0.0    NaN       NaN\n",
       "2  0.896    0.008  12.0  0.896     0.008  0.0    NaN       NaN\n",
       "3    0.9    0.007  12.0    0.9     0.007  0.0    NaN       NaN\n",
       "4  0.901    0.007  12.0  0.901     0.007  0.0    NaN       NaN"
      ]
     },
     "execution_count": 52,
     "metadata": {},
     "output_type": "execute_result"
    }
   ],
   "source": [
    "wr_dfs[2017]"
   ]
  },
  {
   "cell_type": "code",
   "execution_count": 53,
   "id": "f39a4978-a5b8-4b90-9755-7629fea09062",
   "metadata": {
    "tags": []
   },
   "outputs": [
    {
     "data": {
      "text/html": [
       "<div>\n",
       "<style scoped>\n",
       "    .dataframe tbody tr th:only-of-type {\n",
       "        vertical-align: middle;\n",
       "    }\n",
       "\n",
       "    .dataframe tbody tr th {\n",
       "        vertical-align: top;\n",
       "    }\n",
       "\n",
       "    .dataframe thead th {\n",
       "        text-align: right;\n",
       "    }\n",
       "</style>\n",
       "<table border=\"1\" class=\"dataframe\">\n",
       "  <thead>\n",
       "    <tr style=\"text-align: right;\">\n",
       "      <th></th>\n",
       "      <th>mu(R)</th>\n",
       "      <th>sigma(R)</th>\n",
       "      <th>|R-|</th>\n",
       "      <th>mu(R-)</th>\n",
       "      <th>sigma(R-)</th>\n",
       "      <th>|R+|</th>\n",
       "      <th>mu(R+)</th>\n",
       "      <th>sigma(R+)</th>\n",
       "    </tr>\n",
       "  </thead>\n",
       "  <tbody>\n",
       "    <tr>\n",
       "      <th>1</th>\n",
       "      <td>0.909</td>\n",
       "      <td>0.018</td>\n",
       "      <td>12.0</td>\n",
       "      <td>0.909</td>\n",
       "      <td>0.018</td>\n",
       "      <td>0.0</td>\n",
       "      <td>NaN</td>\n",
       "      <td>NaN</td>\n",
       "    </tr>\n",
       "    <tr>\n",
       "      <th>2</th>\n",
       "      <td>0.918</td>\n",
       "      <td>0.021</td>\n",
       "      <td>12.0</td>\n",
       "      <td>0.918</td>\n",
       "      <td>0.021</td>\n",
       "      <td>0.0</td>\n",
       "      <td>NaN</td>\n",
       "      <td>NaN</td>\n",
       "    </tr>\n",
       "    <tr>\n",
       "      <th>3</th>\n",
       "      <td>0.91</td>\n",
       "      <td>0.019</td>\n",
       "      <td>12.0</td>\n",
       "      <td>0.91</td>\n",
       "      <td>0.019</td>\n",
       "      <td>0.0</td>\n",
       "      <td>NaN</td>\n",
       "      <td>NaN</td>\n",
       "    </tr>\n",
       "    <tr>\n",
       "      <th>4</th>\n",
       "      <td>0.911</td>\n",
       "      <td>0.024</td>\n",
       "      <td>12.0</td>\n",
       "      <td>0.911</td>\n",
       "      <td>0.024</td>\n",
       "      <td>0.0</td>\n",
       "      <td>NaN</td>\n",
       "      <td>NaN</td>\n",
       "    </tr>\n",
       "  </tbody>\n",
       "</table>\n",
       "</div>"
      ],
      "text/plain": [
       "   mu(R) sigma(R)  |R-| mu(R-) sigma(R-) |R+| mu(R+) sigma(R+)\n",
       "1  0.909    0.018  12.0  0.909     0.018  0.0    NaN       NaN\n",
       "2  0.918    0.021  12.0  0.918     0.021  0.0    NaN       NaN\n",
       "3   0.91    0.019  12.0   0.91     0.019  0.0    NaN       NaN\n",
       "4  0.911    0.024  12.0  0.911     0.024  0.0    NaN       NaN"
      ]
     },
     "execution_count": 53,
     "metadata": {},
     "output_type": "execute_result"
    }
   ],
   "source": [
    "wr_dfs[2018]"
   ]
  },
  {
   "cell_type": "code",
   "execution_count": 54,
   "id": "64034854-1025-4599-9b92-91e1d0e0fc21",
   "metadata": {
    "tags": []
   },
   "outputs": [
    {
     "data": {
      "text/html": [
       "<div>\n",
       "<style scoped>\n",
       "    .dataframe tbody tr th:only-of-type {\n",
       "        vertical-align: middle;\n",
       "    }\n",
       "\n",
       "    .dataframe tbody tr th {\n",
       "        vertical-align: top;\n",
       "    }\n",
       "\n",
       "    .dataframe thead th {\n",
       "        text-align: right;\n",
       "    }\n",
       "</style>\n",
       "<table border=\"1\" class=\"dataframe\">\n",
       "  <thead>\n",
       "    <tr style=\"text-align: right;\">\n",
       "      <th></th>\n",
       "      <th>mu(R)</th>\n",
       "      <th>sigma(R)</th>\n",
       "      <th>|R-|</th>\n",
       "      <th>mu(R-)</th>\n",
       "      <th>sigma(R-)</th>\n",
       "      <th>|R+|</th>\n",
       "      <th>mu(R+)</th>\n",
       "      <th>sigma(R+)</th>\n",
       "    </tr>\n",
       "  </thead>\n",
       "  <tbody>\n",
       "    <tr>\n",
       "      <th>1</th>\n",
       "      <td>0.939</td>\n",
       "      <td>0.015</td>\n",
       "      <td>12.0</td>\n",
       "      <td>0.939</td>\n",
       "      <td>0.015</td>\n",
       "      <td>0.0</td>\n",
       "      <td>NaN</td>\n",
       "      <td>NaN</td>\n",
       "    </tr>\n",
       "    <tr>\n",
       "      <th>2</th>\n",
       "      <td>0.936</td>\n",
       "      <td>0.013</td>\n",
       "      <td>12.0</td>\n",
       "      <td>0.936</td>\n",
       "      <td>0.013</td>\n",
       "      <td>0.0</td>\n",
       "      <td>NaN</td>\n",
       "      <td>NaN</td>\n",
       "    </tr>\n",
       "    <tr>\n",
       "      <th>3</th>\n",
       "      <td>0.942</td>\n",
       "      <td>0.011</td>\n",
       "      <td>12.0</td>\n",
       "      <td>0.942</td>\n",
       "      <td>0.011</td>\n",
       "      <td>0.0</td>\n",
       "      <td>NaN</td>\n",
       "      <td>NaN</td>\n",
       "    </tr>\n",
       "    <tr>\n",
       "      <th>4</th>\n",
       "      <td>0.933</td>\n",
       "      <td>0.011</td>\n",
       "      <td>12.0</td>\n",
       "      <td>0.933</td>\n",
       "      <td>0.011</td>\n",
       "      <td>0.0</td>\n",
       "      <td>NaN</td>\n",
       "      <td>NaN</td>\n",
       "    </tr>\n",
       "  </tbody>\n",
       "</table>\n",
       "</div>"
      ],
      "text/plain": [
       "   mu(R) sigma(R)  |R-| mu(R-) sigma(R-) |R+| mu(R+) sigma(R+)\n",
       "1  0.939    0.015  12.0  0.939     0.015  0.0    NaN       NaN\n",
       "2  0.936    0.013  12.0  0.936     0.013  0.0    NaN       NaN\n",
       "3  0.942    0.011  12.0  0.942     0.011  0.0    NaN       NaN\n",
       "4  0.933    0.011  12.0  0.933     0.011  0.0    NaN       NaN"
      ]
     },
     "execution_count": 54,
     "metadata": {},
     "output_type": "execute_result"
    }
   ],
   "source": [
    "wr_dfs[2019]"
   ]
  },
  {
   "cell_type": "code",
   "execution_count": 55,
   "id": "02f3c9f3-abd0-44c7-829f-809f57b4c47d",
   "metadata": {
    "tags": []
   },
   "outputs": [
    {
     "data": {
      "text/html": [
       "<div>\n",
       "<style scoped>\n",
       "    .dataframe tbody tr th:only-of-type {\n",
       "        vertical-align: middle;\n",
       "    }\n",
       "\n",
       "    .dataframe tbody tr th {\n",
       "        vertical-align: top;\n",
       "    }\n",
       "\n",
       "    .dataframe thead th {\n",
       "        text-align: right;\n",
       "    }\n",
       "</style>\n",
       "<table border=\"1\" class=\"dataframe\">\n",
       "  <thead>\n",
       "    <tr style=\"text-align: right;\">\n",
       "      <th></th>\n",
       "      <th>mu(R)</th>\n",
       "      <th>sigma(R)</th>\n",
       "      <th>|R-|</th>\n",
       "      <th>mu(R-)</th>\n",
       "      <th>sigma(R-)</th>\n",
       "      <th>|R+|</th>\n",
       "      <th>mu(R+)</th>\n",
       "      <th>sigma(R+)</th>\n",
       "    </tr>\n",
       "  </thead>\n",
       "  <tbody>\n",
       "    <tr>\n",
       "      <th>1</th>\n",
       "      <td>0.96</td>\n",
       "      <td>0.024</td>\n",
       "      <td>11.0</td>\n",
       "      <td>0.956</td>\n",
       "      <td>0.018</td>\n",
       "      <td>1.0</td>\n",
       "      <td>1.014</td>\n",
       "      <td>0.0</td>\n",
       "    </tr>\n",
       "    <tr>\n",
       "      <th>2</th>\n",
       "      <td>0.957</td>\n",
       "      <td>0.03</td>\n",
       "      <td>11.0</td>\n",
       "      <td>0.951</td>\n",
       "      <td>0.024</td>\n",
       "      <td>1.0</td>\n",
       "      <td>1.023</td>\n",
       "      <td>0.0</td>\n",
       "    </tr>\n",
       "    <tr>\n",
       "      <th>3</th>\n",
       "      <td>0.95</td>\n",
       "      <td>0.022</td>\n",
       "      <td>12.0</td>\n",
       "      <td>0.95</td>\n",
       "      <td>0.022</td>\n",
       "      <td>0.0</td>\n",
       "      <td>NaN</td>\n",
       "      <td>NaN</td>\n",
       "    </tr>\n",
       "    <tr>\n",
       "      <th>4</th>\n",
       "      <td>0.956</td>\n",
       "      <td>0.041</td>\n",
       "      <td>11.0</td>\n",
       "      <td>0.947</td>\n",
       "      <td>0.03</td>\n",
       "      <td>1.0</td>\n",
       "      <td>1.053</td>\n",
       "      <td>0.0</td>\n",
       "    </tr>\n",
       "  </tbody>\n",
       "</table>\n",
       "</div>"
      ],
      "text/plain": [
       "   mu(R) sigma(R)  |R-| mu(R-) sigma(R-) |R+| mu(R+) sigma(R+)\n",
       "1   0.96    0.024  11.0  0.956     0.018  1.0  1.014       0.0\n",
       "2  0.957     0.03  11.0  0.951     0.024  1.0  1.023       0.0\n",
       "3   0.95    0.022  12.0   0.95     0.022  0.0    NaN       NaN\n",
       "4  0.956    0.041  11.0  0.947      0.03  1.0  1.053       0.0"
      ]
     },
     "execution_count": 55,
     "metadata": {},
     "output_type": "execute_result"
    }
   ],
   "source": [
    "wr_dfs[2020]"
   ]
  },
  {
   "cell_type": "code",
   "execution_count": 56,
   "id": "20217ffa-d576-4f70-bf07-e82c97f7fb61",
   "metadata": {
    "tags": []
   },
   "outputs": [
    {
     "data": {
      "text/html": [
       "<div>\n",
       "<style scoped>\n",
       "    .dataframe tbody tr th:only-of-type {\n",
       "        vertical-align: middle;\n",
       "    }\n",
       "\n",
       "    .dataframe tbody tr th {\n",
       "        vertical-align: top;\n",
       "    }\n",
       "\n",
       "    .dataframe thead th {\n",
       "        text-align: right;\n",
       "    }\n",
       "</style>\n",
       "<table border=\"1\" class=\"dataframe\">\n",
       "  <thead>\n",
       "    <tr style=\"text-align: right;\">\n",
       "      <th></th>\n",
       "      <th>mu(R)</th>\n",
       "      <th>sigma(R)</th>\n",
       "      <th>|R-|</th>\n",
       "      <th>mu(R-)</th>\n",
       "      <th>sigma(R-)</th>\n",
       "      <th>|R+|</th>\n",
       "      <th>mu(R+)</th>\n",
       "      <th>sigma(R+)</th>\n",
       "    </tr>\n",
       "  </thead>\n",
       "  <tbody>\n",
       "    <tr>\n",
       "      <th>1</th>\n",
       "      <td>0.972</td>\n",
       "      <td>0.012</td>\n",
       "      <td>12.0</td>\n",
       "      <td>0.972</td>\n",
       "      <td>0.012</td>\n",
       "      <td>0.0</td>\n",
       "      <td>NaN</td>\n",
       "      <td>NaN</td>\n",
       "    </tr>\n",
       "    <tr>\n",
       "      <th>2</th>\n",
       "      <td>0.971</td>\n",
       "      <td>0.014</td>\n",
       "      <td>11.0</td>\n",
       "      <td>0.968</td>\n",
       "      <td>0.012</td>\n",
       "      <td>1.0</td>\n",
       "      <td>1.001</td>\n",
       "      <td>0.0</td>\n",
       "    </tr>\n",
       "    <tr>\n",
       "      <th>3</th>\n",
       "      <td>0.962</td>\n",
       "      <td>0.013</td>\n",
       "      <td>12.0</td>\n",
       "      <td>0.962</td>\n",
       "      <td>0.013</td>\n",
       "      <td>0.0</td>\n",
       "      <td>NaN</td>\n",
       "      <td>NaN</td>\n",
       "    </tr>\n",
       "    <tr>\n",
       "      <th>4</th>\n",
       "      <td>0.973</td>\n",
       "      <td>0.023</td>\n",
       "      <td>11.0</td>\n",
       "      <td>0.97</td>\n",
       "      <td>0.022</td>\n",
       "      <td>1.0</td>\n",
       "      <td>1.008</td>\n",
       "      <td>0.0</td>\n",
       "    </tr>\n",
       "  </tbody>\n",
       "</table>\n",
       "</div>"
      ],
      "text/plain": [
       "   mu(R) sigma(R)  |R-| mu(R-) sigma(R-) |R+| mu(R+) sigma(R+)\n",
       "1  0.972    0.012  12.0  0.972     0.012  0.0    NaN       NaN\n",
       "2  0.971    0.014  11.0  0.968     0.012  1.0  1.001       0.0\n",
       "3  0.962    0.013  12.0  0.962     0.013  0.0    NaN       NaN\n",
       "4  0.973    0.023  11.0   0.97     0.022  1.0  1.008       0.0"
      ]
     },
     "execution_count": 56,
     "metadata": {},
     "output_type": "execute_result"
    }
   ],
   "source": [
    "wr_dfs[2021]"
   ]
  },
  {
   "cell_type": "markdown",
   "id": "90ddeb84-5da6-432f-a85e-900f2807dfdc",
   "metadata": {},
   "source": [
    "###### proceeding with trade_from_close_close"
   ]
  },
  {
   "cell_type": "code",
   "execution_count": 57,
   "id": "cf06b3c4-583f-4c24-8b5b-76743dc3206a",
   "metadata": {
    "tags": []
   },
   "outputs": [],
   "source": [
    "def trade_from_close_close(stock,sd):\n",
    "    '''Args: stock: dataframe of stock data | sd: dictionary of staggered weeks,\n",
    "    i.e. {2017-02:2017-01, ... 2021-52:2021-51} for gettin prior week adjusted\n",
    "    close Return a dataframe with weekly return factors based on first day of week\n",
    "    open and last day of week close.'''\n",
    "    \n",
    "    stock_by_week = pd.DataFrame(\n",
    "        columns=['Year','Year_Week',\"Begin_Price\",\"Adj Close\", 'Return', 'WoM'])\n",
    "    \n",
    "    year_weeks = stock[\"Year_Week\"].unique()\n",
    "    \n",
    "    for inx, yw in enumerate(year_weeks):\n",
    "        this_week = stock[stock[\"Year_Week\"]==yw]\n",
    "        try:\n",
    "            begin_price = stock[stock[\"Year_Week\"]==sd[yw]].\\\n",
    "            tail(1)['Adj Close'].values[0]\n",
    "        except (IndexError,KeyError): \n",
    "            begin_price = this_week.head(1)['Open'].values[0]\n",
    "        close_price = this_week.tail(1)['Adj Close'].values[0]\n",
    "        r = close_price/begin_price\n",
    "        wom = this_week.head(1)['WoM'].values[0]\n",
    "        y = this_week.tail(1)['Year'].values[0]\n",
    "        stock_by_week.loc[inx,:] = [y,yw,begin_price,close_price,r,wom]\n",
    "    return stock_by_week"
   ]
  },
  {
   "cell_type": "code",
   "execution_count": 58,
   "id": "221fcc2e-7c0c-4a90-bb8f-8e74fbd024f8",
   "metadata": {
    "tags": []
   },
   "outputs": [],
   "source": [
    "# correspond year_week with year_week that determines the begin price\n",
    "this_wk_last_wk = dict(zip(spy.Year_Week.unique()[1:], \n",
    "                           spy.Year_Week.unique()[:-1]))"
   ]
  },
  {
   "cell_type": "code",
   "execution_count": 59,
   "id": "78f3fd6b-1da1-4595-97f3-5100359cf640",
   "metadata": {
    "tags": []
   },
   "outputs": [
    {
     "data": {
      "text/plain": [
       "{1: [], 2: [], 3: [], 4: []}"
      ]
     },
     "execution_count": 59,
     "metadata": {},
     "output_type": "execute_result"
    }
   ],
   "source": [
    "weekly_returns = trade_from_close_close(spy_first_four,this_wk_last_wk)\n",
    "# nested dictionary of year_num: {week_num: return}\n",
    "wr_by_year = {y:{1:[],2:[],3:[],4:[]} for y in weekly_returns.Year.values}\n",
    "wr_by_year[2017]"
   ]
  },
  {
   "cell_type": "code",
   "execution_count": 60,
   "id": "cab293a0-4e18-4d1b-ac2d-199060e1e07e",
   "metadata": {
    "tags": []
   },
   "outputs": [
    {
     "data": {
      "text/html": [
       "<div>\n",
       "<style scoped>\n",
       "    .dataframe tbody tr th:only-of-type {\n",
       "        vertical-align: middle;\n",
       "    }\n",
       "\n",
       "    .dataframe tbody tr th {\n",
       "        vertical-align: top;\n",
       "    }\n",
       "\n",
       "    .dataframe thead th {\n",
       "        text-align: right;\n",
       "    }\n",
       "</style>\n",
       "<table border=\"1\" class=\"dataframe\">\n",
       "  <thead>\n",
       "    <tr style=\"text-align: right;\">\n",
       "      <th></th>\n",
       "      <th>Year</th>\n",
       "      <th>Year_Week</th>\n",
       "      <th>Begin_Price</th>\n",
       "      <th>Adj Close</th>\n",
       "      <th>Return</th>\n",
       "      <th>WoM</th>\n",
       "    </tr>\n",
       "  </thead>\n",
       "  <tbody>\n",
       "    <tr>\n",
       "      <th>0</th>\n",
       "      <td>2017</td>\n",
       "      <td>2017-01</td>\n",
       "      <td>225.04</td>\n",
       "      <td>202.38</td>\n",
       "      <td>0.899307</td>\n",
       "      <td>1</td>\n",
       "    </tr>\n",
       "    <tr>\n",
       "      <th>1</th>\n",
       "      <td>2017</td>\n",
       "      <td>2017-02</td>\n",
       "      <td>202.38</td>\n",
       "      <td>202.24</td>\n",
       "      <td>0.999308</td>\n",
       "      <td>2</td>\n",
       "    </tr>\n",
       "    <tr>\n",
       "      <th>2</th>\n",
       "      <td>2017</td>\n",
       "      <td>2017-03</td>\n",
       "      <td>202.24</td>\n",
       "      <td>201.97</td>\n",
       "      <td>0.998665</td>\n",
       "      <td>3</td>\n",
       "    </tr>\n",
       "    <tr>\n",
       "      <th>3</th>\n",
       "      <td>2017</td>\n",
       "      <td>2017-04</td>\n",
       "      <td>201.97</td>\n",
       "      <td>203.95</td>\n",
       "      <td>1.009803</td>\n",
       "      <td>4</td>\n",
       "    </tr>\n",
       "    <tr>\n",
       "      <th>4</th>\n",
       "      <td>2017</td>\n",
       "      <td>2017-05</td>\n",
       "      <td>203.95</td>\n",
       "      <td>204.28</td>\n",
       "      <td>1.001618</td>\n",
       "      <td>1</td>\n",
       "    </tr>\n",
       "    <tr>\n",
       "      <th>...</th>\n",
       "      <td>...</td>\n",
       "      <td>...</td>\n",
       "      <td>...</td>\n",
       "      <td>...</td>\n",
       "      <td>...</td>\n",
       "      <td>...</td>\n",
       "    </tr>\n",
       "    <tr>\n",
       "      <th>235</th>\n",
       "      <td>2021</td>\n",
       "      <td>2021-47</td>\n",
       "      <td>454.74</td>\n",
       "      <td>445.12</td>\n",
       "      <td>0.978845</td>\n",
       "      <td>4</td>\n",
       "    </tr>\n",
       "    <tr>\n",
       "      <th>236</th>\n",
       "      <td>2021</td>\n",
       "      <td>2021-48</td>\n",
       "      <td>445.12</td>\n",
       "      <td>439.74</td>\n",
       "      <td>0.987913</td>\n",
       "      <td>1</td>\n",
       "    </tr>\n",
       "    <tr>\n",
       "      <th>237</th>\n",
       "      <td>2021</td>\n",
       "      <td>2021-49</td>\n",
       "      <td>439.74</td>\n",
       "      <td>456.54</td>\n",
       "      <td>1.038204</td>\n",
       "      <td>2</td>\n",
       "    </tr>\n",
       "    <tr>\n",
       "      <th>238</th>\n",
       "      <td>2021</td>\n",
       "      <td>2021-50</td>\n",
       "      <td>456.54</td>\n",
       "      <td>447.56</td>\n",
       "      <td>0.98033</td>\n",
       "      <td>3</td>\n",
       "    </tr>\n",
       "    <tr>\n",
       "      <th>239</th>\n",
       "      <td>2021</td>\n",
       "      <td>2021-51</td>\n",
       "      <td>447.56</td>\n",
       "      <td>458.0</td>\n",
       "      <td>1.023326</td>\n",
       "      <td>4</td>\n",
       "    </tr>\n",
       "  </tbody>\n",
       "</table>\n",
       "<p>240 rows × 6 columns</p>\n",
       "</div>"
      ],
      "text/plain": [
       "     Year Year_Week Begin_Price Adj Close    Return WoM\n",
       "0    2017   2017-01      225.04    202.38  0.899307   1\n",
       "1    2017   2017-02      202.38    202.24  0.999308   2\n",
       "2    2017   2017-03      202.24    201.97  0.998665   3\n",
       "3    2017   2017-04      201.97    203.95  1.009803   4\n",
       "4    2017   2017-05      203.95    204.28  1.001618   1\n",
       "..    ...       ...         ...       ...       ...  ..\n",
       "235  2021   2021-47      454.74    445.12  0.978845   4\n",
       "236  2021   2021-48      445.12    439.74  0.987913   1\n",
       "237  2021   2021-49      439.74    456.54  1.038204   2\n",
       "238  2021   2021-50      456.54    447.56   0.98033   3\n",
       "239  2021   2021-51      447.56     458.0  1.023326   4\n",
       "\n",
       "[240 rows x 6 columns]"
      ]
     },
     "execution_count": 60,
     "metadata": {},
     "output_type": "execute_result"
    }
   ],
   "source": [
    "weekly_returns"
   ]
  },
  {
   "cell_type": "code",
   "execution_count": 61,
   "id": "182b92c7-be90-4a01-a70f-5b65ddeb5694",
   "metadata": {
    "tags": []
   },
   "outputs": [],
   "source": [
    "wr_by_year = {y:{1:[],2:[],3:[],4:[]} for y in weekly_returns.Year.values}\n",
    "for yw in weekly_returns.iterrows():\n",
    "    wr_by_year[yw[1][\"Year\"]][yw[1][\"WoM\"\n",
    "    ]].append(yw[1]['Return'])\n"
   ]
  },
  {
   "cell_type": "code",
   "execution_count": 62,
   "id": "c30e4493-d584-46fc-bcbd-2fe031542a0b",
   "metadata": {
    "tags": []
   },
   "outputs": [],
   "source": [
    "wr_dfs = {y: pd.DataFrame(columns =['mu(R)','sigma(R)','|R-|', 'mu(R-)', 'sigma(R-)'\n",
    "                               , '|R+|', 'mu(R+)', 'sigma(R+)'], \n",
    "                       index = [1+w for w in range(0,4)],) for y in \n",
    "          spy_first_four.Year.unique()}\n",
    "for y,df in wr_dfs.items():\n",
    "    df.name = y # name dataframes according to year\n",
    "    \n",
    "for y, wrs in wr_by_year.items():\n",
    "    for wk, rs in wrs.items():\n",
    "        rs = np.array(rs)\n",
    "        \n",
    "        rs_pos = rs[rs>=1]; rs_neg = rs[rs<1]\n",
    "        mu_r = np.round(np.mean(rs),3); sigma_r = np.round(np.std(rs),3)\n",
    "        \n",
    "        r_neg_count = np.shape(rs_neg)[0];\n",
    "        mu_r_neg = np.round(np.mean(rs_neg),3)\n",
    "        sigma_r_neg = np.round(np.std(rs_neg),3)\n",
    "        \n",
    "        r_pos_count = np.shape(rs_pos)[0]; mu_r_pos = np.round(np.mean(rs_pos),3)\n",
    "        sigma_r_pos = np.round(np.std(rs_pos),3)\n",
    "        \n",
    "        wr_dfs[y].loc[wk] = {'mu(R)':mu_r, 'sigma(R)':sigma_r, \n",
    "            '|R-|':r_neg_count, 'mu(R-)':mu_r_neg, 'sigma(R-)':sigma_r_neg, \n",
    "            '|R+|':r_pos_count, 'mu(R+)':mu_r_pos, 'sigma(R+)':sigma_r_pos }"
   ]
  },
  {
   "cell_type": "code",
   "execution_count": 63,
   "id": "acef893b-1013-4018-8c41-cac28b6f48ce",
   "metadata": {
    "tags": []
   },
   "outputs": [
    {
     "data": {
      "text/html": [
       "<div>\n",
       "<style scoped>\n",
       "    .dataframe tbody tr th:only-of-type {\n",
       "        vertical-align: middle;\n",
       "    }\n",
       "\n",
       "    .dataframe tbody tr th {\n",
       "        vertical-align: top;\n",
       "    }\n",
       "\n",
       "    .dataframe thead th {\n",
       "        text-align: right;\n",
       "    }\n",
       "</style>\n",
       "<table border=\"1\" class=\"dataframe\">\n",
       "  <thead>\n",
       "    <tr style=\"text-align: right;\">\n",
       "      <th></th>\n",
       "      <th>mu(R)</th>\n",
       "      <th>sigma(R)</th>\n",
       "      <th>|R-|</th>\n",
       "      <th>mu(R-)</th>\n",
       "      <th>sigma(R-)</th>\n",
       "      <th>|R+|</th>\n",
       "      <th>mu(R+)</th>\n",
       "      <th>sigma(R+)</th>\n",
       "    </tr>\n",
       "  </thead>\n",
       "  <tbody>\n",
       "    <tr>\n",
       "      <th>1</th>\n",
       "      <td>0.972</td>\n",
       "      <td>0.051</td>\n",
       "      <td>4.0</td>\n",
       "      <td>0.9</td>\n",
       "      <td>0.008</td>\n",
       "      <td>8.0</td>\n",
       "      <td>1.007</td>\n",
       "      <td>0.005</td>\n",
       "    </tr>\n",
       "    <tr>\n",
       "      <th>2</th>\n",
       "      <td>0.999</td>\n",
       "      <td>0.007</td>\n",
       "      <td>8.0</td>\n",
       "      <td>0.995</td>\n",
       "      <td>0.004</td>\n",
       "      <td>4.0</td>\n",
       "      <td>1.007</td>\n",
       "      <td>0.005</td>\n",
       "    </tr>\n",
       "    <tr>\n",
       "      <th>3</th>\n",
       "      <td>1.005</td>\n",
       "      <td>0.007</td>\n",
       "      <td>4.0</td>\n",
       "      <td>0.997</td>\n",
       "      <td>0.002</td>\n",
       "      <td>8.0</td>\n",
       "      <td>1.008</td>\n",
       "      <td>0.005</td>\n",
       "    </tr>\n",
       "    <tr>\n",
       "      <th>4</th>\n",
       "      <td>1.005</td>\n",
       "      <td>0.007</td>\n",
       "      <td>1.0</td>\n",
       "      <td>0.987</td>\n",
       "      <td>0.0</td>\n",
       "      <td>11.0</td>\n",
       "      <td>1.007</td>\n",
       "      <td>0.005</td>\n",
       "    </tr>\n",
       "  </tbody>\n",
       "</table>\n",
       "</div>"
      ],
      "text/plain": [
       "   mu(R) sigma(R) |R-| mu(R-) sigma(R-)  |R+| mu(R+) sigma(R+)\n",
       "1  0.972    0.051  4.0    0.9     0.008   8.0  1.007     0.005\n",
       "2  0.999    0.007  8.0  0.995     0.004   4.0  1.007     0.005\n",
       "3  1.005    0.007  4.0  0.997     0.002   8.0  1.008     0.005\n",
       "4  1.005    0.007  1.0  0.987       0.0  11.0  1.007     0.005"
      ]
     },
     "execution_count": 63,
     "metadata": {},
     "output_type": "execute_result"
    }
   ],
   "source": [
    "wr_dfs[2017]"
   ]
  },
  {
   "cell_type": "code",
   "execution_count": 64,
   "id": "3992d051-ab91-44c2-b600-bc479de400b7",
   "metadata": {
    "tags": []
   },
   "outputs": [
    {
     "data": {
      "text/html": [
       "<div>\n",
       "<style scoped>\n",
       "    .dataframe tbody tr th:only-of-type {\n",
       "        vertical-align: middle;\n",
       "    }\n",
       "\n",
       "    .dataframe tbody tr th {\n",
       "        vertical-align: top;\n",
       "    }\n",
       "\n",
       "    .dataframe thead th {\n",
       "        text-align: right;\n",
       "    }\n",
       "</style>\n",
       "<table border=\"1\" class=\"dataframe\">\n",
       "  <thead>\n",
       "    <tr style=\"text-align: right;\">\n",
       "      <th></th>\n",
       "      <th>mu(R)</th>\n",
       "      <th>sigma(R)</th>\n",
       "      <th>|R-|</th>\n",
       "      <th>mu(R-)</th>\n",
       "      <th>sigma(R-)</th>\n",
       "      <th>|R+|</th>\n",
       "      <th>mu(R+)</th>\n",
       "      <th>sigma(R+)</th>\n",
       "    </tr>\n",
       "  </thead>\n",
       "  <tbody>\n",
       "    <tr>\n",
       "      <th>1</th>\n",
       "      <td>0.959</td>\n",
       "      <td>0.048</td>\n",
       "      <td>9.0</td>\n",
       "      <td>0.941</td>\n",
       "      <td>0.042</td>\n",
       "      <td>3.0</td>\n",
       "      <td>1.013</td>\n",
       "      <td>0.009</td>\n",
       "    </tr>\n",
       "    <tr>\n",
       "      <th>2</th>\n",
       "      <td>1.005</td>\n",
       "      <td>0.026</td>\n",
       "      <td>4.0</td>\n",
       "      <td>0.974</td>\n",
       "      <td>0.02</td>\n",
       "      <td>8.0</td>\n",
       "      <td>1.021</td>\n",
       "      <td>0.007</td>\n",
       "    </tr>\n",
       "    <tr>\n",
       "      <th>3</th>\n",
       "      <td>0.998</td>\n",
       "      <td>0.025</td>\n",
       "      <td>4.0</td>\n",
       "      <td>0.974</td>\n",
       "      <td>0.026</td>\n",
       "      <td>8.0</td>\n",
       "      <td>1.01</td>\n",
       "      <td>0.014</td>\n",
       "    </tr>\n",
       "    <tr>\n",
       "      <th>4</th>\n",
       "      <td>0.994</td>\n",
       "      <td>0.025</td>\n",
       "      <td>6.0</td>\n",
       "      <td>0.975</td>\n",
       "      <td>0.022</td>\n",
       "      <td>6.0</td>\n",
       "      <td>1.012</td>\n",
       "      <td>0.01</td>\n",
       "    </tr>\n",
       "  </tbody>\n",
       "</table>\n",
       "</div>"
      ],
      "text/plain": [
       "   mu(R) sigma(R) |R-| mu(R-) sigma(R-) |R+| mu(R+) sigma(R+)\n",
       "1  0.959    0.048  9.0  0.941     0.042  3.0  1.013     0.009\n",
       "2  1.005    0.026  4.0  0.974      0.02  8.0  1.021     0.007\n",
       "3  0.998    0.025  4.0  0.974     0.026  8.0   1.01     0.014\n",
       "4  0.994    0.025  6.0  0.975     0.022  6.0  1.012      0.01"
      ]
     },
     "execution_count": 64,
     "metadata": {},
     "output_type": "execute_result"
    }
   ],
   "source": [
    "wr_dfs[2018]"
   ]
  },
  {
   "cell_type": "code",
   "execution_count": 65,
   "id": "e16da836-c991-4d40-bf3c-53012cfa10e7",
   "metadata": {
    "tags": []
   },
   "outputs": [
    {
     "data": {
      "text/html": [
       "<div>\n",
       "<style scoped>\n",
       "    .dataframe tbody tr th:only-of-type {\n",
       "        vertical-align: middle;\n",
       "    }\n",
       "\n",
       "    .dataframe tbody tr th {\n",
       "        vertical-align: top;\n",
       "    }\n",
       "\n",
       "    .dataframe thead th {\n",
       "        text-align: right;\n",
       "    }\n",
       "</style>\n",
       "<table border=\"1\" class=\"dataframe\">\n",
       "  <thead>\n",
       "    <tr style=\"text-align: right;\">\n",
       "      <th></th>\n",
       "      <th>mu(R)</th>\n",
       "      <th>sigma(R)</th>\n",
       "      <th>|R-|</th>\n",
       "      <th>mu(R-)</th>\n",
       "      <th>sigma(R-)</th>\n",
       "      <th>|R+|</th>\n",
       "      <th>mu(R+)</th>\n",
       "      <th>sigma(R+)</th>\n",
       "    </tr>\n",
       "  </thead>\n",
       "  <tbody>\n",
       "    <tr>\n",
       "      <th>1</th>\n",
       "      <td>0.982</td>\n",
       "      <td>0.029</td>\n",
       "      <td>7.0</td>\n",
       "      <td>0.961</td>\n",
       "      <td>0.019</td>\n",
       "      <td>5.0</td>\n",
       "      <td>1.011</td>\n",
       "      <td>0.007</td>\n",
       "    </tr>\n",
       "    <tr>\n",
       "      <th>2</th>\n",
       "      <td>1.003</td>\n",
       "      <td>0.012</td>\n",
       "      <td>3.0</td>\n",
       "      <td>0.985</td>\n",
       "      <td>0.008</td>\n",
       "      <td>9.0</td>\n",
       "      <td>1.009</td>\n",
       "      <td>0.007</td>\n",
       "    </tr>\n",
       "    <tr>\n",
       "      <th>3</th>\n",
       "      <td>1.008</td>\n",
       "      <td>0.015</td>\n",
       "      <td>5.0</td>\n",
       "      <td>0.993</td>\n",
       "      <td>0.004</td>\n",
       "      <td>7.0</td>\n",
       "      <td>1.019</td>\n",
       "      <td>0.009</td>\n",
       "    </tr>\n",
       "    <tr>\n",
       "      <th>4</th>\n",
       "      <td>1.0</td>\n",
       "      <td>0.01</td>\n",
       "      <td>7.0</td>\n",
       "      <td>0.993</td>\n",
       "      <td>0.004</td>\n",
       "      <td>5.0</td>\n",
       "      <td>1.011</td>\n",
       "      <td>0.004</td>\n",
       "    </tr>\n",
       "  </tbody>\n",
       "</table>\n",
       "</div>"
      ],
      "text/plain": [
       "   mu(R) sigma(R) |R-| mu(R-) sigma(R-) |R+| mu(R+) sigma(R+)\n",
       "1  0.982    0.029  7.0  0.961     0.019  5.0  1.011     0.007\n",
       "2  1.003    0.012  3.0  0.985     0.008  9.0  1.009     0.007\n",
       "3  1.008    0.015  5.0  0.993     0.004  7.0  1.019     0.009\n",
       "4    1.0     0.01  7.0  0.993     0.004  5.0  1.011     0.004"
      ]
     },
     "execution_count": 65,
     "metadata": {},
     "output_type": "execute_result"
    }
   ],
   "source": [
    "wr_dfs[2019]"
   ]
  },
  {
   "cell_type": "code",
   "execution_count": 66,
   "id": "f72b775f-f372-40a9-81ee-e39caba92b16",
   "metadata": {
    "tags": []
   },
   "outputs": [
    {
     "data": {
      "text/html": [
       "<div>\n",
       "<style scoped>\n",
       "    .dataframe tbody tr th:only-of-type {\n",
       "        vertical-align: middle;\n",
       "    }\n",
       "\n",
       "    .dataframe tbody tr th {\n",
       "        vertical-align: top;\n",
       "    }\n",
       "\n",
       "    .dataframe thead th {\n",
       "        text-align: right;\n",
       "    }\n",
       "</style>\n",
       "<table border=\"1\" class=\"dataframe\">\n",
       "  <thead>\n",
       "    <tr style=\"text-align: right;\">\n",
       "      <th></th>\n",
       "      <th>mu(R)</th>\n",
       "      <th>sigma(R)</th>\n",
       "      <th>|R-|</th>\n",
       "      <th>mu(R-)</th>\n",
       "      <th>sigma(R-)</th>\n",
       "      <th>|R+|</th>\n",
       "      <th>mu(R+)</th>\n",
       "      <th>sigma(R+)</th>\n",
       "    </tr>\n",
       "  </thead>\n",
       "  <tbody>\n",
       "    <tr>\n",
       "      <th>1</th>\n",
       "      <td>0.994</td>\n",
       "      <td>0.026</td>\n",
       "      <td>7.0</td>\n",
       "      <td>0.976</td>\n",
       "      <td>0.019</td>\n",
       "      <td>5.0</td>\n",
       "      <td>1.018</td>\n",
       "      <td>0.012</td>\n",
       "    </tr>\n",
       "    <tr>\n",
       "      <th>2</th>\n",
       "      <td>1.008</td>\n",
       "      <td>0.05</td>\n",
       "      <td>4.0</td>\n",
       "      <td>0.956</td>\n",
       "      <td>0.032</td>\n",
       "      <td>8.0</td>\n",
       "      <td>1.033</td>\n",
       "      <td>0.035</td>\n",
       "    </tr>\n",
       "    <tr>\n",
       "      <th>3</th>\n",
       "      <td>0.993</td>\n",
       "      <td>0.044</td>\n",
       "      <td>5.0</td>\n",
       "      <td>0.961</td>\n",
       "      <td>0.054</td>\n",
       "      <td>7.0</td>\n",
       "      <td>1.015</td>\n",
       "      <td>0.009</td>\n",
       "    </tr>\n",
       "    <tr>\n",
       "      <th>4</th>\n",
       "      <td>1.002</td>\n",
       "      <td>0.048</td>\n",
       "      <td>8.0</td>\n",
       "      <td>0.978</td>\n",
       "      <td>0.035</td>\n",
       "      <td>4.0</td>\n",
       "      <td>1.049</td>\n",
       "      <td>0.034</td>\n",
       "    </tr>\n",
       "  </tbody>\n",
       "</table>\n",
       "</div>"
      ],
      "text/plain": [
       "   mu(R) sigma(R) |R-| mu(R-) sigma(R-) |R+| mu(R+) sigma(R+)\n",
       "1  0.994    0.026  7.0  0.976     0.019  5.0  1.018     0.012\n",
       "2  1.008     0.05  4.0  0.956     0.032  8.0  1.033     0.035\n",
       "3  0.993    0.044  5.0  0.961     0.054  7.0  1.015     0.009\n",
       "4  1.002    0.048  8.0  0.978     0.035  4.0  1.049     0.034"
      ]
     },
     "execution_count": 66,
     "metadata": {},
     "output_type": "execute_result"
    }
   ],
   "source": [
    "wr_dfs[2020]"
   ]
  },
  {
   "cell_type": "code",
   "execution_count": 67,
   "id": "a1291975-057b-43f2-88fa-3fdc541283e8",
   "metadata": {
    "tags": []
   },
   "outputs": [
    {
     "data": {
      "text/html": [
       "<div>\n",
       "<style scoped>\n",
       "    .dataframe tbody tr th:only-of-type {\n",
       "        vertical-align: middle;\n",
       "    }\n",
       "\n",
       "    .dataframe tbody tr th {\n",
       "        vertical-align: top;\n",
       "    }\n",
       "\n",
       "    .dataframe thead th {\n",
       "        text-align: right;\n",
       "    }\n",
       "</style>\n",
       "<table border=\"1\" class=\"dataframe\">\n",
       "  <thead>\n",
       "    <tr style=\"text-align: right;\">\n",
       "      <th></th>\n",
       "      <th>mu(R)</th>\n",
       "      <th>sigma(R)</th>\n",
       "      <th>|R-|</th>\n",
       "      <th>mu(R-)</th>\n",
       "      <th>sigma(R-)</th>\n",
       "      <th>|R+|</th>\n",
       "      <th>mu(R+)</th>\n",
       "      <th>sigma(R+)</th>\n",
       "    </tr>\n",
       "  </thead>\n",
       "  <tbody>\n",
       "    <tr>\n",
       "      <th>1</th>\n",
       "      <td>0.997</td>\n",
       "      <td>0.022</td>\n",
       "      <td>6.0</td>\n",
       "      <td>0.978</td>\n",
       "      <td>0.007</td>\n",
       "      <td>6.0</td>\n",
       "      <td>1.016</td>\n",
       "      <td>0.015</td>\n",
       "    </tr>\n",
       "    <tr>\n",
       "      <th>2</th>\n",
       "      <td>1.007</td>\n",
       "      <td>0.017</td>\n",
       "      <td>4.0</td>\n",
       "      <td>0.988</td>\n",
       "      <td>0.005</td>\n",
       "      <td>8.0</td>\n",
       "      <td>1.016</td>\n",
       "      <td>0.012</td>\n",
       "    </tr>\n",
       "    <tr>\n",
       "      <th>3</th>\n",
       "      <td>0.998</td>\n",
       "      <td>0.013</td>\n",
       "      <td>8.0</td>\n",
       "      <td>0.99</td>\n",
       "      <td>0.006</td>\n",
       "      <td>4.0</td>\n",
       "      <td>1.014</td>\n",
       "      <td>0.006</td>\n",
       "    </tr>\n",
       "    <tr>\n",
       "      <th>4</th>\n",
       "      <td>1.005</td>\n",
       "      <td>0.02</td>\n",
       "      <td>4.0</td>\n",
       "      <td>0.98</td>\n",
       "      <td>0.012</td>\n",
       "      <td>8.0</td>\n",
       "      <td>1.017</td>\n",
       "      <td>0.006</td>\n",
       "    </tr>\n",
       "  </tbody>\n",
       "</table>\n",
       "</div>"
      ],
      "text/plain": [
       "   mu(R) sigma(R) |R-| mu(R-) sigma(R-) |R+| mu(R+) sigma(R+)\n",
       "1  0.997    0.022  6.0  0.978     0.007  6.0  1.016     0.015\n",
       "2  1.007    0.017  4.0  0.988     0.005  8.0  1.016     0.012\n",
       "3  0.998    0.013  8.0   0.99     0.006  4.0  1.014     0.006\n",
       "4  1.005     0.02  4.0   0.98     0.012  8.0  1.017     0.006"
      ]
     },
     "execution_count": 67,
     "metadata": {},
     "output_type": "execute_result"
    }
   ],
   "source": [
    "wr_dfs[2021]"
   ]
  },
  {
   "cell_type": "markdown",
   "id": "ee10b49f-ed77-4dd6-a66a-548d8d51a5a0",
   "metadata": {},
   "source": [
    "##### Question 2: Examine your 5 tables.\n",
    "1. Are there any patterns across weeks in a month?\n",
    "2. Are there any patterns across different years for the week in a month?\n",
    "3. What are the best and worst weeks of the month to be invested for each year?\n",
    "4. do these weeks change from year to year for your stock?"
   ]
  },
  {
   "cell_type": "markdown",
   "id": "6537c84f-486d-406e-bdf7-0e327ef34f9b",
   "metadata": {
    "tags": []
   },
   "source": [
    "##### Question 3: Compute the aggregate table across all 5 years, one table for both your stock and one table for S&P-500 (using data for ”spy”).\n",
    "\n",
    "1. What are the best and worst weeks of the month for each?\n",
    "2. are these weeks the same for your stock as they are for S&P-500?\n",
    "3. in 5 years, you have about 250 weeks. If weekly returns were normally distributed with mean µ and standard deviation σ, then 5% of these weeks will have returns r with r < µ − 2σ or r > µ + 2σ. For how many weeks do you have with weekly returns outside of µ±2σ range (for your stock and for S&P-500)? Is it consistent with the normality of returns?"
   ]
  },
  {
   "cell_type": "code",
   "execution_count": 68,
   "id": "66a39443-f3ee-42f1-a15e-65005505434a",
   "metadata": {
    "tags": []
   },
   "outputs": [],
   "source": [
    "def sig(a_series):\n",
    "    return np.std(a_series)\n",
    "\n",
    "def mu(a_series):\n",
    "    return np.round(np.mean(a_series),3)\n",
    "\n",
    "def count_pos(a_series):\n",
    "    a = np.array(a_series.values)\n",
    "    return a[a>=1].shape[0]\n",
    "\n",
    "def count_neg(a_series):\n",
    "    a = np.array(a_series.values)\n",
    "    return a[a<1].shape[0]\n",
    "\n",
    "def mu_pos(a_series):\n",
    "    a = np.array(a_series.values)\n",
    "    a_pos = a[a>=1]\n",
    "    return np.round(np.mean(a_pos),3)\n",
    "\n",
    "def mu_neg(a_series):\n",
    "    a = np.array(a_series.values)\n",
    "    a_neg = a[a<1]\n",
    "    return np.round(np.mean(a_neg),3)\n",
    "\n",
    "def sig_pos(a_series):\n",
    "    a = np.array(a_series.values)\n",
    "    a_pos = a[a>=1]\n",
    "    return np.round(np.std(a_pos),3)\n",
    "\n",
    "def sig_neg(a_series):\n",
    "    a = np.array(a_series.values)\n",
    "    a_neg = a[a<1]\n",
    "    return np.round(np.std(a_neg),3)"
   ]
  },
  {
   "cell_type": "code",
   "execution_count": 69,
   "id": "078ba04b-2d30-4210-b5ae-f2fd49bb52bb",
   "metadata": {
    "tags": []
   },
   "outputs": [],
   "source": [
    "spy_first_four_agg = trade_from_close_close(spy_first_four,this_wk_last_wk)\n",
    "gb_WoM = spy_first_four_agg[['Return','WoM']].groupby(by='WoM')['Return']\n",
    "WoM_stats_all_years = pd.DataFrame({'mu(R)':gb_WoM.apply(mu),\n",
    " 'sigma(R)':gb_WoM.apply(sig),\n",
    " '|R-|':gb_WoM.apply(count_neg), \n",
    " 'mu(R-)':gb_WoM.apply(mu_neg), \n",
    " 'sigma(R-)':gb_WoM.apply(sig_neg), \n",
    " '|R+|':gb_WoM.apply(count_pos), \n",
    " 'mu(R+)':gb_WoM.apply(mu_pos), \n",
    " 'sigma(R+)':gb_WoM.apply(sig_pos)\n",
    "})"
   ]
  },
  {
   "cell_type": "code",
   "execution_count": 70,
   "id": "3f2ad75d-80c6-4e28-ad9d-d011cbca4047",
   "metadata": {
    "tags": []
   },
   "outputs": [
    {
     "data": {
      "text/html": [
       "<div>\n",
       "<style scoped>\n",
       "    .dataframe tbody tr th:only-of-type {\n",
       "        vertical-align: middle;\n",
       "    }\n",
       "\n",
       "    .dataframe tbody tr th {\n",
       "        vertical-align: top;\n",
       "    }\n",
       "\n",
       "    .dataframe thead th {\n",
       "        text-align: right;\n",
       "    }\n",
       "</style>\n",
       "<table border=\"1\" class=\"dataframe\">\n",
       "  <thead>\n",
       "    <tr style=\"text-align: right;\">\n",
       "      <th></th>\n",
       "      <th>mu(R)</th>\n",
       "      <th>sigma(R)</th>\n",
       "      <th>|R-|</th>\n",
       "      <th>mu(R-)</th>\n",
       "      <th>sigma(R-)</th>\n",
       "      <th>|R+|</th>\n",
       "      <th>mu(R+)</th>\n",
       "      <th>sigma(R+)</th>\n",
       "    </tr>\n",
       "    <tr>\n",
       "      <th>WoM</th>\n",
       "      <th></th>\n",
       "      <th></th>\n",
       "      <th></th>\n",
       "      <th></th>\n",
       "      <th></th>\n",
       "      <th></th>\n",
       "      <th></th>\n",
       "      <th></th>\n",
       "    </tr>\n",
       "  </thead>\n",
       "  <tbody>\n",
       "    <tr>\n",
       "      <th>1</th>\n",
       "      <td>0.981</td>\n",
       "      <td>0.039858</td>\n",
       "      <td>33</td>\n",
       "      <td>0.954</td>\n",
       "      <td>0.036</td>\n",
       "      <td>27</td>\n",
       "      <td>1.013</td>\n",
       "      <td>0.011</td>\n",
       "    </tr>\n",
       "    <tr>\n",
       "      <th>2</th>\n",
       "      <td>1.004</td>\n",
       "      <td>0.027114</td>\n",
       "      <td>23</td>\n",
       "      <td>0.982</td>\n",
       "      <td>0.022</td>\n",
       "      <td>37</td>\n",
       "      <td>1.018</td>\n",
       "      <td>0.020</td>\n",
       "    </tr>\n",
       "    <tr>\n",
       "      <th>3</th>\n",
       "      <td>1.000</td>\n",
       "      <td>0.025053</td>\n",
       "      <td>26</td>\n",
       "      <td>0.984</td>\n",
       "      <td>0.029</td>\n",
       "      <td>34</td>\n",
       "      <td>1.013</td>\n",
       "      <td>0.010</td>\n",
       "    </tr>\n",
       "    <tr>\n",
       "      <th>4</th>\n",
       "      <td>1.001</td>\n",
       "      <td>0.026681</td>\n",
       "      <td>26</td>\n",
       "      <td>0.982</td>\n",
       "      <td>0.024</td>\n",
       "      <td>34</td>\n",
       "      <td>1.016</td>\n",
       "      <td>0.018</td>\n",
       "    </tr>\n",
       "  </tbody>\n",
       "</table>\n",
       "</div>"
      ],
      "text/plain": [
       "     mu(R)  sigma(R)  |R-|  mu(R-)  sigma(R-)  |R+|  mu(R+)  sigma(R+)\n",
       "WoM                                                                   \n",
       "1    0.981  0.039858    33   0.954      0.036    27   1.013      0.011\n",
       "2    1.004  0.027114    23   0.982      0.022    37   1.018      0.020\n",
       "3    1.000  0.025053    26   0.984      0.029    34   1.013      0.010\n",
       "4    1.001  0.026681    26   0.982      0.024    34   1.016      0.018"
      ]
     },
     "execution_count": 70,
     "metadata": {},
     "output_type": "execute_result"
    }
   ],
   "source": [
    "WoM_stats_all_years"
   ]
  },
  {
   "cell_type": "markdown",
   "id": "f18871d4-93e8-4057-90bc-c4b74cec43a2",
   "metadata": {},
   "source": [
    "1) The best week of the month for GameStop is week 4 and the worst week of the month is week 1."
   ]
  },
  {
   "cell_type": "markdown",
   "id": "f15e4f6c-9c17-4d2b-838e-29d72557252b",
   "metadata": {},
   "source": [
    "2) refer to answers document"
   ]
  },
  {
   "cell_type": "code",
   "execution_count": 71,
   "id": "4f1182f8-b194-428a-a357-3eb533c5eaf9",
   "metadata": {
    "tags": []
   },
   "outputs": [
    {
     "data": {
      "text/plain": [
       "2"
      ]
     },
     "execution_count": 71,
     "metadata": {},
     "output_type": "execute_result"
    }
   ],
   "source": [
    "wr_vals = trade_from_close_close(spy_first_four,this_wk_last_wk)['Return'].values\n",
    "wr_std = np.std(wr_vals)\n",
    "wr_mu = np.mean(wr_vals)\n",
    "sum((wr_vals-wr_mu)/wr_std > 1.96)"
   ]
  },
  {
   "cell_type": "code",
   "execution_count": 72,
   "id": "7e4cef6c-a467-4338-b295-6d374ba24085",
   "metadata": {
    "tags": []
   },
   "outputs": [
    {
     "data": {
      "text/plain": [
       "12.0"
      ]
     },
     "execution_count": 72,
     "metadata": {},
     "output_type": "execute_result"
    }
   ],
   "source": [
    ".05*len(wr_vals)"
   ]
  },
  {
   "cell_type": "markdown",
   "id": "ea8f8892-4a87-41d1-90ca-d8cccc4c1971",
   "metadata": {},
   "source": [
    "3) There are only five weeks with absolute returns differences from the mean greater than or equal to 1.96.  There should be around 12, so this substantial differential indicates that the distribution has fatter tails than would be expected from a normal distribution, with a few weeks accounting for an outsized portion of the variance."
   ]
  },
  {
   "cell_type": "markdown",
   "id": "8a8cdd60-758c-41a5-bc0b-c1a3a0f9908c",
   "metadata": {
    "tags": []
   },
   "source": [
    "#### Questions 4-7\n",
    "\n",
    "For the following questions, suppose that you have an ”oracle”. This oracle knows all ”True” labels for any stock for any week in the future. In particular, this oracle could tell you (statistically, of course) whether the price of any stock would increase or decrease the following week (Friday-to-Friday). Let p be the probability that your oracle predicts the ”True” label correctly for each day. Assume that you have no transaction costs.\n",
    "\n",
    "To implement such an oracle, we do the following: given probability p, generate a random number r in interval [0, 1]. If r ≤ p then Oracle gives the ”True” label, and if r > p then Oracle gives the opposite of the ”True” label. If p = 1, then Oracle gives you the correct ”True” label for each week. Therefore, you will never lose if you ”week trade” according to these labels. On the other extreme, if p = 0, then Oracle would tell you the opposite of ”True” labels. In this case, you will lose on every week that you are invested. For the general case 0 < p < 1, the oracle can only predict ”True” labels statistically with probability p of predicting the label correctly. You start with \\\\$100 on the first trading day of year 1 to trade your stock and another \\\\$100 to trade ”spy”. We ignore transaction costs and any taxes."
   ]
  },
  {
   "cell_type": "markdown",
   "id": "a6d7f42b-055b-4149-bdbb-90dffd8d3b6b",
   "metadata": {
    "tags": []
   },
   "source": [
    "##### Question 4: Let p = 1, and you listen to the oracle and follow its advice. How much money will you have on the last trading week of year 5:\n",
    "1. your stock?\n",
    "2. S&P-500 stock?\n",
    "3. take the last two digits of your BU id and add this number to \\\\$100. Assume that this is the desired amount. For example, if your BU id ends on 47, your desired amount is \\\\$100 + \\\\$47 = \\\\$147. If p = 1, then how many weeks would it take for your stock and for S&P-500 to get to that amount?"
   ]
  },
  {
   "cell_type": "code",
   "execution_count": null,
   "id": "aedb9dda-6114-42b8-81f8-4a271f0fdd1e",
   "metadata": {},
   "outputs": [],
   "source": []
  },
  {
   "cell_type": "code",
   "execution_count": 73,
   "id": "d932ea0e-ce44-476e-9f69-9cdf746804d7",
   "metadata": {
    "tags": []
   },
   "outputs": [],
   "source": [
    "spy_weekly = trade_from_close_close(spy_wn_labs,this_wk_last_wk)"
   ]
  },
  {
   "cell_type": "code",
   "execution_count": 74,
   "id": "1b606089-d9e6-4227-bc67-ca5fa473b604",
   "metadata": {
    "tags": []
   },
   "outputs": [],
   "source": [
    "returns = spy_weekly.Return\n",
    "trade_p_1 = np.round(100*np.cumprod(np.where(returns>1,\n",
    "                             returns.values.astype(float),1)),2)"
   ]
  },
  {
   "cell_type": "code",
   "execution_count": 75,
   "id": "69d54e81-810e-45f2-95f6-88444e512c24",
   "metadata": {
    "tags": []
   },
   "outputs": [
    {
     "data": {
      "text/plain": [
       "1291.28"
      ]
     },
     "execution_count": 75,
     "metadata": {},
     "output_type": "execute_result"
    }
   ],
   "source": [
    "trade_p_1[-1]"
   ]
  },
  {
   "cell_type": "markdown",
   "id": "e6536c47-0a3d-4bd4-b321-8f1c161fb81a",
   "metadata": {},
   "source": [
    "1) GameStop worth at end of 5 yrs: 104,159,415.61"
   ]
  },
  {
   "cell_type": "code",
   "execution_count": 76,
   "id": "4d431a63-d0e8-4539-acd8-6ac81765cd24",
   "metadata": {
    "tags": []
   },
   "outputs": [
    {
     "data": {
      "text/plain": [
       "53"
      ]
     },
     "execution_count": 76,
     "metadata": {},
     "output_type": "execute_result"
    }
   ],
   "source": [
    "np.argmax(trade_p_1>134)"
   ]
  },
  {
   "cell_type": "markdown",
   "id": "e803a3ea-7f7f-44c0-bbf7-1f2ccd9e0a95",
   "metadata": {},
   "source": [
    "3) it will take 16 weeks for my GameStop portfolio to be worth at least $134."
   ]
  },
  {
   "cell_type": "markdown",
   "id": "133e0994-ee39-4dc7-8bc9-f9f2a8a86e1e",
   "metadata": {
    "tags": []
   },
   "source": [
    "##### Question 5: Consider ”buy-and-hold” strategy: you buy on the first trading day and sell on the last day. So you do not listen to your oracle at all. As before, assume that you start with \\\\$100 for both your stock and ”spy”.\n",
    "1. How much money will you have on the last trading day ofyear 5?\n",
    "2. How do these results compare with results obtained in question 4?\n",
    "3. Summer Vacation for your stock? You implement ”buyand-hold” except that you sell on the last trading day in May and buy on the last trading day in August. You do this every year. In other words, your stock takes a long 3-month summer vacation in each of 5 years. What are the final amounts for your stock and for S&P-500? Is this a good strategy? Summarize your findings in the table:\n",
    "4. Monthly Vacation for your stock? For each month, you implement ”buy-and-hold” except that you sell on the first trading day of that month and buy on the last trading day of that month. You do this for that month every year. In other words, your stock takes a montly vacation. What are the final amounts for your stock and for S&P-500 for such a strategy? Summarize your findings in the table:\n",
    "<img src='./monthly_vacation_table_template.png' alt = 'monthly_vacation_table_template'>\n",
    "What is the best and worst month to vacation for your stock and for S&P-500?"
   ]
  },
  {
   "cell_type": "code",
   "execution_count": 77,
   "id": "c54d5bd8-3b02-4b37-8d0a-7ea346740ccd",
   "metadata": {
    "tags": []
   },
   "outputs": [],
   "source": [
    "def trade_from_close_close_holiday(stock,sd):\n",
    "    '''Args: stock: dataframe of stock data | sd: dictionary of staggered weeks,\n",
    "    i.e. {2017-02:2017-01, ... 2021-52:2021-51} for getting prior week adjusted\n",
    "    close \n",
    "    Return a dataframe with weekly return factors based on first day of week\n",
    "    open and last day of week close.  Includes Month column'''\n",
    "    \n",
    "    stock_by_week = pd.DataFrame(\n",
    "        columns=['Year','Year_Week',\"Begin_Price\",\"Adj Close\", 'Return', 'WoM',\n",
    "                'Month'])\n",
    "    \n",
    "    year_weeks = stock[\"Year_Week\"].unique()\n",
    "    \n",
    "    for inx,yw in enumerate(year_weeks):\n",
    "        this_week = stock[stock[\"Year_Week\"]==yw]\n",
    "        try:\n",
    "            begin_price = stock[stock[\"Year_Week\"]==sd[yw]].\\\n",
    "            tail(1)['Adj Close'].values[0]\n",
    "        except (IndexError,KeyError): \n",
    "            begin_price = this_week.head(1)['Open'].values[0]\n",
    "        close_price = this_week.tail(1)['Adj Close'].values[0]\n",
    "        r = close_price/begin_price\n",
    "        wom = this_week.head(1)['WoM'].values[0]\n",
    "        y = this_week.tail(1)['Year'].values[0]\n",
    "        m = this_week.tail(1)['Month'].values[0]\n",
    "        stock_by_week.loc[inx,:] = [y,yw,begin_price,close_price,r,wom,m]\n",
    "    return stock_by_week"
   ]
  },
  {
   "cell_type": "code",
   "execution_count": 78,
   "id": "eb585b2e-5339-45e7-b240-212303cbc27e",
   "metadata": {
    "tags": []
   },
   "outputs": [],
   "source": [
    "spy_returns = trade_from_close_close_holiday(spy_wn_labs,this_wk_last_wk)"
   ]
  },
  {
   "cell_type": "code",
   "execution_count": 79,
   "id": "41894d6f-63df-428c-8393-6ebefc3d34e1",
   "metadata": {
    "tags": []
   },
   "outputs": [],
   "source": [
    "def bh_holiday(weekly_returns, holiday_month):\n",
    "    return np.round(100*np.cumprod(np.where(weekly_returns.Month.values != holiday_month,\n",
    "                             returns.values.astype(float),1)),2)"
   ]
  },
  {
   "cell_type": "code",
   "execution_count": 80,
   "id": "6e99fdd2-5dad-48de-961a-a8b2aca56608",
   "metadata": {
    "tags": []
   },
   "outputs": [],
   "source": [
    "def holiday_stats(weekly_returns):\n",
    "    months = range(0,13)\n",
    "    stats_df = pd.DataFrame(index = \n",
    "        [f'B&H w/o month {m}' if m != 0 else 'B&H' for m in months], \n",
    "        columns = ['GameStop'])\n",
    "    for m in months:\n",
    "        end_value = bh_holiday(weekly_returns,m)[-1]\n",
    "        if m != 0:\n",
    "            stats_df.loc[f'B&H w/o month {m}','GameStop'] = end_value\n",
    "        else:\n",
    "            stats_df.loc[f'B&H','GameStop'] = end_value\n",
    "    return stats_df"
   ]
  },
  {
   "cell_type": "code",
   "execution_count": 81,
   "id": "67ea4c13-f63a-4295-ba8b-fb32e5406cb8",
   "metadata": {
    "tags": []
   },
   "outputs": [
    {
     "data": {
      "text/html": [
       "<div>\n",
       "<style scoped>\n",
       "    .dataframe tbody tr th:only-of-type {\n",
       "        vertical-align: middle;\n",
       "    }\n",
       "\n",
       "    .dataframe tbody tr th {\n",
       "        vertical-align: top;\n",
       "    }\n",
       "\n",
       "    .dataframe thead th {\n",
       "        text-align: right;\n",
       "    }\n",
       "</style>\n",
       "<table border=\"1\" class=\"dataframe\">\n",
       "  <thead>\n",
       "    <tr style=\"text-align: right;\">\n",
       "      <th></th>\n",
       "      <th>GameStop</th>\n",
       "    </tr>\n",
       "  </thead>\n",
       "  <tbody>\n",
       "    <tr>\n",
       "      <th>B&amp;H</th>\n",
       "      <td>205.92</td>\n",
       "    </tr>\n",
       "    <tr>\n",
       "      <th>B&amp;H w/o month 1</th>\n",
       "      <td>201.08</td>\n",
       "    </tr>\n",
       "    <tr>\n",
       "      <th>B&amp;H w/o month 2</th>\n",
       "      <td>209.02</td>\n",
       "    </tr>\n",
       "    <tr>\n",
       "      <th>B&amp;H w/o month 3</th>\n",
       "      <td>234.36</td>\n",
       "    </tr>\n",
       "    <tr>\n",
       "      <th>B&amp;H w/o month 4</th>\n",
       "      <td>164.69</td>\n",
       "    </tr>\n",
       "    <tr>\n",
       "      <th>B&amp;H w/o month 5</th>\n",
       "      <td>195.61</td>\n",
       "    </tr>\n",
       "    <tr>\n",
       "      <th>B&amp;H w/o month 6</th>\n",
       "      <td>189.56</td>\n",
       "    </tr>\n",
       "    <tr>\n",
       "      <th>B&amp;H w/o month 7</th>\n",
       "      <td>168.6</td>\n",
       "    </tr>\n",
       "    <tr>\n",
       "      <th>B&amp;H w/o month 8</th>\n",
       "      <td>188.79</td>\n",
       "    </tr>\n",
       "    <tr>\n",
       "      <th>B&amp;H w/o month 9</th>\n",
       "      <td>209.85</td>\n",
       "    </tr>\n",
       "    <tr>\n",
       "      <th>B&amp;H w/o month 10</th>\n",
       "      <td>209.64</td>\n",
       "    </tr>\n",
       "    <tr>\n",
       "      <th>B&amp;H w/o month 11</th>\n",
       "      <td>169.14</td>\n",
       "    </tr>\n",
       "    <tr>\n",
       "      <th>B&amp;H w/o month 12</th>\n",
       "      <td>198.16</td>\n",
       "    </tr>\n",
       "  </tbody>\n",
       "</table>\n",
       "</div>"
      ],
      "text/plain": [
       "                 GameStop\n",
       "B&H                205.92\n",
       "B&H w/o month 1    201.08\n",
       "B&H w/o month 2    209.02\n",
       "B&H w/o month 3    234.36\n",
       "B&H w/o month 4    164.69\n",
       "B&H w/o month 5    195.61\n",
       "B&H w/o month 6    189.56\n",
       "B&H w/o month 7     168.6\n",
       "B&H w/o month 8    188.79\n",
       "B&H w/o month 9    209.85\n",
       "B&H w/o month 10   209.64\n",
       "B&H w/o month 11   169.14\n",
       "B&H w/o month 12   198.16"
      ]
     },
     "execution_count": 81,
     "metadata": {},
     "output_type": "execute_result"
    }
   ],
   "source": [
    "holiday_stats(spy_returns)"
   ]
  },
  {
   "attachments": {
    "3e8631e0-3b7b-44c0-8674-0d728e59e111.png": {
     "image/png": "[encoded data removed]"
    }
   },
   "cell_type": "markdown",
   "id": "9e2b0a91-ed33-456d-8a60-220c8cdf7a04",
   "metadata": {
    "tags": []
   },
   "source": [
    "##### Question 6: Compute and compare the final value of your portfolio for buy-and-hold strategy with Oracle for different values of p = {0, 0.1, 0.2, . . . , 1}. Summarize the results in the table below. As before, assume that you start with $100 for both your stock and ”spy”\n",
    "![Screenshot 2023-10-09 at 5.37.34 PM.png](attachment:3e8631e0-3b7b-44c0-8674-0d728e59e111.png)\n",
    "1) for what value of p, the results are comparable to buy-and- hold strategy. Is this value the same for your stock as it is for SP=500?\n",
    "2) examine your table. Any patterns?\n"
   ]
  },
  {
   "cell_type": "code",
   "execution_count": 82,
   "id": "fbb317ef-0d55-44f8-bc01-98b0ab1a12fa",
   "metadata": {
    "tags": []
   },
   "outputs": [
    {
     "data": {
      "text/plain": [
       "array([0.13281983, 0.78662721, 0.30024107, 0.22773474, 0.68269729,\n",
       "       0.22502869, 0.74006076, 0.07633087, 0.77219109, 0.62094871])"
      ]
     },
     "execution_count": 82,
     "metadata": {},
     "output_type": "execute_result"
    }
   ],
   "source": [
    "np.random.rand(10)"
   ]
  },
  {
   "cell_type": "code",
   "execution_count": 83,
   "id": "ef766175-d215-476d-b3dd-f242c9542f7c",
   "metadata": {
    "tags": []
   },
   "outputs": [
    {
     "data": {
      "text/plain": [
       "array([0.22733602, 0.31675834, 0.79736546])"
      ]
     },
     "execution_count": 83,
     "metadata": {},
     "output_type": "execute_result"
    }
   ],
   "source": [
    "rng = np.random.default_rng(12345)\n",
    "rng.random(3)"
   ]
  },
  {
   "cell_type": "code",
   "execution_count": null,
   "id": "c718b787-ec9f-4cb3-a059-d4ace28f61a1",
   "metadata": {
    "tags": []
   },
   "outputs": [],
   "source": []
  },
  {
   "cell_type": "code",
   "execution_count": null,
   "id": "6f7975ee-9ac1-4b21-83bb-3cea008f064b",
   "metadata": {
    "tags": []
   },
   "outputs": [],
   "source": []
  },
  {
   "cell_type": "code",
   "execution_count": 84,
   "id": "7e9b80cb-64bc-49ab-845f-16e45137a9cf",
   "metadata": {
    "tags": []
   },
   "outputs": [],
   "source": [
    "def bh_oracle(weekly_returns, p):\n",
    "    \n",
    "    rng = np.random.default_rng(12345)\n",
    "    rn = rng.random(weekly_returns.shape[0])\n",
    "    wr = weekly_returns.Return.values\n",
    "    pos = wr >= 1\n",
    "    neg = np.logical_not(pos)\n",
    "    t = rn < p\n",
    "    f = np.logical_not(t)\n",
    "    t_p = np.bitwise_and(t, pos)\n",
    "    t_n = np.bitwise_and(t, neg)\n",
    "    f_p = np.bitwise_and(f, pos)\n",
    "    f_n = np.bitwise_and(f, neg)\n",
    "    \n",
    "    # collect cumulative returns for each category.\n",
    "    # code not included in calculations included in comments for completeness\n",
    "    # cumulative positive returns where oracle is telling truth\n",
    "    t_p_return = np.cumprod(np.where(t_p, wr, 1))[-1]\n",
    "    # no impact on returns from bad weeks when oracle tells truth\n",
    "    # t_n_return = np.cumprod(np.where(t_n, 1, 1)) \n",
    "    # no benefit from positive returns when oracle lies\n",
    "    # f_p_return = np.cumprod(np.where(f_p,1,1))\n",
    "    # cumulative negative returns when oracle lies\n",
    "    f_n_return = np.cumprod(np.where(f_n,wr,1))[-1]\n",
    "    \n",
    "    return np.round(100*t_p_return*f_n_return,2)"
   ]
  },
  {
   "cell_type": "code",
   "execution_count": 85,
   "id": "71c78d21-20be-41b8-bc0c-ad761a921475",
   "metadata": {
    "tags": []
   },
   "outputs": [],
   "source": [
    "# buy and hold function that takes Begin_Price instead of Open\n",
    "def buy_and_hold_v2(stock):\n",
    "    return list(100*(stock.tail(1)[\"Adj Close\"].values.astype(float))/\\\n",
    "            stock.head(1)['Begin_Price'].values.astype(float))[0]"
   ]
  },
  {
   "cell_type": "code",
   "execution_count": 86,
   "id": "1b194f94-2b7b-4079-a553-73927cc9d0df",
   "metadata": {
    "tags": []
   },
   "outputs": [
    {
     "data": {
      "text/plain": [
       "array([ 0.,  1.,  2.,  3.,  4.,  5.,  6.,  7.,  8.,  9., 10.])"
      ]
     },
     "execution_count": 86,
     "metadata": {},
     "output_type": "execute_result"
    }
   ],
   "source": [
    "np.linspace(0,10,11)"
   ]
  },
  {
   "cell_type": "code",
   "execution_count": 87,
   "id": "2ceb2d4b-38aa-4bde-88f3-3cc0cb19dd70",
   "metadata": {
    "tags": []
   },
   "outputs": [],
   "source": [
    "def oracle_stats(weekly_returns):\n",
    "    rng = np.random.default_rng(12345)\n",
    "    rn = rng.random(weekly_returns.shape[0])\n",
    "    ps = np.round(np.linspace(0,1,11),1)\n",
    "    stats_df = pd.DataFrame(index = \n",
    "        ['B&H']+[f'p = {p}' for p in ps], \n",
    "        columns = ['GameStop'])\n",
    "    ps = np.round(np.linspace(0,1,11),1)\n",
    "    stats_df.loc[f'B&H','GameStop'] = buy_and_hold_v2(weekly_returns)\n",
    "    for p in ps:\n",
    "        end_value = bh_oracle(weekly_returns,p)\n",
    "        stats_df.loc[f'p = {np.round(p,1)}','GameStop'] = end_value\n",
    "    return stats_df"
   ]
  },
  {
   "cell_type": "code",
   "execution_count": 88,
   "id": "07c794fe-493e-4d71-9474-17fdecc24782",
   "metadata": {
    "tags": []
   },
   "outputs": [
    {
     "data": {
      "text/html": [
       "<div>\n",
       "<style scoped>\n",
       "    .dataframe tbody tr th:only-of-type {\n",
       "        vertical-align: middle;\n",
       "    }\n",
       "\n",
       "    .dataframe tbody tr th {\n",
       "        vertical-align: top;\n",
       "    }\n",
       "\n",
       "    .dataframe thead th {\n",
       "        text-align: right;\n",
       "    }\n",
       "</style>\n",
       "<table border=\"1\" class=\"dataframe\">\n",
       "  <thead>\n",
       "    <tr style=\"text-align: right;\">\n",
       "      <th></th>\n",
       "      <th>GameStop</th>\n",
       "    </tr>\n",
       "  </thead>\n",
       "  <tbody>\n",
       "    <tr>\n",
       "      <th>B&amp;H</th>\n",
       "      <td>205.923391</td>\n",
       "    </tr>\n",
       "    <tr>\n",
       "      <th>p = 0.0</th>\n",
       "      <td>15.95</td>\n",
       "    </tr>\n",
       "    <tr>\n",
       "      <th>p = 0.1</th>\n",
       "      <td>24.38</td>\n",
       "    </tr>\n",
       "    <tr>\n",
       "      <th>p = 0.2</th>\n",
       "      <td>35.36</td>\n",
       "    </tr>\n",
       "    <tr>\n",
       "      <th>p = 0.3</th>\n",
       "      <td>67.52</td>\n",
       "    </tr>\n",
       "    <tr>\n",
       "      <th>p = 0.4</th>\n",
       "      <td>96.82</td>\n",
       "    </tr>\n",
       "    <tr>\n",
       "      <th>p = 0.5</th>\n",
       "      <td>163.78</td>\n",
       "    </tr>\n",
       "    <tr>\n",
       "      <th>p = 0.6</th>\n",
       "      <td>208.03</td>\n",
       "    </tr>\n",
       "    <tr>\n",
       "      <th>p = 0.7</th>\n",
       "      <td>299.29</td>\n",
       "    </tr>\n",
       "    <tr>\n",
       "      <th>p = 0.8</th>\n",
       "      <td>499.29</td>\n",
       "    </tr>\n",
       "    <tr>\n",
       "      <th>p = 0.9</th>\n",
       "      <td>774.8</td>\n",
       "    </tr>\n",
       "    <tr>\n",
       "      <th>p = 1.0</th>\n",
       "      <td>1291.28</td>\n",
       "    </tr>\n",
       "  </tbody>\n",
       "</table>\n",
       "</div>"
      ],
      "text/plain": [
       "           GameStop\n",
       "B&H      205.923391\n",
       "p = 0.0       15.95\n",
       "p = 0.1       24.38\n",
       "p = 0.2       35.36\n",
       "p = 0.3       67.52\n",
       "p = 0.4       96.82\n",
       "p = 0.5      163.78\n",
       "p = 0.6      208.03\n",
       "p = 0.7      299.29\n",
       "p = 0.8      499.29\n",
       "p = 0.9       774.8\n",
       "p = 1.0     1291.28"
      ]
     },
     "execution_count": 88,
     "metadata": {},
     "output_type": "execute_result"
    }
   ],
   "source": [
    "oracle_stats(spy_weekly)"
   ]
  },
  {
   "attachments": {
    "6c5b2b31-c473-46fa-8801-d9d0389a6f68.png": {
     "image/png": "[encoded data removed]"
    }
   },
   "cell_type": "markdown",
   "id": "1503a6f2-47ca-47a4-8f2e-881770c0c879",
   "metadata": {
    "tags": []
   },
   "source": [
    "##### Question 7: You are given a choice of an oracle. You choose the perfect oracle with p = 1. On the way home, you got so excited that you dropped your oracle (clumsy you!!!). The oracle is now very angry with you. It decides to take revenge by giving you wrong advice from time to time. Unlike the general statistical oracle, this ”angry” oracle decided to lie to you on the best and worst trading weeks. Specifically, let us consider the following three scenarios:\n",
    "\n",
    "a) the angry oracle gave you wrong results for the best ten weeks. In other words, you missed the best ten weeks, and your overall profit will be lower.\n",
    "\n",
    "b) the angry oracle gave you wrong results for the worst ten weeks days. In other words, you traded on the worst ten weeks, and your overall profit will be lower.\n",
    "\n",
    "c) The angry oracle gave you wrong results for the best five weeks and for the worst five weeks. In other words, you missed the best five trading weeks, and you were invested during the worst five weeks.\n",
    "\n",
    "Please answer the following questions:\n",
    "1. for each of the scenarios above (a,b and c), compute the final amount that you will have for both your stock and ”spy”. Summarize your results in the following table:\n",
    "![Screenshot 2023-10-09 at 5.43.02 PM.png](attachment:6c5b2b31-c473-46fa-8801-d9d0389a6f68.png)\n",
    "\n",
    "2. do you lose more by missing the best weeks or by being invested on the worst weeks?\n",
    "\n",
    "3. for each part (a),(b), and (c), what are your estimates for the probability p if you used a statistical oracle instead of an angry one?"
   ]
  },
  {
   "cell_type": "code",
   "execution_count": 89,
   "id": "a8601a87-ef39-4fe2-b845-f2726df9363c",
   "metadata": {
    "tags": []
   },
   "outputs": [],
   "source": [
    "def angry_results(stock):\n",
    "    returns = stock.Return.values\n",
    "    miss_best_10 = np.cumprod()\n",
    "    return list(100*(stock.tail(1)[\"Adj Close\"].values.astype(float))/\\\n",
    "            stock.head(1)['Open'].values.astype(float))[0]"
   ]
  },
  {
   "cell_type": "code",
   "execution_count": 90,
   "id": "282ace29-d136-443b-a9f3-3c73b037b2cf",
   "metadata": {
    "tags": [
     "oracle"
    ]
   },
   "outputs": [],
   "source": [
    "def oracle_angry_stats(weekly_returns):\n",
    "    rng = np.random.default_rng(12345)\n",
    "    rn = rng.random(weekly_returns.shape[0])\n",
    "    ps = np.round(np.linspace(0,1,11),1)\n",
    "    stats_df = pd.DataFrame(index = \n",
    "        ['B&H']+[f'p = {p}' for p in ps], \n",
    "        columns = ['GameStop'])\n",
    "    ps = np.round(np.linspace(0,1,11),1)\n",
    "    stats_df.loc[f'B&H','GameStop'] = buy_and_hold_v2(weekly_returns)\n",
    "    for p in ps:\n",
    "        end_value = bh_oracle(weekly_returns,p)\n",
    "        stats_df.loc[f'p = {np.round(p,1)}','GameStop'] = end_value\n",
    "    return stats_df"
   ]
  },
  {
   "cell_type": "code",
   "execution_count": 91,
   "id": "e885e215-4907-4a0b-b6c9-cb1b9037a182",
   "metadata": {
    "tags": []
   },
   "outputs": [],
   "source": [
    "def bh_oracle_angry(weekly_returns):\n",
    "    \n",
    "    wr = weekly_returns.Return.values\n",
    "    cr_worst_ten = np.cumprod(np.sort(weekly_returns.Return.values)[:10])[-1]\n",
    "    cr_best_ten = np.cumprod(np.sort(weekly_returns.Return.values)[-10:])[-1]\n",
    "    cr_best_five = np.cumprod(np.sort(weekly_returns.Return.values)[-5:])[-1]\n",
    "    cr_worst_five = np.cumprod(np.sort(weekly_returns.Return.values)[:5])[-1]\n",
    "    \n",
    "    never_lose = np.cumprod(np.where(wr>=1,wr,1))[-1]\n",
    "    \n",
    "    return pd.DataFrame({\"spy\": [np.round(100*never_lose,2),\n",
    "                                 np.round(100*never_lose/cr_best_ten,2),\n",
    "                                 np.round(100*never_lose*cr_worst_ten,2),\n",
    "                                 np.round(100*never_lose*cr_worst_five/cr_best_five,2)\n",
    "                                ]},index = ['Never Lose', 'Miss best ten', \n",
    "                                            'Invest worst 10', 'Miss best 5, invest worst 5'])\n",
    "    "
   ]
  },
  {
   "cell_type": "code",
   "execution_count": 92,
   "id": "d1ab0095-1925-455e-bb7c-31dbca229aff",
   "metadata": {
    "tags": []
   },
   "outputs": [
    {
     "data": {
      "text/plain": [
       "0.44158862631015233"
      ]
     },
     "execution_count": 92,
     "metadata": {},
     "output_type": "execute_result"
    }
   ],
   "source": [
    "np.cumprod(np.sort(spy_weekly.Return.values)[:10])[-1]"
   ]
  },
  {
   "cell_type": "code",
   "execution_count": 93,
   "id": "51cecf1a-6127-49bc-9964-3e6ec7ae83bf",
   "metadata": {
    "tags": []
   },
   "outputs": [],
   "source": [
    "np.set_printoptions(precision = 2, suppress = True)"
   ]
  },
  {
   "cell_type": "code",
   "execution_count": 94,
   "id": "2f155345-b02f-4204-9876-5e70151a3b1c",
   "metadata": {
    "tags": []
   },
   "outputs": [],
   "source": [
    "pd.options.display.float_format = '{:,.2f}'.format"
   ]
  },
  {
   "cell_type": "code",
   "execution_count": null,
   "id": "1a37cdde-f9d4-47ea-bcd7-14565a65f92a",
   "metadata": {
    "tags": []
   },
   "outputs": [],
   "source": []
  },
  {
   "cell_type": "code",
   "execution_count": 95,
   "id": "2113251d-d56e-49f3-8c1d-523791b70051",
   "metadata": {
    "tags": []
   },
   "outputs": [
    {
     "data": {
      "text/html": [
       "<div>\n",
       "<style scoped>\n",
       "    .dataframe tbody tr th:only-of-type {\n",
       "        vertical-align: middle;\n",
       "    }\n",
       "\n",
       "    .dataframe tbody tr th {\n",
       "        vertical-align: top;\n",
       "    }\n",
       "\n",
       "    .dataframe thead th {\n",
       "        text-align: right;\n",
       "    }\n",
       "</style>\n",
       "<table border=\"1\" class=\"dataframe\">\n",
       "  <thead>\n",
       "    <tr style=\"text-align: right;\">\n",
       "      <th></th>\n",
       "      <th>spy</th>\n",
       "    </tr>\n",
       "  </thead>\n",
       "  <tbody>\n",
       "    <tr>\n",
       "      <th>Never Lose</th>\n",
       "      <td>1,291.28</td>\n",
       "    </tr>\n",
       "    <tr>\n",
       "      <th>Miss best ten</th>\n",
       "      <td>714.08</td>\n",
       "    </tr>\n",
       "    <tr>\n",
       "      <th>Invest worst 10</th>\n",
       "      <td>570.21</td>\n",
       "    </tr>\n",
       "    <tr>\n",
       "      <th>Miss best 5, invest worst 5</th>\n",
       "      <td>506.93</td>\n",
       "    </tr>\n",
       "  </tbody>\n",
       "</table>\n",
       "</div>"
      ],
      "text/plain": [
       "                                 spy\n",
       "Never Lose                  1,291.28\n",
       "Miss best ten                 714.08\n",
       "Invest worst 10               570.21\n",
       "Miss best 5, invest worst 5   506.93"
      ]
     },
     "execution_count": 95,
     "metadata": {},
     "output_type": "execute_result"
    }
   ],
   "source": [
    "bh_oracle_angry(spy_weekly)"
   ]
  },
  {
   "cell_type": "code",
   "execution_count": 96,
   "id": "60e2e7bb-2960-44c2-987d-f4f143c61aa4",
   "metadata": {
    "tags": []
   },
   "outputs": [
    {
     "data": {
      "text/html": [
       "<div>\n",
       "<style scoped>\n",
       "    .dataframe tbody tr th:only-of-type {\n",
       "        vertical-align: middle;\n",
       "    }\n",
       "\n",
       "    .dataframe tbody tr th {\n",
       "        vertical-align: top;\n",
       "    }\n",
       "\n",
       "    .dataframe thead th {\n",
       "        text-align: right;\n",
       "    }\n",
       "</style>\n",
       "<table border=\"1\" class=\"dataframe\">\n",
       "  <thead>\n",
       "    <tr style=\"text-align: right;\">\n",
       "      <th></th>\n",
       "      <th>GameStop</th>\n",
       "    </tr>\n",
       "  </thead>\n",
       "  <tbody>\n",
       "    <tr>\n",
       "      <th>B&amp;H</th>\n",
       "      <td>205.92</td>\n",
       "    </tr>\n",
       "    <tr>\n",
       "      <th>p = 0.0</th>\n",
       "      <td>15.95</td>\n",
       "    </tr>\n",
       "    <tr>\n",
       "      <th>p = 0.1</th>\n",
       "      <td>24.38</td>\n",
       "    </tr>\n",
       "    <tr>\n",
       "      <th>p = 0.2</th>\n",
       "      <td>35.36</td>\n",
       "    </tr>\n",
       "    <tr>\n",
       "      <th>p = 0.3</th>\n",
       "      <td>67.52</td>\n",
       "    </tr>\n",
       "    <tr>\n",
       "      <th>p = 0.4</th>\n",
       "      <td>96.82</td>\n",
       "    </tr>\n",
       "    <tr>\n",
       "      <th>p = 0.5</th>\n",
       "      <td>163.78</td>\n",
       "    </tr>\n",
       "    <tr>\n",
       "      <th>p = 0.6</th>\n",
       "      <td>208.03</td>\n",
       "    </tr>\n",
       "    <tr>\n",
       "      <th>p = 0.7</th>\n",
       "      <td>299.29</td>\n",
       "    </tr>\n",
       "    <tr>\n",
       "      <th>p = 0.8</th>\n",
       "      <td>499.29</td>\n",
       "    </tr>\n",
       "    <tr>\n",
       "      <th>p = 0.9</th>\n",
       "      <td>774.80</td>\n",
       "    </tr>\n",
       "    <tr>\n",
       "      <th>p = 1.0</th>\n",
       "      <td>1,291.28</td>\n",
       "    </tr>\n",
       "  </tbody>\n",
       "</table>\n",
       "</div>"
      ],
      "text/plain": [
       "        GameStop\n",
       "B&H       205.92\n",
       "p = 0.0    15.95\n",
       "p = 0.1    24.38\n",
       "p = 0.2    35.36\n",
       "p = 0.3    67.52\n",
       "p = 0.4    96.82\n",
       "p = 0.5   163.78\n",
       "p = 0.6   208.03\n",
       "p = 0.7   299.29\n",
       "p = 0.8   499.29\n",
       "p = 0.9   774.80\n",
       "p = 1.0 1,291.28"
      ]
     },
     "execution_count": 96,
     "metadata": {},
     "output_type": "execute_result"
    }
   ],
   "source": [
    "oracle_stats(spy_weekly)"
   ]
  },
  {
   "cell_type": "code",
   "execution_count": 97,
   "id": "bdf759d0-dc98-40ff-ae77-4aa687a27abc",
   "metadata": {
    "tags": []
   },
   "outputs": [
    {
     "data": {
      "text/html": [
       "<div>\n",
       "<style scoped>\n",
       "    .dataframe tbody tr th:only-of-type {\n",
       "        vertical-align: middle;\n",
       "    }\n",
       "\n",
       "    .dataframe tbody tr th {\n",
       "        vertical-align: top;\n",
       "    }\n",
       "\n",
       "    .dataframe thead th {\n",
       "        text-align: right;\n",
       "    }\n",
       "</style>\n",
       "<table border=\"1\" class=\"dataframe\">\n",
       "  <thead>\n",
       "    <tr style=\"text-align: right;\">\n",
       "      <th></th>\n",
       "      <th>Year</th>\n",
       "      <th>Week_Number</th>\n",
       "      <th>mean_return</th>\n",
       "      <th>volatility</th>\n",
       "    </tr>\n",
       "  </thead>\n",
       "  <tbody>\n",
       "    <tr>\n",
       "      <th>0</th>\n",
       "      <td>2017</td>\n",
       "      <td>1</td>\n",
       "      <td>0.22</td>\n",
       "      <td>0.31</td>\n",
       "    </tr>\n",
       "    <tr>\n",
       "      <th>1</th>\n",
       "      <td>2017</td>\n",
       "      <td>2</td>\n",
       "      <td>-0.01</td>\n",
       "      <td>0.28</td>\n",
       "    </tr>\n",
       "    <tr>\n",
       "      <th>2</th>\n",
       "      <td>2017</td>\n",
       "      <td>3</td>\n",
       "      <td>-0.03</td>\n",
       "      <td>0.38</td>\n",
       "    </tr>\n",
       "    <tr>\n",
       "      <th>3</th>\n",
       "      <td>2017</td>\n",
       "      <td>4</td>\n",
       "      <td>0.20</td>\n",
       "      <td>0.52</td>\n",
       "    </tr>\n",
       "    <tr>\n",
       "      <th>4</th>\n",
       "      <td>2017</td>\n",
       "      <td>5</td>\n",
       "      <td>0.03</td>\n",
       "      <td>0.46</td>\n",
       "    </tr>\n",
       "    <tr>\n",
       "      <th>...</th>\n",
       "      <td>...</td>\n",
       "      <td>...</td>\n",
       "      <td>...</td>\n",
       "      <td>...</td>\n",
       "    </tr>\n",
       "    <tr>\n",
       "      <th>258</th>\n",
       "      <td>2021</td>\n",
       "      <td>48</td>\n",
       "      <td>-0.23</td>\n",
       "      <td>1.53</td>\n",
       "    </tr>\n",
       "    <tr>\n",
       "      <th>259</th>\n",
       "      <td>2021</td>\n",
       "      <td>49</td>\n",
       "      <td>0.76</td>\n",
       "      <td>1.03</td>\n",
       "    </tr>\n",
       "    <tr>\n",
       "      <th>260</th>\n",
       "      <td>2021</td>\n",
       "      <td>50</td>\n",
       "      <td>-0.39</td>\n",
       "      <td>1.10</td>\n",
       "    </tr>\n",
       "    <tr>\n",
       "      <th>261</th>\n",
       "      <td>2021</td>\n",
       "      <td>51</td>\n",
       "      <td>0.58</td>\n",
       "      <td>1.20</td>\n",
       "    </tr>\n",
       "    <tr>\n",
       "      <th>262</th>\n",
       "      <td>2021</td>\n",
       "      <td>52</td>\n",
       "      <td>0.30</td>\n",
       "      <td>0.76</td>\n",
       "    </tr>\n",
       "  </tbody>\n",
       "</table>\n",
       "<p>263 rows × 4 columns</p>\n",
       "</div>"
      ],
      "text/plain": [
       "     Year  Week_Number  mean_return  volatility\n",
       "0    2017            1         0.22        0.31\n",
       "1    2017            2        -0.01        0.28\n",
       "2    2017            3        -0.03        0.38\n",
       "3    2017            4         0.20        0.52\n",
       "4    2017            5         0.03        0.46\n",
       "..    ...          ...          ...         ...\n",
       "258  2021           48        -0.23        1.53\n",
       "259  2021           49         0.76        1.03\n",
       "260  2021           50        -0.39        1.10\n",
       "261  2021           51         0.58        1.20\n",
       "262  2021           52         0.30        0.76\n",
       "\n",
       "[263 rows x 4 columns]"
      ]
     },
     "execution_count": 97,
     "metadata": {},
     "output_type": "execute_result"
    }
   ],
   "source": [
    "spy_weekly_return"
   ]
  },
  {
   "cell_type": "code",
   "execution_count": 98,
   "id": "ee2b41b6-aa44-47c1-a8e0-a68e91bcbc23",
   "metadata": {},
   "outputs": [],
   "source": [
    "def red_green(mus,sigmas,a,b):\n",
    "    '''take return,vol df and assign labels based on line coeffs'''\n",
    "    labels = []\n",
    "    for mu, sigma in zip(mus,sigmas):\n",
    "        if sigma>=(a + b*mu):\n",
    "            labels.append('Red')\n",
    "        else:\n",
    "            labels.append('Green')\n",
    "    return labels"
   ]
  },
  {
   "cell_type": "code",
   "execution_count": 99,
   "id": "c34f196e-2761-4354-8326-7fc238d2ef6a",
   "metadata": {
    "tags": []
   },
   "outputs": [],
   "source": [
    "r_g_labels = red_green(spy_weekly_return.mean_return,spy_weekly_return.volatility,0,25)"
   ]
  },
  {
   "cell_type": "code",
   "execution_count": 100,
   "id": "f5aa9cdd-900d-43d7-aeba-7be5f6427b34",
   "metadata": {
    "tags": []
   },
   "outputs": [],
   "source": [
    "returns = trade_from_close_close(spy_wn_labs,this_wk_last_wk).Return.values\n",
    "trade_green = 100*np.cumprod(np.where(np.array(r_g_labels)==['Green']*len(r_g_labels),returns,1))"
   ]
  },
  {
   "cell_type": "code",
   "execution_count": 101,
   "id": "4762637c-99b3-40ae-a1dc-04dfadc47e65",
   "metadata": {
    "tags": []
   },
   "outputs": [
    {
     "data": {
      "text/plain": [
       "1153.2805652999568"
      ]
     },
     "execution_count": 101,
     "metadata": {},
     "output_type": "execute_result"
    }
   ],
   "source": [
    "trade_green[-1]"
   ]
  },
  {
   "cell_type": "code",
   "execution_count": 102,
   "id": "378561b5-e000-4c12-ab9c-06f166beb734",
   "metadata": {
    "tags": []
   },
   "outputs": [],
   "source": [
    "bh = buy_and_hold(spy)"
   ]
  },
  {
   "cell_type": "code",
   "execution_count": null,
   "id": "07365224-ce1e-4ebc-9e8f-bb624d8cb692",
   "metadata": {},
   "outputs": [],
   "source": []
  },
  {
   "cell_type": "code",
   "execution_count": 103,
   "id": "686941af-616d-4e00-af9f-850b5fd87b6d",
   "metadata": {
    "tags": []
   },
   "outputs": [],
   "source": [
    "cum_return = bh_oracle_angry(spy_weekly)"
   ]
  },
  {
   "cell_type": "code",
   "execution_count": 104,
   "id": "cfe5efab-a382-4616-b20b-f9a9c6545e36",
   "metadata": {
    "tags": []
   },
   "outputs": [],
   "source": [
    "cum_return['spy']['Trade Green'] = cum_return"
   ]
  },
  {
   "cell_type": "code",
   "execution_count": 105,
   "id": "196310f2-f711-41bd-9cf9-5dbb909c63b4",
   "metadata": {
    "tags": []
   },
   "outputs": [],
   "source": [
    "cum_return.loc['Trade Green'] = trade_green[-1]\n",
    "cum_return.loc['B&H'] = bh\n"
   ]
  },
  {
   "cell_type": "code",
   "execution_count": 106,
   "id": "b52a92ed-6216-48ee-b460-82743c56d8af",
   "metadata": {
    "tags": []
   },
   "outputs": [
    {
     "data": {
      "text/html": [
       "<div>\n",
       "<style scoped>\n",
       "    .dataframe tbody tr th:only-of-type {\n",
       "        vertical-align: middle;\n",
       "    }\n",
       "\n",
       "    .dataframe tbody tr th {\n",
       "        vertical-align: top;\n",
       "    }\n",
       "\n",
       "    .dataframe thead th {\n",
       "        text-align: right;\n",
       "    }\n",
       "</style>\n",
       "<table border=\"1\" class=\"dataframe\">\n",
       "  <thead>\n",
       "    <tr style=\"text-align: right;\">\n",
       "      <th></th>\n",
       "      <th>spy</th>\n",
       "    </tr>\n",
       "  </thead>\n",
       "  <tbody>\n",
       "    <tr>\n",
       "      <th>Never Lose</th>\n",
       "      <td>1,291.28</td>\n",
       "    </tr>\n",
       "    <tr>\n",
       "      <th>Miss best ten</th>\n",
       "      <td>714.08</td>\n",
       "    </tr>\n",
       "    <tr>\n",
       "      <th>Invest worst 10</th>\n",
       "      <td>570.21</td>\n",
       "    </tr>\n",
       "    <tr>\n",
       "      <th>Miss best 5, invest worst 5</th>\n",
       "      <td>506.93</td>\n",
       "    </tr>\n",
       "    <tr>\n",
       "      <th>Trade Green</th>\n",
       "      <td>1,153.28</td>\n",
       "    </tr>\n",
       "    <tr>\n",
       "      <th>B&amp;H</th>\n",
       "      <td>205.92</td>\n",
       "    </tr>\n",
       "  </tbody>\n",
       "</table>\n",
       "</div>"
      ],
      "text/plain": [
       "                                 spy\n",
       "Never Lose                  1,291.28\n",
       "Miss best ten                 714.08\n",
       "Invest worst 10               570.21\n",
       "Miss best 5, invest worst 5   506.93\n",
       "Trade Green                 1,153.28\n",
       "B&H                           205.92"
      ]
     },
     "execution_count": 106,
     "metadata": {},
     "output_type": "execute_result"
    }
   ],
   "source": [
    "cum_return"
   ]
  },
  {
   "cell_type": "code",
   "execution_count": null,
   "id": "d78ea326-67d0-4c11-a4b7-5d1e680bb804",
   "metadata": {},
   "outputs": [],
   "source": []
  },
  {
   "cell_type": "code",
   "execution_count": 107,
   "id": "115f84a8-5967-43ce-9a62-1527cdfc1970",
   "metadata": {},
   "outputs": [
    {
     "data": {
      "text/html": [
       "<div>\n",
       "<style scoped>\n",
       "    .dataframe tbody tr th:only-of-type {\n",
       "        vertical-align: middle;\n",
       "    }\n",
       "\n",
       "    .dataframe tbody tr th {\n",
       "        vertical-align: top;\n",
       "    }\n",
       "\n",
       "    .dataframe thead th {\n",
       "        text-align: right;\n",
       "    }\n",
       "</style>\n",
       "<table border=\"1\" class=\"dataframe\">\n",
       "  <thead>\n",
       "    <tr style=\"text-align: right;\">\n",
       "      <th></th>\n",
       "      <th>spy</th>\n",
       "    </tr>\n",
       "  </thead>\n",
       "  <tbody>\n",
       "    <tr>\n",
       "      <th>Never Lose</th>\n",
       "      <td>1,291.28</td>\n",
       "    </tr>\n",
       "    <tr>\n",
       "      <th>Miss best ten</th>\n",
       "      <td>714.08</td>\n",
       "    </tr>\n",
       "    <tr>\n",
       "      <th>Invest worst 10</th>\n",
       "      <td>570.21</td>\n",
       "    </tr>\n",
       "    <tr>\n",
       "      <th>Miss best 5, invest worst 5</th>\n",
       "      <td>506.93</td>\n",
       "    </tr>\n",
       "  </tbody>\n",
       "</table>\n",
       "</div>"
      ],
      "text/plain": [
       "                                 spy\n",
       "Never Lose                  1,291.28\n",
       "Miss best ten                 714.08\n",
       "Invest worst 10               570.21\n",
       "Miss best 5, invest worst 5   506.93"
      ]
     },
     "execution_count": 107,
     "metadata": {},
     "output_type": "execute_result"
    }
   ],
   "source": [
    "pd.concat([bh_oracle_angry(spy_weekly)])"
   ]
  },
  {
   "cell_type": "code",
   "execution_count": 108,
   "id": "e8a9b926-6161-4bc5-a0cf-e4363100a02b",
   "metadata": {
    "tags": []
   },
   "outputs": [
    {
     "data": {
      "text/html": [
       "<div>\n",
       "<style scoped>\n",
       "    .dataframe tbody tr th:only-of-type {\n",
       "        vertical-align: middle;\n",
       "    }\n",
       "\n",
       "    .dataframe tbody tr th {\n",
       "        vertical-align: top;\n",
       "    }\n",
       "\n",
       "    .dataframe thead th {\n",
       "        text-align: right;\n",
       "    }\n",
       "</style>\n",
       "<table border=\"1\" class=\"dataframe\">\n",
       "  <thead>\n",
       "    <tr style=\"text-align: right;\">\n",
       "      <th></th>\n",
       "      <th>Year</th>\n",
       "      <th>Year_Week</th>\n",
       "      <th>Week_Number</th>\n",
       "      <th>Day</th>\n",
       "      <th>Weekday</th>\n",
       "      <th>Open</th>\n",
       "      <th>Adj Close</th>\n",
       "      <th>Return</th>\n",
       "      <th>Month</th>\n",
       "      <th>WoM</th>\n",
       "    </tr>\n",
       "  </thead>\n",
       "  <tbody>\n",
       "    <tr>\n",
       "      <th>0</th>\n",
       "      <td>2017</td>\n",
       "      <td>2017-01</td>\n",
       "      <td>1</td>\n",
       "      <td>3</td>\n",
       "      <td>Tuesday</td>\n",
       "      <td>225.04</td>\n",
       "      <td>200.63</td>\n",
       "      <td>0.00</td>\n",
       "      <td>1</td>\n",
       "      <td>0</td>\n",
       "    </tr>\n",
       "    <tr>\n",
       "      <th>1</th>\n",
       "      <td>2017</td>\n",
       "      <td>2017-01</td>\n",
       "      <td>1</td>\n",
       "      <td>4</td>\n",
       "      <td>Wednesday</td>\n",
       "      <td>225.62</td>\n",
       "      <td>201.82</td>\n",
       "      <td>0.01</td>\n",
       "      <td>1</td>\n",
       "      <td>0</td>\n",
       "    </tr>\n",
       "    <tr>\n",
       "      <th>2</th>\n",
       "      <td>2017</td>\n",
       "      <td>2017-01</td>\n",
       "      <td>1</td>\n",
       "      <td>5</td>\n",
       "      <td>Thursday</td>\n",
       "      <td>226.27</td>\n",
       "      <td>201.66</td>\n",
       "      <td>-0.00</td>\n",
       "      <td>1</td>\n",
       "      <td>0</td>\n",
       "    </tr>\n",
       "    <tr>\n",
       "      <th>3</th>\n",
       "      <td>2017</td>\n",
       "      <td>2017-01</td>\n",
       "      <td>1</td>\n",
       "      <td>6</td>\n",
       "      <td>Friday</td>\n",
       "      <td>226.53</td>\n",
       "      <td>202.38</td>\n",
       "      <td>0.00</td>\n",
       "      <td>1</td>\n",
       "      <td>0</td>\n",
       "    </tr>\n",
       "    <tr>\n",
       "      <th>4</th>\n",
       "      <td>2017</td>\n",
       "      <td>2017-02</td>\n",
       "      <td>2</td>\n",
       "      <td>9</td>\n",
       "      <td>Monday</td>\n",
       "      <td>226.91</td>\n",
       "      <td>201.72</td>\n",
       "      <td>-0.00</td>\n",
       "      <td>1</td>\n",
       "      <td>0</td>\n",
       "    </tr>\n",
       "    <tr>\n",
       "      <th>...</th>\n",
       "      <td>...</td>\n",
       "      <td>...</td>\n",
       "      <td>...</td>\n",
       "      <td>...</td>\n",
       "      <td>...</td>\n",
       "      <td>...</td>\n",
       "      <td>...</td>\n",
       "      <td>...</td>\n",
       "      <td>...</td>\n",
       "      <td>...</td>\n",
       "    </tr>\n",
       "    <tr>\n",
       "      <th>1253</th>\n",
       "      <td>2021</td>\n",
       "      <td>2021-51</td>\n",
       "      <td>51</td>\n",
       "      <td>23</td>\n",
       "      <td>Thursday</td>\n",
       "      <td>468.75</td>\n",
       "      <td>458.00</td>\n",
       "      <td>0.01</td>\n",
       "      <td>12</td>\n",
       "      <td>0</td>\n",
       "    </tr>\n",
       "    <tr>\n",
       "      <th>1254</th>\n",
       "      <td>2021</td>\n",
       "      <td>2021-52</td>\n",
       "      <td>52</td>\n",
       "      <td>27</td>\n",
       "      <td>Monday</td>\n",
       "      <td>472.06</td>\n",
       "      <td>464.49</td>\n",
       "      <td>0.01</td>\n",
       "      <td>12</td>\n",
       "      <td>0</td>\n",
       "    </tr>\n",
       "    <tr>\n",
       "      <th>1255</th>\n",
       "      <td>2021</td>\n",
       "      <td>2021-52</td>\n",
       "      <td>52</td>\n",
       "      <td>28</td>\n",
       "      <td>Tuesday</td>\n",
       "      <td>477.72</td>\n",
       "      <td>464.11</td>\n",
       "      <td>-0.00</td>\n",
       "      <td>12</td>\n",
       "      <td>0</td>\n",
       "    </tr>\n",
       "    <tr>\n",
       "      <th>1256</th>\n",
       "      <td>2021</td>\n",
       "      <td>2021-52</td>\n",
       "      <td>52</td>\n",
       "      <td>29</td>\n",
       "      <td>Wednesday</td>\n",
       "      <td>476.98</td>\n",
       "      <td>464.70</td>\n",
       "      <td>0.00</td>\n",
       "      <td>12</td>\n",
       "      <td>0</td>\n",
       "    </tr>\n",
       "    <tr>\n",
       "      <th>1257</th>\n",
       "      <td>2021</td>\n",
       "      <td>2021-52</td>\n",
       "      <td>52</td>\n",
       "      <td>30</td>\n",
       "      <td>Thursday</td>\n",
       "      <td>477.93</td>\n",
       "      <td>463.41</td>\n",
       "      <td>-0.00</td>\n",
       "      <td>12</td>\n",
       "      <td>0</td>\n",
       "    </tr>\n",
       "  </tbody>\n",
       "</table>\n",
       "<p>1258 rows × 10 columns</p>\n",
       "</div>"
      ],
      "text/plain": [
       "      Year Year_Week  Week_Number  Day    Weekday   Open  Adj Close  Return  \\\n",
       "0     2017   2017-01            1    3    Tuesday 225.04     200.63    0.00   \n",
       "1     2017   2017-01            1    4  Wednesday 225.62     201.82    0.01   \n",
       "2     2017   2017-01            1    5   Thursday 226.27     201.66   -0.00   \n",
       "3     2017   2017-01            1    6     Friday 226.53     202.38    0.00   \n",
       "4     2017   2017-02            2    9     Monday 226.91     201.72   -0.00   \n",
       "...    ...       ...          ...  ...        ...    ...        ...     ...   \n",
       "1253  2021   2021-51           51   23   Thursday 468.75     458.00    0.01   \n",
       "1254  2021   2021-52           52   27     Monday 472.06     464.49    0.01   \n",
       "1255  2021   2021-52           52   28    Tuesday 477.72     464.11   -0.00   \n",
       "1256  2021   2021-52           52   29  Wednesday 476.98     464.70    0.00   \n",
       "1257  2021   2021-52           52   30   Thursday 477.93     463.41   -0.00   \n",
       "\n",
       "      Month  WoM  \n",
       "0         1    0  \n",
       "1         1    0  \n",
       "2         1    0  \n",
       "3         1    0  \n",
       "4         1    0  \n",
       "...     ...  ...  \n",
       "1253     12    0  \n",
       "1254     12    0  \n",
       "1255     12    0  \n",
       "1256     12    0  \n",
       "1257     12    0  \n",
       "\n",
       "[1258 rows x 10 columns]"
      ]
     },
     "execution_count": 108,
     "metadata": {},
     "output_type": "execute_result"
    }
   ],
   "source": [
    "spy_wn_labs"
   ]
  },
  {
   "cell_type": "code",
   "execution_count": 109,
   "id": "fbf1fe90-1b98-4a8a-a270-8cb026190d43",
   "metadata": {
    "tags": []
   },
   "outputs": [],
   "source": [
    "def oracle_stats(weekly_returns):\n",
    "    rng = np.random.default_rng(12345)\n",
    "    rn = rng.random(weekly_returns.shape[0])\n",
    "    ps = np.round(np.linspace(0,1,11),1)\n",
    "    stats_df = pd.DataFrame(index = \n",
    "        ['B&H']+[f'p = {p}' for p in ps], \n",
    "        columns = ['GameStop'])\n",
    "    ps = np.round(np.linspace(0,1,11),1)\n",
    "    stats_df.loc[f'B&H','GameStop'] = buy_and_hold_v2(weekly_returns)\n",
    "    for p in ps:\n",
    "        end_value = bh_oracle(weekly_returns,p)\n",
    "        stats_df.loc[f'p = {np.round(p,1)}','GameStop'] = end_value\n",
    "    return stats_df"
   ]
  },
  {
   "cell_type": "code",
   "execution_count": 110,
   "id": "be3aa46c-9564-4091-807f-d94c21aa04b7",
   "metadata": {},
   "outputs": [],
   "source": [
    "def bh_oracle(weekly_returns, p):\n",
    "    \n",
    "    rng = np.random.default_rng(12345)\n",
    "    rn = rng.random(weekly_returns.shape[0])\n",
    "    wr = weekly_returns.Return.values\n",
    "    pos = wr >= 1\n",
    "    neg = np.logical_not(pos)\n",
    "    t = rn < p\n",
    "    f = np.logical_not(t)\n",
    "    t_p = np.bitwise_and(t, pos)\n",
    "    t_n = np.bitwise_and(t, neg)\n",
    "    f_p = np.bitwise_and(f, pos)\n",
    "    f_n = np.bitwise_and(f, neg)\n",
    "    \n",
    "    # collect cumulative returns for each category.\n",
    "    # code not included in calculations included in comments for completeness\n",
    "    # cumulative positive returns where oracle is telling truth\n",
    "    t_p_return = np.cumprod(np.where(t_p, wr, 1))[-1]\n",
    "    # no impact on returns from bad weeks when oracle tells truth\n",
    "    # t_n_return = np.cumprod(np.where(t_n, 1, 1)) \n",
    "    # no benefit from positive returns when oracle lies\n",
    "    # f_p_return = np.cumprod(np.where(f_p,1,1))\n",
    "    # cumulative negative returns when oracle lies\n",
    "    f_n_return = np.cumprod(np.where(f_n,wr,1))[-1]\n",
    "    \n",
    "    return np.round(100*t_p_return*f_n_return,2)"
   ]
  },
  {
   "cell_type": "code",
   "execution_count": 111,
   "id": "fd850da4-7380-42e3-8b48-232ba3ca2821",
   "metadata": {
    "tags": []
   },
   "outputs": [],
   "source": [
    "from scipy.optimize import minimize_scalar"
   ]
  },
  {
   "cell_type": "code",
   "execution_count": 112,
   "id": "2ba89729-245a-4156-8429-8c0a791bb43e",
   "metadata": {
    "tags": []
   },
   "outputs": [
    {
     "ename": "NameError",
     "evalue": "name 'g' is not defined",
     "output_type": "error",
     "traceback": [
      "\u001b[0;31m---------------------------------------------------------------------------\u001b[0m",
      "\u001b[0;31mNameError\u001b[0m                                 Traceback (most recent call last)",
      "Cell \u001b[0;32mIn[112], line 1\u001b[0m\n\u001b[0;32m----> 1\u001b[0m \u001b[43mg\u001b[49m\n",
      "\u001b[0;31mNameError\u001b[0m: name 'g' is not defined"
     ]
    }
   ],
   "source": [
    "g"
   ]
  },
  {
   "cell_type": "code",
   "execution_count": null,
   "id": "c121c3b5-1486-4e3f-a646-194c70b69c50",
   "metadata": {
    "tags": []
   },
   "outputs": [],
   "source": [
    "bh_oracle(spy_wn_labs,.1)"
   ]
  },
  {
   "cell_type": "code",
   "execution_count": null,
   "id": "557b48d3-5291-4480-960d-5c7bc94c1cd7",
   "metadata": {
    "tags": []
   },
   "outputs": [],
   "source": [
    "def find_p(p):\n",
    "    return np.absolute(bh_oracle(spy_wn_labs,p)-cum_return.loc['Miss best ten','spy'])"
   ]
  },
  {
   "cell_type": "code",
   "execution_count": null,
   "id": "f52de78b-6463-4301-9eb8-9faf5cce285f",
   "metadata": {
    "tags": []
   },
   "outputs": [],
   "source": [
    "minimize_scalar(find_p)"
   ]
  },
  {
   "cell_type": "code",
   "execution_count": null,
   "id": "a326c7ce-f977-4415-8738-7122f6845bde",
   "metadata": {},
   "outputs": [],
   "source": [
    "bh_oracle(spy_wn_labs)"
   ]
  },
  {
   "cell_type": "code",
   "execution_count": null,
   "id": "4d2702a4-7b09-4cc5-83fb-273575a869d9",
   "metadata": {},
   "outputs": [],
   "source": [
    "bh_oracle()"
   ]
  },
  {
   "cell_type": "code",
   "execution_count": null,
   "id": "2115f1b3-f768-4a71-91ec-1f5c42bfb7b2",
   "metadata": {
    "tags": []
   },
   "outputs": [],
   "source": [
    "trade_green[-1]"
   ]
  },
  {
   "cell_type": "code",
   "execution_count": null,
   "id": "6e02206d-b51a-4e5f-b615-790f7e2f8b0a",
   "metadata": {},
   "outputs": [],
   "source": []
  },
  {
   "cell_type": "code",
   "execution_count": null,
   "id": "23996a2d-4ca5-459d-a9d8-fabf37c66cf2",
   "metadata": {},
   "outputs": [],
   "source": []
  },
  {
   "cell_type": "code",
   "execution_count": null,
   "id": "31e02aff-35ba-4023-85a4-0086b5454f2c",
   "metadata": {},
   "outputs": [],
   "source": []
  }
 ],
 "metadata": {
  "kernelspec": {
   "display_name": "Python 3 (ipykernel)",
   "language": "python",
   "name": "python3"
  },
  "language_info": {
   "codemirror_mode": {
    "name": "ipython",
    "version": 3
   },
   "file_extension": ".py",
   "mimetype": "text/x-python",
   "name": "python",
   "nbconvert_exporter": "python",
   "pygments_lexer": "ipython3",
   "version": "3.9.18"
  }
 },
 "nbformat": 4,
 "nbformat_minor": 5
}
