{
 "cells": [
  {
   "cell_type": "code",
   "execution_count": 1,
   "id": "d005559e-6a05-4f0c-a542-75c571893508",
   "metadata": {
    "tags": []
   },
   "outputs": [],
   "source": [
    "import pandas as pd\n",
    "import numpy as np\n",
    "from sklearn.preprocessing import StandardScaler, LabelEncoder\n",
    "from sklearn.model_selection import train_test_split\n",
    "from sklearn.neighbors import KNeighborsClassifier\n",
    "import matplotlib.pyplot as plt\n",
    "import seaborn as sns\n",
    "from sklearn.metrics import confusion_matrix\n",
    "import functions\n",
    "from sklearn.neighbors import NearestNeighbors\n",
    "from scipy.stats import mode"
   ]
  },
  {
   "cell_type": "code",
   "execution_count": 2,
   "id": "08b96715-ca4d-4f30-bd7c-c48736c39cba",
   "metadata": {
    "tags": []
   },
   "outputs": [],
   "source": [
    "from function_wrappers import *"
   ]
  },
  {
   "cell_type": "code",
   "execution_count": 3,
   "id": "2f4b14ec-3c32-49b5-a38a-bfd974f0c8c0",
   "metadata": {
    "tags": []
   },
   "outputs": [
    {
     "data": {
      "text/plain": [
       "0.45"
      ]
     },
     "execution_count": 3,
     "metadata": {},
     "output_type": "execute_result"
    }
   ],
   "source": [
    "functions.tnr(np.array([[9,11],[45,12]]))"
   ]
  },
  {
   "cell_type": "code",
   "execution_count": 4,
   "id": "3bbada94-2fd4-4e3f-986b-55bf90d0ef0e",
   "metadata": {
    "tags": []
   },
   "outputs": [],
   "source": [
    "gme = pd.read_csv('./gme.csv')\n",
    "gme_r_v = pd.read_csv('./gme_weekly_return_volatility.csv')\n",
    "gme_r_v = gme_r_v[[True if y in [2020,2021] else False for y in \n",
    "                   gme_r_v.Year.values]]"
   ]
  },
  {
   "cell_type": "code",
   "execution_count": 5,
   "id": "93238da2-f9ff-426f-9774-fdb378367dda",
   "metadata": {
    "tags": []
   },
   "outputs": [],
   "source": [
    "gme_wr_v = pd.read_csv('./gme_weekly_return_volatility.csv')\n",
    "gme_wr_v = gme_wr_v[np.isin(gme_wr_v.Year.values,[2020,2021])]\n",
    "gme_wr_v['Labels'] = pd.read_csv('./gme_labels.csv', header=None)[0].values"
   ]
  },
  {
   "cell_type": "markdown",
   "id": "c53032fa-bbe9-4b0e-9946-cbb300dbdc13",
   "metadata": {
    "tags": []
   },
   "source": [
    "##### Q1 "
   ]
  },
  {
   "cell_type": "code",
   "execution_count": 6,
   "id": "51557b97-c01c-4d0d-b781-700e1f710f1b",
   "metadata": {
    "tags": []
   },
   "outputs": [],
   "source": [
    "# staggered dictionary\n",
    "this_wk_last_wk = dict(zip(gme.Year_Week.unique()[1:], \n",
    "                           gme.Year_Week.unique()[:-1]))"
   ]
  },
  {
   "cell_type": "code",
   "execution_count": 7,
   "id": "df0ecb9b-feba-40ae-a109-7a8f9757fb10",
   "metadata": {
    "tags": []
   },
   "outputs": [],
   "source": [
    "scaler = StandardScaler()\n",
    "le = LabelEncoder()"
   ]
  },
  {
   "cell_type": "code",
   "execution_count": 8,
   "id": "4feeebca-e3e7-4847-bd07-b21d4bfc0d4a",
   "metadata": {
    "tags": []
   },
   "outputs": [],
   "source": [
    "X = gme_wr_v[['mean_return','volatility']].values\n",
    "y = gme_wr_v[['Labels']].values\n",
    "\n",
    "y = 1 - le.fit_transform(np.ravel(y))\n",
    "X_tr = X[gme_wr_v.Year == 2020]\n",
    "y_tr = y[gme_wr_v.Year == 2020]\n",
    "X_te = X[gme_wr_v.Year == 2021]\n",
    "y_te = y[gme_wr_v.Year == 2021]\n",
    "scaler.fit(X_tr)\n",
    "X_tr = scaler.transform(X_tr)\n",
    "X_te = scaler.transform(X_te)"
   ]
  },
  {
   "cell_type": "markdown",
   "id": "54f1ff08-1b32-42fa-89da-9f1264dab9ef",
   "metadata": {
    "tags": []
   },
   "source": [
    "###### l2 distance"
   ]
  },
  {
   "cell_type": "markdown",
   "id": "9be83f04-7652-4ad8-9de6-9a811fd213c9",
   "metadata": {},
   "source": [
    "For comparison with L1 / Manhattan"
   ]
  },
  {
   "cell_type": "code",
   "execution_count": 9,
   "id": "2196dfd5-3633-40d8-a71f-7737cfd8e5b2",
   "metadata": {
    "tags": []
   },
   "outputs": [],
   "source": [
    "X = gme_wr_v\n",
    "X_train = scaler.transform(X_tr)\n",
    "accuracies={}\n",
    "for k in range(3,12,2):\n",
    "    knn = KNeighborsClassifier(n_neighbors=k)\n",
    "    knn.fit(X_tr,y_tr)\n",
    "    predictions = knn.predict(X_tr)\n",
    "    accuracies[k] = np.round(knn.score(X_tr,y_tr),3)"
   ]
  },
  {
   "cell_type": "code",
   "execution_count": 10,
   "id": "d81c19c2-9ad5-4992-94c1-4898f15d273e",
   "metadata": {
    "tags": []
   },
   "outputs": [
    {
     "data": {
      "text/plain": [
       "{3: 0.925, 5: 0.925, 7: 0.906, 9: 0.868, 11: 0.83}"
      ]
     },
     "execution_count": 10,
     "metadata": {},
     "output_type": "execute_result"
    }
   ],
   "source": [
    "accuracies"
   ]
  },
  {
   "cell_type": "code",
   "execution_count": 11,
   "id": "7122dbc6-3f0c-464d-b4a5-cd768b39ace5",
   "metadata": {
    "tags": []
   },
   "outputs": [
    {
     "data": {
      "text/plain": [
       "[Text(0.5, 1.0, 'Accuracies by K Hyper-Parameter}'),\n",
       " Text(0.5, 0, 'K Value'),\n",
       " Text(0, 0.5, 'Accuracy')]"
      ]
     },
     "execution_count": 11,
     "metadata": {},
     "output_type": "execute_result"
    },
    {
     "data": {
      "image/png": "[encoded data removed]",
      "text/plain": [
       "<Figure size 640x480 with 1 Axes>"
      ]
     },
     "metadata": {},
     "output_type": "display_data"
    }
   ],
   "source": [
    "p = sns.lineplot(x = range(3,12,2), y = [accuracies[k] for k in range(3,12,2)])\n",
    "p.set(title='Accuracies by K Hyper-Parameter}',xlabel='K Value', ylabel='Accuracy')"
   ]
  },
  {
   "cell_type": "markdown",
   "id": "378c6ec6-a159-4353-bc4d-1be40f187d8b",
   "metadata": {},
   "source": [
    "K values of 3 and 5 give the same accuracy of .925"
   ]
  },
  {
   "cell_type": "code",
   "execution_count": 12,
   "id": "99f00834-c681-4aac-95df-8461ea8a3aaf",
   "metadata": {
    "tags": []
   },
   "outputs": [
    {
     "data": {
      "text/plain": [
       "0.885"
      ]
     },
     "execution_count": 12,
     "metadata": {},
     "output_type": "execute_result"
    }
   ],
   "source": [
    "knn = KNeighborsClassifier(n_neighbors=3,p=2)\n",
    "knn.fit(X_tr,y_tr)\n",
    "predictions = knn.predict(X_te)\n",
    "np.round(knn.score(X_te,y_te),3)"
   ]
  },
  {
   "cell_type": "code",
   "execution_count": 13,
   "id": "c1dd3d73-f21a-4eed-ab5d-68ac695f1bfb",
   "metadata": {
    "tags": []
   },
   "outputs": [
    {
     "data": {
      "text/plain": [
       "array([[29,  5],\n",
       "       [ 1, 17]])"
      ]
     },
     "execution_count": 13,
     "metadata": {},
     "output_type": "execute_result"
    }
   ],
   "source": [
    "confusion_matrix(y_te,predictions)"
   ]
  },
  {
   "cell_type": "markdown",
   "id": "b87cda58-9f8e-4875-b90a-2d6f2283e345",
   "metadata": {},
   "source": [
    "The accuracy of KNN with k=3 is 88.5%"
   ]
  },
  {
   "cell_type": "code",
   "execution_count": 14,
   "id": "db4a0181-90e3-4947-8ef2-3fcb50558db4",
   "metadata": {},
   "outputs": [
    {
     "data": {
      "text/plain": [
       "(44865.61, 807.43)"
      ]
     },
     "execution_count": 14,
     "metadata": {},
     "output_type": "execute_result"
    }
   ],
   "source": [
    "trading_strategies(gme,2021,this_wk_last_wk,predictions,)"
   ]
  },
  {
   "cell_type": "markdown",
   "id": "3dfb169a-ae18-4ccc-88f4-47b5df1067ca",
   "metadata": {},
   "source": [
    "###### L1 / Manhattan distance"
   ]
  },
  {
   "cell_type": "code",
   "execution_count": 15,
   "id": "a971372a-304d-45fa-8885-e3b6f3139b0f",
   "metadata": {
    "tags": []
   },
   "outputs": [],
   "source": [
    "accuracies={}\n",
    "for k in range(3,12,2):\n",
    "    knn = KNeighborsClassifier(n_neighbors=k, p = 1)\n",
    "    knn.fit(X_tr,y_tr)\n",
    "    predictions = knn.predict(X_tr)\n",
    "    accuracies[k] = np.round(knn.score(X_tr,y_tr),3)"
   ]
  },
  {
   "cell_type": "code",
   "execution_count": 16,
   "id": "79a406ec-4689-4d73-ab91-da6f1e925b73",
   "metadata": {
    "tags": []
   },
   "outputs": [
    {
     "data": {
      "text/plain": [
       "{3: 0.925, 5: 0.868, 7: 0.906, 9: 0.887, 11: 0.887}"
      ]
     },
     "execution_count": 16,
     "metadata": {},
     "output_type": "execute_result"
    }
   ],
   "source": [
    "accuracies"
   ]
  },
  {
   "cell_type": "code",
   "execution_count": 17,
   "id": "887967d4-ecca-4662-b110-0cef49706c03",
   "metadata": {
    "tags": []
   },
   "outputs": [
    {
     "data": {
      "text/plain": [
       "[Text(0.5, 1.0, 'Accuracies by K Hyper-Parameter, Manhattan'),\n",
       " Text(0.5, 0, 'K Value'),\n",
       " Text(0, 0.5, 'Accuracy')]"
      ]
     },
     "execution_count": 17,
     "metadata": {},
     "output_type": "execute_result"
    },
    {
     "data": {
      "image/png": "[encoded data removed]",
      "text/plain": [
       "<Figure size 640x480 with 1 Axes>"
      ]
     },
     "metadata": {},
     "output_type": "display_data"
    }
   ],
   "source": [
    "p = sns.lineplot(x = range(3,12,2), y = [accuracies[k] for k in range(3,12,2)])\n",
    "p.set(title='Accuracies by K Hyper-Parameter, Manhattan',xlabel='K Value', ylabel='Accuracy')"
   ]
  },
  {
   "cell_type": "markdown",
   "id": "48a48cad-f0a3-40b9-b5c3-575659d493f3",
   "metadata": {},
   "source": [
    "K values of 3 and 5 give the same accuracy of .925"
   ]
  },
  {
   "cell_type": "code",
   "execution_count": 18,
   "id": "c71dd96d-2524-4e7e-8ac9-fe4aec4adc0e",
   "metadata": {
    "tags": []
   },
   "outputs": [
    {
     "data": {
      "text/plain": [
       "0.865"
      ]
     },
     "execution_count": 18,
     "metadata": {},
     "output_type": "execute_result"
    }
   ],
   "source": [
    "knn = KNeighborsClassifier(n_neighbors=3,p=1)\n",
    "knn.fit(X_tr,y_tr)\n",
    "predictions = knn.predict(X_te)\n",
    "np.round(knn.score(X_te,y_te),3)"
   ]
  },
  {
   "cell_type": "code",
   "execution_count": 19,
   "id": "fe27b15a-d2a4-4d93-bc54-f3e2e078d502",
   "metadata": {
    "tags": []
   },
   "outputs": [
    {
     "data": {
      "text/plain": [
       "(52,)"
      ]
     },
     "execution_count": 19,
     "metadata": {},
     "output_type": "execute_result"
    }
   ],
   "source": [
    "predictions.shape"
   ]
  },
  {
   "cell_type": "code",
   "execution_count": 20,
   "id": "362fa9fb-2c91-4b17-89b2-7a9cb4981d14",
   "metadata": {
    "tags": []
   },
   "outputs": [
    {
     "data": {
      "text/plain": [
       "array([[28,  6],\n",
       "       [ 1, 17]])"
      ]
     },
     "execution_count": 20,
     "metadata": {},
     "output_type": "execute_result"
    }
   ],
   "source": [
    "cm = confusion_matrix(y_te,predictions)\n",
    "\n",
    "# true label ith row, predicted label jth column\n",
    "cm"
   ]
  },
  {
   "cell_type": "markdown",
   "id": "965e4d66-aebb-4c3f-99f0-3b2e46448b72",
   "metadata": {},
   "source": [
    "The accuracy of KNN with p=1, k=3 is 86.5%.  One fewer bad week is accurately predicted than with p=2 or euclidean distance."
   ]
  },
  {
   "cell_type": "code",
   "execution_count": 21,
   "id": "f7540ddb-c912-4223-aec3-54457850f180",
   "metadata": {
    "tags": []
   },
   "outputs": [
    {
     "name": "stdout",
     "output_type": "stream",
     "text": [
      "The true positive rate is 0.94 and the tnr is 0.82\n"
     ]
    }
   ],
   "source": [
    "print(f'The true positive rate is {functions.tpr(cm)} and the tnr is \\\n",
    "{functions.tnr(cm)}')"
   ]
  },
  {
   "cell_type": "code",
   "execution_count": 22,
   "id": "529e114a-a322-4e60-b38d-9b94bb39f8e3",
   "metadata": {
    "tags": []
   },
   "outputs": [],
   "source": [
    "gme_returns_df = functions.trade_from_close_close(gme.query('Year == 2020 or Year == 2021'),\n",
    "                       this_wk_last_wk,gme.query('Year == 2019').tail(1\n",
    "                       )['Adj Close'].values[0])"
   ]
  },
  {
   "cell_type": "code",
   "execution_count": 23,
   "id": "526a2ccb-b4e7-4231-bdf9-22c423bb407b",
   "metadata": {
    "tags": []
   },
   "outputs": [
    {
     "data": {
      "text/plain": [
       "(52, 5)"
      ]
     },
     "execution_count": 23,
     "metadata": {},
     "output_type": "execute_result"
    }
   ],
   "source": [
    "gme_returns_df.query('Year == 2021').shape"
   ]
  },
  {
   "cell_type": "code",
   "execution_count": 24,
   "id": "300bd0bb-7157-4e40-bebe-006d53360c14",
   "metadata": {
    "tags": []
   },
   "outputs": [
    {
     "data": {
      "text/plain": [
       "43844.62"
      ]
     },
     "execution_count": 24,
     "metadata": {},
     "output_type": "execute_result"
    }
   ],
   "source": [
    "functions.trade_labels(gme_returns_df,2021,predictions)"
   ]
  },
  {
   "cell_type": "code",
   "execution_count": 25,
   "id": "7ed60447-1c33-4c61-b530-a40c2d33fe5f",
   "metadata": {
    "tags": []
   },
   "outputs": [
    {
     "data": {
      "text/plain": [
       "807.43"
      ]
     },
     "execution_count": 25,
     "metadata": {},
     "output_type": "execute_result"
    }
   ],
   "source": [
    "functions.buy_and_hold(gme_returns_df,2021)"
   ]
  },
  {
   "cell_type": "markdown",
   "id": "5669fad7-7c3d-405d-bede-6c7ebf85a416",
   "metadata": {},
   "source": [
    "#### Q2 Minkowski P=1.5"
   ]
  },
  {
   "cell_type": "code",
   "execution_count": 26,
   "id": "450bebbf-291c-40f6-ad0d-4f42be109053",
   "metadata": {
    "tags": []
   },
   "outputs": [],
   "source": [
    "accuracies={}\n",
    "for k in range(3,12,2):\n",
    "    knn = KNeighborsClassifier(n_neighbors=k, p = 1.5)\n",
    "    knn.fit(X_tr,y_tr)\n",
    "    predictions = knn.predict(X_tr)\n",
    "    accuracies[k] = np.round(knn.score(X_tr,y_tr),3)"
   ]
  },
  {
   "cell_type": "code",
   "execution_count": 27,
   "id": "5b5626ea-92b4-4e7a-9763-f0d2ee1fb525",
   "metadata": {
    "tags": []
   },
   "outputs": [
    {
     "data": {
      "text/plain": [
       "{3: 0.925, 5: 0.925, 7: 0.906, 9: 0.887, 11: 0.83}"
      ]
     },
     "execution_count": 27,
     "metadata": {},
     "output_type": "execute_result"
    }
   ],
   "source": [
    "accuracies"
   ]
  },
  {
   "cell_type": "code",
   "execution_count": 28,
   "id": "4ceeb3be-33c0-4130-b37a-1984cb8a95c2",
   "metadata": {
    "tags": []
   },
   "outputs": [
    {
     "data": {
      "text/plain": [
       "[Text(0.5, 1.0, 'Accuracies by K Hyper-Parameter}'),\n",
       " Text(0.5, 0, 'K Value'),\n",
       " Text(0, 0.5, 'Accuracy')]"
      ]
     },
     "execution_count": 28,
     "metadata": {},
     "output_type": "execute_result"
    },
    {
     "data": {
      "image/png": "[encoded data removed]",
      "text/plain": [
       "<Figure size 640x480 with 1 Axes>"
      ]
     },
     "metadata": {},
     "output_type": "display_data"
    }
   ],
   "source": [
    "p = sns.lineplot(x = range(3,12,2), y = [accuracies[k] for k in range(3,12,2)])\n",
    "p.set(title='Accuracies by K Hyper-Parameter}',xlabel='K Value', ylabel='Accuracy')"
   ]
  },
  {
   "cell_type": "markdown",
   "id": "34ad0e9d-0c18-4600-9a71-1fbb87a8d6ad",
   "metadata": {},
   "source": [
    "K values of 3 and 5 give the same accuracy of .925"
   ]
  },
  {
   "cell_type": "code",
   "execution_count": 29,
   "id": "b52c17ba-5a9b-4333-b3b0-60a922f3a3f1",
   "metadata": {
    "tags": []
   },
   "outputs": [
    {
     "data": {
      "text/plain": [
       "0.865"
      ]
     },
     "execution_count": 29,
     "metadata": {},
     "output_type": "execute_result"
    }
   ],
   "source": [
    "knn = KNeighborsClassifier(n_neighbors=3,p=1.5)\n",
    "knn.fit(X_tr,y_tr)\n",
    "predictions = knn.predict(X_te)\n",
    "np.round(knn.score(X_te,y_te),3)"
   ]
  },
  {
   "cell_type": "code",
   "execution_count": 30,
   "id": "ad40baa7-0908-4bd2-9513-0b624346e29f",
   "metadata": {
    "tags": []
   },
   "outputs": [
    {
     "data": {
      "text/plain": [
       "(52,)"
      ]
     },
     "execution_count": 30,
     "metadata": {},
     "output_type": "execute_result"
    }
   ],
   "source": [
    "predictions.shape"
   ]
  },
  {
   "cell_type": "code",
   "execution_count": 31,
   "id": "cdea456c-cf76-44c1-b07d-dc83923e115a",
   "metadata": {
    "tags": []
   },
   "outputs": [
    {
     "data": {
      "text/plain": [
       "array([[28,  6],\n",
       "       [ 1, 17]])"
      ]
     },
     "execution_count": 31,
     "metadata": {},
     "output_type": "execute_result"
    }
   ],
   "source": [
    "cm = confusion_matrix(y_te,predictions)\n",
    "\n",
    "# true label ith row, predicted label jth column\n",
    "cm"
   ]
  },
  {
   "cell_type": "markdown",
   "id": "db2ee9e4-3216-46cb-b768-1542c16574dc",
   "metadata": {},
   "source": [
    "The accuracy of KNN with p=1.5, k=3 is 86.5%.  One fewer bad week is accurately predicted than with p=2 or euclidean distance.  This is the same as with p=1."
   ]
  },
  {
   "cell_type": "code",
   "execution_count": 32,
   "id": "8efdd200-01bf-492e-90b7-1fcf13311888",
   "metadata": {
    "tags": []
   },
   "outputs": [
    {
     "name": "stdout",
     "output_type": "stream",
     "text": [
      "The true positive rate is 0.94 and the tnr is 0.82\n"
     ]
    }
   ],
   "source": [
    "print(f'The true positive rate is {functions.tpr(cm)} and the tnr is \\\n",
    "{functions.tnr(cm)}')"
   ]
  },
  {
   "cell_type": "code",
   "execution_count": 33,
   "id": "0ba64c45-7f2a-40eb-89c7-ab7d55be7562",
   "metadata": {
    "tags": []
   },
   "outputs": [],
   "source": [
    "# staggered dictionary\n",
    "this_wk_last_wk = dict(zip(gme.Year_Week.unique()[1:], \n",
    "                           gme.Year_Week.unique()[:-1]))"
   ]
  },
  {
   "cell_type": "code",
   "execution_count": 34,
   "id": "20c01382-f4df-4c29-8d7c-92724fc0e466",
   "metadata": {
    "tags": []
   },
   "outputs": [],
   "source": [
    "gme_returns_df = functions.trade_from_close_close(gme.query('Year == 2020 or Year == 2021'),\n",
    "                       this_wk_last_wk,gme.query('Year == 2019').tail(1\n",
    "                       )['Adj Close'].values[0])"
   ]
  },
  {
   "cell_type": "code",
   "execution_count": 35,
   "id": "6c0494e0-754a-45e0-aacf-4868b963fba6",
   "metadata": {
    "tags": []
   },
   "outputs": [
    {
     "data": {
      "text/plain": [
       "(52, 5)"
      ]
     },
     "execution_count": 35,
     "metadata": {},
     "output_type": "execute_result"
    }
   ],
   "source": [
    "gme_returns_df.query('Year == 2021').shape"
   ]
  },
  {
   "cell_type": "code",
   "execution_count": 36,
   "id": "8459af37-1b31-44fb-87d4-3960f4e0c917",
   "metadata": {
    "tags": []
   },
   "outputs": [
    {
     "data": {
      "text/plain": [
       "43844.62"
      ]
     },
     "execution_count": 36,
     "metadata": {},
     "output_type": "execute_result"
    }
   ],
   "source": [
    "functions.trade_labels(gme_returns_df,2021,predictions)"
   ]
  },
  {
   "cell_type": "code",
   "execution_count": 37,
   "id": "b6e92aba-08a9-43d6-851e-87ced8888a4d",
   "metadata": {
    "tags": []
   },
   "outputs": [
    {
     "data": {
      "text/plain": [
       "807.43"
      ]
     },
     "execution_count": 37,
     "metadata": {},
     "output_type": "execute_result"
    }
   ],
   "source": [
    "functions.buy_and_hold(gme_returns_df,2021)"
   ]
  },
  {
   "cell_type": "markdown",
   "id": "0594b60b-d880-453e-a16b-bce39b6568cf",
   "metadata": {},
   "source": [
    "#### Q3 Nearest Centroid"
   ]
  },
  {
   "cell_type": "code",
   "execution_count": 38,
   "id": "718ab8d8-f84e-4660-9b70-11c0d174651d",
   "metadata": {
    "tags": []
   },
   "outputs": [
    {
     "data": {
      "text/plain": [
       "([3.105851785714285, 7.2518829997933265],\n",
       " [-1.9860140000000002, 4.760831174875219])"
      ]
     },
     "execution_count": 38,
     "metadata": {},
     "output_type": "execute_result"
    }
   ],
   "source": [
    "X_tr = gme_wr_v.query('Year == 2020')\n",
    "X_te = gme_wr_v.query('Year == 2021')\n",
    "\n",
    "X_tr_greens = X_tr.query('Labels == \"Green\"')\n",
    "X_tr_reds = X_tr.query('Labels == \"Red\"')\n",
    "\n",
    "green_centroid = [X_tr_greens.mean_return.mean(),X_tr_greens.volatility.mean()]\n",
    "\n",
    "red_centroid = [X_tr_reds.mean_return.mean(),X_tr_reds.volatility.mean()]\n",
    "\n",
    "green_centroid, red_centroid"
   ]
  },
  {
   "cell_type": "code",
   "execution_count": 39,
   "id": "a51be5cb-17c5-43cd-bc91-527b7680fed7",
   "metadata": {
    "tags": []
   },
   "outputs": [
    {
     "data": {
      "text/plain": [
       "(4.877861565769183, 4.702292852480504)"
      ]
     },
     "execution_count": 39,
     "metadata": {},
     "output_type": "execute_result"
    }
   ],
   "source": [
    "(X_tr_greens.apply(lambda x: (\n",
    "    (x['mean_return']-green_centroid[0])**2 + \n",
    "    (x['volatility']-green_centroid[1])**2\n",
    ")**.5\n",
    "                 ,axis=1).values.mean(),\n",
    "np.median(X_tr_greens.apply(lambda x: (\n",
    "    (x['mean_return']-green_centroid[0])**2 + \n",
    "    (x['volatility']-green_centroid[1])**2\n",
    ")**.5\n",
    "                 ,axis=1).values))"
   ]
  },
  {
   "cell_type": "code",
   "execution_count": 40,
   "id": "f6439a8e-34cb-448a-900a-f1a556cc75ac",
   "metadata": {
    "tags": []
   },
   "outputs": [
    {
     "data": {
      "text/plain": [
       "(2.698565151132838, 2.729909383336894)"
      ]
     },
     "execution_count": 40,
     "metadata": {},
     "output_type": "execute_result"
    }
   ],
   "source": [
    "(X_tr_reds.apply(lambda x: (\n",
    "    (x['mean_return']-red_centroid[0])**2 + \n",
    "    (x['volatility']-red_centroid[1])**2\n",
    ")**.5\n",
    "                 ,axis=1).values.mean(),\n",
    "np.median(X_tr_reds.apply(lambda x: (\n",
    "    (x['mean_return']-red_centroid[0])**2 + \n",
    "    (x['volatility']-red_centroid[1])**2\n",
    ")**.5\n",
    "                 ,axis=1).values))"
   ]
  },
  {
   "cell_type": "code",
   "execution_count": 41,
   "id": "771c3ef3-f8a0-415d-bee4-0cffe338a1dd",
   "metadata": {
    "tags": []
   },
   "outputs": [
    {
     "data": {
      "text/plain": [
       "{'distance_to_red': (4.868762518477502, 3.5680571679489086),\n",
       " 'distance_to_green': (5.497250723801833, 5.481875123253371)}"
      ]
     },
     "execution_count": 41,
     "metadata": {},
     "output_type": "execute_result"
    }
   ],
   "source": [
    "{\"distance_to_red\" : (X_tr.apply(lambda x: (\n",
    "    (x['mean_return']-red_centroid[0])**2 + \n",
    "    (x['volatility']-red_centroid[1])**2\n",
    ")**.5\n",
    "                 ,axis=1).values.mean(),\n",
    "np.median(X_tr.apply(lambda x: (\n",
    "    (x['mean_return']-red_centroid[0])**2 + \n",
    "    (x['volatility']-red_centroid[1])**2\n",
    ")**.5\n",
    "                 ,axis=1).values)),\n",
    "\"distance_to_green\":\n",
    " (X_tr.apply(lambda x: (\n",
    "    (x['mean_return']-green_centroid[0])**2 + \n",
    "    (x['volatility']-green_centroid[1])**2\n",
    ")**.5\n",
    "                 ,axis=1).values.mean(),\n",
    "np.median(X_tr.apply(lambda x: (\n",
    "    (x['mean_return']-green_centroid[0])**2 + \n",
    "    (x['volatility']-green_centroid[1])**2\n",
    ")**.5\n",
    "                 ,axis=1).values))\n",
    "}"
   ]
  },
  {
   "cell_type": "markdown",
   "id": "c9f26d18-b484-4cad-b26a-e3a8b5b6d681",
   "metadata": {},
   "source": [
    "The size of the \"Green\" sphere centered at the green centroid is larger than the size of the \"Red\" sphere centered at the red centroid.  Points of both types tend to be farther from the green centroid."
   ]
  },
  {
   "cell_type": "code",
   "execution_count": 42,
   "id": "b5534d5c-8330-440c-9901-959fecf4d561",
   "metadata": {
    "tags": []
   },
   "outputs": [],
   "source": [
    "centroid_preds = np.where(X_te.apply(lambda x: (\n",
    "    (x['mean_return']-green_centroid[0])**2 + \n",
    "    (x['volatility']-green_centroid[1])**2\n",
    ")**.5, axis = 1).values < \\\n",
    "X_te.apply(lambda x: (\n",
    "    (x['mean_return']-red_centroid[0])**2 + \n",
    "    (x['volatility']-red_centroid[1])**2\n",
    ")**.5, axis = 1).values,\"Green\",\"Red\")"
   ]
  },
  {
   "cell_type": "code",
   "execution_count": 43,
   "id": "3aa969a0-0486-4037-84e4-a643e63b3aac",
   "metadata": {
    "tags": []
   },
   "outputs": [
    {
     "data": {
      "text/plain": [
       "array(['Red', 'Green', 'Green', 'Green', 'Red', 'Red', 'Red', 'Green',\n",
       "       'Green', 'Green', 'Red', 'Green', 'Red', 'Red', 'Green', 'Red',\n",
       "       'Green', 'Red', 'Green', 'Green', 'Green', 'Green', 'Green', 'Red',\n",
       "       'Red', 'Red', 'Red', 'Red', 'Green', 'Red', 'Red', 'Red', 'Red',\n",
       "       'Green', 'Red', 'Red', 'Red', 'Red', 'Red', 'Red', 'Red', 'Red',\n",
       "       'Red', 'Green', 'Red', 'Green', 'Red', 'Red', 'Red', 'Green',\n",
       "       'Red', 'Red'], dtype='<U5')"
      ]
     },
     "execution_count": 43,
     "metadata": {},
     "output_type": "execute_result"
    }
   ],
   "source": [
    "centroid_preds"
   ]
  },
  {
   "cell_type": "code",
   "execution_count": 44,
   "id": "61727ffc-b721-4ec8-92bd-e8f8de501f5a",
   "metadata": {
    "tags": []
   },
   "outputs": [],
   "source": [
    "cm = confusion_matrix(gme_wr_v.query(\"Year == 2021\").Labels.values,\n",
    "                centroid_preds)"
   ]
  },
  {
   "cell_type": "code",
   "execution_count": 45,
   "id": "7dbe871b-9718-4e44-86c1-3ce757c2e1d3",
   "metadata": {
    "tags": []
   },
   "outputs": [
    {
     "data": {
      "text/plain": [
       "(0.79, 0.67)"
      ]
     },
     "execution_count": 45,
     "metadata": {},
     "output_type": "execute_result"
    }
   ],
   "source": [
    "functions.tpr(cm), functions.tnr(cm)"
   ]
  },
  {
   "cell_type": "code",
   "execution_count": 46,
   "id": "8eea5f52-ca9c-47dc-9481-b7c6c9edd95e",
   "metadata": {
    "tags": []
   },
   "outputs": [],
   "source": [
    "returns_df = functions.trade_from_close_close(gme,this_wk_last_wk)"
   ]
  },
  {
   "cell_type": "code",
   "execution_count": 47,
   "id": "9697570d-3c16-4196-a50c-7b2a1e269858",
   "metadata": {
    "tags": []
   },
   "outputs": [
    {
     "data": {
      "text/plain": [
       "31068.38"
      ]
     },
     "execution_count": 47,
     "metadata": {},
     "output_type": "execute_result"
    }
   ],
   "source": [
    "functions.trade_labels(returns_df,2021,np.where(centroid_preds=='Green',1,0))"
   ]
  },
  {
   "cell_type": "code",
   "execution_count": 48,
   "id": "fbc24aff-23bf-4732-b036-cef49a75d812",
   "metadata": {
    "tags": []
   },
   "outputs": [
    {
     "data": {
      "text/plain": [
       "807.43"
      ]
     },
     "execution_count": 48,
     "metadata": {},
     "output_type": "execute_result"
    }
   ],
   "source": [
    "functions.buy_and_hold(returns_df,2021)"
   ]
  },
  {
   "cell_type": "markdown",
   "id": "36069887-a23b-4bf1-8210-5209bdf8e376",
   "metadata": {},
   "source": [
    "Using the centroids is worse than KNN but better than buy and hold. "
   ]
  },
  {
   "cell_type": "markdown",
   "id": "1ede5533-56b6-4adb-9eab-6c6e92459d62",
   "metadata": {},
   "source": [
    "##### Question 4 (Domain Transformation)"
   ]
  },
  {
   "cell_type": "markdown",
   "id": "5da588b0-d4d0-49dd-9912-336967964266",
   "metadata": {},
   "source": [
    "take k = 3,5,7,9,11. \n",
    "For each value of k compute the accuracy of this classifier. On x axis you plot k and on y-axis you plot accuracy. What is the optimal value of k for year 1?"
   ]
  },
  {
   "cell_type": "markdown",
   "id": "82263e7c-abe1-4317-90a5-6e81de05466f",
   "metadata": {},
   "source": [
    "Domain Transformation (x ,y ) → (x2,x y √2,y2)"
   ]
  },
  {
   "cell_type": "code",
   "execution_count": 49,
   "id": "b43b1eba-421f-4c2a-9e22-f1d20aeb23b0",
   "metadata": {
    "tags": []
   },
   "outputs": [],
   "source": [
    "gme_dt = gme_wr_v.copy(deep=True)"
   ]
  },
  {
   "cell_type": "code",
   "execution_count": 50,
   "id": "a46a7d6f-d1bd-43aa-a331-811eb4a79622",
   "metadata": {
    "tags": []
   },
   "outputs": [],
   "source": [
    "gme_dt['mr_2'] = np.square(gme_dt.mean_return)\n",
    "gme_dt['v_2'] = np.square(gme_dt.volatility)\n",
    "gme_dt['mr_v_sqrt2'] = np.prod([gme_dt.mean_return.values,\n",
    "                                gme_dt.volatility.values,np.sqrt(2*np.ones(\n",
    "                                    shape=gme_wr_v.shape[0]))],axis=0)"
   ]
  },
  {
   "cell_type": "code",
   "execution_count": null,
   "id": "b0797e11-5b1a-435d-a328-db81a61c0d33",
   "metadata": {},
   "outputs": [],
   "source": []
  },
  {
   "cell_type": "code",
   "execution_count": 51,
   "id": "a931f3a5-4488-4120-8181-f1ad4a43ce32",
   "metadata": {
    "tags": []
   },
   "outputs": [
    {
     "data": {
      "text/html": [
       "<div>\n",
       "<style scoped>\n",
       "    .dataframe tbody tr th:only-of-type {\n",
       "        vertical-align: middle;\n",
       "    }\n",
       "\n",
       "    .dataframe tbody tr th {\n",
       "        vertical-align: top;\n",
       "    }\n",
       "\n",
       "    .dataframe thead th {\n",
       "        text-align: right;\n",
       "    }\n",
       "</style>\n",
       "<table border=\"1\" class=\"dataframe\">\n",
       "  <thead>\n",
       "    <tr style=\"text-align: right;\">\n",
       "      <th></th>\n",
       "      <th>Year</th>\n",
       "      <th>Week_Number</th>\n",
       "      <th>mean_return</th>\n",
       "      <th>volatility</th>\n",
       "      <th>Labels</th>\n",
       "      <th>mr_2</th>\n",
       "      <th>v_2</th>\n",
       "      <th>mr_v_sqrt2</th>\n",
       "    </tr>\n",
       "  </thead>\n",
       "  <tbody>\n",
       "    <tr>\n",
       "      <th>158</th>\n",
       "      <td>2020</td>\n",
       "      <td>0</td>\n",
       "      <td>-1.5160</td>\n",
       "      <td>7.493918</td>\n",
       "      <td>Red</td>\n",
       "      <td>2.298256</td>\n",
       "      <td>56.158802</td>\n",
       "      <td>-16.066568</td>\n",
       "    </tr>\n",
       "    <tr>\n",
       "      <th>159</th>\n",
       "      <td>2020</td>\n",
       "      <td>1</td>\n",
       "      <td>-1.5324</td>\n",
       "      <td>3.426839</td>\n",
       "      <td>Red</td>\n",
       "      <td>2.348250</td>\n",
       "      <td>11.743222</td>\n",
       "      <td>-7.426442</td>\n",
       "    </tr>\n",
       "    <tr>\n",
       "      <th>160</th>\n",
       "      <td>2020</td>\n",
       "      <td>2</td>\n",
       "      <td>-2.4704</td>\n",
       "      <td>6.280646</td>\n",
       "      <td>Red</td>\n",
       "      <td>6.102876</td>\n",
       "      <td>39.446508</td>\n",
       "      <td>-21.942523</td>\n",
       "    </tr>\n",
       "    <tr>\n",
       "      <th>161</th>\n",
       "      <td>2020</td>\n",
       "      <td>3</td>\n",
       "      <td>-2.3000</td>\n",
       "      <td>3.391904</td>\n",
       "      <td>Red</td>\n",
       "      <td>5.290000</td>\n",
       "      <td>11.505011</td>\n",
       "      <td>-11.032815</td>\n",
       "    </tr>\n",
       "    <tr>\n",
       "      <th>162</th>\n",
       "      <td>2020</td>\n",
       "      <td>4</td>\n",
       "      <td>-2.3190</td>\n",
       "      <td>1.496155</td>\n",
       "      <td>Red</td>\n",
       "      <td>5.377761</td>\n",
       "      <td>2.238479</td>\n",
       "      <td>-4.906731</td>\n",
       "    </tr>\n",
       "    <tr>\n",
       "      <th>...</th>\n",
       "      <td>...</td>\n",
       "      <td>...</td>\n",
       "      <td>...</td>\n",
       "      <td>...</td>\n",
       "      <td>...</td>\n",
       "      <td>...</td>\n",
       "      <td>...</td>\n",
       "      <td>...</td>\n",
       "    </tr>\n",
       "    <tr>\n",
       "      <th>258</th>\n",
       "      <td>2021</td>\n",
       "      <td>48</td>\n",
       "      <td>-2.8324</td>\n",
       "      <td>4.045923</td>\n",
       "      <td>Red</td>\n",
       "      <td>8.022490</td>\n",
       "      <td>16.369497</td>\n",
       "      <td>-16.206426</td>\n",
       "    </tr>\n",
       "    <tr>\n",
       "      <th>259</th>\n",
       "      <td>2021</td>\n",
       "      <td>49</td>\n",
       "      <td>-1.4430</td>\n",
       "      <td>6.241354</td>\n",
       "      <td>Red</td>\n",
       "      <td>2.082249</td>\n",
       "      <td>38.954497</td>\n",
       "      <td>-12.736794</td>\n",
       "    </tr>\n",
       "    <tr>\n",
       "      <th>260</th>\n",
       "      <td>2021</td>\n",
       "      <td>50</td>\n",
       "      <td>-0.0922</td>\n",
       "      <td>8.972470</td>\n",
       "      <td>Red</td>\n",
       "      <td>0.008501</td>\n",
       "      <td>80.505226</td>\n",
       "      <td>-1.169925</td>\n",
       "    </tr>\n",
       "    <tr>\n",
       "      <th>261</th>\n",
       "      <td>2021</td>\n",
       "      <td>51</td>\n",
       "      <td>-0.5565</td>\n",
       "      <td>1.666374</td>\n",
       "      <td>Red</td>\n",
       "      <td>0.309692</td>\n",
       "      <td>2.776801</td>\n",
       "      <td>-1.311452</td>\n",
       "    </tr>\n",
       "    <tr>\n",
       "      <th>262</th>\n",
       "      <td>2021</td>\n",
       "      <td>52</td>\n",
       "      <td>0.5615</td>\n",
       "      <td>3.340023</td>\n",
       "      <td>Red</td>\n",
       "      <td>0.315282</td>\n",
       "      <td>11.155756</td>\n",
       "      <td>2.652249</td>\n",
       "    </tr>\n",
       "  </tbody>\n",
       "</table>\n",
       "<p>105 rows × 8 columns</p>\n",
       "</div>"
      ],
      "text/plain": [
       "     Year  Week_Number  mean_return  volatility Labels      mr_2        v_2  \\\n",
       "158  2020            0      -1.5160    7.493918    Red  2.298256  56.158802   \n",
       "159  2020            1      -1.5324    3.426839    Red  2.348250  11.743222   \n",
       "160  2020            2      -2.4704    6.280646    Red  6.102876  39.446508   \n",
       "161  2020            3      -2.3000    3.391904    Red  5.290000  11.505011   \n",
       "162  2020            4      -2.3190    1.496155    Red  5.377761   2.238479   \n",
       "..    ...          ...          ...         ...    ...       ...        ...   \n",
       "258  2021           48      -2.8324    4.045923    Red  8.022490  16.369497   \n",
       "259  2021           49      -1.4430    6.241354    Red  2.082249  38.954497   \n",
       "260  2021           50      -0.0922    8.972470    Red  0.008501  80.505226   \n",
       "261  2021           51      -0.5565    1.666374    Red  0.309692   2.776801   \n",
       "262  2021           52       0.5615    3.340023    Red  0.315282  11.155756   \n",
       "\n",
       "     mr_v_sqrt2  \n",
       "158  -16.066568  \n",
       "159   -7.426442  \n",
       "160  -21.942523  \n",
       "161  -11.032815  \n",
       "162   -4.906731  \n",
       "..          ...  \n",
       "258  -16.206426  \n",
       "259  -12.736794  \n",
       "260   -1.169925  \n",
       "261   -1.311452  \n",
       "262    2.652249  \n",
       "\n",
       "[105 rows x 8 columns]"
      ]
     },
     "execution_count": 51,
     "metadata": {},
     "output_type": "execute_result"
    }
   ],
   "source": [
    "gme_dt"
   ]
  },
  {
   "cell_type": "code",
   "execution_count": null,
   "id": "d2c324b4-d9be-441a-b09a-0670cc7bdc08",
   "metadata": {},
   "outputs": [],
   "source": []
  },
  {
   "cell_type": "code",
   "execution_count": 52,
   "id": "66054d3f-9bda-431a-9e72-c3b0ba2e43fe",
   "metadata": {
    "tags": []
   },
   "outputs": [],
   "source": [
    "scaler = StandardScaler()\n",
    "le = LabelEncoder()"
   ]
  },
  {
   "cell_type": "code",
   "execution_count": 53,
   "id": "3cc253a4-d227-451a-9d25-bdc5f98144b9",
   "metadata": {
    "tags": []
   },
   "outputs": [],
   "source": [
    "X = gme_dt[['mr_2', 'v_2', 'mr_v_sqrt2']].values\n",
    "y = gme_dt[['Labels']].values\n",
    "\n",
    "y = 1 - le.fit_transform(np.ravel(y))\n",
    "X_tr = X[gme_wr_v.Year == 2020]\n",
    "y_tr = y[gme_wr_v.Year == 2020]\n",
    "X_te = X[gme_wr_v.Year == 2021]\n",
    "y_te = y[gme_wr_v.Year == 2021]\n",
    "scaler.fit(X_tr)\n",
    "X_tr = scaler.transform(X_tr)\n",
    "X_te = scaler.transform(X_te)"
   ]
  },
  {
   "cell_type": "markdown",
   "id": "9c13e47a-d5fc-4212-b041-e0e22e7dd1aa",
   "metadata": {},
   "source": [
    "1.take k = 3,5,7,9,11. For each value of k compute the accuracy of this classifier. On x axis you plot k and on y-axis you plot accuracy. What is the optimal value of k for year 1?"
   ]
  },
  {
   "cell_type": "code",
   "execution_count": 54,
   "id": "692a3557-85f2-42ce-9cf0-94ae9bd3e107",
   "metadata": {
    "tags": []
   },
   "outputs": [],
   "source": [
    "X = gme_wr_v\n",
    "X_train = scaler.transform(X_tr)\n",
    "accuracies={}\n",
    "for k in range(3,12,2):\n",
    "    knn = KNeighborsClassifier(n_neighbors=k,p=2)\n",
    "    knn.fit(X_tr,y_tr)\n",
    "    predictions = knn.predict(X_tr)\n",
    "    accuracies[k] = np.round(knn.score(X_tr,y_tr),3)"
   ]
  },
  {
   "cell_type": "code",
   "execution_count": 55,
   "id": "84cf6df1-d55b-4bbe-a0d9-1fd6e936bfaf",
   "metadata": {
    "tags": []
   },
   "outputs": [
    {
     "data": {
      "text/plain": [
       "{3: 0.925, 5: 0.906, 7: 0.868, 9: 0.887, 11: 0.83}"
      ]
     },
     "execution_count": 55,
     "metadata": {},
     "output_type": "execute_result"
    }
   ],
   "source": [
    "accuracies"
   ]
  },
  {
   "cell_type": "code",
   "execution_count": 58,
   "id": "1aa00b6c-9fc5-4819-8c3c-2a31303a8966",
   "metadata": {
    "tags": []
   },
   "outputs": [
    {
     "data": {
      "image/png": "[encoded data removed]",
      "text/plain": [
       "<Figure size 640x480 with 1 Axes>"
      ]
     },
     "metadata": {},
     "output_type": "display_data"
    }
   ],
   "source": [
    "p = sns.lineplot(x = range(3,12,2), y = [accuracies[k] for k in range(3,12,2)])\n",
    "p.set(title = 'Accuracies by K for Domain Transformed Data',\n",
    "      xlabel = 'K Value', ylabel = 'Accuracy')\n",
    "plt.savefig('./DomainTAccuracies.png')"
   ]
  },
  {
   "cell_type": "markdown",
   "id": "b08cf597-91a8-40a6-add7-b362d0bdc311",
   "metadata": {},
   "source": [
    "The best K value of 3 gives y1 accuracy of .925."
   ]
  },
  {
   "cell_type": "code",
   "execution_count": 59,
   "id": "00712de4-55ab-4f5e-bbbb-e588faca5a8a",
   "metadata": {
    "tags": []
   },
   "outputs": [
    {
     "data": {
      "text/plain": [
       "0.885"
      ]
     },
     "execution_count": 59,
     "metadata": {},
     "output_type": "execute_result"
    }
   ],
   "source": [
    "knn = KNeighborsClassifier(n_neighbors=3,p=2)\n",
    "knn.fit(X_tr,y_tr)\n",
    "predictions = knn.predict(X_te)\n",
    "np.round(knn.score(X_te,y_te),3)"
   ]
  },
  {
   "cell_type": "code",
   "execution_count": 60,
   "id": "e9c6d5d6-8e0d-49f7-869c-992662bb9e3a",
   "metadata": {
    "tags": []
   },
   "outputs": [
    {
     "data": {
      "text/plain": [
       "array([[29,  5],\n",
       "       [ 1, 17]])"
      ]
     },
     "execution_count": 60,
     "metadata": {},
     "output_type": "execute_result"
    }
   ],
   "source": [
    "cm = confusion_matrix(y_te,predictions)\n",
    "cm"
   ]
  },
  {
   "cell_type": "markdown",
   "id": "38c62d28-2ed7-427a-9c16-8762baf96aa6",
   "metadata": {},
   "source": [
    "The accuracy of KNN with k=3 is 88.5%"
   ]
  },
  {
   "cell_type": "markdown",
   "id": "f3129ad8-e56c-4a5c-bfc3-4ca87ad6ee3a",
   "metadata": {},
   "source": [
    "Same accuracy as with non-transformed k-NN"
   ]
  },
  {
   "cell_type": "code",
   "execution_count": 61,
   "id": "8cb0c233-a990-4388-aeef-2a1a4fee2ae2",
   "metadata": {
    "tags": []
   },
   "outputs": [
    {
     "data": {
      "text/plain": [
       "(0.94, 0.85)"
      ]
     },
     "execution_count": 61,
     "metadata": {},
     "output_type": "execute_result"
    }
   ],
   "source": [
    "functions.tpr(cm), functions.tnr(cm)"
   ]
  },
  {
   "cell_type": "code",
   "execution_count": 62,
   "id": "dbdf87f1-6f3a-4fc4-a7d1-2445ce4d7a64",
   "metadata": {
    "tags": []
   },
   "outputs": [
    {
     "data": {
      "text/plain": [
       "(44865.61, 807.43)"
      ]
     },
     "execution_count": 62,
     "metadata": {},
     "output_type": "execute_result"
    }
   ],
   "source": [
    "trading_strategies(gme,2021,this_wk_last_wk,predictions)"
   ]
  },
  {
   "cell_type": "markdown",
   "id": "04cc39fb-32cd-43af-abec-153d77b2ff8c",
   "metadata": {},
   "source": [
    "The trading results from regular knn and DT knn are the same."
   ]
  },
  {
   "cell_type": "markdown",
   "id": "b0a458d0-b31e-49b5-8b3c-73fa74f432d4",
   "metadata": {},
   "source": [
    "##### Q5 k-Predicted Neighbors"
   ]
  },
  {
   "cell_type": "code",
   "execution_count": 63,
   "id": "9b4dde0d-013b-49cb-a032-c4f991628fc4",
   "metadata": {
    "tags": []
   },
   "outputs": [],
   "source": [
    "scaler = StandardScaler()\n",
    "le = LabelEncoder()"
   ]
  },
  {
   "cell_type": "code",
   "execution_count": 64,
   "id": "f94fc9d7-708b-47c9-b157-ebc75fd9c8e4",
   "metadata": {
    "tags": []
   },
   "outputs": [],
   "source": [
    "X = gme_wr_v[['mean_return','volatility']].values\n",
    "y = gme_wr_v[['Labels']].values\n",
    "\n",
    "y = 1 - le.fit_transform(np.ravel(y))\n",
    "X_tr = X[gme_wr_v.Year == 2020]\n",
    "y_tr = y[gme_wr_v.Year == 2020]\n",
    "X_te = X[gme_wr_v.Year == 2021]\n",
    "y_te = y[gme_wr_v.Year == 2021]\n",
    "scaler.fit(X_tr)\n",
    "X_tr = scaler.transform(X_tr)\n",
    "X_te = scaler.transform(X_te)"
   ]
  },
  {
   "cell_type": "code",
   "execution_count": 65,
   "id": "52fe8e5e-1946-43c2-8bda-cbf4d12fa941",
   "metadata": {
    "tags": []
   },
   "outputs": [],
   "source": [
    "accuracies={}\n",
    "for k in range(3,12,2):\n",
    "    knn = KNeighborsClassifier(n_neighbors=k)\n",
    "    knn.fit(X_tr,y_tr)\n",
    "    knn.fit(X_tr,knn.predict(X_tr))\n",
    "    predictions = knn.predict(X_tr)\n",
    "    accuracies[k] = np.round(knn.score(X_tr,y_tr),3)"
   ]
  },
  {
   "cell_type": "code",
   "execution_count": 66,
   "id": "d1a973bc-1f33-4f9e-a5d1-d348f45e02da",
   "metadata": {
    "tags": []
   },
   "outputs": [
    {
     "data": {
      "text/plain": [
       "{3: 0.925, 5: 0.925, 7: 0.868, 9: 0.868, 11: 0.868}"
      ]
     },
     "execution_count": 66,
     "metadata": {},
     "output_type": "execute_result"
    }
   ],
   "source": [
    "accuracies"
   ]
  },
  {
   "cell_type": "code",
   "execution_count": 67,
   "id": "25de5709-1d7e-4831-b0f7-ba56ac3736c8",
   "metadata": {
    "tags": []
   },
   "outputs": [
    {
     "data": {
      "text/plain": [
       "[Text(0.5, 1.0, 'Accuracies by K Hyper-Parameter}'),\n",
       " Text(0.5, 0, 'K Value'),\n",
       " Text(0, 0.5, 'Accuracy')]"
      ]
     },
     "execution_count": 67,
     "metadata": {},
     "output_type": "execute_result"
    },
    {
     "data": {
      "image/png": "[encoded data removed]",
      "text/plain": [
       "<Figure size 640x480 with 1 Axes>"
      ]
     },
     "metadata": {},
     "output_type": "display_data"
    }
   ],
   "source": [
    "p = sns.lineplot(x = range(3,12,2), y = [accuracies[k] for k in range(3,12,2)])\n",
    "p.set(title='Accuracies by K Hyper-Parameter}',xlabel='K Value', ylabel='Accuracy')"
   ]
  },
  {
   "cell_type": "markdown",
   "id": "89d85af3-c254-48e6-b4b9-f4cdc43631bb",
   "metadata": {},
   "source": [
    "K values of 3 and 5 give the same accuracy of .925\n",
    "\n"
   ]
  },
  {
   "cell_type": "code",
   "execution_count": null,
   "id": "5ae96f5a-037d-48d3-9e66-1dfe11f347af",
   "metadata": {
    "tags": []
   },
   "outputs": [],
   "source": []
  },
  {
   "cell_type": "markdown",
   "id": "a96eaaf7-228b-4bdd-8fff-a241f300494f",
   "metadata": {},
   "source": [
    "The optimal k from y1 is 3."
   ]
  },
  {
   "cell_type": "code",
   "execution_count": 68,
   "id": "5fbccad9-e857-4702-8617-1cd712c64042",
   "metadata": {
    "tags": []
   },
   "outputs": [
    {
     "data": {
      "text/plain": [
       "0.865"
      ]
     },
     "execution_count": 68,
     "metadata": {},
     "output_type": "execute_result"
    }
   ],
   "source": [
    "knn = KNeighborsClassifier(n_neighbors=3,p=2)\n",
    "knn.fit(X_tr,y_tr)\n",
    "knn.fit(X_tr,knn.predict(X_tr))\n",
    "predictions = knn.predict(X_te)\n",
    "np.round(knn.score(X_te,y_te),3)"
   ]
  },
  {
   "cell_type": "code",
   "execution_count": 69,
   "id": "3b720d27-3fac-46ed-b902-f28341791a6a",
   "metadata": {
    "tags": []
   },
   "outputs": [
    {
     "data": {
      "text/plain": [
       "array([[28,  6],\n",
       "       [ 1, 17]])"
      ]
     },
     "execution_count": 69,
     "metadata": {},
     "output_type": "execute_result"
    }
   ],
   "source": [
    "cm = confusion_matrix(y_te,predictions)\n",
    "cm"
   ]
  },
  {
   "cell_type": "markdown",
   "id": "0d477ade-0bde-4c4e-983b-86cda7ad209b",
   "metadata": {},
   "source": [
    "Same accuracy as with non-transformed k-NN"
   ]
  },
  {
   "cell_type": "code",
   "execution_count": 70,
   "id": "c7a60f38-5519-46b2-bac3-bdb6c847088a",
   "metadata": {
    "tags": []
   },
   "outputs": [
    {
     "data": {
      "text/plain": [
       "(0.94, 0.82)"
      ]
     },
     "execution_count": 70,
     "metadata": {},
     "output_type": "execute_result"
    }
   ],
   "source": [
    "functions.tpr(cm), functions.tnr(cm)"
   ]
  },
  {
   "cell_type": "code",
   "execution_count": 71,
   "id": "315fc484-5240-4e20-8439-01471305fe59",
   "metadata": {
    "tags": []
   },
   "outputs": [
    {
     "data": {
      "text/plain": [
       "(43844.62, 807.43)"
      ]
     },
     "execution_count": 71,
     "metadata": {},
     "output_type": "execute_result"
    }
   ],
   "source": [
    "trading_strategies(gme,2021,this_wk_last_wk,predictions)"
   ]
  },
  {
   "cell_type": "markdown",
   "id": "d520c7a2-f977-4deb-9069-7c16a0bc4ee3",
   "metadata": {},
   "source": [
    "There is not an improvement over regular knn.  There is slighly lower accuracy and return on $100"
   ]
  },
  {
   "cell_type": "markdown",
   "id": "4143505c-7aaf-47f3-942c-b9e14a0ab145",
   "metadata": {},
   "source": [
    "##### k-Hyperplanes -- ToDo"
   ]
  },
  {
   "cell_type": "code",
   "execution_count": 72,
   "id": "c9fc7650-4e99-44f6-a1da-eb07d6600a5c",
   "metadata": {
    "tags": []
   },
   "outputs": [],
   "source": [
    "scaler = StandardScaler()\n",
    "le = LabelEncoder()"
   ]
  },
  {
   "cell_type": "code",
   "execution_count": 73,
   "id": "f9ae57f0-c7d4-4083-ac2f-732376382c4f",
   "metadata": {
    "tags": []
   },
   "outputs": [],
   "source": [
    "X = gme_wr_v[['mean_return','volatility']].values\n",
    "y = gme_wr_v[['Labels']].values\n",
    "\n",
    "y = 1 - le.fit_transform(np.ravel(y))\n",
    "X_tr = X[gme_wr_v.Year == 2020]\n",
    "y_tr = y[gme_wr_v.Year == 2020]\n",
    "X_te = X[gme_wr_v.Year == 2021]\n",
    "y_te = y[gme_wr_v.Year == 2021]\n",
    "scaler.fit(X_tr)\n",
    "X_tr = scaler.transform(X_tr)\n",
    "X_te = scaler.transform(X_te)"
   ]
  },
  {
   "cell_type": "code",
   "execution_count": 74,
   "id": "713a839c-1486-4f76-a4a5-1cc43103d5c8",
   "metadata": {
    "tags": []
   },
   "outputs": [
    {
     "data": {
      "text/plain": [
       "array([[-6.06146833e-01,  3.58051924e-01],\n",
       "       [-6.10624617e-01, -6.69587289e-01],\n",
       "       [-8.66732041e-01,  5.14913732e-02],\n",
       "       [-8.20206769e-01, -6.78414362e-01],\n",
       "       [-8.25394446e-01, -1.15741806e+00],\n",
       "       [-2.09808308e-01, -3.42424546e-01],\n",
       "       [ 1.12046096e-01, -7.78722865e-01],\n",
       "       [-1.54272860e-01, -1.03608041e+00],\n",
       "       [-7.85749672e-01, -2.47547503e-01],\n",
       "       [ 3.02188111e-01, -3.17166323e-01],\n",
       "       [ 7.93215393e-01,  1.07186160e+00],\n",
       "       [-1.17482545e+00,  7.11052033e-01],\n",
       "       [ 4.74145953e-01, -2.21890097e-01],\n",
       "       [-2.31218268e+00, -2.50251858e-01],\n",
       "       [ 2.16536962e+00, -4.10914099e-01],\n",
       "       [ 1.35932747e+00,  2.70742659e+00],\n",
       "       [-1.88456921e-01,  1.18962626e+00],\n",
       "       [ 1.25295279e+00,  1.17970393e+00],\n",
       "       [-1.20546005e+00, -2.59476933e-01],\n",
       "       [-1.06757705e+00, -6.36017077e-01],\n",
       "       [-2.13030128e-01, -1.71909294e-01],\n",
       "       [-3.32906423e-01,  3.49946881e-01],\n",
       "       [-5.85465671e-02, -2.91865951e-01],\n",
       "       [ 7.05352527e-01,  1.68125591e+00],\n",
       "       [-3.17494077e-03, -9.19553085e-01],\n",
       "       [-7.95851990e-01, -5.62867748e-01],\n",
       "       [-2.80756617e-01, -9.23305679e-01],\n",
       "       [-1.17631478e-01, -7.19728248e-01],\n",
       "       [-6.77409133e-01, -7.53436120e-01],\n",
       "       [-8.70514872e-02, -7.96040742e-01],\n",
       "       [-2.14395306e-01, -9.94595401e-01],\n",
       "       [ 4.46609021e-02, -9.42131819e-02],\n",
       "       [ 5.44043075e-01, -1.16708408e+00],\n",
       "       [ 1.50216478e-01, -2.37343780e-01],\n",
       "       [ 1.95212750e-01, -8.84037420e-01],\n",
       "       [ 1.90965810e+00,  1.27453651e+00],\n",
       "       [-1.65132724e+00,  2.15701226e-01],\n",
       "       [ 2.39735434e+00,  6.00168891e-01],\n",
       "       [ 2.89573865e-01,  1.72843581e+00],\n",
       "       [-5.35048354e-01, -7.96140319e-01],\n",
       "       [ 1.60997419e+00,  3.92323496e+00],\n",
       "       [ 4.13914292e-01,  1.08662545e-01],\n",
       "       [ 4.75620345e-01, -8.80136130e-01],\n",
       "       [-2.06759736e+00, -5.10722639e-01],\n",
       "       [ 5.24712152e-01, -2.67526146e-01],\n",
       "       [-5.75184592e-01, -4.43404456e-01],\n",
       "       [ 6.35236976e-01, -1.44578447e-01],\n",
       "       [ 1.48871906e+00, -2.10213185e-01],\n",
       "       [ 1.02544456e-01, -4.08110718e-01],\n",
       "       [-1.35956136e+00,  8.32650857e-01],\n",
       "       [ 7.31782376e-01, -1.48757696e-01],\n",
       "       [ 1.74141354e+00,  1.65025589e+00],\n",
       "       [-6.22324194e-01, -3.02581295e-01]])"
      ]
     },
     "execution_count": 74,
     "metadata": {},
     "output_type": "execute_result"
    }
   ],
   "source": [
    "X_tr"
   ]
  },
  {
   "cell_type": "code",
   "execution_count": 75,
   "id": "9e60864a-83c4-448c-86ca-cb0efb7bf797",
   "metadata": {
    "tags": []
   },
   "outputs": [],
   "source": [
    "def vectors_from_p1_P2(a_coords, B_coords):\n",
    "    \"\"\"compute and return an array of vectors from point a to each point in \n",
    "    an array of point coordinates B\"\"\"\n",
    "    return B_coords - a_coords\n",
    "\n",
    "def hyperplane_labeler(point_a, points_B, X, labels):\n",
    "    \"\"\"ARGUMENTS: point_a --> the point for which a label is returned.\n",
    "    points_B --> the nearest neighbors, used to construct hyperplanes.  \n",
    "    X --> the points for which subpaces, pos or negative are determined.\n",
    "    labels --> the mode label of points in the negative subspace is determined\n",
    "    for each point in points_B \n",
    "    RETURN: the mode of the modes (points_B hyperplane-generated labels.) \"\"\"\n",
    "    \n",
    "    vectors_a_B = vectors_from_p1_P2(point_a,points_B)\n",
    "    points_B_labels = []\n",
    "    for point_b,vector in zip(points_B,vectors_a_B):\n",
    "    # get dot product of vectors from a to each b with each vector from point\n",
    "    # b to ech point in X.  \n",
    "        points_B_labels.append(mode(\n",
    "            labels[np.where(\n",
    "            # get points in negative subspace\n",
    "                np.dot(vector,\n",
    "                        vectors_from_p1_P2(point_b,X).T) \n",
    "            # note: dot product of vector with a zero vector is zero, so >= 0\n",
    "                \n",
    "                                <0,True,False)])[0])\n",
    "    return mode(points_B_labels)[0]"
   ]
  },
  {
   "cell_type": "markdown",
   "id": "b7369efb-e5d3-415c-9682-d784b24e4762",
   "metadata": {},
   "source": [
    "To-Do: Graphical representation of hyperplane labeler"
   ]
  },
  {
   "cell_type": "code",
   "execution_count": 76,
   "id": "21c690ce-56ec-437f-a871-a30d90d6a8ba",
   "metadata": {
    "tags": []
   },
   "outputs": [],
   "source": [
    "def hyperplane_accuracies_k(X,y_tr):\n",
    "    accuracies = {}\n",
    "    for k in range(3,12,2):\n",
    "        nn = NearestNeighbors(n_neighbors=k)\n",
    "\n",
    "        nn.fit(X)\n",
    "        nn.kneighbors(return_distance=False)\n",
    "\n",
    "        nn.fit(X)\n",
    "        nn.kneighbors()\n",
    "        neighbors_dict = {i:x for i,x in enumerate(nn.kneighbors(X,\n",
    "                                                    return_distance=False))}\n",
    "        hyper_preds = {}\n",
    "        for i in range(0,X.shape[0]):\n",
    "            hyper_preds[i] = hyperplane_labeler(X[i] #label neighbors w.r.t pt_i\n",
    "                              , X[[True if j in neighbors_dict[i] else False for \n",
    "                              j in range(0,X.shape[0])]], \n",
    "                              # exclude pt_i when determining labels of nn.\n",
    "                              np.delete(X,i,axis=0),np.delete(y_tr,i))\n",
    "            \n",
    "        accuracies[k] = np.round(sum(y_tr==hyper_preds)/len(y_tr),3)\n",
    "    return accuracies"
   ]
  },
  {
   "cell_type": "code",
   "execution_count": 77,
   "id": "5c3c5133-d043-4742-b22b-e602e1276a37",
   "metadata": {
    "tags": []
   },
   "outputs": [
    {
     "data": {
      "text/plain": [
       "{3: 0.0, 5: 0.0, 7: 0.0, 9: 0.0, 11: 0.0}"
      ]
     },
     "execution_count": 77,
     "metadata": {},
     "output_type": "execute_result"
    }
   ],
   "source": [
    "hyperplane_accuracies_k(X_tr,y_tr)"
   ]
  },
  {
   "cell_type": "markdown",
   "id": "1fe6f8ac-b159-4ea6-95c0-4768c2249de3",
   "metadata": {},
   "source": [
    "I am getting quite low accuracies that seem to alternate between .528 and .427.  I will proceed with a k of 5."
   ]
  },
  {
   "cell_type": "code",
   "execution_count": 78,
   "id": "184775c7-84a2-4e26-b778-2a3745dbbd5d",
   "metadata": {
    "tags": []
   },
   "outputs": [
    {
     "data": {
      "text/plain": [
       "(array([[0.27336059, 0.40234814, 0.63167068],\n",
       "        [0.10719514, 0.14740231, 0.20976796],\n",
       "        [0.30981025, 0.40234814, 0.43023557],\n",
       "        [0.11808546, 0.16130539, 0.20976796],\n",
       "        [0.43023373, 0.46348944, 0.47903179],\n",
       "        [0.15948757, 0.17054569, 0.31918478],\n",
       "        [0.13419332, 0.18195889, 0.19984933],\n",
       "        [0.07304598, 0.16945879, 0.19081195],\n",
       "        [0.17244305, 0.2875719 , 0.30981025],\n",
       "        [0.17165959, 0.19658855, 0.21938202],\n",
       "        [0.47221652, 0.61569579, 0.82749289],\n",
       "        [0.22116426, 0.66933134, 0.6873328 ],\n",
       "        [0.06811453, 0.17868243, 0.19658855],\n",
       "        [0.3573052 , 0.80860509, 1.10676108],\n",
       "        [0.70578809, 1.03735516, 1.45736007],\n",
       "        [1.12409949, 1.21684407, 1.24137576],\n",
       "        [0.72029797, 0.85201356, 0.93058086],\n",
       "        [0.47221652, 0.6635172 , 0.67824261],\n",
       "        [0.40099152, 0.41987988, 0.45982382],\n",
       "        [0.25097726, 0.28139889, 0.40099152],\n",
       "        [0.17054569, 0.19558827, 0.26914931],\n",
       "        [0.27336059, 0.53544766, 0.5829539 ],\n",
       "        [0.15948757, 0.19558827, 0.19865338],\n",
       "        [0.41844694, 0.61569579, 0.74257689],\n",
       "        [0.14930028, 0.18195889, 0.19081195],\n",
       "        [0.11808546, 0.21377147, 0.22437695],\n",
       "        [0.09739635, 0.16945879, 0.23177153],\n",
       "        [0.08221151, 0.23028301, 0.2371332 ],\n",
       "        [0.10719514, 0.14862786, 0.16130539],\n",
       "        [0.08221151, 0.14930028, 0.19984933],\n",
       "        [0.07304598, 0.09739635, 0.22415484],\n",
       "        [0.1778436 , 0.22297623, 0.26914931],\n",
       "        [0.29499288, 0.44921933, 0.58090087],\n",
       "        [0.17165959, 0.17729627, 0.1778436 ],\n",
       "        [0.13419332, 0.20154165, 0.28043473],\n",
       "        [0.4116689 , 0.6635172 , 0.83223753],\n",
       "        [0.65160712, 0.68246185, 0.6873328 ],\n",
       "        [0.83223753, 1.03735516, 1.2175127 ],\n",
       "        [0.41844694, 0.72029797, 0.82749289],\n",
       "        [0.14740231, 0.14862786, 0.28431552],\n",
       "        [1.24137576, 2.27677627, 2.41760427],\n",
       "        [0.33599539, 0.33632533, 0.39216591],\n",
       "        [0.28043473, 0.29499288, 0.37745316],\n",
       "        [0.3573052 , 0.83724097, 0.89800064],\n",
       "        [0.06811453, 0.16532354, 0.22799363],\n",
       "        [0.14850355, 0.2289425 , 0.25092943],\n",
       "        [0.09663581, 0.16532354, 0.17868243],\n",
       "        [0.70578809, 0.75942737, 0.8560021 ],\n",
       "        [0.17729627, 0.19865338, 0.21938202],\n",
       "        [0.22116426, 0.68246185, 0.89043674],\n",
       "        [0.09663581, 0.23871326, 0.267815  ],\n",
       "        [0.4116689 , 0.67824261, 1.03652469],\n",
       "        [0.14850355, 0.17244305, 0.31282732]]),\n",
       " array([[21,  2,  8],\n",
       "        [28, 39,  3],\n",
       "        [ 8,  0, 52],\n",
       "        [25, 28,  1],\n",
       "        [28, 39,  3],\n",
       "        [22, 20, 48],\n",
       "        [34, 24, 29],\n",
       "        [30, 26, 24],\n",
       "        [52, 45,  2],\n",
       "        [33, 12, 48],\n",
       "        [17, 23, 38],\n",
       "        [49,  0, 36],\n",
       "        [44, 46,  9],\n",
       "        [43, 36, 18],\n",
       "        [47, 37, 50],\n",
       "        [51, 23, 40],\n",
       "        [38, 21,  0],\n",
       "        [10, 35, 51],\n",
       "        [19,  8,  2],\n",
       "        [ 3, 25, 18],\n",
       "        [ 5, 22, 31],\n",
       "        [ 0, 20, 31],\n",
       "        [ 5, 20, 48],\n",
       "        [38, 10, 17],\n",
       "        [29,  6,  7],\n",
       "        [ 3,  1, 28],\n",
       "        [30,  7, 29],\n",
       "        [29, 24,  6],\n",
       "        [ 1, 39,  3],\n",
       "        [27, 24,  6],\n",
       "        [ 7, 26, 24],\n",
       "        [33, 22, 20],\n",
       "        [42, 34,  6],\n",
       "        [ 9, 48, 31],\n",
       "        [ 6, 24, 42],\n",
       "        [51, 17, 37],\n",
       "        [18, 49, 11],\n",
       "        [35, 14, 47],\n",
       "        [23, 16, 10],\n",
       "        [ 1, 28, 26],\n",
       "        [15, 51, 23],\n",
       "        [12, 46, 44],\n",
       "        [34, 32,  6],\n",
       "        [13, 36, 18],\n",
       "        [12, 46,  9],\n",
       "        [52,  1, 25],\n",
       "        [50, 44, 12],\n",
       "        [14, 50, 46],\n",
       "        [33, 22,  9],\n",
       "        [11, 36,  0],\n",
       "        [46, 44, 12],\n",
       "        [35, 17, 23],\n",
       "        [45,  8, 25]]))"
      ]
     },
     "execution_count": 78,
     "metadata": {},
     "output_type": "execute_result"
    }
   ],
   "source": [
    "nn = NearestNeighbors(n_neighbors=3)\n",
    "nn.fit(X_tr)\n",
    "nn.kneighbors()"
   ]
  },
  {
   "cell_type": "code",
   "execution_count": 79,
   "id": "f1217ad2-0463-4a75-bece-675b688dc334",
   "metadata": {},
   "outputs": [],
   "source": [
    "def hyperplane_test_set_labeler(X_tr,y_tr,X_te):\n",
    "    nn = NearestNeighbors(n_neighbors=3)\n",
    "    nn.fit(X_tr)\n",
    "\n",
    "    nn.kneighbors(X_tr,return_distance=False)\n",
    "\n",
    "    nn.fit(X_tr)\n",
    "    nn.kneighbors(X_tr)\n",
    "    neighbors_dict = {x[0]:x[1:] for x in nn.kneighbors(X_tr,\n",
    "                                                return_distance=False)}\n",
    "\n",
    "\n",
    "    hyper_preds = hyperplane_labeler(X_tr[1],X_tr[[True if i in \n",
    "                                    neighbors_dict[1] else False for \n",
    "                                     i in range(0,X_tr.shape[0])]],\n",
    "                       np.delete(X_tr,1,axis=0),np.delete(y_tr,1))\n",
    "\n",
    "    accuracies[k] = np.round(sum(y_tr==hyper_preds)/len(y_tr),3)\n",
    "    return accuracies"
   ]
  },
  {
   "cell_type": "markdown",
   "id": "fca5e4f5-0d6b-471d-a860-17da566be599",
   "metadata": {
    "jp-MarkdownHeadingCollapsed": true,
    "tags": []
   },
   "source": [
    "###### Junk"
   ]
  },
  {
   "cell_type": "markdown",
   "id": "0ac80c01-112f-4c30-a8a0-3efa99460f20",
   "metadata": {
    "tags": []
   },
   "source": [
    "labs = []\n",
    "for i in range (0,X_tr.shape[0]):\n",
    "    \n",
    "    neighbors = [True if n in neighbors_dict[i]  else False \n",
    "                    for n in range(0,X_tr.shape[0])]\n",
    "    print(f'\\\n",
    "{hyperplane_labeler(X_tr[i],X_tr[neighbors], np.delete(X_tr,i,axis=0),np.delete(y_tr,i))}\\\n",
    "')"
   ]
  },
  {
   "cell_type": "markdown",
   "id": "363b0785-a6dd-49da-8f26-10c5527a8bf0",
   "metadata": {
    "tags": []
   },
   "source": [
    "X_tr[0]"
   ]
  },
  {
   "cell_type": "markdown",
   "id": "20d07f01-6e4c-4ff6-988c-a15cd488f883",
   "metadata": {},
   "source": [
    "hyperplane_labeler()"
   ]
  },
  {
   "cell_type": "markdown",
   "id": "4640e6c4-453d-491c-aeaa-3862decfd89b",
   "metadata": {
    "tags": []
   },
   "source": [
    "accuracies={}\n",
    "for k in range(3,12,2):\n",
    "    knn = KNeighborsClassifier(n_neighbors=k)\n",
    "    knn.fit(X_tr,y_tr)\n",
    "    knn.fit(X_tr,knn.predict(X_tr))\n",
    "    predictions = knn.predict(X_tr)\n",
    "    accuracies[k] = np.round(knn.score(X_tr,y_tr),3)"
   ]
  },
  {
   "cell_type": "markdown",
   "id": "0af5813c-c9cb-42a6-a17b-0ad5481df814",
   "metadata": {
    "tags": []
   },
   "source": [
    "accuracies"
   ]
  },
  {
   "cell_type": "markdown",
   "id": "e1b03e15-e704-48cf-aca9-b591dd0c2106",
   "metadata": {},
   "source": [
    "There is not an improvement over regular knn.  There is slighly lower accuracy and return on $1000"
   ]
  }
 ],
 "metadata": {
  "kernelspec": {
   "display_name": "Python 3 (ipykernel)",
   "language": "python",
   "name": "python3"
  },
  "language_info": {
   "codemirror_mode": {
    "name": "ipython",
    "version": 3
   },
   "file_extension": ".py",
   "mimetype": "text/x-python",
   "name": "python",
   "nbconvert_exporter": "python",
   "pygments_lexer": "ipython3",
   "version": "3.9.18"
  }
 },
 "nbformat": 4,
 "nbformat_minor": 5
}
