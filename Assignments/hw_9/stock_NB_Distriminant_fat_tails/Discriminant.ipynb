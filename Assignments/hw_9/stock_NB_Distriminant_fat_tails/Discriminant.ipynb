{
 "cells": [
  {
   "cell_type": "code",
   "execution_count": 1,
   "id": "954ca3e8-53e5-4f3b-969f-6fdb63ebf709",
   "metadata": {},
   "outputs": [],
   "source": [
    "from functions import *\n",
    "from sklearn.discriminant_analysis import LinearDiscriminantAnalysis, \\\n",
    "QuadraticDiscriminantAnalysis\n",
    "import numpy as np\n",
    "from sklearn.metrics import accuracy_score\n",
    "from sklearn.metrics import confusion_matrix, ConfusionMatrixDisplay\n",
    "import matplotlib.pyplot as plt\n",
    "import seaborn as sns"
   ]
  },
  {
   "cell_type": "markdown",
   "id": "f5a62415-9e8f-4d9c-9843-91ccc4bc296d",
   "metadata": {},
   "source": [
    "#### GME"
   ]
  },
  {
   "cell_type": "code",
   "execution_count": 2,
   "id": "e3bbe520-b754-4a31-82c2-cd6a64ff019b",
   "metadata": {},
   "outputs": [],
   "source": [
    "stock = 'gme'"
   ]
  },
  {
   "cell_type": "code",
   "execution_count": 3,
   "id": "150db182-7f11-4f6f-80da-5843982b7e54",
   "metadata": {},
   "outputs": [],
   "source": [
    "stock_data = data_loading_processing(stock)[2]"
   ]
  },
  {
   "cell_type": "code",
   "execution_count": 4,
   "id": "6d0e14c2-dcf4-4d18-8c99-caf9a0e4ad61",
   "metadata": {},
   "outputs": [],
   "source": [
    "train_X = stock_data.loc[stock_data.Year == 2020,['mean_return','volatility']]\n",
    "test_X = stock_data.loc[stock_data.Year == 2021,['mean_return','volatility']]\n",
    "train_y = np.ravel(stock_data.loc[stock_data.Year == 2020,['Label']].values)\n",
    "test_y = np.ravel(stock_data.loc[stock_data.Year == 2021,['Label']].values)"
   ]
  },
  {
   "cell_type": "code",
   "execution_count": 5,
   "id": "b1e148f9-cf25-4372-991c-9f14055b73b6",
   "metadata": {},
   "outputs": [],
   "source": [
    "qda = QuadraticDiscriminantAnalysis(store_covariance=True)\n",
    "lda = LinearDiscriminantAnalysis(store_covariance=True)"
   ]
  },
  {
   "cell_type": "code",
   "execution_count": 6,
   "id": "c64b2c8a-93c9-4105-ab3a-f884be4ac5e1",
   "metadata": {},
   "outputs": [
    {
     "data": {
      "text/plain": [
       "(array([0.43428967]),\n",
       " array([[-0.6935597 , -0.02651876]]),\n",
       " array([[ 3.10585179,  7.251883  ],\n",
       "        [-1.986014  ,  4.76083117]]))"
      ]
     },
     "execution_count": 6,
     "metadata": {},
     "output_type": "execute_result"
    }
   ],
   "source": [
    "lda.fit(train_X,train_y)\n",
    "lda.intercept_, lda.coef_, lda.means_"
   ]
  },
  {
   "cell_type": "markdown",
   "id": "f8d4fa7d-07da-4e4b-b605-270db8815098",
   "metadata": {},
   "source": [
    "###### Verification of the meaning of sklearn discriminant analysis attributes.  "
   ]
  },
  {
   "cell_type": "code",
   "execution_count": 7,
   "id": "af56b471-e81a-4a1c-8aa4-a3a9cb8f72f9",
   "metadata": {},
   "outputs": [],
   "source": [
    "red_train = stock_data[(stock_data.Label == 'Red') & (stock_data.Year == 2020)]\n",
    "green_train = stock_data[(stock_data.Label == 'Green') & (stock_data.Year == 2020)]\n"
   ]
  },
  {
   "cell_type": "code",
   "execution_count": 8,
   "id": "70847a8f-41a8-429e-97be-6a8ada9d6291",
   "metadata": {},
   "outputs": [],
   "source": [
    "features = ['mean_return','volatility']"
   ]
  },
  {
   "cell_type": "code",
   "execution_count": 9,
   "id": "44adecda-d4d2-4857-83f7-b3d75031bb57",
   "metadata": {},
   "outputs": [],
   "source": [
    "r_cov = red_train.loc[:,['mean_return','volatility']].cov().values"
   ]
  },
  {
   "cell_type": "code",
   "execution_count": 10,
   "id": "b64dd0e7-40aa-44b0-b8ad-a8353a554f7f",
   "metadata": {},
   "outputs": [],
   "source": [
    "g_cov = green_train.loc[:,['mean_return','volatility']].cov().values"
   ]
  },
  {
   "cell_type": "code",
   "execution_count": 11,
   "id": "8eec5f83-efbb-4092-bcdb-1a31bd2a02ab",
   "metadata": {},
   "outputs": [
    {
     "data": {
      "text/html": [
       "<div>\n",
       "<style scoped>\n",
       "    .dataframe tbody tr th:only-of-type {\n",
       "        vertical-align: middle;\n",
       "    }\n",
       "\n",
       "    .dataframe tbody tr th {\n",
       "        vertical-align: top;\n",
       "    }\n",
       "\n",
       "    .dataframe thead th {\n",
       "        text-align: right;\n",
       "    }\n",
       "</style>\n",
       "<table border=\"1\" class=\"dataframe\">\n",
       "  <thead>\n",
       "    <tr style=\"text-align: right;\">\n",
       "      <th></th>\n",
       "      <th>mean_return</th>\n",
       "      <th>volatility</th>\n",
       "    </tr>\n",
       "  </thead>\n",
       "  <tbody>\n",
       "    <tr>\n",
       "      <th>mean_return</th>\n",
       "      <td>13.672057</td>\n",
       "      <td>6.194118</td>\n",
       "    </tr>\n",
       "    <tr>\n",
       "      <th>volatility</th>\n",
       "      <td>6.194118</td>\n",
       "      <td>15.964541</td>\n",
       "    </tr>\n",
       "  </tbody>\n",
       "</table>\n",
       "</div>"
      ],
      "text/plain": [
       "             mean_return  volatility\n",
       "mean_return    13.672057    6.194118\n",
       "volatility      6.194118   15.964541"
      ]
     },
     "execution_count": 11,
     "metadata": {},
     "output_type": "execute_result"
    }
   ],
   "source": [
    "train_X.cov()"
   ]
  },
  {
   "cell_type": "markdown",
   "id": "85725578-db6b-4466-a87f-e3b724ca631d",
   "metadata": {},
   "source": [
    "qda.covariance_ correspond to the "
   ]
  },
  {
   "cell_type": "code",
   "execution_count": 12,
   "id": "a61b6446-e156-4434-b8eb-f5eea1aca065",
   "metadata": {},
   "outputs": [
    {
     "data": {
      "text/plain": [
       "(array([[ 9.05321199,  6.30429963],\n",
       "        [ 6.30429963, 23.2240902 ]]),\n",
       " array([[ 5.16987056, -0.65199185],\n",
       "        [-0.65199185,  5.04784942]]))"
      ]
     },
     "execution_count": 12,
     "metadata": {},
     "output_type": "execute_result"
    }
   ],
   "source": [
    "(g_cov,r_cov)"
   ]
  },
  {
   "cell_type": "markdown",
   "id": "6ac6efc2-cd88-4c1c-b311-790a96ba4d4a",
   "metadata": {},
   "source": []
  },
  {
   "cell_type": "markdown",
   "id": "d31d062e-4828-4e9e-a0ce-1dd48130738c",
   "metadata": {},
   "source": [
    "lda.covariance_ corresponds to the weighted biased covariance estimates"
   ]
  },
  {
   "cell_type": "code",
   "execution_count": 13,
   "id": "20b5ca5f-6003-4675-b72b-d0e9562456ce",
   "metadata": {},
   "outputs": [
    {
     "data": {
      "text/plain": [
       "True"
      ]
     },
     "execution_count": 13,
     "metadata": {},
     "output_type": "execute_result"
    }
   ],
   "source": [
    "np.allclose(lda.priors_[0]*g_cov*(green_train.shape[0]-1)/(green_train.shape[0]) + \\\n",
    "lda.priors_[1]*r_cov*(red_train.shape[0]-1)/(red_train.shape[0]) ,lda.covariance_)"
   ]
  },
  {
   "cell_type": "markdown",
   "id": "9c9f8c18-f4df-4378-bc1d-69dc04fae7d1",
   "metadata": {},
   "source": [
    "lda.priors_ corresponds to the prior probability of each class."
   ]
  },
  {
   "cell_type": "code",
   "execution_count": 14,
   "id": "087b48e2-6be4-4a76-8c9d-49a3993ff90e",
   "metadata": {},
   "outputs": [
    {
     "data": {
      "text/plain": [
       "array([0.52830189, 0.47169811])"
      ]
     },
     "execution_count": 14,
     "metadata": {},
     "output_type": "execute_result"
    }
   ],
   "source": [
    "lda.priors_ "
   ]
  },
  {
   "cell_type": "code",
   "execution_count": 15,
   "id": "2e4c7a8a-06d0-4835-9242-f806ced0c5e2",
   "metadata": {},
   "outputs": [],
   "source": [
    "def decision_function_explicit(X, means,cov,priors):\n",
    "    \"\"\"cov entries will be the same for lda\"\"\"\n",
    "    preds = []\n",
    "    posteriors = []\n",
    "    for x in X.values:\n",
    "        posterior_green = -1/2*(np.subtract(x,means[0]) @ np.linalg.inv(cov[0])\\\n",
    "          @ (x-means[0])) + np.log(priors[0])-1/2*np.log(np.linalg.det(cov[0]))\n",
    "        posterior_red = -1/2*((x-means[1]) @ np.linalg.inv(cov[1]) @ \\\n",
    "            (x-means[1])) + np.log(priors[1])-1/2*np.log(np.linalg.det(cov[1]))\n",
    "        if posterior_green >= posterior_red:\n",
    "            preds.append('Green')\n",
    "        else:\n",
    "            preds.append('Red')\n",
    "        posteriors.append((posterior_green,posterior_red))\n",
    "    return preds,posteriors"
   ]
  },
  {
   "cell_type": "code",
   "execution_count": 16,
   "id": "11011cf6-5cf8-4615-aeda-b730a43b645c",
   "metadata": {},
   "outputs": [],
   "source": [
    "cov_lda = [lda.covariance_,lda.covariance_]"
   ]
  },
  {
   "cell_type": "code",
   "execution_count": 17,
   "id": "1c33275b-aa40-4e1e-a748-63e4c654d3e7",
   "metadata": {
    "scrolled": true
   },
   "outputs": [],
   "source": [
    "preds = decision_function_explicit(test_X,lda.means_,cov_lda,\n",
    "                                 lda.priors_)\n",
    "# == lda.predict(test_X)"
   ]
  },
  {
   "cell_type": "code",
   "execution_count": 18,
   "id": "931f95c8-31f4-484b-a4cc-c8fec4a67d55",
   "metadata": {},
   "outputs": [
    {
     "data": {
      "text/plain": [
       "array([ True,  True,  True,  True,  True,  True,  True,  True,  True,\n",
       "        True,  True,  True,  True,  True,  True,  True,  True,  True,\n",
       "        True,  True,  True,  True,  True,  True,  True,  True,  True,\n",
       "        True,  True,  True,  True,  True,  True,  True,  True,  True,\n",
       "        True,  True,  True,  True,  True,  True,  True,  True,  True,\n",
       "        True,  True,  True,  True,  True,  True,  True])"
      ]
     },
     "execution_count": 18,
     "metadata": {},
     "output_type": "execute_result"
    }
   ],
   "source": [
    "lda.predict(test_X) == preds[0]"
   ]
  },
  {
   "cell_type": "code",
   "execution_count": 19,
   "id": "862ee242-4363-4443-b44c-fa8a31acc779",
   "metadata": {},
   "outputs": [],
   "source": [
    "x_experimental = \\\n",
    "    np.array([[r1*10*(r2*2-1),r3*10*(r4*2-1)] \\\n",
    "                for r1,r2, r3, r4 \\\n",
    "                in zip(np.random.random(1000),np.random.random(1000),\n",
    "                      np.random.random(1000),np.random.random(1000))])"
   ]
  },
  {
   "cell_type": "code",
   "execution_count": 20,
   "id": "b47d07f2-c7e4-4a9c-a6bc-9b419201095e",
   "metadata": {},
   "outputs": [
    {
     "data": {
      "text/html": [
       "<style>#sk-container-id-1 {color: black;}#sk-container-id-1 pre{padding: 0;}#sk-container-id-1 div.sk-toggleable {background-color: white;}#sk-container-id-1 label.sk-toggleable__label {cursor: pointer;display: block;width: 100%;margin-bottom: 0;padding: 0.3em;box-sizing: border-box;text-align: center;}#sk-container-id-1 label.sk-toggleable__label-arrow:before {content: \"▸\";float: left;margin-right: 0.25em;color: #696969;}#sk-container-id-1 label.sk-toggleable__label-arrow:hover:before {color: black;}#sk-container-id-1 div.sk-estimator:hover label.sk-toggleable__label-arrow:before {color: black;}#sk-container-id-1 div.sk-toggleable__content {max-height: 0;max-width: 0;overflow: hidden;text-align: left;background-color: #f0f8ff;}#sk-container-id-1 div.sk-toggleable__content pre {margin: 0.2em;color: black;border-radius: 0.25em;background-color: #f0f8ff;}#sk-container-id-1 input.sk-toggleable__control:checked~div.sk-toggleable__content {max-height: 200px;max-width: 100%;overflow: auto;}#sk-container-id-1 input.sk-toggleable__control:checked~label.sk-toggleable__label-arrow:before {content: \"▾\";}#sk-container-id-1 div.sk-estimator input.sk-toggleable__control:checked~label.sk-toggleable__label {background-color: #d4ebff;}#sk-container-id-1 div.sk-label input.sk-toggleable__control:checked~label.sk-toggleable__label {background-color: #d4ebff;}#sk-container-id-1 input.sk-hidden--visually {border: 0;clip: rect(1px 1px 1px 1px);clip: rect(1px, 1px, 1px, 1px);height: 1px;margin: -1px;overflow: hidden;padding: 0;position: absolute;width: 1px;}#sk-container-id-1 div.sk-estimator {font-family: monospace;background-color: #f0f8ff;border: 1px dotted black;border-radius: 0.25em;box-sizing: border-box;margin-bottom: 0.5em;}#sk-container-id-1 div.sk-estimator:hover {background-color: #d4ebff;}#sk-container-id-1 div.sk-parallel-item::after {content: \"\";width: 100%;border-bottom: 1px solid gray;flex-grow: 1;}#sk-container-id-1 div.sk-label:hover label.sk-toggleable__label {background-color: #d4ebff;}#sk-container-id-1 div.sk-serial::before {content: \"\";position: absolute;border-left: 1px solid gray;box-sizing: border-box;top: 0;bottom: 0;left: 50%;z-index: 0;}#sk-container-id-1 div.sk-serial {display: flex;flex-direction: column;align-items: center;background-color: white;padding-right: 0.2em;padding-left: 0.2em;position: relative;}#sk-container-id-1 div.sk-item {position: relative;z-index: 1;}#sk-container-id-1 div.sk-parallel {display: flex;align-items: stretch;justify-content: center;background-color: white;position: relative;}#sk-container-id-1 div.sk-item::before, #sk-container-id-1 div.sk-parallel-item::before {content: \"\";position: absolute;border-left: 1px solid gray;box-sizing: border-box;top: 0;bottom: 0;left: 50%;z-index: -1;}#sk-container-id-1 div.sk-parallel-item {display: flex;flex-direction: column;z-index: 1;position: relative;background-color: white;}#sk-container-id-1 div.sk-parallel-item:first-child::after {align-self: flex-end;width: 50%;}#sk-container-id-1 div.sk-parallel-item:last-child::after {align-self: flex-start;width: 50%;}#sk-container-id-1 div.sk-parallel-item:only-child::after {width: 0;}#sk-container-id-1 div.sk-dashed-wrapped {border: 1px dashed gray;margin: 0 0.4em 0.5em 0.4em;box-sizing: border-box;padding-bottom: 0.4em;background-color: white;}#sk-container-id-1 div.sk-label label {font-family: monospace;font-weight: bold;display: inline-block;line-height: 1.2em;}#sk-container-id-1 div.sk-label-container {text-align: center;}#sk-container-id-1 div.sk-container {/* jupyter's `normalize.less` sets `[hidden] { display: none; }` but bootstrap.min.css set `[hidden] { display: none !important; }` so we also need the `!important` here to be able to override the default hidden behavior on the sphinx rendered scikit-learn.org. See: https://github.com/scikit-learn/scikit-learn/issues/21755 */display: inline-block !important;position: relative;}#sk-container-id-1 div.sk-text-repr-fallback {display: none;}</style><div id=\"sk-container-id-1\" class=\"sk-top-container\"><div class=\"sk-text-repr-fallback\"><pre>QuadraticDiscriminantAnalysis(store_covariance=True)</pre><b>In a Jupyter environment, please rerun this cell to show the HTML representation or trust the notebook. <br />On GitHub, the HTML representation is unable to render, please try loading this page with nbviewer.org.</b></div><div class=\"sk-container\" hidden><div class=\"sk-item\"><div class=\"sk-estimator sk-toggleable\"><input class=\"sk-toggleable__control sk-hidden--visually\" id=\"sk-estimator-id-1\" type=\"checkbox\" checked><label for=\"sk-estimator-id-1\" class=\"sk-toggleable__label sk-toggleable__label-arrow\">QuadraticDiscriminantAnalysis</label><div class=\"sk-toggleable__content\"><pre>QuadraticDiscriminantAnalysis(store_covariance=True)</pre></div></div></div></div></div>"
      ],
      "text/plain": [
       "QuadraticDiscriminantAnalysis(store_covariance=True)"
      ]
     },
     "execution_count": 20,
     "metadata": {},
     "output_type": "execute_result"
    }
   ],
   "source": [
    "qda.fit(train_X,train_y)"
   ]
  },
  {
   "cell_type": "code",
   "execution_count": 21,
   "id": "b9a7062d-68ca-4d2e-a46b-1f126f0aaf22",
   "metadata": {},
   "outputs": [
    {
     "name": "stderr",
     "output_type": "stream",
     "text": [
      "/Users/williammohr/opt/anaconda3/lib/python3.9/site-packages/sklearn/base.py:464: UserWarning: X does not have valid feature names, but LinearDiscriminantAnalysis was fitted with feature names\n",
      "  warnings.warn(\n"
     ]
    },
    {
     "data": {
      "text/plain": [
       "0.999"
      ]
     },
     "execution_count": 21,
     "metadata": {},
     "output_type": "execute_result"
    }
   ],
   "source": [
    "np.mean(decision_function_explicit(pd.DataFrame(x_experimental),lda.means_,cov_lda,\n",
    "                                 lda.priors_)[0] == lda.predict(x_experimental))"
   ]
  },
  {
   "cell_type": "markdown",
   "id": "81c0d218-a2e6-4a79-8eeb-030bdd5f700d",
   "metadata": {},
   "source": [
    "On 1000 tries there is ~ one or two predictions based on lda attributes that is different from the lda generated predictions, depending on the random seed."
   ]
  },
  {
   "cell_type": "code",
   "execution_count": 22,
   "id": "a2d58159-5dc6-4b61-94bd-f7a87412ebd9",
   "metadata": {},
   "outputs": [
    {
     "name": "stderr",
     "output_type": "stream",
     "text": [
      "/Users/williammohr/opt/anaconda3/lib/python3.9/site-packages/sklearn/base.py:464: UserWarning: X does not have valid feature names, but QuadraticDiscriminantAnalysis was fitted with feature names\n",
      "  warnings.warn(\n"
     ]
    },
    {
     "data": {
      "text/plain": [
       "1.0"
      ]
     },
     "execution_count": 22,
     "metadata": {},
     "output_type": "execute_result"
    }
   ],
   "source": [
    "np.mean(decision_function_explicit(pd.DataFrame(x_experimental),qda.means_,qda.covariance_,\n",
    "                                 qda.priors_)[0] == qda.predict(x_experimental))"
   ]
  },
  {
   "cell_type": "code",
   "execution_count": 23,
   "id": "149055cf-b354-4c28-a2ea-88829eed8c73",
   "metadata": {},
   "outputs": [
    {
     "data": {
      "text/plain": [
       "[array([[ 9.05321199,  6.30429963],\n",
       "        [ 6.30429963, 23.2240902 ]]),\n",
       " array([[ 5.16987056, -0.65199185],\n",
       "        [-0.65199185,  5.04784942]])]"
      ]
     },
     "execution_count": 23,
     "metadata": {},
     "output_type": "execute_result"
    }
   ],
   "source": [
    "qda.covariance_"
   ]
  },
  {
   "cell_type": "code",
   "execution_count": 24,
   "id": "b33171e6-a25a-446f-8cd0-5febc83de275",
   "metadata": {},
   "outputs": [
    {
     "name": "stderr",
     "output_type": "stream",
     "text": [
      "/Users/williammohr/opt/anaconda3/lib/python3.9/site-packages/sklearn/base.py:464: UserWarning: X does not have valid feature names, but QuadraticDiscriminantAnalysis was fitted with feature names\n",
      "  warnings.warn(\n"
     ]
    },
    {
     "data": {
      "text/plain": [
       "array([], shape=(0, 2), dtype=float64)"
      ]
     },
     "execution_count": 24,
     "metadata": {},
     "output_type": "execute_result"
    }
   ],
   "source": [
    "x_experimental[np.where(qda.predict(x_experimental) != \n",
    "decision_function_explicit(pd.DataFrame(x_experimental),\n",
    "                           qda.means_,qda.covariance_,\n",
    "                                 qda.priors_)[0],True,False)]"
   ]
  },
  {
   "cell_type": "markdown",
   "id": "857cdd1d-9485-46de-a4f3-7e932f45f581",
   "metadata": {},
   "source": [
    "Below we see that lda.coeff_ @ features + lda.intercept_ gives the log odds that the features correspond to class 'Red'."
   ]
  },
  {
   "cell_type": "code",
   "execution_count": 25,
   "id": "abba24d5-dc91-4aeb-8488-abe818d9e192",
   "metadata": {},
   "outputs": [
    {
     "name": "stderr",
     "output_type": "stream",
     "text": [
      "/Users/williammohr/opt/anaconda3/lib/python3.9/site-packages/sklearn/base.py:464: UserWarning: X does not have valid feature names, but LinearDiscriminantAnalysis was fitted with feature names\n",
      "  warnings.warn(\n"
     ]
    },
    {
     "data": {
      "text/plain": [
       "1.0"
      ]
     },
     "execution_count": 25,
     "metadata": {},
     "output_type": "execute_result"
    }
   ],
   "source": [
    "np.mean(np.where(np.array([lda.coef_ @ x + lda.intercept_ for x in x_experimental]).flatten()>0,\n",
    "        'Red','Green') == lda.predict(x_experimental))"
   ]
  },
  {
   "cell_type": "markdown",
   "id": "4d2c0612-8036-4e1f-84e8-82735d4a8b47",
   "metadata": {},
   "source": [
    "lda.means_ corresponds to the means of the features for the respective classes"
   ]
  },
  {
   "cell_type": "code",
   "execution_count": 26,
   "id": "e9e28ed5-d219-4f78-9763-004dba0bea73",
   "metadata": {},
   "outputs": [
    {
     "data": {
      "text/plain": [
       "array([[ 3.10585179,  7.251883  ],\n",
       "       [-1.986014  ,  4.76083117]])"
      ]
     },
     "execution_count": 26,
     "metadata": {},
     "output_type": "execute_result"
    }
   ],
   "source": [
    "lda.means_"
   ]
  },
  {
   "cell_type": "code",
   "execution_count": 27,
   "id": "a1cde55e-34cf-4bd1-bf38-4b2ac451f82f",
   "metadata": {},
   "outputs": [
    {
     "data": {
      "text/plain": [
       "(-1.9860140000000002, 4.760831174875219)"
      ]
     },
     "execution_count": 27,
     "metadata": {},
     "output_type": "execute_result"
    }
   ],
   "source": [
    "red_train.mean_return.mean(), red_train.volatility.mean()"
   ]
  },
  {
   "cell_type": "code",
   "execution_count": 28,
   "id": "78ed8db0-d1b3-4eb9-9137-105f6a558eae",
   "metadata": {},
   "outputs": [
    {
     "data": {
      "text/plain": [
       "(3.105851785714285, 7.2518829997933265)"
      ]
     },
     "execution_count": 28,
     "metadata": {},
     "output_type": "execute_result"
    }
   ],
   "source": [
    "green_train.mean_return.mean(), green_train.volatility.mean()"
   ]
  },
  {
   "cell_type": "markdown",
   "id": "3652933b-ff87-497f-95b8-8dba041a734b",
   "metadata": {},
   "source": [
    "##### Accuracy"
   ]
  },
  {
   "cell_type": "code",
   "execution_count": 29,
   "id": "4081c023-a63a-4ae7-b3e6-5cc511b08423",
   "metadata": {},
   "outputs": [],
   "source": [
    "preds_linear = lda.predict(test_X)\n",
    "preds_quad = qda.predict(test_X)"
   ]
  },
  {
   "cell_type": "code",
   "execution_count": 30,
   "id": "ef99e3de-ecfc-40b9-91cd-f7782c575b37",
   "metadata": {},
   "outputs": [
    {
     "data": {
      "text/plain": [
       "0.9038461538461539"
      ]
     },
     "execution_count": 30,
     "metadata": {},
     "output_type": "execute_result"
    }
   ],
   "source": [
    "accuracy_score(test_y,preds_linear)"
   ]
  },
  {
   "cell_type": "code",
   "execution_count": 31,
   "id": "85024372-7f42-4543-9480-9252f1533227",
   "metadata": {},
   "outputs": [
    {
     "data": {
      "text/plain": [
       "0.8076923076923077"
      ]
     },
     "execution_count": 31,
     "metadata": {},
     "output_type": "execute_result"
    }
   ],
   "source": [
    "accuracy_score(test_y,preds_quad)"
   ]
  },
  {
   "cell_type": "markdown",
   "id": "a28cc92d-2497-4c30-81e6-a04b9b14bdf8",
   "metadata": {},
   "source": [
    "LDA gives better accuracy"
   ]
  },
  {
   "cell_type": "markdown",
   "id": "1263790c-54e4-4738-95b7-ceac007554d8",
   "metadata": {},
   "source": [
    "##### Confusion Matrix"
   ]
  },
  {
   "cell_type": "code",
   "execution_count": 32,
   "id": "2255b982-dd37-4434-83eb-bf773f1800d3",
   "metadata": {},
   "outputs": [],
   "source": [
    "cm_linear = confusion_matrix(test_y,preds_linear)\n",
    "cm_quad = confusion_matrix(test_y,preds_quad)"
   ]
  },
  {
   "cell_type": "code",
   "execution_count": 33,
   "id": "df576d13-b060-4c95-9727-d9eb87b992d3",
   "metadata": {
    "scrolled": true
   },
   "outputs": [
    {
     "data": {
      "text/plain": [
       "(array([[17,  1],\n",
       "        [ 4, 30]]),\n",
       " array([[16,  2],\n",
       "        [ 8, 26]]))"
      ]
     },
     "execution_count": 33,
     "metadata": {},
     "output_type": "execute_result"
    }
   ],
   "source": [
    "(cm_linear, cm_quad)"
   ]
  },
  {
   "cell_type": "code",
   "execution_count": 34,
   "id": "2fc64784-d85a-4538-b595-b66860cf19d9",
   "metadata": {},
   "outputs": [
    {
     "data": {
      "text/plain": [
       "(0.88, 0.94)"
      ]
     },
     "execution_count": 34,
     "metadata": {},
     "output_type": "execute_result"
    }
   ],
   "source": [
    "tpr(cm_linear), tnr(cm_linear)"
   ]
  },
  {
   "cell_type": "code",
   "execution_count": 35,
   "id": "864e9371-109b-4937-b0a2-dc6c17aedd92",
   "metadata": {},
   "outputs": [
    {
     "data": {
      "text/plain": [
       "(0.76, 0.89)"
      ]
     },
     "execution_count": 35,
     "metadata": {},
     "output_type": "execute_result"
    }
   ],
   "source": [
    "tpr(cm_quad), tnr(cm_quad)"
   ]
  },
  {
   "cell_type": "code",
   "execution_count": 36,
   "id": "6b368a51-ff62-4e68-bb4d-3a493884ed31",
   "metadata": {},
   "outputs": [
    {
     "data": {
      "text/plain": [
       "49767.72"
      ]
     },
     "execution_count": 36,
     "metadata": {},
     "output_type": "execute_result"
    }
   ],
   "source": [
    "preds_linear = np.where(preds_linear == 'Green', 1, 0)\n",
    "trade_labels(stock_data,2021,preds_linear)"
   ]
  },
  {
   "cell_type": "code",
   "execution_count": 37,
   "id": "8e36a360-723b-4f64-bcef-25ed52517351",
   "metadata": {},
   "outputs": [
    {
     "data": {
      "text/plain": [
       "8032.21"
      ]
     },
     "execution_count": 37,
     "metadata": {},
     "output_type": "execute_result"
    }
   ],
   "source": [
    "preds_quad = np.where(preds_quad == 'Green', 1, 0)\n",
    "trade_labels(stock_data,2021,preds_quad)"
   ]
  },
  {
   "cell_type": "code",
   "execution_count": 38,
   "id": "f2cf99e6-d600-4951-9a11-3ddb7327bd56",
   "metadata": {},
   "outputs": [
    {
     "data": {
      "text/html": [
       "<div>\n",
       "<style scoped>\n",
       "    .dataframe tbody tr th:only-of-type {\n",
       "        vertical-align: middle;\n",
       "    }\n",
       "\n",
       "    .dataframe tbody tr th {\n",
       "        vertical-align: top;\n",
       "    }\n",
       "\n",
       "    .dataframe thead th {\n",
       "        text-align: right;\n",
       "    }\n",
       "</style>\n",
       "<table border=\"1\" class=\"dataframe\">\n",
       "  <thead>\n",
       "    <tr style=\"text-align: right;\">\n",
       "      <th></th>\n",
       "      <th>Year</th>\n",
       "      <th>Year_Week</th>\n",
       "      <th>Begin_Price</th>\n",
       "      <th>Adj Close</th>\n",
       "      <th>Return</th>\n",
       "      <th>Label</th>\n",
       "      <th>Week_Number</th>\n",
       "      <th>mean_return</th>\n",
       "      <th>volatility</th>\n",
       "    </tr>\n",
       "  </thead>\n",
       "  <tbody>\n",
       "    <tr>\n",
       "      <th>0</th>\n",
       "      <td>2017</td>\n",
       "      <td>2017-01</td>\n",
       "      <td>6.36</td>\n",
       "      <td>4.99</td>\n",
       "      <td>0.784591</td>\n",
       "      <td>NoLabel</td>\n",
       "      <td>1</td>\n",
       "      <td>-0.82525</td>\n",
       "      <td>2.466974</td>\n",
       "    </tr>\n",
       "    <tr>\n",
       "      <th>1</th>\n",
       "      <td>2017</td>\n",
       "      <td>2017-02</td>\n",
       "      <td>4.99</td>\n",
       "      <td>4.62</td>\n",
       "      <td>0.925852</td>\n",
       "      <td>NoLabel</td>\n",
       "      <td>2</td>\n",
       "      <td>-1.44700</td>\n",
       "      <td>3.705994</td>\n",
       "    </tr>\n",
       "    <tr>\n",
       "      <th>2</th>\n",
       "      <td>2017</td>\n",
       "      <td>2017-03</td>\n",
       "      <td>4.62</td>\n",
       "      <td>4.79</td>\n",
       "      <td>1.036797</td>\n",
       "      <td>NoLabel</td>\n",
       "      <td>3</td>\n",
       "      <td>0.92975</td>\n",
       "      <td>1.424463</td>\n",
       "    </tr>\n",
       "    <tr>\n",
       "      <th>3</th>\n",
       "      <td>2017</td>\n",
       "      <td>2017-04</td>\n",
       "      <td>4.79</td>\n",
       "      <td>4.94</td>\n",
       "      <td>1.031315</td>\n",
       "      <td>NoLabel</td>\n",
       "      <td>4</td>\n",
       "      <td>0.61380</td>\n",
       "      <td>0.731913</td>\n",
       "    </tr>\n",
       "    <tr>\n",
       "      <th>4</th>\n",
       "      <td>2017</td>\n",
       "      <td>2017-05</td>\n",
       "      <td>4.94</td>\n",
       "      <td>5.03</td>\n",
       "      <td>1.018219</td>\n",
       "      <td>NoLabel</td>\n",
       "      <td>5</td>\n",
       "      <td>0.35540</td>\n",
       "      <td>1.023493</td>\n",
       "    </tr>\n",
       "    <tr>\n",
       "      <th>...</th>\n",
       "      <td>...</td>\n",
       "      <td>...</td>\n",
       "      <td>...</td>\n",
       "      <td>...</td>\n",
       "      <td>...</td>\n",
       "      <td>...</td>\n",
       "      <td>...</td>\n",
       "      <td>...</td>\n",
       "      <td>...</td>\n",
       "    </tr>\n",
       "    <tr>\n",
       "      <th>258</th>\n",
       "      <td>2021</td>\n",
       "      <td>2021-48</td>\n",
       "      <td>49.93</td>\n",
       "      <td>43.1</td>\n",
       "      <td>0.863208</td>\n",
       "      <td>Red</td>\n",
       "      <td>48</td>\n",
       "      <td>-2.83240</td>\n",
       "      <td>4.045923</td>\n",
       "    </tr>\n",
       "    <tr>\n",
       "      <th>259</th>\n",
       "      <td>2021</td>\n",
       "      <td>2021-49</td>\n",
       "      <td>43.1</td>\n",
       "      <td>39.75</td>\n",
       "      <td>0.922274</td>\n",
       "      <td>Red</td>\n",
       "      <td>49</td>\n",
       "      <td>-1.44300</td>\n",
       "      <td>6.241354</td>\n",
       "    </tr>\n",
       "    <tr>\n",
       "      <th>260</th>\n",
       "      <td>2021</td>\n",
       "      <td>2021-50</td>\n",
       "      <td>39.75</td>\n",
       "      <td>38.91</td>\n",
       "      <td>0.978868</td>\n",
       "      <td>Red</td>\n",
       "      <td>50</td>\n",
       "      <td>-0.09220</td>\n",
       "      <td>8.972470</td>\n",
       "    </tr>\n",
       "    <tr>\n",
       "      <th>261</th>\n",
       "      <td>2021</td>\n",
       "      <td>2021-51</td>\n",
       "      <td>38.91</td>\n",
       "      <td>38.03</td>\n",
       "      <td>0.977384</td>\n",
       "      <td>Red</td>\n",
       "      <td>51</td>\n",
       "      <td>-0.55650</td>\n",
       "      <td>1.666374</td>\n",
       "    </tr>\n",
       "    <tr>\n",
       "      <th>262</th>\n",
       "      <td>2021</td>\n",
       "      <td>2021-52</td>\n",
       "      <td>38.03</td>\n",
       "      <td>38.83</td>\n",
       "      <td>1.021036</td>\n",
       "      <td>Red</td>\n",
       "      <td>52</td>\n",
       "      <td>0.56150</td>\n",
       "      <td>3.340023</td>\n",
       "    </tr>\n",
       "  </tbody>\n",
       "</table>\n",
       "<p>263 rows × 9 columns</p>\n",
       "</div>"
      ],
      "text/plain": [
       "     Year Year_Week Begin_Price Adj Close    Return    Label  Week_Number  \\\n",
       "0    2017   2017-01        6.36      4.99  0.784591  NoLabel            1   \n",
       "1    2017   2017-02        4.99      4.62  0.925852  NoLabel            2   \n",
       "2    2017   2017-03        4.62      4.79  1.036797  NoLabel            3   \n",
       "3    2017   2017-04        4.79      4.94  1.031315  NoLabel            4   \n",
       "4    2017   2017-05        4.94      5.03  1.018219  NoLabel            5   \n",
       "..    ...       ...         ...       ...       ...      ...          ...   \n",
       "258  2021   2021-48       49.93      43.1  0.863208      Red           48   \n",
       "259  2021   2021-49        43.1     39.75  0.922274      Red           49   \n",
       "260  2021   2021-50       39.75     38.91  0.978868      Red           50   \n",
       "261  2021   2021-51       38.91     38.03  0.977384      Red           51   \n",
       "262  2021   2021-52       38.03     38.83  1.021036      Red           52   \n",
       "\n",
       "     mean_return  volatility  \n",
       "0       -0.82525    2.466974  \n",
       "1       -1.44700    3.705994  \n",
       "2        0.92975    1.424463  \n",
       "3        0.61380    0.731913  \n",
       "4        0.35540    1.023493  \n",
       "..           ...         ...  \n",
       "258     -2.83240    4.045923  \n",
       "259     -1.44300    6.241354  \n",
       "260     -0.09220    8.972470  \n",
       "261     -0.55650    1.666374  \n",
       "262      0.56150    3.340023  \n",
       "\n",
       "[263 rows x 9 columns]"
      ]
     },
     "execution_count": 38,
     "metadata": {},
     "output_type": "execute_result"
    }
   ],
   "source": [
    "stock_data"
   ]
  },
  {
   "cell_type": "code",
   "execution_count": 39,
   "id": "d17ba8cd-4199-4dd2-88d6-76df07217d9f",
   "metadata": {},
   "outputs": [
    {
     "data": {
      "text/plain": [
       "807.43"
      ]
     },
     "execution_count": 39,
     "metadata": {},
     "output_type": "execute_result"
    }
   ],
   "source": [
    "buy_and_hold(stock_data,2021)"
   ]
  },
  {
   "cell_type": "markdown",
   "id": "c01dd29c-56e6-4235-9142-a388c4349c04",
   "metadata": {},
   "source": [
    "#### SPY"
   ]
  },
  {
   "cell_type": "code",
   "execution_count": 40,
   "id": "367a0eb0-2721-4ae6-8096-905f0ab5d5b0",
   "metadata": {},
   "outputs": [],
   "source": [
    "stock = 'spy'"
   ]
  },
  {
   "cell_type": "code",
   "execution_count": 41,
   "id": "006d6a10-1584-4d8e-96c4-60b741fc28d0",
   "metadata": {},
   "outputs": [],
   "source": [
    "stock_data = data_loading_processing(stock)[2]"
   ]
  },
  {
   "cell_type": "code",
   "execution_count": 42,
   "id": "f94b8058-664b-4375-9900-1d3f8a1004a6",
   "metadata": {},
   "outputs": [],
   "source": [
    "train_X = stock_data.loc[stock_data.Year == 2020,['mean_return','volatility']]\n",
    "test_X = stock_data.loc[stock_data.Year == 2021,['mean_return','volatility']]\n",
    "train_y = np.ravel(stock_data.loc[stock_data.Year == 2020,['Label']].values)\n",
    "test_y = np.ravel(stock_data.loc[stock_data.Year == 2021,['Label']].values)"
   ]
  },
  {
   "cell_type": "code",
   "execution_count": 43,
   "id": "ab689599-cb78-4878-b8da-303f7fd0f5da",
   "metadata": {
    "scrolled": true
   },
   "outputs": [
    {
     "data": {
      "text/html": [
       "<div>\n",
       "<style scoped>\n",
       "    .dataframe tbody tr th:only-of-type {\n",
       "        vertical-align: middle;\n",
       "    }\n",
       "\n",
       "    .dataframe tbody tr th {\n",
       "        vertical-align: top;\n",
       "    }\n",
       "\n",
       "    .dataframe thead th {\n",
       "        text-align: right;\n",
       "    }\n",
       "</style>\n",
       "<table border=\"1\" class=\"dataframe\">\n",
       "  <thead>\n",
       "    <tr style=\"text-align: right;\">\n",
       "      <th></th>\n",
       "      <th>Year</th>\n",
       "      <th>Year_Week</th>\n",
       "      <th>Begin_Price</th>\n",
       "      <th>Adj Close</th>\n",
       "      <th>Return</th>\n",
       "      <th>Label</th>\n",
       "      <th>Week_Number</th>\n",
       "      <th>mean_return</th>\n",
       "      <th>volatility</th>\n",
       "    </tr>\n",
       "  </thead>\n",
       "  <tbody>\n",
       "    <tr>\n",
       "      <th>0</th>\n",
       "      <td>2017</td>\n",
       "      <td>2017-01</td>\n",
       "      <td>225.04</td>\n",
       "      <td>202.38</td>\n",
       "      <td>0.899307</td>\n",
       "      <td>NoLabel</td>\n",
       "      <td>1</td>\n",
       "      <td>0.21850</td>\n",
       "      <td>0.314887</td>\n",
       "    </tr>\n",
       "    <tr>\n",
       "      <th>1</th>\n",
       "      <td>2017</td>\n",
       "      <td>2017-02</td>\n",
       "      <td>202.38</td>\n",
       "      <td>202.24</td>\n",
       "      <td>0.999308</td>\n",
       "      <td>NoLabel</td>\n",
       "      <td>2</td>\n",
       "      <td>-0.01360</td>\n",
       "      <td>0.275665</td>\n",
       "    </tr>\n",
       "    <tr>\n",
       "      <th>261</th>\n",
       "      <td>2021</td>\n",
       "      <td>2021-51</td>\n",
       "      <td>447.56</td>\n",
       "      <td>458.0</td>\n",
       "      <td>1.023326</td>\n",
       "      <td>Green</td>\n",
       "      <td>51</td>\n",
       "      <td>0.58375</td>\n",
       "      <td>1.198328</td>\n",
       "    </tr>\n",
       "    <tr>\n",
       "      <th>262</th>\n",
       "      <td>2021</td>\n",
       "      <td>2021-52</td>\n",
       "      <td>458.0</td>\n",
       "      <td>463.41</td>\n",
       "      <td>1.011812</td>\n",
       "      <td>Green</td>\n",
       "      <td>52</td>\n",
       "      <td>0.29625</td>\n",
       "      <td>0.763861</td>\n",
       "    </tr>\n",
       "  </tbody>\n",
       "</table>\n",
       "</div>"
      ],
      "text/plain": [
       "     Year Year_Week Begin_Price Adj Close    Return    Label  Week_Number  \\\n",
       "0    2017   2017-01      225.04    202.38  0.899307  NoLabel            1   \n",
       "1    2017   2017-02      202.38    202.24  0.999308  NoLabel            2   \n",
       "261  2021   2021-51      447.56     458.0  1.023326    Green           51   \n",
       "262  2021   2021-52       458.0    463.41  1.011812    Green           52   \n",
       "\n",
       "     mean_return  volatility  \n",
       "0        0.21850    0.314887  \n",
       "1       -0.01360    0.275665  \n",
       "261      0.58375    1.198328  \n",
       "262      0.29625    0.763861  "
      ]
     },
     "execution_count": 43,
     "metadata": {},
     "output_type": "execute_result"
    }
   ],
   "source": [
    "head_tail(stock_data)"
   ]
  },
  {
   "cell_type": "code",
   "execution_count": 44,
   "id": "6ad39716-7242-4319-bcaf-d64607547c25",
   "metadata": {},
   "outputs": [
    {
     "data": {
      "text/plain": [
       "'spy'"
      ]
     },
     "execution_count": 44,
     "metadata": {},
     "output_type": "execute_result"
    }
   ],
   "source": [
    "stock"
   ]
  },
  {
   "cell_type": "code",
   "execution_count": 53,
   "id": "01f4e0f2-e5ce-4cfd-9394-57a3400088aa",
   "metadata": {},
   "outputs": [],
   "source": [
    "qda = QuadraticDiscriminantAnalysis(store_covariance=True)\n",
    "lda = LinearDiscriminantAnalysis(store_covariance=True)"
   ]
  },
  {
   "cell_type": "code",
   "execution_count": 54,
   "id": "1baeda0b-3e7c-48c0-9abf-f3d283a70324",
   "metadata": {},
   "outputs": [
    {
     "data": {
      "text/html": [
       "<style>#sk-container-id-3 {color: black;}#sk-container-id-3 pre{padding: 0;}#sk-container-id-3 div.sk-toggleable {background-color: white;}#sk-container-id-3 label.sk-toggleable__label {cursor: pointer;display: block;width: 100%;margin-bottom: 0;padding: 0.3em;box-sizing: border-box;text-align: center;}#sk-container-id-3 label.sk-toggleable__label-arrow:before {content: \"▸\";float: left;margin-right: 0.25em;color: #696969;}#sk-container-id-3 label.sk-toggleable__label-arrow:hover:before {color: black;}#sk-container-id-3 div.sk-estimator:hover label.sk-toggleable__label-arrow:before {color: black;}#sk-container-id-3 div.sk-toggleable__content {max-height: 0;max-width: 0;overflow: hidden;text-align: left;background-color: #f0f8ff;}#sk-container-id-3 div.sk-toggleable__content pre {margin: 0.2em;color: black;border-radius: 0.25em;background-color: #f0f8ff;}#sk-container-id-3 input.sk-toggleable__control:checked~div.sk-toggleable__content {max-height: 200px;max-width: 100%;overflow: auto;}#sk-container-id-3 input.sk-toggleable__control:checked~label.sk-toggleable__label-arrow:before {content: \"▾\";}#sk-container-id-3 div.sk-estimator input.sk-toggleable__control:checked~label.sk-toggleable__label {background-color: #d4ebff;}#sk-container-id-3 div.sk-label input.sk-toggleable__control:checked~label.sk-toggleable__label {background-color: #d4ebff;}#sk-container-id-3 input.sk-hidden--visually {border: 0;clip: rect(1px 1px 1px 1px);clip: rect(1px, 1px, 1px, 1px);height: 1px;margin: -1px;overflow: hidden;padding: 0;position: absolute;width: 1px;}#sk-container-id-3 div.sk-estimator {font-family: monospace;background-color: #f0f8ff;border: 1px dotted black;border-radius: 0.25em;box-sizing: border-box;margin-bottom: 0.5em;}#sk-container-id-3 div.sk-estimator:hover {background-color: #d4ebff;}#sk-container-id-3 div.sk-parallel-item::after {content: \"\";width: 100%;border-bottom: 1px solid gray;flex-grow: 1;}#sk-container-id-3 div.sk-label:hover label.sk-toggleable__label {background-color: #d4ebff;}#sk-container-id-3 div.sk-serial::before {content: \"\";position: absolute;border-left: 1px solid gray;box-sizing: border-box;top: 0;bottom: 0;left: 50%;z-index: 0;}#sk-container-id-3 div.sk-serial {display: flex;flex-direction: column;align-items: center;background-color: white;padding-right: 0.2em;padding-left: 0.2em;position: relative;}#sk-container-id-3 div.sk-item {position: relative;z-index: 1;}#sk-container-id-3 div.sk-parallel {display: flex;align-items: stretch;justify-content: center;background-color: white;position: relative;}#sk-container-id-3 div.sk-item::before, #sk-container-id-3 div.sk-parallel-item::before {content: \"\";position: absolute;border-left: 1px solid gray;box-sizing: border-box;top: 0;bottom: 0;left: 50%;z-index: -1;}#sk-container-id-3 div.sk-parallel-item {display: flex;flex-direction: column;z-index: 1;position: relative;background-color: white;}#sk-container-id-3 div.sk-parallel-item:first-child::after {align-self: flex-end;width: 50%;}#sk-container-id-3 div.sk-parallel-item:last-child::after {align-self: flex-start;width: 50%;}#sk-container-id-3 div.sk-parallel-item:only-child::after {width: 0;}#sk-container-id-3 div.sk-dashed-wrapped {border: 1px dashed gray;margin: 0 0.4em 0.5em 0.4em;box-sizing: border-box;padding-bottom: 0.4em;background-color: white;}#sk-container-id-3 div.sk-label label {font-family: monospace;font-weight: bold;display: inline-block;line-height: 1.2em;}#sk-container-id-3 div.sk-label-container {text-align: center;}#sk-container-id-3 div.sk-container {/* jupyter's `normalize.less` sets `[hidden] { display: none; }` but bootstrap.min.css set `[hidden] { display: none !important; }` so we also need the `!important` here to be able to override the default hidden behavior on the sphinx rendered scikit-learn.org. See: https://github.com/scikit-learn/scikit-learn/issues/21755 */display: inline-block !important;position: relative;}#sk-container-id-3 div.sk-text-repr-fallback {display: none;}</style><div id=\"sk-container-id-3\" class=\"sk-top-container\"><div class=\"sk-text-repr-fallback\"><pre>QuadraticDiscriminantAnalysis(store_covariance=True)</pre><b>In a Jupyter environment, please rerun this cell to show the HTML representation or trust the notebook. <br />On GitHub, the HTML representation is unable to render, please try loading this page with nbviewer.org.</b></div><div class=\"sk-container\" hidden><div class=\"sk-item\"><div class=\"sk-estimator sk-toggleable\"><input class=\"sk-toggleable__control sk-hidden--visually\" id=\"sk-estimator-id-3\" type=\"checkbox\" checked><label for=\"sk-estimator-id-3\" class=\"sk-toggleable__label sk-toggleable__label-arrow\">QuadraticDiscriminantAnalysis</label><div class=\"sk-toggleable__content\"><pre>QuadraticDiscriminantAnalysis(store_covariance=True)</pre></div></div></div></div></div>"
      ],
      "text/plain": [
       "QuadraticDiscriminantAnalysis(store_covariance=True)"
      ]
     },
     "execution_count": 54,
     "metadata": {},
     "output_type": "execute_result"
    }
   ],
   "source": [
    "lda.fit(train_X,train_y)\n",
    "qda.fit(train_X,train_y)\n",
    "# (lda.coef_, qda.decision_function())"
   ]
  },
  {
   "cell_type": "code",
   "execution_count": 55,
   "id": "dc6908be-3505-497b-b641-fc369e188d0e",
   "metadata": {},
   "outputs": [],
   "source": [
    "preds_linear = lda.predict(test_X)\n",
    "preds_quad = qda.predict(test_X)"
   ]
  },
  {
   "cell_type": "code",
   "execution_count": 58,
   "id": "a878cc68-0c7b-4eb1-ba8b-b482b922ad2a",
   "metadata": {},
   "outputs": [
    {
     "data": {
      "text/plain": [
       "(array([0.54716981, 0.45283019]),\n",
       " array([[ 0.64366897,  1.15382074],\n",
       "        [-0.55140208,  1.89994944]]),\n",
       " [array([[0.37190062, 0.37929828],\n",
       "         [0.37929828, 1.2288957 ]]),\n",
       "  array([[ 0.58649164, -0.96430721],\n",
       "         [-0.96430721,  3.18295322]])])"
      ]
     },
     "execution_count": 58,
     "metadata": {},
     "output_type": "execute_result"
    }
   ],
   "source": [
    "qda.priors_, qda.means_,qda.covariance_"
   ]
  },
  {
   "cell_type": "code",
   "execution_count": 57,
   "id": "08f3a83b-8c92-4cbf-afb5-c215a04dd666",
   "metadata": {},
   "outputs": [
    {
     "data": {
      "text/plain": [
       "[array([[0.37190062, 0.37929828],\n",
       "        [0.37929828, 1.2288957 ]]),\n",
       " array([[ 0.58649164, -0.96430721],\n",
       "        [-0.96430721,  3.18295322]])]"
      ]
     },
     "execution_count": 57,
     "metadata": {},
     "output_type": "execute_result"
    }
   ],
   "source": []
  },
  {
   "cell_type": "markdown",
   "id": "c3645d04-9fe6-4e21-8608-9fd430292cca",
   "metadata": {},
   "source": [
    "##### Accuracy"
   ]
  },
  {
   "cell_type": "code",
   "execution_count": 51,
   "id": "f2f5794a-57f3-4c02-a94d-eed20f2e4199",
   "metadata": {},
   "outputs": [
    {
     "data": {
      "text/plain": [
       "0.9038461538461539"
      ]
     },
     "execution_count": 51,
     "metadata": {},
     "output_type": "execute_result"
    }
   ],
   "source": [
    "accuracy_score(test_y,preds_linear)"
   ]
  },
  {
   "cell_type": "code",
   "execution_count": 52,
   "id": "6129ced7-91f4-48fc-a96d-e937d14734d4",
   "metadata": {},
   "outputs": [
    {
     "data": {
      "text/plain": [
       "0.8076923076923077"
      ]
     },
     "execution_count": 52,
     "metadata": {},
     "output_type": "execute_result"
    }
   ],
   "source": [
    "accuracy_score(test_y,preds_quad)"
   ]
  },
  {
   "cell_type": "markdown",
   "id": "971117b5-9ad0-45ae-8837-a53cb7d3a046",
   "metadata": {},
   "source": [
    "LDA gives better accuracy"
   ]
  },
  {
   "cell_type": "markdown",
   "id": "bbf7b050-0cf9-4d0f-898c-b54d3df30854",
   "metadata": {},
   "source": [
    "##### Confusion Matrix"
   ]
  },
  {
   "cell_type": "code",
   "execution_count": 53,
   "id": "38ada87e-c759-4e76-8cfa-b0b74a79f139",
   "metadata": {},
   "outputs": [],
   "source": [
    "cm_linear = confusion_matrix(test_y,preds_linear)\n",
    "cm_quad = confusion_matrix(test_y,preds_quad)"
   ]
  },
  {
   "cell_type": "code",
   "execution_count": 54,
   "id": "d5037ab1-3af9-474a-aeae-e90ea1e940f8",
   "metadata": {
    "scrolled": true
   },
   "outputs": [
    {
     "data": {
      "text/plain": [
       "(array([[31,  0],\n",
       "        [ 5, 16]]),\n",
       " array([[31,  0],\n",
       "        [10, 11]]))"
      ]
     },
     "execution_count": 54,
     "metadata": {},
     "output_type": "execute_result"
    }
   ],
   "source": [
    "(cm_linear, cm_quad)"
   ]
  },
  {
   "cell_type": "code",
   "execution_count": 55,
   "id": "f474de6c-6025-4b17-9cbf-f3ce57f21185",
   "metadata": {},
   "outputs": [
    {
     "data": {
      "text/plain": [
       "(0.76, 1.0)"
      ]
     },
     "execution_count": 55,
     "metadata": {},
     "output_type": "execute_result"
    }
   ],
   "source": [
    "tpr(cm_linear), tnr(cm_linear)"
   ]
  },
  {
   "cell_type": "code",
   "execution_count": 56,
   "id": "14ab2f45-07c5-4f03-9101-a2b5f266bc00",
   "metadata": {},
   "outputs": [
    {
     "data": {
      "text/plain": [
       "(0.52, 1.0)"
      ]
     },
     "execution_count": 56,
     "metadata": {},
     "output_type": "execute_result"
    }
   ],
   "source": [
    "tpr(cm_quad), tnr(cm_quad)"
   ]
  },
  {
   "cell_type": "code",
   "execution_count": 57,
   "id": "ca26a4ca-c514-4cce-9a88-fc3c1e97cb3c",
   "metadata": {},
   "outputs": [
    {
     "data": {
      "text/plain": [
       "163.88"
      ]
     },
     "execution_count": 57,
     "metadata": {},
     "output_type": "execute_result"
    }
   ],
   "source": [
    "preds_linear = np.where(preds_linear == 'Green', 1, 0)\n",
    "trade_labels(stock_data,2021,preds_linear)"
   ]
  },
  {
   "cell_type": "code",
   "execution_count": 58,
   "id": "8d83032e-154b-4944-912b-a4f9ed719f4d",
   "metadata": {},
   "outputs": [
    {
     "data": {
      "text/plain": [
       "158.74"
      ]
     },
     "execution_count": 58,
     "metadata": {},
     "output_type": "execute_result"
    }
   ],
   "source": [
    "preds_quad = np.where(preds_quad == 'Green', 1, 0)\n",
    "trade_labels(stock_data,2021,preds_quad)"
   ]
  },
  {
   "cell_type": "code",
   "execution_count": 59,
   "id": "886217a9-af3b-413a-a073-afc1068f6fb4",
   "metadata": {},
   "outputs": [
    {
     "data": {
      "text/html": [
       "<div>\n",
       "<style scoped>\n",
       "    .dataframe tbody tr th:only-of-type {\n",
       "        vertical-align: middle;\n",
       "    }\n",
       "\n",
       "    .dataframe tbody tr th {\n",
       "        vertical-align: top;\n",
       "    }\n",
       "\n",
       "    .dataframe thead th {\n",
       "        text-align: right;\n",
       "    }\n",
       "</style>\n",
       "<table border=\"1\" class=\"dataframe\">\n",
       "  <thead>\n",
       "    <tr style=\"text-align: right;\">\n",
       "      <th></th>\n",
       "      <th>Year</th>\n",
       "      <th>Year_Week</th>\n",
       "      <th>Begin_Price</th>\n",
       "      <th>Adj Close</th>\n",
       "      <th>Return</th>\n",
       "      <th>Label</th>\n",
       "      <th>Week_Number</th>\n",
       "      <th>mean_return</th>\n",
       "      <th>volatility</th>\n",
       "    </tr>\n",
       "  </thead>\n",
       "  <tbody>\n",
       "    <tr>\n",
       "      <th>0</th>\n",
       "      <td>2017</td>\n",
       "      <td>2017-01</td>\n",
       "      <td>225.04</td>\n",
       "      <td>202.38</td>\n",
       "      <td>0.899307</td>\n",
       "      <td>NoLabel</td>\n",
       "      <td>1</td>\n",
       "      <td>0.21850</td>\n",
       "      <td>0.314887</td>\n",
       "    </tr>\n",
       "    <tr>\n",
       "      <th>1</th>\n",
       "      <td>2017</td>\n",
       "      <td>2017-02</td>\n",
       "      <td>202.38</td>\n",
       "      <td>202.24</td>\n",
       "      <td>0.999308</td>\n",
       "      <td>NoLabel</td>\n",
       "      <td>2</td>\n",
       "      <td>-0.01360</td>\n",
       "      <td>0.275665</td>\n",
       "    </tr>\n",
       "    <tr>\n",
       "      <th>2</th>\n",
       "      <td>2017</td>\n",
       "      <td>2017-03</td>\n",
       "      <td>202.24</td>\n",
       "      <td>201.97</td>\n",
       "      <td>0.998665</td>\n",
       "      <td>NoLabel</td>\n",
       "      <td>3</td>\n",
       "      <td>-0.03350</td>\n",
       "      <td>0.382903</td>\n",
       "    </tr>\n",
       "    <tr>\n",
       "      <th>3</th>\n",
       "      <td>2017</td>\n",
       "      <td>2017-04</td>\n",
       "      <td>201.97</td>\n",
       "      <td>203.95</td>\n",
       "      <td>1.009803</td>\n",
       "      <td>NoLabel</td>\n",
       "      <td>4</td>\n",
       "      <td>0.19700</td>\n",
       "      <td>0.517220</td>\n",
       "    </tr>\n",
       "    <tr>\n",
       "      <th>4</th>\n",
       "      <td>2017</td>\n",
       "      <td>2017-05</td>\n",
       "      <td>203.95</td>\n",
       "      <td>204.28</td>\n",
       "      <td>1.001618</td>\n",
       "      <td>NoLabel</td>\n",
       "      <td>5</td>\n",
       "      <td>0.03320</td>\n",
       "      <td>0.463586</td>\n",
       "    </tr>\n",
       "    <tr>\n",
       "      <th>...</th>\n",
       "      <td>...</td>\n",
       "      <td>...</td>\n",
       "      <td>...</td>\n",
       "      <td>...</td>\n",
       "      <td>...</td>\n",
       "      <td>...</td>\n",
       "      <td>...</td>\n",
       "      <td>...</td>\n",
       "      <td>...</td>\n",
       "    </tr>\n",
       "    <tr>\n",
       "      <th>258</th>\n",
       "      <td>2021</td>\n",
       "      <td>2021-48</td>\n",
       "      <td>445.12</td>\n",
       "      <td>439.74</td>\n",
       "      <td>0.987913</td>\n",
       "      <td>Red</td>\n",
       "      <td>48</td>\n",
       "      <td>-0.23360</td>\n",
       "      <td>1.529530</td>\n",
       "    </tr>\n",
       "    <tr>\n",
       "      <th>259</th>\n",
       "      <td>2021</td>\n",
       "      <td>2021-49</td>\n",
       "      <td>439.74</td>\n",
       "      <td>456.54</td>\n",
       "      <td>1.038204</td>\n",
       "      <td>Green</td>\n",
       "      <td>49</td>\n",
       "      <td>0.75660</td>\n",
       "      <td>1.028056</td>\n",
       "    </tr>\n",
       "    <tr>\n",
       "      <th>260</th>\n",
       "      <td>2021</td>\n",
       "      <td>2021-50</td>\n",
       "      <td>456.54</td>\n",
       "      <td>447.56</td>\n",
       "      <td>0.98033</td>\n",
       "      <td>Red</td>\n",
       "      <td>50</td>\n",
       "      <td>-0.39140</td>\n",
       "      <td>1.100609</td>\n",
       "    </tr>\n",
       "    <tr>\n",
       "      <th>261</th>\n",
       "      <td>2021</td>\n",
       "      <td>2021-51</td>\n",
       "      <td>447.56</td>\n",
       "      <td>458.0</td>\n",
       "      <td>1.023326</td>\n",
       "      <td>Green</td>\n",
       "      <td>51</td>\n",
       "      <td>0.58375</td>\n",
       "      <td>1.198328</td>\n",
       "    </tr>\n",
       "    <tr>\n",
       "      <th>262</th>\n",
       "      <td>2021</td>\n",
       "      <td>2021-52</td>\n",
       "      <td>458.0</td>\n",
       "      <td>463.41</td>\n",
       "      <td>1.011812</td>\n",
       "      <td>Green</td>\n",
       "      <td>52</td>\n",
       "      <td>0.29625</td>\n",
       "      <td>0.763861</td>\n",
       "    </tr>\n",
       "  </tbody>\n",
       "</table>\n",
       "<p>263 rows × 9 columns</p>\n",
       "</div>"
      ],
      "text/plain": [
       "     Year Year_Week Begin_Price Adj Close    Return    Label  Week_Number  \\\n",
       "0    2017   2017-01      225.04    202.38  0.899307  NoLabel            1   \n",
       "1    2017   2017-02      202.38    202.24  0.999308  NoLabel            2   \n",
       "2    2017   2017-03      202.24    201.97  0.998665  NoLabel            3   \n",
       "3    2017   2017-04      201.97    203.95  1.009803  NoLabel            4   \n",
       "4    2017   2017-05      203.95    204.28  1.001618  NoLabel            5   \n",
       "..    ...       ...         ...       ...       ...      ...          ...   \n",
       "258  2021   2021-48      445.12    439.74  0.987913      Red           48   \n",
       "259  2021   2021-49      439.74    456.54  1.038204    Green           49   \n",
       "260  2021   2021-50      456.54    447.56   0.98033      Red           50   \n",
       "261  2021   2021-51      447.56     458.0  1.023326    Green           51   \n",
       "262  2021   2021-52       458.0    463.41  1.011812    Green           52   \n",
       "\n",
       "     mean_return  volatility  \n",
       "0        0.21850    0.314887  \n",
       "1       -0.01360    0.275665  \n",
       "2       -0.03350    0.382903  \n",
       "3        0.19700    0.517220  \n",
       "4        0.03320    0.463586  \n",
       "..           ...         ...  \n",
       "258     -0.23360    1.529530  \n",
       "259      0.75660    1.028056  \n",
       "260     -0.39140    1.100609  \n",
       "261      0.58375    1.198328  \n",
       "262      0.29625    0.763861  \n",
       "\n",
       "[263 rows x 9 columns]"
      ]
     },
     "execution_count": 59,
     "metadata": {},
     "output_type": "execute_result"
    }
   ],
   "source": [
    "stock_data"
   ]
  },
  {
   "cell_type": "code",
   "execution_count": 60,
   "id": "8693d29d-e8d8-4fa3-9976-c1c65ccd7e49",
   "metadata": {},
   "outputs": [
    {
     "data": {
      "text/plain": [
       "127.54"
      ]
     },
     "execution_count": 60,
     "metadata": {},
     "output_type": "execute_result"
    }
   ],
   "source": [
    "buy_and_hold(stock_data,2021)"
   ]
  }
 ],
 "metadata": {
  "kernelspec": {
   "display_name": "Python 3 (ipykernel)",
   "language": "python",
   "name": "python3"
  },
  "language_info": {
   "codemirror_mode": {
    "name": "ipython",
    "version": 3
   },
   "file_extension": ".py",
   "mimetype": "text/x-python",
   "name": "python",
   "nbconvert_exporter": "python",
   "pygments_lexer": "ipython3",
   "version": "3.9.18"
  }
 },
 "nbformat": 4,
 "nbformat_minor": 5
}
