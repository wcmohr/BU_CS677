{
 "cells": [
  {
   "cell_type": "code",
   "execution_count": 1,
   "id": "fc4750e7-dd4f-4894-9a05-da177851b0b5",
   "metadata": {},
   "outputs": [],
   "source": [
    "from functions import *\n",
    "from sklearn.naive_bayes import GaussianNB\n",
    "import numpy as np\n",
    "from sklearn.metrics import accuracy_score\n",
    "from sklearn.metrics import confusion_matrix, ConfusionMatrixDisplay\n",
    "from scipy.stats import t\n"
   ]
  },
  {
   "cell_type": "markdown",
   "id": "f5a277b5-e97e-4171-ba4c-892430c47ea6",
   "metadata": {},
   "source": [
    "#### GME"
   ]
  },
  {
   "cell_type": "code",
   "execution_count": 2,
   "id": "e477073f-e2e7-49cf-b71d-e803da7a07c7",
   "metadata": {},
   "outputs": [],
   "source": [
    "stock = 'gme'"
   ]
  },
  {
   "cell_type": "code",
   "execution_count": 3,
   "id": "a8f5f302-2159-4e94-8445-0610ac2de8d9",
   "metadata": {},
   "outputs": [],
   "source": [
    "stock_data = data_loading_processing(stock)[2]"
   ]
  },
  {
   "cell_type": "code",
   "execution_count": 4,
   "id": "7709d17b-1f61-4c84-9617-315c462bbdc6",
   "metadata": {},
   "outputs": [],
   "source": [
    "train = stock_data.loc[stock_data.Year == 2020,['mean_return','volatility',\n",
    "                                                'Label']]\n",
    "test = stock_data.loc[stock_data.Year == 2021,['mean_return','volatility',\n",
    "                                               'Label']]"
   ]
  },
  {
   "cell_type": "code",
   "execution_count": 5,
   "id": "9422edd2-6714-468b-82d8-483e2362fc37",
   "metadata": {},
   "outputs": [],
   "source": [
    "dfs = [.5,1,5]"
   ]
  },
  {
   "cell_type": "code",
   "execution_count": 6,
   "id": "ec30a4da-6842-499b-bbbe-5104a78121f3",
   "metadata": {},
   "outputs": [],
   "source": [
    "metrics = student_t([train,test],[.5,1,5])"
   ]
  },
  {
   "cell_type": "code",
   "execution_count": 7,
   "id": "ccad2366-1c06-4bdf-a547-c4404ce24ec3",
   "metadata": {},
   "outputs": [],
   "source": [
    "conf_matrices = metrics.pop('confusion')\n",
    "predictions = metrics.pop('predictions')"
   ]
  },
  {
   "cell_type": "code",
   "execution_count": 8,
   "id": "4742677f-c36e-4547-a60f-66f3f3032f95",
   "metadata": {},
   "outputs": [
    {
     "data": {
      "text/plain": [
       "{0.5: array([[17,  1],\n",
       "        [ 8, 26]]),\n",
       " 1: array([[17,  1],\n",
       "        [ 9, 25]]),\n",
       " 5: array([[17,  1],\n",
       "        [ 8, 26]])}"
      ]
     },
     "execution_count": 8,
     "metadata": {},
     "output_type": "execute_result"
    }
   ],
   "source": [
    "conf_matrices"
   ]
  },
  {
   "cell_type": "code",
   "execution_count": 9,
   "id": "f4494b7d-1902-43eb-9ba7-cf002f601245",
   "metadata": {},
   "outputs": [
    {
     "data": {
      "text/html": [
       "<div>\n",
       "<style scoped>\n",
       "    .dataframe tbody tr th:only-of-type {\n",
       "        vertical-align: middle;\n",
       "    }\n",
       "\n",
       "    .dataframe tbody tr th {\n",
       "        vertical-align: top;\n",
       "    }\n",
       "\n",
       "    .dataframe thead th {\n",
       "        text-align: right;\n",
       "    }\n",
       "</style>\n",
       "<table border=\"1\" class=\"dataframe\">\n",
       "  <thead>\n",
       "    <tr style=\"text-align: right;\">\n",
       "      <th></th>\n",
       "      <th>tpr</th>\n",
       "      <th>tnr</th>\n",
       "      <th>accuracy</th>\n",
       "    </tr>\n",
       "  </thead>\n",
       "  <tbody>\n",
       "    <tr>\n",
       "      <th>0.5</th>\n",
       "      <td>0.94</td>\n",
       "      <td>0.76</td>\n",
       "      <td>0.83</td>\n",
       "    </tr>\n",
       "    <tr>\n",
       "      <th>1.0</th>\n",
       "      <td>0.94</td>\n",
       "      <td>0.74</td>\n",
       "      <td>0.81</td>\n",
       "    </tr>\n",
       "    <tr>\n",
       "      <th>5.0</th>\n",
       "      <td>0.94</td>\n",
       "      <td>0.76</td>\n",
       "      <td>0.83</td>\n",
       "    </tr>\n",
       "  </tbody>\n",
       "</table>\n",
       "</div>"
      ],
      "text/plain": [
       "      tpr   tnr  accuracy\n",
       "0.5  0.94  0.76      0.83\n",
       "1.0  0.94  0.74      0.81\n",
       "5.0  0.94  0.76      0.83"
      ]
     },
     "execution_count": 9,
     "metadata": {},
     "output_type": "execute_result"
    }
   ],
   "source": [
    "pd.DataFrame.from_dict(metrics,orient='index').round(2)"
   ]
  },
  {
   "cell_type": "code",
   "execution_count": 10,
   "id": "9a59400b-107a-4d06-b1ac-e453b406a1e8",
   "metadata": {},
   "outputs": [
    {
     "data": {
      "text/plain": [
       "8891.48"
      ]
     },
     "execution_count": 10,
     "metadata": {},
     "output_type": "execute_result"
    }
   ],
   "source": [
    "trade_labels(stock_data,2021,np.where(predictions[.5]=='Green',1,0))"
   ]
  },
  {
   "cell_type": "code",
   "execution_count": 11,
   "id": "a4d3d7ca-4b49-44b8-b392-9d873df9f706",
   "metadata": {},
   "outputs": [
    {
     "data": {
      "text/plain": [
       "807.43"
      ]
     },
     "execution_count": 11,
     "metadata": {},
     "output_type": "execute_result"
    }
   ],
   "source": [
    "buy_and_hold(stock_data,2021)"
   ]
  },
  {
   "cell_type": "markdown",
   "id": "ab5128d7-a713-4d22-bb74-8b1415d56b29",
   "metadata": {},
   "source": [
    "#### SPY"
   ]
  },
  {
   "cell_type": "code",
   "execution_count": 12,
   "id": "e206c3b4-3f7f-4201-9e41-005bdf8081d0",
   "metadata": {},
   "outputs": [],
   "source": [
    "stock = 'spy'"
   ]
  },
  {
   "cell_type": "code",
   "execution_count": 13,
   "id": "22256306-c118-43dc-b4d9-7664bfcdb22f",
   "metadata": {},
   "outputs": [],
   "source": [
    "stock_data = data_loading_processing(stock)[2]"
   ]
  },
  {
   "cell_type": "code",
   "execution_count": 14,
   "id": "0b6a1e1c-5259-45a6-a489-1032ad8af465",
   "metadata": {},
   "outputs": [],
   "source": [
    "train = stock_data.loc[stock_data.Year == 2020,['mean_return','volatility','Label']]\n",
    "test = stock_data.loc[stock_data.Year == 2021,['mean_return','volatility','Label']]"
   ]
  },
  {
   "cell_type": "code",
   "execution_count": 15,
   "id": "a7ef8805-90ef-468f-aa3b-8b5acb57af1a",
   "metadata": {},
   "outputs": [],
   "source": [
    "dfs = [.5,1,5]"
   ]
  },
  {
   "cell_type": "code",
   "execution_count": 16,
   "id": "46496cee-adba-423a-8f58-3a3fa144052a",
   "metadata": {},
   "outputs": [],
   "source": [
    "metrics = student_t([train,test],[.5,1,5])"
   ]
  },
  {
   "cell_type": "code",
   "execution_count": 17,
   "id": "773b359e-6d6b-40e1-8fae-5950707aa136",
   "metadata": {},
   "outputs": [],
   "source": [
    "conf_matrices = metrics.pop('confusion')\n",
    "predictions = metrics.pop('predictions')"
   ]
  },
  {
   "cell_type": "code",
   "execution_count": 18,
   "id": "9a2964db-f4cf-4cc5-ba27-1104651b5eb4",
   "metadata": {},
   "outputs": [
    {
     "data": {
      "text/plain": [
       "{0.5: array([[31,  0],\n",
       "        [ 1, 20]]),\n",
       " 1: array([[31,  0],\n",
       "        [ 3, 18]]),\n",
       " 5: array([[31,  0],\n",
       "        [ 5, 16]])}"
      ]
     },
     "execution_count": 18,
     "metadata": {},
     "output_type": "execute_result"
    }
   ],
   "source": [
    "conf_matrices"
   ]
  },
  {
   "cell_type": "code",
   "execution_count": 22,
   "id": "803e0c47-e2ac-4e6a-b4ec-1f6798140314",
   "metadata": {
    "scrolled": true
   },
   "outputs": [
    {
     "data": {
      "text/html": [
       "<div>\n",
       "<style scoped>\n",
       "    .dataframe tbody tr th:only-of-type {\n",
       "        vertical-align: middle;\n",
       "    }\n",
       "\n",
       "    .dataframe tbody tr th {\n",
       "        vertical-align: top;\n",
       "    }\n",
       "\n",
       "    .dataframe thead th {\n",
       "        text-align: right;\n",
       "    }\n",
       "</style>\n",
       "<table border=\"1\" class=\"dataframe\">\n",
       "  <thead>\n",
       "    <tr style=\"text-align: right;\">\n",
       "      <th></th>\n",
       "      <th>tpr</th>\n",
       "      <th>tnr</th>\n",
       "      <th>accuracy</th>\n",
       "    </tr>\n",
       "  </thead>\n",
       "  <tbody>\n",
       "    <tr>\n",
       "      <th>0.5</th>\n",
       "      <td>1.0</td>\n",
       "      <td>0.95</td>\n",
       "      <td>0.98</td>\n",
       "    </tr>\n",
       "    <tr>\n",
       "      <th>1.0</th>\n",
       "      <td>1.0</td>\n",
       "      <td>0.86</td>\n",
       "      <td>0.94</td>\n",
       "    </tr>\n",
       "    <tr>\n",
       "      <th>5.0</th>\n",
       "      <td>1.0</td>\n",
       "      <td>0.76</td>\n",
       "      <td>0.90</td>\n",
       "    </tr>\n",
       "  </tbody>\n",
       "</table>\n",
       "</div>"
      ],
      "text/plain": [
       "     tpr   tnr  accuracy\n",
       "0.5  1.0  0.95      0.98\n",
       "1.0  1.0  0.86      0.94\n",
       "5.0  1.0  0.76      0.90"
      ]
     },
     "execution_count": 22,
     "metadata": {},
     "output_type": "execute_result"
    }
   ],
   "source": [
    "pd.DataFrame.from_dict(metrics,orient='index').round(2)"
   ]
  },
  {
   "cell_type": "code",
   "execution_count": 20,
   "id": "ebda4c66-0666-45f9-81cd-dbd364825e84",
   "metadata": {},
   "outputs": [
    {
     "data": {
      "text/plain": [
       "162.09"
      ]
     },
     "execution_count": 20,
     "metadata": {},
     "output_type": "execute_result"
    }
   ],
   "source": [
    "trade_labels(stock_data,2021,np.where(predictions[.5]=='Green',1,0))"
   ]
  },
  {
   "cell_type": "code",
   "execution_count": 21,
   "id": "d6aa59b5-7f22-40e9-a099-4727ef0c4438",
   "metadata": {},
   "outputs": [
    {
     "data": {
      "text/plain": [
       "127.54"
      ]
     },
     "execution_count": 21,
     "metadata": {},
     "output_type": "execute_result"
    }
   ],
   "source": [
    "buy_and_hold(stock_data,2021)"
   ]
  }
 ],
 "metadata": {
  "kernelspec": {
   "display_name": "Python 3 (ipykernel)",
   "language": "python",
   "name": "python3"
  },
  "language_info": {
   "codemirror_mode": {
    "name": "ipython",
    "version": 3
   },
   "file_extension": ".py",
   "mimetype": "text/x-python",
   "name": "python",
   "nbconvert_exporter": "python",
   "pygments_lexer": "ipython3",
   "version": "3.9.18"
  }
 },
 "nbformat": 4,
 "nbformat_minor": 5
}
