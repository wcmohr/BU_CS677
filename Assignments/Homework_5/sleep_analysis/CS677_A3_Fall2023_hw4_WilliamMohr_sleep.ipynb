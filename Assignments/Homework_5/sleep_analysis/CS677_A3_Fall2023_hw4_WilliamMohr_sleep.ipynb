{
 "cells": [
  {
   "cell_type": "code",
   "execution_count": 185,
   "id": "93f5501e-a8e6-4566-92ca-3ccba7fde3a6",
   "metadata": {
    "tags": []
   },
   "outputs": [],
   "source": [
    "import pandas as pd\n",
    "import numpy as np\n",
    "import seaborn as sns\n",
    "import matplotlib.pyplot as plt"
   ]
  },
  {
   "cell_type": "markdown",
   "id": "f2b5eac3-964f-4ca5-ab42-0017375d024b",
   "metadata": {
    "tags": []
   },
   "source": [
    "##### Q1\n",
    "load the ”Sleep Efficiency.csv” file into Pandas"
   ]
  },
  {
   "cell_type": "code",
   "execution_count": 186,
   "id": "a8bf4adc-02b0-4366-a370-d9667b85e520",
   "metadata": {
    "tags": []
   },
   "outputs": [],
   "source": [
    "sleep = pd.read_csv('./Sleep_Efficiency.csv')"
   ]
  },
  {
   "cell_type": "code",
   "execution_count": 187,
   "id": "be78dfb5-74f6-45a5-bb11-41c4c0b78c1e",
   "metadata": {
    "tags": []
   },
   "outputs": [
    {
     "data": {
      "text/plain": [
       "'Yes'"
      ]
     },
     "execution_count": 187,
     "metadata": {},
     "output_type": "execute_result"
    }
   ],
   "source": [
    "sleep['Smoking status'][0]"
   ]
  },
  {
   "cell_type": "code",
   "execution_count": 188,
   "id": "d46f5948-baea-43bc-83b8-93316ef48535",
   "metadata": {
    "tags": []
   },
   "outputs": [],
   "source": [
    "sleep['Smoking status'] = np.where(sleep['Smoking status'].values == 'Yes',1,0)"
   ]
  },
  {
   "cell_type": "markdown",
   "id": "73121def-58e7-4196-b0ff-57c5ebb158c7",
   "metadata": {
    "tags": []
   },
   "source": [
    "##### Q2 \n",
    "how many different entries are there for each column."
   ]
  },
  {
   "cell_type": "code",
   "execution_count": 189,
   "id": "49214003-76a9-47d0-97f6-cb44cd8a12e1",
   "metadata": {
    "tags": []
   },
   "outputs": [
    {
     "data": {
      "text/html": [
       "<div>\n",
       "<style scoped>\n",
       "    .dataframe tbody tr th:only-of-type {\n",
       "        vertical-align: middle;\n",
       "    }\n",
       "\n",
       "    .dataframe tbody tr th {\n",
       "        vertical-align: top;\n",
       "    }\n",
       "\n",
       "    .dataframe thead th {\n",
       "        text-align: right;\n",
       "    }\n",
       "</style>\n",
       "<table border=\"1\" class=\"dataframe\">\n",
       "  <thead>\n",
       "    <tr style=\"text-align: right;\">\n",
       "      <th></th>\n",
       "      <th>ID</th>\n",
       "      <th>Age</th>\n",
       "      <th>Sleep duration</th>\n",
       "      <th>Sleep efficiency</th>\n",
       "      <th>REM sleep percentage</th>\n",
       "      <th>Deep sleep percentage</th>\n",
       "      <th>Light sleep percentage</th>\n",
       "      <th>Awakenings</th>\n",
       "      <th>Caffeine consumption</th>\n",
       "      <th>Alcohol consumption</th>\n",
       "      <th>Smoking status</th>\n",
       "      <th>Exercise frequency</th>\n",
       "    </tr>\n",
       "  </thead>\n",
       "  <tbody>\n",
       "    <tr>\n",
       "      <th>count</th>\n",
       "      <td>452.000000</td>\n",
       "      <td>452.000000</td>\n",
       "      <td>452.000000</td>\n",
       "      <td>452.000000</td>\n",
       "      <td>452.000000</td>\n",
       "      <td>452.000000</td>\n",
       "      <td>452.000000</td>\n",
       "      <td>432.000000</td>\n",
       "      <td>427.000000</td>\n",
       "      <td>436.000000</td>\n",
       "      <td>452.000000</td>\n",
       "      <td>446.000000</td>\n",
       "    </tr>\n",
       "    <tr>\n",
       "      <th>mean</th>\n",
       "      <td>226.500000</td>\n",
       "      <td>40.285398</td>\n",
       "      <td>7.465708</td>\n",
       "      <td>0.788916</td>\n",
       "      <td>23.002212</td>\n",
       "      <td>52.960177</td>\n",
       "      <td>24.831858</td>\n",
       "      <td>1.641204</td>\n",
       "      <td>23.653396</td>\n",
       "      <td>1.245413</td>\n",
       "      <td>0.356195</td>\n",
       "      <td>1.791480</td>\n",
       "    </tr>\n",
       "    <tr>\n",
       "      <th>std</th>\n",
       "      <td>130.625419</td>\n",
       "      <td>13.172250</td>\n",
       "      <td>0.866625</td>\n",
       "      <td>0.135237</td>\n",
       "      <td>3.972466</td>\n",
       "      <td>15.561713</td>\n",
       "      <td>15.150774</td>\n",
       "      <td>1.356762</td>\n",
       "      <td>30.202785</td>\n",
       "      <td>1.643336</td>\n",
       "      <td>0.479404</td>\n",
       "      <td>1.428134</td>\n",
       "    </tr>\n",
       "    <tr>\n",
       "      <th>min</th>\n",
       "      <td>1.000000</td>\n",
       "      <td>9.000000</td>\n",
       "      <td>5.000000</td>\n",
       "      <td>0.500000</td>\n",
       "      <td>15.000000</td>\n",
       "      <td>20.000000</td>\n",
       "      <td>7.000000</td>\n",
       "      <td>0.000000</td>\n",
       "      <td>0.000000</td>\n",
       "      <td>0.000000</td>\n",
       "      <td>0.000000</td>\n",
       "      <td>0.000000</td>\n",
       "    </tr>\n",
       "    <tr>\n",
       "      <th>25%</th>\n",
       "      <td>113.750000</td>\n",
       "      <td>29.000000</td>\n",
       "      <td>7.000000</td>\n",
       "      <td>0.697500</td>\n",
       "      <td>20.000000</td>\n",
       "      <td>51.250000</td>\n",
       "      <td>15.000000</td>\n",
       "      <td>1.000000</td>\n",
       "      <td>0.000000</td>\n",
       "      <td>0.000000</td>\n",
       "      <td>0.000000</td>\n",
       "      <td>0.000000</td>\n",
       "    </tr>\n",
       "    <tr>\n",
       "      <th>50%</th>\n",
       "      <td>226.500000</td>\n",
       "      <td>40.000000</td>\n",
       "      <td>7.500000</td>\n",
       "      <td>0.820000</td>\n",
       "      <td>22.000000</td>\n",
       "      <td>60.000000</td>\n",
       "      <td>18.000000</td>\n",
       "      <td>1.000000</td>\n",
       "      <td>25.000000</td>\n",
       "      <td>0.000000</td>\n",
       "      <td>0.000000</td>\n",
       "      <td>2.000000</td>\n",
       "    </tr>\n",
       "    <tr>\n",
       "      <th>75%</th>\n",
       "      <td>339.250000</td>\n",
       "      <td>52.000000</td>\n",
       "      <td>8.000000</td>\n",
       "      <td>0.900000</td>\n",
       "      <td>27.000000</td>\n",
       "      <td>63.000000</td>\n",
       "      <td>27.250000</td>\n",
       "      <td>3.000000</td>\n",
       "      <td>50.000000</td>\n",
       "      <td>2.000000</td>\n",
       "      <td>1.000000</td>\n",
       "      <td>3.000000</td>\n",
       "    </tr>\n",
       "    <tr>\n",
       "      <th>max</th>\n",
       "      <td>452.000000</td>\n",
       "      <td>69.000000</td>\n",
       "      <td>10.000000</td>\n",
       "      <td>0.990000</td>\n",
       "      <td>30.000000</td>\n",
       "      <td>75.000000</td>\n",
       "      <td>56.000000</td>\n",
       "      <td>4.000000</td>\n",
       "      <td>200.000000</td>\n",
       "      <td>5.000000</td>\n",
       "      <td>1.000000</td>\n",
       "      <td>5.000000</td>\n",
       "    </tr>\n",
       "  </tbody>\n",
       "</table>\n",
       "</div>"
      ],
      "text/plain": [
       "               ID         Age  Sleep duration  Sleep efficiency  \\\n",
       "count  452.000000  452.000000      452.000000        452.000000   \n",
       "mean   226.500000   40.285398        7.465708          0.788916   \n",
       "std    130.625419   13.172250        0.866625          0.135237   \n",
       "min      1.000000    9.000000        5.000000          0.500000   \n",
       "25%    113.750000   29.000000        7.000000          0.697500   \n",
       "50%    226.500000   40.000000        7.500000          0.820000   \n",
       "75%    339.250000   52.000000        8.000000          0.900000   \n",
       "max    452.000000   69.000000       10.000000          0.990000   \n",
       "\n",
       "       REM sleep percentage  Deep sleep percentage  Light sleep percentage  \\\n",
       "count            452.000000             452.000000              452.000000   \n",
       "mean              23.002212              52.960177               24.831858   \n",
       "std                3.972466              15.561713               15.150774   \n",
       "min               15.000000              20.000000                7.000000   \n",
       "25%               20.000000              51.250000               15.000000   \n",
       "50%               22.000000              60.000000               18.000000   \n",
       "75%               27.000000              63.000000               27.250000   \n",
       "max               30.000000              75.000000               56.000000   \n",
       "\n",
       "       Awakenings  Caffeine consumption  Alcohol consumption  Smoking status  \\\n",
       "count  432.000000            427.000000           436.000000      452.000000   \n",
       "mean     1.641204             23.653396             1.245413        0.356195   \n",
       "std      1.356762             30.202785             1.643336        0.479404   \n",
       "min      0.000000              0.000000             0.000000        0.000000   \n",
       "25%      1.000000              0.000000             0.000000        0.000000   \n",
       "50%      1.000000             25.000000             0.000000        0.000000   \n",
       "75%      3.000000             50.000000             2.000000        1.000000   \n",
       "max      4.000000            200.000000             5.000000        1.000000   \n",
       "\n",
       "       Exercise frequency  \n",
       "count          446.000000  \n",
       "mean             1.791480  \n",
       "std              1.428134  \n",
       "min              0.000000  \n",
       "25%              0.000000  \n",
       "50%              2.000000  \n",
       "75%              3.000000  \n",
       "max              5.000000  "
      ]
     },
     "execution_count": 189,
     "metadata": {},
     "output_type": "execute_result"
    }
   ],
   "source": [
    "sleep.describe()"
   ]
  },
  {
   "cell_type": "markdown",
   "id": "0e12b433-b8df-4d83-a888-8d4da7e61c2e",
   "metadata": {},
   "source": [
    "All columns have 452 observations except for awakening (432), Caffeine Cons. (427), Alcohol Cons. (436), and Exercise Freq. (446)"
   ]
  },
  {
   "cell_type": "markdown",
   "id": "4306cf56-0e56-4bc9-b317-9b5fd05fdfc6",
   "metadata": {
    "tags": []
   },
   "source": [
    "##### Q3 \n",
    "how many entries are missing for each column"
   ]
  },
  {
   "cell_type": "code",
   "execution_count": 190,
   "id": "4dddb6eb-cd6e-4b22-ab32-ac2e70136e4d",
   "metadata": {
    "tags": []
   },
   "outputs": [
    {
     "data": {
      "text/plain": [
       "ID                         0.0\n",
       "Age                        0.0\n",
       "Sleep duration             0.0\n",
       "Sleep efficiency           0.0\n",
       "REM sleep percentage       0.0\n",
       "Deep sleep percentage      0.0\n",
       "Light sleep percentage     0.0\n",
       "Awakenings                20.0\n",
       "Caffeine consumption      25.0\n",
       "Alcohol consumption       16.0\n",
       "Smoking status             0.0\n",
       "Exercise frequency         6.0\n",
       "Name: count, dtype: float64"
      ]
     },
     "execution_count": 190,
     "metadata": {},
     "output_type": "execute_result"
    }
   ],
   "source": [
    "452 - sleep.describe().loc['count']"
   ]
  },
  {
   "cell_type": "code",
   "execution_count": 191,
   "id": "957e0a7f-95ce-41ac-8806-d93bffb0a541",
   "metadata": {
    "tags": []
   },
   "outputs": [
    {
     "data": {
      "text/plain": [
       "67"
      ]
     },
     "execution_count": 191,
     "metadata": {},
     "output_type": "execute_result"
    }
   ],
   "source": [
    "sum(sleep.isna().sum()) # There are 67 individual sleeppoints that are missing"
   ]
  },
  {
   "cell_type": "code",
   "execution_count": 192,
   "id": "b738138f-c864-426c-82f1-513b4f51f269",
   "metadata": {
    "tags": []
   },
   "outputs": [
    {
     "data": {
      "text/plain": [
       "0    386\n",
       "1     65\n",
       "2      1\n",
       "Name: count, dtype: int64"
      ]
     },
     "execution_count": 192,
     "metadata": {},
     "output_type": "execute_result"
    }
   ],
   "source": [
    "sleep.isna().sum(axis=1).value_counts() # one person is missing two sleeppoints"
   ]
  },
  {
   "cell_type": "code",
   "execution_count": 193,
   "id": "9443bd7d-ca61-481a-a758-64f3df4c3574",
   "metadata": {
    "tags": []
   },
   "outputs": [
    {
     "data": {
      "text/plain": [
       "66"
      ]
     },
     "execution_count": 193,
     "metadata": {},
     "output_type": "execute_result"
    }
   ],
   "source": [
    "sum(sleep.isna().sum(axis=1)>0) # 66 Individuals have missing sleep"
   ]
  },
  {
   "cell_type": "code",
   "execution_count": 194,
   "id": "8f9166d6-4c75-48c4-95bb-08799e2703a8",
   "metadata": {
    "tags": []
   },
   "outputs": [
    {
     "data": {
      "text/plain": [
       "array(['Awakenings', 'Caffeine consumption', 'Alcohol consumption',\n",
       "       'Exercise frequency'], dtype=object)"
      ]
     },
     "execution_count": 194,
     "metadata": {},
     "output_type": "execute_result"
    }
   ],
   "source": [
    "missing_features = sleep.loc[:,sleep.isna().sum()!=0].columns.values\n",
    "missing_features"
   ]
  },
  {
   "cell_type": "markdown",
   "id": "ca36a4a2-7764-40da-9ef8-84eac341ef02",
   "metadata": {},
   "source": [
    "Awakenings is missing 20 observations, Caffeine 25, Alcohol 16, and Exercise 6.  All other columns have no missing values."
   ]
  },
  {
   "cell_type": "markdown",
   "id": "63678f83-4260-4f8f-a9bb-dd408799739e",
   "metadata": {},
   "source": [
    "##### Q4\n",
    "for each missing entry, impute the missing values using the\n",
    "following procedure:\\\n",
    "a) find 5 people with the same gender with the closest age\n",
    "(”neighbors”)\\\n",
    "b) compute the average of these ”neighbors” as the value"
   ]
  },
  {
   "cell_type": "markdown",
   "id": "7cd0b994-f714-422e-b403-f74a97f345f8",
   "metadata": {},
   "source": [
    "Steps: \n",
    "1) find columns with missing values.\n",
    "2) get indices of missing values and for each missing value and store missing column indices:\n",
    "    a) get 5 closest same-sex neighbors by age and store their info for missing values.\n",
    "    b) average and impute"
   ]
  },
  {
   "cell_type": "markdown",
   "id": "40710511-3dad-4d08-a1a0-486845c29c0b",
   "metadata": {},
   "source": [
    "Outer loop: missing features\n",
    "inner loop (per feature): missing observations"
   ]
  },
  {
   "cell_type": "code",
   "execution_count": 195,
   "id": "e655640c-ecdf-4a00-9a41-35900f35d4b7",
   "metadata": {
    "tags": []
   },
   "outputs": [],
   "source": [
    "def neighbors(data, feature, impute_dict):\n",
    "    \"\"\"args: dataFrame with missing values, the feature to be imputed,\n",
    "    and the dictionary in which to store the imputed values\"\"\"\n",
    "    data = data[['Age','ID','Gender',feature]]\n",
    "    miss_feat = data[data[feature].isna()]\n",
    "    miss_feat_m = miss_feat[miss_feat.Gender == 'Male']\n",
    "    miss_feat_f = miss_feat[miss_feat.Gender == 'Female']\n",
    "    has_feat_mask = ~data.index.isin(miss_feat.index)\n",
    "    others_m = data[np.bitwise_and(has_feat_mask,data.Gender=='Male')]\n",
    "    others_f = data[np.bitwise_and(has_feat_mask,data.Gender=='Female')]\n",
    "    for sex in ['Male','Female']:\n",
    "        if sex == 'Female':\n",
    "            for inx in miss_feat_f.index:   \n",
    "                age_diff = others_f.Age - miss_feat_f['Age'][inx]\n",
    "                \n",
    "                nearest_inx = age_diff.abs().sort_values()[0:5].index\n",
    "                nearest_mean = others_f[feature][nearest_inx].values.mean()\n",
    "                if inx in impute_dict:\n",
    "                    impute_dict[inx] = impute_dict[inx].update({feature:\n",
    "                                                    (nearest_mean,nearest_inx)})\n",
    "                    \n",
    "                else:\n",
    "                    impute_dict[inx] = {feature: (nearest_mean,nearest_inx)}\n",
    "        else:\n",
    "            for inx in miss_feat_m.index:\n",
    "                age_diff = others_m.Age - miss_feat_m['Age'][inx]\n",
    "                nearest_inx = age_diff.abs().sort_values()[0:5].index\n",
    "                nearest_mean = others_m[feature][nearest_inx].values.mean()\n",
    "                if inx in impute_dict:\n",
    "                    impute_dict[inx].update({feature:\n",
    "                                                    (nearest_mean,nearest_inx)})\n",
    "                else:\n",
    "                    impute_dict[inx] = {feature: (nearest_mean,nearest_inx)}\n",
    "    return impute_dict"
   ]
  },
  {
   "cell_type": "code",
   "execution_count": 196,
   "id": "ba7f60ee-79cb-43be-a0ed-fdfbc9bb30b4",
   "metadata": {
    "tags": []
   },
   "outputs": [],
   "source": [
    "full_impute_dict = {}\n",
    "for feature in missing_features:\n",
    "    full_impute_dict.update(neighbors(sleep,feature,full_impute_dict))"
   ]
  },
  {
   "cell_type": "code",
   "execution_count": 197,
   "id": "8f4489b6-341e-4c0f-b6e2-d2565c0ea505",
   "metadata": {
    "tags": []
   },
   "outputs": [
    {
     "data": {
      "text/plain": [
       "{19: {'Awakenings': (1.0, Index([222, 67, 366, 199, 41], dtype='int64'))},\n",
       " 85: {'Awakenings': (1.4, Index([233, 340, 7, 97, 344], dtype='int64'))},\n",
       " 123: {'Awakenings': (2.0, Index([424, 54, 31, 451, 65], dtype='int64'))},\n",
       " 138: {'Awakenings': (1.4, Index([420, 72, 11, 438, 80], dtype='int64'))},\n",
       " 143: {'Awakenings': (2.0, Index([125, 345, 321, 439, 313], dtype='int64'))},\n",
       " 170: {'Awakenings': (2.0, Index([30, 444, 192, 266, 20], dtype='int64'))},\n",
       " 249: {'Awakenings': (1.2, Index([379, 210, 209, 200, 155], dtype='int64'))},\n",
       " 337: {'Awakenings': (1.0, Index([222, 67, 366, 199, 41], dtype='int64'))},\n",
       " 352: {'Awakenings': (1.0, Index([222, 67, 366, 199, 41], dtype='int64'))},\n",
       " 404: {'Awakenings': (2.0, Index([30, 444, 192, 266, 20], dtype='int64')),\n",
       "  'Caffeine consumption': (10.0,\n",
       "   Index([444, 192, 107, 266, 30], dtype='int64'))},\n",
       " 135: {'Awakenings': (0.4, Index([264, 184, 277, 174, 387], dtype='int64'))},\n",
       " 149: {'Awakenings': (2.4, Index([128, 171, 310, 44, 98], dtype='int64'))},\n",
       " 244: {'Awakenings': (0.8, Index([276, 140, 33, 261, 49], dtype='int64'))},\n",
       " 287: {'Awakenings': (1.8, Index([449, 105, 147, 166, 17], dtype='int64'))},\n",
       " 288: {'Awakenings': (2.4, Index([59, 58, 44, 63, 380], dtype='int64'))},\n",
       " 307: {'Awakenings': (2.4, Index([221, 423, 422, 8, 342], dtype='int64'))},\n",
       " 315: {'Awakenings': (1.8, Index([449, 105, 147, 166, 17], dtype='int64'))},\n",
       " 327: {'Awakenings': (1.8, Index([270, 103, 177, 194, 335], dtype='int64'))},\n",
       " 407: {'Awakenings': (1.0, Index([380, 256, 298, 63, 246], dtype='int64'))},\n",
       " 434: {'Awakenings': (1.2, Index([38, 414, 141, 309, 440], dtype='int64'))},\n",
       " 24: {'Caffeine consumption': (10.0,\n",
       "   Index([444, 192, 107, 266, 30], dtype='int64'))},\n",
       " 57: {'Caffeine consumption': (0.0,\n",
       "   Index([93, 78, 75, 265, 417], dtype='int64'))},\n",
       " 64: {'Caffeine consumption': (50.0,\n",
       "   Index([117, 347, 159, 62, 251], dtype='int64'))},\n",
       " 114: {'Caffeine consumption': (30.0,\n",
       "   Index([230, 240, 21, 251, 117], dtype='int64'))},\n",
       " 136: {'Caffeine consumption': (30.0,\n",
       "   Index([243, 352, 429, 199, 366], dtype='int64'))},\n",
       " 164: {'Caffeine consumption': (0.0,\n",
       "   Index([88, 122, 142, 376, 401], dtype='int64'))},\n",
       " 175: {'Caffeine consumption': (40.0,\n",
       "   Index([160, 161, 146, 239, 358], dtype='int64'))},\n",
       " 203: {'Caffeine consumption': (30.0,\n",
       "   Index([294, 224, 402, 36, 55], dtype='int64'))},\n",
       " 321: {'Caffeine consumption': (5.0,\n",
       "   Index([66, 248, 313, 302, 439], dtype='int64'))},\n",
       " 355: {'Caffeine consumption': (15.0,\n",
       "   Index([92, 383, 373, 294, 69], dtype='int64'))},\n",
       " 390: {'Caffeine consumption': (20.0,\n",
       "   Index([419, 188, 65, 299, 216], dtype='int64'))},\n",
       " 5: {'Caffeine consumption': (35.0,\n",
       "   Index([232, 246, 389, 131, 14], dtype='int64'))},\n",
       " 26: {'Caffeine consumption': (35.0,\n",
       "   Index([232, 246, 389, 131, 14], dtype='int64'))},\n",
       " 37: {'Caffeine consumption': (20.0,\n",
       "   Index([351, 48, 16, 377, 234], dtype='int64'))},\n",
       " 60: {'Caffeine consumption': (30.0,\n",
       "   Index([198, 371, 71, 205, 385], dtype='int64'))},\n",
       " 63: {'Caffeine consumption': (25.0,\n",
       "   Index([256, 298, 380, 407, 246], dtype='int64'))},\n",
       " 169: {'Caffeine consumption': (30.0,\n",
       "   Index([394, 102, 218, 308, 360], dtype='int64'))},\n",
       " 186: {'Caffeine consumption': (20.0,\n",
       "   Index([261, 244, 238, 276, 220], dtype='int64'))},\n",
       " 215: {'Caffeine consumption': (25.0,\n",
       "   Index([311, 365, 388, 48, 156], dtype='int64'))},\n",
       " 270: {'Caffeine consumption': (35.0,\n",
       "   Index([103, 327, 177, 194, 335], dtype='int64'))},\n",
       " 324: {'Caffeine consumption': (35.0,\n",
       "   Index([103, 327, 177, 194, 335], dtype='int64'))},\n",
       " 392: {'Caffeine consumption': (20.0,\n",
       "   Index([261, 244, 238, 276, 220], dtype='int64'))},\n",
       " 442: {'Caffeine consumption': (35.0,\n",
       "   Index([447, 333, 47, 297, 357], dtype='int64'))},\n",
       " 449: {'Caffeine consumption': (25.0,\n",
       "   Index([17, 83, 105, 147, 166], dtype='int64'))},\n",
       " 20: {'Alcohol consumption': (2.2,\n",
       "   Index([107, 444, 24, 350, 170], dtype='int64'))},\n",
       " 75: {'Alcohol consumption': (1.6,\n",
       "   Index([417, 338, 265, 421, 317], dtype='int64'))},\n",
       " 129: {'Alcohol consumption': (2.4,\n",
       "   Index([304, 248, 439, 302, 125], dtype='int64'))},\n",
       " 187: {'Alcohol consumption': (2.4,\n",
       "   Index([306, 172, 214, 285, 269], dtype='int64'))},\n",
       " 192: {'Alcohol consumption': (2.2,\n",
       "   Index([107, 444, 24, 350, 170], dtype='int64'))},\n",
       " 395: {'Alcohol consumption': (0.6,\n",
       "   Index([437, 61, 367, 368, 393], dtype='int64'))},\n",
       " 405: {'Alcohol consumption': (0.6,\n",
       "   Index([437, 61, 367, 368, 393], dtype='int64'))},\n",
       " 420: {'Alcohol consumption': (2.6,\n",
       "   Index([72, 318, 432, 138, 438], dtype='int64'))},\n",
       " 426: {'Alcohol consumption': (2.6,\n",
       "   Index([229, 32, 304, 378, 172], dtype='int64'))},\n",
       " 140: {'Alcohol consumption': (1.4,\n",
       "   Index([49, 276, 261, 244, 238], dtype='int64'))},\n",
       " 148: {'Alcohol consumption': (1.4,\n",
       "   Index([289, 425, 329, 297, 275], dtype='int64'))},\n",
       " 158: {'Alcohol consumption': (2.8,\n",
       "   Index([121, 53, 332, 284, 9], dtype='int64'))},\n",
       " 185: {'Alcohol consumption': (0.6,\n",
       "   Index([232, 131, 5, 246, 14], dtype='int64'))},\n",
       " 219: {'Alcohol consumption': (3.0,\n",
       "   Index([332, 121, 9, 53, 211], dtype='int64'))},\n",
       " 336: {'Alcohol consumption': (0.6,\n",
       "   Index([151, 271, 182, 163, 416], dtype='int64'))},\n",
       " 440: {'Alcohol consumption': (1.4,\n",
       "   Index([38, 235, 309, 141, 434], dtype='int64'))},\n",
       " 62: {'Exercise frequency': (2.0,\n",
       "   Index([81, 362, 64, 13, 159], dtype='int64'))},\n",
       " 304: {'Exercise frequency': (2.6,\n",
       "   Index([66, 345, 321, 313, 302], dtype='int64'))},\n",
       " 366: {'Exercise frequency': (2.2,\n",
       "   Index([429, 199, 41, 352, 448], dtype='int64'))},\n",
       " 446: {'Exercise frequency': (2.8,\n",
       "   Index([112, 428, 28, 216, 115], dtype='int64'))},\n",
       " 33: {'Exercise frequency': (3.2,\n",
       "   Index([400, 431, 186, 261, 392], dtype='int64'))},\n",
       " 262: {'Exercise frequency': (1.4,\n",
       "   Index([204, 145, 206, 43, 70], dtype='int64'))}}"
      ]
     },
     "execution_count": 197,
     "metadata": {},
     "output_type": "execute_result"
    }
   ],
   "source": [
    "full_impute_dict"
   ]
  },
  {
   "cell_type": "markdown",
   "id": "b665747d-6923-49b1-a393-9faca1e70126",
   "metadata": {},
   "source": [
    "Now take the mean values and add to the sleepframes"
   ]
  },
  {
   "cell_type": "code",
   "execution_count": 198,
   "id": "b15f538f-2a1e-41cb-bc37-9892038c6aeb",
   "metadata": {
    "tags": []
   },
   "outputs": [],
   "source": [
    "for inx in full_impute_dict:\n",
    "    for feat in full_impute_dict[inx]:\n",
    "        sleep.loc[inx,feat] = full_impute_dict[inx][feat][0]"
   ]
  },
  {
   "cell_type": "code",
   "execution_count": 199,
   "id": "5a0ad07d-f44d-4104-9a82-b8533696ad31",
   "metadata": {
    "tags": []
   },
   "outputs": [
    {
     "data": {
      "text/plain": [
       "0"
      ]
     },
     "execution_count": 199,
     "metadata": {},
     "output_type": "execute_result"
    }
   ],
   "source": [
    "sleep.isna().sum().sum()"
   ]
  },
  {
   "cell_type": "markdown",
   "id": "d4eb985a-15e4-4599-9922-e9c921068948",
   "metadata": {
    "tags": []
   },
   "source": [
    "##### Q5 \n",
    "divide all people into the following groups:\n",
    "* Group 1: children (1-12)\n",
    "* Group 2: teenagers (13-17)\n",
    "* Group 3: young adults (18-30)\n",
    "* Group 4: adults (31-60)\n",
    "* Group 5: older adults (65+)\n",
    "\n",
    "For each group, compute the mean and standard deviation\n",
    "and summarize them in three tables (like one below): one\n",
    "table for females, one tables for males and one combined\n",
    "\n",
    "<img src='./table_q5.png' width=400 height=300/>\n"
   ]
  },
  {
   "cell_type": "code",
   "execution_count": 200,
   "id": "872f30b4-c72b-4c4f-aadc-007779d36bfc",
   "metadata": {
    "tags": []
   },
   "outputs": [
    {
     "data": {
      "text/plain": [
       "Index(['ID', 'Age', 'Gender', 'Bedtime', 'Wakeup time', 'Sleep duration',\n",
       "       'Sleep efficiency', 'REM sleep percentage', 'Deep sleep percentage',\n",
       "       'Light sleep percentage', 'Awakenings', 'Caffeine consumption',\n",
       "       'Alcohol consumption', 'Smoking status', 'Exercise frequency'],\n",
       "      dtype='object')"
      ]
     },
     "execution_count": 200,
     "metadata": {},
     "output_type": "execute_result"
    }
   ],
   "source": [
    "sleep.columns"
   ]
  },
  {
   "cell_type": "code",
   "execution_count": 201,
   "id": "7e0ea0f4-e3db-4ebd-88d6-b791f0703bef",
   "metadata": {
    "tags": []
   },
   "outputs": [],
   "source": [
    "sleep_numeric = sleep.select_dtypes(include=['int64','float64']).copy()"
   ]
  },
  {
   "cell_type": "code",
   "execution_count": 202,
   "id": "79947f40-19fe-4d8a-a75a-21241d5bbdd2",
   "metadata": {
    "tags": []
   },
   "outputs": [],
   "source": [
    "metric_cols = ['Age','Sleep duration','Sleep efficiency', 'REM sleep percentage', 'Deep sleep percentage',\n",
    "       'Light sleep percentage', 'Awakenings','Smoking status','Exercise frequency']"
   ]
  },
  {
   "cell_type": "code",
   "execution_count": 203,
   "id": "81cf5d21-0194-4cfa-8b31-a68a6f5577fa",
   "metadata": {
    "tags": []
   },
   "outputs": [],
   "source": [
    "age_groups = [('children',1,12),('teenagers',13,17),('young_adults',18,30),\n",
    "          ('adults',31,60),('older_adults',65,125)]\n",
    "females = sleep[sleep.Gender=='Female']\n",
    "males = sleep[sleep.Gender=='Male']"
   ]
  },
  {
   "cell_type": "code",
   "execution_count": 204,
   "id": "45069a3d-6f75-4f68-9e35-42ccc84a5c5d",
   "metadata": {
    "tags": []
   },
   "outputs": [],
   "source": [
    "def data_msg(m,s):\n",
    "    \"\"\"to handle lack of data to compute mean, std\"\"\"\n",
    "    try: msg = \"mean: {:.2f}, std: {:.2f}\".format(m,s)\n",
    "    except ValueError: msg = 'No_Data'\n",
    "    return msg"
   ]
  },
  {
   "cell_type": "code",
   "execution_count": 205,
   "id": "9761d635-bcc3-4f71-ad86-15dc522d5678",
   "metadata": {
    "tags": []
   },
   "outputs": [],
   "source": [
    "def summary_stats(data, age_group):\n",
    "    std_dev = data[(data.Age>=age_group[1]) & \n",
    "                   (data.Age<=age_group[2])][metric_cols].std()\n",
    "    mean = data[(data.Age>=age_group[1]) & \n",
    "                   (data.Age<=age_group[2])][metric_cols].mean()\n",
    "    std_dev = std_dev.fillna(value='No_Data')\n",
    "    mean = mean.fillna(value='No_Data')\n",
    "    metrics = zip(metric_cols,[data_msg(m,s) for m,s \n",
    "                               in zip (mean,std_dev)])\n",
    "    return {v[0]:v[1] for v in metrics}"
   ]
  },
  {
   "cell_type": "code",
   "execution_count": 206,
   "id": "5b96bb3c-2a2a-48b5-98da-97abfd8d38ff",
   "metadata": {
    "tags": []
   },
   "outputs": [],
   "source": [
    "age_group = age_groups[0]\n",
    "\n",
    "std_dev = males[(males.Age>=age_group[1]) & \n",
    "                   (males.Age<=age_group[2])][metric_cols].std()\n",
    "mean = males[(males.Age>=age_group[1]) & \n",
    "               (males.Age<=age_group[2])][metric_cols].mean()\n",
    "\n",
    "metrics = zip(metric_cols,[\"mean: {:.2f}, std: {:.2f}\".format(m,s) for m,s \n",
    "                               in zip (mean,std_dev)])"
   ]
  },
  {
   "cell_type": "code",
   "execution_count": 207,
   "id": "d3ac9e74-f62f-4f94-b38d-b417d93e8080",
   "metadata": {
    "tags": []
   },
   "outputs": [
    {
     "data": {
      "text/plain": [
       "[('Age', 'mean: nan, std: nan'),\n",
       " ('Sleep duration', 'mean: nan, std: nan'),\n",
       " ('Sleep efficiency', 'mean: nan, std: nan'),\n",
       " ('REM sleep percentage', 'mean: nan, std: nan'),\n",
       " ('Deep sleep percentage', 'mean: nan, std: nan'),\n",
       " ('Light sleep percentage', 'mean: nan, std: nan'),\n",
       " ('Awakenings', 'mean: nan, std: nan'),\n",
       " ('Smoking status', 'mean: nan, std: nan'),\n",
       " ('Exercise frequency', 'mean: nan, std: nan')]"
      ]
     },
     "execution_count": 207,
     "metadata": {},
     "output_type": "execute_result"
    }
   ],
   "source": [
    "list(metrics)"
   ]
  },
  {
   "cell_type": "code",
   "execution_count": 208,
   "id": "f770ae62-13e5-49e6-bada-361e247ae49f",
   "metadata": {
    "tags": []
   },
   "outputs": [
    {
     "data": {
      "text/plain": [
       "Index(['ID', 'Age', 'Gender', 'Bedtime', 'Wakeup time', 'Sleep duration',\n",
       "       'Sleep efficiency', 'REM sleep percentage', 'Deep sleep percentage',\n",
       "       'Light sleep percentage', 'Awakenings', 'Caffeine consumption',\n",
       "       'Alcohol consumption', 'Smoking status', 'Exercise frequency'],\n",
       "      dtype='object')"
      ]
     },
     "execution_count": 208,
     "metadata": {},
     "output_type": "execute_result"
    }
   ],
   "source": [
    "males.columns"
   ]
  },
  {
   "cell_type": "code",
   "execution_count": 209,
   "id": "91c37b9b-bb6c-4b1b-8d08-21aca76b8501",
   "metadata": {
    "tags": []
   },
   "outputs": [],
   "source": [
    "male_ag_df = pd.DataFrame()\n",
    "for ag in age_groups:\n",
    "    male_ag_df[ag[0]] = pd.Series(summary_stats(males, ag))\n",
    "male_ag_df.index.name = 'Metric'\n",
    "male_ag_df.columns.name = 'Age_Group'"
   ]
  },
  {
   "cell_type": "code",
   "execution_count": 210,
   "id": "4f185aad-80e7-44cb-b469-165a2c3e4ca8",
   "metadata": {
    "tags": []
   },
   "outputs": [
    {
     "data": {
      "text/html": [
       "<div>\n",
       "<style scoped>\n",
       "    .dataframe tbody tr th:only-of-type {\n",
       "        vertical-align: middle;\n",
       "    }\n",
       "\n",
       "    .dataframe tbody tr th {\n",
       "        vertical-align: top;\n",
       "    }\n",
       "\n",
       "    .dataframe thead th {\n",
       "        text-align: right;\n",
       "    }\n",
       "</style>\n",
       "<table border=\"1\" class=\"dataframe\">\n",
       "  <thead>\n",
       "    <tr style=\"text-align: right;\">\n",
       "      <th>Age_Group</th>\n",
       "      <th>children</th>\n",
       "      <th>teenagers</th>\n",
       "      <th>young_adults</th>\n",
       "      <th>adults</th>\n",
       "      <th>older_adults</th>\n",
       "    </tr>\n",
       "    <tr>\n",
       "      <th>Metric</th>\n",
       "      <th></th>\n",
       "      <th></th>\n",
       "      <th></th>\n",
       "      <th></th>\n",
       "      <th></th>\n",
       "    </tr>\n",
       "  </thead>\n",
       "  <tbody>\n",
       "    <tr>\n",
       "      <th>Age</th>\n",
       "      <td>No_Data</td>\n",
       "      <td>No_Data</td>\n",
       "      <td>mean: 24.47, std: 2.99</td>\n",
       "      <td>mean: 48.65, std: 6.95</td>\n",
       "      <td>mean: 66.11, std: 1.54</td>\n",
       "    </tr>\n",
       "    <tr>\n",
       "      <th>Sleep duration</th>\n",
       "      <td>No_Data</td>\n",
       "      <td>No_Data</td>\n",
       "      <td>mean: 7.45, std: 0.66</td>\n",
       "      <td>mean: 7.40, std: 0.91</td>\n",
       "      <td>mean: 7.44, std: 1.04</td>\n",
       "    </tr>\n",
       "    <tr>\n",
       "      <th>Sleep efficiency</th>\n",
       "      <td>No_Data</td>\n",
       "      <td>No_Data</td>\n",
       "      <td>mean: 0.75, std: 0.14</td>\n",
       "      <td>mean: 0.81, std: 0.12</td>\n",
       "      <td>mean: 0.74, std: 0.11</td>\n",
       "    </tr>\n",
       "    <tr>\n",
       "      <th>REM sleep percentage</th>\n",
       "      <td>No_Data</td>\n",
       "      <td>No_Data</td>\n",
       "      <td>mean: 22.05, std: 4.54</td>\n",
       "      <td>mean: 22.39, std: 3.79</td>\n",
       "      <td>mean: 23.78, std: 3.80</td>\n",
       "    </tr>\n",
       "    <tr>\n",
       "      <th>Deep sleep percentage</th>\n",
       "      <td>No_Data</td>\n",
       "      <td>No_Data</td>\n",
       "      <td>mean: 50.90, std: 19.08</td>\n",
       "      <td>mean: 55.13, std: 13.89</td>\n",
       "      <td>mean: 50.44, std: 16.43</td>\n",
       "    </tr>\n",
       "    <tr>\n",
       "      <th>Light sleep percentage</th>\n",
       "      <td>No_Data</td>\n",
       "      <td>No_Data</td>\n",
       "      <td>mean: 28.12, std: 17.13</td>\n",
       "      <td>mean: 22.58, std: 13.23</td>\n",
       "      <td>mean: 27.44, std: 17.26</td>\n",
       "    </tr>\n",
       "    <tr>\n",
       "      <th>Awakenings</th>\n",
       "      <td>No_Data</td>\n",
       "      <td>No_Data</td>\n",
       "      <td>mean: 1.95, std: 1.37</td>\n",
       "      <td>mean: 1.62, std: 1.32</td>\n",
       "      <td>mean: 2.67, std: 1.41</td>\n",
       "    </tr>\n",
       "    <tr>\n",
       "      <th>Smoking status</th>\n",
       "      <td>No_Data</td>\n",
       "      <td>No_Data</td>\n",
       "      <td>mean: 0.36, std: 0.48</td>\n",
       "      <td>mean: 0.43, std: 0.50</td>\n",
       "      <td>mean: 0.44, std: 0.53</td>\n",
       "    </tr>\n",
       "    <tr>\n",
       "      <th>Exercise frequency</th>\n",
       "      <td>No_Data</td>\n",
       "      <td>No_Data</td>\n",
       "      <td>mean: 2.14, std: 1.06</td>\n",
       "      <td>mean: 2.12, std: 1.27</td>\n",
       "      <td>mean: 2.56, std: 0.88</td>\n",
       "    </tr>\n",
       "  </tbody>\n",
       "</table>\n",
       "</div>"
      ],
      "text/plain": [
       "Age_Group              children teenagers             young_adults  \\\n",
       "Metric                                                               \n",
       "Age                     No_Data   No_Data   mean: 24.47, std: 2.99   \n",
       "Sleep duration          No_Data   No_Data    mean: 7.45, std: 0.66   \n",
       "Sleep efficiency        No_Data   No_Data    mean: 0.75, std: 0.14   \n",
       "REM sleep percentage    No_Data   No_Data   mean: 22.05, std: 4.54   \n",
       "Deep sleep percentage   No_Data   No_Data  mean: 50.90, std: 19.08   \n",
       "Light sleep percentage  No_Data   No_Data  mean: 28.12, std: 17.13   \n",
       "Awakenings              No_Data   No_Data    mean: 1.95, std: 1.37   \n",
       "Smoking status          No_Data   No_Data    mean: 0.36, std: 0.48   \n",
       "Exercise frequency      No_Data   No_Data    mean: 2.14, std: 1.06   \n",
       "\n",
       "Age_Group                                adults             older_adults  \n",
       "Metric                                                                    \n",
       "Age                      mean: 48.65, std: 6.95   mean: 66.11, std: 1.54  \n",
       "Sleep duration            mean: 7.40, std: 0.91    mean: 7.44, std: 1.04  \n",
       "Sleep efficiency          mean: 0.81, std: 0.12    mean: 0.74, std: 0.11  \n",
       "REM sleep percentage     mean: 22.39, std: 3.79   mean: 23.78, std: 3.80  \n",
       "Deep sleep percentage   mean: 55.13, std: 13.89  mean: 50.44, std: 16.43  \n",
       "Light sleep percentage  mean: 22.58, std: 13.23  mean: 27.44, std: 17.26  \n",
       "Awakenings                mean: 1.62, std: 1.32    mean: 2.67, std: 1.41  \n",
       "Smoking status            mean: 0.43, std: 0.50    mean: 0.44, std: 0.53  \n",
       "Exercise frequency        mean: 2.12, std: 1.27    mean: 2.56, std: 0.88  "
      ]
     },
     "execution_count": 210,
     "metadata": {},
     "output_type": "execute_result"
    }
   ],
   "source": [
    "male_ag_df"
   ]
  },
  {
   "cell_type": "code",
   "execution_count": 211,
   "id": "bc6bc246-05b0-44cc-b5ae-12e5f1d49e24",
   "metadata": {
    "tags": []
   },
   "outputs": [],
   "source": [
    "female_ag_df = pd.DataFrame()\n",
    "for ag in age_groups:\n",
    "    female_ag_df[ag[0]] = pd.Series(summary_stats(females, ag))\n",
    "female_ag_df.index.name = 'Metric'\n",
    "female_ag_df.columns.name = 'Age_Group'"
   ]
  },
  {
   "cell_type": "code",
   "execution_count": 212,
   "id": "7c99412a-107f-4101-b960-f467a39597f1",
   "metadata": {
    "tags": []
   },
   "outputs": [
    {
     "data": {
      "text/html": [
       "<div>\n",
       "<style scoped>\n",
       "    .dataframe tbody tr th:only-of-type {\n",
       "        vertical-align: middle;\n",
       "    }\n",
       "\n",
       "    .dataframe tbody tr th {\n",
       "        vertical-align: top;\n",
       "    }\n",
       "\n",
       "    .dataframe thead th {\n",
       "        text-align: right;\n",
       "    }\n",
       "</style>\n",
       "<table border=\"1\" class=\"dataframe\">\n",
       "  <thead>\n",
       "    <tr style=\"text-align: right;\">\n",
       "      <th>Age_Group</th>\n",
       "      <th>children</th>\n",
       "      <th>teenagers</th>\n",
       "      <th>young_adults</th>\n",
       "      <th>adults</th>\n",
       "      <th>older_adults</th>\n",
       "    </tr>\n",
       "    <tr>\n",
       "      <th>Metric</th>\n",
       "      <th></th>\n",
       "      <th></th>\n",
       "      <th></th>\n",
       "      <th></th>\n",
       "      <th></th>\n",
       "    </tr>\n",
       "  </thead>\n",
       "  <tbody>\n",
       "    <tr>\n",
       "      <th>Age</th>\n",
       "      <td>mean: 10.50, std: 1.29</td>\n",
       "      <td>mean: 15.00, std: 1.58</td>\n",
       "      <td>mean: 26.38, std: 3.26</td>\n",
       "      <td>mean: 41.20, std: 7.39</td>\n",
       "      <td>mean: 65.00, std: 0.00</td>\n",
       "    </tr>\n",
       "    <tr>\n",
       "      <th>Sleep duration</th>\n",
       "      <td>mean: 8.38, std: 0.95</td>\n",
       "      <td>mean: 7.70, std: 0.67</td>\n",
       "      <td>mean: 7.56, std: 0.87</td>\n",
       "      <td>mean: 7.44, std: 0.87</td>\n",
       "      <td>mean: 7.42, std: 1.02</td>\n",
       "    </tr>\n",
       "    <tr>\n",
       "      <th>Sleep efficiency</th>\n",
       "      <td>mean: 0.54, std: 0.02</td>\n",
       "      <td>mean: 0.63, std: 0.04</td>\n",
       "      <td>mean: 0.79, std: 0.14</td>\n",
       "      <td>mean: 0.81, std: 0.14</td>\n",
       "      <td>mean: 0.79, std: 0.17</td>\n",
       "    </tr>\n",
       "    <tr>\n",
       "      <th>REM sleep percentage</th>\n",
       "      <td>mean: 18.00, std: 0.00</td>\n",
       "      <td>mean: 18.80, std: 1.79</td>\n",
       "      <td>mean: 25.07, std: 3.28</td>\n",
       "      <td>mean: 23.39, std: 3.92</td>\n",
       "      <td>mean: 22.00, std: 3.58</td>\n",
       "    </tr>\n",
       "    <tr>\n",
       "      <th>Deep sleep percentage</th>\n",
       "      <td>mean: 35.00, std: 0.00</td>\n",
       "      <td>mean: 32.60, std: 5.37</td>\n",
       "      <td>mean: 53.68, std: 14.55</td>\n",
       "      <td>mean: 53.11, std: 15.19</td>\n",
       "      <td>mean: 50.83, std: 19.49</td>\n",
       "    </tr>\n",
       "    <tr>\n",
       "      <th>Light sleep percentage</th>\n",
       "      <td>mean: 45.00, std: 0.00</td>\n",
       "      <td>mean: 46.80, std: 4.02</td>\n",
       "      <td>mean: 24.13, std: 14.32</td>\n",
       "      <td>mean: 24.08, std: 15.28</td>\n",
       "      <td>mean: 27.00, std: 18.99</td>\n",
       "    </tr>\n",
       "    <tr>\n",
       "      <th>Awakenings</th>\n",
       "      <td>mean: 2.50, std: 1.29</td>\n",
       "      <td>mean: 2.00, std: 1.00</td>\n",
       "      <td>mean: 1.44, std: 1.33</td>\n",
       "      <td>mean: 1.51, std: 1.31</td>\n",
       "      <td>mean: 1.33, std: 1.63</td>\n",
       "    </tr>\n",
       "    <tr>\n",
       "      <th>Smoking status</th>\n",
       "      <td>mean: 1.00, std: 0.00</td>\n",
       "      <td>mean: 0.20, std: 0.45</td>\n",
       "      <td>mean: 0.41, std: 0.50</td>\n",
       "      <td>mean: 0.23, std: 0.43</td>\n",
       "      <td>mean: 0.50, std: 0.55</td>\n",
       "    </tr>\n",
       "    <tr>\n",
       "      <th>Exercise frequency</th>\n",
       "      <td>mean: 0.00, std: 0.00</td>\n",
       "      <td>mean: 0.00, std: 0.00</td>\n",
       "      <td>mean: 1.47, std: 1.33</td>\n",
       "      <td>mean: 1.69, std: 1.65</td>\n",
       "      <td>mean: 0.50, std: 1.22</td>\n",
       "    </tr>\n",
       "  </tbody>\n",
       "</table>\n",
       "</div>"
      ],
      "text/plain": [
       "Age_Group                             children               teenagers  \\\n",
       "Metric                                                                   \n",
       "Age                     mean: 10.50, std: 1.29  mean: 15.00, std: 1.58   \n",
       "Sleep duration           mean: 8.38, std: 0.95   mean: 7.70, std: 0.67   \n",
       "Sleep efficiency         mean: 0.54, std: 0.02   mean: 0.63, std: 0.04   \n",
       "REM sleep percentage    mean: 18.00, std: 0.00  mean: 18.80, std: 1.79   \n",
       "Deep sleep percentage   mean: 35.00, std: 0.00  mean: 32.60, std: 5.37   \n",
       "Light sleep percentage  mean: 45.00, std: 0.00  mean: 46.80, std: 4.02   \n",
       "Awakenings               mean: 2.50, std: 1.29   mean: 2.00, std: 1.00   \n",
       "Smoking status           mean: 1.00, std: 0.00   mean: 0.20, std: 0.45   \n",
       "Exercise frequency       mean: 0.00, std: 0.00   mean: 0.00, std: 0.00   \n",
       "\n",
       "Age_Group                          young_adults                   adults  \\\n",
       "Metric                                                                     \n",
       "Age                      mean: 26.38, std: 3.26   mean: 41.20, std: 7.39   \n",
       "Sleep duration            mean: 7.56, std: 0.87    mean: 7.44, std: 0.87   \n",
       "Sleep efficiency          mean: 0.79, std: 0.14    mean: 0.81, std: 0.14   \n",
       "REM sleep percentage     mean: 25.07, std: 3.28   mean: 23.39, std: 3.92   \n",
       "Deep sleep percentage   mean: 53.68, std: 14.55  mean: 53.11, std: 15.19   \n",
       "Light sleep percentage  mean: 24.13, std: 14.32  mean: 24.08, std: 15.28   \n",
       "Awakenings                mean: 1.44, std: 1.33    mean: 1.51, std: 1.31   \n",
       "Smoking status            mean: 0.41, std: 0.50    mean: 0.23, std: 0.43   \n",
       "Exercise frequency        mean: 1.47, std: 1.33    mean: 1.69, std: 1.65   \n",
       "\n",
       "Age_Group                          older_adults  \n",
       "Metric                                           \n",
       "Age                      mean: 65.00, std: 0.00  \n",
       "Sleep duration            mean: 7.42, std: 1.02  \n",
       "Sleep efficiency          mean: 0.79, std: 0.17  \n",
       "REM sleep percentage     mean: 22.00, std: 3.58  \n",
       "Deep sleep percentage   mean: 50.83, std: 19.49  \n",
       "Light sleep percentage  mean: 27.00, std: 18.99  \n",
       "Awakenings                mean: 1.33, std: 1.63  \n",
       "Smoking status            mean: 0.50, std: 0.55  \n",
       "Exercise frequency        mean: 0.50, std: 1.22  "
      ]
     },
     "execution_count": 212,
     "metadata": {},
     "output_type": "execute_result"
    }
   ],
   "source": [
    "female_ag_df"
   ]
  },
  {
   "cell_type": "code",
   "execution_count": 213,
   "id": "21f0d6f6-e4a4-475e-8a93-e245e69cc1a9",
   "metadata": {
    "tags": []
   },
   "outputs": [
    {
     "data": {
      "text/html": [
       "<div>\n",
       "<style scoped>\n",
       "    .dataframe tbody tr th:only-of-type {\n",
       "        vertical-align: middle;\n",
       "    }\n",
       "\n",
       "    .dataframe tbody tr th {\n",
       "        vertical-align: top;\n",
       "    }\n",
       "\n",
       "    .dataframe thead th {\n",
       "        text-align: right;\n",
       "    }\n",
       "</style>\n",
       "<table border=\"1\" class=\"dataframe\">\n",
       "  <thead>\n",
       "    <tr style=\"text-align: right;\">\n",
       "      <th></th>\n",
       "      <th>ID</th>\n",
       "      <th>Age</th>\n",
       "      <th>Gender</th>\n",
       "      <th>Bedtime</th>\n",
       "      <th>Wakeup time</th>\n",
       "      <th>Sleep duration</th>\n",
       "      <th>Sleep efficiency</th>\n",
       "      <th>REM sleep percentage</th>\n",
       "      <th>Deep sleep percentage</th>\n",
       "      <th>Light sleep percentage</th>\n",
       "      <th>Awakenings</th>\n",
       "      <th>Caffeine consumption</th>\n",
       "      <th>Alcohol consumption</th>\n",
       "      <th>Smoking status</th>\n",
       "      <th>Exercise frequency</th>\n",
       "    </tr>\n",
       "  </thead>\n",
       "  <tbody>\n",
       "    <tr>\n",
       "      <th>0</th>\n",
       "      <td>1</td>\n",
       "      <td>65</td>\n",
       "      <td>Female</td>\n",
       "      <td>2021-03-06 01:00:00</td>\n",
       "      <td>2021-03-06 07:00:00</td>\n",
       "      <td>6.0</td>\n",
       "      <td>0.88</td>\n",
       "      <td>18</td>\n",
       "      <td>70</td>\n",
       "      <td>10</td>\n",
       "      <td>0.0</td>\n",
       "      <td>0.0</td>\n",
       "      <td>0.0</td>\n",
       "      <td>1</td>\n",
       "      <td>3.0</td>\n",
       "    </tr>\n",
       "    <tr>\n",
       "      <th>2</th>\n",
       "      <td>3</td>\n",
       "      <td>40</td>\n",
       "      <td>Female</td>\n",
       "      <td>2021-05-25 21:30:00</td>\n",
       "      <td>2021-05-25 05:30:00</td>\n",
       "      <td>8.0</td>\n",
       "      <td>0.89</td>\n",
       "      <td>20</td>\n",
       "      <td>70</td>\n",
       "      <td>10</td>\n",
       "      <td>1.0</td>\n",
       "      <td>0.0</td>\n",
       "      <td>0.0</td>\n",
       "      <td>0</td>\n",
       "      <td>3.0</td>\n",
       "    </tr>\n",
       "    <tr>\n",
       "      <th>3</th>\n",
       "      <td>4</td>\n",
       "      <td>40</td>\n",
       "      <td>Female</td>\n",
       "      <td>2021-11-03 02:30:00</td>\n",
       "      <td>2021-11-03 08:30:00</td>\n",
       "      <td>6.0</td>\n",
       "      <td>0.51</td>\n",
       "      <td>28</td>\n",
       "      <td>25</td>\n",
       "      <td>52</td>\n",
       "      <td>3.0</td>\n",
       "      <td>50.0</td>\n",
       "      <td>5.0</td>\n",
       "      <td>1</td>\n",
       "      <td>1.0</td>\n",
       "    </tr>\n",
       "    <tr>\n",
       "      <th>5</th>\n",
       "      <td>6</td>\n",
       "      <td>36</td>\n",
       "      <td>Female</td>\n",
       "      <td>2021-07-01 21:00:00</td>\n",
       "      <td>2021-07-01 04:30:00</td>\n",
       "      <td>7.5</td>\n",
       "      <td>0.90</td>\n",
       "      <td>28</td>\n",
       "      <td>60</td>\n",
       "      <td>17</td>\n",
       "      <td>0.0</td>\n",
       "      <td>35.0</td>\n",
       "      <td>0.0</td>\n",
       "      <td>0</td>\n",
       "      <td>1.0</td>\n",
       "    </tr>\n",
       "    <tr>\n",
       "      <th>6</th>\n",
       "      <td>7</td>\n",
       "      <td>27</td>\n",
       "      <td>Female</td>\n",
       "      <td>2021-07-21 21:00:00</td>\n",
       "      <td>2021-07-21 03:00:00</td>\n",
       "      <td>6.0</td>\n",
       "      <td>0.54</td>\n",
       "      <td>28</td>\n",
       "      <td>25</td>\n",
       "      <td>52</td>\n",
       "      <td>2.0</td>\n",
       "      <td>50.0</td>\n",
       "      <td>0.0</td>\n",
       "      <td>1</td>\n",
       "      <td>1.0</td>\n",
       "    </tr>\n",
       "    <tr>\n",
       "      <th>...</th>\n",
       "      <td>...</td>\n",
       "      <td>...</td>\n",
       "      <td>...</td>\n",
       "      <td>...</td>\n",
       "      <td>...</td>\n",
       "      <td>...</td>\n",
       "      <td>...</td>\n",
       "      <td>...</td>\n",
       "      <td>...</td>\n",
       "      <td>...</td>\n",
       "      <td>...</td>\n",
       "      <td>...</td>\n",
       "      <td>...</td>\n",
       "      <td>...</td>\n",
       "      <td>...</td>\n",
       "    </tr>\n",
       "    <tr>\n",
       "      <th>442</th>\n",
       "      <td>443</td>\n",
       "      <td>27</td>\n",
       "      <td>Female</td>\n",
       "      <td>2021-02-06 01:30:00</td>\n",
       "      <td>2021-02-06 08:30:00</td>\n",
       "      <td>7.0</td>\n",
       "      <td>0.68</td>\n",
       "      <td>22</td>\n",
       "      <td>22</td>\n",
       "      <td>55</td>\n",
       "      <td>1.0</td>\n",
       "      <td>35.0</td>\n",
       "      <td>4.0</td>\n",
       "      <td>0</td>\n",
       "      <td>1.0</td>\n",
       "    </tr>\n",
       "    <tr>\n",
       "      <th>443</th>\n",
       "      <td>444</td>\n",
       "      <td>65</td>\n",
       "      <td>Female</td>\n",
       "      <td>2021-09-05 02:00:00</td>\n",
       "      <td>2021-09-05 09:30:00</td>\n",
       "      <td>7.5</td>\n",
       "      <td>0.67</td>\n",
       "      <td>22</td>\n",
       "      <td>23</td>\n",
       "      <td>54</td>\n",
       "      <td>4.0</td>\n",
       "      <td>50.0</td>\n",
       "      <td>2.0</td>\n",
       "      <td>0</td>\n",
       "      <td>0.0</td>\n",
       "    </tr>\n",
       "    <tr>\n",
       "      <th>445</th>\n",
       "      <td>446</td>\n",
       "      <td>30</td>\n",
       "      <td>Female</td>\n",
       "      <td>2021-11-16 23:00:00</td>\n",
       "      <td>2021-11-16 06:30:00</td>\n",
       "      <td>7.5</td>\n",
       "      <td>0.53</td>\n",
       "      <td>28</td>\n",
       "      <td>25</td>\n",
       "      <td>52</td>\n",
       "      <td>4.0</td>\n",
       "      <td>50.0</td>\n",
       "      <td>2.0</td>\n",
       "      <td>1</td>\n",
       "      <td>1.0</td>\n",
       "    </tr>\n",
       "    <tr>\n",
       "      <th>447</th>\n",
       "      <td>448</td>\n",
       "      <td>27</td>\n",
       "      <td>Female</td>\n",
       "      <td>2021-11-13 22:00:00</td>\n",
       "      <td>2021-11-13 05:30:00</td>\n",
       "      <td>7.5</td>\n",
       "      <td>0.91</td>\n",
       "      <td>25</td>\n",
       "      <td>57</td>\n",
       "      <td>21</td>\n",
       "      <td>0.0</td>\n",
       "      <td>0.0</td>\n",
       "      <td>0.0</td>\n",
       "      <td>0</td>\n",
       "      <td>5.0</td>\n",
       "    </tr>\n",
       "    <tr>\n",
       "      <th>449</th>\n",
       "      <td>450</td>\n",
       "      <td>40</td>\n",
       "      <td>Female</td>\n",
       "      <td>2021-09-07 23:00:00</td>\n",
       "      <td>2021-09-07 07:30:00</td>\n",
       "      <td>8.5</td>\n",
       "      <td>0.55</td>\n",
       "      <td>20</td>\n",
       "      <td>30</td>\n",
       "      <td>48</td>\n",
       "      <td>1.0</td>\n",
       "      <td>25.0</td>\n",
       "      <td>3.0</td>\n",
       "      <td>1</td>\n",
       "      <td>0.0</td>\n",
       "    </tr>\n",
       "  </tbody>\n",
       "</table>\n",
       "<p>224 rows × 15 columns</p>\n",
       "</div>"
      ],
      "text/plain": [
       "      ID  Age  Gender              Bedtime          Wakeup time  \\\n",
       "0      1   65  Female  2021-03-06 01:00:00  2021-03-06 07:00:00   \n",
       "2      3   40  Female  2021-05-25 21:30:00  2021-05-25 05:30:00   \n",
       "3      4   40  Female  2021-11-03 02:30:00  2021-11-03 08:30:00   \n",
       "5      6   36  Female  2021-07-01 21:00:00  2021-07-01 04:30:00   \n",
       "6      7   27  Female  2021-07-21 21:00:00  2021-07-21 03:00:00   \n",
       "..   ...  ...     ...                  ...                  ...   \n",
       "442  443   27  Female  2021-02-06 01:30:00  2021-02-06 08:30:00   \n",
       "443  444   65  Female  2021-09-05 02:00:00  2021-09-05 09:30:00   \n",
       "445  446   30  Female  2021-11-16 23:00:00  2021-11-16 06:30:00   \n",
       "447  448   27  Female  2021-11-13 22:00:00  2021-11-13 05:30:00   \n",
       "449  450   40  Female  2021-09-07 23:00:00  2021-09-07 07:30:00   \n",
       "\n",
       "     Sleep duration  Sleep efficiency  REM sleep percentage  \\\n",
       "0               6.0              0.88                    18   \n",
       "2               8.0              0.89                    20   \n",
       "3               6.0              0.51                    28   \n",
       "5               7.5              0.90                    28   \n",
       "6               6.0              0.54                    28   \n",
       "..              ...               ...                   ...   \n",
       "442             7.0              0.68                    22   \n",
       "443             7.5              0.67                    22   \n",
       "445             7.5              0.53                    28   \n",
       "447             7.5              0.91                    25   \n",
       "449             8.5              0.55                    20   \n",
       "\n",
       "     Deep sleep percentage  Light sleep percentage  Awakenings  \\\n",
       "0                       70                      10         0.0   \n",
       "2                       70                      10         1.0   \n",
       "3                       25                      52         3.0   \n",
       "5                       60                      17         0.0   \n",
       "6                       25                      52         2.0   \n",
       "..                     ...                     ...         ...   \n",
       "442                     22                      55         1.0   \n",
       "443                     23                      54         4.0   \n",
       "445                     25                      52         4.0   \n",
       "447                     57                      21         0.0   \n",
       "449                     30                      48         1.0   \n",
       "\n",
       "     Caffeine consumption  Alcohol consumption  Smoking status  \\\n",
       "0                     0.0                  0.0               1   \n",
       "2                     0.0                  0.0               0   \n",
       "3                    50.0                  5.0               1   \n",
       "5                    35.0                  0.0               0   \n",
       "6                    50.0                  0.0               1   \n",
       "..                    ...                  ...             ...   \n",
       "442                  35.0                  4.0               0   \n",
       "443                  50.0                  2.0               0   \n",
       "445                  50.0                  2.0               1   \n",
       "447                   0.0                  0.0               0   \n",
       "449                  25.0                  3.0               1   \n",
       "\n",
       "     Exercise frequency  \n",
       "0                   3.0  \n",
       "2                   3.0  \n",
       "3                   1.0  \n",
       "5                   1.0  \n",
       "6                   1.0  \n",
       "..                  ...  \n",
       "442                 1.0  \n",
       "443                 0.0  \n",
       "445                 1.0  \n",
       "447                 5.0  \n",
       "449                 0.0  \n",
       "\n",
       "[224 rows x 15 columns]"
      ]
     },
     "execution_count": 213,
     "metadata": {},
     "output_type": "execute_result"
    }
   ],
   "source": [
    "females"
   ]
  },
  {
   "cell_type": "code",
   "execution_count": 214,
   "id": "db8c1ecf-29f4-443d-8deb-fc61acdd85d5",
   "metadata": {
    "tags": []
   },
   "outputs": [
    {
     "data": {
      "text/plain": [
       "[('children', 1, 12),\n",
       " ('teenagers', 13, 17),\n",
       " ('young_adults', 18, 30),\n",
       " ('adults', 31, 60),\n",
       " ('older_adults', 65, 125)]"
      ]
     },
     "execution_count": 214,
     "metadata": {},
     "output_type": "execute_result"
    }
   ],
   "source": [
    "age_groups"
   ]
  },
  {
   "cell_type": "code",
   "execution_count": 215,
   "id": "3d3127a1-ddd5-4ddd-894d-e72d0e2a19d3",
   "metadata": {
    "tags": []
   },
   "outputs": [
    {
     "data": {
      "text/html": [
       "<div>\n",
       "<style scoped>\n",
       "    .dataframe tbody tr th:only-of-type {\n",
       "        vertical-align: middle;\n",
       "    }\n",
       "\n",
       "    .dataframe tbody tr th {\n",
       "        vertical-align: top;\n",
       "    }\n",
       "\n",
       "    .dataframe thead th {\n",
       "        text-align: right;\n",
       "    }\n",
       "</style>\n",
       "<table border=\"1\" class=\"dataframe\">\n",
       "  <thead>\n",
       "    <tr style=\"text-align: right;\">\n",
       "      <th>Age_Group</th>\n",
       "      <th>children</th>\n",
       "      <th>teenagers</th>\n",
       "      <th>young_adults</th>\n",
       "      <th>adults</th>\n",
       "      <th>older_adults</th>\n",
       "    </tr>\n",
       "    <tr>\n",
       "      <th>Metric</th>\n",
       "      <th></th>\n",
       "      <th></th>\n",
       "      <th></th>\n",
       "      <th></th>\n",
       "      <th></th>\n",
       "    </tr>\n",
       "  </thead>\n",
       "  <tbody>\n",
       "    <tr>\n",
       "      <th>Age</th>\n",
       "      <td>mean: 10.50, std: 1.29</td>\n",
       "      <td>mean: 15.00, std: 1.58</td>\n",
       "      <td>mean: 25.50, std: 3.27</td>\n",
       "      <td>mean: 45.20, std: 8.05</td>\n",
       "      <td>mean: 65.67, std: 1.29</td>\n",
       "    </tr>\n",
       "    <tr>\n",
       "      <th>Sleep duration</th>\n",
       "      <td>mean: 8.38, std: 0.95</td>\n",
       "      <td>mean: 7.70, std: 0.67</td>\n",
       "      <td>mean: 7.51, std: 0.78</td>\n",
       "      <td>mean: 7.42, std: 0.89</td>\n",
       "      <td>mean: 7.43, std: 1.00</td>\n",
       "    </tr>\n",
       "    <tr>\n",
       "      <th>Sleep efficiency</th>\n",
       "      <td>mean: 0.54, std: 0.02</td>\n",
       "      <td>mean: 0.63, std: 0.04</td>\n",
       "      <td>mean: 0.77, std: 0.14</td>\n",
       "      <td>mean: 0.81, std: 0.13</td>\n",
       "      <td>mean: 0.76, std: 0.14</td>\n",
       "    </tr>\n",
       "    <tr>\n",
       "      <th>REM sleep percentage</th>\n",
       "      <td>mean: 18.00, std: 0.00</td>\n",
       "      <td>mean: 18.80, std: 1.79</td>\n",
       "      <td>mean: 23.67, std: 4.18</td>\n",
       "      <td>mean: 22.86, std: 3.88</td>\n",
       "      <td>mean: 23.07, std: 3.69</td>\n",
       "    </tr>\n",
       "    <tr>\n",
       "      <th>Deep sleep percentage</th>\n",
       "      <td>mean: 35.00, std: 0.00</td>\n",
       "      <td>mean: 32.60, std: 5.37</td>\n",
       "      <td>mean: 52.39, std: 16.79</td>\n",
       "      <td>mean: 54.20, std: 14.52</td>\n",
       "      <td>mean: 50.60, std: 17.03</td>\n",
       "    </tr>\n",
       "    <tr>\n",
       "      <th>Light sleep percentage</th>\n",
       "      <td>mean: 45.00, std: 0.00</td>\n",
       "      <td>mean: 46.80, std: 4.02</td>\n",
       "      <td>mean: 25.98, std: 15.75</td>\n",
       "      <td>mean: 23.27, std: 14.21</td>\n",
       "      <td>mean: 27.27, std: 17.29</td>\n",
       "    </tr>\n",
       "    <tr>\n",
       "      <th>Awakenings</th>\n",
       "      <td>mean: 2.50, std: 1.29</td>\n",
       "      <td>mean: 2.00, std: 1.00</td>\n",
       "      <td>mean: 1.68, std: 1.37</td>\n",
       "      <td>mean: 1.57, std: 1.31</td>\n",
       "      <td>mean: 2.13, std: 1.60</td>\n",
       "    </tr>\n",
       "    <tr>\n",
       "      <th>Smoking status</th>\n",
       "      <td>mean: 1.00, std: 0.00</td>\n",
       "      <td>mean: 0.20, std: 0.45</td>\n",
       "      <td>mean: 0.39, std: 0.49</td>\n",
       "      <td>mean: 0.34, std: 0.47</td>\n",
       "      <td>mean: 0.47, std: 0.52</td>\n",
       "    </tr>\n",
       "    <tr>\n",
       "      <th>Exercise frequency</th>\n",
       "      <td>mean: 0.00, std: 0.00</td>\n",
       "      <td>mean: 0.00, std: 0.00</td>\n",
       "      <td>mean: 1.78, std: 1.25</td>\n",
       "      <td>mean: 1.92, std: 1.47</td>\n",
       "      <td>mean: 1.73, std: 1.44</td>\n",
       "    </tr>\n",
       "  </tbody>\n",
       "</table>\n",
       "</div>"
      ],
      "text/plain": [
       "Age_Group                             children               teenagers  \\\n",
       "Metric                                                                   \n",
       "Age                     mean: 10.50, std: 1.29  mean: 15.00, std: 1.58   \n",
       "Sleep duration           mean: 8.38, std: 0.95   mean: 7.70, std: 0.67   \n",
       "Sleep efficiency         mean: 0.54, std: 0.02   mean: 0.63, std: 0.04   \n",
       "REM sleep percentage    mean: 18.00, std: 0.00  mean: 18.80, std: 1.79   \n",
       "Deep sleep percentage   mean: 35.00, std: 0.00  mean: 32.60, std: 5.37   \n",
       "Light sleep percentage  mean: 45.00, std: 0.00  mean: 46.80, std: 4.02   \n",
       "Awakenings               mean: 2.50, std: 1.29   mean: 2.00, std: 1.00   \n",
       "Smoking status           mean: 1.00, std: 0.00   mean: 0.20, std: 0.45   \n",
       "Exercise frequency       mean: 0.00, std: 0.00   mean: 0.00, std: 0.00   \n",
       "\n",
       "Age_Group                          young_adults                   adults  \\\n",
       "Metric                                                                     \n",
       "Age                      mean: 25.50, std: 3.27   mean: 45.20, std: 8.05   \n",
       "Sleep duration            mean: 7.51, std: 0.78    mean: 7.42, std: 0.89   \n",
       "Sleep efficiency          mean: 0.77, std: 0.14    mean: 0.81, std: 0.13   \n",
       "REM sleep percentage     mean: 23.67, std: 4.18   mean: 22.86, std: 3.88   \n",
       "Deep sleep percentage   mean: 52.39, std: 16.79  mean: 54.20, std: 14.52   \n",
       "Light sleep percentage  mean: 25.98, std: 15.75  mean: 23.27, std: 14.21   \n",
       "Awakenings                mean: 1.68, std: 1.37    mean: 1.57, std: 1.31   \n",
       "Smoking status            mean: 0.39, std: 0.49    mean: 0.34, std: 0.47   \n",
       "Exercise frequency        mean: 1.78, std: 1.25    mean: 1.92, std: 1.47   \n",
       "\n",
       "Age_Group                          older_adults  \n",
       "Metric                                           \n",
       "Age                      mean: 65.67, std: 1.29  \n",
       "Sleep duration            mean: 7.43, std: 1.00  \n",
       "Sleep efficiency          mean: 0.76, std: 0.14  \n",
       "REM sleep percentage     mean: 23.07, std: 3.69  \n",
       "Deep sleep percentage   mean: 50.60, std: 17.03  \n",
       "Light sleep percentage  mean: 27.27, std: 17.29  \n",
       "Awakenings                mean: 2.13, std: 1.60  \n",
       "Smoking status            mean: 0.47, std: 0.52  \n",
       "Exercise frequency        mean: 1.73, std: 1.44  "
      ]
     },
     "execution_count": 215,
     "metadata": {},
     "output_type": "execute_result"
    }
   ],
   "source": [
    "all_genders = pd.DataFrame()\n",
    "for ag in age_groups:\n",
    "    all_genders[ag[0]] = pd.Series(summary_stats(sleep, ag))\n",
    "all_genders.index.name = 'Metric'\n",
    "all_genders.columns.name = 'Age_Group'\n",
    "all_genders"
   ]
  },
  {
   "cell_type": "markdown",
   "id": "43f191a6-e295-4bc9-89c4-a26ad274ed15",
   "metadata": {},
   "source": [
    "##### Q6. Which group (age range and gender) sleeps the most? the least? wakes up the most? the least?"
   ]
  },
  {
   "cell_type": "markdown",
   "id": "9d622dc6-c3af-4eb5-84c9-c959c828626d",
   "metadata": {},
   "source": [
    "Female children sleep the most while male adults sleep the least. Male older adults wake the most, while female older adults wake the least "
   ]
  },
  {
   "cell_type": "markdown",
   "id": "c0f0f1f2-e9b3-4cd7-88d2-4e09d2eb1224",
   "metadata": {
    "tags": []
   },
   "source": [
    "##### Q7. which group has the max and min sleep efficiency? Deep/light sleep percentage"
   ]
  },
  {
   "cell_type": "markdown",
   "id": "aec00764-6907-4d61-9019-d3bfff3d69e6",
   "metadata": {},
   "source": [
    "Female Children have the lowest sleep efficiency while male and females tie for max sleep efficiency. Male addults have max deep sleep%, while female teenagers have the min deep sleep%.  Male Adults have min light sleep%, while female teenagers have the max light sleep%."
   ]
  },
  {
   "cell_type": "markdown",
   "id": "18a78c2b-0fb6-4b45-bd4d-1b8e5b85bb2b",
   "metadata": {},
   "source": [
    "##### Q8. do people sleep more or less if they exercise?"
   ]
  },
  {
   "cell_type": "code",
   "execution_count": 216,
   "id": "db5fbdd6-eb32-4d55-836a-fed1c7a96b43",
   "metadata": {
    "tags": []
   },
   "outputs": [],
   "source": [
    "def data_msg(m,s):\n",
    "    \"\"\"to handle lack of data to compute mean, std\"\"\"\n",
    "    try: msg = \"mean: {:.2f}, std: {:.2f}\".format(m,s)\n",
    "    except ValueError: msg = 'No_Data'\n",
    "    return msg"
   ]
  },
  {
   "cell_type": "code",
   "execution_count": 217,
   "id": "5075791c-3220-4066-88af-865592a0ab8e",
   "metadata": {
    "tags": []
   },
   "outputs": [],
   "source": [
    "def summary_stats(data, age_group):\n",
    "    std_dev = data[(data.Age>=age_group[1]) & \n",
    "                   (data.Age<=age_group[2])][metric_cols].std()\n",
    "    mean = data[(data.Age>=age_group[1]) & \n",
    "                   (data.Age<=age_group[2])][metric_cols].mean()\n",
    "    std_dev = std_dev.fillna(value='No_Data')\n",
    "    mean = mean.fillna(value='No_Data')\n",
    "    metrics = zip(metric_cols,[data_msg(m,s) for m,s \n",
    "                               in zip (mean,std_dev)])\n",
    "    return {v[0]:v[1] for v in metrics}"
   ]
  },
  {
   "cell_type": "code",
   "execution_count": 218,
   "id": "c10262e8-0d96-4cbc-b5af-5581ee7095d4",
   "metadata": {
    "tags": []
   },
   "outputs": [
    {
     "data": {
      "text/plain": [
       "[('children', 1, 12),\n",
       " ('teenagers', 13, 17),\n",
       " ('young_adults', 18, 30),\n",
       " ('adults', 31, 60),\n",
       " ('older_adults', 65, 125)]"
      ]
     },
     "execution_count": 218,
     "metadata": {},
     "output_type": "execute_result"
    }
   ],
   "source": [
    "age_groups"
   ]
  },
  {
   "cell_type": "code",
   "execution_count": 219,
   "id": "0cca7b2d-0a72-4422-ac93-09d9f7ddda1d",
   "metadata": {
    "tags": []
   },
   "outputs": [
    {
     "data": {
      "text/plain": [
       "-0.06948964477290681"
      ]
     },
     "execution_count": 219,
     "metadata": {},
     "output_type": "execute_result"
    }
   ],
   "source": [
    "sleep.select_dtypes(include=['float']).corr().at['Sleep duration','Exercise frequency']"
   ]
  },
  {
   "cell_type": "code",
   "execution_count": 220,
   "id": "09e431c5-66c7-48de-93c6-1d1b2e497d44",
   "metadata": {
    "tags": []
   },
   "outputs": [
    {
     "name": "stderr",
     "output_type": "stream",
     "text": [
      "/var/folders/7q/63cgxnn50sl5zwxkchv_j2cr0000gn/T/ipykernel_3866/2175542142.py:4: UserWarning: Boolean Series key will be reindexed to match DataFrame index.\n",
      "  goup = sleep[sleep.Gender==gender][(sleep.Age>=age_bin[1])&\n",
      "/var/folders/7q/63cgxnn50sl5zwxkchv_j2cr0000gn/T/ipykernel_3866/2175542142.py:4: UserWarning: Boolean Series key will be reindexed to match DataFrame index.\n",
      "  goup = sleep[sleep.Gender==gender][(sleep.Age>=age_bin[1])&\n",
      "/var/folders/7q/63cgxnn50sl5zwxkchv_j2cr0000gn/T/ipykernel_3866/2175542142.py:4: UserWarning: Boolean Series key will be reindexed to match DataFrame index.\n",
      "  goup = sleep[sleep.Gender==gender][(sleep.Age>=age_bin[1])&\n",
      "/var/folders/7q/63cgxnn50sl5zwxkchv_j2cr0000gn/T/ipykernel_3866/2175542142.py:4: UserWarning: Boolean Series key will be reindexed to match DataFrame index.\n",
      "  goup = sleep[sleep.Gender==gender][(sleep.Age>=age_bin[1])&\n",
      "/var/folders/7q/63cgxnn50sl5zwxkchv_j2cr0000gn/T/ipykernel_3866/2175542142.py:4: UserWarning: Boolean Series key will be reindexed to match DataFrame index.\n",
      "  goup = sleep[sleep.Gender==gender][(sleep.Age>=age_bin[1])&\n",
      "/var/folders/7q/63cgxnn50sl5zwxkchv_j2cr0000gn/T/ipykernel_3866/2175542142.py:4: UserWarning: Boolean Series key will be reindexed to match DataFrame index.\n",
      "  goup = sleep[sleep.Gender==gender][(sleep.Age>=age_bin[1])&\n",
      "/var/folders/7q/63cgxnn50sl5zwxkchv_j2cr0000gn/T/ipykernel_3866/2175542142.py:4: UserWarning: Boolean Series key will be reindexed to match DataFrame index.\n",
      "  goup = sleep[sleep.Gender==gender][(sleep.Age>=age_bin[1])&\n",
      "/var/folders/7q/63cgxnn50sl5zwxkchv_j2cr0000gn/T/ipykernel_3866/2175542142.py:4: UserWarning: Boolean Series key will be reindexed to match DataFrame index.\n",
      "  goup = sleep[sleep.Gender==gender][(sleep.Age>=age_bin[1])&\n",
      "/var/folders/7q/63cgxnn50sl5zwxkchv_j2cr0000gn/T/ipykernel_3866/2175542142.py:4: UserWarning: Boolean Series key will be reindexed to match DataFrame index.\n",
      "  goup = sleep[sleep.Gender==gender][(sleep.Age>=age_bin[1])&\n",
      "/var/folders/7q/63cgxnn50sl5zwxkchv_j2cr0000gn/T/ipykernel_3866/2175542142.py:4: UserWarning: Boolean Series key will be reindexed to match DataFrame index.\n",
      "  goup = sleep[sleep.Gender==gender][(sleep.Age>=age_bin[1])&\n"
     ]
    }
   ],
   "source": [
    "correlations_exercise_sldur = {} \n",
    "for gender in ['Male','Female']:\n",
    "    for age_bin in age_groups:\n",
    "        goup = sleep[sleep.Gender==gender][(sleep.Age>=age_bin[1])&\n",
    "                                          (sleep.Age<=age_bin[2])]\n",
    "        correlations_exercise_sldur[f'{age_bin[0]}_{gender}']=np.round(goup.select_dtypes(include=\\\n",
    "                    [float]).corr().at['Exercise frequency','Sleep duration'],3)"
   ]
  },
  {
   "cell_type": "code",
   "execution_count": 221,
   "id": "9a2bc52f-627d-4be7-9baf-a76f47b0a73b",
   "metadata": {
    "tags": []
   },
   "outputs": [
    {
     "data": {
      "text/plain": [
       "Index(['ID', 'Age', 'Gender', 'Bedtime', 'Wakeup time', 'Sleep duration',\n",
       "       'Sleep efficiency', 'REM sleep percentage', 'Deep sleep percentage',\n",
       "       'Light sleep percentage', 'Awakenings', 'Caffeine consumption',\n",
       "       'Alcohol consumption', 'Smoking status', 'Exercise frequency'],\n",
       "      dtype='object')"
      ]
     },
     "execution_count": 221,
     "metadata": {},
     "output_type": "execute_result"
    }
   ],
   "source": [
    "sleep.columns"
   ]
  },
  {
   "cell_type": "code",
   "execution_count": 222,
   "id": "7415266d-0548-49f3-98d9-701fe7ac73d1",
   "metadata": {
    "tags": []
   },
   "outputs": [
    {
     "data": {
      "text/plain": [
       "53     0.0\n",
       "121    0.0\n",
       "158    0.0\n",
       "219    0.0\n",
       "284    0.0\n",
       "Name: Exercise frequency, dtype: float64"
      ]
     },
     "execution_count": 222,
     "metadata": {},
     "output_type": "execute_result"
    }
   ],
   "source": [
    "sleep[np.bitwise_and(sleep['Age']>12,\n",
    "                     sleep['Age']<18,\n",
    "                    sleep['Gender']=='Female',\n",
    "                    )]['Exercise frequency']"
   ]
  },
  {
   "cell_type": "markdown",
   "id": "af311555-3e44-40fa-9bf1-6a8a0d1261c7",
   "metadata": {},
   "source": [
    "From above, we can see that there is no dispersion in exercise for young adult females to base any relationship between exercise and sleep off of."
   ]
  },
  {
   "cell_type": "code",
   "execution_count": 223,
   "id": "bf7623d3-0389-4984-bf0d-42009e9c2e4e",
   "metadata": {
    "tags": []
   },
   "outputs": [
    {
     "data": {
      "text/plain": [
       "{'children_Male': nan,\n",
       " 'teenagers_Male': nan,\n",
       " 'young_adults_Male': -0.14,\n",
       " 'adults_Male': 0.111,\n",
       " 'older_adults_Male': 0.649,\n",
       " 'children_Female': nan,\n",
       " 'teenagers_Female': nan,\n",
       " 'young_adults_Female': -0.011,\n",
       " 'adults_Female': -0.2,\n",
       " 'older_adults_Female': -0.68}"
      ]
     },
     "execution_count": 223,
     "metadata": {},
     "output_type": "execute_result"
    }
   ],
   "source": [
    "correlations_exercise_sldur"
   ]
  },
  {
   "cell_type": "markdown",
   "id": "eb2811b0-24d0-41a3-9149-af05679824a0",
   "metadata": {},
   "source": [
    "For other groups,  older  male adults have a notable positive correlation between sleep duration and exercise, while older female adults have a notable negative correlation with exercise."
   ]
  },
  {
   "cell_type": "code",
   "execution_count": 232,
   "id": "24a50818-4cec-48f1-9ac6-0b0c300e4985",
   "metadata": {
    "tags": []
   },
   "outputs": [],
   "source": [
    "age_groups\n",
    "\n",
    "sleep_age_binned = pd.cut(sleep.Age,bins=[0,12,17,30,60,125])\n",
    "\n",
    "sleep['age_bin'] = sleep_age_binned"
   ]
  },
  {
   "cell_type": "code",
   "execution_count": 233,
   "id": "92a0478e-f819-4fe2-8acd-da158f37734b",
   "metadata": {
    "tags": []
   },
   "outputs": [
    {
     "data": {
      "text/plain": [
       "0      (60, 125]\n",
       "1      (60, 125]\n",
       "2       (30, 60]\n",
       "3       (30, 60]\n",
       "4       (30, 60]\n",
       "         ...    \n",
       "447     (17, 30]\n",
       "448     (30, 60]\n",
       "449     (30, 60]\n",
       "450     (30, 60]\n",
       "451     (17, 30]\n",
       "Name: Age, Length: 452, dtype: category\n",
       "Categories (5, interval[int64, right]): [(0, 12] < (12, 17] < (17, 30] < (30, 60] < (60, 125]]"
      ]
     },
     "execution_count": 233,
     "metadata": {},
     "output_type": "execute_result"
    }
   ],
   "source": [
    "sleep_age_binned"
   ]
  },
  {
   "cell_type": "code",
   "execution_count": 253,
   "id": "c52a61c7-40dc-4c1a-a4da-080328506e28",
   "metadata": {
    "tags": []
   },
   "outputs": [
    {
     "ename": "TypeError",
     "evalue": "__init__() got an unexpected keyword argument 'alpha'",
     "output_type": "error",
     "traceback": [
      "\u001b[0;31m---------------------------------------------------------------------------\u001b[0m",
      "\u001b[0;31mTypeError\u001b[0m                                 Traceback (most recent call last)",
      "Cell \u001b[0;32mIn[253], line 1\u001b[0m\n\u001b[0;32m----> 1\u001b[0m g\u001b[38;5;241m=\u001b[39m \u001b[43msns\u001b[49m\u001b[38;5;241;43m.\u001b[39;49m\u001b[43mFacetGrid\u001b[49m\u001b[43m(\u001b[49m\u001b[43mdata\u001b[49m\u001b[38;5;241;43m=\u001b[39;49m\u001b[43msleep\u001b[49m\u001b[43m,\u001b[49m\u001b[43mcol\u001b[49m\u001b[38;5;241;43m=\u001b[39;49m\u001b[38;5;124;43m'\u001b[39;49m\u001b[38;5;124;43mGender\u001b[39;49m\u001b[38;5;124;43m'\u001b[39;49m\u001b[43m,\u001b[49m\u001b[43mhue\u001b[49m\u001b[38;5;241;43m=\u001b[39;49m\u001b[38;5;124;43m'\u001b[39;49m\u001b[38;5;124;43mAge\u001b[39;49m\u001b[38;5;124;43m'\u001b[39;49m\u001b[43m,\u001b[49m\u001b[43malpha\u001b[49m\u001b[38;5;241;43m=\u001b[39;49m\u001b[38;5;241;43m.3\u001b[39;49m\u001b[43m,\u001b[49m\u001b[43mjitter\u001b[49m\u001b[38;5;241;43m=\u001b[39;49m\u001b[38;5;241;43m10\u001b[39;49m\u001b[43m)\u001b[49m\n\u001b[1;32m      2\u001b[0m g\u001b[38;5;241m.\u001b[39mmap(sns\u001b[38;5;241m.\u001b[39mcatplot,\u001b[38;5;124m'\u001b[39m\u001b[38;5;124mExercise frequency\u001b[39m\u001b[38;5;124m'\u001b[39m,\u001b[38;5;124m'\u001b[39m\u001b[38;5;124mSleep duration\u001b[39m\u001b[38;5;124m'\u001b[39m)\n",
      "\u001b[0;31mTypeError\u001b[0m: __init__() got an unexpected keyword argument 'alpha'"
     ]
    }
   ],
   "source": [
    "g= sns.FacetGrid(data=sleep,col='Gender',hue='Age',alpha=.3,jitter=10)\n",
    "g.map(sns.catplot,'Exercise frequency','Sleep duration')\n"
   ]
  },
  {
   "cell_type": "code",
   "execution_count": 249,
   "id": "c4305395-c743-4e73-87f4-c5b3848b3ad6",
   "metadata": {
    "tags": []
   },
   "outputs": [
    {
     "name": "stderr",
     "output_type": "stream",
     "text": [
      "/Users/williammohr/opt/anaconda3/lib/python3.9/site-packages/seaborn/axisgrid.py:118: UserWarning: The figure layout has changed to tight\n",
      "  self._figure.tight_layout(*args, **kwargs)\n"
     ]
    },
    {
     "data": {
      "text/plain": [
       "<seaborn.axisgrid.FacetGrid at 0x7fcbd0c00700>"
      ]
     },
     "execution_count": 249,
     "metadata": {},
     "output_type": "execute_result"
    },
    {
     "data": {
      "image/png": "[encoded data removed]",
      "text/plain": [
       "<Figure size 1067.75x500 with 2 Axes>"
      ]
     },
     "metadata": {},
     "output_type": "display_data"
    }
   ],
   "source": [
    "\n",
    "sns.catplot(data=sleep, x='Exercise frequency',y='Sleep duration',col='Gender',hue='Age',alpha=.3,jitter=10)\n"
   ]
  },
  {
   "cell_type": "code",
   "execution_count": 242,
   "id": "7b846051-0998-4309-b34b-1d36f971854e",
   "metadata": {
    "tags": []
   },
   "outputs": [
    {
     "data": {
      "text/plain": [
       "<Axes: xlabel='Exercise frequency', ylabel='Sleep duration'>"
      ]
     },
     "execution_count": 242,
     "metadata": {},
     "output_type": "execute_result"
    },
    {
     "data": {
      "image/png": "[encoded data removed]",
      "text/plain": [
       "<Figure size 640x480 with 1 Axes>"
      ]
     },
     "metadata": {},
     "output_type": "display_data"
    }
   ],
   "source": [
    "sns.catplot(x=sleep['Exercise frequency'],y=sleep['Sleep duration'],col='')"
   ]
  },
  {
   "cell_type": "code",
   "execution_count": 234,
   "id": "61b255b8-37ef-42d1-a515-51f056f07d40",
   "metadata": {
    "tags": []
   },
   "outputs": [
    {
     "name": "stderr",
     "output_type": "stream",
     "text": [
      "/Users/williammohr/opt/anaconda3/lib/python3.9/site-packages/seaborn/axisgrid.py:712: UserWarning: Using the stripplot function without specifying `order` is likely to produce an incorrect plot.\n",
      "  warnings.warn(warning)\n",
      "/Users/williammohr/opt/anaconda3/lib/python3.9/site-packages/seaborn/axisgrid.py:118: UserWarning: The figure layout has changed to tight\n",
      "  self._figure.tight_layout(*args, **kwargs)\n"
     ]
    },
    {
     "data": {
      "text/plain": [
       "<seaborn.axisgrid.FacetGrid at 0x7fcb8cec0af0>"
      ]
     },
     "execution_count": 234,
     "metadata": {},
     "output_type": "execute_result"
    },
    {
     "data": {
      "image/png": "[encoded data removed]",
      "text/plain": [
       "<Figure size 600x1500 with 10 Axes>"
      ]
     },
     "metadata": {},
     "output_type": "display_data"
    }
   ],
   "source": [
    "# g = sns.FacetGrid(sleep, col='Gender',  row='age_bin')\n",
    "# g.map(sns.stripplot, \"Sleep duration\", \"Exercise frequency\")\n"
   ]
  },
  {
   "cell_type": "code",
   "execution_count": 227,
   "id": "617113d3-7b2c-44c2-a468-e4177bd2a602",
   "metadata": {
    "tags": []
   },
   "outputs": [
    {
     "data": {
      "text/plain": [
       "Smoking status\n",
       "0    291\n",
       "1    161\n",
       "Name: count, dtype: int64"
      ]
     },
     "execution_count": 227,
     "metadata": {},
     "output_type": "execute_result"
    }
   ],
   "source": [
    "sleep['Smoking status'].value_counts()"
   ]
  },
  {
   "cell_type": "code",
   "execution_count": 228,
   "id": "956b1a67-9110-4116-9c99-0ee13b27dcf0",
   "metadata": {},
   "outputs": [
    {
     "name": "stderr",
     "output_type": "stream",
     "text": [
      "/var/folders/7q/63cgxnn50sl5zwxkchv_j2cr0000gn/T/ipykernel_3866/1870487548.py:4: UserWarning: Boolean Series key will be reindexed to match DataFrame index.\n",
      "  goup = sleep[sleep.Gender==gender][(sleep.Age>=age_bin[1])&\n",
      "/var/folders/7q/63cgxnn50sl5zwxkchv_j2cr0000gn/T/ipykernel_3866/1870487548.py:4: UserWarning: Boolean Series key will be reindexed to match DataFrame index.\n",
      "  goup = sleep[sleep.Gender==gender][(sleep.Age>=age_bin[1])&\n",
      "/var/folders/7q/63cgxnn50sl5zwxkchv_j2cr0000gn/T/ipykernel_3866/1870487548.py:4: UserWarning: Boolean Series key will be reindexed to match DataFrame index.\n",
      "  goup = sleep[sleep.Gender==gender][(sleep.Age>=age_bin[1])&\n",
      "/var/folders/7q/63cgxnn50sl5zwxkchv_j2cr0000gn/T/ipykernel_3866/1870487548.py:4: UserWarning: Boolean Series key will be reindexed to match DataFrame index.\n",
      "  goup = sleep[sleep.Gender==gender][(sleep.Age>=age_bin[1])&\n",
      "/var/folders/7q/63cgxnn50sl5zwxkchv_j2cr0000gn/T/ipykernel_3866/1870487548.py:4: UserWarning: Boolean Series key will be reindexed to match DataFrame index.\n",
      "  goup = sleep[sleep.Gender==gender][(sleep.Age>=age_bin[1])&\n",
      "/var/folders/7q/63cgxnn50sl5zwxkchv_j2cr0000gn/T/ipykernel_3866/1870487548.py:4: UserWarning: Boolean Series key will be reindexed to match DataFrame index.\n",
      "  goup = sleep[sleep.Gender==gender][(sleep.Age>=age_bin[1])&\n",
      "/var/folders/7q/63cgxnn50sl5zwxkchv_j2cr0000gn/T/ipykernel_3866/1870487548.py:4: UserWarning: Boolean Series key will be reindexed to match DataFrame index.\n",
      "  goup = sleep[sleep.Gender==gender][(sleep.Age>=age_bin[1])&\n",
      "/var/folders/7q/63cgxnn50sl5zwxkchv_j2cr0000gn/T/ipykernel_3866/1870487548.py:4: UserWarning: Boolean Series key will be reindexed to match DataFrame index.\n",
      "  goup = sleep[sleep.Gender==gender][(sleep.Age>=age_bin[1])&\n",
      "/var/folders/7q/63cgxnn50sl5zwxkchv_j2cr0000gn/T/ipykernel_3866/1870487548.py:4: UserWarning: Boolean Series key will be reindexed to match DataFrame index.\n",
      "  goup = sleep[sleep.Gender==gender][(sleep.Age>=age_bin[1])&\n",
      "/var/folders/7q/63cgxnn50sl5zwxkchv_j2cr0000gn/T/ipykernel_3866/1870487548.py:4: UserWarning: Boolean Series key will be reindexed to match DataFrame index.\n",
      "  goup = sleep[sleep.Gender==gender][(sleep.Age>=age_bin[1])&\n"
     ]
    }
   ],
   "source": [
    "correlations_smoking = {}\n",
    "for gender in ['Male','Female']:\n",
    "    for age_bin in age_groups:\n",
    "        goup = sleep[sleep.Gender==gender][(sleep.Age>=age_bin[1])&\n",
    "                                          (sleep.Age<=age_bin[2])]\n",
    "        correlations_smoking[f'{age_bin[0]}_{gender}']=np.round(goup.select_dtypes(include=\\\n",
    "                    [float,int]).corr().at['Smoking status','Sleep duration'],3)"
   ]
  },
  {
   "cell_type": "code",
   "execution_count": 229,
   "id": "55604f3b-8025-49a1-b111-44f96b6b108e",
   "metadata": {
    "tags": []
   },
   "outputs": [
    {
     "data": {
      "text/plain": [
       "{'children_Male': nan,\n",
       " 'teenagers_Male': nan,\n",
       " 'young_adults_Male': -0.05,\n",
       " 'adults_Male': 0.032,\n",
       " 'older_adults_Male': 0.164,\n",
       " 'children_Female': nan,\n",
       " 'teenagers_Female': 0.25,\n",
       " 'young_adults_Female': -0.091,\n",
       " 'adults_Female': 0.139,\n",
       " 'older_adults_Female': -0.805}"
      ]
     },
     "execution_count": 229,
     "metadata": {},
     "output_type": "execute_result"
    }
   ],
   "source": [
    "correlations_smoking"
   ]
  },
  {
   "cell_type": "code",
   "execution_count": 230,
   "id": "5148772c-3d8a-4a15-b95b-a0bfd2817be2",
   "metadata": {
    "tags": []
   },
   "outputs": [
    {
     "name": "stderr",
     "output_type": "stream",
     "text": [
      "/Users/williammohr/opt/anaconda3/lib/python3.9/site-packages/seaborn/axisgrid.py:118: UserWarning: The figure layout has changed to tight\n",
      "  self._figure.tight_layout(*args, **kwargs)\n"
     ]
    },
    {
     "data": {
      "text/plain": [
       "<seaborn.axisgrid.FacetGrid at 0x7fcc1318c100>"
      ]
     },
     "execution_count": 230,
     "metadata": {},
     "output_type": "execute_result"
    },
    {
     "data": {
      "image/png": "[encoded data removed]",
      "text/plain": [
       "<Figure size 600x600 with 4 Axes>"
      ]
     },
     "metadata": {},
     "output_type": "display_data"
    }
   ],
   "source": [
    "g = sns.FacetGrid(sleep, col='Gender',  row='Smoking status')\n",
    "g.map(sns.scatterplot, \"Age\", \"Sleep duration\")\n"
   ]
  },
  {
   "cell_type": "code",
   "execution_count": 231,
   "id": "5cc23c28-6b9d-4386-b2be-9cedc98debd3",
   "metadata": {
    "tags": []
   },
   "outputs": [
    {
     "data": {
      "text/plain": [
       "Text(0.5, 1.0, '')"
      ]
     },
     "execution_count": 231,
     "metadata": {},
     "output_type": "execute_result"
    },
    {
     "data": {
      "image/png": "[encoded data removed]",
      "text/plain": [
       "<Figure size 640x480 with 1 Axes>"
      ]
     },
     "metadata": {},
     "output_type": "display_data"
    }
   ],
   "source": [
    "so.barplot(data=sleep[sleep['Smoking status']==1],x='age_bin', y= 'Sleep duration', hue='Gender')\n",
    "plt.title('')"
   ]
  }
 ],
 "metadata": {
  "kernelspec": {
   "display_name": "Python 3 (ipykernel)",
   "language": "python",
   "name": "python3"
  },
  "language_info": {
   "codemirror_mode": {
    "name": "ipython",
    "version": 3
   },
   "file_extension": ".py",
   "mimetype": "text/x-python",
   "name": "python",
   "nbconvert_exporter": "python",
   "pygments_lexer": "ipython3",
   "version": "3.9.18"
  }
 },
 "nbformat": 4,
 "nbformat_minor": 5
}
