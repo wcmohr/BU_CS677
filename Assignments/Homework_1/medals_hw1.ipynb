{
 "cells": [
  {
   "cell_type": "markdown",
   "id": "83b54f3f-7b24-40f9-9ad1-86a1e7b6dfdf",
   "metadata": {},
   "source": [
    "country codes are missing for some entries."
   ]
  },
  {
   "cell_type": "code",
   "execution_count": 1,
   "id": "5527d28d-6f54-404b-8318-de76b35c85ae",
   "metadata": {},
   "outputs": [],
   "source": [
    "import csv"
   ]
  },
  {
   "cell_type": "markdown",
   "id": "d30be7c2-6c45-470e-bee6-e78ad0b8f9dc",
   "metadata": {},
   "source": [
    "##### Task 1"
   ]
  },
  {
   "cell_type": "code",
   "execution_count": 2,
   "id": "a1104f63-8b30-4c13-8e16-a61030effeee",
   "metadata": {},
   "outputs": [],
   "source": [
    "data = list(csv.reader(open('Summer_olympic_Medals.csv','r')))"
   ]
  },
  {
   "cell_type": "code",
   "execution_count": 3,
   "id": "97839072-4c7f-4be2-b730-859165392f67",
   "metadata": {
    "tags": []
   },
   "outputs": [
    {
     "data": {
      "text/plain": [
       "[['Year',\n",
       "  'Host_country',\n",
       "  'Host_city',\n",
       "  'Country_Name',\n",
       "  'Country_Code',\n",
       "  'Gold',\n",
       "  'Silver',\n",
       "  'Bronze'],\n",
       " ['1896', 'Greece', 'Athens', 'Great Britain', 'GBR', '2', '3', '2'],\n",
       " ['1896', 'Greece', 'Athens', 'Hungary', 'HUN', '2', '1', '3'],\n",
       " ['1896', 'Greece', 'Athens', 'France', 'FRA', '5', '4', '2'],\n",
       " ['1896', 'Greece', 'Athens', 'United States', 'USA', '11', '7', '2']]"
      ]
     },
     "execution_count": 3,
     "metadata": {},
     "output_type": "execute_result"
    }
   ],
   "source": [
    "data[0:5]"
   ]
  },
  {
   "cell_type": "markdown",
   "id": "6af14d1d-f2e6-4769-abb2-00a834dff9f8",
   "metadata": {},
   "source": [
    "##### Task 2"
   ]
  },
  {
   "cell_type": "code",
   "execution_count": 15,
   "id": "2481b696-520e-45cb-8081-fc6e8714bcd1",
   "metadata": {},
   "outputs": [],
   "source": [
    "header = data.pop(0)"
   ]
  },
  {
   "cell_type": "code",
   "execution_count": 5,
   "id": "74c578f6-9b37-4a93-a123-061052d12b5e",
   "metadata": {},
   "outputs": [
    {
     "data": {
      "text/plain": [
       "['Year',\n",
       " 'Host_country',\n",
       " 'Host_city',\n",
       " 'Country_Name',\n",
       " 'Country_Code',\n",
       " 'Gold',\n",
       " 'Silver',\n",
       " 'Bronze']"
      ]
     },
     "execution_count": 5,
     "metadata": {},
     "output_type": "execute_result"
    }
   ],
   "source": [
    "header"
   ]
  },
  {
   "cell_type": "code",
   "execution_count": 6,
   "id": "a4e70659-d055-4a32-8029-33a410a94fa4",
   "metadata": {},
   "outputs": [
    {
     "data": {
      "text/plain": [
       "1344"
      ]
     },
     "execution_count": 6,
     "metadata": {},
     "output_type": "execute_result"
    }
   ],
   "source": [
    "len(data)"
   ]
  },
  {
   "cell_type": "code",
   "execution_count": 18,
   "id": "84472996-be61-4f56-a051-f2dbd958e86b",
   "metadata": {
    "tags": []
   },
   "outputs": [
    {
     "data": {
      "text/plain": [
       "([['1896', 'Greece', 'Athens', 'Hungary', 'HUN', '2', '1', '3'],\n",
       "  ['1896', 'Greece', 'Athens', 'France', 'FRA', '5', '4', '2'],\n",
       "  ['1896', 'Greece', 'Athens', 'United States', 'USA', '11', '7', '2'],\n",
       "  ['1896', 'Greece', 'Athens', 'Germany', 'GER', '6', '5', '2'],\n",
       "  ['1896', 'Greece', 'Athens', 'Austria', 'AUT', '2', '1', '2']],\n",
       " [['2020', 'Japan', 'Tokyo', 'Fiji', 'FIJ', '1', '0', '1'],\n",
       "  ['2020', 'Japan', 'Tokyo', 'Estonia', 'EST', '1', '0', '1'],\n",
       "  ['2020', 'Japan', 'Tokyo', 'Latvia', 'LAT', '1', '0', '1'],\n",
       "  ['2020', 'Japan', 'Tokyo', 'Bermuda', 'BER', '1', '0', '0'],\n",
       "  ['2020', 'Japan', 'Tokyo', 'Thailand', 'THA', '1', '0', '1']])"
      ]
     },
     "execution_count": 18,
     "metadata": {},
     "output_type": "execute_result"
    }
   ],
   "source": [
    "data[0:5],data[-5:]"
   ]
  },
  {
   "cell_type": "markdown",
   "id": "0005263f-10ee-477c-ba0e-402e7d00694b",
   "metadata": {},
   "source": [
    "There are 1344 entries plus a header (column names) in the data."
   ]
  },
  {
   "cell_type": "markdown",
   "id": "9a200bb3-29a4-424d-aaa6-250526b9b141",
   "metadata": {},
   "source": [
    "#### Tasks 3 to 10"
   ]
  },
  {
   "cell_type": "markdown",
   "id": "bb92ce62-a12c-4aec-8c99-0516cfd36797",
   "metadata": {},
   "source": [
    "Structure for storing countries, years, medals: {country: [[year1, golds1, silvers1, brozes1], ...[yearN, goldsN, silversN, brozesN]]}"
   ]
  },
  {
   "cell_type": "code",
   "execution_count": 7,
   "id": "0f2ca8b6-0e6b-4e64-ac1f-bf566927909f",
   "metadata": {},
   "outputs": [],
   "source": [
    "data_dict = {}\n",
    "country_codes = {}\n",
    "\n",
    "for y_c in data:  \n",
    "    # loop through the data as unique year and country combinations\n",
    "    codes_countries = {country:code for code, country in country_codes.items()}\n",
    "    if y_c[4]=='':\n",
    "        try:\n",
    "            y_c[4] = codes_countries[y_c[3]]\n",
    "        except:\n",
    "            y_c[4] = \"_\".join(y_c[3].split(' '))\n",
    "    if y_c[4] in data_dict:\n",
    "        data_dict[y_c[4]] = data_dict[y_c[4]] + [[y_c[0], y_c[5], y_c[6], y_c[7]]]\n",
    "    else: \n",
    "        country_codes[y_c[4]]=y_c[3] # correspond country codes with full name\n",
    "        data_dict[y_c[4]] = [[y_c[0], y_c[5], y_c[6], y_c[7]]]"
   ]
  },
  {
   "cell_type": "code",
   "execution_count": 8,
   "id": "f2f667de-326f-4d24-a9c2-8f57c8c48ba0",
   "metadata": {},
   "outputs": [],
   "source": [
    "data_dict = {c: [list(map(int,val)) for val in y_c] for c,y_c in data_dict.items()}"
   ]
  },
  {
   "cell_type": "markdown",
   "id": "d84a2ee5-0a67-40cd-873c-041c8f615403",
   "metadata": {},
   "source": [
    "##### Task 3"
   ]
  },
  {
   "cell_type": "markdown",
   "id": "c9f8b85b-0d97-4ae9-8dfd-46c44bc98794",
   "metadata": {},
   "source": [
    "Instruction: compute the average numbers of gold, silver, and bronze medals per country and write this (in decreasing order) to a file ”average medals per country.csv”"
   ]
  },
  {
   "cell_type": "markdown",
   "id": "81f8d720-ffaf-4f69-8441-7a6218ea8707",
   "metadata": {},
   "source": [
    "Compute total medals each year"
   ]
  },
  {
   "cell_type": "code",
   "execution_count": 9,
   "id": "5bf9969a-9364-493a-9d17-f1c5df46e069",
   "metadata": {
    "tags": []
   },
   "outputs": [],
   "source": [
    "data_totals_dict = {c: [y_c + [sum(y_c[1:])] for y_c in data_dict[c]] for c in data_dict}"
   ]
  },
  {
   "cell_type": "code",
   "execution_count": 10,
   "id": "25667491-64b3-4101-9c97-d94cdd8c61bc",
   "metadata": {},
   "outputs": [],
   "source": [
    "avg_medals = {}\n",
    "avg_medals = {c: list(map(lambda x: x/len(data_totals_dict[c]), # averaged over years\n",
    "     [sum([y[1] for y in  data_totals_dict[c]]), # total of golds\n",
    "     sum([y[2] for y in  data_totals_dict[c]]), # silvers\n",
    "     sum([y[3] for y in  data_totals_dict[c]]),  # bronzes\n",
    "     sum([y[4] for y in  data_totals_dict[c]])])) # all medals\n",
    "     for c in data_totals_dict} # averaged"
   ]
  },
  {
   "cell_type": "code",
   "execution_count": 11,
   "id": "7e0f8c87-afd8-4ea7-b3a8-8318ddfd122b",
   "metadata": {
    "tags": []
   },
   "outputs": [],
   "source": [
    "avg_medals_list = [['Country', 'Avg_Gold_Medals','Avg_Silver_Medals',\n",
    "                'Avg_Bronze_Medals','Avg_Total_Medals']] + \\\n",
    "[[country_codes[c[0]]]+ c[1] for c in list(dict(sorted(\n",
    "    {c:m for c,m in avg_medals.items()}.items(), \n",
    "    key = lambda x: x[1][3], reverse=True)).items())\n",
    "]"
   ]
  },
  {
   "cell_type": "code",
   "execution_count": 12,
   "id": "711966e5-3e09-4be9-8cb6-d239ef15c1e1",
   "metadata": {
    "tags": []
   },
   "outputs": [],
   "source": [
    "with open('average_medals_per_country.csv','w') as medals_csv:\n",
    "    wr = csv.writer(medals_csv)\n",
    "    for row in avg_medals_list:\n",
    "        wr.writerow(row)\n",
    "    medals_csv.close()\n",
    "# medals_csv = open('average_medals_per_country.csv','r')\n",
    "# medals_csv.read()"
   ]
  },
  {
   "cell_type": "markdown",
   "id": "cf72be26-012c-4759-a395-e18a24f7c31b",
   "metadata": {},
   "source": [
    "##### Highest Average Medals"
   ]
  },
  {
   "cell_type": "code",
   "execution_count": 13,
   "id": "3b19cf4d-b793-435e-b0bb-e4ee4ed538bb",
   "metadata": {
    "tags": []
   },
   "outputs": [
    {
     "data": {
      "text/plain": [
       "['Soviet Union',\n",
       " 43.888888888888886,\n",
       " 35.44444444444444,\n",
       " 32.888888888888886,\n",
       " 112.22222222222223]"
      ]
     },
     "execution_count": 13,
     "metadata": {},
     "output_type": "execute_result"
    }
   ],
   "source": [
    "avg_medals_list[1]"
   ]
  },
  {
   "cell_type": "markdown",
   "id": "28b96084-d2af-4506-854a-d6cb7929baae",
   "metadata": {},
   "source": [
    "Highest avg medals: Soviet Union"
   ]
  },
  {
   "cell_type": "markdown",
   "id": "e5270b50-7bc1-413b-8370-3eb6a829dabe",
   "metadata": {},
   "source": [
    "##### 5. Top 10 countries by mean number of (total) medals"
   ]
  },
  {
   "cell_type": "code",
   "execution_count": 14,
   "id": "2434e8ca-f9cf-4b99-91a0-1e4399efe4b0",
   "metadata": {},
   "outputs": [
    {
     "ename": "NameError",
     "evalue": "name 'medals_list' is not defined",
     "output_type": "error",
     "traceback": [
      "\u001b[0;31m---------------------------------------------------------------------------\u001b[0m",
      "\u001b[0;31mNameError\u001b[0m                                 Traceback (most recent call last)",
      "Cell \u001b[0;32mIn[14], line 1\u001b[0m\n\u001b[0;32m----> 1\u001b[0m top_ten_avg_medals \u001b[38;5;241m=\u001b[39m [c[\u001b[38;5;241m0\u001b[39m] \u001b[38;5;28;01mfor\u001b[39;00m c \u001b[38;5;129;01min\u001b[39;00m \u001b[43mmedals_list\u001b[49m[\u001b[38;5;241m1\u001b[39m:\u001b[38;5;241m11\u001b[39m]]\n",
      "\u001b[0;31mNameError\u001b[0m: name 'medals_list' is not defined"
     ]
    }
   ],
   "source": [
    "top_ten_avg_medals = [c[0] for c in medals_list[1:11]]"
   ]
  },
  {
   "cell_type": "code",
   "execution_count": null,
   "id": "1dd8ac46-4190-471a-8158-0ad9013ce023",
   "metadata": {},
   "outputs": [],
   "source": [
    "top_ten_avg_medals"
   ]
  },
  {
   "cell_type": "markdown",
   "id": "7c89eb25-1734-41f9-9671-34a4647a3b3e",
   "metadata": {},
   "source": [
    "['Soviet Union',\n",
    " 'Unified Team',\n",
    " 'United States',\n",
    " 'East Germany',\n",
    " 'Russia',\n",
    " 'China',\n",
    " 'West Germany',\n",
    " 'United Team of Germany',\n",
    " 'Germany',\n",
    " 'Great Britain'] have the highest average medals."
   ]
  },
  {
   "cell_type": "markdown",
   "id": "1ab4c8b8-a83d-4efa-9c08-6cce5f69f48a",
   "metadata": {},
   "source": [
    "##### 6.  compute the median number of gold, silver, and bronze medals per country and write this (in decreasing order) to a file \"median_medals_ per_country.csv\""
   ]
  },
  {
   "cell_type": "code",
   "execution_count": null,
   "id": "9d4e7fc5-ab03-4503-a7f4-017f1c2d3f7a",
   "metadata": {},
   "outputs": [],
   "source": [
    "def median(numbers):\n",
    "    '''take a list or tuple of numbers and return the median'''\n",
    "    size = len(numbers)\n",
    "    numbers = sorted(numbers)\n",
    "    if size == 1:\n",
    "        med = numbers[0]\n",
    "    elif size%2 == 0:\n",
    "        med = (numbers[int(size/2-1)]+numbers[int(size/2)])/2\n",
    "    else:\n",
    "        med = numbers[size//2]\n",
    "    return med"
   ]
  },
  {
   "cell_type": "code",
   "execution_count": null,
   "id": "314cff77-7301-4f40-b9cd-89b715d8d3a3",
   "metadata": {},
   "outputs": [],
   "source": [
    "med_medals_dict = {c:[median([y[1] for y in data_totals_dict[c]])] + \\\n",
    "                   [median([y[2] for y in data_totals_dict[c]])] + \\\n",
    "                   [median([y[3] for y in data_totals_dict[c]])] + \\\n",
    "                   [median([y[4] for y in data_totals_dict[c]])]\n",
    "                   for c in data_totals_dict.keys()}"
   ]
  },
  {
   "cell_type": "code",
   "execution_count": null,
   "id": "da9a6386-7aea-4125-9a34-ed3dfa119194",
   "metadata": {
    "tags": []
   },
   "outputs": [],
   "source": [
    "median_medals = dict(sorted(med_medals_dict.items(), key = lambda x: x[1][3], reverse=True))\n",
    "median_medals"
   ]
  },
  {
   "cell_type": "code",
   "execution_count": null,
   "id": "1e0cd457-0cec-4187-9c78-035cd5d0ef00",
   "metadata": {},
   "outputs": [],
   "source": [
    "med_medals_list = [['Country', 'Med_Gold_Medals','Med_Silver_Medals',\n",
    "                'Med_Bronze_Medals','Med_Total_Medals']] + \\\n",
    "[[country_codes[c[0]]]+ c[1] for c in list(dict(sorted(\n",
    "    {c:m for c,m in median_medals.items()}.items(), \n",
    "    key = lambda x: x[1][3], reverse=True)).items())\n",
    "]"
   ]
  },
  {
   "cell_type": "code",
   "execution_count": null,
   "id": "27544618-896a-4d85-98f8-662b0c1f40ff",
   "metadata": {
    "tags": []
   },
   "outputs": [],
   "source": [
    "with open('median_medals_per_country.csv','w') as median_medals_csv:\n",
    "    wr = csv.writer(median_medals_csv)\n",
    "    for row in med_medals_list:\n",
    "        wr.writerow(row)\n",
    "    median_medals_csv.close()\n",
    "# median_medals_csv = open('median_medals_per_country.csv','r')\n",
    "# median_medals_csv.read()"
   ]
  },
  {
   "cell_type": "markdown",
   "id": "7b350751-b64d-491b-88e7-5fc63f698c43",
   "metadata": {},
   "source": [
    "##### 7. Which country has the highest median number of medals?"
   ]
  },
  {
   "cell_type": "code",
   "execution_count": null,
   "id": "0047fe41-b14c-432b-a6b0-2f9661c54b0a",
   "metadata": {},
   "outputs": [],
   "source": [
    "med_medals_list[1][0]"
   ]
  },
  {
   "cell_type": "markdown",
   "id": "d985ed2c-74d4-4b6f-a108-dc5c34732ada",
   "metadata": {},
   "source": [
    "Q7 Answer: Unified Team has the highest median number of medals."
   ]
  },
  {
   "cell_type": "markdown",
   "id": "facb9935-3fd2-4bb1-9335-b685ecef4784",
   "metadata": {},
   "source": [
    "##### 8. list top 10 countries by median number of medals"
   ]
  },
  {
   "cell_type": "code",
   "execution_count": null,
   "id": "21f0afbf-922e-4d0c-8815-c69ab378621b",
   "metadata": {},
   "outputs": [],
   "source": [
    "[c[0] for c in med_medals_list[1:11]]"
   ]
  },
  {
   "cell_type": "markdown",
   "id": "e6a46f3d-d7b3-4aff-b028-7a32141b4bfa",
   "metadata": {},
   "source": [
    "Q8 answer: 'Unified Team',\n",
    " 'Soviet Union',\n",
    " 'United States',\n",
    " 'East Germany',\n",
    " 'Russia',\n",
    " 'China',\n",
    " 'United Team of Germany',\n",
    " 'West Germany',\n",
    " 'Germany',\n",
    " 'Great Britain'"
   ]
  },
  {
   "cell_type": "markdown",
   "id": "b7e8fe1a-dbcd-4b26-8142-23440ae5bc7e",
   "metadata": {},
   "source": [
    "##### 9. For which countries you have #(gold) = #(silver) = #(bronze). For which countries you have (#(gold) + #(silver) ) = #(bronze)"
   ]
  },
  {
   "cell_type": "markdown",
   "id": "abcd301b-ee09-4b9c-8775-5ae2bd19668d",
   "metadata": {},
   "source": [
    "###### 9a: which countries have the same numbers of gold, silver, and bronze medals."
   ]
  },
  {
   "cell_type": "code",
   "execution_count": null,
   "id": "126815c5-7f33-42cd-bcdc-29e178bbc9d1",
   "metadata": {},
   "outputs": [],
   "source": [
    "# make a dictionary that corresponds the country with their aggregated totals for \n",
    "# gold, silver, bronze, and overall accross all years\n",
    "\n",
    "medal_totals = {c:  # averaged over years\n",
    "     [sum([y[1] for y in  data_totals_dict[c]]), # total of golds\n",
    "     sum([y[2] for y in  data_totals_dict[c]]), # silvers\n",
    "     sum([y[3] for y in  data_totals_dict[c]]),  # bronzes\n",
    "     sum([y[4] for y in  data_totals_dict[c]])] # all medals\n",
    "     for c in data_totals_dict} # averaged"
   ]
  },
  {
   "cell_type": "code",
   "execution_count": null,
   "id": "337969e8-4d55-430a-852f-ba3e6324ac0e",
   "metadata": {},
   "outputs": [],
   "source": [
    "{c:m for c,m in medal_totals.items() if (m[0]==m[1])&(m[1]==m[2])}"
   ]
  },
  {
   "cell_type": "code",
   "execution_count": null,
   "id": "320edc05-1db2-4dfc-bd74-761475a3d8ff",
   "metadata": {},
   "outputs": [],
   "source": [
    "[country_codes[c] for c in {c:m for c,m in medal_totals.items() if (m[0]==m[1])&(m[1]==m[2])}.keys()]"
   ]
  },
  {
   "cell_type": "markdown",
   "id": "b2a1eb49-5b3f-4c6a-989f-e127954aab6b",
   "metadata": {},
   "source": [
    "9a: Trinidad and Tobago along with Grenada are the two countries that have equal numbers of gold, silver and bronze medals. "
   ]
  },
  {
   "cell_type": "markdown",
   "id": "8d33c386-dc98-46ee-b0c3-452a10344a66",
   "metadata": {},
   "source": [
    "###### 9b: Which countries have the same number of bronze medals as the sum of gold and silver medals."
   ]
  },
  {
   "cell_type": "code",
   "execution_count": null,
   "id": "fc42b7e8-c3a6-4ccb-80b1-34f2e247f68d",
   "metadata": {
    "tags": []
   },
   "outputs": [],
   "source": [
    "[country_codes[c] for c in \n",
    " {c:m for c,m in medal_totals.items() if (m[0]+m[1])==m[2]}]"
   ]
  },
  {
   "cell_type": "markdown",
   "id": "f719a7b0-2905-4c03-b2dc-f2fc6149074d",
   "metadata": {
    "tags": []
   },
   "source": [
    "9b Answer: 'Haiti',\n",
    " 'Portugal',\n",
    " 'Egypt',\n",
    " 'Lebanon',\n",
    " 'Iceland',\n",
    " 'Morocco',\n",
    " 'Niger',\n",
    " 'Bermuda',\n",
    " 'Zambia',\n",
    " 'Syria',\n",
    " 'Ivory Coast',\n",
    " 'Chinese Taipei',\n",
    " 'Suriname',\n",
    " 'Costa Rica',\n",
    " 'Lithuania',\n",
    " 'Kazakhstan',\n",
    " 'Mozambique',\n",
    " 'Saudi Arabia',\n",
    " 'Macedonia',\n",
    " 'United Arab Emirates',\n",
    " 'Tajikistan',\n",
    " 'Botswana',\n",
    " 'Independent Olympic Athletes',\n",
    " 'Jordan',\n",
    " 'Fiji'"
   ]
  },
  {
   "cell_type": "markdown",
   "id": "22fdf4d1-c32a-4950-8209-5b519a4d35eb",
   "metadata": {
    "tags": []
   },
   "source": [
    "##### 10. Which countries increased their number of total medals each game during the last 4 Olympic games and which coun- tries decreased their total number of medals during the last 4 Olympic games?"
   ]
  },
  {
   "cell_type": "code",
   "execution_count": null,
   "id": "2df98fe7-0476-4f3d-aa9b-582cc0ebc452",
   "metadata": {},
   "outputs": [],
   "source": [
    "# Determine who participated in the last 5 Olympics\n",
    "def participated_l_5(d = dict()):\n",
    "    '''take a dictionary of coutry:[list of years and medals] and determine if \n",
    "    they competed in all of the last five Olympics, \n",
    "    (2000, 2004, 2008, 2012, and 2020), returning a revised dictionary with countries\n",
    "    remaining if they satisfy this condition.'''\n",
    "    participated = {}\n",
    "    for country, year_medals in d.items():\n",
    "        if [y[0] for y in year_medals[-5:]] == \\\n",
    "        [2004, 2008, 2012, 2016, 2020]:\n",
    "            participated[country] = True\n",
    "        else:\n",
    "            participated[country] = False\n",
    "    return {c:d[c] for c,p in participated.items() if p == True}"
   ]
  },
  {
   "cell_type": "markdown",
   "id": "9e2e4be8-8418-4c4a-9e88-429413fa20f2",
   "metadata": {},
   "source": [
    "###### 10a Increasing medals, i.e. 2020<2016<2012<2008<2004."
   ]
  },
  {
   "cell_type": "code",
   "execution_count": null,
   "id": "2f2dfd70-db88-4c8c-8ea6-dc552889af83",
   "metadata": {
    "tags": []
   },
   "outputs": [],
   "source": [
    "def increasing_medals(d = dict()):\n",
    "    '''return a dictionary including the items for which there is an increase\n",
    "    in total medals for each of the last four olympics'''\n",
    "    return {c: y_m for c, y_m in d.items() if \\\n",
    "                 (y_m[-1][4] > y_m[-2][4])&\\\n",
    "                 (y_m[-2][4] > y_m[-3][4])&\\\n",
    "                 (y_m[-3][4] > y_m[-4][4])\\\n",
    "                 &(y_m[-4][4] > y_m[-5][4])\n",
    "           }"
   ]
  },
  {
   "cell_type": "code",
   "execution_count": null,
   "id": "e343e45e-5cb8-4f4a-bfda-6ee5d76deff4",
   "metadata": {
    "tags": []
   },
   "outputs": [],
   "source": [
    "participated_l_5(data_totals_dict)"
   ]
  },
  {
   "cell_type": "code",
   "execution_count": null,
   "id": "b4bc26fc-7c3e-4b86-a652-fd3b31168985",
   "metadata": {
    "tags": []
   },
   "outputs": [],
   "source": [
    "[country_codes[code] for code in \n",
    " increasing_medals(participated_l_5(data_totals_dict)).keys()]"
   ]
  },
  {
   "cell_type": "code",
   "execution_count": null,
   "id": "d7c3b8c3-7416-4baa-b314-a2eea1287ad0",
   "metadata": {
    "tags": []
   },
   "outputs": [],
   "source": [
    "increasing_medals(participated_l_5(data_totals_dict))"
   ]
  },
  {
   "cell_type": "markdown",
   "id": "474ba289-7880-4333-b562-033cb699fe70",
   "metadata": {},
   "source": [
    "New Zealand is the only country that increased its medal count over the last four olympics, going up from 5 in 2004 to 9, 13, and a finally a very impressive 20 in 2020.  Belgium and Japan both increased their medal counts over the last three Olympics."
   ]
  },
  {
   "cell_type": "markdown",
   "id": "a26eaf00-13d5-4161-b1e5-b0a4ce42ff4d",
   "metadata": {},
   "source": [
    "###### 10b Decreased over last four olympics"
   ]
  },
  {
   "cell_type": "markdown",
   "id": "0be75a2a-f5a1-442b-af14-7cbbda37eda9",
   "metadata": {},
   "source": [
    "I am intrepreting this to mean 2020<2016<2012<2008<2004."
   ]
  },
  {
   "cell_type": "code",
   "execution_count": null,
   "id": "c3872b40-5d20-4a40-a8ad-06bdd3762089",
   "metadata": {},
   "outputs": [],
   "source": [
    "def decreasing_medals(d = dict()):\n",
    "    '''return a dictionary including the items for which there is an increase\n",
    "    in total medals for each of the last four olympics'''\n",
    "    return {c: y_m for c, y_m in d.items() if \\\n",
    "     (y_m[-1][4] < y_m[-2][4])&\\\n",
    "     (y_m[-2][4] < y_m[-3][4])&\\\n",
    "     (y_m[-3][4] < y_m[-4][4])\\\n",
    "     &(y_m[-4][4] < y_m[-5][4])\n",
    "    }"
   ]
  },
  {
   "cell_type": "code",
   "execution_count": null,
   "id": "a898619d-74c3-4c50-92bc-73d494de6009",
   "metadata": {},
   "outputs": [],
   "source": [
    "[country_codes[code] for code in \n",
    " decreasing_medals(participated_l_5(data_totals_dict)).keys()]"
   ]
  },
  {
   "cell_type": "markdown",
   "id": "1c138a4c-d88a-46c3-88d2-c61c1c32f39f",
   "metadata": {},
   "source": [
    "No country decreased its medals count over each of the last four Olympics. South Korea and Belarus decreased their medal counts over the last three Olympics."
   ]
  }
 ],
 "metadata": {
  "kernelspec": {
   "display_name": "Python 3 (ipykernel)",
   "language": "python",
   "name": "python3"
  },
  "language_info": {
   "codemirror_mode": {
    "name": "ipython",
    "version": 3
   },
   "file_extension": ".py",
   "mimetype": "text/x-python",
   "name": "python",
   "nbconvert_exporter": "python",
   "pygments_lexer": "ipython3",
   "version": "3.9.18"
  }
 },
 "nbformat": 4,
 "nbformat_minor": 5
}
