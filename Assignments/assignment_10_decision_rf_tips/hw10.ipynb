{
 "cells": [
  {
   "cell_type": "code",
   "execution_count": 1,
   "id": "c36664ae-7ef2-49f4-8af1-5ccca3f9460a",
   "metadata": {},
   "outputs": [],
   "source": [
    "import pandas as pd\n",
    "import numpy as np\n",
    "from functions import *\n",
    "from sklearn.tree import DecisionTreeClassifier\n",
    "from sklearn.metrics import ConfusionMatrixDisplay, confusion_matrix\n",
    "from sklearn.ensemble import RandomForestClassifier\n",
    "from sklearn.metrics import accuracy_score\n",
    "import seaborn as sns\n",
    "import matplotlib.pyplot as plt\n",
    "from sklearn.ensemble import AdaBoostClassifier\n",
    "from sklearn.naive_bayes import GaussianNB\n",
    "from sklearn.linear_model import LogisticRegression"
   ]
  },
  {
   "cell_type": "markdown",
   "id": "315ded74-581b-4e67-9758-bb3bf00e6ba7",
   "metadata": {},
   "source": [
    "##### GME Analysis"
   ]
  },
  {
   "cell_type": "code",
   "execution_count": 2,
   "id": "8077f152-b6b4-4ddf-ab44-9cdb389fc393",
   "metadata": {},
   "outputs": [],
   "source": [
    "stock= 'gme'"
   ]
  },
  {
   "cell_type": "code",
   "execution_count": 3,
   "id": "6671d7ee-3498-4a4e-b4d6-e1ae7a992d6f",
   "metadata": {},
   "outputs": [],
   "source": [
    "def data_loading_processing(stock):\n",
    "    stock_df = pd.read_csv(f'./Data/{stock}.csv')\n",
    "    labels = pd.read_csv(f'./Data/{stock}_labels.csv',header=None)[0]\n",
    "    weekly_rv = pd.read_csv(f'./Data/{stock}_weekly_return_volatility.csv')\n",
    "    stock_wr = trade_from_close_close(stock_df)\n",
    "    stock_wr.loc[:,'Label'] = \"NoLabel\"\n",
    "    # apply labels collected by visual inspection for last two years\n",
    "    stock_wr.loc[stock_wr.shape[0] - labels.shape[0]:,'Label'] = labels.values\n",
    "    weekly_rv = pd.concat([weekly_rv, pd.Series(np.insert(labels,0,\n",
    "                    ['NoLabel']*(weekly_rv.shape[0] - labels.shape[0])),name='Label')], axis=1)\n",
    "    all_data = pd.concat([stock_wr,weekly_rv],axis=1)\n",
    "    return (weekly_rv,stock_wr,all_data.loc[:,~all_data.columns.duplicated()])"
   ]
  },
  {
   "cell_type": "code",
   "execution_count": 4,
   "id": "d26080e5-ae74-4249-852e-7dfc7cfc792a",
   "metadata": {},
   "outputs": [
    {
     "data": {
      "text/html": [
       "<div>\n",
       "<style scoped>\n",
       "    .dataframe tbody tr th:only-of-type {\n",
       "        vertical-align: middle;\n",
       "    }\n",
       "\n",
       "    .dataframe tbody tr th {\n",
       "        vertical-align: top;\n",
       "    }\n",
       "\n",
       "    .dataframe thead th {\n",
       "        text-align: right;\n",
       "    }\n",
       "</style>\n",
       "<table border=\"1\" class=\"dataframe\">\n",
       "  <thead>\n",
       "    <tr style=\"text-align: right;\">\n",
       "      <th></th>\n",
       "      <th>Year</th>\n",
       "      <th>Year_Week</th>\n",
       "      <th>Begin_Price</th>\n",
       "      <th>Adj Close</th>\n",
       "      <th>Return</th>\n",
       "      <th>Label</th>\n",
       "      <th>Week_Number</th>\n",
       "      <th>mean_return</th>\n",
       "      <th>volatility</th>\n",
       "    </tr>\n",
       "  </thead>\n",
       "  <tbody>\n",
       "    <tr>\n",
       "      <th>0</th>\n",
       "      <td>2017</td>\n",
       "      <td>2017-01</td>\n",
       "      <td>6.36</td>\n",
       "      <td>4.99</td>\n",
       "      <td>0.784591</td>\n",
       "      <td>NoLabel</td>\n",
       "      <td>1</td>\n",
       "      <td>-0.82525</td>\n",
       "      <td>2.466974</td>\n",
       "    </tr>\n",
       "    <tr>\n",
       "      <th>1</th>\n",
       "      <td>2017</td>\n",
       "      <td>2017-02</td>\n",
       "      <td>4.99</td>\n",
       "      <td>4.62</td>\n",
       "      <td>0.925852</td>\n",
       "      <td>NoLabel</td>\n",
       "      <td>2</td>\n",
       "      <td>-1.44700</td>\n",
       "      <td>3.705994</td>\n",
       "    </tr>\n",
       "    <tr>\n",
       "      <th>261</th>\n",
       "      <td>2021</td>\n",
       "      <td>2021-51</td>\n",
       "      <td>38.91</td>\n",
       "      <td>38.03</td>\n",
       "      <td>0.977384</td>\n",
       "      <td>Red</td>\n",
       "      <td>51</td>\n",
       "      <td>-0.55650</td>\n",
       "      <td>1.666374</td>\n",
       "    </tr>\n",
       "    <tr>\n",
       "      <th>262</th>\n",
       "      <td>2021</td>\n",
       "      <td>2021-52</td>\n",
       "      <td>38.03</td>\n",
       "      <td>38.83</td>\n",
       "      <td>1.021036</td>\n",
       "      <td>Red</td>\n",
       "      <td>52</td>\n",
       "      <td>0.56150</td>\n",
       "      <td>3.340023</td>\n",
       "    </tr>\n",
       "  </tbody>\n",
       "</table>\n",
       "</div>"
      ],
      "text/plain": [
       "     Year Year_Week Begin_Price Adj Close    Return    Label  Week_Number  \\\n",
       "0    2017   2017-01        6.36      4.99  0.784591  NoLabel            1   \n",
       "1    2017   2017-02        4.99      4.62  0.925852  NoLabel            2   \n",
       "261  2021   2021-51       38.91     38.03  0.977384      Red           51   \n",
       "262  2021   2021-52       38.03     38.83  1.021036      Red           52   \n",
       "\n",
       "     mean_return  volatility  \n",
       "0       -0.82525    2.466974  \n",
       "1       -1.44700    3.705994  \n",
       "261     -0.55650    1.666374  \n",
       "262      0.56150    3.340023  "
      ]
     },
     "execution_count": 4,
     "metadata": {},
     "output_type": "execute_result"
    }
   ],
   "source": [
    "stock_data = data_loading_processing(stock)[2]\n",
    "head_tail(stock_data)"
   ]
  },
  {
   "cell_type": "code",
   "execution_count": 5,
   "id": "dd7220b1-e633-4077-a52f-2b57c1ccb111",
   "metadata": {},
   "outputs": [
    {
     "data": {
      "text/plain": [
       "0.8846153846153846"
      ]
     },
     "execution_count": 5,
     "metadata": {},
     "output_type": "execute_result"
    }
   ],
   "source": [
    "dt = DecisionTreeClassifier(criterion='entropy',random_state=0)\n",
    "train_X = stock_data[stock_data['Year'].isin([2020])][['Return','volatility']]\n",
    "train_y = stock_data[stock_data['Year'].isin([2020])]['Label']\n",
    "test_X = stock_data[stock_data['Year'].isin([2021])][['Return','volatility']]\n",
    "test_y = stock_data[stock_data['Year'].isin([2021])]['Label']\n",
    "dt.fit(stock_data[stock_data['Year'].isin([2020])][['Return','volatility']],\n",
    "       stock_data[stock_data['Year'].isin([2020])]['Label'])\n",
    "predictions = dt.predict(test_X)\n",
    "dt.score(test_X,test_y)"
   ]
  },
  {
   "cell_type": "code",
   "execution_count": 6,
   "id": "28e33677-9858-42d0-bf1a-fed0c263640c",
   "metadata": {},
   "outputs": [
    {
     "data": {
      "image/png": "[encoded data removed]",
      "text/plain": [
       "<Figure size 640x480 with 2 Axes>"
      ]
     },
     "metadata": {},
     "output_type": "display_data"
    }
   ],
   "source": [
    "cm = confusion_matrix(test_y,predictions)\n",
    "disp = ConfusionMatrixDisplay(cm).plot()\n",
    "plt.show()"
   ]
  },
  {
   "cell_type": "code",
   "execution_count": 7,
   "id": "19195497-5e35-4bcd-b035-d7ee3b91f85a",
   "metadata": {},
   "outputs": [
    {
     "data": {
      "text/plain": [
       "array([[17,  1],\n",
       "       [ 5, 29]])"
      ]
     },
     "execution_count": 7,
     "metadata": {},
     "output_type": "execute_result"
    }
   ],
   "source": [
    "cm"
   ]
  },
  {
   "cell_type": "code",
   "execution_count": 8,
   "id": "4f20b39e-15d3-4536-8498-b444304acfd8",
   "metadata": {},
   "outputs": [
    {
     "data": {
      "text/plain": [
       "(0.85, 0.94)"
      ]
     },
     "execution_count": 8,
     "metadata": {},
     "output_type": "execute_result"
    }
   ],
   "source": [
    "tpr(cm), tnr(cm)"
   ]
  },
  {
   "cell_type": "code",
   "execution_count": 9,
   "id": "a54f4eb2-07f5-4609-a0c2-ac40074a34c4",
   "metadata": {},
   "outputs": [
    {
     "name": "stdout",
     "output_type": "stream",
     "text": [
      "For decision tree predictions for gme in year 2 true positive rate, or sesnsitivity/recall, is the proportion of \"Green\" labels correctly identified and is 0.85 while true negative rate, or specificity is the proportion of \"Red\" labels  correctly identified and is 0.94\n"
     ]
    }
   ],
   "source": [
    "print(f'For decision tree predictions for {stock} in year 2 \\\n",
    "true positive rate, or sesnsitivity/recall, is the proportion of \"Green\" labels\\\n",
    " correctly identified and is {tpr(cm)}\\\n",
    " while true negative rate, or specificity is the proportion of \"Red\" labels \\\n",
    " correctly identified and is {tnr(cm)}\\\n",
    "')"
   ]
  },
  {
   "cell_type": "code",
   "execution_count": 10,
   "id": "f20ebef1-dc4b-4a22-bbc4-4f82c02cbe0d",
   "metadata": {},
   "outputs": [
    {
     "data": {
      "text/plain": [
       "array(['Red', 'Green', 'Green', 'Green', 'Red', 'Red', 'Red', 'Green',\n",
       "       'Green', 'Green', 'Red', 'Red', 'Green', 'Red', 'Red', 'Red',\n",
       "       'Green', 'Red', 'Green', 'Green', 'Green', 'Green', 'Red', 'Red',\n",
       "       'Red', 'Red', 'Red', 'Red', 'Green', 'Red', 'Red', 'Green', 'Red',\n",
       "       'Green', 'Green', 'Red', 'Green', 'Red', 'Red', 'Red', 'Green',\n",
       "       'Red', 'Red', 'Green', 'Red', 'Green', 'Green', 'Red', 'Red',\n",
       "       'Green', 'Red', 'Red'], dtype=object)"
      ]
     },
     "execution_count": 10,
     "metadata": {},
     "output_type": "execute_result"
    }
   ],
   "source": [
    "predictions"
   ]
  },
  {
   "cell_type": "code",
   "execution_count": 11,
   "id": "16c18281-89e3-42ce-b1dd-117de9e72279",
   "metadata": {
    "scrolled": true
   },
   "outputs": [
    {
     "data": {
      "text/plain": [
       "41867.41"
      ]
     },
     "execution_count": 11,
     "metadata": {},
     "output_type": "execute_result"
    }
   ],
   "source": [
    "trade_labels(stock_data,2021,np.where(predictions == 'Green',1,0))"
   ]
  },
  {
   "cell_type": "code",
   "execution_count": 12,
   "id": "d5d6f3ac-007e-42be-9407-9d3aaf7e3636",
   "metadata": {},
   "outputs": [
    {
     "data": {
      "text/plain": [
       "807.43"
      ]
     },
     "execution_count": 12,
     "metadata": {},
     "output_type": "execute_result"
    }
   ],
   "source": [
    "buy_and_hold(stock_data,2021)"
   ]
  },
  {
   "cell_type": "code",
   "execution_count": 13,
   "id": "f3704292-a698-43da-b25e-8068e198a9b1",
   "metadata": {
    "scrolled": true
   },
   "outputs": [
    {
     "name": "stdout",
     "output_type": "stream",
     "text": [
      "For gme, b&h yields 807.43 while trading based on decision tree labels yields 41867.41\n"
     ]
    }
   ],
   "source": [
    "print(f'For {stock}, b&h yields {buy_and_hold(stock_data,2021)} \\\n",
    "while trading based on decision tree labels yields \\\n",
    "{trade_labels(stock_data,2021,np.where(predictions == \"Green\",1,0))}')"
   ]
  },
  {
   "cell_type": "markdown",
   "id": "15324135-7de1-4f00-b21c-a35363364c7b",
   "metadata": {},
   "source": [
    "###### Random Forest"
   ]
  },
  {
   "cell_type": "markdown",
   "id": "d7019171-50ea-4cfb-86df-afd998e5aa3e",
   "metadata": {},
   "source": [
    "Idea: generate list of dictionaries that contain all possible combinations of parameters that can then be iterated over to get accuracies."
   ]
  },
  {
   "cell_type": "code",
   "execution_count": 14,
   "id": "9940f2e2-c53e-43ea-a46a-7c226c42ca40",
   "metadata": {},
   "outputs": [],
   "source": [
    "test_results = []\n",
    "for d in range(1,6):\n",
    "    for n in range(1,11):\n",
    "        rf = RandomForestClassifier(criterion = 'entropy', \n",
    "                                    n_estimators=n,\n",
    "                                    max_depth=d,random_state=1)\n",
    "        rf.fit(train_X,train_y)\n",
    "        test_results.append((d,n,accuracy_score(test_y,rf.predict(test_X))))\n",
    "        # rf.score(train_X,train_y)\n",
    "        "
   ]
  },
  {
   "cell_type": "code",
   "execution_count": 15,
   "id": "b2653d12-05d5-483e-8c1b-18ff02815e41",
   "metadata": {
    "scrolled": true
   },
   "outputs": [],
   "source": [
    "results_df = pd.DataFrame(test_results, columns = ['d','n','accuracy'])\n",
    "results_df['error'] = 1- results_df['accuracy']"
   ]
  },
  {
   "cell_type": "code",
   "execution_count": 16,
   "id": "26487555-2d3f-400a-9065-03dd8f2354cc",
   "metadata": {},
   "outputs": [
    {
     "data": {
      "text/html": [
       "<div>\n",
       "<style scoped>\n",
       "    .dataframe tbody tr th:only-of-type {\n",
       "        vertical-align: middle;\n",
       "    }\n",
       "\n",
       "    .dataframe tbody tr th {\n",
       "        vertical-align: top;\n",
       "    }\n",
       "\n",
       "    .dataframe thead th {\n",
       "        text-align: right;\n",
       "    }\n",
       "</style>\n",
       "<table border=\"1\" class=\"dataframe\">\n",
       "  <thead>\n",
       "    <tr style=\"text-align: right;\">\n",
       "      <th></th>\n",
       "      <th>d</th>\n",
       "      <th>n</th>\n",
       "      <th>accuracy</th>\n",
       "      <th>error</th>\n",
       "    </tr>\n",
       "  </thead>\n",
       "  <tbody>\n",
       "    <tr>\n",
       "      <th>0</th>\n",
       "      <td>1</td>\n",
       "      <td>1</td>\n",
       "      <td>0.596154</td>\n",
       "      <td>0.403846</td>\n",
       "    </tr>\n",
       "    <tr>\n",
       "      <th>1</th>\n",
       "      <td>1</td>\n",
       "      <td>2</td>\n",
       "      <td>0.923077</td>\n",
       "      <td>0.076923</td>\n",
       "    </tr>\n",
       "    <tr>\n",
       "      <th>2</th>\n",
       "      <td>1</td>\n",
       "      <td>3</td>\n",
       "      <td>0.596154</td>\n",
       "      <td>0.403846</td>\n",
       "    </tr>\n",
       "    <tr>\n",
       "      <th>3</th>\n",
       "      <td>1</td>\n",
       "      <td>4</td>\n",
       "      <td>0.826923</td>\n",
       "      <td>0.173077</td>\n",
       "    </tr>\n",
       "    <tr>\n",
       "      <th>4</th>\n",
       "      <td>1</td>\n",
       "      <td>5</td>\n",
       "      <td>0.826923</td>\n",
       "      <td>0.173077</td>\n",
       "    </tr>\n",
       "    <tr>\n",
       "      <th>5</th>\n",
       "      <td>1</td>\n",
       "      <td>6</td>\n",
       "      <td>0.826923</td>\n",
       "      <td>0.173077</td>\n",
       "    </tr>\n",
       "    <tr>\n",
       "      <th>6</th>\n",
       "      <td>1</td>\n",
       "      <td>7</td>\n",
       "      <td>0.923077</td>\n",
       "      <td>0.076923</td>\n",
       "    </tr>\n",
       "    <tr>\n",
       "      <th>7</th>\n",
       "      <td>1</td>\n",
       "      <td>8</td>\n",
       "      <td>0.923077</td>\n",
       "      <td>0.076923</td>\n",
       "    </tr>\n",
       "    <tr>\n",
       "      <th>8</th>\n",
       "      <td>1</td>\n",
       "      <td>9</td>\n",
       "      <td>0.923077</td>\n",
       "      <td>0.076923</td>\n",
       "    </tr>\n",
       "    <tr>\n",
       "      <th>9</th>\n",
       "      <td>1</td>\n",
       "      <td>10</td>\n",
       "      <td>0.923077</td>\n",
       "      <td>0.076923</td>\n",
       "    </tr>\n",
       "    <tr>\n",
       "      <th>10</th>\n",
       "      <td>2</td>\n",
       "      <td>1</td>\n",
       "      <td>0.461538</td>\n",
       "      <td>0.538462</td>\n",
       "    </tr>\n",
       "    <tr>\n",
       "      <th>11</th>\n",
       "      <td>2</td>\n",
       "      <td>2</td>\n",
       "      <td>0.846154</td>\n",
       "      <td>0.153846</td>\n",
       "    </tr>\n",
       "    <tr>\n",
       "      <th>12</th>\n",
       "      <td>2</td>\n",
       "      <td>3</td>\n",
       "      <td>0.730769</td>\n",
       "      <td>0.269231</td>\n",
       "    </tr>\n",
       "    <tr>\n",
       "      <th>13</th>\n",
       "      <td>2</td>\n",
       "      <td>4</td>\n",
       "      <td>0.750000</td>\n",
       "      <td>0.250000</td>\n",
       "    </tr>\n",
       "    <tr>\n",
       "      <th>14</th>\n",
       "      <td>2</td>\n",
       "      <td>5</td>\n",
       "      <td>0.826923</td>\n",
       "      <td>0.173077</td>\n",
       "    </tr>\n",
       "    <tr>\n",
       "      <th>15</th>\n",
       "      <td>2</td>\n",
       "      <td>6</td>\n",
       "      <td>0.750000</td>\n",
       "      <td>0.250000</td>\n",
       "    </tr>\n",
       "    <tr>\n",
       "      <th>16</th>\n",
       "      <td>2</td>\n",
       "      <td>7</td>\n",
       "      <td>0.846154</td>\n",
       "      <td>0.153846</td>\n",
       "    </tr>\n",
       "    <tr>\n",
       "      <th>17</th>\n",
       "      <td>2</td>\n",
       "      <td>8</td>\n",
       "      <td>0.846154</td>\n",
       "      <td>0.153846</td>\n",
       "    </tr>\n",
       "    <tr>\n",
       "      <th>18</th>\n",
       "      <td>2</td>\n",
       "      <td>9</td>\n",
       "      <td>0.846154</td>\n",
       "      <td>0.153846</td>\n",
       "    </tr>\n",
       "    <tr>\n",
       "      <th>19</th>\n",
       "      <td>2</td>\n",
       "      <td>10</td>\n",
       "      <td>0.923077</td>\n",
       "      <td>0.076923</td>\n",
       "    </tr>\n",
       "    <tr>\n",
       "      <th>20</th>\n",
       "      <td>3</td>\n",
       "      <td>1</td>\n",
       "      <td>0.730769</td>\n",
       "      <td>0.269231</td>\n",
       "    </tr>\n",
       "    <tr>\n",
       "      <th>21</th>\n",
       "      <td>3</td>\n",
       "      <td>2</td>\n",
       "      <td>0.807692</td>\n",
       "      <td>0.192308</td>\n",
       "    </tr>\n",
       "    <tr>\n",
       "      <th>22</th>\n",
       "      <td>3</td>\n",
       "      <td>3</td>\n",
       "      <td>0.865385</td>\n",
       "      <td>0.134615</td>\n",
       "    </tr>\n",
       "    <tr>\n",
       "      <th>23</th>\n",
       "      <td>3</td>\n",
       "      <td>4</td>\n",
       "      <td>0.846154</td>\n",
       "      <td>0.153846</td>\n",
       "    </tr>\n",
       "    <tr>\n",
       "      <th>24</th>\n",
       "      <td>3</td>\n",
       "      <td>5</td>\n",
       "      <td>0.923077</td>\n",
       "      <td>0.076923</td>\n",
       "    </tr>\n",
       "    <tr>\n",
       "      <th>25</th>\n",
       "      <td>3</td>\n",
       "      <td>6</td>\n",
       "      <td>0.846154</td>\n",
       "      <td>0.153846</td>\n",
       "    </tr>\n",
       "    <tr>\n",
       "      <th>26</th>\n",
       "      <td>3</td>\n",
       "      <td>7</td>\n",
       "      <td>0.923077</td>\n",
       "      <td>0.076923</td>\n",
       "    </tr>\n",
       "    <tr>\n",
       "      <th>27</th>\n",
       "      <td>3</td>\n",
       "      <td>8</td>\n",
       "      <td>0.884615</td>\n",
       "      <td>0.115385</td>\n",
       "    </tr>\n",
       "    <tr>\n",
       "      <th>28</th>\n",
       "      <td>3</td>\n",
       "      <td>9</td>\n",
       "      <td>0.903846</td>\n",
       "      <td>0.096154</td>\n",
       "    </tr>\n",
       "    <tr>\n",
       "      <th>29</th>\n",
       "      <td>3</td>\n",
       "      <td>10</td>\n",
       "      <td>0.903846</td>\n",
       "      <td>0.096154</td>\n",
       "    </tr>\n",
       "    <tr>\n",
       "      <th>30</th>\n",
       "      <td>4</td>\n",
       "      <td>1</td>\n",
       "      <td>0.769231</td>\n",
       "      <td>0.230769</td>\n",
       "    </tr>\n",
       "    <tr>\n",
       "      <th>31</th>\n",
       "      <td>4</td>\n",
       "      <td>2</td>\n",
       "      <td>0.769231</td>\n",
       "      <td>0.230769</td>\n",
       "    </tr>\n",
       "    <tr>\n",
       "      <th>32</th>\n",
       "      <td>4</td>\n",
       "      <td>3</td>\n",
       "      <td>0.923077</td>\n",
       "      <td>0.076923</td>\n",
       "    </tr>\n",
       "    <tr>\n",
       "      <th>33</th>\n",
       "      <td>4</td>\n",
       "      <td>4</td>\n",
       "      <td>0.903846</td>\n",
       "      <td>0.096154</td>\n",
       "    </tr>\n",
       "    <tr>\n",
       "      <th>34</th>\n",
       "      <td>4</td>\n",
       "      <td>5</td>\n",
       "      <td>0.923077</td>\n",
       "      <td>0.076923</td>\n",
       "    </tr>\n",
       "    <tr>\n",
       "      <th>35</th>\n",
       "      <td>4</td>\n",
       "      <td>6</td>\n",
       "      <td>0.884615</td>\n",
       "      <td>0.115385</td>\n",
       "    </tr>\n",
       "    <tr>\n",
       "      <th>36</th>\n",
       "      <td>4</td>\n",
       "      <td>7</td>\n",
       "      <td>0.903846</td>\n",
       "      <td>0.096154</td>\n",
       "    </tr>\n",
       "    <tr>\n",
       "      <th>37</th>\n",
       "      <td>4</td>\n",
       "      <td>8</td>\n",
       "      <td>0.903846</td>\n",
       "      <td>0.096154</td>\n",
       "    </tr>\n",
       "    <tr>\n",
       "      <th>38</th>\n",
       "      <td>4</td>\n",
       "      <td>9</td>\n",
       "      <td>0.903846</td>\n",
       "      <td>0.096154</td>\n",
       "    </tr>\n",
       "    <tr>\n",
       "      <th>39</th>\n",
       "      <td>4</td>\n",
       "      <td>10</td>\n",
       "      <td>0.903846</td>\n",
       "      <td>0.096154</td>\n",
       "    </tr>\n",
       "    <tr>\n",
       "      <th>40</th>\n",
       "      <td>5</td>\n",
       "      <td>1</td>\n",
       "      <td>0.730769</td>\n",
       "      <td>0.269231</td>\n",
       "    </tr>\n",
       "    <tr>\n",
       "      <th>41</th>\n",
       "      <td>5</td>\n",
       "      <td>2</td>\n",
       "      <td>0.711538</td>\n",
       "      <td>0.288462</td>\n",
       "    </tr>\n",
       "    <tr>\n",
       "      <th>42</th>\n",
       "      <td>5</td>\n",
       "      <td>3</td>\n",
       "      <td>0.942308</td>\n",
       "      <td>0.057692</td>\n",
       "    </tr>\n",
       "    <tr>\n",
       "      <th>43</th>\n",
       "      <td>5</td>\n",
       "      <td>4</td>\n",
       "      <td>0.903846</td>\n",
       "      <td>0.096154</td>\n",
       "    </tr>\n",
       "    <tr>\n",
       "      <th>44</th>\n",
       "      <td>5</td>\n",
       "      <td>5</td>\n",
       "      <td>0.923077</td>\n",
       "      <td>0.076923</td>\n",
       "    </tr>\n",
       "    <tr>\n",
       "      <th>45</th>\n",
       "      <td>5</td>\n",
       "      <td>6</td>\n",
       "      <td>0.903846</td>\n",
       "      <td>0.096154</td>\n",
       "    </tr>\n",
       "    <tr>\n",
       "      <th>46</th>\n",
       "      <td>5</td>\n",
       "      <td>7</td>\n",
       "      <td>0.903846</td>\n",
       "      <td>0.096154</td>\n",
       "    </tr>\n",
       "    <tr>\n",
       "      <th>47</th>\n",
       "      <td>5</td>\n",
       "      <td>8</td>\n",
       "      <td>0.903846</td>\n",
       "      <td>0.096154</td>\n",
       "    </tr>\n",
       "    <tr>\n",
       "      <th>48</th>\n",
       "      <td>5</td>\n",
       "      <td>9</td>\n",
       "      <td>0.903846</td>\n",
       "      <td>0.096154</td>\n",
       "    </tr>\n",
       "    <tr>\n",
       "      <th>49</th>\n",
       "      <td>5</td>\n",
       "      <td>10</td>\n",
       "      <td>0.865385</td>\n",
       "      <td>0.134615</td>\n",
       "    </tr>\n",
       "  </tbody>\n",
       "</table>\n",
       "</div>"
      ],
      "text/plain": [
       "    d   n  accuracy     error\n",
       "0   1   1  0.596154  0.403846\n",
       "1   1   2  0.923077  0.076923\n",
       "2   1   3  0.596154  0.403846\n",
       "3   1   4  0.826923  0.173077\n",
       "4   1   5  0.826923  0.173077\n",
       "5   1   6  0.826923  0.173077\n",
       "6   1   7  0.923077  0.076923\n",
       "7   1   8  0.923077  0.076923\n",
       "8   1   9  0.923077  0.076923\n",
       "9   1  10  0.923077  0.076923\n",
       "10  2   1  0.461538  0.538462\n",
       "11  2   2  0.846154  0.153846\n",
       "12  2   3  0.730769  0.269231\n",
       "13  2   4  0.750000  0.250000\n",
       "14  2   5  0.826923  0.173077\n",
       "15  2   6  0.750000  0.250000\n",
       "16  2   7  0.846154  0.153846\n",
       "17  2   8  0.846154  0.153846\n",
       "18  2   9  0.846154  0.153846\n",
       "19  2  10  0.923077  0.076923\n",
       "20  3   1  0.730769  0.269231\n",
       "21  3   2  0.807692  0.192308\n",
       "22  3   3  0.865385  0.134615\n",
       "23  3   4  0.846154  0.153846\n",
       "24  3   5  0.923077  0.076923\n",
       "25  3   6  0.846154  0.153846\n",
       "26  3   7  0.923077  0.076923\n",
       "27  3   8  0.884615  0.115385\n",
       "28  3   9  0.903846  0.096154\n",
       "29  3  10  0.903846  0.096154\n",
       "30  4   1  0.769231  0.230769\n",
       "31  4   2  0.769231  0.230769\n",
       "32  4   3  0.923077  0.076923\n",
       "33  4   4  0.903846  0.096154\n",
       "34  4   5  0.923077  0.076923\n",
       "35  4   6  0.884615  0.115385\n",
       "36  4   7  0.903846  0.096154\n",
       "37  4   8  0.903846  0.096154\n",
       "38  4   9  0.903846  0.096154\n",
       "39  4  10  0.903846  0.096154\n",
       "40  5   1  0.730769  0.269231\n",
       "41  5   2  0.711538  0.288462\n",
       "42  5   3  0.942308  0.057692\n",
       "43  5   4  0.903846  0.096154\n",
       "44  5   5  0.923077  0.076923\n",
       "45  5   6  0.903846  0.096154\n",
       "46  5   7  0.903846  0.096154\n",
       "47  5   8  0.903846  0.096154\n",
       "48  5   9  0.903846  0.096154\n",
       "49  5  10  0.865385  0.134615"
      ]
     },
     "execution_count": 16,
     "metadata": {},
     "output_type": "execute_result"
    }
   ],
   "source": [
    "results_df"
   ]
  },
  {
   "cell_type": "code",
   "execution_count": 17,
   "id": "5bd944a6-78d7-4136-bba7-f5c37bd7376b",
   "metadata": {},
   "outputs": [
    {
     "data": {
      "text/plain": [
       "[Text(0.5, 1.0, 'GME RF Error')]"
      ]
     },
     "execution_count": 17,
     "metadata": {},
     "output_type": "execute_result"
    },
    {
     "data": {
      "image/png": "[encoded data removed]",
      "text/plain": [
       "<Figure size 640x480 with 1 Axes>"
      ]
     },
     "metadata": {},
     "output_type": "display_data"
    }
   ],
   "source": [
    "sns.lineplot(results_df, x = 'n', y = 'error', hue='d').set(title = f'{stock.upper()} RF Error')"
   ]
  },
  {
   "cell_type": "code",
   "execution_count": 18,
   "id": "e14dcc9a-9534-4777-a450-0e0b1532b4bd",
   "metadata": {
    "scrolled": true
   },
   "outputs": [
    {
     "data": {
      "text/html": [
       "<div>\n",
       "<style scoped>\n",
       "    .dataframe tbody tr th:only-of-type {\n",
       "        vertical-align: middle;\n",
       "    }\n",
       "\n",
       "    .dataframe tbody tr th {\n",
       "        vertical-align: top;\n",
       "    }\n",
       "\n",
       "    .dataframe thead th {\n",
       "        text-align: right;\n",
       "    }\n",
       "</style>\n",
       "<table border=\"1\" class=\"dataframe\">\n",
       "  <thead>\n",
       "    <tr style=\"text-align: right;\">\n",
       "      <th></th>\n",
       "      <th>d</th>\n",
       "      <th>n</th>\n",
       "      <th>accuracy</th>\n",
       "      <th>error</th>\n",
       "    </tr>\n",
       "  </thead>\n",
       "  <tbody>\n",
       "    <tr>\n",
       "      <th>42</th>\n",
       "      <td>5</td>\n",
       "      <td>3</td>\n",
       "      <td>0.942308</td>\n",
       "      <td>0.057692</td>\n",
       "    </tr>\n",
       "  </tbody>\n",
       "</table>\n",
       "</div>"
      ],
      "text/plain": [
       "    d  n  accuracy     error\n",
       "42  5  3  0.942308  0.057692"
      ]
     },
     "execution_count": 18,
     "metadata": {},
     "output_type": "execute_result"
    }
   ],
   "source": [
    "results_df[results_df.accuracy == \n",
    "results_df.loc[results_df['accuracy'].idxmax(),'accuracy']]"
   ]
  },
  {
   "cell_type": "markdown",
   "id": "7efa5a7a-f086-4d66-b7a0-854682f374c5",
   "metadata": {},
   "source": [
    "With depth of 5 and n_trees of 3 there is 94.23% accuracy."
   ]
  },
  {
   "cell_type": "code",
   "execution_count": 19,
   "id": "1f25d73f-d620-4603-ad87-86ac5243699c",
   "metadata": {},
   "outputs": [],
   "source": [
    "rf = RandomForestClassifier(n_estimators=3, max_depth=5,criterion = 'entropy',random_state=0)"
   ]
  },
  {
   "cell_type": "code",
   "execution_count": 20,
   "id": "737f21d2-bf21-42a7-878e-c9699ab2a068",
   "metadata": {},
   "outputs": [
    {
     "name": "stdout",
     "output_type": "stream",
     "text": [
      "tpr: 0.74, tnr: 0.72\n"
     ]
    }
   ],
   "source": [
    "rf.fit(train_X,train_y)\n",
    "preds = rf.predict(test_X)\n",
    "cm = confusion_matrix(test_y,preds)\n",
    "print(f'tpr: {tpr(cm)}, tnr: {tnr(cm)}')"
   ]
  },
  {
   "cell_type": "code",
   "execution_count": 21,
   "id": "efa4b339-1962-451d-bfd3-10a49cb70a54",
   "metadata": {},
   "outputs": [
    {
     "data": {
      "text/plain": [
       "array([[13,  5],\n",
       "       [ 9, 25]])"
      ]
     },
     "execution_count": 21,
     "metadata": {},
     "output_type": "execute_result"
    }
   ],
   "source": [
    "cm"
   ]
  },
  {
   "cell_type": "code",
   "execution_count": 22,
   "id": "74d1a378-9574-4810-ae57-7b12ccafcee2",
   "metadata": {},
   "outputs": [
    {
     "data": {
      "text/plain": [
       "5107.95"
      ]
     },
     "execution_count": 22,
     "metadata": {},
     "output_type": "execute_result"
    }
   ],
   "source": [
    "trade_labels(stock_data,2021,np.where(preds == \"Green\",1,0))"
   ]
  },
  {
   "cell_type": "code",
   "execution_count": 23,
   "id": "dfa4a6d1-6d09-4410-8233-25b44ba2c966",
   "metadata": {},
   "outputs": [
    {
     "data": {
      "text/plain": [
       "807.43"
      ]
     },
     "execution_count": 23,
     "metadata": {},
     "output_type": "execute_result"
    }
   ],
   "source": [
    "buy_and_hold(stock_data,2021)"
   ]
  },
  {
   "cell_type": "markdown",
   "id": "97f84fe4-af7d-4c5a-a0a3-0d2c10feda66",
   "metadata": {},
   "source": [
    "###### Adaboost"
   ]
  },
  {
   "cell_type": "code",
   "execution_count": 24,
   "id": "17815a6e-d197-481a-bcbd-68d499dda407",
   "metadata": {},
   "outputs": [],
   "source": [
    "test_results = []\n",
    "gnb = GaussianNB()\n",
    "lr = LogisticRegression()\n",
    "dt = DecisionTreeClassifier()\n",
    "estimators = [gnb,lr,dt]\n",
    "for l in [.5,1]:\n",
    "    for e in estimators:\n",
    "        for n in range(1,16):\n",
    "            ab = AdaBoostClassifier(estimator = e,learning_rate=l,\n",
    "                                    n_estimators=n)\n",
    "            \n",
    "            ab.fit(train_X,train_y)\n",
    "            test_results.append((l,\n",
    "                str(type(e)).split('.')[-1][:-2],\n",
    "                n,accuracy_score(test_y,ab.predict(test_X))))\n",
    "test_results = pd.DataFrame(test_results,columns=['Lambda',\"Estimator\",'N_Estimators','Accuracy'])"
   ]
  },
  {
   "cell_type": "code",
   "execution_count": 25,
   "id": "e7aec7ef-2f4f-4f1f-a05e-7f9c5a6fc239",
   "metadata": {},
   "outputs": [],
   "source": [
    "test_results['Error'] = 1- test_results['Accuracy']"
   ]
  },
  {
   "cell_type": "code",
   "execution_count": 26,
   "id": "5eadf282-1a78-48eb-93ac-ba6cb6928acd",
   "metadata": {},
   "outputs": [
    {
     "data": {
      "text/html": [
       "<div>\n",
       "<style scoped>\n",
       "    .dataframe tbody tr th:only-of-type {\n",
       "        vertical-align: middle;\n",
       "    }\n",
       "\n",
       "    .dataframe tbody tr th {\n",
       "        vertical-align: top;\n",
       "    }\n",
       "\n",
       "    .dataframe thead th {\n",
       "        text-align: right;\n",
       "    }\n",
       "</style>\n",
       "<table border=\"1\" class=\"dataframe\">\n",
       "  <thead>\n",
       "    <tr style=\"text-align: right;\">\n",
       "      <th></th>\n",
       "      <th>Lambda</th>\n",
       "      <th>Estimator</th>\n",
       "      <th>N_Estimators</th>\n",
       "      <th>Accuracy</th>\n",
       "      <th>Error</th>\n",
       "    </tr>\n",
       "  </thead>\n",
       "  <tbody>\n",
       "    <tr>\n",
       "      <th>15</th>\n",
       "      <td>0.5</td>\n",
       "      <td>LogisticRegression</td>\n",
       "      <td>1</td>\n",
       "      <td>0.596154</td>\n",
       "      <td>0.403846</td>\n",
       "    </tr>\n",
       "    <tr>\n",
       "      <th>16</th>\n",
       "      <td>0.5</td>\n",
       "      <td>LogisticRegression</td>\n",
       "      <td>2</td>\n",
       "      <td>0.596154</td>\n",
       "      <td>0.403846</td>\n",
       "    </tr>\n",
       "    <tr>\n",
       "      <th>17</th>\n",
       "      <td>0.5</td>\n",
       "      <td>LogisticRegression</td>\n",
       "      <td>3</td>\n",
       "      <td>0.596154</td>\n",
       "      <td>0.403846</td>\n",
       "    </tr>\n",
       "    <tr>\n",
       "      <th>18</th>\n",
       "      <td>0.5</td>\n",
       "      <td>LogisticRegression</td>\n",
       "      <td>4</td>\n",
       "      <td>0.596154</td>\n",
       "      <td>0.403846</td>\n",
       "    </tr>\n",
       "    <tr>\n",
       "      <th>19</th>\n",
       "      <td>0.5</td>\n",
       "      <td>LogisticRegression</td>\n",
       "      <td>5</td>\n",
       "      <td>0.596154</td>\n",
       "      <td>0.403846</td>\n",
       "    </tr>\n",
       "    <tr>\n",
       "      <th>20</th>\n",
       "      <td>0.5</td>\n",
       "      <td>LogisticRegression</td>\n",
       "      <td>6</td>\n",
       "      <td>0.596154</td>\n",
       "      <td>0.403846</td>\n",
       "    </tr>\n",
       "    <tr>\n",
       "      <th>21</th>\n",
       "      <td>0.5</td>\n",
       "      <td>LogisticRegression</td>\n",
       "      <td>7</td>\n",
       "      <td>0.596154</td>\n",
       "      <td>0.403846</td>\n",
       "    </tr>\n",
       "    <tr>\n",
       "      <th>22</th>\n",
       "      <td>0.5</td>\n",
       "      <td>LogisticRegression</td>\n",
       "      <td>8</td>\n",
       "      <td>0.596154</td>\n",
       "      <td>0.403846</td>\n",
       "    </tr>\n",
       "    <tr>\n",
       "      <th>23</th>\n",
       "      <td>0.5</td>\n",
       "      <td>LogisticRegression</td>\n",
       "      <td>9</td>\n",
       "      <td>0.596154</td>\n",
       "      <td>0.403846</td>\n",
       "    </tr>\n",
       "    <tr>\n",
       "      <th>24</th>\n",
       "      <td>0.5</td>\n",
       "      <td>LogisticRegression</td>\n",
       "      <td>10</td>\n",
       "      <td>0.596154</td>\n",
       "      <td>0.403846</td>\n",
       "    </tr>\n",
       "    <tr>\n",
       "      <th>25</th>\n",
       "      <td>0.5</td>\n",
       "      <td>LogisticRegression</td>\n",
       "      <td>11</td>\n",
       "      <td>0.596154</td>\n",
       "      <td>0.403846</td>\n",
       "    </tr>\n",
       "    <tr>\n",
       "      <th>26</th>\n",
       "      <td>0.5</td>\n",
       "      <td>LogisticRegression</td>\n",
       "      <td>12</td>\n",
       "      <td>0.596154</td>\n",
       "      <td>0.403846</td>\n",
       "    </tr>\n",
       "    <tr>\n",
       "      <th>27</th>\n",
       "      <td>0.5</td>\n",
       "      <td>LogisticRegression</td>\n",
       "      <td>13</td>\n",
       "      <td>0.596154</td>\n",
       "      <td>0.403846</td>\n",
       "    </tr>\n",
       "    <tr>\n",
       "      <th>28</th>\n",
       "      <td>0.5</td>\n",
       "      <td>LogisticRegression</td>\n",
       "      <td>14</td>\n",
       "      <td>0.596154</td>\n",
       "      <td>0.403846</td>\n",
       "    </tr>\n",
       "    <tr>\n",
       "      <th>29</th>\n",
       "      <td>0.5</td>\n",
       "      <td>LogisticRegression</td>\n",
       "      <td>15</td>\n",
       "      <td>0.596154</td>\n",
       "      <td>0.403846</td>\n",
       "    </tr>\n",
       "    <tr>\n",
       "      <th>60</th>\n",
       "      <td>1.0</td>\n",
       "      <td>LogisticRegression</td>\n",
       "      <td>1</td>\n",
       "      <td>0.596154</td>\n",
       "      <td>0.403846</td>\n",
       "    </tr>\n",
       "    <tr>\n",
       "      <th>61</th>\n",
       "      <td>1.0</td>\n",
       "      <td>LogisticRegression</td>\n",
       "      <td>2</td>\n",
       "      <td>0.596154</td>\n",
       "      <td>0.403846</td>\n",
       "    </tr>\n",
       "    <tr>\n",
       "      <th>62</th>\n",
       "      <td>1.0</td>\n",
       "      <td>LogisticRegression</td>\n",
       "      <td>3</td>\n",
       "      <td>0.596154</td>\n",
       "      <td>0.403846</td>\n",
       "    </tr>\n",
       "    <tr>\n",
       "      <th>63</th>\n",
       "      <td>1.0</td>\n",
       "      <td>LogisticRegression</td>\n",
       "      <td>4</td>\n",
       "      <td>0.596154</td>\n",
       "      <td>0.403846</td>\n",
       "    </tr>\n",
       "    <tr>\n",
       "      <th>64</th>\n",
       "      <td>1.0</td>\n",
       "      <td>LogisticRegression</td>\n",
       "      <td>5</td>\n",
       "      <td>0.596154</td>\n",
       "      <td>0.403846</td>\n",
       "    </tr>\n",
       "    <tr>\n",
       "      <th>65</th>\n",
       "      <td>1.0</td>\n",
       "      <td>LogisticRegression</td>\n",
       "      <td>6</td>\n",
       "      <td>0.596154</td>\n",
       "      <td>0.403846</td>\n",
       "    </tr>\n",
       "    <tr>\n",
       "      <th>66</th>\n",
       "      <td>1.0</td>\n",
       "      <td>LogisticRegression</td>\n",
       "      <td>7</td>\n",
       "      <td>0.596154</td>\n",
       "      <td>0.403846</td>\n",
       "    </tr>\n",
       "    <tr>\n",
       "      <th>67</th>\n",
       "      <td>1.0</td>\n",
       "      <td>LogisticRegression</td>\n",
       "      <td>8</td>\n",
       "      <td>0.596154</td>\n",
       "      <td>0.403846</td>\n",
       "    </tr>\n",
       "    <tr>\n",
       "      <th>68</th>\n",
       "      <td>1.0</td>\n",
       "      <td>LogisticRegression</td>\n",
       "      <td>9</td>\n",
       "      <td>0.596154</td>\n",
       "      <td>0.403846</td>\n",
       "    </tr>\n",
       "    <tr>\n",
       "      <th>69</th>\n",
       "      <td>1.0</td>\n",
       "      <td>LogisticRegression</td>\n",
       "      <td>10</td>\n",
       "      <td>0.596154</td>\n",
       "      <td>0.403846</td>\n",
       "    </tr>\n",
       "    <tr>\n",
       "      <th>70</th>\n",
       "      <td>1.0</td>\n",
       "      <td>LogisticRegression</td>\n",
       "      <td>11</td>\n",
       "      <td>0.596154</td>\n",
       "      <td>0.403846</td>\n",
       "    </tr>\n",
       "    <tr>\n",
       "      <th>71</th>\n",
       "      <td>1.0</td>\n",
       "      <td>LogisticRegression</td>\n",
       "      <td>12</td>\n",
       "      <td>0.596154</td>\n",
       "      <td>0.403846</td>\n",
       "    </tr>\n",
       "    <tr>\n",
       "      <th>72</th>\n",
       "      <td>1.0</td>\n",
       "      <td>LogisticRegression</td>\n",
       "      <td>13</td>\n",
       "      <td>0.596154</td>\n",
       "      <td>0.403846</td>\n",
       "    </tr>\n",
       "    <tr>\n",
       "      <th>73</th>\n",
       "      <td>1.0</td>\n",
       "      <td>LogisticRegression</td>\n",
       "      <td>14</td>\n",
       "      <td>0.596154</td>\n",
       "      <td>0.403846</td>\n",
       "    </tr>\n",
       "    <tr>\n",
       "      <th>74</th>\n",
       "      <td>1.0</td>\n",
       "      <td>LogisticRegression</td>\n",
       "      <td>15</td>\n",
       "      <td>0.596154</td>\n",
       "      <td>0.403846</td>\n",
       "    </tr>\n",
       "  </tbody>\n",
       "</table>\n",
       "</div>"
      ],
      "text/plain": [
       "    Lambda           Estimator  N_Estimators  Accuracy     Error\n",
       "15     0.5  LogisticRegression             1  0.596154  0.403846\n",
       "16     0.5  LogisticRegression             2  0.596154  0.403846\n",
       "17     0.5  LogisticRegression             3  0.596154  0.403846\n",
       "18     0.5  LogisticRegression             4  0.596154  0.403846\n",
       "19     0.5  LogisticRegression             5  0.596154  0.403846\n",
       "20     0.5  LogisticRegression             6  0.596154  0.403846\n",
       "21     0.5  LogisticRegression             7  0.596154  0.403846\n",
       "22     0.5  LogisticRegression             8  0.596154  0.403846\n",
       "23     0.5  LogisticRegression             9  0.596154  0.403846\n",
       "24     0.5  LogisticRegression            10  0.596154  0.403846\n",
       "25     0.5  LogisticRegression            11  0.596154  0.403846\n",
       "26     0.5  LogisticRegression            12  0.596154  0.403846\n",
       "27     0.5  LogisticRegression            13  0.596154  0.403846\n",
       "28     0.5  LogisticRegression            14  0.596154  0.403846\n",
       "29     0.5  LogisticRegression            15  0.596154  0.403846\n",
       "60     1.0  LogisticRegression             1  0.596154  0.403846\n",
       "61     1.0  LogisticRegression             2  0.596154  0.403846\n",
       "62     1.0  LogisticRegression             3  0.596154  0.403846\n",
       "63     1.0  LogisticRegression             4  0.596154  0.403846\n",
       "64     1.0  LogisticRegression             5  0.596154  0.403846\n",
       "65     1.0  LogisticRegression             6  0.596154  0.403846\n",
       "66     1.0  LogisticRegression             7  0.596154  0.403846\n",
       "67     1.0  LogisticRegression             8  0.596154  0.403846\n",
       "68     1.0  LogisticRegression             9  0.596154  0.403846\n",
       "69     1.0  LogisticRegression            10  0.596154  0.403846\n",
       "70     1.0  LogisticRegression            11  0.596154  0.403846\n",
       "71     1.0  LogisticRegression            12  0.596154  0.403846\n",
       "72     1.0  LogisticRegression            13  0.596154  0.403846\n",
       "73     1.0  LogisticRegression            14  0.596154  0.403846\n",
       "74     1.0  LogisticRegression            15  0.596154  0.403846"
      ]
     },
     "execution_count": 26,
     "metadata": {},
     "output_type": "execute_result"
    }
   ],
   "source": [
    "test_results[test_results.Estimator=='LogisticRegression']"
   ]
  },
  {
   "cell_type": "code",
   "execution_count": 27,
   "id": "d26699a4-025f-414e-8ca2-78b71bdaf8ec",
   "metadata": {
    "scrolled": true
   },
   "outputs": [
    {
     "data": {
      "text/html": [
       "<div>\n",
       "<style scoped>\n",
       "    .dataframe tbody tr th:only-of-type {\n",
       "        vertical-align: middle;\n",
       "    }\n",
       "\n",
       "    .dataframe tbody tr th {\n",
       "        vertical-align: top;\n",
       "    }\n",
       "\n",
       "    .dataframe thead th {\n",
       "        text-align: right;\n",
       "    }\n",
       "</style>\n",
       "<table border=\"1\" class=\"dataframe\">\n",
       "  <thead>\n",
       "    <tr style=\"text-align: right;\">\n",
       "      <th></th>\n",
       "      <th>Lambda</th>\n",
       "      <th>Estimator</th>\n",
       "      <th>N_Estimators</th>\n",
       "      <th>Accuracy</th>\n",
       "      <th>Error</th>\n",
       "    </tr>\n",
       "  </thead>\n",
       "  <tbody>\n",
       "    <tr>\n",
       "      <th>32</th>\n",
       "      <td>0.5</td>\n",
       "      <td>DecisionTreeClassifier</td>\n",
       "      <td>3</td>\n",
       "      <td>0.903846</td>\n",
       "      <td>0.096154</td>\n",
       "    </tr>\n",
       "    <tr>\n",
       "      <th>1</th>\n",
       "      <td>0.5</td>\n",
       "      <td>GaussianNB</td>\n",
       "      <td>2</td>\n",
       "      <td>0.846154</td>\n",
       "      <td>0.153846</td>\n",
       "    </tr>\n",
       "    <tr>\n",
       "      <th>15</th>\n",
       "      <td>0.5</td>\n",
       "      <td>LogisticRegression</td>\n",
       "      <td>1</td>\n",
       "      <td>0.596154</td>\n",
       "      <td>0.403846</td>\n",
       "    </tr>\n",
       "  </tbody>\n",
       "</table>\n",
       "</div>"
      ],
      "text/plain": [
       "    Lambda               Estimator  N_Estimators  Accuracy     Error\n",
       "32     0.5  DecisionTreeClassifier             3  0.903846  0.096154\n",
       "1      0.5              GaussianNB             2  0.846154  0.153846\n",
       "15     0.5      LogisticRegression             1  0.596154  0.403846"
      ]
     },
     "execution_count": 27,
     "metadata": {},
     "output_type": "execute_result"
    }
   ],
   "source": [
    "lambda_pt_5 = test_results[test_results.Lambda==.5].loc[\n",
    "test_results[test_results.Lambda==.5].groupby('Estimator')[\n",
    "'Accuracy'].agg('idxmax').values,:\n",
    "]\n",
    "lambda_pt_5"
   ]
  },
  {
   "cell_type": "code",
   "execution_count": 28,
   "id": "3d90f78e-1ec8-47b8-9f48-494dcee9433d",
   "metadata": {
    "scrolled": true
   },
   "outputs": [
    {
     "data": {
      "text/html": [
       "<div>\n",
       "<style scoped>\n",
       "    .dataframe tbody tr th:only-of-type {\n",
       "        vertical-align: middle;\n",
       "    }\n",
       "\n",
       "    .dataframe tbody tr th {\n",
       "        vertical-align: top;\n",
       "    }\n",
       "\n",
       "    .dataframe thead th {\n",
       "        text-align: right;\n",
       "    }\n",
       "</style>\n",
       "<table border=\"1\" class=\"dataframe\">\n",
       "  <thead>\n",
       "    <tr style=\"text-align: right;\">\n",
       "      <th></th>\n",
       "      <th>Lambda</th>\n",
       "      <th>Estimator</th>\n",
       "      <th>N_Estimators</th>\n",
       "      <th>Accuracy</th>\n",
       "      <th>Error</th>\n",
       "    </tr>\n",
       "  </thead>\n",
       "  <tbody>\n",
       "    <tr>\n",
       "      <th>75</th>\n",
       "      <td>1.0</td>\n",
       "      <td>DecisionTreeClassifier</td>\n",
       "      <td>1</td>\n",
       "      <td>0.903846</td>\n",
       "      <td>0.096154</td>\n",
       "    </tr>\n",
       "    <tr>\n",
       "      <th>50</th>\n",
       "      <td>1.0</td>\n",
       "      <td>GaussianNB</td>\n",
       "      <td>6</td>\n",
       "      <td>0.903846</td>\n",
       "      <td>0.096154</td>\n",
       "    </tr>\n",
       "    <tr>\n",
       "      <th>60</th>\n",
       "      <td>1.0</td>\n",
       "      <td>LogisticRegression</td>\n",
       "      <td>1</td>\n",
       "      <td>0.596154</td>\n",
       "      <td>0.403846</td>\n",
       "    </tr>\n",
       "  </tbody>\n",
       "</table>\n",
       "</div>"
      ],
      "text/plain": [
       "    Lambda               Estimator  N_Estimators  Accuracy     Error\n",
       "75     1.0  DecisionTreeClassifier             1  0.903846  0.096154\n",
       "50     1.0              GaussianNB             6  0.903846  0.096154\n",
       "60     1.0      LogisticRegression             1  0.596154  0.403846"
      ]
     },
     "execution_count": 28,
     "metadata": {},
     "output_type": "execute_result"
    }
   ],
   "source": [
    "test_results[test_results.Lambda==1].loc[\n",
    "test_results[test_results.Lambda==1].groupby('Estimator')[\n",
    "'Accuracy'].agg('idxmax').values,:\n",
    "]"
   ]
  },
  {
   "cell_type": "code",
   "execution_count": 29,
   "id": "cf88eddd-fb0a-47b1-85b5-7e428308ac20",
   "metadata": {},
   "outputs": [
    {
     "data": {
      "text/html": [
       "<div>\n",
       "<style scoped>\n",
       "    .dataframe tbody tr th:only-of-type {\n",
       "        vertical-align: middle;\n",
       "    }\n",
       "\n",
       "    .dataframe tbody tr th {\n",
       "        vertical-align: top;\n",
       "    }\n",
       "\n",
       "    .dataframe thead th {\n",
       "        text-align: right;\n",
       "    }\n",
       "</style>\n",
       "<table border=\"1\" class=\"dataframe\">\n",
       "  <thead>\n",
       "    <tr style=\"text-align: right;\">\n",
       "      <th></th>\n",
       "      <th>Lambda</th>\n",
       "      <th>Estimator</th>\n",
       "      <th>N_Estimators</th>\n",
       "      <th>Accuracy</th>\n",
       "      <th>Error</th>\n",
       "    </tr>\n",
       "  </thead>\n",
       "  <tbody>\n",
       "    <tr>\n",
       "      <th>32</th>\n",
       "      <td>0.5</td>\n",
       "      <td>DecisionTreeClassifier</td>\n",
       "      <td>3</td>\n",
       "      <td>0.903846</td>\n",
       "      <td>0.096154</td>\n",
       "    </tr>\n",
       "    <tr>\n",
       "      <th>1</th>\n",
       "      <td>0.5</td>\n",
       "      <td>GaussianNB</td>\n",
       "      <td>2</td>\n",
       "      <td>0.846154</td>\n",
       "      <td>0.153846</td>\n",
       "    </tr>\n",
       "    <tr>\n",
       "      <th>15</th>\n",
       "      <td>0.5</td>\n",
       "      <td>LogisticRegression</td>\n",
       "      <td>1</td>\n",
       "      <td>0.596154</td>\n",
       "      <td>0.403846</td>\n",
       "    </tr>\n",
       "  </tbody>\n",
       "</table>\n",
       "</div>"
      ],
      "text/plain": [
       "    Lambda               Estimator  N_Estimators  Accuracy     Error\n",
       "32     0.5  DecisionTreeClassifier             3  0.903846  0.096154\n",
       "1      0.5              GaussianNB             2  0.846154  0.153846\n",
       "15     0.5      LogisticRegression             1  0.596154  0.403846"
      ]
     },
     "execution_count": 29,
     "metadata": {},
     "output_type": "execute_result"
    }
   ],
   "source": [
    "lambda_pt_5"
   ]
  },
  {
   "cell_type": "markdown",
   "id": "b2e086a4-ac35-45b1-b522-40506e5aef73",
   "metadata": {},
   "source": [
    "In the table above we wee that best estimator is The DecisionTreeClassifier."
   ]
  },
  {
   "cell_type": "code",
   "execution_count": 30,
   "id": "d5fd9e5e-a83c-4947-b88a-81d816e49e6a",
   "metadata": {},
   "outputs": [
    {
     "name": "stderr",
     "output_type": "stream",
     "text": [
      "/Users/williammohr/opt/anaconda3/lib/python3.9/site-packages/seaborn/axisgrid.py:118: UserWarning: The figure layout has changed to tight\n",
      "  self._figure.tight_layout(*args, **kwargs)\n"
     ]
    },
    {
     "data": {
      "text/plain": [
       "<seaborn.axisgrid.FacetGrid at 0x7fd38043f100>"
      ]
     },
     "execution_count": 30,
     "metadata": {},
     "output_type": "execute_result"
    },
    {
     "data": {
      "image/png": "[encoded data removed]",
      "text/plain": [
       "<Figure size 1201.62x500 with 2 Axes>"
      ]
     },
     "metadata": {},
     "output_type": "display_data"
    }
   ],
   "source": [
    "sns.catplot(data=test_results, col = \"Lambda\",x='N_Estimators',y='Error',\n",
    "hue = 'Estimator')"
   ]
  },
  {
   "cell_type": "markdown",
   "id": "273dfacb-94ca-4f42-8634-05e9e10e58a6",
   "metadata": {},
   "source": [
    "for lambda = .5, the best estimator is decision tree with n_estimators = 2"
   ]
  },
  {
   "cell_type": "code",
   "execution_count": 31,
   "id": "502a4c04-c341-4894-92d6-dff10f5e5266",
   "metadata": {},
   "outputs": [],
   "source": [
    "ab = AdaBoostClassifier(estimator=DecisionTreeClassifier(),n_estimators = 2,\n",
    "                          learning_rate=.5)\n",
    "ab.fit(train_X,train_y)\n",
    "preds = ab.predict(test_X)\n",
    "preds = np.where(preds==\"Green\",1,0)"
   ]
  },
  {
   "cell_type": "code",
   "execution_count": 32,
   "id": "6452d1fe-3e48-491c-9a45-f3b424a9e5bc",
   "metadata": {},
   "outputs": [
    {
     "data": {
      "text/plain": [
       "45250.34"
      ]
     },
     "execution_count": 32,
     "metadata": {},
     "output_type": "execute_result"
    }
   ],
   "source": [
    "trade_labels(stock_data,2021,preds)"
   ]
  },
  {
   "cell_type": "code",
   "execution_count": 33,
   "id": "75b54f6c-bbd0-4cb1-b118-37df1f15fd9c",
   "metadata": {},
   "outputs": [
    {
     "data": {
      "text/plain": [
       "807.43"
      ]
     },
     "execution_count": 33,
     "metadata": {},
     "output_type": "execute_result"
    }
   ],
   "source": [
    "buy_and_hold(stock_data,2021)"
   ]
  },
  {
   "cell_type": "markdown",
   "id": "adeead40-c0fb-4b79-9af4-f7677f3d6f60",
   "metadata": {},
   "source": [
    "##### S&P 500"
   ]
  },
  {
   "cell_type": "code",
   "execution_count": 34,
   "id": "b7808176-d19c-4a84-81f2-88f0fcbc2cfd",
   "metadata": {},
   "outputs": [],
   "source": [
    "stock = 'SPY'"
   ]
  },
  {
   "cell_type": "code",
   "execution_count": 35,
   "id": "4d764cd0-097b-470a-a019-cf1d72125ea2",
   "metadata": {},
   "outputs": [
    {
     "data": {
      "text/html": [
       "<div>\n",
       "<style scoped>\n",
       "    .dataframe tbody tr th:only-of-type {\n",
       "        vertical-align: middle;\n",
       "    }\n",
       "\n",
       "    .dataframe tbody tr th {\n",
       "        vertical-align: top;\n",
       "    }\n",
       "\n",
       "    .dataframe thead th {\n",
       "        text-align: right;\n",
       "    }\n",
       "</style>\n",
       "<table border=\"1\" class=\"dataframe\">\n",
       "  <thead>\n",
       "    <tr style=\"text-align: right;\">\n",
       "      <th></th>\n",
       "      <th>Year</th>\n",
       "      <th>Year_Week</th>\n",
       "      <th>Begin_Price</th>\n",
       "      <th>Adj Close</th>\n",
       "      <th>Return</th>\n",
       "      <th>Label</th>\n",
       "      <th>Week_Number</th>\n",
       "      <th>mean_return</th>\n",
       "      <th>volatility</th>\n",
       "    </tr>\n",
       "  </thead>\n",
       "  <tbody>\n",
       "    <tr>\n",
       "      <th>0</th>\n",
       "      <td>2017</td>\n",
       "      <td>2017-01</td>\n",
       "      <td>225.04</td>\n",
       "      <td>202.38</td>\n",
       "      <td>0.899307</td>\n",
       "      <td>NoLabel</td>\n",
       "      <td>1</td>\n",
       "      <td>0.21850</td>\n",
       "      <td>0.314887</td>\n",
       "    </tr>\n",
       "    <tr>\n",
       "      <th>1</th>\n",
       "      <td>2017</td>\n",
       "      <td>2017-02</td>\n",
       "      <td>202.38</td>\n",
       "      <td>202.24</td>\n",
       "      <td>0.999308</td>\n",
       "      <td>NoLabel</td>\n",
       "      <td>2</td>\n",
       "      <td>-0.01360</td>\n",
       "      <td>0.275665</td>\n",
       "    </tr>\n",
       "    <tr>\n",
       "      <th>261</th>\n",
       "      <td>2021</td>\n",
       "      <td>2021-51</td>\n",
       "      <td>447.56</td>\n",
       "      <td>458.0</td>\n",
       "      <td>1.023326</td>\n",
       "      <td>Green</td>\n",
       "      <td>51</td>\n",
       "      <td>0.58375</td>\n",
       "      <td>1.198328</td>\n",
       "    </tr>\n",
       "    <tr>\n",
       "      <th>262</th>\n",
       "      <td>2021</td>\n",
       "      <td>2021-52</td>\n",
       "      <td>458.0</td>\n",
       "      <td>463.41</td>\n",
       "      <td>1.011812</td>\n",
       "      <td>Green</td>\n",
       "      <td>52</td>\n",
       "      <td>0.29625</td>\n",
       "      <td>0.763861</td>\n",
       "    </tr>\n",
       "  </tbody>\n",
       "</table>\n",
       "</div>"
      ],
      "text/plain": [
       "     Year Year_Week Begin_Price Adj Close    Return    Label  Week_Number  \\\n",
       "0    2017   2017-01      225.04    202.38  0.899307  NoLabel            1   \n",
       "1    2017   2017-02      202.38    202.24  0.999308  NoLabel            2   \n",
       "261  2021   2021-51      447.56     458.0  1.023326    Green           51   \n",
       "262  2021   2021-52       458.0    463.41  1.011812    Green           52   \n",
       "\n",
       "     mean_return  volatility  \n",
       "0        0.21850    0.314887  \n",
       "1       -0.01360    0.275665  \n",
       "261      0.58375    1.198328  \n",
       "262      0.29625    0.763861  "
      ]
     },
     "execution_count": 35,
     "metadata": {},
     "output_type": "execute_result"
    }
   ],
   "source": [
    "stock_data = data_loading_processing('spy')[2]\n",
    "head_tail(stock_data)"
   ]
  },
  {
   "cell_type": "code",
   "execution_count": 36,
   "id": "816cd44d-7e8f-40ad-bbad-d85b5a9f3b38",
   "metadata": {},
   "outputs": [
    {
     "data": {
      "text/plain": [
       "0.9423076923076923"
      ]
     },
     "execution_count": 36,
     "metadata": {},
     "output_type": "execute_result"
    }
   ],
   "source": [
    "dt = DecisionTreeClassifier(criterion='entropy',random_state=0)\n",
    "train_X = stock_data[stock_data['Year'].isin([2020])][['Return','volatility']]\n",
    "train_y = stock_data[stock_data['Year'].isin([2020])]['Label']\n",
    "test_X = stock_data[stock_data['Year'].isin([2021])][['Return','volatility']]\n",
    "test_y = stock_data[stock_data['Year'].isin([2021])]['Label']\n",
    "dt.fit(stock_data[stock_data['Year'].isin([2020])][['Return','volatility']],\n",
    "       stock_data[stock_data['Year'].isin([2020])]['Label'])\n",
    "predictions = dt.predict(test_X)\n",
    "dt.score(test_X,test_y)"
   ]
  },
  {
   "cell_type": "code",
   "execution_count": 37,
   "id": "d8044d2f-ae88-4767-87ac-dde4ed690879",
   "metadata": {},
   "outputs": [
    {
     "data": {
      "image/png": "[encoded data removed]",
      "text/plain": [
       "<Figure size 640x480 with 2 Axes>"
      ]
     },
     "metadata": {},
     "output_type": "display_data"
    }
   ],
   "source": [
    "cm = confusion_matrix(test_y,predictions)\n",
    "disp = ConfusionMatrixDisplay(cm).plot()\n",
    "plt.show()"
   ]
  },
  {
   "cell_type": "code",
   "execution_count": 38,
   "id": "26f9f0e9-5ca4-4b25-88ef-d0db2b464f97",
   "metadata": {},
   "outputs": [
    {
     "data": {
      "text/plain": [
       "array([[30,  1],\n",
       "       [ 2, 19]])"
      ]
     },
     "execution_count": 38,
     "metadata": {},
     "output_type": "execute_result"
    }
   ],
   "source": [
    "cm"
   ]
  },
  {
   "cell_type": "code",
   "execution_count": 39,
   "id": "cc5bbc6c-cb0e-4ff0-bb09-507092cc80d8",
   "metadata": {},
   "outputs": [
    {
     "data": {
      "text/plain": [
       "(0.9, 0.97)"
      ]
     },
     "execution_count": 39,
     "metadata": {},
     "output_type": "execute_result"
    }
   ],
   "source": [
    "tpr(cm), tnr(cm)"
   ]
  },
  {
   "cell_type": "code",
   "execution_count": 40,
   "id": "136b8027-ef96-492a-a61c-e6595ca33225",
   "metadata": {},
   "outputs": [
    {
     "name": "stdout",
     "output_type": "stream",
     "text": [
      "For decision tree predictions for SPY in year 2 true positive rate, or sesnsitivity/recall, is the proportion of \"Green\" labels correctly identified and is 0.9 while true negative rate, or specificity is the proportion of \"Red\" labels  correctly identified and is 0.97\n"
     ]
    }
   ],
   "source": [
    "print(f'For decision tree predictions for {stock} in year 2 \\\n",
    "true positive rate, or sesnsitivity/recall, is the proportion of \"Green\" labels\\\n",
    " correctly identified and is {tpr(cm)}\\\n",
    " while true negative rate, or specificity is the proportion of \"Red\" labels \\\n",
    " correctly identified and is {tnr(cm)}\\\n",
    "')"
   ]
  },
  {
   "cell_type": "code",
   "execution_count": 41,
   "id": "6e385aad-020b-450d-a6d8-1b7fb3237876",
   "metadata": {},
   "outputs": [
    {
     "data": {
      "text/plain": [
       "array(['Green', 'Red', 'Green', 'Red', 'Green', 'Green', 'Red', 'Red',\n",
       "       'Green', 'Green', 'Red', 'Green', 'Green', 'Green', 'Green', 'Red',\n",
       "       'Red', 'Green', 'Red', 'Red', 'Green', 'Green', 'Green', 'Red',\n",
       "       'Green', 'Green', 'Green', 'Red', 'Green', 'Red', 'Green', 'Green',\n",
       "       'Red', 'Green', 'Green', 'Red', 'Red', 'Green', 'Red', 'Green',\n",
       "       'Green', 'Green', 'Green', 'Green', 'Red', 'Green', 'Red', 'Red',\n",
       "       'Green', 'Red', 'Green', 'Green'], dtype=object)"
      ]
     },
     "execution_count": 41,
     "metadata": {},
     "output_type": "execute_result"
    }
   ],
   "source": [
    "predictions"
   ]
  },
  {
   "cell_type": "code",
   "execution_count": 42,
   "id": "33031ac8-f60d-4aac-8cad-fb4b2c98eeb3",
   "metadata": {
    "scrolled": true
   },
   "outputs": [
    {
     "data": {
      "text/plain": [
       "164.84"
      ]
     },
     "execution_count": 42,
     "metadata": {},
     "output_type": "execute_result"
    }
   ],
   "source": [
    "trade_labels(stock_data,2021,np.where(predictions == 'Green',1,0))"
   ]
  },
  {
   "cell_type": "code",
   "execution_count": 43,
   "id": "114244ed-309d-46a0-a43c-8ca791b99a50",
   "metadata": {},
   "outputs": [
    {
     "data": {
      "text/plain": [
       "127.54"
      ]
     },
     "execution_count": 43,
     "metadata": {},
     "output_type": "execute_result"
    }
   ],
   "source": [
    "buy_and_hold(stock_data,2021)"
   ]
  },
  {
   "cell_type": "code",
   "execution_count": 44,
   "id": "157e1b2d-993f-404f-8de3-588daae87c88",
   "metadata": {},
   "outputs": [
    {
     "name": "stdout",
     "output_type": "stream",
     "text": [
      "For SPY, b&h yields 127.54 while trading based on decision tree labels yields 164.84\n"
     ]
    }
   ],
   "source": [
    "print(f'For {stock}, b&h yields {buy_and_hold(stock_data,2021)} \\\n",
    "while trading based on decision tree labels yields \\\n",
    "{trade_labels(stock_data,2021,np.where(predictions == \"Green\",1,0))}')"
   ]
  },
  {
   "cell_type": "markdown",
   "id": "44bb2dcc-e30a-433e-b58e-37a1f71e196a",
   "metadata": {},
   "source": [
    "###### Random Forest"
   ]
  },
  {
   "cell_type": "markdown",
   "id": "c74ea1da-184a-4fd5-a93b-2b5c5cc9aaf7",
   "metadata": {},
   "source": [
    "Idea: generate list of dictionaries that contain all possible combinations of parameters that can then be iterated over to get accuracies."
   ]
  },
  {
   "cell_type": "code",
   "execution_count": 45,
   "id": "2550db17-4fa0-4e56-84b1-e88d847b3912",
   "metadata": {},
   "outputs": [],
   "source": [
    "test_results = []\n",
    "for d in range(1,6):\n",
    "    for n in range(1,11):\n",
    "        rf = RandomForestClassifier(criterion = 'entropy', \n",
    "                                    n_estimators=n,\n",
    "                                    max_depth=d,random_state=1)\n",
    "        rf.fit(train_X,train_y)\n",
    "        test_results.append((d,n,accuracy_score(test_y,rf.predict(test_X))))\n",
    "        # rf.score(train_X,train_y)\n",
    "        "
   ]
  },
  {
   "cell_type": "code",
   "execution_count": 46,
   "id": "4af51054-2d8b-4ebf-ab58-cacfb1f26756",
   "metadata": {
    "scrolled": true
   },
   "outputs": [],
   "source": [
    "results_df = pd.DataFrame(test_results, columns = ['d','n','accuracy'])\n",
    "results_df['error'] = 1- results_df['accuracy']"
   ]
  },
  {
   "cell_type": "code",
   "execution_count": 47,
   "id": "5560eb0e-936a-4394-9b0e-1d7612545af4",
   "metadata": {
    "scrolled": true
   },
   "outputs": [
    {
     "data": {
      "text/html": [
       "<div>\n",
       "<style scoped>\n",
       "    .dataframe tbody tr th:only-of-type {\n",
       "        vertical-align: middle;\n",
       "    }\n",
       "\n",
       "    .dataframe tbody tr th {\n",
       "        vertical-align: top;\n",
       "    }\n",
       "\n",
       "    .dataframe thead th {\n",
       "        text-align: right;\n",
       "    }\n",
       "</style>\n",
       "<table border=\"1\" class=\"dataframe\">\n",
       "  <thead>\n",
       "    <tr style=\"text-align: right;\">\n",
       "      <th></th>\n",
       "      <th>d</th>\n",
       "      <th>n</th>\n",
       "      <th>accuracy</th>\n",
       "      <th>error</th>\n",
       "    </tr>\n",
       "  </thead>\n",
       "  <tbody>\n",
       "    <tr>\n",
       "      <th>0</th>\n",
       "      <td>1</td>\n",
       "      <td>1</td>\n",
       "      <td>0.692308</td>\n",
       "      <td>0.307692</td>\n",
       "    </tr>\n",
       "    <tr>\n",
       "      <th>1</th>\n",
       "      <td>1</td>\n",
       "      <td>2</td>\n",
       "      <td>0.942308</td>\n",
       "      <td>0.057692</td>\n",
       "    </tr>\n",
       "    <tr>\n",
       "      <th>2</th>\n",
       "      <td>1</td>\n",
       "      <td>3</td>\n",
       "      <td>0.750000</td>\n",
       "      <td>0.250000</td>\n",
       "    </tr>\n",
       "    <tr>\n",
       "      <th>3</th>\n",
       "      <td>1</td>\n",
       "      <td>4</td>\n",
       "      <td>0.942308</td>\n",
       "      <td>0.057692</td>\n",
       "    </tr>\n",
       "    <tr>\n",
       "      <th>4</th>\n",
       "      <td>1</td>\n",
       "      <td>5</td>\n",
       "      <td>0.942308</td>\n",
       "      <td>0.057692</td>\n",
       "    </tr>\n",
       "    <tr>\n",
       "      <th>5</th>\n",
       "      <td>1</td>\n",
       "      <td>6</td>\n",
       "      <td>0.942308</td>\n",
       "      <td>0.057692</td>\n",
       "    </tr>\n",
       "    <tr>\n",
       "      <th>6</th>\n",
       "      <td>1</td>\n",
       "      <td>7</td>\n",
       "      <td>0.942308</td>\n",
       "      <td>0.057692</td>\n",
       "    </tr>\n",
       "    <tr>\n",
       "      <th>7</th>\n",
       "      <td>1</td>\n",
       "      <td>8</td>\n",
       "      <td>0.942308</td>\n",
       "      <td>0.057692</td>\n",
       "    </tr>\n",
       "    <tr>\n",
       "      <th>8</th>\n",
       "      <td>1</td>\n",
       "      <td>9</td>\n",
       "      <td>0.942308</td>\n",
       "      <td>0.057692</td>\n",
       "    </tr>\n",
       "    <tr>\n",
       "      <th>9</th>\n",
       "      <td>1</td>\n",
       "      <td>10</td>\n",
       "      <td>0.942308</td>\n",
       "      <td>0.057692</td>\n",
       "    </tr>\n",
       "    <tr>\n",
       "      <th>10</th>\n",
       "      <td>2</td>\n",
       "      <td>1</td>\n",
       "      <td>0.634615</td>\n",
       "      <td>0.365385</td>\n",
       "    </tr>\n",
       "    <tr>\n",
       "      <th>11</th>\n",
       "      <td>2</td>\n",
       "      <td>2</td>\n",
       "      <td>0.942308</td>\n",
       "      <td>0.057692</td>\n",
       "    </tr>\n",
       "    <tr>\n",
       "      <th>12</th>\n",
       "      <td>2</td>\n",
       "      <td>3</td>\n",
       "      <td>0.846154</td>\n",
       "      <td>0.153846</td>\n",
       "    </tr>\n",
       "    <tr>\n",
       "      <th>13</th>\n",
       "      <td>2</td>\n",
       "      <td>4</td>\n",
       "      <td>0.942308</td>\n",
       "      <td>0.057692</td>\n",
       "    </tr>\n",
       "    <tr>\n",
       "      <th>14</th>\n",
       "      <td>2</td>\n",
       "      <td>5</td>\n",
       "      <td>0.942308</td>\n",
       "      <td>0.057692</td>\n",
       "    </tr>\n",
       "    <tr>\n",
       "      <th>15</th>\n",
       "      <td>2</td>\n",
       "      <td>6</td>\n",
       "      <td>0.942308</td>\n",
       "      <td>0.057692</td>\n",
       "    </tr>\n",
       "    <tr>\n",
       "      <th>16</th>\n",
       "      <td>2</td>\n",
       "      <td>7</td>\n",
       "      <td>0.942308</td>\n",
       "      <td>0.057692</td>\n",
       "    </tr>\n",
       "    <tr>\n",
       "      <th>17</th>\n",
       "      <td>2</td>\n",
       "      <td>8</td>\n",
       "      <td>0.942308</td>\n",
       "      <td>0.057692</td>\n",
       "    </tr>\n",
       "    <tr>\n",
       "      <th>18</th>\n",
       "      <td>2</td>\n",
       "      <td>9</td>\n",
       "      <td>0.942308</td>\n",
       "      <td>0.057692</td>\n",
       "    </tr>\n",
       "    <tr>\n",
       "      <th>19</th>\n",
       "      <td>2</td>\n",
       "      <td>10</td>\n",
       "      <td>0.942308</td>\n",
       "      <td>0.057692</td>\n",
       "    </tr>\n",
       "    <tr>\n",
       "      <th>20</th>\n",
       "      <td>3</td>\n",
       "      <td>1</td>\n",
       "      <td>0.903846</td>\n",
       "      <td>0.096154</td>\n",
       "    </tr>\n",
       "    <tr>\n",
       "      <th>21</th>\n",
       "      <td>3</td>\n",
       "      <td>2</td>\n",
       "      <td>0.942308</td>\n",
       "      <td>0.057692</td>\n",
       "    </tr>\n",
       "    <tr>\n",
       "      <th>22</th>\n",
       "      <td>3</td>\n",
       "      <td>3</td>\n",
       "      <td>0.903846</td>\n",
       "      <td>0.096154</td>\n",
       "    </tr>\n",
       "    <tr>\n",
       "      <th>23</th>\n",
       "      <td>3</td>\n",
       "      <td>4</td>\n",
       "      <td>0.942308</td>\n",
       "      <td>0.057692</td>\n",
       "    </tr>\n",
       "    <tr>\n",
       "      <th>24</th>\n",
       "      <td>3</td>\n",
       "      <td>5</td>\n",
       "      <td>0.942308</td>\n",
       "      <td>0.057692</td>\n",
       "    </tr>\n",
       "    <tr>\n",
       "      <th>25</th>\n",
       "      <td>3</td>\n",
       "      <td>6</td>\n",
       "      <td>0.942308</td>\n",
       "      <td>0.057692</td>\n",
       "    </tr>\n",
       "    <tr>\n",
       "      <th>26</th>\n",
       "      <td>3</td>\n",
       "      <td>7</td>\n",
       "      <td>0.942308</td>\n",
       "      <td>0.057692</td>\n",
       "    </tr>\n",
       "    <tr>\n",
       "      <th>27</th>\n",
       "      <td>3</td>\n",
       "      <td>8</td>\n",
       "      <td>0.942308</td>\n",
       "      <td>0.057692</td>\n",
       "    </tr>\n",
       "    <tr>\n",
       "      <th>28</th>\n",
       "      <td>3</td>\n",
       "      <td>9</td>\n",
       "      <td>0.942308</td>\n",
       "      <td>0.057692</td>\n",
       "    </tr>\n",
       "    <tr>\n",
       "      <th>29</th>\n",
       "      <td>3</td>\n",
       "      <td>10</td>\n",
       "      <td>0.942308</td>\n",
       "      <td>0.057692</td>\n",
       "    </tr>\n",
       "    <tr>\n",
       "      <th>30</th>\n",
       "      <td>4</td>\n",
       "      <td>1</td>\n",
       "      <td>0.942308</td>\n",
       "      <td>0.057692</td>\n",
       "    </tr>\n",
       "    <tr>\n",
       "      <th>31</th>\n",
       "      <td>4</td>\n",
       "      <td>2</td>\n",
       "      <td>0.942308</td>\n",
       "      <td>0.057692</td>\n",
       "    </tr>\n",
       "    <tr>\n",
       "      <th>32</th>\n",
       "      <td>4</td>\n",
       "      <td>3</td>\n",
       "      <td>0.961538</td>\n",
       "      <td>0.038462</td>\n",
       "    </tr>\n",
       "    <tr>\n",
       "      <th>33</th>\n",
       "      <td>4</td>\n",
       "      <td>4</td>\n",
       "      <td>0.942308</td>\n",
       "      <td>0.057692</td>\n",
       "    </tr>\n",
       "    <tr>\n",
       "      <th>34</th>\n",
       "      <td>4</td>\n",
       "      <td>5</td>\n",
       "      <td>0.942308</td>\n",
       "      <td>0.057692</td>\n",
       "    </tr>\n",
       "    <tr>\n",
       "      <th>35</th>\n",
       "      <td>4</td>\n",
       "      <td>6</td>\n",
       "      <td>0.942308</td>\n",
       "      <td>0.057692</td>\n",
       "    </tr>\n",
       "    <tr>\n",
       "      <th>36</th>\n",
       "      <td>4</td>\n",
       "      <td>7</td>\n",
       "      <td>0.942308</td>\n",
       "      <td>0.057692</td>\n",
       "    </tr>\n",
       "    <tr>\n",
       "      <th>37</th>\n",
       "      <td>4</td>\n",
       "      <td>8</td>\n",
       "      <td>0.942308</td>\n",
       "      <td>0.057692</td>\n",
       "    </tr>\n",
       "    <tr>\n",
       "      <th>38</th>\n",
       "      <td>4</td>\n",
       "      <td>9</td>\n",
       "      <td>0.942308</td>\n",
       "      <td>0.057692</td>\n",
       "    </tr>\n",
       "    <tr>\n",
       "      <th>39</th>\n",
       "      <td>4</td>\n",
       "      <td>10</td>\n",
       "      <td>0.942308</td>\n",
       "      <td>0.057692</td>\n",
       "    </tr>\n",
       "    <tr>\n",
       "      <th>40</th>\n",
       "      <td>5</td>\n",
       "      <td>1</td>\n",
       "      <td>0.942308</td>\n",
       "      <td>0.057692</td>\n",
       "    </tr>\n",
       "    <tr>\n",
       "      <th>41</th>\n",
       "      <td>5</td>\n",
       "      <td>2</td>\n",
       "      <td>0.942308</td>\n",
       "      <td>0.057692</td>\n",
       "    </tr>\n",
       "    <tr>\n",
       "      <th>42</th>\n",
       "      <td>5</td>\n",
       "      <td>3</td>\n",
       "      <td>0.942308</td>\n",
       "      <td>0.057692</td>\n",
       "    </tr>\n",
       "    <tr>\n",
       "      <th>43</th>\n",
       "      <td>5</td>\n",
       "      <td>4</td>\n",
       "      <td>0.942308</td>\n",
       "      <td>0.057692</td>\n",
       "    </tr>\n",
       "    <tr>\n",
       "      <th>44</th>\n",
       "      <td>5</td>\n",
       "      <td>5</td>\n",
       "      <td>0.942308</td>\n",
       "      <td>0.057692</td>\n",
       "    </tr>\n",
       "    <tr>\n",
       "      <th>45</th>\n",
       "      <td>5</td>\n",
       "      <td>6</td>\n",
       "      <td>0.942308</td>\n",
       "      <td>0.057692</td>\n",
       "    </tr>\n",
       "    <tr>\n",
       "      <th>46</th>\n",
       "      <td>5</td>\n",
       "      <td>7</td>\n",
       "      <td>0.942308</td>\n",
       "      <td>0.057692</td>\n",
       "    </tr>\n",
       "    <tr>\n",
       "      <th>47</th>\n",
       "      <td>5</td>\n",
       "      <td>8</td>\n",
       "      <td>0.942308</td>\n",
       "      <td>0.057692</td>\n",
       "    </tr>\n",
       "    <tr>\n",
       "      <th>48</th>\n",
       "      <td>5</td>\n",
       "      <td>9</td>\n",
       "      <td>0.942308</td>\n",
       "      <td>0.057692</td>\n",
       "    </tr>\n",
       "    <tr>\n",
       "      <th>49</th>\n",
       "      <td>5</td>\n",
       "      <td>10</td>\n",
       "      <td>0.942308</td>\n",
       "      <td>0.057692</td>\n",
       "    </tr>\n",
       "  </tbody>\n",
       "</table>\n",
       "</div>"
      ],
      "text/plain": [
       "    d   n  accuracy     error\n",
       "0   1   1  0.692308  0.307692\n",
       "1   1   2  0.942308  0.057692\n",
       "2   1   3  0.750000  0.250000\n",
       "3   1   4  0.942308  0.057692\n",
       "4   1   5  0.942308  0.057692\n",
       "5   1   6  0.942308  0.057692\n",
       "6   1   7  0.942308  0.057692\n",
       "7   1   8  0.942308  0.057692\n",
       "8   1   9  0.942308  0.057692\n",
       "9   1  10  0.942308  0.057692\n",
       "10  2   1  0.634615  0.365385\n",
       "11  2   2  0.942308  0.057692\n",
       "12  2   3  0.846154  0.153846\n",
       "13  2   4  0.942308  0.057692\n",
       "14  2   5  0.942308  0.057692\n",
       "15  2   6  0.942308  0.057692\n",
       "16  2   7  0.942308  0.057692\n",
       "17  2   8  0.942308  0.057692\n",
       "18  2   9  0.942308  0.057692\n",
       "19  2  10  0.942308  0.057692\n",
       "20  3   1  0.903846  0.096154\n",
       "21  3   2  0.942308  0.057692\n",
       "22  3   3  0.903846  0.096154\n",
       "23  3   4  0.942308  0.057692\n",
       "24  3   5  0.942308  0.057692\n",
       "25  3   6  0.942308  0.057692\n",
       "26  3   7  0.942308  0.057692\n",
       "27  3   8  0.942308  0.057692\n",
       "28  3   9  0.942308  0.057692\n",
       "29  3  10  0.942308  0.057692\n",
       "30  4   1  0.942308  0.057692\n",
       "31  4   2  0.942308  0.057692\n",
       "32  4   3  0.961538  0.038462\n",
       "33  4   4  0.942308  0.057692\n",
       "34  4   5  0.942308  0.057692\n",
       "35  4   6  0.942308  0.057692\n",
       "36  4   7  0.942308  0.057692\n",
       "37  4   8  0.942308  0.057692\n",
       "38  4   9  0.942308  0.057692\n",
       "39  4  10  0.942308  0.057692\n",
       "40  5   1  0.942308  0.057692\n",
       "41  5   2  0.942308  0.057692\n",
       "42  5   3  0.942308  0.057692\n",
       "43  5   4  0.942308  0.057692\n",
       "44  5   5  0.942308  0.057692\n",
       "45  5   6  0.942308  0.057692\n",
       "46  5   7  0.942308  0.057692\n",
       "47  5   8  0.942308  0.057692\n",
       "48  5   9  0.942308  0.057692\n",
       "49  5  10  0.942308  0.057692"
      ]
     },
     "execution_count": 47,
     "metadata": {},
     "output_type": "execute_result"
    }
   ],
   "source": [
    "results_df"
   ]
  },
  {
   "cell_type": "code",
   "execution_count": 48,
   "id": "cdf8477c-450a-4f0c-bc3e-ce3c9939b1c7",
   "metadata": {},
   "outputs": [
    {
     "data": {
      "text/plain": [
       "[Text(0.5, 1.0, 'SPY RF Error')]"
      ]
     },
     "execution_count": 48,
     "metadata": {},
     "output_type": "execute_result"
    },
    {
     "data": {
      "image/png": "[encoded data removed]",
      "text/plain": [
       "<Figure size 640x480 with 1 Axes>"
      ]
     },
     "metadata": {},
     "output_type": "display_data"
    }
   ],
   "source": [
    "sns.lineplot(results_df, x = 'n', \n",
    "             y = 'error', hue='d').set(title = f'{stock.upper()} RF Error')"
   ]
  },
  {
   "cell_type": "code",
   "execution_count": 49,
   "id": "f6c11f0a-4378-4068-8ef6-b0bbd2e633df",
   "metadata": {
    "scrolled": true
   },
   "outputs": [
    {
     "data": {
      "text/html": [
       "<div>\n",
       "<style scoped>\n",
       "    .dataframe tbody tr th:only-of-type {\n",
       "        vertical-align: middle;\n",
       "    }\n",
       "\n",
       "    .dataframe tbody tr th {\n",
       "        vertical-align: top;\n",
       "    }\n",
       "\n",
       "    .dataframe thead th {\n",
       "        text-align: right;\n",
       "    }\n",
       "</style>\n",
       "<table border=\"1\" class=\"dataframe\">\n",
       "  <thead>\n",
       "    <tr style=\"text-align: right;\">\n",
       "      <th></th>\n",
       "      <th>d</th>\n",
       "      <th>n</th>\n",
       "      <th>accuracy</th>\n",
       "      <th>error</th>\n",
       "    </tr>\n",
       "  </thead>\n",
       "  <tbody>\n",
       "    <tr>\n",
       "      <th>32</th>\n",
       "      <td>4</td>\n",
       "      <td>3</td>\n",
       "      <td>0.961538</td>\n",
       "      <td>0.038462</td>\n",
       "    </tr>\n",
       "  </tbody>\n",
       "</table>\n",
       "</div>"
      ],
      "text/plain": [
       "    d  n  accuracy     error\n",
       "32  4  3  0.961538  0.038462"
      ]
     },
     "execution_count": 49,
     "metadata": {},
     "output_type": "execute_result"
    }
   ],
   "source": [
    "results_df[results_df.accuracy == \n",
    "results_df.loc[results_df['accuracy'].idxmax(),'accuracy']]"
   ]
  },
  {
   "cell_type": "markdown",
   "id": "3edbfc3d-c3a7-44cc-9183-93bc8003c394",
   "metadata": {},
   "source": [
    "With depth of 4 and n_trees of 3 there is 96.15% accuracy."
   ]
  },
  {
   "cell_type": "code",
   "execution_count": 50,
   "id": "564c2648-f4fe-4853-85ae-e605fccd98e1",
   "metadata": {},
   "outputs": [],
   "source": [
    "rf = RandomForestClassifier(n_estimators=3, max_depth=4,criterion = 'entropy',\n",
    "                            random_state=1)"
   ]
  },
  {
   "cell_type": "code",
   "execution_count": 51,
   "id": "2b2958e3-af17-4afb-a5c8-5294e01008fc",
   "metadata": {},
   "outputs": [
    {
     "name": "stdout",
     "output_type": "stream",
     "text": [
      "tpr: 0.95, tnr: 0.97\n"
     ]
    }
   ],
   "source": [
    "rf.fit(train_X,train_y)\n",
    "preds = rf.predict(test_X)\n",
    "cm = confusion_matrix(test_y,preds)\n",
    "print(f'tpr: {tpr(cm)}, tnr: {tnr(cm)}')"
   ]
  },
  {
   "cell_type": "code",
   "execution_count": 52,
   "id": "51448f44-55f9-4b7e-aba6-474b85c44155",
   "metadata": {},
   "outputs": [
    {
     "data": {
      "text/plain": [
       "array([[30,  1],\n",
       "       [ 1, 20]])"
      ]
     },
     "execution_count": 52,
     "metadata": {},
     "output_type": "execute_result"
    }
   ],
   "source": [
    "cm"
   ]
  },
  {
   "cell_type": "code",
   "execution_count": 53,
   "id": "03c3a01d-05b0-4602-b49e-d81529b76828",
   "metadata": {},
   "outputs": [
    {
     "data": {
      "text/plain": [
       "163.44"
      ]
     },
     "execution_count": 53,
     "metadata": {},
     "output_type": "execute_result"
    }
   ],
   "source": [
    "trade_labels(stock_data,2021,np.where(preds == \"Green\",1,0))"
   ]
  },
  {
   "cell_type": "code",
   "execution_count": 54,
   "id": "4c078f2c-a6ad-48e5-8e68-98c758175d50",
   "metadata": {},
   "outputs": [
    {
     "data": {
      "text/plain": [
       "127.54"
      ]
     },
     "execution_count": 54,
     "metadata": {},
     "output_type": "execute_result"
    }
   ],
   "source": [
    "buy_and_hold(stock_data,2021)"
   ]
  },
  {
   "cell_type": "markdown",
   "id": "de7a26cb-7a1b-4ad5-a95b-25077808363d",
   "metadata": {},
   "source": [
    "###### Adaboost"
   ]
  },
  {
   "cell_type": "code",
   "execution_count": 80,
   "id": "44ccd361-9c11-44c3-9eb9-4e5d783e23a4",
   "metadata": {},
   "outputs": [],
   "source": [
    "test_results = []\n",
    "gnb = GaussianNB()\n",
    "lr = LogisticRegression()\n",
    "dt = DecisionTreeClassifier()\n",
    "estimators = [gnb,lr,dt]\n",
    "for l in [.5,1]:\n",
    "    for e in estimators:\n",
    "        for n in range(1,16):\n",
    "            ab = AdaBoostClassifier(estimator = e,learning_rate=l,\n",
    "                                    n_estimators=n, random_state=1)\n",
    "            \n",
    "            ab.fit(train_X,train_y)\n",
    "            test_results.append((l,\n",
    "                str(type(e)).split('.')[-1][:-2],\n",
    "                n,accuracy_score(test_y,ab.predict(test_X))))\n",
    "test_results = pd.DataFrame(test_results,columns=['Lambda',\"Estimator\",'N_Estimators','Accuracy'])"
   ]
  },
  {
   "cell_type": "code",
   "execution_count": 83,
   "id": "a9a49587-63fa-45f1-9d04-6fa49af1c381",
   "metadata": {},
   "outputs": [],
   "source": [
    "test_results['Error'] = 1- test_results['Accuracy']"
   ]
  },
  {
   "cell_type": "code",
   "execution_count": 84,
   "id": "736704be-2fc7-4990-a0a7-cdc75d907b75",
   "metadata": {
    "scrolled": true
   },
   "outputs": [
    {
     "data": {
      "text/html": [
       "<div>\n",
       "<style scoped>\n",
       "    .dataframe tbody tr th:only-of-type {\n",
       "        vertical-align: middle;\n",
       "    }\n",
       "\n",
       "    .dataframe tbody tr th {\n",
       "        vertical-align: top;\n",
       "    }\n",
       "\n",
       "    .dataframe thead th {\n",
       "        text-align: right;\n",
       "    }\n",
       "</style>\n",
       "<table border=\"1\" class=\"dataframe\">\n",
       "  <thead>\n",
       "    <tr style=\"text-align: right;\">\n",
       "      <th></th>\n",
       "      <th>Lambda</th>\n",
       "      <th>Estimator</th>\n",
       "      <th>N_Estimators</th>\n",
       "      <th>Accuracy</th>\n",
       "      <th>Error</th>\n",
       "    </tr>\n",
       "  </thead>\n",
       "  <tbody>\n",
       "    <tr>\n",
       "      <th>15</th>\n",
       "      <td>0.5</td>\n",
       "      <td>LogisticRegression</td>\n",
       "      <td>1</td>\n",
       "      <td>0.596154</td>\n",
       "      <td>0.403846</td>\n",
       "    </tr>\n",
       "    <tr>\n",
       "      <th>16</th>\n",
       "      <td>0.5</td>\n",
       "      <td>LogisticRegression</td>\n",
       "      <td>2</td>\n",
       "      <td>0.596154</td>\n",
       "      <td>0.403846</td>\n",
       "    </tr>\n",
       "    <tr>\n",
       "      <th>17</th>\n",
       "      <td>0.5</td>\n",
       "      <td>LogisticRegression</td>\n",
       "      <td>3</td>\n",
       "      <td>0.596154</td>\n",
       "      <td>0.403846</td>\n",
       "    </tr>\n",
       "    <tr>\n",
       "      <th>18</th>\n",
       "      <td>0.5</td>\n",
       "      <td>LogisticRegression</td>\n",
       "      <td>4</td>\n",
       "      <td>0.596154</td>\n",
       "      <td>0.403846</td>\n",
       "    </tr>\n",
       "    <tr>\n",
       "      <th>19</th>\n",
       "      <td>0.5</td>\n",
       "      <td>LogisticRegression</td>\n",
       "      <td>5</td>\n",
       "      <td>0.596154</td>\n",
       "      <td>0.403846</td>\n",
       "    </tr>\n",
       "    <tr>\n",
       "      <th>20</th>\n",
       "      <td>0.5</td>\n",
       "      <td>LogisticRegression</td>\n",
       "      <td>6</td>\n",
       "      <td>0.596154</td>\n",
       "      <td>0.403846</td>\n",
       "    </tr>\n",
       "    <tr>\n",
       "      <th>21</th>\n",
       "      <td>0.5</td>\n",
       "      <td>LogisticRegression</td>\n",
       "      <td>7</td>\n",
       "      <td>0.596154</td>\n",
       "      <td>0.403846</td>\n",
       "    </tr>\n",
       "    <tr>\n",
       "      <th>22</th>\n",
       "      <td>0.5</td>\n",
       "      <td>LogisticRegression</td>\n",
       "      <td>8</td>\n",
       "      <td>0.596154</td>\n",
       "      <td>0.403846</td>\n",
       "    </tr>\n",
       "    <tr>\n",
       "      <th>23</th>\n",
       "      <td>0.5</td>\n",
       "      <td>LogisticRegression</td>\n",
       "      <td>9</td>\n",
       "      <td>0.596154</td>\n",
       "      <td>0.403846</td>\n",
       "    </tr>\n",
       "    <tr>\n",
       "      <th>24</th>\n",
       "      <td>0.5</td>\n",
       "      <td>LogisticRegression</td>\n",
       "      <td>10</td>\n",
       "      <td>0.596154</td>\n",
       "      <td>0.403846</td>\n",
       "    </tr>\n",
       "    <tr>\n",
       "      <th>25</th>\n",
       "      <td>0.5</td>\n",
       "      <td>LogisticRegression</td>\n",
       "      <td>11</td>\n",
       "      <td>0.596154</td>\n",
       "      <td>0.403846</td>\n",
       "    </tr>\n",
       "    <tr>\n",
       "      <th>26</th>\n",
       "      <td>0.5</td>\n",
       "      <td>LogisticRegression</td>\n",
       "      <td>12</td>\n",
       "      <td>0.596154</td>\n",
       "      <td>0.403846</td>\n",
       "    </tr>\n",
       "    <tr>\n",
       "      <th>27</th>\n",
       "      <td>0.5</td>\n",
       "      <td>LogisticRegression</td>\n",
       "      <td>13</td>\n",
       "      <td>0.596154</td>\n",
       "      <td>0.403846</td>\n",
       "    </tr>\n",
       "    <tr>\n",
       "      <th>28</th>\n",
       "      <td>0.5</td>\n",
       "      <td>LogisticRegression</td>\n",
       "      <td>14</td>\n",
       "      <td>0.596154</td>\n",
       "      <td>0.403846</td>\n",
       "    </tr>\n",
       "    <tr>\n",
       "      <th>29</th>\n",
       "      <td>0.5</td>\n",
       "      <td>LogisticRegression</td>\n",
       "      <td>15</td>\n",
       "      <td>0.596154</td>\n",
       "      <td>0.403846</td>\n",
       "    </tr>\n",
       "    <tr>\n",
       "      <th>60</th>\n",
       "      <td>1.0</td>\n",
       "      <td>LogisticRegression</td>\n",
       "      <td>1</td>\n",
       "      <td>0.596154</td>\n",
       "      <td>0.403846</td>\n",
       "    </tr>\n",
       "    <tr>\n",
       "      <th>61</th>\n",
       "      <td>1.0</td>\n",
       "      <td>LogisticRegression</td>\n",
       "      <td>2</td>\n",
       "      <td>0.596154</td>\n",
       "      <td>0.403846</td>\n",
       "    </tr>\n",
       "    <tr>\n",
       "      <th>62</th>\n",
       "      <td>1.0</td>\n",
       "      <td>LogisticRegression</td>\n",
       "      <td>3</td>\n",
       "      <td>0.596154</td>\n",
       "      <td>0.403846</td>\n",
       "    </tr>\n",
       "    <tr>\n",
       "      <th>63</th>\n",
       "      <td>1.0</td>\n",
       "      <td>LogisticRegression</td>\n",
       "      <td>4</td>\n",
       "      <td>0.596154</td>\n",
       "      <td>0.403846</td>\n",
       "    </tr>\n",
       "    <tr>\n",
       "      <th>64</th>\n",
       "      <td>1.0</td>\n",
       "      <td>LogisticRegression</td>\n",
       "      <td>5</td>\n",
       "      <td>0.596154</td>\n",
       "      <td>0.403846</td>\n",
       "    </tr>\n",
       "    <tr>\n",
       "      <th>65</th>\n",
       "      <td>1.0</td>\n",
       "      <td>LogisticRegression</td>\n",
       "      <td>6</td>\n",
       "      <td>0.596154</td>\n",
       "      <td>0.403846</td>\n",
       "    </tr>\n",
       "    <tr>\n",
       "      <th>66</th>\n",
       "      <td>1.0</td>\n",
       "      <td>LogisticRegression</td>\n",
       "      <td>7</td>\n",
       "      <td>0.596154</td>\n",
       "      <td>0.403846</td>\n",
       "    </tr>\n",
       "    <tr>\n",
       "      <th>67</th>\n",
       "      <td>1.0</td>\n",
       "      <td>LogisticRegression</td>\n",
       "      <td>8</td>\n",
       "      <td>0.596154</td>\n",
       "      <td>0.403846</td>\n",
       "    </tr>\n",
       "    <tr>\n",
       "      <th>68</th>\n",
       "      <td>1.0</td>\n",
       "      <td>LogisticRegression</td>\n",
       "      <td>9</td>\n",
       "      <td>0.596154</td>\n",
       "      <td>0.403846</td>\n",
       "    </tr>\n",
       "    <tr>\n",
       "      <th>69</th>\n",
       "      <td>1.0</td>\n",
       "      <td>LogisticRegression</td>\n",
       "      <td>10</td>\n",
       "      <td>0.596154</td>\n",
       "      <td>0.403846</td>\n",
       "    </tr>\n",
       "    <tr>\n",
       "      <th>70</th>\n",
       "      <td>1.0</td>\n",
       "      <td>LogisticRegression</td>\n",
       "      <td>11</td>\n",
       "      <td>0.596154</td>\n",
       "      <td>0.403846</td>\n",
       "    </tr>\n",
       "    <tr>\n",
       "      <th>71</th>\n",
       "      <td>1.0</td>\n",
       "      <td>LogisticRegression</td>\n",
       "      <td>12</td>\n",
       "      <td>0.596154</td>\n",
       "      <td>0.403846</td>\n",
       "    </tr>\n",
       "    <tr>\n",
       "      <th>72</th>\n",
       "      <td>1.0</td>\n",
       "      <td>LogisticRegression</td>\n",
       "      <td>13</td>\n",
       "      <td>0.596154</td>\n",
       "      <td>0.403846</td>\n",
       "    </tr>\n",
       "    <tr>\n",
       "      <th>73</th>\n",
       "      <td>1.0</td>\n",
       "      <td>LogisticRegression</td>\n",
       "      <td>14</td>\n",
       "      <td>0.596154</td>\n",
       "      <td>0.403846</td>\n",
       "    </tr>\n",
       "    <tr>\n",
       "      <th>74</th>\n",
       "      <td>1.0</td>\n",
       "      <td>LogisticRegression</td>\n",
       "      <td>15</td>\n",
       "      <td>0.596154</td>\n",
       "      <td>0.403846</td>\n",
       "    </tr>\n",
       "  </tbody>\n",
       "</table>\n",
       "</div>"
      ],
      "text/plain": [
       "    Lambda           Estimator  N_Estimators  Accuracy     Error\n",
       "15     0.5  LogisticRegression             1  0.596154  0.403846\n",
       "16     0.5  LogisticRegression             2  0.596154  0.403846\n",
       "17     0.5  LogisticRegression             3  0.596154  0.403846\n",
       "18     0.5  LogisticRegression             4  0.596154  0.403846\n",
       "19     0.5  LogisticRegression             5  0.596154  0.403846\n",
       "20     0.5  LogisticRegression             6  0.596154  0.403846\n",
       "21     0.5  LogisticRegression             7  0.596154  0.403846\n",
       "22     0.5  LogisticRegression             8  0.596154  0.403846\n",
       "23     0.5  LogisticRegression             9  0.596154  0.403846\n",
       "24     0.5  LogisticRegression            10  0.596154  0.403846\n",
       "25     0.5  LogisticRegression            11  0.596154  0.403846\n",
       "26     0.5  LogisticRegression            12  0.596154  0.403846\n",
       "27     0.5  LogisticRegression            13  0.596154  0.403846\n",
       "28     0.5  LogisticRegression            14  0.596154  0.403846\n",
       "29     0.5  LogisticRegression            15  0.596154  0.403846\n",
       "60     1.0  LogisticRegression             1  0.596154  0.403846\n",
       "61     1.0  LogisticRegression             2  0.596154  0.403846\n",
       "62     1.0  LogisticRegression             3  0.596154  0.403846\n",
       "63     1.0  LogisticRegression             4  0.596154  0.403846\n",
       "64     1.0  LogisticRegression             5  0.596154  0.403846\n",
       "65     1.0  LogisticRegression             6  0.596154  0.403846\n",
       "66     1.0  LogisticRegression             7  0.596154  0.403846\n",
       "67     1.0  LogisticRegression             8  0.596154  0.403846\n",
       "68     1.0  LogisticRegression             9  0.596154  0.403846\n",
       "69     1.0  LogisticRegression            10  0.596154  0.403846\n",
       "70     1.0  LogisticRegression            11  0.596154  0.403846\n",
       "71     1.0  LogisticRegression            12  0.596154  0.403846\n",
       "72     1.0  LogisticRegression            13  0.596154  0.403846\n",
       "73     1.0  LogisticRegression            14  0.596154  0.403846\n",
       "74     1.0  LogisticRegression            15  0.596154  0.403846"
      ]
     },
     "execution_count": 84,
     "metadata": {},
     "output_type": "execute_result"
    }
   ],
   "source": [
    "test_results[test_results.Estimator=='LogisticRegression']"
   ]
  },
  {
   "cell_type": "code",
   "execution_count": 85,
   "id": "8ad13ee0-8ba8-4be3-b05f-7fa729555253",
   "metadata": {
    "scrolled": true
   },
   "outputs": [
    {
     "data": {
      "text/html": [
       "<div>\n",
       "<style scoped>\n",
       "    .dataframe tbody tr th:only-of-type {\n",
       "        vertical-align: middle;\n",
       "    }\n",
       "\n",
       "    .dataframe tbody tr th {\n",
       "        vertical-align: top;\n",
       "    }\n",
       "\n",
       "    .dataframe thead th {\n",
       "        text-align: right;\n",
       "    }\n",
       "</style>\n",
       "<table border=\"1\" class=\"dataframe\">\n",
       "  <thead>\n",
       "    <tr style=\"text-align: right;\">\n",
       "      <th></th>\n",
       "      <th>Lambda</th>\n",
       "      <th>Estimator</th>\n",
       "      <th>N_Estimators</th>\n",
       "      <th>Accuracy</th>\n",
       "      <th>Error</th>\n",
       "    </tr>\n",
       "  </thead>\n",
       "  <tbody>\n",
       "    <tr>\n",
       "      <th>30</th>\n",
       "      <td>0.5</td>\n",
       "      <td>DecisionTreeClassifier</td>\n",
       "      <td>1</td>\n",
       "      <td>0.942308</td>\n",
       "      <td>0.057692</td>\n",
       "    </tr>\n",
       "    <tr>\n",
       "      <th>4</th>\n",
       "      <td>0.5</td>\n",
       "      <td>GaussianNB</td>\n",
       "      <td>5</td>\n",
       "      <td>0.961538</td>\n",
       "      <td>0.038462</td>\n",
       "    </tr>\n",
       "    <tr>\n",
       "      <th>15</th>\n",
       "      <td>0.5</td>\n",
       "      <td>LogisticRegression</td>\n",
       "      <td>1</td>\n",
       "      <td>0.596154</td>\n",
       "      <td>0.403846</td>\n",
       "    </tr>\n",
       "  </tbody>\n",
       "</table>\n",
       "</div>"
      ],
      "text/plain": [
       "    Lambda               Estimator  N_Estimators  Accuracy     Error\n",
       "30     0.5  DecisionTreeClassifier             1  0.942308  0.057692\n",
       "4      0.5              GaussianNB             5  0.961538  0.038462\n",
       "15     0.5      LogisticRegression             1  0.596154  0.403846"
      ]
     },
     "execution_count": 85,
     "metadata": {},
     "output_type": "execute_result"
    }
   ],
   "source": [
    "lambda_pt_5 = test_results[test_results.Lambda==.5].loc[\n",
    "test_results[test_results.Lambda==.5].groupby('Estimator')[\n",
    "'Accuracy'].agg('idxmax').values,:\n",
    "]\n",
    "lambda_pt_5"
   ]
  },
  {
   "cell_type": "code",
   "execution_count": 86,
   "id": "63145e10-1cfa-4abb-a1a7-d1d330060392",
   "metadata": {
    "scrolled": true
   },
   "outputs": [
    {
     "data": {
      "text/html": [
       "<div>\n",
       "<style scoped>\n",
       "    .dataframe tbody tr th:only-of-type {\n",
       "        vertical-align: middle;\n",
       "    }\n",
       "\n",
       "    .dataframe tbody tr th {\n",
       "        vertical-align: top;\n",
       "    }\n",
       "\n",
       "    .dataframe thead th {\n",
       "        text-align: right;\n",
       "    }\n",
       "</style>\n",
       "<table border=\"1\" class=\"dataframe\">\n",
       "  <thead>\n",
       "    <tr style=\"text-align: right;\">\n",
       "      <th></th>\n",
       "      <th>Lambda</th>\n",
       "      <th>Estimator</th>\n",
       "      <th>N_Estimators</th>\n",
       "      <th>Accuracy</th>\n",
       "      <th>Error</th>\n",
       "    </tr>\n",
       "  </thead>\n",
       "  <tbody>\n",
       "    <tr>\n",
       "      <th>75</th>\n",
       "      <td>1.0</td>\n",
       "      <td>DecisionTreeClassifier</td>\n",
       "      <td>1</td>\n",
       "      <td>0.942308</td>\n",
       "      <td>0.057692</td>\n",
       "    </tr>\n",
       "    <tr>\n",
       "      <th>50</th>\n",
       "      <td>1.0</td>\n",
       "      <td>GaussianNB</td>\n",
       "      <td>6</td>\n",
       "      <td>0.961538</td>\n",
       "      <td>0.038462</td>\n",
       "    </tr>\n",
       "    <tr>\n",
       "      <th>60</th>\n",
       "      <td>1.0</td>\n",
       "      <td>LogisticRegression</td>\n",
       "      <td>1</td>\n",
       "      <td>0.596154</td>\n",
       "      <td>0.403846</td>\n",
       "    </tr>\n",
       "  </tbody>\n",
       "</table>\n",
       "</div>"
      ],
      "text/plain": [
       "    Lambda               Estimator  N_Estimators  Accuracy     Error\n",
       "75     1.0  DecisionTreeClassifier             1  0.942308  0.057692\n",
       "50     1.0              GaussianNB             6  0.961538  0.038462\n",
       "60     1.0      LogisticRegression             1  0.596154  0.403846"
      ]
     },
     "execution_count": 86,
     "metadata": {},
     "output_type": "execute_result"
    }
   ],
   "source": [
    "test_results[test_results.Lambda==1].loc[\n",
    "test_results[test_results.Lambda==1].groupby('Estimator')[\n",
    "'Accuracy'].agg('idxmax').values,:\n",
    "]"
   ]
  },
  {
   "cell_type": "code",
   "execution_count": 87,
   "id": "c58266e6-bdd8-4a1c-a1f0-771e3cdedc10",
   "metadata": {},
   "outputs": [
    {
     "data": {
      "text/html": [
       "<div>\n",
       "<style scoped>\n",
       "    .dataframe tbody tr th:only-of-type {\n",
       "        vertical-align: middle;\n",
       "    }\n",
       "\n",
       "    .dataframe tbody tr th {\n",
       "        vertical-align: top;\n",
       "    }\n",
       "\n",
       "    .dataframe thead th {\n",
       "        text-align: right;\n",
       "    }\n",
       "</style>\n",
       "<table border=\"1\" class=\"dataframe\">\n",
       "  <thead>\n",
       "    <tr style=\"text-align: right;\">\n",
       "      <th></th>\n",
       "      <th>Lambda</th>\n",
       "      <th>Estimator</th>\n",
       "      <th>N_Estimators</th>\n",
       "      <th>Accuracy</th>\n",
       "      <th>Error</th>\n",
       "    </tr>\n",
       "  </thead>\n",
       "  <tbody>\n",
       "    <tr>\n",
       "      <th>30</th>\n",
       "      <td>0.5</td>\n",
       "      <td>DecisionTreeClassifier</td>\n",
       "      <td>1</td>\n",
       "      <td>0.942308</td>\n",
       "      <td>0.057692</td>\n",
       "    </tr>\n",
       "    <tr>\n",
       "      <th>4</th>\n",
       "      <td>0.5</td>\n",
       "      <td>GaussianNB</td>\n",
       "      <td>5</td>\n",
       "      <td>0.961538</td>\n",
       "      <td>0.038462</td>\n",
       "    </tr>\n",
       "    <tr>\n",
       "      <th>15</th>\n",
       "      <td>0.5</td>\n",
       "      <td>LogisticRegression</td>\n",
       "      <td>1</td>\n",
       "      <td>0.596154</td>\n",
       "      <td>0.403846</td>\n",
       "    </tr>\n",
       "  </tbody>\n",
       "</table>\n",
       "</div>"
      ],
      "text/plain": [
       "    Lambda               Estimator  N_Estimators  Accuracy     Error\n",
       "30     0.5  DecisionTreeClassifier             1  0.942308  0.057692\n",
       "4      0.5              GaussianNB             5  0.961538  0.038462\n",
       "15     0.5      LogisticRegression             1  0.596154  0.403846"
      ]
     },
     "execution_count": 87,
     "metadata": {},
     "output_type": "execute_result"
    }
   ],
   "source": [
    "lambda_pt_5"
   ]
  },
  {
   "cell_type": "markdown",
   "id": "93f9907d-85b2-4d32-a8d0-0763f0c15eb1",
   "metadata": {},
   "source": [
    "In the table above we wee that best estimator is The DecisionTreeClassifier."
   ]
  },
  {
   "cell_type": "code",
   "execution_count": 61,
   "id": "d29fa903-7d39-40ed-8f47-cb7fae9c897a",
   "metadata": {},
   "outputs": [
    {
     "name": "stderr",
     "output_type": "stream",
     "text": [
      "/Users/williammohr/opt/anaconda3/lib/python3.9/site-packages/seaborn/axisgrid.py:118: UserWarning: The figure layout has changed to tight\n",
      "  self._figure.tight_layout(*args, **kwargs)\n"
     ]
    },
    {
     "data": {
      "text/plain": [
       "<seaborn.axisgrid.FacetGrid at 0x7fd370217730>"
      ]
     },
     "execution_count": 61,
     "metadata": {},
     "output_type": "execute_result"
    },
    {
     "data": {
      "image/png": "[encoded data removed]",
      "text/plain": [
       "<Figure size 1201.62x500 with 2 Axes>"
      ]
     },
     "metadata": {},
     "output_type": "display_data"
    }
   ],
   "source": [
    "sns.catplot(data=test_results, col = \"Lambda\",x='N_Estimators',y='Error',\n",
    "hue = 'Estimator')"
   ]
  },
  {
   "cell_type": "markdown",
   "id": "c56027ef-6911-492f-a75c-8f98e2f6b1d5",
   "metadata": {},
   "source": [
    "for lambda = .5, the best estimator is GaussianNB with n_estimators = 5"
   ]
  },
  {
   "cell_type": "code",
   "execution_count": 62,
   "id": "3a29c46d-5bf0-4a18-93a5-d427528dc946",
   "metadata": {},
   "outputs": [],
   "source": [
    "ab = AdaBoostClassifier(estimator=GaussianNB(),n_estimators = 5,\n",
    "                          learning_rate=.5)\n",
    "ab.fit(train_X,train_y)\n",
    "preds = ab.predict(test_X)\n",
    "preds = np.where(preds==\"Green\",1,0)"
   ]
  },
  {
   "cell_type": "code",
   "execution_count": 63,
   "id": "67be6573-e568-4963-9bde-703d8865085a",
   "metadata": {},
   "outputs": [
    {
     "data": {
      "text/plain": [
       "165.06"
      ]
     },
     "execution_count": 63,
     "metadata": {},
     "output_type": "execute_result"
    }
   ],
   "source": [
    "trade_labels(stock_data,2021,preds)"
   ]
  },
  {
   "cell_type": "code",
   "execution_count": 64,
   "id": "cebd4f08-e690-407b-808b-32754cb2b6d8",
   "metadata": {},
   "outputs": [
    {
     "data": {
      "text/plain": [
       "127.54"
      ]
     },
     "execution_count": 64,
     "metadata": {},
     "output_type": "execute_result"
    }
   ],
   "source": [
    "buy_and_hold(stock_data,2021)"
   ]
  },
  {
   "cell_type": "markdown",
   "id": "d90de811-1b3f-40ab-a742-66dd46051d11",
   "metadata": {},
   "source": [
    "#### Tips"
   ]
  },
  {
   "cell_type": "code",
   "execution_count": 65,
   "id": "99821f75-70a7-4f5f-93b8-884679b9e3bc",
   "metadata": {},
   "outputs": [
    {
     "data": {
      "text/html": [
       "<div>\n",
       "<style scoped>\n",
       "    .dataframe tbody tr th:only-of-type {\n",
       "        vertical-align: middle;\n",
       "    }\n",
       "\n",
       "    .dataframe tbody tr th {\n",
       "        vertical-align: top;\n",
       "    }\n",
       "\n",
       "    .dataframe thead th {\n",
       "        text-align: right;\n",
       "    }\n",
       "</style>\n",
       "<table border=\"1\" class=\"dataframe\">\n",
       "  <thead>\n",
       "    <tr style=\"text-align: right;\">\n",
       "      <th></th>\n",
       "      <th>total_bill</th>\n",
       "      <th>tip</th>\n",
       "      <th>sex</th>\n",
       "      <th>smoker</th>\n",
       "      <th>day</th>\n",
       "      <th>time</th>\n",
       "      <th>size</th>\n",
       "    </tr>\n",
       "  </thead>\n",
       "  <tbody>\n",
       "    <tr>\n",
       "      <th>0</th>\n",
       "      <td>16.99</td>\n",
       "      <td>1.01</td>\n",
       "      <td>Female</td>\n",
       "      <td>No</td>\n",
       "      <td>Sun</td>\n",
       "      <td>Dinner</td>\n",
       "      <td>2</td>\n",
       "    </tr>\n",
       "    <tr>\n",
       "      <th>1</th>\n",
       "      <td>10.34</td>\n",
       "      <td>1.66</td>\n",
       "      <td>Male</td>\n",
       "      <td>No</td>\n",
       "      <td>Sun</td>\n",
       "      <td>Dinner</td>\n",
       "      <td>3</td>\n",
       "    </tr>\n",
       "    <tr>\n",
       "      <th>242</th>\n",
       "      <td>17.82</td>\n",
       "      <td>1.75</td>\n",
       "      <td>Male</td>\n",
       "      <td>No</td>\n",
       "      <td>Sat</td>\n",
       "      <td>Dinner</td>\n",
       "      <td>2</td>\n",
       "    </tr>\n",
       "    <tr>\n",
       "      <th>243</th>\n",
       "      <td>18.78</td>\n",
       "      <td>3.00</td>\n",
       "      <td>Female</td>\n",
       "      <td>No</td>\n",
       "      <td>Thur</td>\n",
       "      <td>Dinner</td>\n",
       "      <td>2</td>\n",
       "    </tr>\n",
       "  </tbody>\n",
       "</table>\n",
       "</div>"
      ],
      "text/plain": [
       "     total_bill   tip     sex smoker   day    time  size\n",
       "0         16.99  1.01  Female     No   Sun  Dinner     2\n",
       "1         10.34  1.66    Male     No   Sun  Dinner     3\n",
       "242       17.82  1.75    Male     No   Sat  Dinner     2\n",
       "243       18.78  3.00  Female     No  Thur  Dinner     2"
      ]
     },
     "execution_count": 65,
     "metadata": {},
     "output_type": "execute_result"
    }
   ],
   "source": [
    "tips = pd.read_csv('./Data/tips.csv')\n",
    "head_tail(tips)"
   ]
  },
  {
   "cell_type": "code",
   "execution_count": 66,
   "id": "f947e00d-9b15-45b5-b793-d1aaf9ade72f",
   "metadata": {},
   "outputs": [],
   "source": [
    "tips['tip_pct'] = tips['tip']/tips['total_bill']"
   ]
  },
  {
   "cell_type": "code",
   "execution_count": 67,
   "id": "2a81d02a-5ba0-4ecd-9da1-8c8c288a9e5e",
   "metadata": {},
   "outputs": [
    {
     "data": {
      "text/plain": [
       "time\n",
       "Dinner    0.159518\n",
       "Lunch     0.164128\n",
       "Name: tip_pct, dtype: float64"
      ]
     },
     "execution_count": 67,
     "metadata": {},
     "output_type": "execute_result"
    }
   ],
   "source": [
    "tips.groupby('time')['tip_pct'].agg('mean')"
   ]
  },
  {
   "cell_type": "code",
   "execution_count": 68,
   "id": "a45f6612-e090-4927-a989-552ff9fda627",
   "metadata": {},
   "outputs": [
    {
     "data": {
      "text/plain": [
       "day\n",
       "Fri     0.169913\n",
       "Sat     0.153152\n",
       "Sun     0.166897\n",
       "Thur    0.161276\n",
       "Name: tip_pct, dtype: float64"
      ]
     },
     "execution_count": 68,
     "metadata": {},
     "output_type": "execute_result"
    }
   ],
   "source": [
    "tips.groupby('day')['tip_pct'].agg('mean')"
   ]
  },
  {
   "cell_type": "code",
   "execution_count": 69,
   "id": "b66d7b30-8b80-4ec8-a960-0d8e4656125f",
   "metadata": {},
   "outputs": [
    {
     "data": {
      "text/plain": [
       "day   time  \n",
       "Fri   Dinner    0.158916\n",
       "      Lunch     0.188765\n",
       "Sat   Dinner    0.153152\n",
       "Sun   Dinner    0.166897\n",
       "Thur  Dinner    0.159744\n",
       "      Lunch     0.161301\n",
       "Name: tip_pct, dtype: float64"
      ]
     },
     "execution_count": 69,
     "metadata": {},
     "output_type": "execute_result"
    }
   ],
   "source": [
    "tips.groupby(['day','time'])['tip_pct'].agg('mean')"
   ]
  },
  {
   "cell_type": "markdown",
   "id": "506dd3f4-0a56-406a-88af-d979e4af6c6a",
   "metadata": {},
   "source": [
    "Tips are highest at lunch on Friday."
   ]
  },
  {
   "cell_type": "code",
   "execution_count": 70,
   "id": "90d95ccb-333c-4bcd-a4a3-d14a07bfb066",
   "metadata": {},
   "outputs": [
    {
     "data": {
      "text/html": [
       "<div>\n",
       "<style scoped>\n",
       "    .dataframe tbody tr th:only-of-type {\n",
       "        vertical-align: middle;\n",
       "    }\n",
       "\n",
       "    .dataframe tbody tr th {\n",
       "        vertical-align: top;\n",
       "    }\n",
       "\n",
       "    .dataframe thead th {\n",
       "        text-align: right;\n",
       "    }\n",
       "</style>\n",
       "<table border=\"1\" class=\"dataframe\">\n",
       "  <thead>\n",
       "    <tr style=\"text-align: right;\">\n",
       "      <th></th>\n",
       "      <th>total_bill</th>\n",
       "      <th>tip_pct</th>\n",
       "    </tr>\n",
       "  </thead>\n",
       "  <tbody>\n",
       "    <tr>\n",
       "      <th>total_bill</th>\n",
       "      <td>1.000000</td>\n",
       "      <td>-0.338624</td>\n",
       "    </tr>\n",
       "    <tr>\n",
       "      <th>tip_pct</th>\n",
       "      <td>-0.338624</td>\n",
       "      <td>1.000000</td>\n",
       "    </tr>\n",
       "  </tbody>\n",
       "</table>\n",
       "</div>"
      ],
      "text/plain": [
       "            total_bill   tip_pct\n",
       "total_bill    1.000000 -0.338624\n",
       "tip_pct      -0.338624  1.000000"
      ]
     },
     "execution_count": 70,
     "metadata": {},
     "output_type": "execute_result"
    }
   ],
   "source": [
    "tips[['total_bill','tip_pct']].corr()"
   ]
  },
  {
   "cell_type": "code",
   "execution_count": 71,
   "id": "f78e3bdc-b7c4-497e-9cf1-104aa0b37d68",
   "metadata": {},
   "outputs": [
    {
     "data": {
      "text/plain": [
       "<Axes: xlabel='size', ylabel='tip_pct'>"
      ]
     },
     "execution_count": 71,
     "metadata": {},
     "output_type": "execute_result"
    },
    {
     "data": {
      "image/png": "[encoded data removed]",
      "text/plain": [
       "<Figure size 640x480 with 1 Axes>"
      ]
     },
     "metadata": {},
     "output_type": "display_data"
    }
   ],
   "source": [
    "sns.barplot(data=tips,x='size',y='tip_pct',color='g')"
   ]
  },
  {
   "cell_type": "code",
   "execution_count": 88,
   "id": "1837af45-2b9a-48a9-8da8-1550600b8c4f",
   "metadata": {},
   "outputs": [
    {
     "data": {
      "text/plain": [
       "0.38114754098360654"
      ]
     },
     "execution_count": 88,
     "metadata": {},
     "output_type": "execute_result"
    }
   ],
   "source": [
    "np.mean(np.where(tips.smoker=='Yes',1,0))"
   ]
  },
  {
   "cell_type": "code",
   "execution_count": 72,
   "id": "665d571f-8c91-4e72-8df6-2f0aeccebce7",
   "metadata": {},
   "outputs": [
    {
     "data": {
      "text/plain": [
       "<Axes: xlabel='size', ylabel='tip_pct'>"
      ]
     },
     "execution_count": 72,
     "metadata": {},
     "output_type": "execute_result"
    },
    {
     "data": {
      "image/png": "[encoded data removed]",
      "text/plain": [
       "<Figure size 640x480 with 1 Axes>"
      ]
     },
     "metadata": {},
     "output_type": "display_data"
    }
   ],
   "source": [
    "sns.barplot(data=tips,x='size',y='tip_pct',hue='smoker')"
   ]
  },
  {
   "cell_type": "code",
   "execution_count": 73,
   "id": "63ae19b0-b3cf-48c9-ba35-4510c9638dbb",
   "metadata": {},
   "outputs": [],
   "source": [
    "tips['inx'] = tips.index"
   ]
  },
  {
   "cell_type": "code",
   "execution_count": 74,
   "id": "a7c8cafa-dedb-4611-a0b8-afc2cb16e39f",
   "metadata": {},
   "outputs": [
    {
     "name": "stderr",
     "output_type": "stream",
     "text": [
      "/Users/williammohr/opt/anaconda3/lib/python3.9/site-packages/seaborn/axisgrid.py:118: UserWarning: The figure layout has changed to tight\n",
      "  self._figure.tight_layout(*args, **kwargs)\n"
     ]
    },
    {
     "data": {
      "text/plain": [
       "<seaborn.axisgrid.FacetGrid at 0x7fd360100220>"
      ]
     },
     "execution_count": 74,
     "metadata": {},
     "output_type": "execute_result"
    },
    {
     "data": {
      "image/png": "[encoded data removed]",
      "text/plain": [
       "<Figure size 2096.38x500 with 4 Axes>"
      ]
     },
     "metadata": {},
     "output_type": "display_data"
    }
   ],
   "source": [
    "sns.relplot(data=tips,x='inx',y='tip_pct',col = 'day',hue='time')"
   ]
  },
  {
   "cell_type": "markdown",
   "id": "268710ab-124d-411c-94a9-2779dd079300",
   "metadata": {},
   "source": [
    "I don't see a distinctive relationship between the order in which the entries occur in the dataset and the tip_pct."
   ]
  },
  {
   "cell_type": "code",
   "execution_count": 75,
   "id": "357929ad-196d-4736-a4fa-291c0b5924ff",
   "metadata": {},
   "outputs": [
    {
     "data": {
      "text/plain": [
       "total_bill   -0.199772\n",
       "tip           0.349519\n",
       "size         -0.121354\n",
       "tip_pct       1.000000\n",
       "Name: tip_pct, dtype: float64"
      ]
     },
     "execution_count": 75,
     "metadata": {},
     "output_type": "execute_result"
    }
   ],
   "source": [
    "tips[tips.smoker == 'No'][tips.columns[0:-1]].select_dtypes(\n",
    "    include='number').corr()['tip_pct']"
   ]
  },
  {
   "cell_type": "code",
   "execution_count": 76,
   "id": "0f6ce78f-b76b-4689-9376-1ca9125e1651",
   "metadata": {},
   "outputs": [
    {
     "data": {
      "text/plain": [
       "total_bill   -0.457351\n",
       "tip           0.377667\n",
       "size         -0.191993\n",
       "tip_pct       1.000000\n",
       "Name: tip_pct, dtype: float64"
      ]
     },
     "execution_count": 76,
     "metadata": {},
     "output_type": "execute_result"
    }
   ],
   "source": [
    "tips[tips.smoker == 'Yes'][tips.columns[0:-1]].select_dtypes(\n",
    "    include='number').corr()['tip_pct']"
   ]
  },
  {
   "cell_type": "markdown",
   "id": "b73a67a0-fa6b-4622-afe2-365545f478d0",
   "metadata": {},
   "source": [
    "There is a more negative correlation between total bill and tip pct for smokers."
   ]
  },
  {
   "cell_type": "markdown",
   "id": "b4c597f4-bece-4337-a37f-8a46d6a28352",
   "metadata": {},
   "source": [
    "### Scrapyard"
   ]
  },
  {
   "cell_type": "code",
   "execution_count": 77,
   "id": "f965f7c6-59dc-4fea-906f-8279b1105276",
   "metadata": {},
   "outputs": [],
   "source": [
    "def expand_dict(param_dict, new_param_tuple):\n",
    "    name = new_param_tuple[0],\n",
    "    value = new_param_tuple[1]\n",
    "    if param_dict:\n",
    "        param_dict[name] = value\n",
    "    else:\n",
    "        p"
   ]
  },
  {
   "cell_type": "code",
   "execution_count": 78,
   "id": "81af05e3-f950-4b0b-9457-afdc12610915",
   "metadata": {},
   "outputs": [],
   "source": [
    "def param_expansion(param_grid, param_product):\n",
    "    if param_grid.keys() == None:\n",
    "        return param_product\n",
    "    next_param = param_grid.keys()[0]\n",
    "    \n",
    "    param_product\n",
    "    if len(param_grid.keys())==1:\n",
    "        p"
   ]
  },
  {
   "cell_type": "code",
   "execution_count": null,
   "id": "0b0544f6-580f-4602-b366-41afbeb9a706",
   "metadata": {},
   "outputs": [],
   "source": []
  },
  {
   "cell_type": "code",
   "execution_count": 79,
   "id": "4d1196ad-4825-4bd3-bac4-16c1b169b360",
   "metadata": {},
   "outputs": [
    {
     "ename": "SyntaxError",
     "evalue": "invalid syntax (417427532.py, line 6)",
     "output_type": "error",
     "traceback": [
      "\u001b[0;36m  Cell \u001b[0;32mIn[79], line 6\u001b[0;36m\u001b[0m\n\u001b[0;31m    self.param_combinations =\u001b[0m\n\u001b[0m                              ^\u001b[0m\n\u001b[0;31mSyntaxError\u001b[0m\u001b[0;31m:\u001b[0m invalid syntax\n"
     ]
    }
   ],
   "source": [
    "class grid_evaluation():\n",
    "    model = object\n",
    "    def __init__(self, model, params, train_X, train_y):\n",
    "        self.model = model\n",
    "        self.params = params\n",
    "        self.param_combinations = \n",
    "    def train_search(self, model = self.model, params=self.params):\n",
    "        for param in p:\n",
    "            if p \n",
    "        "
   ]
  },
  {
   "cell_type": "code",
   "execution_count": null,
   "id": "977780e1-1e3b-4da7-87e7-e4f9f1e6492b",
   "metadata": {},
   "outputs": [],
   "source": []
  },
  {
   "cell_type": "code",
   "execution_count": null,
   "id": "8663d32e-939d-4baf-968c-94a8561dbd76",
   "metadata": {},
   "outputs": [],
   "source": [
    "rf = RandomForestClassifier(criterion='entropy')\n",
    "fgs = GridSearchCV(estimator=rf,\n",
    "    param_grid = {'n_estimators':[i for i in range(1,11)],\n",
    "                  'max_depth':[i for i in range(1,6)]},return_train_score=True)\n",
    "fgs.fit(train_X, y = train_y)\n",
    "fgs.cv_results_"
   ]
  },
  {
   "cell_type": "code",
   "execution_count": null,
   "id": "b7f5145f-bfdb-4648-abf4-5861cb025c50",
   "metadata": {},
   "outputs": [],
   "source": [
    "def grid_search(model, params):\n",
    "    \"\"\"take an n-tuple of parameters in a dictionary format and generate a \n",
    "    dataframe with metric results for each combination\"\"\"\n",
    "    \n",
    "    "
   ]
  },
  {
   "cell_type": "code",
   "execution_count": null,
   "id": "6a8ac6b8-7108-48aa-9b11-126de5932c85",
   "metadata": {},
   "outputs": [],
   "source": []
  },
  {
   "cell_type": "code",
   "execution_count": null,
   "id": "fbd6cdeb-58e6-44bc-9b5c-29675308e48e",
   "metadata": {},
   "outputs": [],
   "source": [
    "param_combinations = []\n",
    "param_dict = {'n_trees':[i for i in range(0,11)],\n",
    "              'max_depth':[i for i in range(0,6)]}\n",
    "first_dict = dict([(k,v) for k,v in param_dict.items()][0])\n",
    "# param_combinations.append(param_dict.pop([(k,v) for k,v in param_dict.items()][0]))\n",
    "\n",
    "for param in param_dict.items():\n",
    "    for val in param[1]:\n",
    "        c\n",
    "k = next(iter(param_dict.keys()))\n",
    "# param_combinations.append({'c':1})\n",
    "# param_combinations.append(dict(first_dict))\n",
    "# (k,param_dict.pop(k))\n",
    "# param_combinations.append(dict((k, param_dict.pop(k))))\n",
    "dict(('a',1))"
   ]
  }
 ],
 "metadata": {
  "kernelspec": {
   "display_name": "Python 3 (ipykernel)",
   "language": "python",
   "name": "python3"
  },
  "language_info": {
   "codemirror_mode": {
    "name": "ipython",
    "version": 3
   },
   "file_extension": ".py",
   "mimetype": "text/x-python",
   "name": "python",
   "nbconvert_exporter": "python",
   "pygments_lexer": "ipython3",
   "version": "3.9.18"
  }
 },
 "nbformat": 4,
 "nbformat_minor": 5
}
