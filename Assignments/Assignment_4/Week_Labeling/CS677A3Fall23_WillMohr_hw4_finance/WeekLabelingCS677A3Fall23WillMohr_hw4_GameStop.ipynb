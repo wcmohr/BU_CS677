{
 "cells": [
  {
   "cell_type": "code",
   "execution_count": 9,
   "id": "41e59634-72cb-4e52-b628-eb35d9eb65eb",
   "metadata": {
    "tags": []
   },
   "outputs": [],
   "source": [
    "import pandas as pd\n",
    "import matplotlib.pyplot as plt\n",
    "import numpy as np\n",
    "import os"
   ]
  },
  {
   "cell_type": "code",
   "execution_count": 22,
   "id": "587ecfed-a567-4f91-9dfb-2967a34e0b46",
   "metadata": {
    "tags": []
   },
   "outputs": [
    {
     "ename": "FileNotFoundError",
     "evalue": "[Errno 2] No such file or directory: 'Week_Labeling/CS677A3Fall23_WillMohr_hw4_finance'",
     "output_type": "error",
     "traceback": [
      "\u001b[0;31m---------------------------------------------------------------------------\u001b[0m",
      "\u001b[0;31mFileNotFoundError\u001b[0m                         Traceback (most recent call last)",
      "Cell \u001b[0;32mIn[22], line 1\u001b[0m\n\u001b[0;32m----> 1\u001b[0m \u001b[43mos\u001b[49m\u001b[38;5;241;43m.\u001b[39;49m\u001b[43mchdir\u001b[49m\u001b[43m(\u001b[49m\u001b[38;5;124;43m'\u001b[39;49m\u001b[38;5;124;43mWeek_Labeling/CS677A3Fall23_WillMohr_hw4_finance\u001b[39;49m\u001b[38;5;124;43m'\u001b[39;49m\u001b[43m)\u001b[49m\n",
      "\u001b[0;31mFileNotFoundError\u001b[0m: [Errno 2] No such file or directory: 'Week_Labeling/CS677A3Fall23_WillMohr_hw4_finance'"
     ]
    }
   ],
   "source": [
    "os.chdir('Week_Labeling/CS677A3Fall23_WillMohr_hw4_finance')"
   ]
  },
  {
   "cell_type": "code",
   "execution_count": 6,
   "id": "54430343-ea32-4354-9650-e145c2f6afab",
   "metadata": {
    "tags": []
   },
   "outputs": [
    {
     "ename": "FileNotFoundError",
     "evalue": "[Errno 2] No such file or directory: '/CS677A3Fall23_WillMohr_hw4_finance/gme.csv'",
     "output_type": "error",
     "traceback": [
      "\u001b[0;31m---------------------------------------------------------------------------\u001b[0m",
      "\u001b[0;31mFileNotFoundError\u001b[0m                         Traceback (most recent call last)",
      "Cell \u001b[0;32mIn[6], line 1\u001b[0m\n\u001b[0;32m----> 1\u001b[0m gme \u001b[38;5;241m=\u001b[39m \u001b[43mpd\u001b[49m\u001b[38;5;241;43m.\u001b[39;49m\u001b[43mread_csv\u001b[49m\u001b[43m(\u001b[49m\u001b[38;5;124;43m'\u001b[39;49m\u001b[38;5;124;43m/CS677A3Fall23_WillMohr_hw4_finance/gme.csv\u001b[39;49m\u001b[38;5;124;43m'\u001b[39;49m\u001b[43m)\u001b[49m\n",
      "File \u001b[0;32m~/opt/anaconda3/lib/python3.9/site-packages/pandas/io/parsers/readers.py:912\u001b[0m, in \u001b[0;36mread_csv\u001b[0;34m(filepath_or_buffer, sep, delimiter, header, names, index_col, usecols, dtype, engine, converters, true_values, false_values, skipinitialspace, skiprows, skipfooter, nrows, na_values, keep_default_na, na_filter, verbose, skip_blank_lines, parse_dates, infer_datetime_format, keep_date_col, date_parser, date_format, dayfirst, cache_dates, iterator, chunksize, compression, thousands, decimal, lineterminator, quotechar, quoting, doublequote, escapechar, comment, encoding, encoding_errors, dialect, on_bad_lines, delim_whitespace, low_memory, memory_map, float_precision, storage_options, dtype_backend)\u001b[0m\n\u001b[1;32m    899\u001b[0m kwds_defaults \u001b[38;5;241m=\u001b[39m _refine_defaults_read(\n\u001b[1;32m    900\u001b[0m     dialect,\n\u001b[1;32m    901\u001b[0m     delimiter,\n\u001b[0;32m   (...)\u001b[0m\n\u001b[1;32m    908\u001b[0m     dtype_backend\u001b[38;5;241m=\u001b[39mdtype_backend,\n\u001b[1;32m    909\u001b[0m )\n\u001b[1;32m    910\u001b[0m kwds\u001b[38;5;241m.\u001b[39mupdate(kwds_defaults)\n\u001b[0;32m--> 912\u001b[0m \u001b[38;5;28;01mreturn\u001b[39;00m \u001b[43m_read\u001b[49m\u001b[43m(\u001b[49m\u001b[43mfilepath_or_buffer\u001b[49m\u001b[43m,\u001b[49m\u001b[43m \u001b[49m\u001b[43mkwds\u001b[49m\u001b[43m)\u001b[49m\n",
      "File \u001b[0;32m~/opt/anaconda3/lib/python3.9/site-packages/pandas/io/parsers/readers.py:577\u001b[0m, in \u001b[0;36m_read\u001b[0;34m(filepath_or_buffer, kwds)\u001b[0m\n\u001b[1;32m    574\u001b[0m _validate_names(kwds\u001b[38;5;241m.\u001b[39mget(\u001b[38;5;124m\"\u001b[39m\u001b[38;5;124mnames\u001b[39m\u001b[38;5;124m\"\u001b[39m, \u001b[38;5;28;01mNone\u001b[39;00m))\n\u001b[1;32m    576\u001b[0m \u001b[38;5;66;03m# Create the parser.\u001b[39;00m\n\u001b[0;32m--> 577\u001b[0m parser \u001b[38;5;241m=\u001b[39m \u001b[43mTextFileReader\u001b[49m\u001b[43m(\u001b[49m\u001b[43mfilepath_or_buffer\u001b[49m\u001b[43m,\u001b[49m\u001b[43m \u001b[49m\u001b[38;5;241;43m*\u001b[39;49m\u001b[38;5;241;43m*\u001b[39;49m\u001b[43mkwds\u001b[49m\u001b[43m)\u001b[49m\n\u001b[1;32m    579\u001b[0m \u001b[38;5;28;01mif\u001b[39;00m chunksize \u001b[38;5;129;01mor\u001b[39;00m iterator:\n\u001b[1;32m    580\u001b[0m     \u001b[38;5;28;01mreturn\u001b[39;00m parser\n",
      "File \u001b[0;32m~/opt/anaconda3/lib/python3.9/site-packages/pandas/io/parsers/readers.py:1407\u001b[0m, in \u001b[0;36mTextFileReader.__init__\u001b[0;34m(self, f, engine, **kwds)\u001b[0m\n\u001b[1;32m   1404\u001b[0m     \u001b[38;5;28mself\u001b[39m\u001b[38;5;241m.\u001b[39moptions[\u001b[38;5;124m\"\u001b[39m\u001b[38;5;124mhas_index_names\u001b[39m\u001b[38;5;124m\"\u001b[39m] \u001b[38;5;241m=\u001b[39m kwds[\u001b[38;5;124m\"\u001b[39m\u001b[38;5;124mhas_index_names\u001b[39m\u001b[38;5;124m\"\u001b[39m]\n\u001b[1;32m   1406\u001b[0m \u001b[38;5;28mself\u001b[39m\u001b[38;5;241m.\u001b[39mhandles: IOHandles \u001b[38;5;241m|\u001b[39m \u001b[38;5;28;01mNone\u001b[39;00m \u001b[38;5;241m=\u001b[39m \u001b[38;5;28;01mNone\u001b[39;00m\n\u001b[0;32m-> 1407\u001b[0m \u001b[38;5;28mself\u001b[39m\u001b[38;5;241m.\u001b[39m_engine \u001b[38;5;241m=\u001b[39m \u001b[38;5;28;43mself\u001b[39;49m\u001b[38;5;241;43m.\u001b[39;49m\u001b[43m_make_engine\u001b[49m\u001b[43m(\u001b[49m\u001b[43mf\u001b[49m\u001b[43m,\u001b[49m\u001b[43m \u001b[49m\u001b[38;5;28;43mself\u001b[39;49m\u001b[38;5;241;43m.\u001b[39;49m\u001b[43mengine\u001b[49m\u001b[43m)\u001b[49m\n",
      "File \u001b[0;32m~/opt/anaconda3/lib/python3.9/site-packages/pandas/io/parsers/readers.py:1661\u001b[0m, in \u001b[0;36mTextFileReader._make_engine\u001b[0;34m(self, f, engine)\u001b[0m\n\u001b[1;32m   1659\u001b[0m     \u001b[38;5;28;01mif\u001b[39;00m \u001b[38;5;124m\"\u001b[39m\u001b[38;5;124mb\u001b[39m\u001b[38;5;124m\"\u001b[39m \u001b[38;5;129;01mnot\u001b[39;00m \u001b[38;5;129;01min\u001b[39;00m mode:\n\u001b[1;32m   1660\u001b[0m         mode \u001b[38;5;241m+\u001b[39m\u001b[38;5;241m=\u001b[39m \u001b[38;5;124m\"\u001b[39m\u001b[38;5;124mb\u001b[39m\u001b[38;5;124m\"\u001b[39m\n\u001b[0;32m-> 1661\u001b[0m \u001b[38;5;28mself\u001b[39m\u001b[38;5;241m.\u001b[39mhandles \u001b[38;5;241m=\u001b[39m \u001b[43mget_handle\u001b[49m\u001b[43m(\u001b[49m\n\u001b[1;32m   1662\u001b[0m \u001b[43m    \u001b[49m\u001b[43mf\u001b[49m\u001b[43m,\u001b[49m\n\u001b[1;32m   1663\u001b[0m \u001b[43m    \u001b[49m\u001b[43mmode\u001b[49m\u001b[43m,\u001b[49m\n\u001b[1;32m   1664\u001b[0m \u001b[43m    \u001b[49m\u001b[43mencoding\u001b[49m\u001b[38;5;241;43m=\u001b[39;49m\u001b[38;5;28;43mself\u001b[39;49m\u001b[38;5;241;43m.\u001b[39;49m\u001b[43moptions\u001b[49m\u001b[38;5;241;43m.\u001b[39;49m\u001b[43mget\u001b[49m\u001b[43m(\u001b[49m\u001b[38;5;124;43m\"\u001b[39;49m\u001b[38;5;124;43mencoding\u001b[39;49m\u001b[38;5;124;43m\"\u001b[39;49m\u001b[43m,\u001b[49m\u001b[43m \u001b[49m\u001b[38;5;28;43;01mNone\u001b[39;49;00m\u001b[43m)\u001b[49m\u001b[43m,\u001b[49m\n\u001b[1;32m   1665\u001b[0m \u001b[43m    \u001b[49m\u001b[43mcompression\u001b[49m\u001b[38;5;241;43m=\u001b[39;49m\u001b[38;5;28;43mself\u001b[39;49m\u001b[38;5;241;43m.\u001b[39;49m\u001b[43moptions\u001b[49m\u001b[38;5;241;43m.\u001b[39;49m\u001b[43mget\u001b[49m\u001b[43m(\u001b[49m\u001b[38;5;124;43m\"\u001b[39;49m\u001b[38;5;124;43mcompression\u001b[39;49m\u001b[38;5;124;43m\"\u001b[39;49m\u001b[43m,\u001b[49m\u001b[43m \u001b[49m\u001b[38;5;28;43;01mNone\u001b[39;49;00m\u001b[43m)\u001b[49m\u001b[43m,\u001b[49m\n\u001b[1;32m   1666\u001b[0m \u001b[43m    \u001b[49m\u001b[43mmemory_map\u001b[49m\u001b[38;5;241;43m=\u001b[39;49m\u001b[38;5;28;43mself\u001b[39;49m\u001b[38;5;241;43m.\u001b[39;49m\u001b[43moptions\u001b[49m\u001b[38;5;241;43m.\u001b[39;49m\u001b[43mget\u001b[49m\u001b[43m(\u001b[49m\u001b[38;5;124;43m\"\u001b[39;49m\u001b[38;5;124;43mmemory_map\u001b[39;49m\u001b[38;5;124;43m\"\u001b[39;49m\u001b[43m,\u001b[49m\u001b[43m \u001b[49m\u001b[38;5;28;43;01mFalse\u001b[39;49;00m\u001b[43m)\u001b[49m\u001b[43m,\u001b[49m\n\u001b[1;32m   1667\u001b[0m \u001b[43m    \u001b[49m\u001b[43mis_text\u001b[49m\u001b[38;5;241;43m=\u001b[39;49m\u001b[43mis_text\u001b[49m\u001b[43m,\u001b[49m\n\u001b[1;32m   1668\u001b[0m \u001b[43m    \u001b[49m\u001b[43merrors\u001b[49m\u001b[38;5;241;43m=\u001b[39;49m\u001b[38;5;28;43mself\u001b[39;49m\u001b[38;5;241;43m.\u001b[39;49m\u001b[43moptions\u001b[49m\u001b[38;5;241;43m.\u001b[39;49m\u001b[43mget\u001b[49m\u001b[43m(\u001b[49m\u001b[38;5;124;43m\"\u001b[39;49m\u001b[38;5;124;43mencoding_errors\u001b[39;49m\u001b[38;5;124;43m\"\u001b[39;49m\u001b[43m,\u001b[49m\u001b[43m \u001b[49m\u001b[38;5;124;43m\"\u001b[39;49m\u001b[38;5;124;43mstrict\u001b[39;49m\u001b[38;5;124;43m\"\u001b[39;49m\u001b[43m)\u001b[49m\u001b[43m,\u001b[49m\n\u001b[1;32m   1669\u001b[0m \u001b[43m    \u001b[49m\u001b[43mstorage_options\u001b[49m\u001b[38;5;241;43m=\u001b[39;49m\u001b[38;5;28;43mself\u001b[39;49m\u001b[38;5;241;43m.\u001b[39;49m\u001b[43moptions\u001b[49m\u001b[38;5;241;43m.\u001b[39;49m\u001b[43mget\u001b[49m\u001b[43m(\u001b[49m\u001b[38;5;124;43m\"\u001b[39;49m\u001b[38;5;124;43mstorage_options\u001b[39;49m\u001b[38;5;124;43m\"\u001b[39;49m\u001b[43m,\u001b[49m\u001b[43m \u001b[49m\u001b[38;5;28;43;01mNone\u001b[39;49;00m\u001b[43m)\u001b[49m\u001b[43m,\u001b[49m\n\u001b[1;32m   1670\u001b[0m \u001b[43m\u001b[49m\u001b[43m)\u001b[49m\n\u001b[1;32m   1671\u001b[0m \u001b[38;5;28;01massert\u001b[39;00m \u001b[38;5;28mself\u001b[39m\u001b[38;5;241m.\u001b[39mhandles \u001b[38;5;129;01mis\u001b[39;00m \u001b[38;5;129;01mnot\u001b[39;00m \u001b[38;5;28;01mNone\u001b[39;00m\n\u001b[1;32m   1672\u001b[0m f \u001b[38;5;241m=\u001b[39m \u001b[38;5;28mself\u001b[39m\u001b[38;5;241m.\u001b[39mhandles\u001b[38;5;241m.\u001b[39mhandle\n",
      "File \u001b[0;32m~/opt/anaconda3/lib/python3.9/site-packages/pandas/io/common.py:859\u001b[0m, in \u001b[0;36mget_handle\u001b[0;34m(path_or_buf, mode, encoding, compression, memory_map, is_text, errors, storage_options)\u001b[0m\n\u001b[1;32m    854\u001b[0m \u001b[38;5;28;01melif\u001b[39;00m \u001b[38;5;28misinstance\u001b[39m(handle, \u001b[38;5;28mstr\u001b[39m):\n\u001b[1;32m    855\u001b[0m     \u001b[38;5;66;03m# Check whether the filename is to be opened in binary mode.\u001b[39;00m\n\u001b[1;32m    856\u001b[0m     \u001b[38;5;66;03m# Binary mode does not support 'encoding' and 'newline'.\u001b[39;00m\n\u001b[1;32m    857\u001b[0m     \u001b[38;5;28;01mif\u001b[39;00m ioargs\u001b[38;5;241m.\u001b[39mencoding \u001b[38;5;129;01mand\u001b[39;00m \u001b[38;5;124m\"\u001b[39m\u001b[38;5;124mb\u001b[39m\u001b[38;5;124m\"\u001b[39m \u001b[38;5;129;01mnot\u001b[39;00m \u001b[38;5;129;01min\u001b[39;00m ioargs\u001b[38;5;241m.\u001b[39mmode:\n\u001b[1;32m    858\u001b[0m         \u001b[38;5;66;03m# Encoding\u001b[39;00m\n\u001b[0;32m--> 859\u001b[0m         handle \u001b[38;5;241m=\u001b[39m \u001b[38;5;28;43mopen\u001b[39;49m\u001b[43m(\u001b[49m\n\u001b[1;32m    860\u001b[0m \u001b[43m            \u001b[49m\u001b[43mhandle\u001b[49m\u001b[43m,\u001b[49m\n\u001b[1;32m    861\u001b[0m \u001b[43m            \u001b[49m\u001b[43mioargs\u001b[49m\u001b[38;5;241;43m.\u001b[39;49m\u001b[43mmode\u001b[49m\u001b[43m,\u001b[49m\n\u001b[1;32m    862\u001b[0m \u001b[43m            \u001b[49m\u001b[43mencoding\u001b[49m\u001b[38;5;241;43m=\u001b[39;49m\u001b[43mioargs\u001b[49m\u001b[38;5;241;43m.\u001b[39;49m\u001b[43mencoding\u001b[49m\u001b[43m,\u001b[49m\n\u001b[1;32m    863\u001b[0m \u001b[43m            \u001b[49m\u001b[43merrors\u001b[49m\u001b[38;5;241;43m=\u001b[39;49m\u001b[43merrors\u001b[49m\u001b[43m,\u001b[49m\n\u001b[1;32m    864\u001b[0m \u001b[43m            \u001b[49m\u001b[43mnewline\u001b[49m\u001b[38;5;241;43m=\u001b[39;49m\u001b[38;5;124;43m\"\u001b[39;49m\u001b[38;5;124;43m\"\u001b[39;49m\u001b[43m,\u001b[49m\n\u001b[1;32m    865\u001b[0m \u001b[43m        \u001b[49m\u001b[43m)\u001b[49m\n\u001b[1;32m    866\u001b[0m     \u001b[38;5;28;01melse\u001b[39;00m:\n\u001b[1;32m    867\u001b[0m         \u001b[38;5;66;03m# Binary mode\u001b[39;00m\n\u001b[1;32m    868\u001b[0m         handle \u001b[38;5;241m=\u001b[39m \u001b[38;5;28mopen\u001b[39m(handle, ioargs\u001b[38;5;241m.\u001b[39mmode)\n",
      "\u001b[0;31mFileNotFoundError\u001b[0m: [Errno 2] No such file or directory: '/CS677A3Fall23_WillMohr_hw4_finance/gme.csv'"
     ]
    }
   ],
   "source": [
    "gme = pd.read_csv('/CS677A3Fall23_WillMohr_hw4_finance/gme.csv')\n",
    "# spy = pd.read_csv('./spy.csv')\n",
    "# gme_labels = pd.read_csv('./gme_labels.csv',header=None)\n",
    "# gme_labels.columns=['Label','date']\n",
    "# gme_labels.drop(columns='date',inplace=True)\n",
    "# columns = ['Year','Year_Week','Week_Number','Day', 'Weekday','Open','Adj Close',\n",
    "#            'Return']\n",
    "# gme = gme[columns]\n",
    "# spy = spy[columns]\n",
    "# gme45 = gme[(gme.Year==2020)|(gme.Year==2021)]\n",
    "# dict_labs = dict(zip(gme45.Year_Week.unique(),gme_labels.Label))\n",
    "# gme45 = gme45.assign(Label=[dict_labs[y_w] for y_w in gme45.Year_Week])"
   ]
  },
  {
   "cell_type": "code",
   "execution_count": null,
   "id": "3d2c80c6-763a-4dd8-81a7-f654b1306479",
   "metadata": {
    "tags": []
   },
   "outputs": [],
   "source": [
    "spy45 = spy[(spy.Year==2020)|(spy.Year==2021)]\n",
    "spy45.tail(10)"
   ]
  },
  {
   "cell_type": "code",
   "execution_count": null,
   "id": "aa838c2b-0a1d-4224-bbfd-d2a6935b1b4b",
   "metadata": {
    "tags": []
   },
   "outputs": [],
   "source": [
    "spy45[spy45[\"Year\"]==2020][(spy45.Week_Number==0)|(spy45.Week_Number==1)]"
   ]
  },
  {
   "cell_type": "code",
   "execution_count": null,
   "id": "60522acb-4733-47c4-946f-f9c5a8e3698d",
   "metadata": {
    "tags": []
   },
   "outputs": [],
   "source": [
    "spy"
   ]
  },
  {
   "cell_type": "code",
   "execution_count": null,
   "id": "445e8270-ebb2-4553-a8cc-a3b30b7fb170",
   "metadata": {
    "tags": []
   },
   "outputs": [],
   "source": [
    "spy45.tail(10)"
   ]
  },
  {
   "cell_type": "code",
   "execution_count": null,
   "id": "09534027-d434-4429-ae90-169e34c3d76d",
   "metadata": {
    "tags": []
   },
   "outputs": [],
   "source": [
    "import numpy as np"
   ]
  },
  {
   "cell_type": "code",
   "execution_count": null,
   "id": "88b95ecb-372a-4345-8be8-fa9329f0980b",
   "metadata": {
    "tags": []
   },
   "outputs": [],
   "source": [
    "gme_labels"
   ]
  },
  {
   "cell_type": "code",
   "execution_count": null,
   "id": "51483b47-37ed-46a1-9ca6-332a58411c8b",
   "metadata": {
    "tags": []
   },
   "outputs": [],
   "source": [
    "gme_weekly_return = pd.read_csv('./gme_weekly_return_volatility.csv')\n",
    "y = gme_weekly_return.Year\n",
    "gme_wr = gme_weekly_return[np.where((y==2020)|(y==2021),True,False)]\n",
    "gme_wr['Label']=[v for val in gme_labels.values for v in val]\n",
    "gme_wr"
   ]
  },
  {
   "cell_type": "code",
   "execution_count": null,
   "id": "be8ee763-85b1-4080-9f88-4913c34357d4",
   "metadata": {
    "tags": []
   },
   "outputs": [],
   "source": [
    "gme_wr_2020 = gme_wr.query('Year == 2020')\n",
    "gme_wr_2021 = gme_wr.query('Year == 2021')"
   ]
  },
  {
   "cell_type": "code",
   "execution_count": null,
   "id": "9af15ff4-4e33-4355-836c-0f679ed39139",
   "metadata": {
    "tags": []
   },
   "outputs": [],
   "source": [
    "\n",
    "# for i in range(0,53):\n",
    "#     plt.annotate(gme_wr.iloc[i,1],(gme_wr.iloc[i,2],gme_wr.iloc[i,3]),rotation=0)\n",
    "# plt.xlabel(\"Return\");plt.ylabel('Standard Deviation');\n",
    "# plt.title('2020 GameStop Weekly Return, Standard Deviation, and Label')\n",
    "# plt.savefig('./GME_2020_R_SD')\n",
    "fig = plt.figure(1,figsize=(10,10))\n",
    "plt.subplot(221)\n",
    "plt.scatter(data=gme_wr_2020, x='mean_return', y='volatility',c='Label')\n",
    "plt.plot([0,0],[0,23])\n",
    "for i in range(0,53):\n",
    "    plt.annotate(gme_wr.iloc[i,1],(gme_wr.iloc[i,2],gme_wr.iloc[i,3]),rotation=0)\n",
    "plt.xlabel(\"Return\");plt.ylabel('Standard Deviation');\n",
    "plt.title(f'2020 GameStop $\\mu, \\sigma$')\n",
    "plt.savefig('./GME_2020_R_SD')\n",
    "plt.ylim(1,22)\n",
    "\n",
    "plt.subplot(222)\n",
    "plt.scatter(data=gme_wr_2021, x='mean_return', y='volatility',c='Label')\n",
    "plt.plot([0,0],[0,72])\n",
    "for i in range(0,52):\n",
    "    plt.annotate(gme_wr_2021.iloc[i,1],\n",
    "                 (gme_wr_2021.iloc[i,2],gme_wr_2021.iloc[i,3]),rotation=0)\n",
    "plt.xlabel(\"Return\");plt.ylabel('Standard Deviation');\n",
    "plt.title('2021 GameStop $\\mu, \\sigma$')\n",
    "plt.ylim(1,72)\n",
    "plt.savefig('./GME_2021_R_SD_Broad_View')\n",
    "plt.subplot(223)\n",
    "plt.scatter(data=gme_wr_2021, x='mean_return', y='volatility',c='Label')\n",
    "plt.plot([0,0],[0,13])\n",
    "for i in range(0,52):\n",
    "    plt.annotate(gme_wr_2021.iloc[i,1],\n",
    "                 (gme_wr_2021.iloc[i,2],gme_wr_2021.iloc[i,3]),rotation=0)\n",
    "plt.xlabel(\"Return\");plt.ylabel('Standard Deviation');\n",
    "plt.title('2021 GameStop $\\mu, \\sigma$ Zoomed')\n",
    "plt.xlim(-7.5,7.5)\n",
    "plt.ylim(1.5,13)\n",
    "plt.savefig('./gme_plot')"
   ]
  },
  {
   "cell_type": "code",
   "execution_count": null,
   "id": "ef7d2720-df73-4074-ac65-da8d94d0bb4d",
   "metadata": {
    "tags": []
   },
   "outputs": [],
   "source": [
    "gme_wr_2021.shape"
   ]
  },
  {
   "cell_type": "code",
   "execution_count": null,
   "id": "354bd685-d516-4e55-ac06-93dee17d2f86",
   "metadata": {
    "tags": []
   },
   "outputs": [],
   "source": [
    "plt.scatter(data=gme_wr_2021, x='mean_return', y='volatility',c='Label')\n",
    "for i in range(0,52):\n",
    "    plt.annotate(gme_wr_2021.iloc[i,1],\n",
    "                 (gme_wr_2021.iloc[i,2],gme_wr_2021.iloc[i,3]),rotation=0)\n",
    "plt.xlabel(\"Return\");plt.ylabel('Standard Deviation');\n",
    "plt.title('2021 GameStop Weekly Return, Standard Deviation, and Label')\n",
    "plt.savefig('./GME_2021_R_SD_Broad_View')"
   ]
  },
  {
   "cell_type": "code",
   "execution_count": null,
   "id": "8d8538e3-bfc5-41b8-b2ef-cf4549915edc",
   "metadata": {
    "tags": []
   },
   "outputs": [],
   "source": [
    "plt.scatter(data=gme_wr_2021, x='mean_return', y='volatility',c='Label')\n",
    "for i in range(0,52):\n",
    "    plt.annotate(gme_wr_2021.iloc[i,1],\n",
    "                 (gme_wr_2021.iloc[i,2],gme_wr_2021.iloc[i,3]),rotation=0)\n",
    "plt.xlabel(\"Return\");plt.ylabel('Standard Deviation');\n",
    "plt.title('2021 GameStop Weekly Return, Standard Deviation, and Label Zoomed')\n",
    "plt.xlim(-7.5,7.5)\n",
    "plt.ylim(0,13)"
   ]
  },
  {
   "cell_type": "code",
   "execution_count": null,
   "id": "ea7fa96a-fdda-4b85-9a17-2981e41d38a3",
   "metadata": {
    "tags": []
   },
   "outputs": [],
   "source": [
    "gme2021 = gme45.query('Year==2021')"
   ]
  },
  {
   "cell_type": "code",
   "execution_count": null,
   "id": "ecb3e54d-46e1-4efe-b836-417b10674b27",
   "metadata": {
    "tags": []
   },
   "outputs": [],
   "source": [
    "gme2021.index = range(gme2021.shape[0])"
   ]
  },
  {
   "cell_type": "code",
   "execution_count": null,
   "id": "4be547dd-140b-4bc7-b740-665bc2f9389c",
   "metadata": {
    "tags": []
   },
   "outputs": [],
   "source": [
    "gme2021[gme2021['Week_Number']==1]"
   ]
  },
  {
   "cell_type": "code",
   "execution_count": null,
   "id": "d59d76d0-e2f2-4b03-a74e-e62113d02302",
   "metadata": {
    "tags": []
   },
   "outputs": [],
   "source": [
    "def buy_and_hold(stock):\n",
    "    return list(100*(stock.tail(1)[\"Adj Close\"].values.astype(float))/\\\n",
    "            stock.head(1)['Open'].values.astype(float))[0]"
   ]
  },
  {
   "cell_type": "markdown",
   "id": "49050bba-9420-4684-b8ac-43a77fd6aef8",
   "metadata": {
    "tags": []
   },
   "source": [
    "weekdays=['Monday','Tuesday','Wednesday','Thursday','Friday']\n",
    "\n",
    "def min_weekday(days):\n",
    "    for day in weekdays:\n",
    "        if day in days:\n",
    "            return day\n",
    "        continue\n",
    "\n",
    "def max_weekday(days):\n",
    "    for day in weekdays[::-1]:\n",
    "        if day in days:\n",
    "            return day\n",
    "        continue"
   ]
  },
  {
   "cell_type": "markdown",
   "id": "1ac119d3-3fb8-45f8-9a07-152470e3bdbd",
   "metadata": {
    "tags": []
   },
   "source": [
    "max_weekday(['Tuesday','Wednesday'])"
   ]
  },
  {
   "cell_type": "code",
   "execution_count": null,
   "id": "d9f6fe71-b0d5-4f7f-bb02-88018432249c",
   "metadata": {
    "tags": []
   },
   "outputs": [],
   "source": [
    "gme2021.columns"
   ]
  },
  {
   "cell_type": "code",
   "execution_count": null,
   "id": "c1795ed2-8b99-49ec-8569-e346889de2e0",
   "metadata": {},
   "outputs": [],
   "source": [
    "def trade_from_open_close(stock):\n",
    "    '''Return a dataframe with weekly return factors based on first day of week\n",
    "    open and last day of week close'''\n",
    "    stock_by_week = pd.DataFrame(\n",
    "        columns=['Year','Week_Number',\"Open\",\"Adj Close\", 'Return', \"Label\"])\n",
    "    y = stock.Year.unique()[0]\n",
    "    \n",
    "    for inx, week_num in enumerate(stock[\"Week_Number\"].unique()):\n",
    "        this_week = stock[stock[\"Week_Number\"]==week_num]\n",
    "        o = this_week.head(1)['Open'].values[0]\n",
    "        ac = this_week.tail(1)['Adj Close'].values[0]\n",
    "        r = 1+(ac-o)/o\n",
    "        l = this_week.head(1)['Label'].values[0]\n",
    "        stock_by_week.loc[inx,:] = [y,week_num,o,ac,r,l]\n",
    "    return stock_by_week"
   ]
  },
  {
   "cell_type": "code",
   "execution_count": null,
   "id": "c167e2ed-389b-41d6-b842-bca638467309",
   "metadata": {
    "tags": []
   },
   "outputs": [],
   "source": [
    "gme_sbw = trade_from_open_close(gme2021)"
   ]
  },
  {
   "cell_type": "markdown",
   "id": "d565bbaf-f89c-49f1-84a5-20067d7d4162",
   "metadata": {},
   "source": [
    "Cumulative returns: Buy open, Sell Close, Trade Green.  138.15x return"
   ]
  },
  {
   "cell_type": "code",
   "execution_count": null,
   "id": "40ebaf6f-18d1-4c0a-beca-1dc0624b7002",
   "metadata": {
    "tags": []
   },
   "outputs": [],
   "source": [
    "labels = gme_sbw.Label\n",
    "returns = gme_sbw.Return\n",
    "trade_green = np.round(100*np.cumprod(np.where(labels=='Green',\n",
    "                             returns.values.astype(float),1)),2)\n",
    "trade_all_weeks = np.round(100*np.cumprod(returns.values.astype(float)),2)\n",
    "trade_green,trade_all_weeks,buy_and_hold(gme2021)"
   ]
  },
  {
   "cell_type": "code",
   "execution_count": null,
   "id": "a864966e-775e-4751-afd4-538aaafc88ee",
   "metadata": {
    "tags": []
   },
   "outputs": [],
   "source": [
    "def buy_hold_weekly(stock):\n",
    "    tail_ac = []\n",
    "    o = stock.head(1)['Open']\n",
    "    for wk in sorted(stock['Week_Number'].unique()):\n",
    "        ac = stock[stock[\"Week_Number\"] == \\\n",
    "                              wk].tail(1)['Adj Close'].values[0]\n",
    "        tail_ac.append(ac)\n",
    "    r = np.array(tail_ac)/o.values[0]\n",
    "    return r"
   ]
  },
  {
   "cell_type": "code",
   "execution_count": null,
   "id": "0d083720-7dbb-46f0-944d-2c7a1964b87a",
   "metadata": {},
   "outputs": [],
   "source": [
    "gme2021.eval()"
   ]
  },
  {
   "cell_type": "code",
   "execution_count": null,
   "id": "78ac4714-f178-4b81-8ab9-11cd0c6b405a",
   "metadata": {
    "tags": []
   },
   "outputs": [],
   "source": [
    "bh_weekly = np.round(100*buy_hold_weekly(gme2021),2)\n",
    "bh_weekly"
   ]
  },
  {
   "cell_type": "markdown",
   "id": "40c0ede4-6c9d-4fdd-bc5c-ca78c9e9f544",
   "metadata": {},
   "source": [
    "From above, a \\\\$100 portfolio kept in the market on green weeks would accumulate to \\\\$13,814.94, while a portfolio that trades on all weeks would accumulate to $242.24.  Meanwhile, a simple buy and hold approach that does not miss weekend trading would accumulate to \\\\$817.47, which highlights the importance here of being invested between the Friday close and the Monday open."
   ]
  },
  {
   "cell_type": "code",
   "execution_count": null,
   "id": "869cc4e4-8b1c-43fc-8254-323be82dce60",
   "metadata": {},
   "outputs": [],
   "source": [
    "plt.plot(range(len(trade_green)),trade_green,\n",
    "        range(len(trade_all_weeks)),trade_all_weeks,\n",
    "        range(len(bh_weekly)),bh_weekly)\n",
    "plt.legend(['trade green','trade all weeks','buy and hold'])\n",
    "plt.xlabel('Week #')\n",
    "plt.ylabel('Portfolio Dollar Value')\n",
    "plt.title('GameStop $100 Accumulation')\n",
    "plt.savefig('./gme_100_accumulation.jpg')"
   ]
  },
  {
   "cell_type": "code",
   "execution_count": null,
   "id": "c5b4a785-041e-433f-8c26-1c4a552474a7",
   "metadata": {},
   "outputs": [],
   "source": []
  }
 ],
 "metadata": {
  "kernelspec": {
   "display_name": "Python 3 (ipykernel)",
   "language": "python",
   "name": "python3"
  },
  "language_info": {
   "codemirror_mode": {
    "name": "ipython",
    "version": 3
   },
   "file_extension": ".py",
   "mimetype": "text/x-python",
   "name": "python",
   "nbconvert_exporter": "python",
   "pygments_lexer": "ipython3",
   "version": "3.9.18"
  }
 },
 "nbformat": 4,
 "nbformat_minor": 5
}
