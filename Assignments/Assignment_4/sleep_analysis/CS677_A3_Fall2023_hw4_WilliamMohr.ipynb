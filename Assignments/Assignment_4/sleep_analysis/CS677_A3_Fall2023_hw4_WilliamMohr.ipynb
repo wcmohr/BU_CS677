{
 "cells": [
  {
   "cell_type": "code",
   "execution_count": 1,
   "id": "fb48f487-f8ab-4ce5-aa2b-cffed273b533",
   "metadata": {
    "tags": []
   },
   "outputs": [],
   "source": [
    "import pandas as pd\n",
    "import numpy as np"
   ]
  },
  {
   "cell_type": "markdown",
   "id": "f2b5eac3-964f-4ca5-ab42-0017375d024b",
   "metadata": {
    "tags": []
   },
   "source": [
    "##### Q1\n",
    "load the ”Sleep Efficiency.csv” file into Pandas"
   ]
  },
  {
   "cell_type": "code",
   "execution_count": 2,
   "id": "0ce3aa7e-bf47-4f2a-aae1-d28a0f0a7796",
   "metadata": {
    "tags": []
   },
   "outputs": [],
   "source": [
    "sleep = pd.read_csv('./Sleep_Efficiency.csv')"
   ]
  },
  {
   "cell_type": "markdown",
   "id": "73121def-58e7-4196-b0ff-57c5ebb158c7",
   "metadata": {
    "jp-MarkdownHeadingCollapsed": true,
    "tags": []
   },
   "source": [
    "##### Q2 \n",
    "how many different entries are there for each columns."
   ]
  },
  {
   "cell_type": "code",
   "execution_count": 3,
   "id": "49214003-76a9-47d0-97f6-cb44cd8a12e1",
   "metadata": {
    "tags": []
   },
   "outputs": [
    {
     "data": {
      "text/plain": [
       "ID                        452.0\n",
       "Age                       452.0\n",
       "Sleep duration            452.0\n",
       "Sleep efficiency          452.0\n",
       "REM sleep percentage      452.0\n",
       "Deep sleep percentage     452.0\n",
       "Light sleep percentage    452.0\n",
       "Awakenings                432.0\n",
       "Caffeine consumption      427.0\n",
       "Alcohol consumption       436.0\n",
       "Exercise frequency        446.0\n",
       "Name: count, dtype: float64"
      ]
     },
     "execution_count": 3,
     "metadata": {},
     "output_type": "execute_result"
    }
   ],
   "source": [
    "sleep.describe().loc['count']"
   ]
  },
  {
   "cell_type": "markdown",
   "id": "0e12b433-b8df-4d83-a888-8d4da7e61c2e",
   "metadata": {},
   "source": [
    "All columns have 452 observations except for awakening (432), Caffeine Cons. (427), Alcohol Cons. (436), and Exercise Freq. (446)"
   ]
  },
  {
   "cell_type": "markdown",
   "id": "4306cf56-0e56-4bc9-b317-9b5fd05fdfc6",
   "metadata": {
    "tags": []
   },
   "source": [
    "##### Q3 \n",
    "how many entries are missing for each column"
   ]
  },
  {
   "cell_type": "code",
   "execution_count": 4,
   "id": "4dddb6eb-cd6e-4b22-ab32-ac2e70136e4d",
   "metadata": {
    "tags": []
   },
   "outputs": [
    {
     "data": {
      "text/plain": [
       "ID                         0.0\n",
       "Age                        0.0\n",
       "Sleep duration             0.0\n",
       "Sleep efficiency           0.0\n",
       "REM sleep percentage       0.0\n",
       "Deep sleep percentage      0.0\n",
       "Light sleep percentage     0.0\n",
       "Awakenings                20.0\n",
       "Caffeine consumption      25.0\n",
       "Alcohol consumption       16.0\n",
       "Exercise frequency         6.0\n",
       "Name: count, dtype: float64"
      ]
     },
     "execution_count": 4,
     "metadata": {},
     "output_type": "execute_result"
    }
   ],
   "source": [
    "452 - sleep.describe().loc['count']"
   ]
  },
  {
   "cell_type": "code",
   "execution_count": 5,
   "id": "957e0a7f-95ce-41ac-8806-d93bffb0a541",
   "metadata": {
    "tags": []
   },
   "outputs": [
    {
     "data": {
      "text/plain": [
       "67"
      ]
     },
     "execution_count": 5,
     "metadata": {},
     "output_type": "execute_result"
    }
   ],
   "source": [
    "sum(sleep.isna().sum()) # There are 67 individual sleeppoints that are missing"
   ]
  },
  {
   "cell_type": "code",
   "execution_count": 6,
   "id": "b738138f-c864-426c-82f1-513b4f51f269",
   "metadata": {
    "tags": []
   },
   "outputs": [
    {
     "data": {
      "text/plain": [
       "0    386\n",
       "1     65\n",
       "2      1\n",
       "Name: count, dtype: int64"
      ]
     },
     "execution_count": 6,
     "metadata": {},
     "output_type": "execute_result"
    }
   ],
   "source": [
    "sleep.isna().sum(axis=1).value_counts() # one person is missing two sleeppoints"
   ]
  },
  {
   "cell_type": "code",
   "execution_count": 7,
   "id": "9443bd7d-ca61-481a-a758-64f3df4c3574",
   "metadata": {
    "tags": []
   },
   "outputs": [
    {
     "data": {
      "text/plain": [
       "66"
      ]
     },
     "execution_count": 7,
     "metadata": {},
     "output_type": "execute_result"
    }
   ],
   "source": [
    "sum(sleep.isna().sum(axis=1)>0) # 66 Individuals have missing sleep"
   ]
  },
  {
   "cell_type": "code",
   "execution_count": 8,
   "id": "8f9166d6-4c75-48c4-95bb-08799e2703a8",
   "metadata": {
    "tags": []
   },
   "outputs": [
    {
     "data": {
      "text/plain": [
       "array(['Awakenings', 'Caffeine consumption', 'Alcohol consumption',\n",
       "       'Exercise frequency'], dtype=object)"
      ]
     },
     "execution_count": 8,
     "metadata": {},
     "output_type": "execute_result"
    }
   ],
   "source": [
    "missing_features = sleep.loc[:,sleep.isna().sum()!=0].columns.values\n",
    "missing_features"
   ]
  },
  {
   "cell_type": "markdown",
   "id": "ca36a4a2-7764-40da-9ef8-84eac341ef02",
   "metadata": {},
   "source": [
    "Awakenings is missing 20 observations, Caffeine 25, Alcohol 16, and Exercise 6.  All other columns have no missing values."
   ]
  },
  {
   "cell_type": "markdown",
   "id": "63678f83-4260-4f8f-a9bb-dd408799739e",
   "metadata": {},
   "source": [
    "##### Q4\n",
    "for each missing entry, impute the missing values using the\n",
    "following procedure:\\\n",
    "a) find 5 peoples with the same gender with the closest age\n",
    "(”neighbors”)\\\n",
    "b) compute the average of these ”neighbors” as the value"
   ]
  },
  {
   "cell_type": "markdown",
   "id": "7cd0b994-f714-422e-b403-f74a97f345f8",
   "metadata": {},
   "source": [
    "Steps: \n",
    "1) find columns with missing values.\n",
    "2) get indices of missing values and for each missing value and store missing column indices:\n",
    "    a) get 5 closest same-sex neighbors by age and store their info for missing values.\n",
    "    b) average and impute"
   ]
  },
  {
   "cell_type": "markdown",
   "id": "40710511-3dad-4d08-a1a0-486845c29c0b",
   "metadata": {},
   "source": [
    "Outer loop: missing features\n",
    "inner loop (per feature): missing observations"
   ]
  },
  {
   "cell_type": "markdown",
   "id": "bd083113-35b3-46dc-b140-cc261257c946",
   "metadata": {},
   "source": [
    "def rand_select_cdf(inx_vals):\n",
    "    \"\"\"take in a list of (index, value) tuples and return a list of the indices\n",
    "    corresponding to the smallest 5 values, where any ties are randomly \n",
    "    broken.\"\"\"\n",
    "    index_list = \n"
   ]
  },
  {
   "cell_type": "code",
   "execution_count": 9,
   "id": "e655640c-ecdf-4a00-9a41-35900f35d4b7",
   "metadata": {
    "tags": []
   },
   "outputs": [],
   "source": [
    "def neighbors(data, feature, impute_dict):\n",
    "    \"\"\"args: dataFrame with missing values, the feature to be imputed,\n",
    "    and the dictionary in which to store the imputed values\"\"\"\n",
    "    data = data[['Age','ID','Gender',feature]]\n",
    "    miss_feat = data[data[feature].isna()]\n",
    "    miss_feat_m = miss_feat[miss_feat.Gender == 'Male']\n",
    "    miss_feat_f = miss_feat[miss_feat.Gender == 'Female']\n",
    "    has_feat_mask = ~data.index.isin(miss_feat.index)\n",
    "    others_m = data[np.bitwise_and(has_feat_mask,data.Gender=='Male')]\n",
    "    others_f = data[np.bitwise_and(has_feat_mask,data.Gender=='Female')]\n",
    "    for sex in ['Male','Female']:\n",
    "        if sex == 'Female':\n",
    "            for inx in miss_feat_f.index:   \n",
    "                age_diff = others_f.Age - miss_feat_f['Age'][inx]\n",
    "                \n",
    "                nearest_inx = age_diff.abs().sort_values()[0:5].index\n",
    "                nearest_mean = others_f[feature][nearest_inx].values.mean()\n",
    "                if inx in impute_dict:\n",
    "                    impute_dict[inx] = impute_dict[inx].update({feature:\n",
    "                                                    (nearest_mean,nearest_inx)})\n",
    "                    \n",
    "                else:\n",
    "                    impute_dict[inx] = {feature: (nearest_mean,nearest_inx)}\n",
    "        else:\n",
    "            for inx in miss_feat_m.index:\n",
    "                age_diff = others_m.Age - miss_feat_m['Age'][inx]\n",
    "                nearest_inx = age_diff.abs().sort_values()[0:5].index\n",
    "                nearest_mean = others_m[feature][nearest_inx].values.mean()\n",
    "                if inx in impute_dict:\n",
    "                    impute_dict[inx].update({feature:\n",
    "                                                    (nearest_mean,nearest_inx)})\n",
    "                else:\n",
    "                    impute_dict[inx] = {feature: (nearest_mean,nearest_inx)}\n",
    "    return impute_dict"
   ]
  },
  {
   "cell_type": "code",
   "execution_count": 10,
   "id": "ba7f60ee-79cb-43be-a0ed-fdfbc9bb30b4",
   "metadata": {
    "tags": []
   },
   "outputs": [],
   "source": [
    "full_impute_dict = {}\n",
    "for feature in missing_features:\n",
    "    full_impute_dict.update(neighbors(sleep,feature,full_impute_dict))"
   ]
  },
  {
   "cell_type": "code",
   "execution_count": 11,
   "id": "8f4489b6-341e-4c0f-b6e2-d2565c0ea505",
   "metadata": {
    "collapsed": true,
    "jupyter": {
     "outputs_hidden": true
    },
    "tags": []
   },
   "outputs": [
    {
     "data": {
      "text/plain": [
       "{19: {'Awakenings': (1.0, Index([222, 67, 366, 199, 41], dtype='int64'))},\n",
       " 85: {'Awakenings': (1.4, Index([233, 340, 7, 97, 344], dtype='int64'))},\n",
       " 123: {'Awakenings': (2.0, Index([424, 54, 31, 451, 65], dtype='int64'))},\n",
       " 138: {'Awakenings': (1.4, Index([420, 72, 11, 438, 80], dtype='int64'))},\n",
       " 143: {'Awakenings': (2.0, Index([125, 345, 321, 439, 313], dtype='int64'))},\n",
       " 170: {'Awakenings': (2.0, Index([30, 444, 192, 266, 20], dtype='int64'))},\n",
       " 249: {'Awakenings': (1.2, Index([379, 210, 209, 200, 155], dtype='int64'))},\n",
       " 337: {'Awakenings': (1.0, Index([222, 67, 366, 199, 41], dtype='int64'))},\n",
       " 352: {'Awakenings': (1.0, Index([222, 67, 366, 199, 41], dtype='int64'))},\n",
       " 404: {'Awakenings': (2.0, Index([30, 444, 192, 266, 20], dtype='int64')),\n",
       "  'Caffeine consumption': (10.0,\n",
       "   Index([444, 192, 107, 266, 30], dtype='int64'))},\n",
       " 135: {'Awakenings': (0.4, Index([264, 184, 277, 174, 387], dtype='int64'))},\n",
       " 149: {'Awakenings': (2.4, Index([128, 171, 310, 44, 98], dtype='int64'))},\n",
       " 244: {'Awakenings': (0.8, Index([276, 140, 33, 261, 49], dtype='int64'))},\n",
       " 287: {'Awakenings': (1.8, Index([449, 105, 147, 166, 17], dtype='int64'))},\n",
       " 288: {'Awakenings': (2.4, Index([59, 58, 44, 63, 380], dtype='int64'))},\n",
       " 307: {'Awakenings': (2.4, Index([221, 423, 422, 8, 342], dtype='int64'))},\n",
       " 315: {'Awakenings': (1.8, Index([449, 105, 147, 166, 17], dtype='int64'))},\n",
       " 327: {'Awakenings': (1.8, Index([270, 103, 177, 194, 335], dtype='int64'))},\n",
       " 407: {'Awakenings': (1.0, Index([380, 256, 298, 63, 246], dtype='int64'))},\n",
       " 434: {'Awakenings': (1.2, Index([38, 414, 141, 309, 440], dtype='int64'))},\n",
       " 24: {'Caffeine consumption': (10.0,\n",
       "   Index([444, 192, 107, 266, 30], dtype='int64'))},\n",
       " 57: {'Caffeine consumption': (0.0,\n",
       "   Index([93, 78, 75, 265, 417], dtype='int64'))},\n",
       " 64: {'Caffeine consumption': (50.0,\n",
       "   Index([117, 347, 159, 62, 251], dtype='int64'))},\n",
       " 114: {'Caffeine consumption': (30.0,\n",
       "   Index([230, 240, 21, 251, 117], dtype='int64'))},\n",
       " 136: {'Caffeine consumption': (30.0,\n",
       "   Index([243, 352, 429, 199, 366], dtype='int64'))},\n",
       " 164: {'Caffeine consumption': (0.0,\n",
       "   Index([88, 122, 142, 376, 401], dtype='int64'))},\n",
       " 175: {'Caffeine consumption': (40.0,\n",
       "   Index([160, 161, 146, 239, 358], dtype='int64'))},\n",
       " 203: {'Caffeine consumption': (30.0,\n",
       "   Index([294, 224, 402, 36, 55], dtype='int64'))},\n",
       " 321: {'Caffeine consumption': (5.0,\n",
       "   Index([66, 248, 313, 302, 439], dtype='int64'))},\n",
       " 355: {'Caffeine consumption': (15.0,\n",
       "   Index([92, 383, 373, 294, 69], dtype='int64'))},\n",
       " 390: {'Caffeine consumption': (20.0,\n",
       "   Index([419, 188, 65, 299, 216], dtype='int64'))},\n",
       " 5: {'Caffeine consumption': (35.0,\n",
       "   Index([232, 246, 389, 131, 14], dtype='int64'))},\n",
       " 26: {'Caffeine consumption': (35.0,\n",
       "   Index([232, 246, 389, 131, 14], dtype='int64'))},\n",
       " 37: {'Caffeine consumption': (20.0,\n",
       "   Index([351, 48, 16, 377, 234], dtype='int64'))},\n",
       " 60: {'Caffeine consumption': (30.0,\n",
       "   Index([198, 371, 71, 205, 385], dtype='int64'))},\n",
       " 63: {'Caffeine consumption': (25.0,\n",
       "   Index([256, 298, 380, 407, 246], dtype='int64'))},\n",
       " 169: {'Caffeine consumption': (30.0,\n",
       "   Index([394, 102, 218, 308, 360], dtype='int64'))},\n",
       " 186: {'Caffeine consumption': (20.0,\n",
       "   Index([261, 244, 238, 276, 220], dtype='int64'))},\n",
       " 215: {'Caffeine consumption': (25.0,\n",
       "   Index([311, 365, 388, 48, 156], dtype='int64'))},\n",
       " 270: {'Caffeine consumption': (35.0,\n",
       "   Index([103, 327, 177, 194, 335], dtype='int64'))},\n",
       " 324: {'Caffeine consumption': (35.0,\n",
       "   Index([103, 327, 177, 194, 335], dtype='int64'))},\n",
       " 392: {'Caffeine consumption': (20.0,\n",
       "   Index([261, 244, 238, 276, 220], dtype='int64'))},\n",
       " 442: {'Caffeine consumption': (35.0,\n",
       "   Index([447, 333, 47, 297, 357], dtype='int64'))},\n",
       " 449: {'Caffeine consumption': (25.0,\n",
       "   Index([17, 83, 105, 147, 166], dtype='int64'))},\n",
       " 20: {'Alcohol consumption': (2.2,\n",
       "   Index([107, 444, 24, 350, 170], dtype='int64'))},\n",
       " 75: {'Alcohol consumption': (1.6,\n",
       "   Index([417, 338, 265, 421, 317], dtype='int64'))},\n",
       " 129: {'Alcohol consumption': (2.4,\n",
       "   Index([304, 248, 439, 302, 125], dtype='int64'))},\n",
       " 187: {'Alcohol consumption': (2.4,\n",
       "   Index([306, 172, 214, 285, 269], dtype='int64'))},\n",
       " 192: {'Alcohol consumption': (2.2,\n",
       "   Index([107, 444, 24, 350, 170], dtype='int64'))},\n",
       " 395: {'Alcohol consumption': (0.6,\n",
       "   Index([437, 61, 367, 368, 393], dtype='int64'))},\n",
       " 405: {'Alcohol consumption': (0.6,\n",
       "   Index([437, 61, 367, 368, 393], dtype='int64'))},\n",
       " 420: {'Alcohol consumption': (2.6,\n",
       "   Index([72, 318, 432, 138, 438], dtype='int64'))},\n",
       " 426: {'Alcohol consumption': (2.6,\n",
       "   Index([229, 32, 304, 378, 172], dtype='int64'))},\n",
       " 140: {'Alcohol consumption': (1.4,\n",
       "   Index([49, 276, 261, 244, 238], dtype='int64'))},\n",
       " 148: {'Alcohol consumption': (1.4,\n",
       "   Index([289, 425, 329, 297, 275], dtype='int64'))},\n",
       " 158: {'Alcohol consumption': (2.8,\n",
       "   Index([121, 53, 332, 284, 9], dtype='int64'))},\n",
       " 185: {'Alcohol consumption': (0.6,\n",
       "   Index([232, 131, 5, 246, 14], dtype='int64'))},\n",
       " 219: {'Alcohol consumption': (3.0,\n",
       "   Index([332, 121, 9, 53, 211], dtype='int64'))},\n",
       " 336: {'Alcohol consumption': (0.6,\n",
       "   Index([151, 271, 182, 163, 416], dtype='int64'))},\n",
       " 440: {'Alcohol consumption': (1.4,\n",
       "   Index([38, 235, 309, 141, 434], dtype='int64'))},\n",
       " 62: {'Exercise frequency': (2.0,\n",
       "   Index([81, 362, 64, 13, 159], dtype='int64'))},\n",
       " 304: {'Exercise frequency': (2.6,\n",
       "   Index([66, 345, 321, 313, 302], dtype='int64'))},\n",
       " 366: {'Exercise frequency': (2.2,\n",
       "   Index([429, 199, 41, 352, 448], dtype='int64'))},\n",
       " 446: {'Exercise frequency': (2.8,\n",
       "   Index([112, 428, 28, 216, 115], dtype='int64'))},\n",
       " 33: {'Exercise frequency': (3.2,\n",
       "   Index([400, 431, 186, 261, 392], dtype='int64'))},\n",
       " 262: {'Exercise frequency': (1.4,\n",
       "   Index([204, 145, 206, 43, 70], dtype='int64'))}}"
      ]
     },
     "execution_count": 11,
     "metadata": {},
     "output_type": "execute_result"
    }
   ],
   "source": [
    "full_impute_dict"
   ]
  },
  {
   "cell_type": "markdown",
   "id": "b665747d-6923-49b1-a393-9faca1e70126",
   "metadata": {},
   "source": [
    "Now take the mean values and add to the sleepframes"
   ]
  },
  {
   "cell_type": "code",
   "execution_count": 12,
   "id": "b15f538f-2a1e-41cb-bc37-9892038c6aeb",
   "metadata": {
    "tags": []
   },
   "outputs": [],
   "source": [
    "for inx in full_impute_dict:\n",
    "    for feat in full_impute_dict[inx]:\n",
    "        sleep.loc[inx,feat] = full_impute_dict[inx][feat][0]"
   ]
  },
  {
   "cell_type": "markdown",
   "id": "d4eb985a-15e4-4599-9922-e9c921068948",
   "metadata": {
    "tags": []
   },
   "source": [
    "##### Q5 \n",
    "divide all people into the following groups:\n",
    "* Group 1: children (1-12)\n",
    "* Group 2: teenagers (13-17)\n",
    "* Group 3: young adults (18-30)\n",
    "* Group 4: adults (31-60)\n",
    "* Group 5: older adults (65+)\n",
    "\n",
    "For each group, compute the mean and standard deviation\n",
    "and summarize them in three tables (like one below): one\n",
    "table for females, one tables for males and one combined\n",
    "\n",
    "<img src='./table_q5.png' width=400 height=300/>\n"
   ]
  },
  {
   "cell_type": "code",
   "execution_count": 13,
   "id": "872f30b4-c72b-4c4f-aadc-007779d36bfc",
   "metadata": {
    "tags": []
   },
   "outputs": [
    {
     "data": {
      "text/plain": [
       "Index(['ID', 'Age', 'Gender', 'Bedtime', 'Wakeup time', 'Sleep duration',\n",
       "       'Sleep efficiency', 'REM sleep percentage', 'Deep sleep percentage',\n",
       "       'Light sleep percentage', 'Awakenings', 'Caffeine consumption',\n",
       "       'Alcohol consumption', 'Smoking status', 'Exercise frequency'],\n",
       "      dtype='object')"
      ]
     },
     "execution_count": 13,
     "metadata": {},
     "output_type": "execute_result"
    }
   ],
   "source": [
    "sleep.columns"
   ]
  },
  {
   "cell_type": "code",
   "execution_count": 14,
   "id": "d3220b06-9ac0-433f-82e8-fae952fd421a",
   "metadata": {
    "tags": []
   },
   "outputs": [],
   "source": [
    "sleep['Smoking status'] = [1 if 'Yes' else 0 for smoke in sleep['Smoking status']]"
   ]
  },
  {
   "cell_type": "code",
   "execution_count": 15,
   "id": "7e0ea0f4-e3db-4ebd-88d6-b791f0703bef",
   "metadata": {
    "tags": []
   },
   "outputs": [],
   "source": [
    "sleep_numeric = sleep.select_dtypes(include=['int64','float64']).copy()"
   ]
  },
  {
   "cell_type": "code",
   "execution_count": 16,
   "id": "79947f40-19fe-4d8a-a75a-21241d5bbdd2",
   "metadata": {
    "tags": []
   },
   "outputs": [],
   "source": [
    "metric_cols = ['Age','Sleep duration','Sleep efficiency', 'REM sleep percentage', 'Deep sleep percentage',\n",
    "       'Light sleep percentage', 'Awakenings','Smoking status','Exercise frequency']"
   ]
  },
  {
   "cell_type": "code",
   "execution_count": 26,
   "id": "81cf5d21-0194-4cfa-8b31-a68a6f5577fa",
   "metadata": {
    "tags": []
   },
   "outputs": [],
   "source": [
    "age_groups = [('children',1,12),('teenagers',13,17),('young_adults',18,30),\n",
    "          ('adults',31,60),('older_adults',65,125)]\n",
    "females = sleep[sleep.Gender=='Female']\n",
    "males = sleep[sleep.Gender=='Male']"
   ]
  },
  {
   "cell_type": "code",
   "execution_count": 28,
   "id": "d3c279b1-9707-461f-89b0-a0fa0b120e89",
   "metadata": {
    "tags": []
   },
   "outputs": [
    {
     "data": {
      "text/html": [
       "<div>\n",
       "<style scoped>\n",
       "    .dataframe tbody tr th:only-of-type {\n",
       "        vertical-align: middle;\n",
       "    }\n",
       "\n",
       "    .dataframe tbody tr th {\n",
       "        vertical-align: top;\n",
       "    }\n",
       "\n",
       "    .dataframe thead th {\n",
       "        text-align: right;\n",
       "    }\n",
       "</style>\n",
       "<table border=\"1\" class=\"dataframe\">\n",
       "  <thead>\n",
       "    <tr style=\"text-align: right;\">\n",
       "      <th></th>\n",
       "      <th>ID</th>\n",
       "      <th>Age</th>\n",
       "      <th>Sleep duration</th>\n",
       "      <th>Sleep efficiency</th>\n",
       "      <th>REM sleep percentage</th>\n",
       "      <th>Deep sleep percentage</th>\n",
       "      <th>Light sleep percentage</th>\n",
       "      <th>Awakenings</th>\n",
       "      <th>Caffeine consumption</th>\n",
       "      <th>Alcohol consumption</th>\n",
       "      <th>Smoking status</th>\n",
       "      <th>Exercise frequency</th>\n",
       "    </tr>\n",
       "  </thead>\n",
       "  <tbody>\n",
       "    <tr>\n",
       "      <th>count</th>\n",
       "      <td>4.000000</td>\n",
       "      <td>4.000000</td>\n",
       "      <td>4.000000</td>\n",
       "      <td>4.000000</td>\n",
       "      <td>4.0</td>\n",
       "      <td>4.0</td>\n",
       "      <td>4.0</td>\n",
       "      <td>4.000000</td>\n",
       "      <td>4.0</td>\n",
       "      <td>4.000000</td>\n",
       "      <td>4.0</td>\n",
       "      <td>4.0</td>\n",
       "    </tr>\n",
       "    <tr>\n",
       "      <th>mean</th>\n",
       "      <td>152.000000</td>\n",
       "      <td>10.500000</td>\n",
       "      <td>8.375000</td>\n",
       "      <td>0.542500</td>\n",
       "      <td>18.0</td>\n",
       "      <td>35.0</td>\n",
       "      <td>45.0</td>\n",
       "      <td>2.500000</td>\n",
       "      <td>0.0</td>\n",
       "      <td>2.750000</td>\n",
       "      <td>1.0</td>\n",
       "      <td>0.0</td>\n",
       "    </tr>\n",
       "    <tr>\n",
       "      <th>std</th>\n",
       "      <td>148.689834</td>\n",
       "      <td>1.290994</td>\n",
       "      <td>0.946485</td>\n",
       "      <td>0.017078</td>\n",
       "      <td>0.0</td>\n",
       "      <td>0.0</td>\n",
       "      <td>0.0</td>\n",
       "      <td>1.290994</td>\n",
       "      <td>0.0</td>\n",
       "      <td>1.707825</td>\n",
       "      <td>0.0</td>\n",
       "      <td>0.0</td>\n",
       "    </tr>\n",
       "    <tr>\n",
       "      <th>min</th>\n",
       "      <td>10.000000</td>\n",
       "      <td>9.000000</td>\n",
       "      <td>7.000000</td>\n",
       "      <td>0.520000</td>\n",
       "      <td>18.0</td>\n",
       "      <td>35.0</td>\n",
       "      <td>45.0</td>\n",
       "      <td>1.000000</td>\n",
       "      <td>0.0</td>\n",
       "      <td>1.000000</td>\n",
       "      <td>1.0</td>\n",
       "      <td>0.0</td>\n",
       "    </tr>\n",
       "    <tr>\n",
       "      <th>25%</th>\n",
       "      <td>42.250000</td>\n",
       "      <td>9.750000</td>\n",
       "      <td>8.125000</td>\n",
       "      <td>0.535000</td>\n",
       "      <td>18.0</td>\n",
       "      <td>35.0</td>\n",
       "      <td>45.0</td>\n",
       "      <td>1.750000</td>\n",
       "      <td>0.0</td>\n",
       "      <td>1.750000</td>\n",
       "      <td>1.0</td>\n",
       "      <td>0.0</td>\n",
       "    </tr>\n",
       "    <tr>\n",
       "      <th>50%</th>\n",
       "      <td>132.500000</td>\n",
       "      <td>10.500000</td>\n",
       "      <td>8.750000</td>\n",
       "      <td>0.545000</td>\n",
       "      <td>18.0</td>\n",
       "      <td>35.0</td>\n",
       "      <td>45.0</td>\n",
       "      <td>2.500000</td>\n",
       "      <td>0.0</td>\n",
       "      <td>2.500000</td>\n",
       "      <td>1.0</td>\n",
       "      <td>0.0</td>\n",
       "    </tr>\n",
       "    <tr>\n",
       "      <th>75%</th>\n",
       "      <td>242.250000</td>\n",
       "      <td>11.250000</td>\n",
       "      <td>9.000000</td>\n",
       "      <td>0.552500</td>\n",
       "      <td>18.0</td>\n",
       "      <td>35.0</td>\n",
       "      <td>45.0</td>\n",
       "      <td>3.250000</td>\n",
       "      <td>0.0</td>\n",
       "      <td>3.500000</td>\n",
       "      <td>1.0</td>\n",
       "      <td>0.0</td>\n",
       "    </tr>\n",
       "    <tr>\n",
       "      <th>max</th>\n",
       "      <td>333.000000</td>\n",
       "      <td>12.000000</td>\n",
       "      <td>9.000000</td>\n",
       "      <td>0.560000</td>\n",
       "      <td>18.0</td>\n",
       "      <td>35.0</td>\n",
       "      <td>45.0</td>\n",
       "      <td>4.000000</td>\n",
       "      <td>0.0</td>\n",
       "      <td>5.000000</td>\n",
       "      <td>1.0</td>\n",
       "      <td>0.0</td>\n",
       "    </tr>\n",
       "  </tbody>\n",
       "</table>\n",
       "</div>"
      ],
      "text/plain": [
       "               ID        Age  Sleep duration  Sleep efficiency  \\\n",
       "count    4.000000   4.000000        4.000000          4.000000   \n",
       "mean   152.000000  10.500000        8.375000          0.542500   \n",
       "std    148.689834   1.290994        0.946485          0.017078   \n",
       "min     10.000000   9.000000        7.000000          0.520000   \n",
       "25%     42.250000   9.750000        8.125000          0.535000   \n",
       "50%    132.500000  10.500000        8.750000          0.545000   \n",
       "75%    242.250000  11.250000        9.000000          0.552500   \n",
       "max    333.000000  12.000000        9.000000          0.560000   \n",
       "\n",
       "       REM sleep percentage  Deep sleep percentage  Light sleep percentage  \\\n",
       "count                   4.0                    4.0                     4.0   \n",
       "mean                   18.0                   35.0                    45.0   \n",
       "std                     0.0                    0.0                     0.0   \n",
       "min                    18.0                   35.0                    45.0   \n",
       "25%                    18.0                   35.0                    45.0   \n",
       "50%                    18.0                   35.0                    45.0   \n",
       "75%                    18.0                   35.0                    45.0   \n",
       "max                    18.0                   35.0                    45.0   \n",
       "\n",
       "       Awakenings  Caffeine consumption  Alcohol consumption  Smoking status  \\\n",
       "count    4.000000                   4.0             4.000000             4.0   \n",
       "mean     2.500000                   0.0             2.750000             1.0   \n",
       "std      1.290994                   0.0             1.707825             0.0   \n",
       "min      1.000000                   0.0             1.000000             1.0   \n",
       "25%      1.750000                   0.0             1.750000             1.0   \n",
       "50%      2.500000                   0.0             2.500000             1.0   \n",
       "75%      3.250000                   0.0             3.500000             1.0   \n",
       "max      4.000000                   0.0             5.000000             1.0   \n",
       "\n",
       "       Exercise frequency  \n",
       "count                 4.0  \n",
       "mean                  0.0  \n",
       "std                   0.0  \n",
       "min                   0.0  \n",
       "25%                   0.0  \n",
       "50%                   0.0  \n",
       "75%                   0.0  \n",
       "max                   0.0  "
      ]
     },
     "execution_count": 28,
     "metadata": {},
     "output_type": "execute_result"
    }
   ],
   "source": [
    "females[females.Age<13].describe()"
   ]
  },
  {
   "cell_type": "code",
   "execution_count": 62,
   "id": "45069a3d-6f75-4f68-9e35-42ccc84a5c5d",
   "metadata": {
    "tags": []
   },
   "outputs": [],
   "source": [
    "def data_msg(m,s):\n",
    "    \"\"\"to handle lack of data to compute mean, std\"\"\"\n",
    "    try: msg = \"mean: {:.2f}, std: {:.2f}\".format(m,s)\n",
    "    except ValueError: msg = 'No_Data'\n",
    "    return msg"
   ]
  },
  {
   "cell_type": "code",
   "execution_count": 63,
   "id": "9761d635-bcc3-4f71-ad86-15dc522d5678",
   "metadata": {
    "tags": []
   },
   "outputs": [],
   "source": [
    "def summary_stats(data, age_group):\n",
    "    std_dev = data[(data.Age>=age_group[1]) & \n",
    "                   (data.Age<=age_group[2])][metric_cols].std()\n",
    "    mean = data[(data.Age>=age_group[1]) & \n",
    "                   (data.Age<=age_group[2])][metric_cols].mean()\n",
    "    std_dev = std_dev.fillna(value='No_Data')\n",
    "    mean = mean.fillna(value='No_Data')\n",
    "    metrics = zip(metric_cols,[data_msg(m,s) for m,s \n",
    "                               in zip (mean,std_dev)])\n",
    "    return {v[0]:v[1] for v in metrics}"
   ]
  },
  {
   "cell_type": "code",
   "execution_count": 43,
   "id": "7cec2460-b728-4935-b7c3-c9e2b027a52e",
   "metadata": {
    "tags": []
   },
   "outputs": [],
   "source": [
    "age_group = age_groups[0]\n",
    "\n",
    "std_dev = males[(males.Age>=age_group[1]) & \n",
    "                   (males.Age<=age_group[2])][metric_cols].std()\n",
    "mean = males[(males.Age>=age_group[1]) & \n",
    "               (males.Age<=age_group[2])][metric_cols].mean()"
   ]
  },
  {
   "cell_type": "code",
   "execution_count": 44,
   "id": "4d333ed2-d50c-479b-93a0-a7a0ee4a607f",
   "metadata": {
    "tags": []
   },
   "outputs": [],
   "source": [
    "metrics = zip(metric_cols,[\"mean: {:.2f}, std: {:.2f}\".format(m,s) for m,s \n",
    "                               in zip (mean,std_dev)])"
   ]
  },
  {
   "cell_type": "code",
   "execution_count": 72,
   "id": "91c37b9b-bb6c-4b1b-8d08-21aca76b8501",
   "metadata": {
    "tags": []
   },
   "outputs": [],
   "source": [
    "male_ag_df = pd.DataFrame()\n",
    "for ag in age_groups:\n",
    "    male_ag_df[ag[0]] = pd.Series(summary_stats(males, ag))\n",
    "male_ag_df.index.name = 'Metric'\n",
    "male_ag_df.columns.name = 'Age_Group'"
   ]
  },
  {
   "cell_type": "code",
   "execution_count": 73,
   "id": "4f185aad-80e7-44cb-b469-165a2c3e4ca8",
   "metadata": {
    "tags": []
   },
   "outputs": [
    {
     "data": {
      "text/html": [
       "<div>\n",
       "<style scoped>\n",
       "    .dataframe tbody tr th:only-of-type {\n",
       "        vertical-align: middle;\n",
       "    }\n",
       "\n",
       "    .dataframe tbody tr th {\n",
       "        vertical-align: top;\n",
       "    }\n",
       "\n",
       "    .dataframe thead th {\n",
       "        text-align: right;\n",
       "    }\n",
       "</style>\n",
       "<table border=\"1\" class=\"dataframe\">\n",
       "  <thead>\n",
       "    <tr style=\"text-align: right;\">\n",
       "      <th>Age_Group</th>\n",
       "      <th>children</th>\n",
       "      <th>teenagers</th>\n",
       "      <th>young_adults</th>\n",
       "      <th>adults</th>\n",
       "      <th>older_adults</th>\n",
       "    </tr>\n",
       "    <tr>\n",
       "      <th>Metric</th>\n",
       "      <th></th>\n",
       "      <th></th>\n",
       "      <th></th>\n",
       "      <th></th>\n",
       "      <th></th>\n",
       "    </tr>\n",
       "  </thead>\n",
       "  <tbody>\n",
       "    <tr>\n",
       "      <th>Age</th>\n",
       "      <td>No_Data</td>\n",
       "      <td>No_Data</td>\n",
       "      <td>mean: 24.47, std: 2.99</td>\n",
       "      <td>mean: 48.65, std: 6.95</td>\n",
       "      <td>mean: 66.11, std: 1.54</td>\n",
       "    </tr>\n",
       "    <tr>\n",
       "      <th>Sleep duration</th>\n",
       "      <td>No_Data</td>\n",
       "      <td>No_Data</td>\n",
       "      <td>mean: 7.45, std: 0.66</td>\n",
       "      <td>mean: 7.40, std: 0.91</td>\n",
       "      <td>mean: 7.44, std: 1.04</td>\n",
       "    </tr>\n",
       "    <tr>\n",
       "      <th>Sleep efficiency</th>\n",
       "      <td>No_Data</td>\n",
       "      <td>No_Data</td>\n",
       "      <td>mean: 0.75, std: 0.14</td>\n",
       "      <td>mean: 0.81, std: 0.12</td>\n",
       "      <td>mean: 0.74, std: 0.11</td>\n",
       "    </tr>\n",
       "    <tr>\n",
       "      <th>REM sleep percentage</th>\n",
       "      <td>No_Data</td>\n",
       "      <td>No_Data</td>\n",
       "      <td>mean: 22.05, std: 4.54</td>\n",
       "      <td>mean: 22.39, std: 3.79</td>\n",
       "      <td>mean: 23.78, std: 3.80</td>\n",
       "    </tr>\n",
       "    <tr>\n",
       "      <th>Deep sleep percentage</th>\n",
       "      <td>No_Data</td>\n",
       "      <td>No_Data</td>\n",
       "      <td>mean: 50.90, std: 19.08</td>\n",
       "      <td>mean: 55.13, std: 13.89</td>\n",
       "      <td>mean: 50.44, std: 16.43</td>\n",
       "    </tr>\n",
       "    <tr>\n",
       "      <th>Light sleep percentage</th>\n",
       "      <td>No_Data</td>\n",
       "      <td>No_Data</td>\n",
       "      <td>mean: 28.12, std: 17.13</td>\n",
       "      <td>mean: 22.58, std: 13.23</td>\n",
       "      <td>mean: 27.44, std: 17.26</td>\n",
       "    </tr>\n",
       "    <tr>\n",
       "      <th>Awakenings</th>\n",
       "      <td>No_Data</td>\n",
       "      <td>No_Data</td>\n",
       "      <td>mean: 1.95, std: 1.37</td>\n",
       "      <td>mean: 1.62, std: 1.32</td>\n",
       "      <td>mean: 2.67, std: 1.41</td>\n",
       "    </tr>\n",
       "    <tr>\n",
       "      <th>Smoking status</th>\n",
       "      <td>No_Data</td>\n",
       "      <td>No_Data</td>\n",
       "      <td>mean: 1.00, std: 0.00</td>\n",
       "      <td>mean: 1.00, std: 0.00</td>\n",
       "      <td>mean: 1.00, std: 0.00</td>\n",
       "    </tr>\n",
       "    <tr>\n",
       "      <th>Exercise frequency</th>\n",
       "      <td>No_Data</td>\n",
       "      <td>No_Data</td>\n",
       "      <td>mean: 2.14, std: 1.06</td>\n",
       "      <td>mean: 2.12, std: 1.27</td>\n",
       "      <td>mean: 2.56, std: 0.88</td>\n",
       "    </tr>\n",
       "  </tbody>\n",
       "</table>\n",
       "</div>"
      ],
      "text/plain": [
       "Age_Group              children teenagers             young_adults  \\\n",
       "Metric                                                               \n",
       "Age                     No_Data   No_Data   mean: 24.47, std: 2.99   \n",
       "Sleep duration          No_Data   No_Data    mean: 7.45, std: 0.66   \n",
       "Sleep efficiency        No_Data   No_Data    mean: 0.75, std: 0.14   \n",
       "REM sleep percentage    No_Data   No_Data   mean: 22.05, std: 4.54   \n",
       "Deep sleep percentage   No_Data   No_Data  mean: 50.90, std: 19.08   \n",
       "Light sleep percentage  No_Data   No_Data  mean: 28.12, std: 17.13   \n",
       "Awakenings              No_Data   No_Data    mean: 1.95, std: 1.37   \n",
       "Smoking status          No_Data   No_Data    mean: 1.00, std: 0.00   \n",
       "Exercise frequency      No_Data   No_Data    mean: 2.14, std: 1.06   \n",
       "\n",
       "Age_Group                                adults             older_adults  \n",
       "Metric                                                                    \n",
       "Age                      mean: 48.65, std: 6.95   mean: 66.11, std: 1.54  \n",
       "Sleep duration            mean: 7.40, std: 0.91    mean: 7.44, std: 1.04  \n",
       "Sleep efficiency          mean: 0.81, std: 0.12    mean: 0.74, std: 0.11  \n",
       "REM sleep percentage     mean: 22.39, std: 3.79   mean: 23.78, std: 3.80  \n",
       "Deep sleep percentage   mean: 55.13, std: 13.89  mean: 50.44, std: 16.43  \n",
       "Light sleep percentage  mean: 22.58, std: 13.23  mean: 27.44, std: 17.26  \n",
       "Awakenings                mean: 1.62, std: 1.32    mean: 2.67, std: 1.41  \n",
       "Smoking status            mean: 1.00, std: 0.00    mean: 1.00, std: 0.00  \n",
       "Exercise frequency        mean: 2.12, std: 1.27    mean: 2.56, std: 0.88  "
      ]
     },
     "execution_count": 73,
     "metadata": {},
     "output_type": "execute_result"
    }
   ],
   "source": [
    "male_ag_df"
   ]
  },
  {
   "cell_type": "code",
   "execution_count": 74,
   "id": "bc6bc246-05b0-44cc-b5ae-12e5f1d49e24",
   "metadata": {
    "tags": []
   },
   "outputs": [],
   "source": [
    "female_ag_df = pd.DataFrame()\n",
    "for ag in age_groups:\n",
    "    female_ag_df[ag[0]] = pd.Series(summary_stats(females, ag))\n",
    "female_ag_df.index.name = 'Metric'\n",
    "female_ag_df.columns.name = 'Age_Group'"
   ]
  },
  {
   "cell_type": "code",
   "execution_count": 75,
   "id": "7c99412a-107f-4101-b960-f467a39597f1",
   "metadata": {
    "tags": []
   },
   "outputs": [
    {
     "data": {
      "text/html": [
       "<div>\n",
       "<style scoped>\n",
       "    .dataframe tbody tr th:only-of-type {\n",
       "        vertical-align: middle;\n",
       "    }\n",
       "\n",
       "    .dataframe tbody tr th {\n",
       "        vertical-align: top;\n",
       "    }\n",
       "\n",
       "    .dataframe thead th {\n",
       "        text-align: right;\n",
       "    }\n",
       "</style>\n",
       "<table border=\"1\" class=\"dataframe\">\n",
       "  <thead>\n",
       "    <tr style=\"text-align: right;\">\n",
       "      <th>Age_Group</th>\n",
       "      <th>children</th>\n",
       "      <th>teenagers</th>\n",
       "      <th>young_adults</th>\n",
       "      <th>adults</th>\n",
       "      <th>older_adults</th>\n",
       "    </tr>\n",
       "    <tr>\n",
       "      <th>Metric</th>\n",
       "      <th></th>\n",
       "      <th></th>\n",
       "      <th></th>\n",
       "      <th></th>\n",
       "      <th></th>\n",
       "    </tr>\n",
       "  </thead>\n",
       "  <tbody>\n",
       "    <tr>\n",
       "      <th>Age</th>\n",
       "      <td>mean: 10.50, std: 1.29</td>\n",
       "      <td>mean: 15.00, std: 1.58</td>\n",
       "      <td>mean: 26.38, std: 3.26</td>\n",
       "      <td>mean: 41.20, std: 7.39</td>\n",
       "      <td>mean: 65.00, std: 0.00</td>\n",
       "    </tr>\n",
       "    <tr>\n",
       "      <th>Sleep duration</th>\n",
       "      <td>mean: 8.38, std: 0.95</td>\n",
       "      <td>mean: 7.70, std: 0.67</td>\n",
       "      <td>mean: 7.56, std: 0.87</td>\n",
       "      <td>mean: 7.44, std: 0.87</td>\n",
       "      <td>mean: 7.42, std: 1.02</td>\n",
       "    </tr>\n",
       "    <tr>\n",
       "      <th>Sleep efficiency</th>\n",
       "      <td>mean: 0.54, std: 0.02</td>\n",
       "      <td>mean: 0.63, std: 0.04</td>\n",
       "      <td>mean: 0.79, std: 0.14</td>\n",
       "      <td>mean: 0.81, std: 0.14</td>\n",
       "      <td>mean: 0.79, std: 0.17</td>\n",
       "    </tr>\n",
       "    <tr>\n",
       "      <th>REM sleep percentage</th>\n",
       "      <td>mean: 18.00, std: 0.00</td>\n",
       "      <td>mean: 18.80, std: 1.79</td>\n",
       "      <td>mean: 25.07, std: 3.28</td>\n",
       "      <td>mean: 23.39, std: 3.92</td>\n",
       "      <td>mean: 22.00, std: 3.58</td>\n",
       "    </tr>\n",
       "    <tr>\n",
       "      <th>Deep sleep percentage</th>\n",
       "      <td>mean: 35.00, std: 0.00</td>\n",
       "      <td>mean: 32.60, std: 5.37</td>\n",
       "      <td>mean: 53.68, std: 14.55</td>\n",
       "      <td>mean: 53.11, std: 15.19</td>\n",
       "      <td>mean: 50.83, std: 19.49</td>\n",
       "    </tr>\n",
       "    <tr>\n",
       "      <th>Light sleep percentage</th>\n",
       "      <td>mean: 45.00, std: 0.00</td>\n",
       "      <td>mean: 46.80, std: 4.02</td>\n",
       "      <td>mean: 24.13, std: 14.32</td>\n",
       "      <td>mean: 24.08, std: 15.28</td>\n",
       "      <td>mean: 27.00, std: 18.99</td>\n",
       "    </tr>\n",
       "    <tr>\n",
       "      <th>Awakenings</th>\n",
       "      <td>mean: 2.50, std: 1.29</td>\n",
       "      <td>mean: 2.00, std: 1.00</td>\n",
       "      <td>mean: 1.44, std: 1.33</td>\n",
       "      <td>mean: 1.51, std: 1.31</td>\n",
       "      <td>mean: 1.33, std: 1.63</td>\n",
       "    </tr>\n",
       "    <tr>\n",
       "      <th>Smoking status</th>\n",
       "      <td>mean: 1.00, std: 0.00</td>\n",
       "      <td>mean: 1.00, std: 0.00</td>\n",
       "      <td>mean: 1.00, std: 0.00</td>\n",
       "      <td>mean: 1.00, std: 0.00</td>\n",
       "      <td>mean: 1.00, std: 0.00</td>\n",
       "    </tr>\n",
       "    <tr>\n",
       "      <th>Exercise frequency</th>\n",
       "      <td>mean: 0.00, std: 0.00</td>\n",
       "      <td>mean: 0.00, std: 0.00</td>\n",
       "      <td>mean: 1.47, std: 1.33</td>\n",
       "      <td>mean: 1.69, std: 1.65</td>\n",
       "      <td>mean: 0.50, std: 1.22</td>\n",
       "    </tr>\n",
       "  </tbody>\n",
       "</table>\n",
       "</div>"
      ],
      "text/plain": [
       "Age_Group                             children               teenagers  \\\n",
       "Metric                                                                   \n",
       "Age                     mean: 10.50, std: 1.29  mean: 15.00, std: 1.58   \n",
       "Sleep duration           mean: 8.38, std: 0.95   mean: 7.70, std: 0.67   \n",
       "Sleep efficiency         mean: 0.54, std: 0.02   mean: 0.63, std: 0.04   \n",
       "REM sleep percentage    mean: 18.00, std: 0.00  mean: 18.80, std: 1.79   \n",
       "Deep sleep percentage   mean: 35.00, std: 0.00  mean: 32.60, std: 5.37   \n",
       "Light sleep percentage  mean: 45.00, std: 0.00  mean: 46.80, std: 4.02   \n",
       "Awakenings               mean: 2.50, std: 1.29   mean: 2.00, std: 1.00   \n",
       "Smoking status           mean: 1.00, std: 0.00   mean: 1.00, std: 0.00   \n",
       "Exercise frequency       mean: 0.00, std: 0.00   mean: 0.00, std: 0.00   \n",
       "\n",
       "Age_Group                          young_adults                   adults  \\\n",
       "Metric                                                                     \n",
       "Age                      mean: 26.38, std: 3.26   mean: 41.20, std: 7.39   \n",
       "Sleep duration            mean: 7.56, std: 0.87    mean: 7.44, std: 0.87   \n",
       "Sleep efficiency          mean: 0.79, std: 0.14    mean: 0.81, std: 0.14   \n",
       "REM sleep percentage     mean: 25.07, std: 3.28   mean: 23.39, std: 3.92   \n",
       "Deep sleep percentage   mean: 53.68, std: 14.55  mean: 53.11, std: 15.19   \n",
       "Light sleep percentage  mean: 24.13, std: 14.32  mean: 24.08, std: 15.28   \n",
       "Awakenings                mean: 1.44, std: 1.33    mean: 1.51, std: 1.31   \n",
       "Smoking status            mean: 1.00, std: 0.00    mean: 1.00, std: 0.00   \n",
       "Exercise frequency        mean: 1.47, std: 1.33    mean: 1.69, std: 1.65   \n",
       "\n",
       "Age_Group                          older_adults  \n",
       "Metric                                           \n",
       "Age                      mean: 65.00, std: 0.00  \n",
       "Sleep duration            mean: 7.42, std: 1.02  \n",
       "Sleep efficiency          mean: 0.79, std: 0.17  \n",
       "REM sleep percentage     mean: 22.00, std: 3.58  \n",
       "Deep sleep percentage   mean: 50.83, std: 19.49  \n",
       "Light sleep percentage  mean: 27.00, std: 18.99  \n",
       "Awakenings                mean: 1.33, std: 1.63  \n",
       "Smoking status            mean: 1.00, std: 0.00  \n",
       "Exercise frequency        mean: 0.50, std: 1.22  "
      ]
     },
     "execution_count": 75,
     "metadata": {},
     "output_type": "execute_result"
    }
   ],
   "source": [
    "female_ag_df"
   ]
  },
  {
   "cell_type": "code",
   "execution_count": 77,
   "id": "b3fb627c-36dc-4dea-9269-0ca60348aaa2",
   "metadata": {
    "tags": []
   },
   "outputs": [
    {
     "data": {
      "text/html": [
       "<div>\n",
       "<style scoped>\n",
       "    .dataframe tbody tr th:only-of-type {\n",
       "        vertical-align: middle;\n",
       "    }\n",
       "\n",
       "    .dataframe tbody tr th {\n",
       "        vertical-align: top;\n",
       "    }\n",
       "\n",
       "    .dataframe thead th {\n",
       "        text-align: right;\n",
       "    }\n",
       "</style>\n",
       "<table border=\"1\" class=\"dataframe\">\n",
       "  <thead>\n",
       "    <tr style=\"text-align: right;\">\n",
       "      <th>Age_Group</th>\n",
       "      <th>children</th>\n",
       "      <th>teenagers</th>\n",
       "      <th>young_adults</th>\n",
       "      <th>adults</th>\n",
       "      <th>older_adults</th>\n",
       "    </tr>\n",
       "    <tr>\n",
       "      <th>Metric</th>\n",
       "      <th></th>\n",
       "      <th></th>\n",
       "      <th></th>\n",
       "      <th></th>\n",
       "      <th></th>\n",
       "    </tr>\n",
       "  </thead>\n",
       "  <tbody>\n",
       "    <tr>\n",
       "      <th>Age</th>\n",
       "      <td>mean: 10.50, std: 1.29</td>\n",
       "      <td>mean: 15.00, std: 1.58</td>\n",
       "      <td>mean: 26.38, std: 3.26</td>\n",
       "      <td>mean: 41.20, std: 7.39</td>\n",
       "      <td>mean: 65.00, std: 0.00</td>\n",
       "    </tr>\n",
       "    <tr>\n",
       "      <th>Sleep duration</th>\n",
       "      <td>mean: 8.38, std: 0.95</td>\n",
       "      <td>mean: 7.70, std: 0.67</td>\n",
       "      <td>mean: 7.56, std: 0.87</td>\n",
       "      <td>mean: 7.44, std: 0.87</td>\n",
       "      <td>mean: 7.42, std: 1.02</td>\n",
       "    </tr>\n",
       "    <tr>\n",
       "      <th>Sleep efficiency</th>\n",
       "      <td>mean: 0.54, std: 0.02</td>\n",
       "      <td>mean: 0.63, std: 0.04</td>\n",
       "      <td>mean: 0.79, std: 0.14</td>\n",
       "      <td>mean: 0.81, std: 0.14</td>\n",
       "      <td>mean: 0.79, std: 0.17</td>\n",
       "    </tr>\n",
       "    <tr>\n",
       "      <th>REM sleep percentage</th>\n",
       "      <td>mean: 18.00, std: 0.00</td>\n",
       "      <td>mean: 18.80, std: 1.79</td>\n",
       "      <td>mean: 25.07, std: 3.28</td>\n",
       "      <td>mean: 23.39, std: 3.92</td>\n",
       "      <td>mean: 22.00, std: 3.58</td>\n",
       "    </tr>\n",
       "    <tr>\n",
       "      <th>Deep sleep percentage</th>\n",
       "      <td>mean: 35.00, std: 0.00</td>\n",
       "      <td>mean: 32.60, std: 5.37</td>\n",
       "      <td>mean: 53.68, std: 14.55</td>\n",
       "      <td>mean: 53.11, std: 15.19</td>\n",
       "      <td>mean: 50.83, std: 19.49</td>\n",
       "    </tr>\n",
       "    <tr>\n",
       "      <th>Light sleep percentage</th>\n",
       "      <td>mean: 45.00, std: 0.00</td>\n",
       "      <td>mean: 46.80, std: 4.02</td>\n",
       "      <td>mean: 24.13, std: 14.32</td>\n",
       "      <td>mean: 24.08, std: 15.28</td>\n",
       "      <td>mean: 27.00, std: 18.99</td>\n",
       "    </tr>\n",
       "    <tr>\n",
       "      <th>Awakenings</th>\n",
       "      <td>mean: 2.50, std: 1.29</td>\n",
       "      <td>mean: 2.00, std: 1.00</td>\n",
       "      <td>mean: 1.44, std: 1.33</td>\n",
       "      <td>mean: 1.51, std: 1.31</td>\n",
       "      <td>mean: 1.33, std: 1.63</td>\n",
       "    </tr>\n",
       "    <tr>\n",
       "      <th>Smoking status</th>\n",
       "      <td>mean: 1.00, std: 0.00</td>\n",
       "      <td>mean: 1.00, std: 0.00</td>\n",
       "      <td>mean: 1.00, std: 0.00</td>\n",
       "      <td>mean: 1.00, std: 0.00</td>\n",
       "      <td>mean: 1.00, std: 0.00</td>\n",
       "    </tr>\n",
       "    <tr>\n",
       "      <th>Exercise frequency</th>\n",
       "      <td>mean: 0.00, std: 0.00</td>\n",
       "      <td>mean: 0.00, std: 0.00</td>\n",
       "      <td>mean: 1.47, std: 1.33</td>\n",
       "      <td>mean: 1.69, std: 1.65</td>\n",
       "      <td>mean: 0.50, std: 1.22</td>\n",
       "    </tr>\n",
       "  </tbody>\n",
       "</table>\n",
       "</div>"
      ],
      "text/plain": [
       "Age_Group                             children               teenagers  \\\n",
       "Metric                                                                   \n",
       "Age                     mean: 10.50, std: 1.29  mean: 15.00, std: 1.58   \n",
       "Sleep duration           mean: 8.38, std: 0.95   mean: 7.70, std: 0.67   \n",
       "Sleep efficiency         mean: 0.54, std: 0.02   mean: 0.63, std: 0.04   \n",
       "REM sleep percentage    mean: 18.00, std: 0.00  mean: 18.80, std: 1.79   \n",
       "Deep sleep percentage   mean: 35.00, std: 0.00  mean: 32.60, std: 5.37   \n",
       "Light sleep percentage  mean: 45.00, std: 0.00  mean: 46.80, std: 4.02   \n",
       "Awakenings               mean: 2.50, std: 1.29   mean: 2.00, std: 1.00   \n",
       "Smoking status           mean: 1.00, std: 0.00   mean: 1.00, std: 0.00   \n",
       "Exercise frequency       mean: 0.00, std: 0.00   mean: 0.00, std: 0.00   \n",
       "\n",
       "Age_Group                          young_adults                   adults  \\\n",
       "Metric                                                                     \n",
       "Age                      mean: 26.38, std: 3.26   mean: 41.20, std: 7.39   \n",
       "Sleep duration            mean: 7.56, std: 0.87    mean: 7.44, std: 0.87   \n",
       "Sleep efficiency          mean: 0.79, std: 0.14    mean: 0.81, std: 0.14   \n",
       "REM sleep percentage     mean: 25.07, std: 3.28   mean: 23.39, std: 3.92   \n",
       "Deep sleep percentage   mean: 53.68, std: 14.55  mean: 53.11, std: 15.19   \n",
       "Light sleep percentage  mean: 24.13, std: 14.32  mean: 24.08, std: 15.28   \n",
       "Awakenings                mean: 1.44, std: 1.33    mean: 1.51, std: 1.31   \n",
       "Smoking status            mean: 1.00, std: 0.00    mean: 1.00, std: 0.00   \n",
       "Exercise frequency        mean: 1.47, std: 1.33    mean: 1.69, std: 1.65   \n",
       "\n",
       "Age_Group                          older_adults  \n",
       "Metric                                           \n",
       "Age                      mean: 65.00, std: 0.00  \n",
       "Sleep duration            mean: 7.42, std: 1.02  \n",
       "Sleep efficiency          mean: 0.79, std: 0.17  \n",
       "REM sleep percentage     mean: 22.00, std: 3.58  \n",
       "Deep sleep percentage   mean: 50.83, std: 19.49  \n",
       "Light sleep percentage  mean: 27.00, std: 18.99  \n",
       "Awakenings                mean: 1.33, std: 1.63  \n",
       "Smoking status            mean: 1.00, std: 0.00  \n",
       "Exercise frequency        mean: 0.50, std: 1.22  "
      ]
     },
     "execution_count": 77,
     "metadata": {},
     "output_type": "execute_result"
    }
   ],
   "source": [
    "all_genders = pd.DataFrame()\n",
    "for ag in age_groups:\n",
    "    all_genders[ag[0]] = pd.Series(summary_stats(females, ag))\n",
    "all_genders.index.name = 'Metric'\n",
    "all_genders.columns.name = 'Age_Group'\n",
    "all_genders"
   ]
  },
  {
   "cell_type": "code",
   "execution_count": null,
   "id": "78858208-0a7b-457b-bdeb-a53abd4bcb87",
   "metadata": {},
   "outputs": [],
   "source": []
  }
 ],
 "metadata": {
  "kernelspec": {
   "display_name": "Python 3 (ipykernel)",
   "language": "python",
   "name": "python3"
  },
  "language_info": {
   "codemirror_mode": {
    "name": "ipython",
    "version": 3
   },
   "file_extension": ".py",
   "mimetype": "text/x-python",
   "name": "python",
   "nbconvert_exporter": "python",
   "pygments_lexer": "ipython3",
   "version": "3.9.18"
  }
 },
 "nbformat": 4,
 "nbformat_minor": 5
}
