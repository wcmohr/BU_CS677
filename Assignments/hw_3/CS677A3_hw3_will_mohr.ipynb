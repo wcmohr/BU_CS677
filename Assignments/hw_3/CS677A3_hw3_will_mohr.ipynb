{
 "cells": [
  {
   "cell_type": "code",
   "execution_count": 1,
   "id": "5034dfc8-0652-4e75-b95c-77c729166986",
   "metadata": {
    "tags": []
   },
   "outputs": [],
   "source": [
    "import pandas as pd\n",
    "import seaborn as sns"
   ]
  },
  {
   "cell_type": "code",
   "execution_count": 2,
   "id": "263b8275-f67c-41ed-938a-5a240228624c",
   "metadata": {
    "tags": []
   },
   "outputs": [],
   "source": [
    "pd.options.display.float_format = '{:.3f}'.format # not scientific"
   ]
  },
  {
   "cell_type": "markdown",
   "id": "136ad9ed-29ed-482f-852c-fa9101693482",
   "metadata": {},
   "source": [
    "##### Question 1"
   ]
  },
  {
   "cell_type": "code",
   "execution_count": 3,
   "id": "63c389a3-edf0-4757-b9ea-82261d6b3f43",
   "metadata": {
    "tags": []
   },
   "outputs": [],
   "source": [
    "tickers = ['GME','SPY']\n",
    "stocks = []\n",
    "for ticker in tickers:\n",
    "    placeholder = ticker.lower()\n",
    "    globals()[placeholder] = pd.read_csv(f'./{ticker}.csv')\n",
    "    stocks.append(placeholder)\n",
    "del placeholder\n",
    "\n",
    "def add_true_label(stock_df):\n",
    "    \"\"\"arg --> stock DataFrame\n",
    "    return --> stock DataFrame with + or - label column indicating positive\n",
    "    or negative return for each day\"\"\"\n",
    "    stock_df['True_Label'] = ['-' if r<0 else '+' for r in stock_df.Return]\n",
    "    return stock_df\n",
    "\n",
    "gme = add_true_label(gme)\n",
    "spy = add_true_label(spy)"
   ]
  },
  {
   "cell_type": "markdown",
   "id": "ec8e3a4d-3707-455b-ade6-e002999f0a9b",
   "metadata": {},
   "source": [
    "###### 2. take years 1,2 and 3. Let L be the number of trading days. Assuming 250 trading days per year, L will contain about 750 days. Let L− be all trading days with − labels and let L+ be all trading days with + labels. Assuming that all days are independent of each other and that the ratio of ”up” and ”down” days remains the same in the future, compute the default probability p ∗ that the next day is a ”up” day."
   ]
  },
  {
   "cell_type": "code",
   "execution_count": 4,
   "id": "59dea878-be95-470c-b526-048a41a2add4",
   "metadata": {
    "tags": []
   },
   "outputs": [],
   "source": [
    "def default_p_123(stock_w_tl):\n",
    "    \"\"\"args --> take stock DataFrame with true labels\n",
    "    return --> default probability of positive return\"\"\"\n",
    "    s_123 = stock_w_tl.query('Year<2020').copy(deep=True)\n",
    "    pos_123 = s_123.query('True_Label == \"+\"').shape[0]\n",
    "    neg_123 = s_123.query('True_Label == \"-\"').shape[0]\n",
    "    p_default = round(pos_123/(pos_123+neg_123),3)\n",
    "    return p_default"
   ]
  },
  {
   "cell_type": "code",
   "execution_count": 5,
   "id": "1f087cdf-95f4-4e64-9f1a-14d3ba660adc",
   "metadata": {
    "tags": []
   },
   "outputs": [
    {
     "data": {
      "text/plain": [
       "(0.507, 0.569)"
      ]
     },
     "execution_count": 5,
     "metadata": {},
     "output_type": "execute_result"
    }
   ],
   "source": [
    "p_default_gme = default_p_123(gme)\n",
    "p_default_spy = default_p_123(spy)\n",
    "(p_default_gme,p_default_spy)"
   ]
  },
  {
   "cell_type": "markdown",
   "id": "aeeadb5b-1032-4d48-811f-ebf7b07cfc80",
   "metadata": {},
   "source": [
    "Q1 part 2 Answer = (0.507, 0.569) for gme, spy respectively"
   ]
  },
  {
   "cell_type": "markdown",
   "id": "5a9762a7-8667-47f6-8af3-7db7507b06c1",
   "metadata": {
    "tags": []
   },
   "source": [
    "###### 3. take years 1, 2 and 3 What is the probability that after seeing k consecutive ”down days”, the next day is an ”up day”? For example, if k = 3, what is the probability of seeing ”−, −, −, +” as opposed to seeing ”−, −, −, −”. Compute this for k = 1, 2, 3."
   ]
  },
  {
   "cell_type": "code",
   "execution_count": 6,
   "id": "7cefa8d6-bbd3-434b-8ef9-c1e72d09ef98",
   "metadata": {
    "tags": []
   },
   "outputs": [],
   "source": [
    "def pattern_predict(stock, pattern):\n",
    "    \"\"\"args --> stock: DataFrame of stock data with the column True_Label. \n",
    "    pattern: csv string of True_Label values, \n",
    "    i.e. '+++' | '---' | '++-'| '+-'- | etc. \n",
    "    return --> p: probability of non-negative return\"\"\"\n",
    "    pos_returns = 0\n",
    "    sample_size = 0\n",
    "    k = len(pattern)\n",
    "    for i in range(k,len(stock)):\n",
    "        if (''.join(stock.True_Label[(i-k):i]) == pattern):\n",
    "            sample_size += 1\n",
    "            if stock.True_Label[i] == '+':\n",
    "                pos_returns += 1\n",
    "    try:\n",
    "        return (pos_returns/sample_size,sample_size)\n",
    "    except ZeroDivisionError:\n",
    "        return (p_default,0) # if there is no data, assume the default prob."
   ]
  },
  {
   "cell_type": "code",
   "execution_count": 7,
   "id": "1d71ac47-4f0a-42a9-8fc8-1a7c7235d528",
   "metadata": {
    "tags": []
   },
   "outputs": [
    {
     "name": "stdout",
     "output_type": "stream",
     "text": [
      "[(1, 0.499), (2, 0.473), (3, 0.5)]\n",
      "[(1, 0.563), (2, 0.592), (3, 0.586)]\n"
     ]
    }
   ],
   "source": [
    "patterns = ['-','--','---']\n",
    "\n",
    "neg_momentum_gme = [(len(pattern), round(pattern_predict(gme.query('Year<2020'),pattern)[0],3))\n",
    "for pattern in patterns]\n",
    "\n",
    "neg_momentum_spy = [(len(pattern), round(pattern_predict(spy.query('Year<2020'),pattern)[0],3))\n",
    "for pattern in patterns]\n",
    "\n",
    "print(neg_momentum_gme)\n",
    "print(neg_momentum_spy)"
   ]
  },
  {
   "cell_type": "markdown",
   "id": "616c8af0-7146-4329-948f-f7065dc8bde2",
   "metadata": {},
   "source": [
    "Q1 part 3 answer: \\\n",
    "gme: [(1, 0.499), (2, 0.473), (3, 0.5)]\\\n",
    "spy: [(1, 0.563), (2, 0.592), (3, 0.586)]\\\n",
    "where i is number of prior consecutive negative days and j is the probability of a positive return on the following day in the above list of (i, j) tuples."
   ]
  },
  {
   "cell_type": "markdown",
   "id": "b6886b83-7748-4bb6-a184-3035496d3972",
   "metadata": {},
   "source": [
    "###### Q1 part 4 :  \n",
    "4. take years 1, 2 and 3. What is the probability that after seeing k consecutive ”up days”, the next day is still an ”up day”? For example, if k = 3, what is the probability of seeing ”+, +, +, +” as opposed to seeing ”+, +, +, −”? Compute this for k = 1, 2, 3."
   ]
  },
  {
   "cell_type": "code",
   "execution_count": 8,
   "id": "4d1930c8-c710-4f54-99e4-93a3a01e2b3b",
   "metadata": {
    "tags": []
   },
   "outputs": [
    {
     "name": "stdout",
     "output_type": "stream",
     "text": [
      "[(1, 0.513), (2, 0.51), (3, 0.51)]\n",
      "[(1, 0.572), (2, 0.567), (3, 0.518)]\n"
     ]
    }
   ],
   "source": [
    "patterns = ['+','++','+++']\n",
    "\n",
    "pos_momentum_gme = [(len(pattern), round(pattern_predict(gme.query('Year<2020'),pattern)[0],3))\n",
    "for pattern in patterns]\n",
    "\n",
    "pos_momentum_spy = [(len(pattern), round(pattern_predict(spy.query('Year<2020'),pattern)[0],3))\n",
    "for pattern in patterns]\n",
    "\n",
    "print(pos_momentum_gme)\n",
    "print(pos_momentum_spy)"
   ]
  },
  {
   "cell_type": "markdown",
   "id": "25f75148-0dc1-4609-a204-2aba552bc676",
   "metadata": {},
   "source": [
    "Q1 part 4 answer: \\\n",
    "gme: [(1, 0.513), (2, 0.51), (3, 0.51)]\\\n",
    "spy: [(1, 0.572), (2, 0.567), (3, 0.518)]\\\n",
    "Where i is number of prior consecutive positive days and j is the probability of a positive return on the following day in the above list of (i, j) tuples."
   ]
  },
  {
   "cell_type": "markdown",
   "id": "16c31155-f3f9-479f-9cd6-d91ef959f2c5",
   "metadata": {},
   "source": [
    "##### Question 2"
   ]
  },
  {
   "cell_type": "markdown",
   "id": "21a064ff-6c6f-45fc-bd43-b063e7498fba",
   "metadata": {},
   "source": [
    "Predicting labels: We will now describe a procedure to\n",
    "predict labels for each day in years 4 and 5 from ”true” labels\n",
    "in training years 1,2 and 3.\n",
    "For each day d in year 4 and 5, we look at the pattern of\n",
    "last W true labels (including this day d). By looking at the\n",
    "frequency of this pattern and true label for the next day in the\n",
    "training set, we will predict label for day d + 1. Here W is the\n",
    "hyperparameter that we will choose based on our prediction\n",
    "accuracy.\n",
    "Suppose W = 3. You look at a partuclar day d and suppose\n",
    "that the sequence of last W labels is s = ”−, +, −”. We want\n",
    "to predict the label for next day d + 1. To do this, we count\n",
    "the number of sequences of length W + 1 in the training set\n",
    "where the first W labels coincide with s. In other words, we\n",
    "count the number N−(s) of sequences ”s, −” and the number\n",
    "of sequences N+(s) of sequences ”s, +”. If N+(s) ≥ N−(s)\n",
    "then the next day is assigned ”+”. If N+(s) < N−(s) then the\n",
    "next day is assigned ”−”. **In the unlikely event that N+(s) =\n",
    "N−(s) = 0 we will assign a label based on default probability\n",
    "p∗**\n",
    "that we computed in the previous question."
   ]
  },
  {
   "cell_type": "markdown",
   "id": "5b981ac2-c2b1-48e1-8d13-d953c44c8822",
   "metadata": {},
   "source": [
    "###### Functions used to generate the probability of a positive return given a preceding pattern in daily return indicators"
   ]
  },
  {
   "cell_type": "code",
   "execution_count": 9,
   "id": "b20b87c2-43ec-4189-83f7-a499ddf44211",
   "metadata": {
    "tags": []
   },
   "outputs": [],
   "source": [
    "def hydra(patterns):\n",
    "    \"\"\"take a list of patterns and return a list with a '+' and '-' added to\n",
    "    each pattern\"\"\"\n",
    "    patterns_doubled = []\n",
    "    for p in patterns:\n",
    "        patterns_doubled.append(p+'+')\n",
    "        patterns_doubled.append(p+'-')\n",
    "    return patterns_doubled\n",
    "\n",
    "def perm(w):\n",
    "    \"\"\"find all possible return label patterns/permutations of length w.  \n",
    "    2**w patterns are possible\"\"\"\n",
    "    p=['']\n",
    "    while len(p) < 2**(w):\n",
    "        p = hydra(p)\n",
    "    return p\n",
    "\n",
    "def perm_probs(stock,perm):\n",
    "    \"\"\"get the probability of a positive return for each permutation of \n",
    "    + and - \"\"\"\n",
    "    probs = {}\n",
    "    for p in perm:\n",
    "        probs[p] = pattern_predict(stock,p)\n",
    "    return probs"
   ]
  },
  {
   "cell_type": "markdown",
   "id": "4f189fc7-dbd5-428c-abb6-7d80472bc0fd",
   "metadata": {},
   "source": [
    "###### Functions to generate labels for observations for different hyperparameters W in years 4 & 5"
   ]
  },
  {
   "cell_type": "code",
   "execution_count": 10,
   "id": "f13453e1-bbef-44f2-9a04-81e0c59c64e4",
   "metadata": {
    "slideshow": {
     "slide_type": "slide"
    },
    "tags": []
   },
   "outputs": [],
   "source": [
    "def update_perm_prob(pattern, pos, pat_prob_n):\n",
    "    \"\"\"updates the dictionary of {permutation: pos_return_prob}\n",
    "    args: pattern,i.e. '+++' | pos: boolean True if positive return | \n",
    "    pat_prob_n: the dictionary being updated\"\"\"\n",
    "    n = pat_prob_n[pattern][1]+1\n",
    "    p0 = pat_prob_n[pattern][0]\n",
    "    p1 = (p0*(n-1) + pos)/(n)\n",
    "    pat_prob_n[pattern] = (p1,n)\n",
    "    return pat_prob_n\n",
    "\n",
    "def default_lab(p_default):\n",
    "    if p_default>=.5:\n",
    "        return '+'\n",
    "    else:\n",
    "        return '-'\n",
    "    \n",
    "def predict_45(stock,ws):\n",
    "    \"\"\"generate a DataFrame of true labels and predictions for a range of \n",
    "    hyperparameters for stock data in years 4 and 5\"\"\"\n",
    "    \n",
    "    stock_45 = stock.query('Year>=2020').copy(deep=True) # New data\n",
    "    stock_123 = stock.query('Year<2020').copy(deep=True) # Train data\n",
    "    labels_45 = stock_45['True_Label'].copy(deep=True).to_frame()\n",
    "\n",
    "    # after first trading day is seen, can use lead up pattern in subsequent\n",
    "    # predictions.\n",
    "    max_w = ws[-1]\n",
    "    stock_45 = pd.concat([stock_123[-max_w:],stock_45],axis=0) \n",
    "    pat_prob_n = {} # initialize\n",
    "    for w in ws:  # iterate through hyperparameters\n",
    "        \n",
    "        preds = []\n",
    "        pat_prob_n.update(perm_probs(stock_123,perm(w)))\n",
    "        \n",
    "        # iterate, considering that eoy3 data is prepended\n",
    "        \n",
    "        for i in range(max_w,len(stock_45)):\n",
    "            pattern = ''.join(stock_45.True_Label[i-w:i])\n",
    "            prob = pat_prob_n[pattern][0]\n",
    "            \n",
    "            try:\n",
    "                if prob>.5:\n",
    "                    pos = 1\n",
    "                    preds.append('+')\n",
    "                elif prob<.5:\n",
    "                    pos = 0\n",
    "                    preds.append('-')\n",
    "                else:\n",
    "                    p_default = default_p_123(stock_123)\n",
    "                    pos = [1 if (p > .5) else 0 for p in [p_default]][0]\n",
    "                    preds.append(default_lab(p_default))\n",
    "                    \n",
    "            except TypeError: # in case pattern never before seen\n",
    "                preds.append(defualt_lab(p_default))\n",
    "            # update dictionary with latest datapoint.\n",
    "            pat_prob_n = update_perm_prob(pattern,pos,pat_prob_n)\n",
    "            \n",
    "        labels_45[f'w_{w}'] = preds\n",
    "    return labels_45 "
   ]
  },
  {
   "cell_type": "markdown",
   "id": "fa8c9278-e760-453a-8e32-489bac2fd303",
   "metadata": {
    "tags": []
   },
   "source": [
    "###### Q2 part 1\n",
    "For W = 2, 3, 4, compute predicted labels for each day in\n",
    "year 4 and 5 based on true labels in years 1,2 and 3 only.\n",
    "Perform this for your ticker and for ”spy”.  Note:  I used all prior data for predicting labels in years 4 & 5"
   ]
  },
  {
   "cell_type": "code",
   "execution_count": 11,
   "id": "f42d35a8-9b28-4f5f-8ffa-b6f1166ae3c4",
   "metadata": {},
   "outputs": [],
   "source": [
    "w_labs_gme = predict_45(gme,[2,3,4])\n",
    "w_labs_spy = predict_45(spy,[2,3,4])"
   ]
  },
  {
   "cell_type": "markdown",
   "id": "830d3d1a-6876-48ca-a79f-86135abdf72f",
   "metadata": {
    "tags": []
   },
   "source": [
    "###### Q2 part 2\n",
    "For each W = 2, 3, 4, compute the accuracy - what percentage of true labels (both positive and negative) have you predicted correctly for the last two years."
   ]
  },
  {
   "cell_type": "code",
   "execution_count": 12,
   "id": "52fc98d0-5dd1-4688-8a0c-ad07f0b1e7ba",
   "metadata": {
    "tags": []
   },
   "outputs": [],
   "source": [
    "def accuracy(labels_predictions):\n",
    "    \"\"\"args --> take a DataFrame of true return labels and hyperparam W \n",
    "    predicted labels\n",
    "    return --> a dictionary of accuracies for each hyperparameter\"\"\"    \n",
    "    n = labels_predictions.shape[0]\n",
    "    # generate dictionary entry of accuracy for each hyperparameter\n",
    "    acc_df = pd.DataFrame({h: sum(labels_predictions[h]==\n",
    "           labels_predictions.iloc[:,0])/n for h in labels_predictions},\n",
    "                        index = [\"Accuracy\"])\n",
    "    return acc_df"
   ]
  },
  {
   "cell_type": "markdown",
   "id": "9c550c64-0611-415f-ae3f-29cc877754a4",
   "metadata": {},
   "source": [
    "Q2 part 2 answer -- SPY"
   ]
  },
  {
   "cell_type": "code",
   "execution_count": 13,
   "id": "09563bd4-fddc-4704-9406-cc0c9e93d1d4",
   "metadata": {
    "tags": []
   },
   "outputs": [
    {
     "data": {
      "text/html": [
       "<div>\n",
       "<style scoped>\n",
       "    .dataframe tbody tr th:only-of-type {\n",
       "        vertical-align: middle;\n",
       "    }\n",
       "\n",
       "    .dataframe tbody tr th {\n",
       "        vertical-align: top;\n",
       "    }\n",
       "\n",
       "    .dataframe thead th {\n",
       "        text-align: right;\n",
       "    }\n",
       "</style>\n",
       "<table border=\"1\" class=\"dataframe\">\n",
       "  <thead>\n",
       "    <tr style=\"text-align: right;\">\n",
       "      <th></th>\n",
       "      <th>True_Label</th>\n",
       "      <th>w_2</th>\n",
       "      <th>w_3</th>\n",
       "      <th>w_4</th>\n",
       "    </tr>\n",
       "  </thead>\n",
       "  <tbody>\n",
       "    <tr>\n",
       "      <th>Accuracy</th>\n",
       "      <td>1.000</td>\n",
       "      <td>0.579</td>\n",
       "      <td>0.579</td>\n",
       "      <td>0.540</td>\n",
       "    </tr>\n",
       "  </tbody>\n",
       "</table>\n",
       "</div>"
      ],
      "text/plain": [
       "          True_Label   w_2   w_3   w_4\n",
       "Accuracy       1.000 0.579 0.579 0.540"
      ]
     },
     "execution_count": 13,
     "metadata": {},
     "output_type": "execute_result"
    }
   ],
   "source": [
    "accuracy(w_labs_spy)"
   ]
  },
  {
   "cell_type": "markdown",
   "id": "01bd04fa-0bac-461c-9882-9e9bf7b6e8cf",
   "metadata": {},
   "source": [
    "Q2 part 2 answer -- GME"
   ]
  },
  {
   "cell_type": "code",
   "execution_count": 14,
   "id": "345e6a3e-e9bc-4c71-9554-7ffdf69d77db",
   "metadata": {
    "tags": []
   },
   "outputs": [
    {
     "data": {
      "text/html": [
       "<div>\n",
       "<style scoped>\n",
       "    .dataframe tbody tr th:only-of-type {\n",
       "        vertical-align: middle;\n",
       "    }\n",
       "\n",
       "    .dataframe tbody tr th {\n",
       "        vertical-align: top;\n",
       "    }\n",
       "\n",
       "    .dataframe thead th {\n",
       "        text-align: right;\n",
       "    }\n",
       "</style>\n",
       "<table border=\"1\" class=\"dataframe\">\n",
       "  <thead>\n",
       "    <tr style=\"text-align: right;\">\n",
       "      <th></th>\n",
       "      <th>True_Label</th>\n",
       "      <th>w_2</th>\n",
       "      <th>w_3</th>\n",
       "      <th>w_4</th>\n",
       "    </tr>\n",
       "  </thead>\n",
       "  <tbody>\n",
       "    <tr>\n",
       "      <th>Accuracy</th>\n",
       "      <td>1.000</td>\n",
       "      <td>0.478</td>\n",
       "      <td>0.504</td>\n",
       "      <td>0.488</td>\n",
       "    </tr>\n",
       "  </tbody>\n",
       "</table>\n",
       "</div>"
      ],
      "text/plain": [
       "          True_Label   w_2   w_3   w_4\n",
       "Accuracy       1.000 0.478 0.504 0.488"
      ]
     },
     "execution_count": 14,
     "metadata": {},
     "output_type": "execute_result"
    }
   ],
   "source": [
    "accuracy(w_labs_gme)"
   ]
  },
  {
   "cell_type": "markdown",
   "id": "47363789-4f62-43dd-9a7a-c6b5b107f396",
   "metadata": {
    "tags": []
   },
   "source": [
    "###### Q2 Part 3\n",
    "Which W∗ value gave you the highest accuracy for your\n",
    "stock and and which W∗ value gave you the highest accuracy\n",
    "for S&P-500?"
   ]
  },
  {
   "cell_type": "markdown",
   "id": "3f40f991-f6b6-4d4d-86b2-4b5213db3096",
   "metadata": {},
   "source": [
    "Q2_3_GME: a W of 3 gave the highest accuracy of 0.502\n",
    "Q2_3_SPY: W's of 2 and 3 each gave accuracy of 0.579"
   ]
  },
  {
   "cell_type": "markdown",
   "id": "b8e67fd9-d6a6-452c-8170-4afce28e083f",
   "metadata": {
    "tags": []
   },
   "source": [
    "##### Question 3. \n",
    "One of the most powerful methods to (potentially) improve predictions is to combine predictions by some\n",
    "”averaging”. This is called ensemble learning. Let us consider\n",
    "the following procedure: for every day d, you have 3 predicted\n",
    "labels: for W = 2, W = 3 and W = 4. Let us compute an\n",
    "”ensemble” label for day d by taking the majority of your labels for that day. For example, if your predicted labels were\n",
    "”−”,”−” and ”+”, then we would take ”−” as ensemble label\n",
    "for day d (the majority of three labels is ”−”). If, on the other\n",
    "hand, your predicted labels were ”−”, ”+” and ”+” then we\n",
    "would take ”+” as ensemble label for day d (the majority of\n",
    "predicted labels is ”+”). Compute such ensemble labels and\n",
    "answer the following:\n",
    "1. compute ensemble labels for year 4 and 5 for both your\n",
    "stock and S&P-500.\n",
    "2. for both S&P-500 and your ticker, what percentage of labels\n",
    "in year 4 and 5 do you compute correctly by using ensemble?\n",
    "3. did you improve your accuracy on predicting ”−” labels by\n",
    "using ensemble compared to W = 2, 3, 4?\n",
    "4. did you improve your accuracy on predicting ”+” labels by\n",
    "using ensemble compared to W = 2, 3, 4?"
   ]
  },
  {
   "cell_type": "markdown",
   "id": "abc5eebe-64c9-47ee-b58d-5c5b46f87a75",
   "metadata": {},
   "source": [
    "###### Q3 Part 1 | compute ensemble labels for year 4 and 5 for both your stock and S&P-500."
   ]
  },
  {
   "cell_type": "code",
   "execution_count": 15,
   "id": "d16d3640-85b3-472f-8d3d-691074ed8496",
   "metadata": {
    "tags": []
   },
   "outputs": [],
   "source": [
    "def majority_predict(labels_df):\n",
    "    \"\"\"take a DataFrame of labels and return the same dataframe with an extra\n",
    "    column indicating the 'ensemble' prediction\"\"\"\n",
    "    \n",
    "    labels_df['e'] = labels_df.filter(regex='w_').mode(axis=1)\n",
    "    return labels_df"
   ]
  },
  {
   "cell_type": "code",
   "execution_count": 16,
   "id": "f8d45578-5215-41aa-b9af-8cb75d8f439e",
   "metadata": {
    "tags": []
   },
   "outputs": [],
   "source": [
    "w_e_labs_gme = majority_predict(w_labs_gme.copy(deep=True))\n",
    "w_e_labs_spy = majority_predict(w_labs_spy.copy(deep=True))"
   ]
  },
  {
   "cell_type": "markdown",
   "id": "6b6fa7e3-69da-43c5-9a21-25a1dbafa0cf",
   "metadata": {},
   "source": [
    "###### Q3 Part 2 | for both S&P-500 and your ticker, what percentage of labels in year 4 and 5 do you compute correctly by using ensemble?"
   ]
  },
  {
   "cell_type": "markdown",
   "id": "341e035a-2284-4985-b1e1-6c7642b68b50",
   "metadata": {},
   "source": [
    "GME: 48.2% accuracy"
   ]
  },
  {
   "cell_type": "code",
   "execution_count": 17,
   "id": "2b1093c2-b23b-4bcf-a693-c9c478c7b8fe",
   "metadata": {
    "tags": []
   },
   "outputs": [
    {
     "data": {
      "text/html": [
       "<div>\n",
       "<style scoped>\n",
       "    .dataframe tbody tr th:only-of-type {\n",
       "        vertical-align: middle;\n",
       "    }\n",
       "\n",
       "    .dataframe tbody tr th {\n",
       "        vertical-align: top;\n",
       "    }\n",
       "\n",
       "    .dataframe thead th {\n",
       "        text-align: right;\n",
       "    }\n",
       "</style>\n",
       "<table border=\"1\" class=\"dataframe\">\n",
       "  <thead>\n",
       "    <tr style=\"text-align: right;\">\n",
       "      <th></th>\n",
       "      <th>True_Label</th>\n",
       "      <th>w_2</th>\n",
       "      <th>w_3</th>\n",
       "      <th>w_4</th>\n",
       "      <th>e</th>\n",
       "    </tr>\n",
       "  </thead>\n",
       "  <tbody>\n",
       "    <tr>\n",
       "      <th>Accuracy</th>\n",
       "      <td>1.000</td>\n",
       "      <td>0.478</td>\n",
       "      <td>0.504</td>\n",
       "      <td>0.488</td>\n",
       "      <td>0.482</td>\n",
       "    </tr>\n",
       "  </tbody>\n",
       "</table>\n",
       "</div>"
      ],
      "text/plain": [
       "          True_Label   w_2   w_3   w_4     e\n",
       "Accuracy       1.000 0.478 0.504 0.488 0.482"
      ]
     },
     "execution_count": 17,
     "metadata": {},
     "output_type": "execute_result"
    }
   ],
   "source": [
    "accuracy(w_e_labs_gme)"
   ]
  },
  {
   "cell_type": "markdown",
   "id": "a61d80a1-df23-42dd-b6f6-143977f85981",
   "metadata": {},
   "source": [
    "SPY: 57.9% accuracy"
   ]
  },
  {
   "cell_type": "code",
   "execution_count": 18,
   "id": "00b76783-5845-4431-8003-cf18ae1e7220",
   "metadata": {
    "tags": []
   },
   "outputs": [
    {
     "data": {
      "text/html": [
       "<div>\n",
       "<style scoped>\n",
       "    .dataframe tbody tr th:only-of-type {\n",
       "        vertical-align: middle;\n",
       "    }\n",
       "\n",
       "    .dataframe tbody tr th {\n",
       "        vertical-align: top;\n",
       "    }\n",
       "\n",
       "    .dataframe thead th {\n",
       "        text-align: right;\n",
       "    }\n",
       "</style>\n",
       "<table border=\"1\" class=\"dataframe\">\n",
       "  <thead>\n",
       "    <tr style=\"text-align: right;\">\n",
       "      <th></th>\n",
       "      <th>True_Label</th>\n",
       "      <th>w_2</th>\n",
       "      <th>w_3</th>\n",
       "      <th>w_4</th>\n",
       "      <th>e</th>\n",
       "    </tr>\n",
       "  </thead>\n",
       "  <tbody>\n",
       "    <tr>\n",
       "      <th>Accuracy</th>\n",
       "      <td>1.000</td>\n",
       "      <td>0.579</td>\n",
       "      <td>0.579</td>\n",
       "      <td>0.540</td>\n",
       "      <td>0.579</td>\n",
       "    </tr>\n",
       "  </tbody>\n",
       "</table>\n",
       "</div>"
      ],
      "text/plain": [
       "          True_Label   w_2   w_3   w_4     e\n",
       "Accuracy       1.000 0.579 0.579 0.540 0.579"
      ]
     },
     "execution_count": 18,
     "metadata": {},
     "output_type": "execute_result"
    }
   ],
   "source": [
    "accuracy(w_e_labs_spy)"
   ]
  },
  {
   "cell_type": "markdown",
   "id": "f7bdd727-a323-4fde-84f5-52227f1c8d1c",
   "metadata": {},
   "source": [
    "###### Q3 Part 3 | did you improve your accuracy on predicting ”−” labels by using ensemble compared to W = 2, 3, 4?"
   ]
  },
  {
   "cell_type": "code",
   "execution_count": 19,
   "id": "3194a72e-dfb7-4b8c-9d4b-f5f150d21349",
   "metadata": {
    "tags": []
   },
   "outputs": [],
   "source": [
    "def accuracy_specific(labels_predictions,lab):\n",
    "    \"\"\"args -->  \n",
    "    labels_predictions: a DataFrame of true return labels and hyperparam W \n",
    "    predicted labels\n",
    "    lab: \"+\" or \"-\"\n",
    "    return --> a dictionary of accuracies for each hyperparameter\"\"\"\n",
    "    labels_predictions = labels_predictions.query(f'True_Label == \"{lab}\"')\n",
    "    n = labels_predictions.shape[0]\n",
    "    # generate dictionary entry of accuracy for each hyperparameter\n",
    "    acc_df = pd.DataFrame({h: sum(labels_predictions[h]==\n",
    "           labels_predictions.iloc[:,0])/n for h in labels_predictions},\n",
    "                        index = [\"Accuracy\"])\n",
    "    return acc_df"
   ]
  },
  {
   "cell_type": "code",
   "execution_count": 20,
   "id": "65bacac7-c015-41ab-9ec1-71f82dbb86fd",
   "metadata": {
    "tags": []
   },
   "outputs": [
    {
     "data": {
      "text/html": [
       "<div>\n",
       "<style scoped>\n",
       "    .dataframe tbody tr th:only-of-type {\n",
       "        vertical-align: middle;\n",
       "    }\n",
       "\n",
       "    .dataframe tbody tr th {\n",
       "        vertical-align: top;\n",
       "    }\n",
       "\n",
       "    .dataframe thead th {\n",
       "        text-align: right;\n",
       "    }\n",
       "</style>\n",
       "<table border=\"1\" class=\"dataframe\">\n",
       "  <thead>\n",
       "    <tr style=\"text-align: right;\">\n",
       "      <th></th>\n",
       "      <th>True_Label</th>\n",
       "      <th>w_2</th>\n",
       "      <th>w_3</th>\n",
       "      <th>w_4</th>\n",
       "      <th>e</th>\n",
       "    </tr>\n",
       "  </thead>\n",
       "  <tbody>\n",
       "    <tr>\n",
       "      <th>Accuracy</th>\n",
       "      <td>1.000</td>\n",
       "      <td>0.000</td>\n",
       "      <td>0.000</td>\n",
       "      <td>0.179</td>\n",
       "      <td>0.000</td>\n",
       "    </tr>\n",
       "  </tbody>\n",
       "</table>\n",
       "</div>"
      ],
      "text/plain": [
       "          True_Label   w_2   w_3   w_4     e\n",
       "Accuracy       1.000 0.000 0.000 0.179 0.000"
      ]
     },
     "execution_count": 20,
     "metadata": {},
     "output_type": "execute_result"
    }
   ],
   "source": [
    "accuracy_specific(w_e_labs_spy,'-')"
   ]
  },
  {
   "cell_type": "code",
   "execution_count": 21,
   "id": "4bb1cf42-49c1-4133-aed4-cf4998b90d40",
   "metadata": {
    "tags": []
   },
   "outputs": [
    {
     "data": {
      "text/html": [
       "<div>\n",
       "<style scoped>\n",
       "    .dataframe tbody tr th:only-of-type {\n",
       "        vertical-align: middle;\n",
       "    }\n",
       "\n",
       "    .dataframe tbody tr th {\n",
       "        vertical-align: top;\n",
       "    }\n",
       "\n",
       "    .dataframe thead th {\n",
       "        text-align: right;\n",
       "    }\n",
       "</style>\n",
       "<table border=\"1\" class=\"dataframe\">\n",
       "  <thead>\n",
       "    <tr style=\"text-align: right;\">\n",
       "      <th></th>\n",
       "      <th>True_Label</th>\n",
       "      <th>w_2</th>\n",
       "      <th>w_3</th>\n",
       "      <th>w_4</th>\n",
       "      <th>e</th>\n",
       "    </tr>\n",
       "  </thead>\n",
       "  <tbody>\n",
       "    <tr>\n",
       "      <th>Accuracy</th>\n",
       "      <td>1.000</td>\n",
       "      <td>0.243</td>\n",
       "      <td>0.378</td>\n",
       "      <td>0.293</td>\n",
       "      <td>0.363</td>\n",
       "    </tr>\n",
       "  </tbody>\n",
       "</table>\n",
       "</div>"
      ],
      "text/plain": [
       "          True_Label   w_2   w_3   w_4     e\n",
       "Accuracy       1.000 0.243 0.378 0.293 0.363"
      ]
     },
     "execution_count": 21,
     "metadata": {},
     "output_type": "execute_result"
    }
   ],
   "source": [
    "accuracy_specific(w_e_labs_gme,'-')"
   ]
  },
  {
   "cell_type": "markdown",
   "id": "63b56759-bd06-48ab-afab-afd047fce441",
   "metadata": {},
   "source": [
    "For SPY, ensemble accuracy was 0.00% along with w_2 and w_3, while w_4 scored 17.9% accuracy\\\n",
    "For GME, ensemble accuracy (36.3%) was better than w_3 (37.8) and w_4 (29.3%) but worse than w_2."
   ]
  },
  {
   "cell_type": "markdown",
   "id": "42e1f80a-f8e9-491d-8cfb-aaddb2aecb3b",
   "metadata": {},
   "source": [
    "###### Q3 Part 4 | did you improve your accuracy on predicting ”+” labels by using ensemble compared to W = 2, 3, 4?"
   ]
  },
  {
   "cell_type": "code",
   "execution_count": 22,
   "id": "623cc539-48ff-4989-b55d-cc4b7e1f3f85",
   "metadata": {
    "tags": []
   },
   "outputs": [
    {
     "data": {
      "text/html": [
       "<div>\n",
       "<style scoped>\n",
       "    .dataframe tbody tr th:only-of-type {\n",
       "        vertical-align: middle;\n",
       "    }\n",
       "\n",
       "    .dataframe tbody tr th {\n",
       "        vertical-align: top;\n",
       "    }\n",
       "\n",
       "    .dataframe thead th {\n",
       "        text-align: right;\n",
       "    }\n",
       "</style>\n",
       "<table border=\"1\" class=\"dataframe\">\n",
       "  <thead>\n",
       "    <tr style=\"text-align: right;\">\n",
       "      <th></th>\n",
       "      <th>True_Label</th>\n",
       "      <th>w_2</th>\n",
       "      <th>w_3</th>\n",
       "      <th>w_4</th>\n",
       "      <th>e</th>\n",
       "    </tr>\n",
       "  </thead>\n",
       "  <tbody>\n",
       "    <tr>\n",
       "      <th>Accuracy</th>\n",
       "      <td>1.000</td>\n",
       "      <td>1.000</td>\n",
       "      <td>1.000</td>\n",
       "      <td>0.801</td>\n",
       "      <td>1.000</td>\n",
       "    </tr>\n",
       "  </tbody>\n",
       "</table>\n",
       "</div>"
      ],
      "text/plain": [
       "          True_Label   w_2   w_3   w_4     e\n",
       "Accuracy       1.000 1.000 1.000 0.801 1.000"
      ]
     },
     "execution_count": 22,
     "metadata": {},
     "output_type": "execute_result"
    }
   ],
   "source": [
    "accuracy_specific(w_e_labs_spy,'+')"
   ]
  },
  {
   "cell_type": "code",
   "execution_count": 23,
   "id": "d02fd8f9-19c9-4a26-9bb6-eb5cb42fb52a",
   "metadata": {
    "tags": []
   },
   "outputs": [
    {
     "data": {
      "text/html": [
       "<div>\n",
       "<style scoped>\n",
       "    .dataframe tbody tr th:only-of-type {\n",
       "        vertical-align: middle;\n",
       "    }\n",
       "\n",
       "    .dataframe tbody tr th {\n",
       "        vertical-align: top;\n",
       "    }\n",
       "\n",
       "    .dataframe thead th {\n",
       "        text-align: right;\n",
       "    }\n",
       "</style>\n",
       "<table border=\"1\" class=\"dataframe\">\n",
       "  <thead>\n",
       "    <tr style=\"text-align: right;\">\n",
       "      <th></th>\n",
       "      <th>True_Label</th>\n",
       "      <th>w_2</th>\n",
       "      <th>w_3</th>\n",
       "      <th>w_4</th>\n",
       "      <th>e</th>\n",
       "    </tr>\n",
       "  </thead>\n",
       "  <tbody>\n",
       "    <tr>\n",
       "      <th>Accuracy</th>\n",
       "      <td>1.000</td>\n",
       "      <td>0.727</td>\n",
       "      <td>0.637</td>\n",
       "      <td>0.694</td>\n",
       "      <td>0.608</td>\n",
       "    </tr>\n",
       "  </tbody>\n",
       "</table>\n",
       "</div>"
      ],
      "text/plain": [
       "          True_Label   w_2   w_3   w_4     e\n",
       "Accuracy       1.000 0.727 0.637 0.694 0.608"
      ]
     },
     "execution_count": 23,
     "metadata": {},
     "output_type": "execute_result"
    }
   ],
   "source": [
    "accuracy_specific(w_e_labs_gme,'+')"
   ]
  },
  {
   "cell_type": "markdown",
   "id": "2f77854d-7e6b-4959-8bec-97713768c2e6",
   "metadata": {},
   "source": [
    "GME: ensemble accuracy (60.8%) was worse than each model alone."
   ]
  },
  {
   "cell_type": "markdown",
   "id": "fc9985a1-a3d8-4770-95c4-9032fe30aade",
   "metadata": {},
   "source": [
    "SPY: ensemble accuracy (100%) was better than w_4 (80.1%) but same as w_2 (100%) & w_4 (100%)"
   ]
  },
  {
   "cell_type": "markdown",
   "id": "49bf198a-999c-4afe-a5f5-0b75fb45308e",
   "metadata": {},
   "source": [
    "##### Question 4: For W = 2, 3, 4 and ensemble, compute the following (both for your ticker and ”spy”) statistics based on years 4 and 5:\n",
    "1. TP - true positives (your predicted label is + and true label\n",
    "is +\n",
    "2. FP - false positives (your predicted label is + but true label\n",
    "is −\n",
    "3. TN - true negativess (your predicted label is − and true\n",
    "label is −\n",
    "4. FN - false negatives (your predicted label is − but true label\n",
    "is +\n",
    "5. TPR = TP/(TP + FN) - true positive rate. This is the fraction of positive labels that your predicted correctly. This is\n",
    "also called sensitivity, recall or hit rate.\n",
    "6. TNR = TN/(TN + FP) - true negative rate. This is the\n",
    "fraction of negative labels that your predicted correctly.\n",
    "This is also called specificity or selectivity\n",
    "7. summarize your findings in the table as shown below:\n",
    "\n",
    "\n",
    "<img src=\"table_3.png\"  alt=\"table_3\" width=\"325\"/>\n",
    "\n",
    "8. discuss your findings\n"
   ]
  },
  {
   "cell_type": "code",
   "execution_count": 24,
   "id": "445a9318-ec3f-4b28-93d0-45d1495c142b",
   "metadata": {
    "tags": []
   },
   "outputs": [],
   "source": [
    "w_e_labs_gme.name=\"GME\""
   ]
  },
  {
   "cell_type": "code",
   "execution_count": 25,
   "id": "6a009451-e6b3-43f8-8847-a1fe309f752f",
   "metadata": {
    "tags": []
   },
   "outputs": [],
   "source": [
    "w_e_labs_spy.name=\"SPY\""
   ]
  },
  {
   "cell_type": "code",
   "execution_count": 26,
   "id": "275120a7-2398-455c-aaec-0ab744a233fe",
   "metadata": {
    "tags": []
   },
   "outputs": [],
   "source": [
    "def true_positives(labels_frames):\n",
    "    stats = pd.DataFrame()\n",
    "    for labels in labels_frames:\n",
    "        n = labels.shape[0]\n",
    "        hps = labels.filter(regex=\"(w_)|e$\").columns # hyperparameters \n",
    "        pos_inx = labels[labels.True_Label=='+'].index\n",
    "        neg_inx = labels[labels.True_Label=='-'].index\n",
    "        tp = [sum(labels.True_Label[pos_inx] == labels[hp][pos_inx]) \n",
    "              for hp in hps]\n",
    "        fp = [sum(labels.True_Label[pos_inx] != labels[hp][pos_inx]) \n",
    "              for hp in hps]\n",
    "        tn = [sum(labels.True_Label[neg_inx] == labels[hp][neg_inx]) \n",
    "              for hp in hps]\n",
    "        fn = [sum(labels.True_Label[neg_inx] != labels[hp][neg_inx]) \n",
    "              for hp in hps]\n",
    "        a = [\"{:.1%}\".format(round(sum(labels.True_Label == labels[hp])/n,3)) for hp in hps]\n",
    "        tpr = [round(element/len(pos_inx),3) for element in tp]\n",
    "        tnr = [round(element/len(neg_inx),3) for element in tn]\n",
    "        hi = pd.MultiIndex.from_arrays([[hp[-1] for hp in hps],\n",
    "                                        [labels.name]*len(hps)])\n",
    "        stats = pd.concat([stats,pd.DataFrame({'TP':tp,'FP':fp,'TN':tn,\n",
    "                        'FN':fn,'Accuracy':a,'TPR':tpr,'TNR':tnr},index = hi)])\n",
    "    return stats"
   ]
  },
  {
   "cell_type": "code",
   "execution_count": 27,
   "id": "6b5bdfc5-e1d6-4073-a578-4677fc8be41b",
   "metadata": {
    "tags": []
   },
   "outputs": [
    {
     "data": {
      "text/html": [
       "<div>\n",
       "<style scoped>\n",
       "    .dataframe tbody tr th:only-of-type {\n",
       "        vertical-align: middle;\n",
       "    }\n",
       "\n",
       "    .dataframe tbody tr th {\n",
       "        vertical-align: top;\n",
       "    }\n",
       "\n",
       "    .dataframe thead th {\n",
       "        text-align: right;\n",
       "    }\n",
       "</style>\n",
       "<table border=\"1\" class=\"dataframe\">\n",
       "  <thead>\n",
       "    <tr style=\"text-align: right;\">\n",
       "      <th></th>\n",
       "      <th></th>\n",
       "      <th>TP</th>\n",
       "      <th>FP</th>\n",
       "      <th>TN</th>\n",
       "      <th>FN</th>\n",
       "      <th>Accuracy</th>\n",
       "      <th>TPR</th>\n",
       "      <th>TNR</th>\n",
       "    </tr>\n",
       "  </thead>\n",
       "  <tbody>\n",
       "    <tr>\n",
       "      <th>2</th>\n",
       "      <th>SPY</th>\n",
       "      <td>292</td>\n",
       "      <td>0</td>\n",
       "      <td>0</td>\n",
       "      <td>212</td>\n",
       "      <td>57.9%</td>\n",
       "      <td>1.000</td>\n",
       "      <td>0.000</td>\n",
       "    </tr>\n",
       "    <tr>\n",
       "      <th>3</th>\n",
       "      <th>SPY</th>\n",
       "      <td>292</td>\n",
       "      <td>0</td>\n",
       "      <td>0</td>\n",
       "      <td>212</td>\n",
       "      <td>57.9%</td>\n",
       "      <td>1.000</td>\n",
       "      <td>0.000</td>\n",
       "    </tr>\n",
       "    <tr>\n",
       "      <th>4</th>\n",
       "      <th>SPY</th>\n",
       "      <td>234</td>\n",
       "      <td>58</td>\n",
       "      <td>38</td>\n",
       "      <td>174</td>\n",
       "      <td>54.0%</td>\n",
       "      <td>0.801</td>\n",
       "      <td>0.179</td>\n",
       "    </tr>\n",
       "    <tr>\n",
       "      <th>e</th>\n",
       "      <th>SPY</th>\n",
       "      <td>292</td>\n",
       "      <td>0</td>\n",
       "      <td>0</td>\n",
       "      <td>212</td>\n",
       "      <td>57.9%</td>\n",
       "      <td>1.000</td>\n",
       "      <td>0.000</td>\n",
       "    </tr>\n",
       "    <tr>\n",
       "      <th>2</th>\n",
       "      <th>GME</th>\n",
       "      <td>178</td>\n",
       "      <td>67</td>\n",
       "      <td>63</td>\n",
       "      <td>196</td>\n",
       "      <td>47.8%</td>\n",
       "      <td>0.727</td>\n",
       "      <td>0.243</td>\n",
       "    </tr>\n",
       "    <tr>\n",
       "      <th>3</th>\n",
       "      <th>GME</th>\n",
       "      <td>156</td>\n",
       "      <td>89</td>\n",
       "      <td>98</td>\n",
       "      <td>161</td>\n",
       "      <td>50.4%</td>\n",
       "      <td>0.637</td>\n",
       "      <td>0.378</td>\n",
       "    </tr>\n",
       "    <tr>\n",
       "      <th>4</th>\n",
       "      <th>GME</th>\n",
       "      <td>170</td>\n",
       "      <td>75</td>\n",
       "      <td>76</td>\n",
       "      <td>183</td>\n",
       "      <td>48.8%</td>\n",
       "      <td>0.694</td>\n",
       "      <td>0.293</td>\n",
       "    </tr>\n",
       "    <tr>\n",
       "      <th>e</th>\n",
       "      <th>GME</th>\n",
       "      <td>149</td>\n",
       "      <td>96</td>\n",
       "      <td>94</td>\n",
       "      <td>165</td>\n",
       "      <td>48.2%</td>\n",
       "      <td>0.608</td>\n",
       "      <td>0.363</td>\n",
       "    </tr>\n",
       "  </tbody>\n",
       "</table>\n",
       "</div>"
      ],
      "text/plain": [
       "        TP  FP  TN   FN Accuracy   TPR   TNR\n",
       "2 SPY  292   0   0  212    57.9% 1.000 0.000\n",
       "3 SPY  292   0   0  212    57.9% 1.000 0.000\n",
       "4 SPY  234  58  38  174    54.0% 0.801 0.179\n",
       "e SPY  292   0   0  212    57.9% 1.000 0.000\n",
       "2 GME  178  67  63  196    47.8% 0.727 0.243\n",
       "3 GME  156  89  98  161    50.4% 0.637 0.378\n",
       "4 GME  170  75  76  183    48.8% 0.694 0.293\n",
       "e GME  149  96  94  165    48.2% 0.608 0.363"
      ]
     },
     "execution_count": 27,
     "metadata": {},
     "output_type": "execute_result"
    }
   ],
   "source": [
    "true_positives([w_e_labs_spy,w_e_labs_gme])"
   ]
  },
  {
   "cell_type": "markdown",
   "id": "24d93269-2581-40fa-9458-ba2c9d04e9fd",
   "metadata": {},
   "source": [
    "<img src=\"roc_stats.png\"  alt=\"roc_stats\" width=\"325\"/>\n",
    "From the statistics above, we can see that for the s&p 500 there are only positive predictions for hyperparams of 2,3, and ensemble while a W of 4 at least makes an attempt at negative predictions, so that some of the length 4 permulations of '+' and '-' are associated with negative returns more than 50% of the time.  This seems to match the generally consistent upward trend (and more often than not positive returns) over the five years of the S&P 500 data examined.  For GME, the higher number of negative predictions, and hence slightly more acceptable **TNR** indicates that returns following a pattern were less universally positive on average.  The surprising fact that the accuracy was under 50% for GME for hyperparams of W=2,3, and ensemble indicate that the overall trend in the returns shifted from years 1,2 & 3 to years 4 & 5. In otherwords, either a stable trend became more definitively positive or negative or there was a directional switch.\n",
    "\\\n",
    "Most accurate, arguably \"best\" values of hyperparams for SPY & GME:\n",
    "SPY: 2,3 and Ensemble are the most accurate\n",
    "GME: a W of 3 leads to the greatest accuracy."
   ]
  },
  {
   "cell_type": "markdown",
   "id": "44880c69-3484-42a9-9842-23223e28d465",
   "metadata": {},
   "source": [
    "##### Question 5: At the beginning of year 4 you start with $100 dollars and trade for 2 years based on predicted labels.\n",
    "1. take your stock. Plot the growth of your amount for 2 years\n",
    "if you trade based on best W∗\n",
    "and on ensemble. On the\n",
    "same graph, plot the growth of your portfolio for ”buy-andhold” strategy\n",
    "2. examine your chart. Any patterns? (e.g any differences in\n",
    "year 4 and year 5)"
   ]
  },
  {
   "cell_type": "markdown",
   "id": "d3cdac75-b941-4c6a-9a78-1a4aeceef9a6",
   "metadata": {},
   "source": [
    "###### Q5 Part 1: take your stock. Plot the growth of your amount for 2 years if you trade based on best W∗ and on ensemble. On the same graph, plot the growth of your portfolio for ”buy-andhold” strategy"
   ]
  },
  {
   "cell_type": "code",
   "execution_count": 28,
   "id": "d6ed7ff9-afbc-4e56-bccf-1f4ff5ea606e",
   "metadata": {
    "tags": []
   },
   "outputs": [],
   "source": [
    "def cumulative_returns(r,begin_amt):\n",
    "    c_r = [1+r.pop(0)]\n",
    "    while r:\n",
    "        c_r.append(c_r[-1]*(1+r.pop(0)))\n",
    "    return [begin_amt*cr for cr in c_r]"
   ]
  },
  {
   "cell_type": "code",
   "execution_count": 29,
   "id": "67ea965b-cdaa-4e55-b2ef-5ea7b28e9847",
   "metadata": {
    "tags": []
   },
   "outputs": [],
   "source": [
    "def returns_to_date(labels):\n",
    "    with_returns = pd.concat([labels,globals()[labels.name.lower()].\\\n",
    "               query('Year >= 2020').Return],axis=1)\n",
    "    hps = with_returns.filter(regex='(w_)|(e$)').columns\n",
    "    c_r_df = pd.DataFrame()\n",
    "    for hp in hps:\n",
    "        return_col_name = f'{hp}_return'\n",
    "        returns_list = [r if lab == '+' else 0 for lab,r in zip(\n",
    "            with_returns[hp],with_returns.Return) ]\n",
    "        cr = cumulative_returns(returns_list,100)\n",
    "        c_r_df = pd.concat([c_r_df,pd.Series(cr,name = return_col_name)],axis=1)\n",
    "    b_and_h = cumulative_returns([r for r in with_returns.Return],100)\n",
    "    c_r_df = pd.concat([c_r_df,pd.Series(b_and_h,name = 'buy_and_hold')],axis=1)\n",
    "    return c_r_df"
   ]
  },
  {
   "cell_type": "code",
   "execution_count": 30,
   "id": "e4f4755f-0c81-4c58-a4b1-5d327dc9d677",
   "metadata": {
    "tags": []
   },
   "outputs": [
    {
     "data": {
      "text/html": [
       "<div>\n",
       "<style scoped>\n",
       "    .dataframe tbody tr th:only-of-type {\n",
       "        vertical-align: middle;\n",
       "    }\n",
       "\n",
       "    .dataframe tbody tr th {\n",
       "        vertical-align: top;\n",
       "    }\n",
       "\n",
       "    .dataframe thead th {\n",
       "        text-align: right;\n",
       "    }\n",
       "</style>\n",
       "<table border=\"1\" class=\"dataframe\">\n",
       "  <thead>\n",
       "    <tr style=\"text-align: right;\">\n",
       "      <th></th>\n",
       "      <th>w_2_return</th>\n",
       "      <th>w_3_return</th>\n",
       "      <th>w_4_return</th>\n",
       "      <th>e_return</th>\n",
       "      <th>buy_and_hold</th>\n",
       "    </tr>\n",
       "  </thead>\n",
       "  <tbody>\n",
       "    <tr>\n",
       "      <th>0</th>\n",
       "      <td>100.935</td>\n",
       "      <td>100.935</td>\n",
       "      <td>100.935</td>\n",
       "      <td>100.935</td>\n",
       "      <td>100.935</td>\n",
       "    </tr>\n",
       "    <tr>\n",
       "      <th>1</th>\n",
       "      <td>100.171</td>\n",
       "      <td>100.171</td>\n",
       "      <td>100.171</td>\n",
       "      <td>100.171</td>\n",
       "      <td>100.171</td>\n",
       "    </tr>\n",
       "    <tr>\n",
       "      <th>2</th>\n",
       "      <td>100.553</td>\n",
       "      <td>100.553</td>\n",
       "      <td>100.171</td>\n",
       "      <td>100.553</td>\n",
       "      <td>100.553</td>\n",
       "    </tr>\n",
       "    <tr>\n",
       "      <th>3</th>\n",
       "      <td>100.270</td>\n",
       "      <td>100.270</td>\n",
       "      <td>99.889</td>\n",
       "      <td>100.270</td>\n",
       "      <td>100.270</td>\n",
       "    </tr>\n",
       "    <tr>\n",
       "      <th>4</th>\n",
       "      <td>100.805</td>\n",
       "      <td>100.805</td>\n",
       "      <td>100.422</td>\n",
       "      <td>100.805</td>\n",
       "      <td>100.805</td>\n",
       "    </tr>\n",
       "    <tr>\n",
       "      <th>...</th>\n",
       "      <td>...</td>\n",
       "      <td>...</td>\n",
       "      <td>...</td>\n",
       "      <td>...</td>\n",
       "      <td>...</td>\n",
       "    </tr>\n",
       "    <tr>\n",
       "      <th>499</th>\n",
       "      <td>150.928</td>\n",
       "      <td>150.928</td>\n",
       "      <td>122.854</td>\n",
       "      <td>150.928</td>\n",
       "      <td>150.928</td>\n",
       "    </tr>\n",
       "    <tr>\n",
       "      <th>500</th>\n",
       "      <td>153.064</td>\n",
       "      <td>153.064</td>\n",
       "      <td>122.854</td>\n",
       "      <td>153.064</td>\n",
       "      <td>153.064</td>\n",
       "    </tr>\n",
       "    <tr>\n",
       "      <th>501</th>\n",
       "      <td>152.939</td>\n",
       "      <td>152.939</td>\n",
       "      <td>122.754</td>\n",
       "      <td>152.939</td>\n",
       "      <td>152.939</td>\n",
       "    </tr>\n",
       "    <tr>\n",
       "      <th>502</th>\n",
       "      <td>153.135</td>\n",
       "      <td>153.135</td>\n",
       "      <td>122.911</td>\n",
       "      <td>153.135</td>\n",
       "      <td>153.135</td>\n",
       "    </tr>\n",
       "    <tr>\n",
       "      <th>503</th>\n",
       "      <td>152.712</td>\n",
       "      <td>152.712</td>\n",
       "      <td>122.571</td>\n",
       "      <td>152.712</td>\n",
       "      <td>152.712</td>\n",
       "    </tr>\n",
       "  </tbody>\n",
       "</table>\n",
       "<p>504 rows × 5 columns</p>\n",
       "</div>"
      ],
      "text/plain": [
       "     w_2_return  w_3_return  w_4_return  e_return  buy_and_hold\n",
       "0       100.935     100.935     100.935   100.935       100.935\n",
       "1       100.171     100.171     100.171   100.171       100.171\n",
       "2       100.553     100.553     100.171   100.553       100.553\n",
       "3       100.270     100.270      99.889   100.270       100.270\n",
       "4       100.805     100.805     100.422   100.805       100.805\n",
       "..          ...         ...         ...       ...           ...\n",
       "499     150.928     150.928     122.854   150.928       150.928\n",
       "500     153.064     153.064     122.854   153.064       153.064\n",
       "501     152.939     152.939     122.754   152.939       152.939\n",
       "502     153.135     153.135     122.911   153.135       153.135\n",
       "503     152.712     152.712     122.571   152.712       152.712\n",
       "\n",
       "[504 rows x 5 columns]"
      ]
     },
     "execution_count": 30,
     "metadata": {},
     "output_type": "execute_result"
    }
   ],
   "source": [
    "spy_returns = returns_to_date(w_e_labs_spy)\n",
    "spy_returns.name='spy_returns'\n",
    "spy_returns"
   ]
  },
  {
   "cell_type": "code",
   "execution_count": 31,
   "id": "8a32c888-0de8-466b-a3d9-d1013024fccd",
   "metadata": {
    "tags": []
   },
   "outputs": [
    {
     "data": {
      "text/html": [
       "<div>\n",
       "<style scoped>\n",
       "    .dataframe tbody tr th:only-of-type {\n",
       "        vertical-align: middle;\n",
       "    }\n",
       "\n",
       "    .dataframe tbody tr th {\n",
       "        vertical-align: top;\n",
       "    }\n",
       "\n",
       "    .dataframe thead th {\n",
       "        text-align: right;\n",
       "    }\n",
       "</style>\n",
       "<table border=\"1\" class=\"dataframe\">\n",
       "  <thead>\n",
       "    <tr style=\"text-align: right;\">\n",
       "      <th></th>\n",
       "      <th>w_2_return</th>\n",
       "      <th>w_3_return</th>\n",
       "      <th>w_4_return</th>\n",
       "      <th>e_return</th>\n",
       "      <th>buy_and_hold</th>\n",
       "    </tr>\n",
       "  </thead>\n",
       "  <tbody>\n",
       "    <tr>\n",
       "      <th>0</th>\n",
       "      <td>103.783</td>\n",
       "      <td>100.000</td>\n",
       "      <td>100.000</td>\n",
       "      <td>100.000</td>\n",
       "      <td>103.783</td>\n",
       "    </tr>\n",
       "    <tr>\n",
       "      <th>1</th>\n",
       "      <td>96.711</td>\n",
       "      <td>100.000</td>\n",
       "      <td>93.185</td>\n",
       "      <td>93.185</td>\n",
       "      <td>96.711</td>\n",
       "    </tr>\n",
       "    <tr>\n",
       "      <th>2</th>\n",
       "      <td>96.217</td>\n",
       "      <td>99.490</td>\n",
       "      <td>92.710</td>\n",
       "      <td>92.710</td>\n",
       "      <td>96.217</td>\n",
       "    </tr>\n",
       "    <tr>\n",
       "      <th>3</th>\n",
       "      <td>96.217</td>\n",
       "      <td>99.490</td>\n",
       "      <td>87.480</td>\n",
       "      <td>92.710</td>\n",
       "      <td>90.789</td>\n",
       "    </tr>\n",
       "    <tr>\n",
       "      <th>4</th>\n",
       "      <td>96.217</td>\n",
       "      <td>103.094</td>\n",
       "      <td>87.480</td>\n",
       "      <td>92.710</td>\n",
       "      <td>94.079</td>\n",
       "    </tr>\n",
       "    <tr>\n",
       "      <th>...</th>\n",
       "      <td>...</td>\n",
       "      <td>...</td>\n",
       "      <td>...</td>\n",
       "      <td>...</td>\n",
       "      <td>...</td>\n",
       "    </tr>\n",
       "    <tr>\n",
       "      <th>499</th>\n",
       "      <td>2063.587</td>\n",
       "      <td>542.914</td>\n",
       "      <td>315.918</td>\n",
       "      <td>281.504</td>\n",
       "      <td>2502.303</td>\n",
       "    </tr>\n",
       "    <tr>\n",
       "      <th>500</th>\n",
       "      <td>2063.587</td>\n",
       "      <td>542.914</td>\n",
       "      <td>315.918</td>\n",
       "      <td>281.504</td>\n",
       "      <td>2439.309</td>\n",
       "    </tr>\n",
       "    <tr>\n",
       "      <th>501</th>\n",
       "      <td>2063.587</td>\n",
       "      <td>536.142</td>\n",
       "      <td>315.918</td>\n",
       "      <td>281.504</td>\n",
       "      <td>2408.882</td>\n",
       "    </tr>\n",
       "    <tr>\n",
       "      <th>502</th>\n",
       "      <td>2063.587</td>\n",
       "      <td>563.487</td>\n",
       "      <td>332.031</td>\n",
       "      <td>295.862</td>\n",
       "      <td>2531.743</td>\n",
       "    </tr>\n",
       "    <tr>\n",
       "      <th>503</th>\n",
       "      <td>2082.356</td>\n",
       "      <td>568.612</td>\n",
       "      <td>335.051</td>\n",
       "      <td>298.553</td>\n",
       "      <td>2554.770</td>\n",
       "    </tr>\n",
       "  </tbody>\n",
       "</table>\n",
       "<p>504 rows × 5 columns</p>\n",
       "</div>"
      ],
      "text/plain": [
       "     w_2_return  w_3_return  w_4_return  e_return  buy_and_hold\n",
       "0       103.783     100.000     100.000   100.000       103.783\n",
       "1        96.711     100.000      93.185    93.185        96.711\n",
       "2        96.217      99.490      92.710    92.710        96.217\n",
       "3        96.217      99.490      87.480    92.710        90.789\n",
       "4        96.217     103.094      87.480    92.710        94.079\n",
       "..          ...         ...         ...       ...           ...\n",
       "499    2063.587     542.914     315.918   281.504      2502.303\n",
       "500    2063.587     542.914     315.918   281.504      2439.309\n",
       "501    2063.587     536.142     315.918   281.504      2408.882\n",
       "502    2063.587     563.487     332.031   295.862      2531.743\n",
       "503    2082.356     568.612     335.051   298.553      2554.770\n",
       "\n",
       "[504 rows x 5 columns]"
      ]
     },
     "execution_count": 31,
     "metadata": {},
     "output_type": "execute_result"
    }
   ],
   "source": [
    "gme_returns = returns_to_date(w_e_labs_gme)\n",
    "gme_returns.name='gme_returns'\n",
    "gme_returns"
   ]
  },
  {
   "cell_type": "markdown",
   "id": "32b37f1d-eab9-49ed-a0c0-25b7cbe39a63",
   "metadata": {},
   "source": [
    "Most accurate, arguably \"best\" values of hyperparams for SPY & GME:\n",
    "SPY: 2,3 and Ensemble are the most accurate\n",
    "GME: a W of 3 leads to the greatest accuracy.\n",
    "\n",
    "From the tables above, trading based on the most accurate hyperparameters does not necessarily lead to the best cumulative returns over years 4 & 5.  \n",
    "\n",
    "For SPY, the 'time in the market' strategy does in fact generate better returns than the other strategies tested.\n",
    "\n",
    "For GME, staying out of the market on days predicted to be negative by the W=2 strategy does worse than the buy & hold strategy, while following a trading strategy based on the most accurate hyperparameter does quite horribly in comparison to both the 'time in the market' and W_2 approaches, while returning slightly better than W_4.  Interestingly, the ensemble strategy does by far the worst! This could be because w_2, w_3, and w_4 tend to predict the same days as negative, so that if one predicts positive and the other two negative the ensemble will chose to stay out of the market, while one of the individual strategies stays in the market and earns a positive return.  The high variability in GME's returns could be due to the randomness inherent in extreme volatility, where a small number of key trades or non-trades can make all the difference.\n",
    "\n",
    "From the tables above, trading based on the most accurate hyperparameters does not necessarily lead to the best cumulative returns over years 4 & 5.  \n",
    "\n",
    "For SPY, the 'time in the market' strategy does in fact generate better returns than the other strategies tested.\n",
    "\n",
    "For GME, staying out of the market on days predicted to be negative by the W=2 strategy does worse than the buy & hold strategy, while following a trading strategy based on the most accurate hyperparameter does quite horribly in comparison to both the 'time in the market' and W_2 approaches, while returning slightly better than W_4.  Interestingly, the ensemble strategy does by far the worst! This could be because w_2, w_3, and w_4 tend to predict the same days as negative, so that if one predicts positive and the other two negative the ensemble will chose to stay out of the market, while one of the individual strategies stays in the market and earns a positive return.  The high variability in GME's returns could be due to the randomness inherent in extreme volatility, where a small number of key trades or non-trades can make all the difference."
   ]
  },
  {
   "cell_type": "code",
   "execution_count": 32,
   "id": "24ab7d95-60ca-4016-b175-1e57c7b461dd",
   "metadata": {
    "tags": []
   },
   "outputs": [
    {
     "data": {
      "image/png": "[encoded data removed]",
      "text/plain": [
       "<Figure size 640x480 with 1 Axes>"
      ]
     },
     "metadata": {},
     "output_type": "display_data"
    }
   ],
   "source": [
    "gme_plot = (sns.lineplot(data=gme_returns))\n",
    "gme_plot.set(xlabel='Days Since January 2nd, 2020', ylabel='Portfolio Value',\n",
    "            title='GME Returns by Strategy')\n",
    "gme_plot;"
   ]
  },
  {
   "cell_type": "code",
   "execution_count": 33,
   "id": "62042a27-c6ac-464f-9e82-c0191e2d58a7",
   "metadata": {
    "tags": []
   },
   "outputs": [
    {
     "data": {
      "image/png": "[encoded data removed]",
      "text/plain": [
       "<Figure size 640x480 with 1 Axes>"
      ]
     },
     "metadata": {},
     "output_type": "display_data"
    }
   ],
   "source": [
    "spy_plot = (sns.lineplot(data=spy_returns))\n",
    "spy_plot.set(xlabel='Days Since January 2nd, 2020', ylabel='Portfolio Value',\n",
    "            title='SPY Returns by Strategy')\n",
    "spy_plot;"
   ]
  },
  {
   "cell_type": "markdown",
   "id": "7a593ccc-0cc8-409c-a5a6-30efe2da1b68",
   "metadata": {
    "tags": []
   },
   "source": [
    "###### Q5 Part 2. examine your chart. Any patterns? (e.g any differences in year 4 and year 5)"
   ]
  },
  {
   "cell_type": "markdown",
   "id": "aae3ecac-5e5a-4bc8-9ba3-1ff4f87ecd7a",
   "metadata": {},
   "source": [
    "After examining the charts, the analysis resulting from looking at the tables largely hold.  The immense returns and losses around the 280 day mark for GME as well as high subsequent volatility supports the notion that missing out on a few trading days can have a massively negative impact on one's portfolio.  Similarly, for SPY, if one missed out on a few trading days because one's model decided to stay out of the market, the overall return was significantly worse.  Notably, there appeared to be little protection from the pandemic-induced bear market of early 2020 by following the W=4 strategy and choosing not to trade some days."
   ]
  },
  {
   "cell_type": "markdown",
   "id": "ca63b620-ebc2-4aa1-acb5-2ca3186853dd",
   "metadata": {},
   "source": []
  }
 ],
 "metadata": {
  "kernelspec": {
   "display_name": "Python 3 (ipykernel)",
   "language": "python",
   "name": "python3"
  },
  "language_info": {
   "codemirror_mode": {
    "name": "ipython",
    "version": 3
   },
   "file_extension": ".py",
   "mimetype": "text/x-python",
   "name": "python",
   "nbconvert_exporter": "python",
   "pygments_lexer": "ipython3",
   "version": "3.9.18"
  }
 },
 "nbformat": 4,
 "nbformat_minor": 5
}
