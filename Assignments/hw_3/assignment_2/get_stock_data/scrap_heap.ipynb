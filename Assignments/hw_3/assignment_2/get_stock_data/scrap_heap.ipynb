{
 "cells": [
  {
   "cell_type": "code",
   "execution_count": 529,
   "id": "05792523-93ff-41e2-9203-fcedf020f141",
   "metadata": {},
   "outputs": [],
   "source": [
    "gme_evaporating = [val for val in gme_daily_profits] # no shallow copy funnybiz?\n",
    "gme_d0 = gme_evaporating[0][0]"
   ]
  },
  {
   "cell_type": "code",
   "execution_count": 530,
   "id": "22bc65d5-39b9-452b-b14c-603d175f64d4",
   "metadata": {},
   "outputs": [],
   "source": [
    "years = [1,2,3,4]\n",
    "gme_d0_transformed = date_transform(gme_d0)\n",
    "for year in years:\n",
    "    placeholder = f'gme_{year}'\n",
    "    globals()[placeholder] = [gme_evaporating.pop(0) for _ in gme_evaporating \n",
    "                            if  date_transform(gme_evaporating[0][0]) < \n",
    "                             gme_d0_transformed+year*2080]\n",
    "gme_5 = gme_evaporating # Fifth year in loop was cutting off in March, no idea!"
   ]
  },
  {
   "cell_type": "code",
   "execution_count": 603,
   "id": "98ddbdcb-959f-4b10-9dd5-d5b7c34d4eb6",
   "metadata": {},
   "outputs": [],
   "source": [
    "spy_evaporating = [val for val in spy_daily_profits] # no shallow copy funnybiz?\n",
    "spy_d0 = spy_evaporating[0][0]"
   ]
  },
  {
   "cell_type": "code",
   "execution_count": 604,
   "id": "274878a4-b3f1-4545-9f81-a003d4cf3b3e",
   "metadata": {},
   "outputs": [],
   "source": [
    "years = [1,2,3,4]\n",
    "spy_d0_transformed = date_transform(spy_d0)\n",
    "for year in years:\n",
    "    placeholder = f'spy_{year}'\n",
    "    globals()[placeholder] = [spy_evaporating.pop(0) for _ in spy_evaporating \n",
    "                            if  date_transform(spy_evaporating[0][0]) < \n",
    "                             spy_d0_transformed+year*2080]\n",
    "spy_5 = spy_evaporating # Fifth year in loop was cutting off in March, no idea!"
   ]
  }
 ],
 "metadata": {
  "kernelspec": {
   "display_name": "Python 3 (ipykernel)",
   "language": "python",
   "name": "python3"
  },
  "language_info": {
   "codemirror_mode": {
    "name": "ipython",
    "version": 3
   },
   "file_extension": ".py",
   "mimetype": "text/x-python",
   "name": "python",
   "nbconvert_exporter": "python",
   "pygments_lexer": "ipython3",
   "version": "3.9.13"
  }
 },
 "nbformat": 4,
 "nbformat_minor": 5
}
