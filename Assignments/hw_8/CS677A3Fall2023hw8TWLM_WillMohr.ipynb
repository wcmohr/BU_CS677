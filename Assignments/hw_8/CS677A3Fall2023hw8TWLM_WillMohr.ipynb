{
 "cells": [
  {
   "cell_type": "code",
   "execution_count": 1,
   "id": "e0953271-2597-44fa-8e38-f84cd02f8b32",
   "metadata": {},
   "outputs": [],
   "source": [
    "import pandas as pd\n",
    "import numpy as np\n",
    "from function_wrappers import *\n",
    "from functions import *\n",
    "from sklearn.preprocessing import LabelEncoder\n",
    "from sklearn.metrics import accuracy_score\n",
    "import seaborn as sns\n",
    "import matplotlib.pyplot as plt\n",
    "from sklearn.metrics import confusion_matrix\n",
    "from sklearn.metrics import ConfusionMatrixDisplay\n",
    "from functions import hyperparameter_grid"
   ]
  },
  {
   "cell_type": "markdown",
   "id": "88db3428-9cd8-4ed4-aba7-869634ee5f19",
   "metadata": {},
   "source": [
    "def hyperparameter_grid(stock,year_train,w_array,d_array,test,measure):\n",
    "    hp = {}\n",
    "    for d in d_array:\n",
    "        for w in w_array:\n",
    "            hp[(d,w)] = polynomial_accuracy(stock,y=year_train,w=w,d=d,\n",
    "                            test=test, measure=measure)[0]  \n",
    "    accuracies_df = pd.DataFrame([tuple(list(k)+[hp[k]]) for k in hp.keys()],\n",
    "                                 columns = ['d','w','accuracy'])\n",
    "    return accuracies_df"
   ]
  },
  {
   "cell_type": "markdown",
   "id": "8d09098f-866e-4a75-ba43-e92b0c2f89a3",
   "metadata": {},
   "source": [
    "## Trading With Linear Models"
   ]
  },
  {
   "cell_type": "markdown",
   "id": "4f7e2380-508e-43b6-a395-f1cf3e7972a9",
   "metadata": {},
   "source": [
    "###### Description"
   ]
  },
  {
   "cell_type": "markdown",
   "id": "015ca707-4843-4794-8d4c-c64201cf2319",
   "metadata": {},
   "source": [
    "In this assignment you will implement and compare three poly- nomial functions (line - degree d = 1, quadratic - degree d = 2 and cubic - degree d = 3) for predicting next week labels based on the previous W weekly closing prices. Recall that a weekly closing price for week i is the (adjusted) closing price Pi for the last trading day day of that week.\n",
    "Assume that you are given W and you have weekly closing prices P1,...,PW for weeks 1,...,W. You want to predict a label (”red” or ”green”) for week W + 1 using a polynomial model of degree d fitted on prices P1,...,PW.\n",
    "You proceed as follows. Construct a polynomial model of de-\n",
    "gree d to fit P1,...,PW and use this model to predict price\n",
    "P∗ for week W +1. Then assign a label to week W +1\n",
    "based on the following three cases:\n",
    "1. P∗ > PW: week W +1 ia assigned a ”green” color (you\n",
    "W+1\n",
    "predict next week closing price is higher than current, and\n",
    "therefore, you want to be invested)\n",
    "2. P∗ < PW: week W + 1 ia assigned a ”red” color (you\n",
    "W+1\n",
    "predict next week closing price to be lower than the current\n",
    "price, and therefore, you want to remain in cash)\n",
    "3. P∗ = PW: week W + 1 ia assigned the same color as W+1\n",
    "week W"
   ]
  },
  {
   "cell_type": "code",
   "execution_count": 2,
   "id": "a86707ac-a593-4edb-b288-c99b9ba765a8",
   "metadata": {
    "tags": []
   },
   "outputs": [],
   "source": [
    "gme = pd.read_csv('./gme.csv')\n",
    "gme.drop(['Date', 'Month', 'Day','Week_Number','High', 'Low', 'Close', 'Volume', \n",
    "         'Short_MA', 'Long_MA'], inplace=True, axis=1)"
   ]
  },
  {
   "cell_type": "code",
   "execution_count": 3,
   "id": "a10f1b4d-d9cb-4eca-a86e-578a1bfaabd9",
   "metadata": {
    "tags": []
   },
   "outputs": [
    {
     "data": {
      "text/html": [
       "<div>\n",
       "<style scoped>\n",
       "    .dataframe tbody tr th:only-of-type {\n",
       "        vertical-align: middle;\n",
       "    }\n",
       "\n",
       "    .dataframe tbody tr th {\n",
       "        vertical-align: top;\n",
       "    }\n",
       "\n",
       "    .dataframe thead th {\n",
       "        text-align: right;\n",
       "    }\n",
       "</style>\n",
       "<table border=\"1\" class=\"dataframe\">\n",
       "  <thead>\n",
       "    <tr style=\"text-align: right;\">\n",
       "      <th></th>\n",
       "      <th>Year</th>\n",
       "      <th>Weekday</th>\n",
       "      <th>Year_Week</th>\n",
       "      <th>Open</th>\n",
       "      <th>Adj Close</th>\n",
       "      <th>Return</th>\n",
       "    </tr>\n",
       "  </thead>\n",
       "  <tbody>\n",
       "    <tr>\n",
       "      <th>0</th>\n",
       "      <td>2017</td>\n",
       "      <td>Tuesday</td>\n",
       "      <td>2017-01</td>\n",
       "      <td>6.36</td>\n",
       "      <td>5.16</td>\n",
       "      <td>0.000000</td>\n",
       "    </tr>\n",
       "    <tr>\n",
       "      <th>1</th>\n",
       "      <td>2017</td>\n",
       "      <td>Wednesday</td>\n",
       "      <td>2017-01</td>\n",
       "      <td>6.39</td>\n",
       "      <td>5.27</td>\n",
       "      <td>0.021679</td>\n",
       "    </tr>\n",
       "    <tr>\n",
       "      <th>1256</th>\n",
       "      <td>2021</td>\n",
       "      <td>Wednesday</td>\n",
       "      <td>2021-52</td>\n",
       "      <td>36.96</td>\n",
       "      <td>38.48</td>\n",
       "      <td>0.051004</td>\n",
       "    </tr>\n",
       "    <tr>\n",
       "      <th>1257</th>\n",
       "      <td>2021</td>\n",
       "      <td>Thursday</td>\n",
       "      <td>2021-52</td>\n",
       "      <td>37.75</td>\n",
       "      <td>38.83</td>\n",
       "      <td>0.009095</td>\n",
       "    </tr>\n",
       "  </tbody>\n",
       "</table>\n",
       "</div>"
      ],
      "text/plain": [
       "      Year    Weekday Year_Week   Open  Adj Close    Return\n",
       "0     2017    Tuesday   2017-01   6.36       5.16  0.000000\n",
       "1     2017  Wednesday   2017-01   6.39       5.27  0.021679\n",
       "1256  2021  Wednesday   2021-52  36.96      38.48  0.051004\n",
       "1257  2021   Thursday   2021-52  37.75      38.83  0.009095"
      ]
     },
     "execution_count": 3,
     "metadata": {},
     "output_type": "execute_result"
    }
   ],
   "source": [
    "head_tail(gme,2)"
   ]
  },
  {
   "cell_type": "markdown",
   "id": "bd577a87-e625-40a9-a469-a825544b884d",
   "metadata": {
    "tags": []
   },
   "source": [
    "### Question 1\n",
    "Take weekly data for year 1. For each W = 5,6,...,12 and for each d = 1, 2, 3 construct the corresponding polynomials Use these polynomials to predict weekly labels. Plot the accuracy - on x axis you have W and you plot three curves for accuracy (separate curve for each d)"
   ]
  },
  {
   "cell_type": "markdown",
   "id": "cc7f7480-eb31-450a-9106-1d39fb8a9c3a",
   "metadata": {},
   "source": [
    "In my estimation, using lagged returns makes the most sense.\n",
    "\n",
    "In effect, the coefficients with Adj Close would represent equal-weighted return factors for the lagged adjusted close numbers. Thus, a least squares estimation is modeling return projections for each lagged week.\n",
    "\n",
    "Modeling with returns as the lagged figure, however, captures momentum effects.  For a stock with extreme volatility, and for any stock undergoing a time of great volatility, it seems to make sense to not model for a constant underlying force of return, but rather to capture patterns in the direction and magnitude of price changes.\n",
    "\n",
    "In addition, I would expect increasing skedasticity over time with Adj Close."
   ]
  },
  {
   "cell_type": "markdown",
   "id": "0b10468f-5e2d-4e08-8ebd-21c748216198",
   "metadata": {},
   "source": [
    "**function graph**\n",
    "stagger_weeks --> trade_from_close_close\n",
    "\n",
    "X_matrix|args:sw, y, w, measure|return:X_lags --> poly_expansion|args:X,D|return:X_pe --> add_intercept|args:X_pe|return|X_i_pe\n",
    "    --> polynomial_accuracy()\n"
   ]
  },
  {
   "cell_type": "code",
   "execution_count": 4,
   "id": "c7f57b76-28d8-46e3-befe-3ff803b7a9bf",
   "metadata": {
    "tags": []
   },
   "outputs": [],
   "source": [
    "gme_wr = trade_from_close_close(gme)\n",
    "gme_labels = pd.read_csv('./gme_labels.csv',header=None)[0]\n",
    "gme_wr.loc[:,'Label'] = \"NoLabel\"\n",
    "# apply labels collected by visual inspection for last two years\n",
    "gme_wr.loc[gme_wr.shape[0] - gme_labels.shape[0]:,'Label'] = gme_labels.values"
   ]
  },
  {
   "cell_type": "code",
   "execution_count": 5,
   "id": "131d8307-2c8a-4137-8a7b-cc605225d49b",
   "metadata": {
    "tags": []
   },
   "outputs": [
    {
     "data": {
      "text/html": [
       "<div>\n",
       "<style scoped>\n",
       "    .dataframe tbody tr th:only-of-type {\n",
       "        vertical-align: middle;\n",
       "    }\n",
       "\n",
       "    .dataframe tbody tr th {\n",
       "        vertical-align: top;\n",
       "    }\n",
       "\n",
       "    .dataframe thead th {\n",
       "        text-align: right;\n",
       "    }\n",
       "</style>\n",
       "<table border=\"1\" class=\"dataframe\">\n",
       "  <thead>\n",
       "    <tr style=\"text-align: right;\">\n",
       "      <th></th>\n",
       "      <th>Year</th>\n",
       "      <th>Year_Week</th>\n",
       "      <th>Begin_Price</th>\n",
       "      <th>Adj Close</th>\n",
       "      <th>Return</th>\n",
       "      <th>Label</th>\n",
       "    </tr>\n",
       "  </thead>\n",
       "  <tbody>\n",
       "    <tr>\n",
       "      <th>0</th>\n",
       "      <td>2017</td>\n",
       "      <td>2017-01</td>\n",
       "      <td>6.36</td>\n",
       "      <td>4.99</td>\n",
       "      <td>0.784591</td>\n",
       "      <td>NoLabel</td>\n",
       "    </tr>\n",
       "    <tr>\n",
       "      <th>1</th>\n",
       "      <td>2017</td>\n",
       "      <td>2017-02</td>\n",
       "      <td>4.99</td>\n",
       "      <td>4.62</td>\n",
       "      <td>0.925852</td>\n",
       "      <td>NoLabel</td>\n",
       "    </tr>\n",
       "    <tr>\n",
       "      <th>261</th>\n",
       "      <td>2021</td>\n",
       "      <td>2021-51</td>\n",
       "      <td>38.91</td>\n",
       "      <td>38.03</td>\n",
       "      <td>0.977384</td>\n",
       "      <td>Red</td>\n",
       "    </tr>\n",
       "    <tr>\n",
       "      <th>262</th>\n",
       "      <td>2021</td>\n",
       "      <td>2021-52</td>\n",
       "      <td>38.03</td>\n",
       "      <td>38.83</td>\n",
       "      <td>1.021036</td>\n",
       "      <td>Red</td>\n",
       "    </tr>\n",
       "  </tbody>\n",
       "</table>\n",
       "</div>"
      ],
      "text/plain": [
       "     Year Year_Week Begin_Price Adj Close    Return    Label\n",
       "0    2017   2017-01        6.36      4.99  0.784591  NoLabel\n",
       "1    2017   2017-02        4.99      4.62  0.925852  NoLabel\n",
       "261  2021   2021-51       38.91     38.03  0.977384      Red\n",
       "262  2021   2021-52       38.03     38.83  1.021036      Red"
      ]
     },
     "execution_count": 5,
     "metadata": {},
     "output_type": "execute_result"
    }
   ],
   "source": [
    "head_tail(gme_wr)"
   ]
  },
  {
   "cell_type": "markdown",
   "id": "ef9ab61d-1f92-410d-af49-8e35896d62f8",
   "metadata": {
    "tags": []
   },
   "source": [
    "def poly_predict(stock_weekly_df, W, d, begin_y_wk):\n",
    "    \"\"\"Args: stock_weekly_df --> weekly stock data, with W weeks before \n",
    "                begin_y_wk included\n",
    "             W --> int, number of preceding weeks used in predicting labels\n",
    "             d --> int, degree of polynomial used in predicting labels\n",
    "             begin_y_wk --> str, \n",
    "                this is the first week (with year identifier) for\n",
    "                which a prediction will be made.\n",
    "        Return: predictions --> np.array, \n",
    "                    label of 'Green' if predicted price > prior \n",
    "                    week's price, otherwise 'Red' for each week beginning with\n",
    "                    begin_y_wk\n",
    "    \"\"\"\n",
    "    \n",
    "    mask = stock_weekly_df['Year_Week'].values == begin_y_wk\n",
    "    begin_inx = stock_weekly_df[mask].index[0]\n",
    "    le = LabelEncoder()\n",
    "    stock_weekly_df['Label'] = le.fit_transform(\n",
    "                                  stock_weekly_df['Label'][begin_inx:])\n",
    "    for i in range(begin_inx,stock_weekly_df.index[-1]+1):\n",
    "        X = stock_weekly_df['Adj Close'][i-w:i].values\n",
    "        X = np.asarray(X,dtype='float64')\n",
    "        y = le.fit_transform(stock_weekly_df['Label'][i-w:i].values)\n",
    "        pfit = np.polyfit(X,X_labs)\n",
    "        "
   ]
  },
  {
   "cell_type": "markdown",
   "id": "e447ca71-4f0e-4ec4-8684-1c181e76e7bf",
   "metadata": {
    "tags": []
   },
   "source": [
    "test = gme_wr.copy(deep=True)\n",
    "\n",
    "test[100:200].reindex(index=[i for i in range(0,100)])"
   ]
  },
  {
   "cell_type": "code",
   "execution_count": 6,
   "id": "21e157ce-f004-4b05-ba5b-68df30c4e8c7",
   "metadata": {
    "tags": []
   },
   "outputs": [
    {
     "name": "stdout",
     "output_type": "stream",
     "text": [
      "dog\n"
     ]
    }
   ],
   "source": [
    "d='dog'\n",
    "print(d)"
   ]
  },
  {
   "cell_type": "markdown",
   "id": "31fd7416-3ed7-4877-910f-34d7a4dfd9dc",
   "metadata": {
    "tags": []
   },
   "source": [
    "def X_matrix(stock_w, y = 2020, w = 5, measure = 'Adj Close'):\n",
    "    \"\"\"Return a matrix of weekly lagged values for a given feature.\"\"\"\n",
    "    (begin,stop) = (stock_w[stock_w['Year']==y].index[0],\n",
    "                    stock_w[stock_w['Year']==y].index[-1]+1)\n",
    "    X_lags = [stock_w[f'{measure}'][i-w:i].values for i in range(begin,stop)]\n",
    "    return X_lags\n",
    "\n",
    "def poly_expansion(X,d):\n",
    "    \"\"\"Return a polynomially expanded matrix.\"\"\"\n",
    "    X_pe = [[x_i**d_i for d_i in range(1,d+1) for x_i in x] for x in X]\n",
    "    return X_pe\n",
    "\n",
    "def add_intercept(X_pe):\n",
    "    \"\"\"Return matrix with intercept prepended to each row.\"\"\"\n",
    "    X_pe = np.asarray(X_pe, dtype = 'float64')\n",
    "    X_i_pe = np.vstack([np.ones(len(X_pe)),X_pe.T]).T\n",
    "    return X_i_pe\n",
    "\n",
    "def labeler(differences):\n",
    "        \"\"\"Return labels for weekly price movements: 1 for up, 0 for down.\"\"\"\n",
    "        labels = np.where(differences > 0, 1, 0)\n",
    "        shifted = np.delete(np.insert(labels,0,1),-1)\n",
    "        labels = np.where(differences == 0, shifted, labels)\n",
    "        return labels\n",
    "\n",
    "def X_transform(stock, y = 2020, w = 5, d = 2, measure = 'Adj Close'):\n",
    "    \"\"\"Return a matrix for which coefficients will be fit.\"\"\"\n",
    "    stock_wr = trade_from_close_close(stock)\n",
    "    return np.asarray(add_intercept(\n",
    "        poly_expansion(X_matrix(stock_wr,y=y,w=w,measure=measure),d=d)), dtype='float64')\n",
    "\n",
    "def polynomial_accuracy(stock,y = 2020, w = 5, d = 2, test = 1, measure = 'Adj Close', \n",
    "                        **kwargs):\n",
    "    \"\"\"Return the accuracy, np.lstsq results, and a tuple of predictions, \n",
    "    true labels, and false labels for a particular model formulation.\"\"\"\n",
    "    (y1,y2) = (y,y+test)\n",
    "    X_tr = X_transform(stock,y=y1,w=w,d=d,measure=measure)\n",
    "    X_te = X_transform(stock,y=y2,w=w,d=d,measure=measure)\n",
    "    stock_weekly = trade_from_close_close(stock)\n",
    "    y_tr = np.asarray(stock_weekly[stock_weekly['Year'] == y1][measure].values,\n",
    "                      dtype='float64')\n",
    "    y_te = np.asarray(stock_weekly[stock_weekly['Year'] == y2][measure].values,\n",
    "                     dtype='float64')\n",
    "    lstsq_results = np.linalg.lstsq(X_tr,y_tr,rcond=1.e-10)\n",
    "    coeffs = lstsq_results[0]\n",
    "    predictions = X_te @ coeffs\n",
    "    modeled_difference = predictions - stock_weekly.loc[stock_weekly[\n",
    "        stock_weekly.Year == y2].index -1,f'{measure}'].values\n",
    "    actual_difference  = stock_weekly[stock_weekly.Year == y2][f'{measure}'].values - \\\n",
    "    stock_weekly.loc[stock_weekly[\n",
    "        stock_weekly.Year == y2].index -1,f'{measure}'].values\n",
    "    return (accuracy_score(labeler(actual_difference),\n",
    "                          labeler(modeled_difference)),lstsq_results,\n",
    "            {'predictions' : predictions,\n",
    "             'true_labels':labeler(actual_difference),\n",
    "             'predicted_labels':labeler(modeled_difference)})"
   ]
  },
  {
   "cell_type": "code",
   "execution_count": 7,
   "id": "de681948-d0de-4391-8c28-575367670989",
   "metadata": {},
   "outputs": [
    {
     "data": {
      "text/html": [
       "<div>\n",
       "<style scoped>\n",
       "    .dataframe tbody tr th:only-of-type {\n",
       "        vertical-align: middle;\n",
       "    }\n",
       "\n",
       "    .dataframe tbody tr th {\n",
       "        vertical-align: top;\n",
       "    }\n",
       "\n",
       "    .dataframe thead th {\n",
       "        text-align: right;\n",
       "    }\n",
       "</style>\n",
       "<table border=\"1\" class=\"dataframe\">\n",
       "  <thead>\n",
       "    <tr style=\"text-align: right;\">\n",
       "      <th></th>\n",
       "      <th>Year</th>\n",
       "      <th>Weekday</th>\n",
       "      <th>Year_Week</th>\n",
       "      <th>Open</th>\n",
       "      <th>Adj Close</th>\n",
       "      <th>Return</th>\n",
       "    </tr>\n",
       "  </thead>\n",
       "  <tbody>\n",
       "    <tr>\n",
       "      <th>0</th>\n",
       "      <td>2017</td>\n",
       "      <td>Tuesday</td>\n",
       "      <td>2017-01</td>\n",
       "      <td>6.36</td>\n",
       "      <td>5.16</td>\n",
       "      <td>0.000000</td>\n",
       "    </tr>\n",
       "    <tr>\n",
       "      <th>1</th>\n",
       "      <td>2017</td>\n",
       "      <td>Wednesday</td>\n",
       "      <td>2017-01</td>\n",
       "      <td>6.39</td>\n",
       "      <td>5.27</td>\n",
       "      <td>0.021679</td>\n",
       "    </tr>\n",
       "    <tr>\n",
       "      <th>2</th>\n",
       "      <td>2017</td>\n",
       "      <td>Thursday</td>\n",
       "      <td>2017-01</td>\n",
       "      <td>6.39</td>\n",
       "      <td>5.08</td>\n",
       "      <td>-0.035494</td>\n",
       "    </tr>\n",
       "    <tr>\n",
       "      <th>3</th>\n",
       "      <td>2017</td>\n",
       "      <td>Friday</td>\n",
       "      <td>2017-01</td>\n",
       "      <td>6.29</td>\n",
       "      <td>4.99</td>\n",
       "      <td>-0.019200</td>\n",
       "    </tr>\n",
       "    <tr>\n",
       "      <th>4</th>\n",
       "      <td>2017</td>\n",
       "      <td>Monday</td>\n",
       "      <td>2017-02</td>\n",
       "      <td>6.15</td>\n",
       "      <td>4.98</td>\n",
       "      <td>-0.001224</td>\n",
       "    </tr>\n",
       "    <tr>\n",
       "      <th>...</th>\n",
       "      <td>...</td>\n",
       "      <td>...</td>\n",
       "      <td>...</td>\n",
       "      <td>...</td>\n",
       "      <td>...</td>\n",
       "      <td>...</td>\n",
       "    </tr>\n",
       "    <tr>\n",
       "      <th>1253</th>\n",
       "      <td>2021</td>\n",
       "      <td>Thursday</td>\n",
       "      <td>2021-51</td>\n",
       "      <td>38.50</td>\n",
       "      <td>38.03</td>\n",
       "      <td>-0.012078</td>\n",
       "    </tr>\n",
       "    <tr>\n",
       "      <th>1254</th>\n",
       "      <td>2021</td>\n",
       "      <td>Monday</td>\n",
       "      <td>2021-52</td>\n",
       "      <td>38.00</td>\n",
       "      <td>37.08</td>\n",
       "      <td>-0.025174</td>\n",
       "    </tr>\n",
       "    <tr>\n",
       "      <th>1255</th>\n",
       "      <td>2021</td>\n",
       "      <td>Tuesday</td>\n",
       "      <td>2021-52</td>\n",
       "      <td>36.88</td>\n",
       "      <td>36.62</td>\n",
       "      <td>-0.012474</td>\n",
       "    </tr>\n",
       "    <tr>\n",
       "      <th>1256</th>\n",
       "      <td>2021</td>\n",
       "      <td>Wednesday</td>\n",
       "      <td>2021-52</td>\n",
       "      <td>36.96</td>\n",
       "      <td>38.48</td>\n",
       "      <td>0.051004</td>\n",
       "    </tr>\n",
       "    <tr>\n",
       "      <th>1257</th>\n",
       "      <td>2021</td>\n",
       "      <td>Thursday</td>\n",
       "      <td>2021-52</td>\n",
       "      <td>37.75</td>\n",
       "      <td>38.83</td>\n",
       "      <td>0.009095</td>\n",
       "    </tr>\n",
       "  </tbody>\n",
       "</table>\n",
       "<p>1258 rows × 6 columns</p>\n",
       "</div>"
      ],
      "text/plain": [
       "      Year    Weekday Year_Week   Open  Adj Close    Return\n",
       "0     2017    Tuesday   2017-01   6.36       5.16  0.000000\n",
       "1     2017  Wednesday   2017-01   6.39       5.27  0.021679\n",
       "2     2017   Thursday   2017-01   6.39       5.08 -0.035494\n",
       "3     2017     Friday   2017-01   6.29       4.99 -0.019200\n",
       "4     2017     Monday   2017-02   6.15       4.98 -0.001224\n",
       "...    ...        ...       ...    ...        ...       ...\n",
       "1253  2021   Thursday   2021-51  38.50      38.03 -0.012078\n",
       "1254  2021     Monday   2021-52  38.00      37.08 -0.025174\n",
       "1255  2021    Tuesday   2021-52  36.88      36.62 -0.012474\n",
       "1256  2021  Wednesday   2021-52  36.96      38.48  0.051004\n",
       "1257  2021   Thursday   2021-52  37.75      38.83  0.009095\n",
       "\n",
       "[1258 rows x 6 columns]"
      ]
     },
     "execution_count": 7,
     "metadata": {},
     "output_type": "execute_result"
    }
   ],
   "source": [
    "gme"
   ]
  },
  {
   "cell_type": "code",
   "execution_count": 8,
   "id": "7bee4da6-fcf8-4d2d-b297-aa571df6873f",
   "metadata": {
    "jp-MarkdownHeadingCollapsed": true,
    "tags": []
   },
   "outputs": [
    {
     "data": {
      "text/plain": [
       "(0.6346153846153846,\n",
       " (array([-0.29176939, -0.06926889,  2.7415555 , -2.28008671, -0.3123587 ,\n",
       "         -0.3250952 , -0.01000644, -0.40643333,  1.40808787, -1.6806441 ,\n",
       "          0.70022227,  0.74677353,  1.05574585,  0.01167137, -1.16628998,\n",
       "          0.88037389,  0.20536297, -0.04533966,  0.10993331,  0.09390152,\n",
       "         -0.33059528,  0.40776358, -0.21372554, -0.12103101, -0.05661988]),\n",
       "  array([2.44196263]),\n",
       "  25,\n",
       "  array([115.41357582,  21.07023087,  15.95727443,  14.87298937,\n",
       "          14.01182662,  13.40354431,   8.41230283,   7.46415907,\n",
       "           7.0349563 ,   5.55324033,   4.60705995,   2.75186952,\n",
       "           2.35763573,   0.99521524,   0.77069006,   0.6704491 ,\n",
       "           0.57339904,   0.49677756,   0.46138305,   0.36557974,\n",
       "           0.31616771,   0.25903354,   0.23493495,   0.14754278,\n",
       "           0.12801684])),\n",
       " {'predictions': array([-2.98626042e+00,  3.82756920e+00,  5.28017736e+00, -1.06653494e+00,\n",
       "         -3.14300843e+02, -7.63920289e+02, -1.30781909e+03,  2.44902923e+03,\n",
       "         -2.00248251e+03,  4.85927221e+02,  3.02970944e+02, -7.96899609e+02,\n",
       "          4.90865181e+02,  5.99393804e+03, -8.20464384e+03, -2.25644181e+02,\n",
       "          3.99838627e+02,  2.66656066e+02,  1.00759280e+03,  2.68088785e+03,\n",
       "         -2.49982791e+03, -9.87335325e+02, -5.51835936e+02, -1.59014633e+03,\n",
       "         -6.49233520e+02, -3.89154049e+02, -1.28170432e+02, -7.09007782e+02,\n",
       "         -1.48821655e+02,  3.43661523e+02,  1.05172325e+03,  2.45219137e+02,\n",
       "         -8.18314544e+02, -1.07138798e+03, -6.31365122e+02, -6.60117099e+02,\n",
       "         -1.16923955e+03, -7.50373033e+02, -3.36171494e+02, -1.04627693e+03,\n",
       "         -2.17330313e+02, -1.96084723e+02, -1.94690937e+02,  7.63041955e+02,\n",
       "         -5.00906669e+02, -9.40987427e+02, -3.06711281e+02, -9.60291411e+02,\n",
       "         -9.79713700e+02, -7.20185053e+01, -1.55819426e+02, -5.53550218e+02]),\n",
       "  'true_labels': array([0, 1, 1, 1, 0, 0, 0, 1, 1, 1, 0, 0, 1, 0, 0, 0, 1, 0, 0, 1, 1, 1,\n",
       "         0, 0, 0, 0, 0, 0, 1, 0, 0, 1, 0, 1, 0, 0, 1, 0, 0, 0, 1, 0, 1, 1,\n",
       "         0, 1, 0, 0, 0, 0, 0, 1]),\n",
       "  'predicted_labels': array([0, 0, 0, 0, 0, 0, 0, 1, 0, 1, 1, 0, 1, 1, 0, 0, 1, 1, 1, 1, 0, 0,\n",
       "         0, 0, 0, 0, 0, 0, 0, 1, 1, 1, 0, 0, 0, 0, 0, 0, 0, 0, 0, 0, 0, 1,\n",
       "         0, 0, 0, 0, 0, 0, 0, 0])})"
      ]
     },
     "execution_count": 8,
     "metadata": {},
     "output_type": "execute_result"
    }
   ],
   "source": [
    "# kwargs = {'measure':'Return'}\n",
    "polynomial_accuracy(gme,y=2020,w=12,d=2,test=1,measure='Adj Close')"
   ]
  },
  {
   "cell_type": "markdown",
   "id": "f20a4ba1-e736-467c-9e4e-e836c9f6ea50",
   "metadata": {},
   "source": [
    "It is curious that scores improve in year 2.  One would typically expect a decline in performance as one extrapolates a model into the test set.  This indicates that stock returns fall more predictably in line with y1 averages"
   ]
  },
  {
   "cell_type": "markdown",
   "id": "db6bf6bd-7cd5-4f60-9cfb-14760c05986d",
   "metadata": {
    "tags": []
   },
   "source": [
    "def hyperparameter_grid(stock,year_train,w_array,d_array,test,measure):\n",
    "    hp = {}\n",
    "    for d in d_array:\n",
    "        for w in w_array:\n",
    "            hp[(d,w)] = polynomial_accuracy(stock,y=year_train,w=w,d=d,\n",
    "                            test=test, measure=measure)[0]\n",
    "    \n",
    "    accuracies_df = pd.DataFrame([tuple(list(k)+[hp[k]]) for k in hp.keys()],\n",
    "                                 columns = ['d','w','accuracy'])\n",
    "    return accuracies_df"
   ]
  },
  {
   "cell_type": "code",
   "execution_count": 9,
   "id": "6a8fe386-8923-4e65-8a8a-af709be2e9c9",
   "metadata": {
    "scrolled": true
   },
   "outputs": [
    {
     "data": {
      "text/html": [
       "<div>\n",
       "<style scoped>\n",
       "    .dataframe tbody tr th:only-of-type {\n",
       "        vertical-align: middle;\n",
       "    }\n",
       "\n",
       "    .dataframe tbody tr th {\n",
       "        vertical-align: top;\n",
       "    }\n",
       "\n",
       "    .dataframe thead th {\n",
       "        text-align: right;\n",
       "    }\n",
       "</style>\n",
       "<table border=\"1\" class=\"dataframe\">\n",
       "  <thead>\n",
       "    <tr style=\"text-align: right;\">\n",
       "      <th></th>\n",
       "      <th>d</th>\n",
       "      <th>w</th>\n",
       "      <th>Measure_EvalSet</th>\n",
       "      <th>Accuracy</th>\n",
       "      <th>EvalSet</th>\n",
       "      <th>Measure</th>\n",
       "    </tr>\n",
       "  </thead>\n",
       "  <tbody>\n",
       "    <tr>\n",
       "      <th>0</th>\n",
       "      <td>1</td>\n",
       "      <td>5</td>\n",
       "      <td>Adj_Close_Tr</td>\n",
       "      <td>0.547170</td>\n",
       "      <td>Train</td>\n",
       "      <td>Adj_Close</td>\n",
       "    </tr>\n",
       "    <tr>\n",
       "      <th>1</th>\n",
       "      <td>1</td>\n",
       "      <td>5</td>\n",
       "      <td>Return_Tr</td>\n",
       "      <td>0.698113</td>\n",
       "      <td>Train</td>\n",
       "      <td>Return</td>\n",
       "    </tr>\n",
       "    <tr>\n",
       "      <th>2</th>\n",
       "      <td>1</td>\n",
       "      <td>5</td>\n",
       "      <td>Adj_Close_Te</td>\n",
       "      <td>0.384615</td>\n",
       "      <td>Test</td>\n",
       "      <td>Adj_Close</td>\n",
       "    </tr>\n",
       "    <tr>\n",
       "      <th>3</th>\n",
       "      <td>1</td>\n",
       "      <td>5</td>\n",
       "      <td>Return_Te</td>\n",
       "      <td>0.750000</td>\n",
       "      <td>Test</td>\n",
       "      <td>Return</td>\n",
       "    </tr>\n",
       "    <tr>\n",
       "      <th>4</th>\n",
       "      <td>1</td>\n",
       "      <td>6</td>\n",
       "      <td>Adj_Close_Tr</td>\n",
       "      <td>0.547170</td>\n",
       "      <td>Train</td>\n",
       "      <td>Adj_Close</td>\n",
       "    </tr>\n",
       "  </tbody>\n",
       "</table>\n",
       "</div>"
      ],
      "text/plain": [
       "   d  w Measure_EvalSet  Accuracy EvalSet    Measure\n",
       "0  1  5    Adj_Close_Tr  0.547170   Train  Adj_Close\n",
       "1  1  5       Return_Tr  0.698113   Train     Return\n",
       "2  1  5    Adj_Close_Te  0.384615    Test  Adj_Close\n",
       "3  1  5       Return_Te  0.750000    Test     Return\n",
       "4  1  6    Adj_Close_Tr  0.547170   Train  Adj_Close"
      ]
     },
     "execution_count": 9,
     "metadata": {},
     "output_type": "execute_result"
    }
   ],
   "source": [
    "hp_adj_train = hyperparameter_grid(gme, 2020, range(5,13), range(1,4), 0, 'Adj Close')\n",
    "hp_ret_train = hyperparameter_grid(gme, 2020, range(5,13), range(1,4), 0, 'Return')\n",
    "hp_adj_test = hyperparameter_grid(gme, 2020, range(5,13), range(1,4), 1, 'Adj Close')\n",
    "hp_ret_test = hyperparameter_grid(gme, 2020, range(5,13), range(1,4), 1, 'Return')\n",
    "hp_frames = [hp_adj_train,hp_ret_train,hp_adj_test,hp_ret_test]\n",
    "\n",
    "frame_names=[\"Adj_Close_Tr\",\"Return_Tr\",\"Adj_Close_Te\",\"Return_Te\"]\n",
    "frame_features=['d','w','accuracy']\n",
    "mi = pd.MultiIndex.from_tuples(zip([name*3 for name in frame_names],['d','w','accuracy']*4\n",
    "                                  ))\n",
    "hp_accuracies = pd.concat([hp_frame['accuracy'] for hp_frame in hp_frames],\n",
    "                          axis=1,keys=frame_names,names=['Measure_EvalSet'])\n",
    "hp_accuracies.index=pd.MultiIndex.from_tuples(\n",
    "    [(d,w) for d in range(1,4) for w in range (5,13)],names=('d','w'))\n",
    "\n",
    "hp_accuracies_stacked = pd.DataFrame(hp_accuracies.stack()).reset_index()\n",
    "\n",
    "hp_accuracies_stacked = hp_accuracies_stacked.rename(columns={0:\"Accuracy\"})\n",
    "\n",
    "hp_accuracies_stacked['EvalSet'] = hp_accuracies_stacked['Measure_EvalSet'].apply(\n",
    "    lambda x: 'Train' if x[-2:] == 'Tr' else 'Test')\n",
    "\n",
    "hp_accuracies_stacked['Measure'] = hp_accuracies_stacked['Measure_EvalSet'].apply(lambda x: x[:-3])\n",
    "\n",
    "hp_accuracies_stacked.head()"
   ]
  },
  {
   "cell_type": "code",
   "execution_count": 10,
   "id": "5fb6bc50-8702-42b4-9c7a-e19f7456a021",
   "metadata": {},
   "outputs": [
    {
     "name": "stderr",
     "output_type": "stream",
     "text": [
      "/Users/williammohr/opt/anaconda3/lib/python3.9/site-packages/seaborn/axisgrid.py:118: UserWarning: The figure layout has changed to tight\n",
      "  self._figure.tight_layout(*args, **kwargs)\n"
     ]
    },
    {
     "data": {
      "image/png": "[encoded data removed]",
      "text/plain": [
       "<Figure size 658.875x600 with 4 Axes>"
      ]
     },
     "metadata": {},
     "output_type": "display_data"
    }
   ],
   "source": [
    "g = sns.FacetGrid(data=hp_accuracies_stacked,\n",
    "              row = 'Measure', \n",
    "              col='EvalSet',\n",
    "              hue='d'\n",
    "             )\n",
    "g.map(plt.plot,'w','Accuracy').add_legend()\n",
    "plt.show()"
   ]
  },
  {
   "cell_type": "code",
   "execution_count": 11,
   "id": "622fde56-2dec-43d0-80a7-58ed052ae1e9",
   "metadata": {},
   "outputs": [
    {
     "data": {
      "text/plain": [
       "{1: 11, 2: 8, 3: 8}"
      ]
     },
     "execution_count": 11,
     "metadata": {},
     "output_type": "execute_result"
    }
   ],
   "source": [
    "best_w = hp_adj_train.iloc[hp_adj_train.groupby('d')[\"accuracy\"].idxmax().values,:]\n",
    "best_w_dict={d:w for d,w in zip(best_w['d'],best_w['w'])}\n",
    "best_w_dict"
   ]
  },
  {
   "cell_type": "code",
   "execution_count": 12,
   "id": "06353a7c-d506-46ae-a211-eb01718b577c",
   "metadata": {},
   "outputs": [],
   "source": [
    "cm_dict = {}\n",
    "for k,v in best_w_dict.items():\n",
    "    \n",
    "    res = polynomial_accuracy(gme,2020,w=best_w_dict[k],d=k,test=1,measure=\"Adj Close\")[-1]\n",
    "    \n",
    "    cm = confusion_matrix(res['true_labels'],res['predicted_labels'])\n",
    "    cm_dict[(k,v)] = cm"
   ]
  },
  {
   "cell_type": "code",
   "execution_count": 13,
   "id": "d23f1b08-da3a-436e-af39-0fc1a83bb82c",
   "metadata": {},
   "outputs": [
    {
     "data": {
      "text/plain": [
       "{(1,\n",
       "  11): array([[ 9, 23],\n",
       "        [ 8, 12]]),\n",
       " (2,\n",
       "  8): array([[ 6, 26],\n",
       "        [ 4, 16]]),\n",
       " (3,\n",
       "  8): array([[ 4, 28],\n",
       "        [ 3, 17]])}"
      ]
     },
     "execution_count": 13,
     "metadata": {},
     "output_type": "execute_result"
    }
   ],
   "source": [
    "cm_dict"
   ]
  },
  {
   "cell_type": "code",
   "execution_count": 14,
   "id": "a7f0c4d4-086e-4f55-9fd2-feb2c495731b",
   "metadata": {
    "scrolled": true
   },
   "outputs": [
    {
     "data": {
      "image/png": "[encoded data removed]",
      "text/plain": [
       "<Figure size 640x480 with 2 Axes>"
      ]
     },
     "metadata": {},
     "output_type": "display_data"
    },
    {
     "data": {
      "image/png": "[encoded data removed]",
      "text/plain": [
       "<Figure size 640x480 with 2 Axes>"
      ]
     },
     "metadata": {},
     "output_type": "display_data"
    },
    {
     "data": {
      "image/png": "[encoded data removed]",
      "text/plain": [
       "<Figure size 640x480 with 2 Axes>"
      ]
     },
     "metadata": {},
     "output_type": "display_data"
    }
   ],
   "source": [
    "for cm_k,cm_v in cm_dict.items():\n",
    "    display = ConfusionMatrixDisplay(cm_v)\n",
    "    display.plot(cmap='Greens')\n",
    "    display.ax_.set_title(f'd = {cm_k[0]}, w = {cm_k[1]}')\n",
    "    plt.show()"
   ]
  },
  {
   "cell_type": "code",
   "execution_count": null,
   "id": "edb425ac-cadb-4bdb-ab61-b70ca8da7a6c",
   "metadata": {},
   "outputs": [],
   "source": []
  },
  {
   "cell_type": "code",
   "execution_count": 15,
   "id": "0fa3446e-ceb7-4bc1-9bdd-711a2fe3abf4",
   "metadata": {},
   "outputs": [
    {
     "data": {
      "text/html": [
       "<div>\n",
       "<style scoped>\n",
       "    .dataframe tbody tr th:only-of-type {\n",
       "        vertical-align: middle;\n",
       "    }\n",
       "\n",
       "    .dataframe tbody tr th {\n",
       "        vertical-align: top;\n",
       "    }\n",
       "\n",
       "    .dataframe thead th {\n",
       "        text-align: right;\n",
       "    }\n",
       "</style>\n",
       "<table border=\"1\" class=\"dataframe\">\n",
       "  <thead>\n",
       "    <tr style=\"text-align: right;\">\n",
       "      <th></th>\n",
       "      <th>d</th>\n",
       "      <th>w</th>\n",
       "      <th>accuracy</th>\n",
       "    </tr>\n",
       "  </thead>\n",
       "  <tbody>\n",
       "    <tr>\n",
       "      <th>7</th>\n",
       "      <td>1</td>\n",
       "      <td>12</td>\n",
       "      <td>0.519231</td>\n",
       "    </tr>\n",
       "    <tr>\n",
       "      <th>14</th>\n",
       "      <td>2</td>\n",
       "      <td>11</td>\n",
       "      <td>0.634615</td>\n",
       "    </tr>\n",
       "    <tr>\n",
       "      <th>22</th>\n",
       "      <td>3</td>\n",
       "      <td>11</td>\n",
       "      <td>0.576923</td>\n",
       "    </tr>\n",
       "  </tbody>\n",
       "</table>\n",
       "</div>"
      ],
      "text/plain": [
       "    d   w  accuracy\n",
       "7   1  12  0.519231\n",
       "14  2  11  0.634615\n",
       "22  3  11  0.576923"
      ]
     },
     "execution_count": 15,
     "metadata": {},
     "output_type": "execute_result"
    }
   ],
   "source": [
    "hp_adj_test.iloc[hp_adj_test.groupby('d')[\"accuracy\"].idxmax().values,:]"
   ]
  },
  {
   "cell_type": "code",
   "execution_count": 16,
   "id": "ad8e59d9-8d15-4eb0-bc26-8181c52f88a8",
   "metadata": {},
   "outputs": [
    {
     "data": {
      "text/html": [
       "<div>\n",
       "<style scoped>\n",
       "    .dataframe tbody tr th:only-of-type {\n",
       "        vertical-align: middle;\n",
       "    }\n",
       "\n",
       "    .dataframe tbody tr th {\n",
       "        vertical-align: top;\n",
       "    }\n",
       "\n",
       "    .dataframe thead th {\n",
       "        text-align: right;\n",
       "    }\n",
       "</style>\n",
       "<table border=\"1\" class=\"dataframe\">\n",
       "  <thead>\n",
       "    <tr style=\"text-align: right;\">\n",
       "      <th></th>\n",
       "      <th>d</th>\n",
       "      <th>w</th>\n",
       "      <th>accuracy</th>\n",
       "    </tr>\n",
       "  </thead>\n",
       "  <tbody>\n",
       "    <tr>\n",
       "      <th>7</th>\n",
       "      <td>1</td>\n",
       "      <td>12</td>\n",
       "      <td>0.735849</td>\n",
       "    </tr>\n",
       "    <tr>\n",
       "      <th>13</th>\n",
       "      <td>2</td>\n",
       "      <td>10</td>\n",
       "      <td>0.792453</td>\n",
       "    </tr>\n",
       "    <tr>\n",
       "      <th>23</th>\n",
       "      <td>3</td>\n",
       "      <td>12</td>\n",
       "      <td>0.886792</td>\n",
       "    </tr>\n",
       "  </tbody>\n",
       "</table>\n",
       "</div>"
      ],
      "text/plain": [
       "    d   w  accuracy\n",
       "7   1  12  0.735849\n",
       "13  2  10  0.792453\n",
       "23  3  12  0.886792"
      ]
     },
     "execution_count": 16,
     "metadata": {},
     "output_type": "execute_result"
    }
   ],
   "source": [
    "hp_ret_train.iloc[hp_ret_train.groupby('d')[\"accuracy\"].idxmax().values,:]"
   ]
  },
  {
   "cell_type": "code",
   "execution_count": 17,
   "id": "ed3e96cf-e1a8-454e-9907-4678949a1894",
   "metadata": {},
   "outputs": [
    {
     "data": {
      "text/html": [
       "<div>\n",
       "<style scoped>\n",
       "    .dataframe tbody tr th:only-of-type {\n",
       "        vertical-align: middle;\n",
       "    }\n",
       "\n",
       "    .dataframe tbody tr th {\n",
       "        vertical-align: top;\n",
       "    }\n",
       "\n",
       "    .dataframe thead th {\n",
       "        text-align: right;\n",
       "    }\n",
       "</style>\n",
       "<table border=\"1\" class=\"dataframe\">\n",
       "  <thead>\n",
       "    <tr style=\"text-align: right;\">\n",
       "      <th></th>\n",
       "      <th>d</th>\n",
       "      <th>w</th>\n",
       "      <th>accuracy</th>\n",
       "    </tr>\n",
       "  </thead>\n",
       "  <tbody>\n",
       "    <tr>\n",
       "      <th>1</th>\n",
       "      <td>1</td>\n",
       "      <td>6</td>\n",
       "      <td>0.769231</td>\n",
       "    </tr>\n",
       "    <tr>\n",
       "      <th>8</th>\n",
       "      <td>2</td>\n",
       "      <td>5</td>\n",
       "      <td>0.769231</td>\n",
       "    </tr>\n",
       "    <tr>\n",
       "      <th>22</th>\n",
       "      <td>3</td>\n",
       "      <td>11</td>\n",
       "      <td>0.711538</td>\n",
       "    </tr>\n",
       "  </tbody>\n",
       "</table>\n",
       "</div>"
      ],
      "text/plain": [
       "    d   w  accuracy\n",
       "1   1   6  0.769231\n",
       "8   2   5  0.769231\n",
       "22  3  11  0.711538"
      ]
     },
     "execution_count": 17,
     "metadata": {},
     "output_type": "execute_result"
    }
   ],
   "source": [
    "hp_ret_test.iloc[hp_ret_test.groupby('d')[\"accuracy\"].idxmax().values,:]"
   ]
  },
  {
   "cell_type": "markdown",
   "id": "be25b1f7-496f-45c9-a592-2d5cf895328d",
   "metadata": {},
   "source": [
    "Confusion Matrix"
   ]
  },
  {
   "cell_type": "code",
   "execution_count": 18,
   "id": "8ff78144-50f6-4340-a405-12d520b72ca3",
   "metadata": {},
   "outputs": [
    {
     "data": {
      "text/plain": [
       "{1: 11, 2: 8, 3: 8}"
      ]
     },
     "execution_count": 18,
     "metadata": {},
     "output_type": "execute_result"
    }
   ],
   "source": [
    "best_w_dict"
   ]
  },
  {
   "cell_type": "code",
   "execution_count": 19,
   "id": "6f34e426-0842-42e1-af72-751e89f8ac28",
   "metadata": {},
   "outputs": [
    {
     "data": {
      "text/html": [
       "<div>\n",
       "<style scoped>\n",
       "    .dataframe tbody tr th:only-of-type {\n",
       "        vertical-align: middle;\n",
       "    }\n",
       "\n",
       "    .dataframe tbody tr th {\n",
       "        vertical-align: top;\n",
       "    }\n",
       "\n",
       "    .dataframe thead th {\n",
       "        text-align: right;\n",
       "    }\n",
       "</style>\n",
       "<table border=\"1\" class=\"dataframe\">\n",
       "  <thead>\n",
       "    <tr style=\"text-align: right;\">\n",
       "      <th></th>\n",
       "      <th>Year</th>\n",
       "      <th>Weekday</th>\n",
       "      <th>Year_Week</th>\n",
       "      <th>Open</th>\n",
       "      <th>Adj Close</th>\n",
       "      <th>Return</th>\n",
       "    </tr>\n",
       "  </thead>\n",
       "  <tbody>\n",
       "    <tr>\n",
       "      <th>0</th>\n",
       "      <td>2017</td>\n",
       "      <td>Tuesday</td>\n",
       "      <td>2017-01</td>\n",
       "      <td>6.36</td>\n",
       "      <td>5.16</td>\n",
       "      <td>0.000000</td>\n",
       "    </tr>\n",
       "    <tr>\n",
       "      <th>1</th>\n",
       "      <td>2017</td>\n",
       "      <td>Wednesday</td>\n",
       "      <td>2017-01</td>\n",
       "      <td>6.39</td>\n",
       "      <td>5.27</td>\n",
       "      <td>0.021679</td>\n",
       "    </tr>\n",
       "    <tr>\n",
       "      <th>2</th>\n",
       "      <td>2017</td>\n",
       "      <td>Thursday</td>\n",
       "      <td>2017-01</td>\n",
       "      <td>6.39</td>\n",
       "      <td>5.08</td>\n",
       "      <td>-0.035494</td>\n",
       "    </tr>\n",
       "    <tr>\n",
       "      <th>3</th>\n",
       "      <td>2017</td>\n",
       "      <td>Friday</td>\n",
       "      <td>2017-01</td>\n",
       "      <td>6.29</td>\n",
       "      <td>4.99</td>\n",
       "      <td>-0.019200</td>\n",
       "    </tr>\n",
       "    <tr>\n",
       "      <th>4</th>\n",
       "      <td>2017</td>\n",
       "      <td>Monday</td>\n",
       "      <td>2017-02</td>\n",
       "      <td>6.15</td>\n",
       "      <td>4.98</td>\n",
       "      <td>-0.001224</td>\n",
       "    </tr>\n",
       "    <tr>\n",
       "      <th>...</th>\n",
       "      <td>...</td>\n",
       "      <td>...</td>\n",
       "      <td>...</td>\n",
       "      <td>...</td>\n",
       "      <td>...</td>\n",
       "      <td>...</td>\n",
       "    </tr>\n",
       "    <tr>\n",
       "      <th>1253</th>\n",
       "      <td>2021</td>\n",
       "      <td>Thursday</td>\n",
       "      <td>2021-51</td>\n",
       "      <td>38.50</td>\n",
       "      <td>38.03</td>\n",
       "      <td>-0.012078</td>\n",
       "    </tr>\n",
       "    <tr>\n",
       "      <th>1254</th>\n",
       "      <td>2021</td>\n",
       "      <td>Monday</td>\n",
       "      <td>2021-52</td>\n",
       "      <td>38.00</td>\n",
       "      <td>37.08</td>\n",
       "      <td>-0.025174</td>\n",
       "    </tr>\n",
       "    <tr>\n",
       "      <th>1255</th>\n",
       "      <td>2021</td>\n",
       "      <td>Tuesday</td>\n",
       "      <td>2021-52</td>\n",
       "      <td>36.88</td>\n",
       "      <td>36.62</td>\n",
       "      <td>-0.012474</td>\n",
       "    </tr>\n",
       "    <tr>\n",
       "      <th>1256</th>\n",
       "      <td>2021</td>\n",
       "      <td>Wednesday</td>\n",
       "      <td>2021-52</td>\n",
       "      <td>36.96</td>\n",
       "      <td>38.48</td>\n",
       "      <td>0.051004</td>\n",
       "    </tr>\n",
       "    <tr>\n",
       "      <th>1257</th>\n",
       "      <td>2021</td>\n",
       "      <td>Thursday</td>\n",
       "      <td>2021-52</td>\n",
       "      <td>37.75</td>\n",
       "      <td>38.83</td>\n",
       "      <td>0.009095</td>\n",
       "    </tr>\n",
       "  </tbody>\n",
       "</table>\n",
       "<p>1258 rows × 6 columns</p>\n",
       "</div>"
      ],
      "text/plain": [
       "      Year    Weekday Year_Week   Open  Adj Close    Return\n",
       "0     2017    Tuesday   2017-01   6.36       5.16  0.000000\n",
       "1     2017  Wednesday   2017-01   6.39       5.27  0.021679\n",
       "2     2017   Thursday   2017-01   6.39       5.08 -0.035494\n",
       "3     2017     Friday   2017-01   6.29       4.99 -0.019200\n",
       "4     2017     Monday   2017-02   6.15       4.98 -0.001224\n",
       "...    ...        ...       ...    ...        ...       ...\n",
       "1253  2021   Thursday   2021-51  38.50      38.03 -0.012078\n",
       "1254  2021     Monday   2021-52  38.00      37.08 -0.025174\n",
       "1255  2021    Tuesday   2021-52  36.88      36.62 -0.012474\n",
       "1256  2021  Wednesday   2021-52  36.96      38.48  0.051004\n",
       "1257  2021   Thursday   2021-52  37.75      38.83  0.009095\n",
       "\n",
       "[1258 rows x 6 columns]"
      ]
     },
     "execution_count": 19,
     "metadata": {},
     "output_type": "execute_result"
    }
   ],
   "source": [
    "gme"
   ]
  },
  {
   "cell_type": "code",
   "execution_count": 20,
   "id": "27699aa9-0bb3-4fba-a682-d406c118fa6e",
   "metadata": {},
   "outputs": [
    {
     "data": {
      "text/plain": [
       "(0.5,\n",
       " (array([-0.11681723,  0.21470095, -0.88987274, -0.36924028,  0.96910938,\n",
       "          1.19234287, -0.00781882,  0.18402363,  0.0949477 , -0.16152716,\n",
       "         -0.098184  ]),\n",
       "  array([4.97342897]),\n",
       "  11,\n",
       "  array([93.62607135, 15.21564215, 13.91347537, 11.66739531,  8.42769351,\n",
       "          7.35604419,  1.08806676,  0.7278439 ,  0.53789346,  0.48014516,\n",
       "          0.43067755])),\n",
       " {'predictions': array([   3.95423825,    4.72942067,    5.13344099,   -9.80191852,\n",
       "         -573.60408233, -967.17212398,  605.28541096, 1149.05047533,\n",
       "          -30.23632197, -127.93000317, -445.33005234, -631.00802628,\n",
       "           75.08534089,  508.51859749,  144.09706486,  211.85913431,\n",
       "          207.49651627,   45.91567262,  -14.92082389,   56.17516449,\n",
       "           85.45275097, -114.78101688, -324.65670055, -238.93044987,\n",
       "          144.74737196,  326.65574197,  224.47181422,  171.68265393,\n",
       "          224.89273504,  223.77281999,  126.7450689 ,  140.57744028,\n",
       "          158.80774635,   43.51618417,  -45.62938169, -165.95481104,\n",
       "          -49.05701992,  142.30135415,   86.01532838,  155.04656836,\n",
       "          211.67186475,  102.20198615,   53.69185204,   79.1408578 ,\n",
       "          -15.43801431, -127.76905339,  -24.89706376,   34.29617078,\n",
       "          218.24206887,  394.20536767,  242.42790862,  126.44847576]),\n",
       "  'true_labels': array([0, 1, 1, 1, 0, 0, 0, 1, 1, 1, 0, 0, 1, 0, 0, 0, 1, 0, 0, 1, 1, 1,\n",
       "         0, 0, 0, 0, 0, 0, 1, 0, 0, 1, 0, 1, 0, 0, 1, 0, 0, 0, 1, 0, 1, 1,\n",
       "         0, 1, 0, 0, 0, 0, 0, 1]),\n",
       "  'predicted_labels': array([0, 1, 0, 0, 0, 0, 1, 1, 0, 0, 0, 0, 1, 1, 1, 1, 1, 1, 0, 1, 1, 0,\n",
       "         0, 0, 1, 1, 1, 1, 1, 1, 1, 1, 1, 1, 0, 0, 0, 1, 1, 1, 1, 1, 1, 1,\n",
       "         0, 0, 0, 0, 1, 1, 1, 1])})"
      ]
     },
     "execution_count": 20,
     "metadata": {},
     "output_type": "execute_result"
    }
   ],
   "source": [
    "polynomial_accuracy(gme,y=2020,w=5,d=2,test=1,measure='Adj Close')"
   ]
  },
  {
   "cell_type": "code",
   "execution_count": 21,
   "id": "665c5730-00a5-40c5-8b09-b8237950d4b8",
   "metadata": {},
   "outputs": [],
   "source": [
    "predictions={}\n",
    "for d,w in best_w_dict.items():\n",
    "    predictions[(d,w)] = polynomial_accuracy(gme,2020,d=d,w=w,test=1,measure='Adj Close')[-1]['predicted_labels']"
   ]
  },
  {
   "cell_type": "code",
   "execution_count": 22,
   "id": "6d69adbb-937f-40bb-b6f5-0216a3893603",
   "metadata": {},
   "outputs": [
    {
     "data": {
      "text/plain": [
       "{(1,\n",
       "  11): array([1, 1, 0, 0, 0, 1, 1, 1, 1, 1, 0, 0, 1, 1, 0, 1, 0, 0, 1, 1, 0, 1,\n",
       "        1, 0, 1, 1, 1, 1, 0, 1, 1, 1, 0, 0, 1, 1, 0, 1, 1, 1, 1, 0, 1, 1,\n",
       "        0, 1, 1, 1, 1, 1, 1, 0]),\n",
       " (2,\n",
       "  8): array([0, 1, 0, 0, 0, 0, 1, 1, 0, 1, 0, 1, 0, 1, 0, 1, 1, 1, 1, 1, 1, 1,\n",
       "        1, 0, 1, 1, 1, 1, 1, 1, 1, 1, 1, 1, 1, 1, 1, 1, 1, 1, 1, 1, 1, 1,\n",
       "        1, 1, 1, 1, 1, 1, 1, 1]),\n",
       " (3,\n",
       "  8): array([0, 1, 0, 0, 0, 0, 1, 1, 1, 1, 0, 1, 0, 1, 1, 1, 1, 1, 1, 1, 1, 1,\n",
       "        1, 1, 1, 1, 1, 1, 1, 1, 1, 1, 1, 1, 1, 1, 1, 1, 1, 1, 1, 1, 1, 1,\n",
       "        1, 1, 1, 1, 1, 1, 1, 1])}"
      ]
     },
     "execution_count": 22,
     "metadata": {},
     "output_type": "execute_result"
    }
   ],
   "source": [
    "predictions"
   ]
  },
  {
   "cell_type": "code",
   "execution_count": 23,
   "id": "b6fcf232-f649-41ca-b6f8-14eb8114dc3e",
   "metadata": {},
   "outputs": [],
   "source": [
    "gme_wr = trade_from_close_close(gme).query('Year == 2021')\n",
    "returns = {}\n",
    "for d_w,p in predictions.items():\n",
    "    returns[d_w] = trade_labels(gme_wr,2021,p)"
   ]
  },
  {
   "cell_type": "code",
   "execution_count": 24,
   "id": "16e48e6c-a423-4db0-a348-dadd86af777a",
   "metadata": {},
   "outputs": [
    {
     "data": {
      "text/plain": [
       "{(1, 11): 431.28, (2, 8): 613.26, (3, 8): 743.51}"
      ]
     },
     "execution_count": 24,
     "metadata": {},
     "output_type": "execute_result"
    }
   ],
   "source": [
    "returns"
   ]
  },
  {
   "cell_type": "markdown",
   "id": "bcd862f8-ac62-4934-bf69-bce22719bc79",
   "metadata": {},
   "source": [
    "## Trading Linear Regression Best Window"
   ]
  },
  {
   "cell_type": "markdown",
   "id": "0b51690c-3961-499b-90e6-4a2be3586987",
   "metadata": {},
   "source": [
    "###### Assignment"
   ]
  },
  {
   "cell_type": "markdown",
   "id": "43d0d7d1-c0eb-4902-b444-8184b5c61b6c",
   "metadata": {},
   "source": [
    "Take a window of W days.  Train a linear model on \"Adj Close\" prices with W days lagged.  Determine if the next day will be higher or lower than today.  Enter or stay in a position that is either long, short, or neutral depending on whether the price is expected to be higher, lower or the same.  Optimize for W according to returns in year 2.\n"
   ]
  },
  {
   "cell_type": "markdown",
   "id": "a2318df7-0b2c-49c3-94f1-2a2a64999f5c",
   "metadata": {},
   "source": [
    "###### Questions"
   ]
  },
  {
   "cell_type": "markdown",
   "id": "566508d6-3e35-4939-a92e-6a66d3e2c072",
   "metadata": {},
   "source": [
    "\n",
    "1. take W = 5, 6, . . . , 30 and consider your data for year 1.\n",
    "For each W in the specified range, compute your average\n",
    "P/L per trade and plot it: on x-axis you plot the values\n",
    "of W and on the y axis you plot profit and loss per trade.\n",
    "What is the optimal value W∗\n",
    "of W?\n",
    "2. use the value of W∗\n",
    "from year 1 and consider year 2. For\n",
    "every day in year 2, take the previous W∗ days, compute\n",
    "linear regression and compute the value of r\n",
    "2\n",
    "for that day.\n",
    "Plot the graph of r\n",
    "2\n",
    "for year 2. What is the average r\n",
    "2\n",
    ".\n",
    "How well does it explain price movements?\n",
    "3. take the optimal value of W∗\n",
    "from year 1 and use it to\n",
    "implement the above trading strategy for year 2. How many\n",
    "”long position” and ’short position” transactions did you\n",
    "have in year 2?\n",
    "4. what is the average profit/loss per ”long position” trade\n",
    "and per ”short position” trades in year 2?\n",
    "5. what is the average number of days for long position and\n",
    "short position transactions in year 2?\n",
    "6. are these results very different from those in year 1 for this\n",
    "value of W∗\n",
    "?"
   ]
  },
  {
   "cell_type": "code",
   "execution_count": 25,
   "id": "811dbc9a-a304-4d84-bff5-5679d0495cc1",
   "metadata": {},
   "outputs": [
    {
     "data": {
      "text/plain": [
       "754"
      ]
     },
     "execution_count": 25,
     "metadata": {},
     "output_type": "execute_result"
    }
   ],
   "source": [
    "gme[gme['Year']==2020].index[0]"
   ]
  },
  {
   "cell_type": "code",
   "execution_count": 26,
   "id": "3f80bb25-aa66-4b03-bf0a-99b685cb7269",
   "metadata": {},
   "outputs": [
    {
     "data": {
      "text/plain": [
       "array([[1.  , 1.36, 1.35, 1.48, 1.53, 1.52],\n",
       "       [1.  , 1.35, 1.48, 1.53, 1.52, 1.58],\n",
       "       [1.  , 1.48, 1.53, 1.52, 1.58, 1.47],\n",
       "       ...,\n",
       "       [1.  , 3.88, 4.86, 5.14, 5.04, 5.25],\n",
       "       [1.  , 4.86, 5.14, 5.04, 5.25, 4.84],\n",
       "       [1.  , 5.14, 5.04, 5.25, 4.84, 4.82]])"
      ]
     },
     "execution_count": 26,
     "metadata": {},
     "output_type": "execute_result"
    }
   ],
   "source": [
    "X_transform(gme,y=2020,w=5,d=1,measure='Adj Close')"
   ]
  },
  {
   "cell_type": "code",
   "execution_count": 27,
   "id": "def0f5b9-3c73-4e20-86e2-9ee7024aec8a",
   "metadata": {},
   "outputs": [
    {
     "data": {
      "text/plain": [
       "0        5.16\n",
       "1        5.27\n",
       "2        5.08\n",
       "3        4.99\n",
       "4        4.98\n",
       "        ...  \n",
       "1253    38.03\n",
       "1254    37.08\n",
       "1255    36.62\n",
       "1256    38.48\n",
       "1257    38.83\n",
       "Name: Adj Close, Length: 1258, dtype: float64"
      ]
     },
     "execution_count": 27,
     "metadata": {},
     "output_type": "execute_result"
    }
   ],
   "source": [
    "gme[\"Adj Close\"]"
   ]
  }
 ],
 "metadata": {
  "kernelspec": {
   "display_name": "Python 3 (ipykernel)",
   "language": "python",
   "name": "python3"
  },
  "language_info": {
   "codemirror_mode": {
    "name": "ipython",
    "version": 3
   },
   "file_extension": ".py",
   "mimetype": "text/x-python",
   "name": "python",
   "nbconvert_exporter": "python",
   "pygments_lexer": "ipython3",
   "version": "3.9.18"
  }
 },
 "nbformat": 4,
 "nbformat_minor": 5
}
