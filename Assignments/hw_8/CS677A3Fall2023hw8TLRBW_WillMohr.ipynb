{
 "cells": [
  {
   "cell_type": "code",
   "execution_count": 1,
   "id": "a7c0dca2-dd4b-48b9-aa04-e16f0ae80791",
   "metadata": {},
   "outputs": [],
   "source": [
    "import pandas as pd\n",
    "import numpy as np\n",
    "from function_wrappers import *\n",
    "from functions import *\n",
    "from sklearn.preprocessing import LabelEncoder\n",
    "from sklearn.metrics import accuracy_score\n",
    "import seaborn as sns\n",
    "import matplotlib.pyplot as plt\n",
    "from sklearn.metrics import confusion_matrix\n",
    "from sklearn.metrics import ConfusionMatrixDisplay\n",
    "from functions import hyperparameter_grid"
   ]
  },
  {
   "cell_type": "markdown",
   "id": "6f001760-eb2a-4abc-87fb-0be9ff5b5beb",
   "metadata": {},
   "source": [
    "## Trading Linear Regression Best Window"
   ]
  },
  {
   "cell_type": "markdown",
   "id": "0666d3ba-36eb-4099-b288-f33773d57475",
   "metadata": {},
   "source": [
    "###### Assignment"
   ]
  },
  {
   "cell_type": "markdown",
   "id": "8f1b5f64-724d-4890-9d26-3fd5dadd102f",
   "metadata": {},
   "source": [
    "Take a window of W days.  Train a linear model on \"Adj Close\" prices with W days lagged.  Determine if the next day will be higher or lower than today.  Enter or stay in a position that is either long, short, or neutral depending on whether the price is expected to be higher, lower or the same.  Optimize for W according to returns in year 2.\n"
   ]
  },
  {
   "cell_type": "markdown",
   "id": "3ad9d340-1fd8-4e17-8317-4524fda71595",
   "metadata": {},
   "source": [
    "###### Questions"
   ]
  },
  {
   "cell_type": "markdown",
   "id": "fa6142e5-9e3e-4bfd-a4f9-cf325c518125",
   "metadata": {},
   "source": [
    "\n",
    "1. take W = 5, 6, . . . , 30 and consider your data for year 1.\n",
    "For each W in the specified range, compute your average\n",
    "P/L per trade and plot it: on x-axis you plot the values\n",
    "of W and on the y axis you plot profit and loss per trade.\n",
    "What is the optimal value W∗\n",
    "of W?\n",
    "2. use the value of W∗\n",
    "from year 1 and consider year 2. For\n",
    "every day in year 2, take the previous W∗ days, compute\n",
    "linear regression and compute the value of r\n",
    "2\n",
    "for that day.\n",
    "Plot the graph of r\n",
    "2\n",
    "for year 2. What is the average r\n",
    "2\n",
    ".\n",
    "How well does it explain price movements?\n",
    "3. take the optimal value of W∗\n",
    "from year 1 and use it to\n",
    "implement the above trading strategy for year 2. How many\n",
    "”long position” and ’short position” transactions did you\n",
    "have in year 2?\n",
    "4. what is the average profit/loss per ”long position” trade\n",
    "and per ”short position” trades in year 2?\n",
    "5. what is the average number of days for long position and\n",
    "short position transactions in year 2?\n",
    "6. are these results very different from those in year 1 for this\n",
    "value of W∗\n",
    "?"
   ]
  },
  {
   "cell_type": "code",
   "execution_count": 2,
   "id": "3375395e-945a-4e9d-828b-fd7d6a2cf0ba",
   "metadata": {
    "tags": []
   },
   "outputs": [],
   "source": [
    "gme = pd.read_csv('./gme.csv')\n",
    "gme.drop(['Date', 'Month', 'Day','Week_Number','High', 'Low', 'Close', 'Volume', \n",
    "         'Short_MA', 'Long_MA'], inplace=True, axis=1)"
   ]
  },
  {
   "cell_type": "code",
   "execution_count": 3,
   "id": "73aba35e-1e02-462b-b213-05fdd51e64d6",
   "metadata": {},
   "outputs": [
    {
     "data": {
      "text/plain": [
       "754"
      ]
     },
     "execution_count": 3,
     "metadata": {},
     "output_type": "execute_result"
    }
   ],
   "source": [
    "gme[gme['Year']==2020].index[0]"
   ]
  },
  {
   "cell_type": "code",
   "execution_count": 4,
   "id": "9dd894ec-0ac0-4e72-845c-0afec40fc8a1",
   "metadata": {},
   "outputs": [
    {
     "data": {
      "text/plain": [
       "array([[1.  , 1.36, 1.35, 1.48, 1.53, 1.52],\n",
       "       [1.  , 1.35, 1.48, 1.53, 1.52, 1.58],\n",
       "       [1.  , 1.48, 1.53, 1.52, 1.58, 1.47],\n",
       "       ...,\n",
       "       [1.  , 3.88, 4.86, 5.14, 5.04, 5.25],\n",
       "       [1.  , 4.86, 5.14, 5.04, 5.25, 4.84],\n",
       "       [1.  , 5.14, 5.04, 5.25, 4.84, 4.82]])"
      ]
     },
     "execution_count": 4,
     "metadata": {},
     "output_type": "execute_result"
    }
   ],
   "source": [
    "X_transform(gme,y=2020,w=5,d=1,measure='Adj Close')"
   ]
  },
  {
   "cell_type": "code",
   "execution_count": 5,
   "id": "a6333c20-7fa6-421f-9022-c1aa3d694b97",
   "metadata": {},
   "outputs": [],
   "source": [
    "from functions import polynomial_accuracy"
   ]
  },
  {
   "cell_type": "code",
   "execution_count": 6,
   "id": "f1ffb8c5-3bab-4606-b324-a0b35bf218bd",
   "metadata": {},
   "outputs": [],
   "source": [
    "results = polynomial_accuracy(gme,y=2020,w=5,d=1,test=0,\n",
    "                                  measure='Adj Close',weekly=False)\n",
    "predicted_labels = results[-1]['predicted_labels']"
   ]
  },
  {
   "cell_type": "code",
   "execution_count": 7,
   "id": "c728e4da-323d-4ea8-8d9e-ad764a31c4d7",
   "metadata": {},
   "outputs": [
    {
     "data": {
      "text/plain": [
       "(array([0, 1]), array([131, 122]))"
      ]
     },
     "execution_count": 7,
     "metadata": {},
     "output_type": "execute_result"
    }
   ],
   "source": [
    "np.unique(results[-1]['true_labels'],return_counts=True)"
   ]
  },
  {
   "cell_type": "code",
   "execution_count": 8,
   "id": "030e9a75-1399-48dc-99ec-200f50cafb3b",
   "metadata": {},
   "outputs": [
    {
     "data": {
      "text/plain": [
       "(array([0, 1]), array([ 55, 198]))"
      ]
     },
     "execution_count": 8,
     "metadata": {},
     "output_type": "execute_result"
    }
   ],
   "source": [
    "np.unique(results[-1]['predicted_labels'], return_counts=True)"
   ]
  },
  {
   "cell_type": "markdown",
   "id": "f2c01d2b-f764-45a3-9bf7-cf7e0095a2c9",
   "metadata": {},
   "source": [
    "My hypothesis for why there would be more predicted up movements is that there the up movements are on average higher than down movements, and therefore rmse is reduced by biasing predictions upwards."
   ]
  },
  {
   "cell_type": "code",
   "execution_count": 9,
   "id": "f3317636-6cd3-478f-83c3-3860ce457b5d",
   "metadata": {},
   "outputs": [
    {
     "data": {
      "text/plain": [
       "array([1, 0, 1, 1, 1, 1, 1, 1, 1, 1, 0, 0, 1, 1, 1, 1, 1, 1, 1, 1, 1, 1,\n",
       "       1, 1, 1, 1, 1, 0, 1, 1, 1, 1, 1, 1, 1, 1, 1, 1, 1, 1, 1, 1, 1, 1,\n",
       "       0, 1, 1, 0, 1, 1, 0, 1, 1, 0, 0, 1, 1, 0, 1, 1, 1, 1, 0, 1, 1, 0,\n",
       "       0, 1, 1, 1, 1, 1, 1, 1, 0, 1, 1, 1, 0, 1, 0, 1, 1, 0, 1, 1, 1, 0,\n",
       "       1, 0, 1, 1, 1, 1, 1, 1, 1, 1, 0, 1, 0, 1, 1, 1, 0, 1, 1, 1, 1, 0,\n",
       "       1, 1, 1, 0, 1, 1, 0, 1, 1, 1, 1, 1, 0, 1, 1, 1, 1, 1, 1, 1, 1, 1,\n",
       "       1, 1, 1, 0, 1, 1, 1, 1, 1, 1, 1, 1, 1, 1, 1, 1, 1, 1, 1, 1, 1, 0,\n",
       "       1, 1, 1, 1, 1, 1, 1, 1, 0, 1, 1, 0, 1, 1, 0, 1, 1, 1, 1, 1, 1, 1,\n",
       "       0, 0, 1, 1, 1, 1, 1, 0, 1, 1, 0, 1, 1, 1, 1, 1, 0, 1, 1, 0, 1, 1,\n",
       "       0, 1, 1, 1, 1, 0, 1, 0, 1, 1, 0, 0, 1, 1, 0, 0, 1, 1, 0, 1, 1, 0,\n",
       "       1, 1, 0, 1, 1, 0, 1, 1, 1, 1, 0, 1, 1, 0, 1, 1, 1, 1, 1, 0, 0, 1,\n",
       "       0, 1, 1, 1, 1, 0, 1, 1, 0, 1, 1])"
      ]
     },
     "execution_count": 9,
     "metadata": {},
     "output_type": "execute_result"
    }
   ],
   "source": [
    "predicted_labels"
   ]
  },
  {
   "cell_type": "markdown",
   "id": "101858a4-adbe-4249-940b-b93ebe17c4ce",
   "metadata": {},
   "source": [
    "Note: in the presence of short-selling, since one can lose more than principal, it makes sense to think of return as being on a scale from negative infinity to infinity, where positive returns indicate the proportion of the principal that is gained and negative returns indicate the proportion of the pricipal that is lost.  With only long positions, a range of (0,positive_infinity) to indicate the proportion of principal at the end of an investment period made sense.  For compatibility between long and short positions, I will proceed with the standard of negative_infinity, positive_infinity."
   ]
  },
  {
   "cell_type": "code",
   "execution_count": 10,
   "id": "7133f7de-343a-4953-88c4-53ed6a23bcd3",
   "metadata": {},
   "outputs": [],
   "source": [
    "class position():\n",
    "    def __init__(self, entry_price, position=1, position_size=100):\n",
    "        self.position = position; self.position_size = position_size; self.entry_price = entry_price\n",
    "        self.current_price = current_price; self.shares = position_size/entry_price; self.cumulative_return = 1\n",
    "        self.profit = 0; self.log =[]\n",
    "    def __str__(self):\n",
    "        return f'position:{position}, entry price:{entry_price}, \\\n",
    "        current price:{current_price}'\n",
    "    def update(current_price):\n",
    "        self.current_price = current_price\n",
    "        self.cumulative_return = (current_price - self.entry_price)*(-1)**(-1+2*position)/self.entry_price\n",
    "        self.profit = self.position_size*(self.cumulative_return)"
   ]
  },
  {
   "cell_type": "markdown",
   "id": "ad11ca2d-c397-414c-bd83-6f664257c1ab",
   "metadata": {},
   "source": [
    "idea: dictionary of matrices"
   ]
  },
  {
   "cell_type": "code",
   "execution_count": 29,
   "id": "3ff413d4-d4ab-4ecc-a7e2-51f9d9ef74f2",
   "metadata": {},
   "outputs": [
    {
     "ename": "SyntaxError",
     "evalue": "invalid syntax (3946853030.py, line 20)",
     "output_type": "error",
     "traceback": [
      "\u001b[0;36m  Cell \u001b[0;32mIn[29], line 20\u001b[0;36m\u001b[0m\n\u001b[0;31m    def X_matrix(prices = self., w = 5):\u001b[0m\n\u001b[0m                               ^\u001b[0m\n\u001b[0;31mSyntaxError\u001b[0m\u001b[0;31m:\u001b[0m invalid syntax\n"
     ]
    }
   ],
   "source": [
    "class trading_booth():\n",
    "    \"\"\"for caclulating returns with a given window for prices and labels\"\"\"\n",
    "    def __init__(self, stock, window = 5, training_year = 2020, evaluation_year = 2021):\n",
    "        self.stock = stock\n",
    "        # self.prices = prices; self.array_labels = array_labels; self.window = window; \n",
    "        self.training_year = training_year;\n",
    "        self.evaluation_year = evaluation_year;\n",
    "        self.total_profit = 0; \n",
    "        self.log = {'long_trades':[], 'short_trades':[]}; \n",
    "        self.cumulative_return = 1\n",
    "        stock = self.stock\n",
    "        stock['begin_prices'] = [stock['Open'].values[0]]+\\\n",
    "                                list(stock['Adj Close'].values[1:])\n",
    "        self.stock = stock\n",
    "    def __str__(self):\n",
    "        return f'profit: {self.total_profit}'\n",
    "    def predict():\n",
    "        pass\n",
    "    # def create_X(self.window, self.trading_year,):\n",
    "    def X_matrix(prices = self., w = 5):\n",
    "        \"\"\"Return a matrix of weekly lagged values for a given feature.\"\"\"\n",
    "        (begin,stop) = (prices.index[0],\n",
    "                        stock[stock['Year']==y].index[-1]+1)\n",
    "        X_lags = [stock[f'{measure}'][i-w:i].values for i in range(begin,stop)]\n",
    "        return X_lags      \n",
    "    def add_intercept(X_pe):\n",
    "        \"\"\"Return matrix with intercept prepended to each row.\"\"\"\n",
    "        X_pe = np.asarray(X_pe, dtype = 'float64')\n",
    "        X_i_pe = np.vstack([np.ones(len(X_pe)),X_pe.T]).T\n",
    "        return X_i_pe\n"
   ]
  },
  {
   "cell_type": "code",
   "execution_count": 30,
   "id": "eec80240-cadc-4937-82f2-bb4d1a72673d",
   "metadata": {},
   "outputs": [],
   "source": [
    "gme_trading_booth = trading_booth(gme, window=5,training_year=2020,evaluation_year=2021)"
   ]
  },
  {
   "cell_type": "code",
   "execution_count": 31,
   "id": "ad270e5c-6caf-4947-8645-0973c4c6c215",
   "metadata": {},
   "outputs": [
    {
     "data": {
      "text/html": [
       "<div>\n",
       "<style scoped>\n",
       "    .dataframe tbody tr th:only-of-type {\n",
       "        vertical-align: middle;\n",
       "    }\n",
       "\n",
       "    .dataframe tbody tr th {\n",
       "        vertical-align: top;\n",
       "    }\n",
       "\n",
       "    .dataframe thead th {\n",
       "        text-align: right;\n",
       "    }\n",
       "</style>\n",
       "<table border=\"1\" class=\"dataframe\">\n",
       "  <thead>\n",
       "    <tr style=\"text-align: right;\">\n",
       "      <th></th>\n",
       "      <th>Year</th>\n",
       "      <th>Weekday</th>\n",
       "      <th>Year_Week</th>\n",
       "      <th>Open</th>\n",
       "      <th>Adj Close</th>\n",
       "      <th>Return</th>\n",
       "    </tr>\n",
       "  </thead>\n",
       "  <tbody>\n",
       "    <tr>\n",
       "      <th>0</th>\n",
       "      <td>2017</td>\n",
       "      <td>Tuesday</td>\n",
       "      <td>2017-01</td>\n",
       "      <td>6.36</td>\n",
       "      <td>5.16</td>\n",
       "      <td>0.000000</td>\n",
       "    </tr>\n",
       "    <tr>\n",
       "      <th>1</th>\n",
       "      <td>2017</td>\n",
       "      <td>Wednesday</td>\n",
       "      <td>2017-01</td>\n",
       "      <td>6.39</td>\n",
       "      <td>5.27</td>\n",
       "      <td>0.021679</td>\n",
       "    </tr>\n",
       "    <tr>\n",
       "      <th>2</th>\n",
       "      <td>2017</td>\n",
       "      <td>Thursday</td>\n",
       "      <td>2017-01</td>\n",
       "      <td>6.39</td>\n",
       "      <td>5.08</td>\n",
       "      <td>-0.035494</td>\n",
       "    </tr>\n",
       "    <tr>\n",
       "      <th>3</th>\n",
       "      <td>2017</td>\n",
       "      <td>Friday</td>\n",
       "      <td>2017-01</td>\n",
       "      <td>6.29</td>\n",
       "      <td>4.99</td>\n",
       "      <td>-0.019200</td>\n",
       "    </tr>\n",
       "    <tr>\n",
       "      <th>4</th>\n",
       "      <td>2017</td>\n",
       "      <td>Monday</td>\n",
       "      <td>2017-02</td>\n",
       "      <td>6.15</td>\n",
       "      <td>4.98</td>\n",
       "      <td>-0.001224</td>\n",
       "    </tr>\n",
       "    <tr>\n",
       "      <th>...</th>\n",
       "      <td>...</td>\n",
       "      <td>...</td>\n",
       "      <td>...</td>\n",
       "      <td>...</td>\n",
       "      <td>...</td>\n",
       "      <td>...</td>\n",
       "    </tr>\n",
       "    <tr>\n",
       "      <th>1253</th>\n",
       "      <td>2021</td>\n",
       "      <td>Thursday</td>\n",
       "      <td>2021-51</td>\n",
       "      <td>38.50</td>\n",
       "      <td>38.03</td>\n",
       "      <td>-0.012078</td>\n",
       "    </tr>\n",
       "    <tr>\n",
       "      <th>1254</th>\n",
       "      <td>2021</td>\n",
       "      <td>Monday</td>\n",
       "      <td>2021-52</td>\n",
       "      <td>38.00</td>\n",
       "      <td>37.08</td>\n",
       "      <td>-0.025174</td>\n",
       "    </tr>\n",
       "    <tr>\n",
       "      <th>1255</th>\n",
       "      <td>2021</td>\n",
       "      <td>Tuesday</td>\n",
       "      <td>2021-52</td>\n",
       "      <td>36.88</td>\n",
       "      <td>36.62</td>\n",
       "      <td>-0.012474</td>\n",
       "    </tr>\n",
       "    <tr>\n",
       "      <th>1256</th>\n",
       "      <td>2021</td>\n",
       "      <td>Wednesday</td>\n",
       "      <td>2021-52</td>\n",
       "      <td>36.96</td>\n",
       "      <td>38.48</td>\n",
       "      <td>0.051004</td>\n",
       "    </tr>\n",
       "    <tr>\n",
       "      <th>1257</th>\n",
       "      <td>2021</td>\n",
       "      <td>Thursday</td>\n",
       "      <td>2021-52</td>\n",
       "      <td>37.75</td>\n",
       "      <td>38.83</td>\n",
       "      <td>0.009095</td>\n",
       "    </tr>\n",
       "  </tbody>\n",
       "</table>\n",
       "<p>1258 rows × 6 columns</p>\n",
       "</div>"
      ],
      "text/plain": [
       "      Year    Weekday Year_Week   Open  Adj Close    Return\n",
       "0     2017    Tuesday   2017-01   6.36       5.16  0.000000\n",
       "1     2017  Wednesday   2017-01   6.39       5.27  0.021679\n",
       "2     2017   Thursday   2017-01   6.39       5.08 -0.035494\n",
       "3     2017     Friday   2017-01   6.29       4.99 -0.019200\n",
       "4     2017     Monday   2017-02   6.15       4.98 -0.001224\n",
       "...    ...        ...       ...    ...        ...       ...\n",
       "1253  2021   Thursday   2021-51  38.50      38.03 -0.012078\n",
       "1254  2021     Monday   2021-52  38.00      37.08 -0.025174\n",
       "1255  2021    Tuesday   2021-52  36.88      36.62 -0.012474\n",
       "1256  2021  Wednesday   2021-52  36.96      38.48  0.051004\n",
       "1257  2021   Thursday   2021-52  37.75      38.83  0.009095\n",
       "\n",
       "[1258 rows x 6 columns]"
      ]
     },
     "execution_count": 31,
     "metadata": {},
     "output_type": "execute_result"
    }
   ],
   "source": [
    "gme_trading_booth.stock"
   ]
  },
  {
   "cell_type": "code",
   "execution_count": null,
   "id": "b393ba30-9db6-415f-9939-41baa54b6d37",
   "metadata": {},
   "outputs": [],
   "source": [
    "gme_trading_booth.X_matrix"
   ]
  },
  {
   "cell_type": "code",
   "execution_count": 13,
   "id": "b4767158-1ace-4e4e-a991-e1f4b91180c2",
   "metadata": {},
   "outputs": [
    {
     "data": {
      "text/html": [
       "<div>\n",
       "<style scoped>\n",
       "    .dataframe tbody tr th:only-of-type {\n",
       "        vertical-align: middle;\n",
       "    }\n",
       "\n",
       "    .dataframe tbody tr th {\n",
       "        vertical-align: top;\n",
       "    }\n",
       "\n",
       "    .dataframe thead th {\n",
       "        text-align: right;\n",
       "    }\n",
       "</style>\n",
       "<table border=\"1\" class=\"dataframe\">\n",
       "  <thead>\n",
       "    <tr style=\"text-align: right;\">\n",
       "      <th></th>\n",
       "      <th>Year</th>\n",
       "      <th>Weekday</th>\n",
       "      <th>Year_Week</th>\n",
       "      <th>Open</th>\n",
       "      <th>Adj Close</th>\n",
       "      <th>Return</th>\n",
       "    </tr>\n",
       "  </thead>\n",
       "  <tbody>\n",
       "    <tr>\n",
       "      <th>0</th>\n",
       "      <td>2017</td>\n",
       "      <td>Tuesday</td>\n",
       "      <td>2017-01</td>\n",
       "      <td>6.36</td>\n",
       "      <td>5.16</td>\n",
       "      <td>0.000000</td>\n",
       "    </tr>\n",
       "    <tr>\n",
       "      <th>1</th>\n",
       "      <td>2017</td>\n",
       "      <td>Wednesday</td>\n",
       "      <td>2017-01</td>\n",
       "      <td>6.39</td>\n",
       "      <td>5.27</td>\n",
       "      <td>0.021679</td>\n",
       "    </tr>\n",
       "    <tr>\n",
       "      <th>2</th>\n",
       "      <td>2017</td>\n",
       "      <td>Thursday</td>\n",
       "      <td>2017-01</td>\n",
       "      <td>6.39</td>\n",
       "      <td>5.08</td>\n",
       "      <td>-0.035494</td>\n",
       "    </tr>\n",
       "    <tr>\n",
       "      <th>3</th>\n",
       "      <td>2017</td>\n",
       "      <td>Friday</td>\n",
       "      <td>2017-01</td>\n",
       "      <td>6.29</td>\n",
       "      <td>4.99</td>\n",
       "      <td>-0.019200</td>\n",
       "    </tr>\n",
       "    <tr>\n",
       "      <th>4</th>\n",
       "      <td>2017</td>\n",
       "      <td>Monday</td>\n",
       "      <td>2017-02</td>\n",
       "      <td>6.15</td>\n",
       "      <td>4.98</td>\n",
       "      <td>-0.001224</td>\n",
       "    </tr>\n",
       "    <tr>\n",
       "      <th>...</th>\n",
       "      <td>...</td>\n",
       "      <td>...</td>\n",
       "      <td>...</td>\n",
       "      <td>...</td>\n",
       "      <td>...</td>\n",
       "      <td>...</td>\n",
       "    </tr>\n",
       "    <tr>\n",
       "      <th>1253</th>\n",
       "      <td>2021</td>\n",
       "      <td>Thursday</td>\n",
       "      <td>2021-51</td>\n",
       "      <td>38.50</td>\n",
       "      <td>38.03</td>\n",
       "      <td>-0.012078</td>\n",
       "    </tr>\n",
       "    <tr>\n",
       "      <th>1254</th>\n",
       "      <td>2021</td>\n",
       "      <td>Monday</td>\n",
       "      <td>2021-52</td>\n",
       "      <td>38.00</td>\n",
       "      <td>37.08</td>\n",
       "      <td>-0.025174</td>\n",
       "    </tr>\n",
       "    <tr>\n",
       "      <th>1255</th>\n",
       "      <td>2021</td>\n",
       "      <td>Tuesday</td>\n",
       "      <td>2021-52</td>\n",
       "      <td>36.88</td>\n",
       "      <td>36.62</td>\n",
       "      <td>-0.012474</td>\n",
       "    </tr>\n",
       "    <tr>\n",
       "      <th>1256</th>\n",
       "      <td>2021</td>\n",
       "      <td>Wednesday</td>\n",
       "      <td>2021-52</td>\n",
       "      <td>36.96</td>\n",
       "      <td>38.48</td>\n",
       "      <td>0.051004</td>\n",
       "    </tr>\n",
       "    <tr>\n",
       "      <th>1257</th>\n",
       "      <td>2021</td>\n",
       "      <td>Thursday</td>\n",
       "      <td>2021-52</td>\n",
       "      <td>37.75</td>\n",
       "      <td>38.83</td>\n",
       "      <td>0.009095</td>\n",
       "    </tr>\n",
       "  </tbody>\n",
       "</table>\n",
       "<p>1258 rows × 6 columns</p>\n",
       "</div>"
      ],
      "text/plain": [
       "      Year    Weekday Year_Week   Open  Adj Close    Return\n",
       "0     2017    Tuesday   2017-01   6.36       5.16  0.000000\n",
       "1     2017  Wednesday   2017-01   6.39       5.27  0.021679\n",
       "2     2017   Thursday   2017-01   6.39       5.08 -0.035494\n",
       "3     2017     Friday   2017-01   6.29       4.99 -0.019200\n",
       "4     2017     Monday   2017-02   6.15       4.98 -0.001224\n",
       "...    ...        ...       ...    ...        ...       ...\n",
       "1253  2021   Thursday   2021-51  38.50      38.03 -0.012078\n",
       "1254  2021     Monday   2021-52  38.00      37.08 -0.025174\n",
       "1255  2021    Tuesday   2021-52  36.88      36.62 -0.012474\n",
       "1256  2021  Wednesday   2021-52  36.96      38.48  0.051004\n",
       "1257  2021   Thursday   2021-52  37.75      38.83  0.009095\n",
       "\n",
       "[1258 rows x 6 columns]"
      ]
     },
     "execution_count": 13,
     "metadata": {},
     "output_type": "execute_result"
    }
   ],
   "source": [
    "gme"
   ]
  },
  {
   "cell_type": "code",
   "execution_count": 14,
   "id": "82230e83-1c4e-4354-8049-f4d355824f84",
   "metadata": {},
   "outputs": [
    {
     "data": {
      "text/html": [
       "<div>\n",
       "<style scoped>\n",
       "    .dataframe tbody tr th:only-of-type {\n",
       "        vertical-align: middle;\n",
       "    }\n",
       "\n",
       "    .dataframe tbody tr th {\n",
       "        vertical-align: top;\n",
       "    }\n",
       "\n",
       "    .dataframe thead th {\n",
       "        text-align: right;\n",
       "    }\n",
       "</style>\n",
       "<table border=\"1\" class=\"dataframe\">\n",
       "  <thead>\n",
       "    <tr style=\"text-align: right;\">\n",
       "      <th></th>\n",
       "      <th>Year</th>\n",
       "      <th>Weekday</th>\n",
       "      <th>Year_Week</th>\n",
       "      <th>Open</th>\n",
       "      <th>Adj Close</th>\n",
       "      <th>Return</th>\n",
       "    </tr>\n",
       "  </thead>\n",
       "  <tbody>\n",
       "    <tr>\n",
       "      <th>0</th>\n",
       "      <td>2017</td>\n",
       "      <td>Tuesday</td>\n",
       "      <td>2017-01</td>\n",
       "      <td>6.36</td>\n",
       "      <td>5.16</td>\n",
       "      <td>0.000000</td>\n",
       "    </tr>\n",
       "    <tr>\n",
       "      <th>1</th>\n",
       "      <td>2017</td>\n",
       "      <td>Wednesday</td>\n",
       "      <td>2017-01</td>\n",
       "      <td>6.39</td>\n",
       "      <td>5.27</td>\n",
       "      <td>0.021679</td>\n",
       "    </tr>\n",
       "    <tr>\n",
       "      <th>2</th>\n",
       "      <td>2017</td>\n",
       "      <td>Thursday</td>\n",
       "      <td>2017-01</td>\n",
       "      <td>6.39</td>\n",
       "      <td>5.08</td>\n",
       "      <td>-0.035494</td>\n",
       "    </tr>\n",
       "    <tr>\n",
       "      <th>3</th>\n",
       "      <td>2017</td>\n",
       "      <td>Friday</td>\n",
       "      <td>2017-01</td>\n",
       "      <td>6.29</td>\n",
       "      <td>4.99</td>\n",
       "      <td>-0.019200</td>\n",
       "    </tr>\n",
       "    <tr>\n",
       "      <th>4</th>\n",
       "      <td>2017</td>\n",
       "      <td>Monday</td>\n",
       "      <td>2017-02</td>\n",
       "      <td>6.15</td>\n",
       "      <td>4.98</td>\n",
       "      <td>-0.001224</td>\n",
       "    </tr>\n",
       "    <tr>\n",
       "      <th>...</th>\n",
       "      <td>...</td>\n",
       "      <td>...</td>\n",
       "      <td>...</td>\n",
       "      <td>...</td>\n",
       "      <td>...</td>\n",
       "      <td>...</td>\n",
       "    </tr>\n",
       "    <tr>\n",
       "      <th>1253</th>\n",
       "      <td>2021</td>\n",
       "      <td>Thursday</td>\n",
       "      <td>2021-51</td>\n",
       "      <td>38.50</td>\n",
       "      <td>38.03</td>\n",
       "      <td>-0.012078</td>\n",
       "    </tr>\n",
       "    <tr>\n",
       "      <th>1254</th>\n",
       "      <td>2021</td>\n",
       "      <td>Monday</td>\n",
       "      <td>2021-52</td>\n",
       "      <td>38.00</td>\n",
       "      <td>37.08</td>\n",
       "      <td>-0.025174</td>\n",
       "    </tr>\n",
       "    <tr>\n",
       "      <th>1255</th>\n",
       "      <td>2021</td>\n",
       "      <td>Tuesday</td>\n",
       "      <td>2021-52</td>\n",
       "      <td>36.88</td>\n",
       "      <td>36.62</td>\n",
       "      <td>-0.012474</td>\n",
       "    </tr>\n",
       "    <tr>\n",
       "      <th>1256</th>\n",
       "      <td>2021</td>\n",
       "      <td>Wednesday</td>\n",
       "      <td>2021-52</td>\n",
       "      <td>36.96</td>\n",
       "      <td>38.48</td>\n",
       "      <td>0.051004</td>\n",
       "    </tr>\n",
       "    <tr>\n",
       "      <th>1257</th>\n",
       "      <td>2021</td>\n",
       "      <td>Thursday</td>\n",
       "      <td>2021-52</td>\n",
       "      <td>37.75</td>\n",
       "      <td>38.83</td>\n",
       "      <td>0.009095</td>\n",
       "    </tr>\n",
       "  </tbody>\n",
       "</table>\n",
       "<p>1258 rows × 6 columns</p>\n",
       "</div>"
      ],
      "text/plain": [
       "      Year    Weekday Year_Week   Open  Adj Close    Return\n",
       "0     2017    Tuesday   2017-01   6.36       5.16  0.000000\n",
       "1     2017  Wednesday   2017-01   6.39       5.27  0.021679\n",
       "2     2017   Thursday   2017-01   6.39       5.08 -0.035494\n",
       "3     2017     Friday   2017-01   6.29       4.99 -0.019200\n",
       "4     2017     Monday   2017-02   6.15       4.98 -0.001224\n",
       "...    ...        ...       ...    ...        ...       ...\n",
       "1253  2021   Thursday   2021-51  38.50      38.03 -0.012078\n",
       "1254  2021     Monday   2021-52  38.00      37.08 -0.025174\n",
       "1255  2021    Tuesday   2021-52  36.88      36.62 -0.012474\n",
       "1256  2021  Wednesday   2021-52  36.96      38.48  0.051004\n",
       "1257  2021   Thursday   2021-52  37.75      38.83  0.009095\n",
       "\n",
       "[1258 rows x 6 columns]"
      ]
     },
     "execution_count": 14,
     "metadata": {},
     "output_type": "execute_result"
    }
   ],
   "source": [
    "gme_trading_booth.stock"
   ]
  },
  {
   "cell_type": "code",
   "execution_count": 15,
   "id": "a2123fb8-e2b5-4045-bae1-31c64cc5aa9d",
   "metadata": {},
   "outputs": [
    {
     "data": {
      "text/plain": [
       "['X_matrix',\n",
       " '__class__',\n",
       " '__delattr__',\n",
       " '__dict__',\n",
       " '__dir__',\n",
       " '__doc__',\n",
       " '__eq__',\n",
       " '__format__',\n",
       " '__ge__',\n",
       " '__getattribute__',\n",
       " '__gt__',\n",
       " '__hash__',\n",
       " '__init__',\n",
       " '__init_subclass__',\n",
       " '__le__',\n",
       " '__lt__',\n",
       " '__module__',\n",
       " '__ne__',\n",
       " '__new__',\n",
       " '__reduce__',\n",
       " '__reduce_ex__',\n",
       " '__repr__',\n",
       " '__setattr__',\n",
       " '__sizeof__',\n",
       " '__str__',\n",
       " '__subclasshook__',\n",
       " '__weakref__',\n",
       " 'add_intercept',\n",
       " 'cumulative_return',\n",
       " 'evaluation_year',\n",
       " 'log',\n",
       " 'predict',\n",
       " 'stock',\n",
       " 'total_profit',\n",
       " 'training_year']"
      ]
     },
     "execution_count": 15,
     "metadata": {},
     "output_type": "execute_result"
    }
   ],
   "source": [
    "dir(gme_trading_booth)"
   ]
  },
  {
   "cell_type": "code",
   "execution_count": 16,
   "id": "71d9b18e-d9db-4a08-bec1-d978ea9eb786",
   "metadata": {},
   "outputs": [
    {
     "data": {
      "text/html": [
       "<div>\n",
       "<style scoped>\n",
       "    .dataframe tbody tr th:only-of-type {\n",
       "        vertical-align: middle;\n",
       "    }\n",
       "\n",
       "    .dataframe tbody tr th {\n",
       "        vertical-align: top;\n",
       "    }\n",
       "\n",
       "    .dataframe thead th {\n",
       "        text-align: right;\n",
       "    }\n",
       "</style>\n",
       "<table border=\"1\" class=\"dataframe\">\n",
       "  <thead>\n",
       "    <tr style=\"text-align: right;\">\n",
       "      <th></th>\n",
       "      <th>Year</th>\n",
       "      <th>Weekday</th>\n",
       "      <th>Year_Week</th>\n",
       "      <th>Open</th>\n",
       "      <th>Adj Close</th>\n",
       "      <th>Return</th>\n",
       "    </tr>\n",
       "  </thead>\n",
       "  <tbody>\n",
       "    <tr>\n",
       "      <th>0</th>\n",
       "      <td>2017</td>\n",
       "      <td>Tuesday</td>\n",
       "      <td>2017-01</td>\n",
       "      <td>6.36</td>\n",
       "      <td>5.16</td>\n",
       "      <td>0.000000</td>\n",
       "    </tr>\n",
       "    <tr>\n",
       "      <th>1</th>\n",
       "      <td>2017</td>\n",
       "      <td>Wednesday</td>\n",
       "      <td>2017-01</td>\n",
       "      <td>6.39</td>\n",
       "      <td>5.27</td>\n",
       "      <td>0.021679</td>\n",
       "    </tr>\n",
       "    <tr>\n",
       "      <th>2</th>\n",
       "      <td>2017</td>\n",
       "      <td>Thursday</td>\n",
       "      <td>2017-01</td>\n",
       "      <td>6.39</td>\n",
       "      <td>5.08</td>\n",
       "      <td>-0.035494</td>\n",
       "    </tr>\n",
       "    <tr>\n",
       "      <th>3</th>\n",
       "      <td>2017</td>\n",
       "      <td>Friday</td>\n",
       "      <td>2017-01</td>\n",
       "      <td>6.29</td>\n",
       "      <td>4.99</td>\n",
       "      <td>-0.019200</td>\n",
       "    </tr>\n",
       "    <tr>\n",
       "      <th>4</th>\n",
       "      <td>2017</td>\n",
       "      <td>Monday</td>\n",
       "      <td>2017-02</td>\n",
       "      <td>6.15</td>\n",
       "      <td>4.98</td>\n",
       "      <td>-0.001224</td>\n",
       "    </tr>\n",
       "    <tr>\n",
       "      <th>...</th>\n",
       "      <td>...</td>\n",
       "      <td>...</td>\n",
       "      <td>...</td>\n",
       "      <td>...</td>\n",
       "      <td>...</td>\n",
       "      <td>...</td>\n",
       "    </tr>\n",
       "    <tr>\n",
       "      <th>1253</th>\n",
       "      <td>2021</td>\n",
       "      <td>Thursday</td>\n",
       "      <td>2021-51</td>\n",
       "      <td>38.50</td>\n",
       "      <td>38.03</td>\n",
       "      <td>-0.012078</td>\n",
       "    </tr>\n",
       "    <tr>\n",
       "      <th>1254</th>\n",
       "      <td>2021</td>\n",
       "      <td>Monday</td>\n",
       "      <td>2021-52</td>\n",
       "      <td>38.00</td>\n",
       "      <td>37.08</td>\n",
       "      <td>-0.025174</td>\n",
       "    </tr>\n",
       "    <tr>\n",
       "      <th>1255</th>\n",
       "      <td>2021</td>\n",
       "      <td>Tuesday</td>\n",
       "      <td>2021-52</td>\n",
       "      <td>36.88</td>\n",
       "      <td>36.62</td>\n",
       "      <td>-0.012474</td>\n",
       "    </tr>\n",
       "    <tr>\n",
       "      <th>1256</th>\n",
       "      <td>2021</td>\n",
       "      <td>Wednesday</td>\n",
       "      <td>2021-52</td>\n",
       "      <td>36.96</td>\n",
       "      <td>38.48</td>\n",
       "      <td>0.051004</td>\n",
       "    </tr>\n",
       "    <tr>\n",
       "      <th>1257</th>\n",
       "      <td>2021</td>\n",
       "      <td>Thursday</td>\n",
       "      <td>2021-52</td>\n",
       "      <td>37.75</td>\n",
       "      <td>38.83</td>\n",
       "      <td>0.009095</td>\n",
       "    </tr>\n",
       "  </tbody>\n",
       "</table>\n",
       "<p>1258 rows × 6 columns</p>\n",
       "</div>"
      ],
      "text/plain": [
       "      Year    Weekday Year_Week   Open  Adj Close    Return\n",
       "0     2017    Tuesday   2017-01   6.36       5.16  0.000000\n",
       "1     2017  Wednesday   2017-01   6.39       5.27  0.021679\n",
       "2     2017   Thursday   2017-01   6.39       5.08 -0.035494\n",
       "3     2017     Friday   2017-01   6.29       4.99 -0.019200\n",
       "4     2017     Monday   2017-02   6.15       4.98 -0.001224\n",
       "...    ...        ...       ...    ...        ...       ...\n",
       "1253  2021   Thursday   2021-51  38.50      38.03 -0.012078\n",
       "1254  2021     Monday   2021-52  38.00      37.08 -0.025174\n",
       "1255  2021    Tuesday   2021-52  36.88      36.62 -0.012474\n",
       "1256  2021  Wednesday   2021-52  36.96      38.48  0.051004\n",
       "1257  2021   Thursday   2021-52  37.75      38.83  0.009095\n",
       "\n",
       "[1258 rows x 6 columns]"
      ]
     },
     "execution_count": 16,
     "metadata": {},
     "output_type": "execute_result"
    }
   ],
   "source": [
    "gme_trading_booth.stock"
   ]
  },
  {
   "cell_type": "code",
   "execution_count": 17,
   "id": "f69e256c-29f9-48d9-8bcc-d9d4fb32b787",
   "metadata": {},
   "outputs": [
    {
     "ename": "SyntaxError",
     "evalue": "invalid syntax (1811510385.py, line 5)",
     "output_type": "error",
     "traceback": [
      "\u001b[0;36m  Cell \u001b[0;32mIn[17], line 5\u001b[0;36m\u001b[0m\n\u001b[0;31m    if p ==\u001b[0m\n\u001b[0m            ^\u001b[0m\n\u001b[0;31mSyntaxError\u001b[0m\u001b[0;31m:\u001b[0m invalid syntax\n"
     ]
    }
   ],
   "source": [
    "cumulative_return = 0\n",
    "standing_trade = predicted_labels[0]\n",
    "standing_trade\n",
    "for p in predicted_labels[1:]:\n",
    "    if p == "
   ]
  },
  {
   "cell_type": "code",
   "execution_count": null,
   "id": "b57fbb83-6231-44ec-a30d-b823ccaf026e",
   "metadata": {},
   "outputs": [],
   "source": [
    "predictions = results[-1]['predictions']"
   ]
  },
  {
   "cell_type": "code",
   "execution_count": null,
   "id": "8799724f-23c9-4d5e-a17e-548ec3784afd",
   "metadata": {},
   "outputs": [],
   "source": [
    "for p in predictions:"
   ]
  },
  {
   "cell_type": "code",
   "execution_count": null,
   "id": "195b8bff-d534-4733-9e31-3f3f2d25dd42",
   "metadata": {},
   "outputs": [],
   "source": [
    "gme"
   ]
  },
  {
   "cell_type": "code",
   "execution_count": null,
   "id": "5d3430ff-f022-477c-936e-8bd177b08528",
   "metadata": {},
   "outputs": [],
   "source": [
    "gme.query('Year == 2020')"
   ]
  },
  {
   "cell_type": "code",
   "execution_count": null,
   "id": "afff558b-f9c1-4a85-a00d-d9103dfa4262",
   "metadata": {},
   "outputs": [],
   "source": [
    "predictions"
   ]
  },
  {
   "cell_type": "markdown",
   "id": "baa7ea58-c374-4b48-90cf-4ec0ac7a6e10",
   "metadata": {},
   "source": [
    "Long trade implementation:\n",
    "Short trade implementation:"
   ]
  },
  {
   "cell_type": "code",
   "execution_count": null,
   "id": "07f79e38-07cd-42a5-b6dd-482356bff80d",
   "metadata": {},
   "outputs": [],
   "source": [
    "begin_prices = [gme.loc[0,'Open']]\n",
    "begin_prices = begin_prices+list(gme.loc[:gme.index[-2],'Adj Close'].values)"
   ]
  },
  {
   "cell_type": "code",
   "execution_count": null,
   "id": "8de741d9-38eb-477c-a499-d094eb69ccf8",
   "metadata": {},
   "outputs": [],
   "source": [
    "len(begin_prices)"
   ]
  },
  {
   "cell_type": "code",
   "execution_count": null,
   "id": "f81c6c42-3d31-4769-bf44-7b8805db1c5e",
   "metadata": {},
   "outputs": [],
   "source": [
    "gme['Begin'] = begin_prices"
   ]
  },
  {
   "cell_type": "code",
   "execution_count": null,
   "id": "bc3fd0a9-bc41-4875-942f-1c5adfba966f",
   "metadata": {},
   "outputs": [],
   "source": [
    "gme['Begin']"
   ]
  },
  {
   "cell_type": "code",
   "execution_count": null,
   "id": "4ba40092-2679-4377-93eb-03cf4fc0b444",
   "metadata": {},
   "outputs": [],
   "source": [
    "gme['ReturnCalc'] = gme['Adj Close']/gme['Begin']"
   ]
  },
  {
   "cell_type": "code",
   "execution_count": null,
   "id": "21ba4f22-941f-4448-bca7-78870ad6e811",
   "metadata": {},
   "outputs": [],
   "source": []
  }
 ],
 "metadata": {
  "kernelspec": {
   "display_name": "Python 3 (ipykernel)",
   "language": "python",
   "name": "python3"
  },
  "language_info": {
   "codemirror_mode": {
    "name": "ipython",
    "version": 3
   },
   "file_extension": ".py",
   "mimetype": "text/x-python",
   "name": "python",
   "nbconvert_exporter": "python",
   "pygments_lexer": "ipython3",
   "version": "3.9.18"
  }
 },
 "nbformat": 4,
 "nbformat_minor": 5
}
