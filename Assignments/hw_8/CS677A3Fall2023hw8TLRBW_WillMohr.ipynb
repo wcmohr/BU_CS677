{
 "cells": [
  {
   "cell_type": "code",
   "execution_count": 1,
   "id": "a7c0dca2-dd4b-48b9-aa04-e16f0ae80791",
   "metadata": {},
   "outputs": [],
   "source": [
    "import pandas as pd\n",
    "import numpy as np\n",
    "from function_wrappers import *\n",
    "from functions import *\n",
    "from sklearn.preprocessing import LabelEncoder\n",
    "from sklearn.metrics import accuracy_score\n",
    "import seaborn as sns\n",
    "import matplotlib.pyplot as plt\n",
    "from sklearn.metrics import confusion_matrix\n",
    "from sklearn.metrics import ConfusionMatrixDisplay\n",
    "from functions import hyperparameter_grid"
   ]
  },
  {
   "cell_type": "markdown",
   "id": "6f001760-eb2a-4abc-87fb-0be9ff5b5beb",
   "metadata": {},
   "source": [
    "## Trading Linear Regression Best Window"
   ]
  },
  {
   "cell_type": "markdown",
   "id": "0666d3ba-36eb-4099-b288-f33773d57475",
   "metadata": {},
   "source": [
    "###### Assignment"
   ]
  },
  {
   "cell_type": "markdown",
   "id": "8f1b5f64-724d-4890-9d26-3fd5dadd102f",
   "metadata": {},
   "source": [
    "Take a window of W days.  Train a linear model on \"Adj Close\" prices with W days lagged.  Determine if the next day will be higher or lower than today.  Enter or stay in a position that is either long, short, or neutral depending on whether the price is expected to be higher, lower or the same.  Optimize for W according to returns in year 2.\n"
   ]
  },
  {
   "cell_type": "markdown",
   "id": "3ad9d340-1fd8-4e17-8317-4524fda71595",
   "metadata": {},
   "source": [
    "###### Questions"
   ]
  },
  {
   "cell_type": "markdown",
   "id": "fa6142e5-9e3e-4bfd-a4f9-cf325c518125",
   "metadata": {},
   "source": [
    "\n",
    "1. take W = 5, 6, . . . , 30 and consider your data for year 1.\n",
    "For each W in the specified range, compute your average\n",
    "P/L per trade and plot it: on x-axis you plot the values\n",
    "of W and on the y axis you plot profit and loss per trade.\n",
    "What is the optimal value W∗\n",
    "of W?\n",
    "2. use the value of W∗\n",
    "from year 1 and consider year 2. For\n",
    "every day in year 2, take the previous W∗ days, compute\n",
    "linear regression and compute the value of r\n",
    "2\n",
    "for that day.\n",
    "Plot the graph of r\n",
    "2\n",
    "for year 2. What is the average r\n",
    "2\n",
    ".\n",
    "How well does it explain price movements?\n",
    "3. take the optimal value of W∗\n",
    "from year 1 and use it to\n",
    "implement the above trading strategy for year 2. How many\n",
    "”long position” and ’short position” transactions did you\n",
    "have in year 2?\n",
    "4. what is the average profit/loss per ”long position” trade\n",
    "and per ”short position” trades in year 2?\n",
    "5. what is the average number of days for long position and\n",
    "short position transactions in year 2?\n",
    "6. are these results very different from those in year 1 for this\n",
    "value of W∗\n",
    "?"
   ]
  },
  {
   "cell_type": "code",
   "execution_count": 2,
   "id": "cffea38b-38e3-443a-b575-937c907e64a4",
   "metadata": {},
   "outputs": [],
   "source": [
    "def trading(stock, w=5, year=2020):\n",
    "    pass"
   ]
  },
  {
   "cell_type": "code",
   "execution_count": 3,
   "id": "3375395e-945a-4e9d-828b-fd7d6a2cf0ba",
   "metadata": {
    "tags": []
   },
   "outputs": [],
   "source": [
    "gme = pd.read_csv('./gme.csv')\n",
    "gme.drop(['Date', 'Month', 'Day','Week_Number','High', 'Low', 'Close', 'Volume', \n",
    "         'Short_MA', 'Long_MA'], inplace=True, axis=1)"
   ]
  },
  {
   "cell_type": "code",
   "execution_count": 4,
   "id": "0646e0fb-68db-40fa-938a-52e9b2819dfe",
   "metadata": {},
   "outputs": [
    {
     "data": {
      "text/html": [
       "<div>\n",
       "<style scoped>\n",
       "    .dataframe tbody tr th:only-of-type {\n",
       "        vertical-align: middle;\n",
       "    }\n",
       "\n",
       "    .dataframe tbody tr th {\n",
       "        vertical-align: top;\n",
       "    }\n",
       "\n",
       "    .dataframe thead th {\n",
       "        text-align: right;\n",
       "    }\n",
       "</style>\n",
       "<table border=\"1\" class=\"dataframe\">\n",
       "  <thead>\n",
       "    <tr style=\"text-align: right;\">\n",
       "      <th></th>\n",
       "      <th>Year</th>\n",
       "      <th>Weekday</th>\n",
       "      <th>Year_Week</th>\n",
       "      <th>Open</th>\n",
       "      <th>Adj Close</th>\n",
       "      <th>Return</th>\n",
       "    </tr>\n",
       "  </thead>\n",
       "  <tbody>\n",
       "    <tr>\n",
       "      <th>0</th>\n",
       "      <td>2017</td>\n",
       "      <td>Tuesday</td>\n",
       "      <td>2017-01</td>\n",
       "      <td>6.36</td>\n",
       "      <td>5.16</td>\n",
       "      <td>0.000000</td>\n",
       "    </tr>\n",
       "    <tr>\n",
       "      <th>1</th>\n",
       "      <td>2017</td>\n",
       "      <td>Wednesday</td>\n",
       "      <td>2017-01</td>\n",
       "      <td>6.39</td>\n",
       "      <td>5.27</td>\n",
       "      <td>0.021679</td>\n",
       "    </tr>\n",
       "    <tr>\n",
       "      <th>2</th>\n",
       "      <td>2017</td>\n",
       "      <td>Thursday</td>\n",
       "      <td>2017-01</td>\n",
       "      <td>6.39</td>\n",
       "      <td>5.08</td>\n",
       "      <td>-0.035494</td>\n",
       "    </tr>\n",
       "    <tr>\n",
       "      <th>3</th>\n",
       "      <td>2017</td>\n",
       "      <td>Friday</td>\n",
       "      <td>2017-01</td>\n",
       "      <td>6.29</td>\n",
       "      <td>4.99</td>\n",
       "      <td>-0.019200</td>\n",
       "    </tr>\n",
       "    <tr>\n",
       "      <th>4</th>\n",
       "      <td>2017</td>\n",
       "      <td>Monday</td>\n",
       "      <td>2017-02</td>\n",
       "      <td>6.15</td>\n",
       "      <td>4.98</td>\n",
       "      <td>-0.001224</td>\n",
       "    </tr>\n",
       "    <tr>\n",
       "      <th>...</th>\n",
       "      <td>...</td>\n",
       "      <td>...</td>\n",
       "      <td>...</td>\n",
       "      <td>...</td>\n",
       "      <td>...</td>\n",
       "      <td>...</td>\n",
       "    </tr>\n",
       "    <tr>\n",
       "      <th>1253</th>\n",
       "      <td>2021</td>\n",
       "      <td>Thursday</td>\n",
       "      <td>2021-51</td>\n",
       "      <td>38.50</td>\n",
       "      <td>38.03</td>\n",
       "      <td>-0.012078</td>\n",
       "    </tr>\n",
       "    <tr>\n",
       "      <th>1254</th>\n",
       "      <td>2021</td>\n",
       "      <td>Monday</td>\n",
       "      <td>2021-52</td>\n",
       "      <td>38.00</td>\n",
       "      <td>37.08</td>\n",
       "      <td>-0.025174</td>\n",
       "    </tr>\n",
       "    <tr>\n",
       "      <th>1255</th>\n",
       "      <td>2021</td>\n",
       "      <td>Tuesday</td>\n",
       "      <td>2021-52</td>\n",
       "      <td>36.88</td>\n",
       "      <td>36.62</td>\n",
       "      <td>-0.012474</td>\n",
       "    </tr>\n",
       "    <tr>\n",
       "      <th>1256</th>\n",
       "      <td>2021</td>\n",
       "      <td>Wednesday</td>\n",
       "      <td>2021-52</td>\n",
       "      <td>36.96</td>\n",
       "      <td>38.48</td>\n",
       "      <td>0.051004</td>\n",
       "    </tr>\n",
       "    <tr>\n",
       "      <th>1257</th>\n",
       "      <td>2021</td>\n",
       "      <td>Thursday</td>\n",
       "      <td>2021-52</td>\n",
       "      <td>37.75</td>\n",
       "      <td>38.83</td>\n",
       "      <td>0.009095</td>\n",
       "    </tr>\n",
       "  </tbody>\n",
       "</table>\n",
       "<p>1258 rows × 6 columns</p>\n",
       "</div>"
      ],
      "text/plain": [
       "      Year    Weekday Year_Week   Open  Adj Close    Return\n",
       "0     2017    Tuesday   2017-01   6.36       5.16  0.000000\n",
       "1     2017  Wednesday   2017-01   6.39       5.27  0.021679\n",
       "2     2017   Thursday   2017-01   6.39       5.08 -0.035494\n",
       "3     2017     Friday   2017-01   6.29       4.99 -0.019200\n",
       "4     2017     Monday   2017-02   6.15       4.98 -0.001224\n",
       "...    ...        ...       ...    ...        ...       ...\n",
       "1253  2021   Thursday   2021-51  38.50      38.03 -0.012078\n",
       "1254  2021     Monday   2021-52  38.00      37.08 -0.025174\n",
       "1255  2021    Tuesday   2021-52  36.88      36.62 -0.012474\n",
       "1256  2021  Wednesday   2021-52  36.96      38.48  0.051004\n",
       "1257  2021   Thursday   2021-52  37.75      38.83  0.009095\n",
       "\n",
       "[1258 rows x 6 columns]"
      ]
     },
     "execution_count": 4,
     "metadata": {},
     "output_type": "execute_result"
    }
   ],
   "source": [
    "gme"
   ]
  },
  {
   "cell_type": "code",
   "execution_count": 5,
   "id": "73aba35e-1e02-462b-b213-05fdd51e64d6",
   "metadata": {},
   "outputs": [
    {
     "data": {
      "text/plain": [
       "754"
      ]
     },
     "execution_count": 5,
     "metadata": {},
     "output_type": "execute_result"
    }
   ],
   "source": [
    "gme[gme['Year']==2020].index[0]"
   ]
  },
  {
   "cell_type": "code",
   "execution_count": 6,
   "id": "9dd894ec-0ac0-4e72-845c-0afec40fc8a1",
   "metadata": {},
   "outputs": [
    {
     "data": {
      "text/plain": [
       "array([[1.  , 1.36, 1.35, 1.48, 1.53, 1.52],\n",
       "       [1.  , 1.35, 1.48, 1.53, 1.52, 1.58],\n",
       "       [1.  , 1.48, 1.53, 1.52, 1.58, 1.47],\n",
       "       ...,\n",
       "       [1.  , 3.88, 4.86, 5.14, 5.04, 5.25],\n",
       "       [1.  , 4.86, 5.14, 5.04, 5.25, 4.84],\n",
       "       [1.  , 5.14, 5.04, 5.25, 4.84, 4.82]])"
      ]
     },
     "execution_count": 6,
     "metadata": {},
     "output_type": "execute_result"
    }
   ],
   "source": [
    "X_transform(gme,y=2020,w=5,d=1,measure='Adj Close')"
   ]
  },
  {
   "cell_type": "code",
   "execution_count": 7,
   "id": "a6333c20-7fa6-421f-9022-c1aa3d694b97",
   "metadata": {},
   "outputs": [],
   "source": [
    "from functions import polynomial_accuracy"
   ]
  },
  {
   "cell_type": "code",
   "execution_count": 8,
   "id": "f1ffb8c5-3bab-4606-b324-a0b35bf218bd",
   "metadata": {},
   "outputs": [],
   "source": [
    "results = polynomial_accuracy(gme,y=2020,w=5,d=1,test=0,\n",
    "                                  measure='Adj Close',weekly=False)\n",
    "predicted_labels = results[-1]['predicted_labels']"
   ]
  },
  {
   "cell_type": "code",
   "execution_count": 9,
   "id": "c728e4da-323d-4ea8-8d9e-ad764a31c4d7",
   "metadata": {},
   "outputs": [
    {
     "data": {
      "text/plain": [
       "(array([0, 1]), array([131, 122]))"
      ]
     },
     "execution_count": 9,
     "metadata": {},
     "output_type": "execute_result"
    }
   ],
   "source": [
    "np.unique(results[-1]['true_labels'],return_counts=True)"
   ]
  },
  {
   "cell_type": "code",
   "execution_count": 10,
   "id": "030e9a75-1399-48dc-99ec-200f50cafb3b",
   "metadata": {},
   "outputs": [
    {
     "data": {
      "text/plain": [
       "(array([0, 1]), array([ 55, 198]))"
      ]
     },
     "execution_count": 10,
     "metadata": {},
     "output_type": "execute_result"
    }
   ],
   "source": [
    "np.unique(results[-1]['predicted_labels'], return_counts=True)"
   ]
  },
  {
   "cell_type": "markdown",
   "id": "f2c01d2b-f764-45a3-9bf7-cf7e0095a2c9",
   "metadata": {},
   "source": [
    "My hypothesis for why there would be more predicted up movements is that there the up movements are on average higher than down movements, and therefore rmse is reduced by biasing predictions upwards."
   ]
  },
  {
   "cell_type": "code",
   "execution_count": 11,
   "id": "f3317636-6cd3-478f-83c3-3860ce457b5d",
   "metadata": {},
   "outputs": [
    {
     "data": {
      "text/plain": [
       "array([1, 0, 1, 1, 1, 1, 1, 1, 1, 1, 0, 0, 1, 1, 1, 1, 1, 1, 1, 1, 1, 1,\n",
       "       1, 1, 1, 1, 1, 0, 1, 1, 1, 1, 1, 1, 1, 1, 1, 1, 1, 1, 1, 1, 1, 1,\n",
       "       0, 1, 1, 0, 1, 1, 0, 1, 1, 0, 0, 1, 1, 0, 1, 1, 1, 1, 0, 1, 1, 0,\n",
       "       0, 1, 1, 1, 1, 1, 1, 1, 0, 1, 1, 1, 0, 1, 0, 1, 1, 0, 1, 1, 1, 0,\n",
       "       1, 0, 1, 1, 1, 1, 1, 1, 1, 1, 0, 1, 0, 1, 1, 1, 0, 1, 1, 1, 1, 0,\n",
       "       1, 1, 1, 0, 1, 1, 0, 1, 1, 1, 1, 1, 0, 1, 1, 1, 1, 1, 1, 1, 1, 1,\n",
       "       1, 1, 1, 0, 1, 1, 1, 1, 1, 1, 1, 1, 1, 1, 1, 1, 1, 1, 1, 1, 1, 0,\n",
       "       1, 1, 1, 1, 1, 1, 1, 1, 0, 1, 1, 0, 1, 1, 0, 1, 1, 1, 1, 1, 1, 1,\n",
       "       0, 0, 1, 1, 1, 1, 1, 0, 1, 1, 0, 1, 1, 1, 1, 1, 0, 1, 1, 0, 1, 1,\n",
       "       0, 1, 1, 1, 1, 0, 1, 0, 1, 1, 0, 0, 1, 1, 0, 0, 1, 1, 0, 1, 1, 0,\n",
       "       1, 1, 0, 1, 1, 0, 1, 1, 1, 1, 0, 1, 1, 0, 1, 1, 1, 1, 1, 0, 0, 1,\n",
       "       0, 1, 1, 1, 1, 0, 1, 1, 0, 1, 1])"
      ]
     },
     "execution_count": 11,
     "metadata": {},
     "output_type": "execute_result"
    }
   ],
   "source": [
    "predicted_labels"
   ]
  },
  {
   "cell_type": "markdown",
   "id": "101858a4-adbe-4249-940b-b93ebe17c4ce",
   "metadata": {},
   "source": [
    "Note: in the presence of short-selling, since one can lose more than principal, it makes sense to think of return as being on a scale from negative infinity to infinity, where positive returns indicate the proportion of the principal that is gained and negative returns indicate the proportion of the pricipal that is lost.  With only long positions, a range of (0,positive_infinity) to indicate the proportion of principal at the end of an investment period made sense.  For compatibility between long and short positions, I will proceed with the standard of negative_infinity, positive_infinity."
   ]
  },
  {
   "cell_type": "markdown",
   "id": "51bff435-42f4-46b8-a133-11fb3f9248e2",
   "metadata": {},
   "source": [
    "Data structure: list of two element lists, with each list being data for a trade, with the first element being an indicator of position, 0 for short and 1 for long, and the second element being the profit, potentially negative, of the trade. \n",
    "\n",
    "Idea: iterate through the days in the trading period.  Have a standing position that is updated for each day.  If the prediction changes, close the current position and record profit for the trade."
   ]
  },
  {
   "cell_type": "markdown",
   "id": "917f7a08-5659-4813-91ce-9b96b1bcde3a",
   "metadata": {},
   "source": [
    "short position return per share:\n",
    "\n",
    "(entry price - close price) / entry price"
   ]
  },
  {
   "cell_type": "markdown",
   "id": "0d673dc0-b0dc-444c-b7ff-249ccab146d4",
   "metadata": {},
   "source": [
    "structure: \n",
    "\n",
    "1. method for determining predictions, taking w and a year as arguments\n",
    "2. method for determining profit, taking predictions and a year as arguments\n",
    "3. method for determining the most profitable w, taking an array of Ws and a year as arguments."
   ]
  },
  {
   "cell_type": "code",
   "execution_count": 12,
   "id": "b3001b64-9c04-41e9-9ee6-ed585232ec8c",
   "metadata": {},
   "outputs": [],
   "source": [
    "class maths():\n",
    "    def __init__(self, numbers):\n",
    "        self.numbers = numbers\n",
    "    def add(self,**numbers):\n",
    "        if not numbers:\n",
    "            numbers = self.numbers\n",
    "        total = 0\n",
    "        for n in numbers:\n",
    "            total += n\n",
    "        return total\n",
    "    def euclidean(self,**kwargs):\n",
    "\n",
    "        if not kwargs['numbers']:\n",
    "            numbers = self.numbers\n",
    "        else:\n",
    "            numbers = kwargs['numbers']\n",
    "            print(type([numbers]))\n",
    "        return self.add(numbers = [n*n for n in numbers])**.5"
   ]
  },
  {
   "cell_type": "code",
   "execution_count": 13,
   "id": "7133f7de-343a-4953-88c4-53ed6a23bcd3",
   "metadata": {},
   "outputs": [],
   "source": [
    "class position():\n",
    "    \"\"\"take an entry price, bet direction(long:1, short:0) and track a trade's \n",
    "    length in days and profit in dollars.\"\"\"\n",
    "    def __init__(self, entry_price, long_short=1, size=100):\n",
    "        self.long_short = long_short\n",
    "        self.size = size \n",
    "        self.entry_price = entry_price\n",
    "        self.current_price = entry_price\n",
    "        self.shares = size/entry_price\n",
    "        self.cumulative_return = 0\n",
    "        self.profit = 0\n",
    "        self.trade_length = 0\n",
    "        self.info = (self.long_short,self.trade_length,self.profit)\n",
    "    def __str__(self):\n",
    "        return f'long_short:{long_short}, days:{entry_price}, \\\n",
    "        current price:{current_price}'\n",
    "    def update(self,current_price):\n",
    "        self.current_price = current_price\n",
    "        self.cumulative_return = (current_price - self.entry_price)*(-1)**\\\n",
    "            (1-self.long_short)/self.entry_price\n",
    "        self.profit = self.size*(self.cumulative_return)\n",
    "        self.trade_length += 1\n",
    "        self.info = {'direction':self.long_short,'length':self.trade_length,\n",
    "                     'profit': self.profit}"
   ]
  },
  {
   "cell_type": "markdown",
   "id": "1c515c69-8390-417e-95b9-829f77dadf0b",
   "metadata": {},
   "source": [
    "trading booth schematic:\n",
    "\n",
    "1) \\_\\_init__: takes stock, stores windows, trading_year, evaluation_year\n",
    "2) Generate predictions\n",
    "   requirements: \n",
    "   a) feature space (create_X)\n",
    "   b) get least squares coefficients (linear_model)\n",
    "\n",
    "3) Evaluate Ws:\n",
    "   1) for each W:\n",
    "      for each direction of bet:\n",
    "       * find number of trades\n",
    "       * find length of trades (total # of days)\n",
    "       * find profit (total profit)\n",
    "   "
   ]
  },
  {
   "cell_type": "code",
   "execution_count": 14,
   "id": "3ff413d4-d4ab-4ecc-a7e2-51f9d9ef74f2",
   "metadata": {},
   "outputs": [
    {
     "ename": "SyntaxError",
     "evalue": "invalid syntax (2374455561.py, line 49)",
     "output_type": "error",
     "traceback": [
      "\u001b[0;36m  Cell \u001b[0;32mIn[14], line 49\u001b[0;36m\u001b[0m\n\u001b[0;31m    def trade_analysis(self,trade_log = trades)\u001b[0m\n\u001b[0m                                               ^\u001b[0m\n\u001b[0;31mSyntaxError\u001b[0m\u001b[0;31m:\u001b[0m invalid syntax\n"
     ]
    }
   ],
   "source": [
    "class trading_booth():\n",
    "    \"\"\"for caclulating returns with a given window for prices and labels\"\"\"\n",
    "    def __init__(self, stock, windows = list(range(5,31)), training_year = 2020, \n",
    "                 evaluation_year = 2021):\n",
    "        # collect arguments\n",
    "        self.stock = stock\n",
    "        self.windows = windows\n",
    "        self.training_year = training_year\n",
    "        self.evaluation_year = evaluation_year\n",
    "    def linear_model(self, w):\n",
    "        stock = self.stock\n",
    "        y = self.training_year\n",
    "        idx = stock[stock['Year'] == y].index\n",
    "        X = np.array([np.insert(stock.loc[i-w:i-1,'Adj Close'].values,0,1) \n",
    "                      for i in idx])\n",
    "        y = stock.loc[idx, 'Adj Close']\n",
    "        coeff = np.linalg.lstsq(X,y)[0]\n",
    "        return coeff\n",
    "    def create_X(self, w, year):\n",
    "        stock = self.stock\n",
    "        idx = stock[stock['Year'] == year].index\n",
    "        X = np.array([np.insert(stock.loc[i-w:i-1,'Adj Close'].values,0,1) \n",
    "                      for i in idx])\n",
    "        return X\n",
    "    def create_coeff(self, w, train_year):\n",
    "        stock = self.stock\n",
    "        idx = stock[stock['Year'] == train_year].index\n",
    "        X = self.create_X(w,train_year)\n",
    "        y = self.stock.loc[idx, 'Adj Close']\n",
    "        coeff = np.linalg.lstsq(X,y)[0]\n",
    "        return coeff\n",
    "    def predict_positions(self, w, train_year, predict_year):\n",
    "        X = self.create_X(w,predict_year)\n",
    "        predictions =  X @ self.create_coeff(w,predict_year)\n",
    "        positions = predictions > X[:,-1]\n",
    "        return (predictions, positions)\n",
    "    def trades(self, positions, trading_year):\n",
    "        trade_log = {1:[], 0:[]}\n",
    "        idx = self.stock[self.stock['Year']==trading_year].index\n",
    "        prices = self.stock.loc[idx[0]-1:idx[-1],'Adj Close'].values\n",
    "        current_position = position(prices[0], long_short = positions[0])\n",
    "        for p, price in zip(positions[1:], prices[1:]):\n",
    "            current_position.update(price)\n",
    "            if current_position.long_short != p:\n",
    "                trade_log[current_position.long_short].append(\n",
    "                                    current_position.info[1:])\n",
    "                current_position = position(price, long_short = p)\n",
    "        return trade_log\n",
    "    def trade_analysis(self,trade_log = trades)\n",
    "    total_profit = sum([sum(trade_log[k][1]) for k in trade_log.keys()])\n",
    "        stats = {}\n",
    "        \n",
    "        stats = {1:{'num_trades':len(trade_log[1]),\n",
    "                    'total_profit':sum([trade_log[1][i][2] for i in \n",
    "                                        range(len(trade_log[1]))]),\n",
    "                    'avg_profit': sum([trade_log[1][i][2] for i in \n",
    "                                        range(len(trade_log[1]))])/\\\n",
    "                                    len(trade_log[1])},\n",
    "                 0:{'num_trades':len(trade_log[0]),\n",
    "                    'total_profit':sum([trade_log[0][i][2] for i in \n",
    "                                        range(len(trade_log[1]))]),\n",
    "                    'avg_profit': sum([trade_log[0][i][2] for i in \n",
    "                                        range(len(trade_log[1]))])/\\\n",
    "                                    len(trade_log[0])},\n",
    "                'aggregate':{'num_trades':len(trade_log[0])+\n",
    "                             len(trade_log[1]),\n",
    "                    'total_profit':sum([trade_log[0][i][2] for i in \n",
    "                                        range(len(trade_log[1]))])+\n",
    "                             sum([trade_log[1][i][2] for i in \n",
    "                                        range(len(trade_log[1]))])\n",
    "                             ,\n",
    "                    'avg_profit': (sum([trade_log[0][i][2] for i in \n",
    "                                        range(len(trade_log[1]))])+\n",
    "                             sum([trade_log[1][i][2] for i in \n",
    "                                        range(len(trade_log[1]))]\n",
    "                                  ))/\\\n",
    "                                    (len(trade_log[0])+len(trade_log[1]))}}\n",
    "        \n",
    "        return (trade_log, total_profit,stats)\n",
    "    def windows_stats(self):\n",
    "        windows = self.windows\n",
    "        year = self.training_year\n",
    "        windows_stats = {}\n",
    "        for w in windows:\n",
    "            predictions, positions = self.predict_positions(w,year,year)\n",
    "            log, profit,stats = self.trades(positions,year)\n",
    "            windows_stats[w] = (log, profit,stats)\n",
    "        # best_w = max(profitability, key=profitability.get)\n",
    "        return windows_stats\n",
    "\n",
    "    def __str__(self):\n",
    "        return f'profit: {self.total_profit}'"
   ]
  },
  {
   "cell_type": "code",
   "execution_count": null,
   "id": "4941e101-4c8c-4ec5-b90f-18a27231faf9",
   "metadata": {},
   "outputs": [],
   "source": [
    "gme_trading = trading_booth(gme)"
   ]
  },
  {
   "cell_type": "code",
   "execution_count": null,
   "id": "dcde89e9-5cfb-4409-b650-57ac071e0f37",
   "metadata": {
    "scrolled": true
   },
   "outputs": [],
   "source": [
    "gme_trading.windows_stats()"
   ]
  },
  {
   "cell_type": "code",
   "execution_count": null,
   "id": "52b0259d-f597-4559-a639-efad7b7b7dba",
   "metadata": {},
   "outputs": [],
   "source": [
    "gme_trading.create_coeff(5,2020)"
   ]
  },
  {
   "cell_type": "code",
   "execution_count": null,
   "id": "a84a0215-e34d-45ed-9e46-ee250d1b4165",
   "metadata": {},
   "outputs": [],
   "source": []
  },
  {
   "cell_type": "code",
   "execution_count": null,
   "id": "68f4cff2-9215-445e-a6fd-66b0c0866e27",
   "metadata": {},
   "outputs": [],
   "source": [
    "gme_trading.create_X(5,2020)"
   ]
  },
  {
   "cell_type": "code",
   "execution_count": null,
   "id": "dc82ad61-cfb1-4fb4-a9d7-70914b30f920",
   "metadata": {},
   "outputs": [],
   "source": [
    "stock = gme\n",
    "trading_year = 2020\n",
    "window = 5"
   ]
  },
  {
   "cell_type": "code",
   "execution_count": null,
   "id": "f8c11d2a-2cf7-43eb-974f-16e23af964e0",
   "metadata": {},
   "outputs": [],
   "source": [
    "gme[gme.Year == 2020]"
   ]
  },
  {
   "cell_type": "code",
   "execution_count": null,
   "id": "7dcbd30c-6b8e-4852-9247-e982c5ae1e4c",
   "metadata": {},
   "outputs": [],
   "source": [
    "stock.loc[i-window:i,'Adj Close'].values"
   ]
  },
  {
   "cell_type": "code",
   "execution_count": null,
   "id": "c192c075-38ca-43fb-b8f9-71e510645ebd",
   "metadata": {},
   "outputs": [],
   "source": [
    "np.array([np.insert(stock.loc[i-window:i-1,'Adj Close'].values,0,1) for i in \\\n",
    "                         stock[stock['Year'] == trading_year].index])"
   ]
  },
  {
   "cell_type": "code",
   "execution_count": null,
   "id": "86158be6-9d33-4a03-b5f9-fae81b912040",
   "metadata": {},
   "outputs": [],
   "source": [
    "np.array([np.insert(stock.loc[i-window:i,'Adj Close'].values,0,1) for i in \\\n",
    "                         stock[stock['Year'] == trading_year].index], dtype = 'float')[0]"
   ]
  },
  {
   "cell_type": "markdown",
   "id": "610226db-5923-434a-8454-0c6ab2fe7996",
   "metadata": {},
   "source": [
    "Class trading_booth scrap"
   ]
  },
  {
   "cell_type": "code",
   "execution_count": null,
   "id": "6938291c-d458-4841-9a8e-3056c596d13c",
   "metadata": {},
   "outputs": [],
   "source": [
    " self.evaluation_year = evaluation_year;\n",
    "        # collect relevent indices\n",
    "        self.train_indices = stock[stock['Year'] == training_year].index\n",
    "        self.eval_indices = stock[stock['Year'] == eval_year].index\n",
    "        # collect true closing prices\n",
    "        self.train_true_close = stock['Adj Close'][train_indices]\n",
    "        self.eval_true_close = stock['Adj Close'][eval_indices]\n",
    "        stock['begin_prices'] = [stock['Open'].values[0]]+\\\n",
    "                                list(stock['Adj Close'].values[:-1])\n",
    "        self.A = np.fromiter([np.insert([stock.loc[i-window:i,'Adj Close'].values,0,1) \n",
    "                              for i in \n",
    "                         self.train_indices])\n",
    "        self.b = stock.query(f'Year == {training_year}')\n",
    "        \n",
    "        self.coeff = np.linalg.lstsq(self.A,self.b)[0]\n",
    "        self.train_pred_close = self.A * self.coeff\n",
    "        self.train_positions = np.where(self.train_preds > \n",
    "                                stock['Adj Close'][self.train_indices-1],\n",
    "                                        ,1,0)\n",
    "        current_position = position(stock['begin_prices'][self.train_indices[0]],\n",
    "                      self.train_positions[0],size=100)\n",
    "        for i,p in enumerate(self.train_positions[1:]):\n",
    "            if self.train_positions[i] == p:\n",
    "        self.total_profit = 0; \n",
    "        self.log = {'long_trades':[], 'short_trades':[]}; \n",
    "        self.cumulative_return = 1"
   ]
  },
  {
   "cell_type": "code",
   "execution_count": null,
   "id": "d73db182-5686-48de-94d4-abd5f6b118c1",
   "metadata": {},
   "outputs": [],
   "source": [
    "np.linalg.lstsq()"
   ]
  },
  {
   "cell_type": "code",
   "execution_count": null,
   "id": "ca79e859-7942-4110-8617-3bcd38bc2606",
   "metadata": {},
   "outputs": [],
   "source": [
    "gme.Year[0:5]"
   ]
  },
  {
   "cell_type": "code",
   "execution_count": null,
   "id": "eec80240-cadc-4937-82f2-bb4d1a72673d",
   "metadata": {},
   "outputs": [],
   "source": [
    "gme_trading_booth = trading_booth(gme, window=5,training_year=2020,evaluation_year=2021)"
   ]
  },
  {
   "cell_type": "code",
   "execution_count": null,
   "id": "ad270e5c-6caf-4947-8645-0973c4c6c215",
   "metadata": {},
   "outputs": [],
   "source": [
    "gme_trading_booth.stock"
   ]
  },
  {
   "cell_type": "code",
   "execution_count": null,
   "id": "b393ba30-9db6-415f-9939-41baa54b6d37",
   "metadata": {},
   "outputs": [],
   "source": [
    "gme_trading_booth.X_matrix"
   ]
  },
  {
   "cell_type": "code",
   "execution_count": null,
   "id": "b4767158-1ace-4e4e-a991-e1f4b91180c2",
   "metadata": {},
   "outputs": [],
   "source": [
    "gme"
   ]
  },
  {
   "cell_type": "code",
   "execution_count": null,
   "id": "82230e83-1c4e-4354-8049-f4d355824f84",
   "metadata": {},
   "outputs": [],
   "source": [
    "gme_trading_booth.stock"
   ]
  },
  {
   "cell_type": "code",
   "execution_count": null,
   "id": "a2123fb8-e2b5-4045-bae1-31c64cc5aa9d",
   "metadata": {},
   "outputs": [],
   "source": [
    "dir(gme_trading_booth)"
   ]
  },
  {
   "cell_type": "code",
   "execution_count": null,
   "id": "71d9b18e-d9db-4a08-bec1-d978ea9eb786",
   "metadata": {},
   "outputs": [],
   "source": [
    "gme_trading_booth.stock"
   ]
  },
  {
   "cell_type": "code",
   "execution_count": null,
   "id": "f69e256c-29f9-48d9-8bcc-d9d4fb32b787",
   "metadata": {},
   "outputs": [],
   "source": [
    "cumulative_return = 0\n",
    "standing_trade = predicted_labels[0]\n",
    "standing_trade\n",
    "for p in predicted_labels[1:]:\n",
    "    if p == "
   ]
  },
  {
   "cell_type": "code",
   "execution_count": null,
   "id": "b57fbb83-6231-44ec-a30d-b823ccaf026e",
   "metadata": {},
   "outputs": [],
   "source": [
    "predictions = results[-1]['predictions']"
   ]
  },
  {
   "cell_type": "code",
   "execution_count": null,
   "id": "8799724f-23c9-4d5e-a17e-548ec3784afd",
   "metadata": {},
   "outputs": [],
   "source": [
    "for p in predictions:"
   ]
  },
  {
   "cell_type": "code",
   "execution_count": null,
   "id": "195b8bff-d534-4733-9e31-3f3f2d25dd42",
   "metadata": {},
   "outputs": [],
   "source": [
    "gme"
   ]
  },
  {
   "cell_type": "code",
   "execution_count": null,
   "id": "5d3430ff-f022-477c-936e-8bd177b08528",
   "metadata": {},
   "outputs": [],
   "source": [
    "gme.query('Year == 2020')"
   ]
  },
  {
   "cell_type": "code",
   "execution_count": null,
   "id": "afff558b-f9c1-4a85-a00d-d9103dfa4262",
   "metadata": {},
   "outputs": [],
   "source": [
    "predictions"
   ]
  },
  {
   "cell_type": "markdown",
   "id": "baa7ea58-c374-4b48-90cf-4ec0ac7a6e10",
   "metadata": {},
   "source": [
    "Long trade implementation:\n",
    "Short trade implementation:"
   ]
  },
  {
   "cell_type": "code",
   "execution_count": null,
   "id": "07f79e38-07cd-42a5-b6dd-482356bff80d",
   "metadata": {},
   "outputs": [],
   "source": [
    "begin_prices = [gme.loc[0,'Open']]\n",
    "begin_prices = begin_prices+list(gme.loc[:gme.index[-2],'Adj Close'].values)"
   ]
  },
  {
   "cell_type": "code",
   "execution_count": null,
   "id": "8de741d9-38eb-477c-a499-d094eb69ccf8",
   "metadata": {},
   "outputs": [],
   "source": [
    "len(begin_prices)"
   ]
  },
  {
   "cell_type": "code",
   "execution_count": null,
   "id": "f81c6c42-3d31-4769-bf44-7b8805db1c5e",
   "metadata": {},
   "outputs": [],
   "source": [
    "gme['Begin'] = begin_prices"
   ]
  },
  {
   "cell_type": "code",
   "execution_count": null,
   "id": "bc3fd0a9-bc41-4875-942f-1c5adfba966f",
   "metadata": {},
   "outputs": [],
   "source": [
    "gme['Begin']"
   ]
  },
  {
   "cell_type": "code",
   "execution_count": null,
   "id": "4ba40092-2679-4377-93eb-03cf4fc0b444",
   "metadata": {},
   "outputs": [],
   "source": [
    "gme['ReturnCalc'] = gme['Adj Close']/gme['Begin']"
   ]
  },
  {
   "cell_type": "code",
   "execution_count": null,
   "id": "21ba4f22-941f-4448-bca7-78870ad6e811",
   "metadata": {},
   "outputs": [],
   "source": []
  }
 ],
 "metadata": {
  "kernelspec": {
   "display_name": "Python 3 (ipykernel)",
   "language": "python",
   "name": "python3"
  },
  "language_info": {
   "codemirror_mode": {
    "name": "ipython",
    "version": 3
   },
   "file_extension": ".py",
   "mimetype": "text/x-python",
   "name": "python",
   "nbconvert_exporter": "python",
   "pygments_lexer": "ipython3",
   "version": "3.9.18"
  }
 },
 "nbformat": 4,
 "nbformat_minor": 5
}
