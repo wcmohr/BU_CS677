import pandas as pd
import numpy as np
from function_wrappers import *
from functions import *
from sklearn.preprocessing import LabelEncoder
from sklearn.metrics import accuracy_score
import seaborn as sns
import matplotlib.pyplot as plt
from sklearn.metrics import confusion_matrix
from sklearn.metrics import ConfusionMatrixDisplay
from functions import hyperparameter_grid

















gme = pd.read_csv('./gme.csv')
gme.drop(['Date', 'Month', 'Day','Week_Number','High', 'Low', 'Close', 'Volume', 
         'Short_MA', 'Long_MA'], inplace=True, axis=1)


gme[gme['Year']==2020].index[0]


X_transform(gme,y=2020,w=5,d=1,measure='Adj Close')


from functions import polynomial_accuracy


results = polynomial_accuracy(gme,y=2020,w=5,d=1,test=0,
                                  measure='Adj Close',weekly=False)
predicted_labels = results[-1]['predicted_labels']


np.unique(results[-1]['true_labels'],return_counts=True)


np.unique(results[-1]['predicted_labels'], return_counts=True)





predicted_labels





class position():
    def __init__(self, entry_price, position=1, position_size=100):
        self.position = position; self.position_size = position_size; self.entry_price = entry_price
        self.current_price = current_price; self.shares = position_size/entry_price; self.cumulative_return = 1
        self.profit = 0; self.log =[]
    def __str__(self):
        return f'position:{position}, entry price:{entry_price}, \
        current price:{current_price}'
    def update(current_price):
        self.current_price = current_price
        self.cumulative_return = (current_price - self.entry_price)*(-1)**(-1+2*position)/self.entry_price
        self.profit = self.position_size*(self.cumulative_return)


class trading_house():
    """for caclulating returns with a given window for prices and labels"""
    def __init__(self, prices = [], array_labels = [], window = 5, trading_period = 2020):
        self.prices = prices; self.array_labels = array_labels; self.window = window; self.trading_period = trading_period;
        self.total_profit = 0; self.log = {'long_trades':[], 'short_trades':[]}; self.cumulative_return = 1
    def __str__(self):
        return f'profit: {self.total_profit}'
    def 


cumulative_return = 0
standing_trade = predicted_labels[0]
standing_trade
for p in predicted_labels[1:]:
    if p == 


predictions = results[-1]['predictions']


for p in predictions:


gme.query('Year == 2020')


predictions





begin_prices = [gme.loc[0,'Open']]
begin_prices = begin_prices+list(gme.loc[:gme.index[-2],'Adj Close'].values)


len(begin_prices)


gme['Begin'] = begin_prices


gme['Begin']


gme['ReturnCalc'] = gme['Adj Close']/gme['Begin']



