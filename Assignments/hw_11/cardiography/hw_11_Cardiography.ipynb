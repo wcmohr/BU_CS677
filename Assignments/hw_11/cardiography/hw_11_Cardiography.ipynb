{
 "cells": [
  {
   "cell_type": "code",
   "execution_count": 1,
   "id": "494fdc18-94d5-4e51-b845-7d1a361217ee",
   "metadata": {},
   "outputs": [],
   "source": [
    "import pandas as pd\n",
    "import xlrd\n",
    "from functions import *\n",
    "from sklearn.naive_bayes import GaussianNB\n",
    "from sklearn.model_selection import train_test_split\n",
    "from sklearn.metrics import accuracy_score, confusion_matrix\n",
    "from sklearn.linear_model import LogisticRegression\n",
    "from sklearn.tree import DecisionTreeClassifier\n",
    "from sklearn.ensemble import RandomForestClassifier\n",
    "from sklearn.svm import SVC\n",
    "from sklearn.model_selection import GridSearchCV\n",
    "import seaborn as sns\n",
    "from sklearn.preprocessing import StandardScaler"
   ]
  },
  {
   "cell_type": "code",
   "execution_count": 2,
   "id": "4f194834-231b-4367-843f-6df961243f00",
   "metadata": {},
   "outputs": [],
   "source": [
    "book = xlrd.open_workbook('CTG.xls')"
   ]
  },
  {
   "cell_type": "code",
   "execution_count": 3,
   "id": "d02651e4-2bc4-46b0-87a2-290f9f292ac7",
   "metadata": {},
   "outputs": [
    {
     "data": {
      "text/plain": [
       "['Description', 'Data', 'Raw Data']"
      ]
     },
     "execution_count": 3,
     "metadata": {},
     "output_type": "execute_result"
    }
   ],
   "source": [
    "book.sheet_names()"
   ]
  },
  {
   "cell_type": "code",
   "execution_count": 4,
   "id": "36af8ff0-4d45-4bc5-87f6-436298926a60",
   "metadata": {},
   "outputs": [],
   "source": [
    "data_sh = book.sheet_by_index(1)\n",
    "raw_data_sh = book.sheet_by_index(2)"
   ]
  },
  {
   "cell_type": "code",
   "execution_count": 5,
   "id": "23112d12-9f1a-4ac2-b615-6314e2a4a173",
   "metadata": {
    "scrolled": true
   },
   "outputs": [],
   "source": [
    "data = pd.read_excel('./CTG.xls',sheet_name = 'Raw Data').dropna(axis=0)"
   ]
  },
  {
   "cell_type": "code",
   "execution_count": 6,
   "id": "33a88738-336f-4932-a600-75486eebe9c2",
   "metadata": {},
   "outputs": [],
   "source": [
    "data = data.loc[:,['ASTV', 'MLTV', 'Max', 'Median','NSP']]"
   ]
  },
  {
   "cell_type": "code",
   "execution_count": 7,
   "id": "57a7e62a-42b8-49ea-9e67-995819786a66",
   "metadata": {},
   "outputs": [],
   "source": [
    "data['Class'] = [1 if c == 1 else 0 for c in data.NSP]"
   ]
  },
  {
   "cell_type": "code",
   "execution_count": 8,
   "id": "f44c4258-2a07-4d4e-a7a4-bc69417da91a",
   "metadata": {},
   "outputs": [],
   "source": [
    "data.drop(['NSP'], axis=1\n",
    "         , inplace = True)"
   ]
  },
  {
   "cell_type": "code",
   "execution_count": 9,
   "id": "7a7bfd46-15fe-4d0f-8424-d68e78ff0fcf",
   "metadata": {},
   "outputs": [],
   "source": [
    "gnb = GaussianNB()\n",
    "logreg = LogisticRegression()\n",
    "dt = DecisionTreeClassifier()\n",
    "no_hyper_models = [gnb,logreg,dt]\n",
    "rf = RandomForestClassifier()\n",
    "svc = SVC()"
   ]
  },
  {
   "cell_type": "code",
   "execution_count": 10,
   "id": "38f1b522-e7e5-4829-86ed-87680ba10680",
   "metadata": {},
   "outputs": [],
   "source": [
    "X_train, X_test = train_test_split(data, test_size = .5, random_state = 1)\n",
    "y_train = X_train.pop('Class')\n",
    "y_test = X_test.pop('Class')\n",
    "ss = StandardScaler()\n",
    "X_train = ss.fit_transform(X_train)\n",
    "X_test = ss.transform(X_test)"
   ]
  },
  {
   "cell_type": "markdown",
   "id": "05675fb2-60ba-439f-8ee5-c615613f34d8",
   "metadata": {},
   "source": [
    "Schematic:\n",
    "\n",
    "1. Take list of models\n",
    "2. For each:\n",
    "    * generate predictions\n",
    "    * compile & add statistics to dataframe"
   ]
  },
  {
   "cell_type": "markdown",
   "id": "b41b3e06-1a08-48b3-93de-e8978ba4cfe7",
   "metadata": {},
   "source": [
    "RandomForest"
   ]
  },
  {
   "cell_type": "code",
   "execution_count": 11,
   "id": "d26515a3-5d46-420f-9986-276e81095737",
   "metadata": {},
   "outputs": [],
   "source": [
    "results = pd.DataFrame(columns = ['TP','FP','TN','FN','accuracy','TPR',\n",
    "                              'TNR'],index = [])\n",
    "for clf in no_hyper_models:\n",
    "    clf.fit(X_train,y_train)\n",
    "    preds = clf.predict(X_test)\n",
    "    compile_results(results,clf,preds,true = y_test.values)"
   ]
  },
  {
   "cell_type": "code",
   "execution_count": 12,
   "id": "4addc126-5d3f-415f-819d-f5a2dc62bfdc",
   "metadata": {},
   "outputs": [
    {
     "data": {
      "text/html": [
       "<div>\n",
       "<style scoped>\n",
       "    .dataframe tbody tr th:only-of-type {\n",
       "        vertical-align: middle;\n",
       "    }\n",
       "\n",
       "    .dataframe tbody tr th {\n",
       "        vertical-align: top;\n",
       "    }\n",
       "\n",
       "    .dataframe thead th {\n",
       "        text-align: right;\n",
       "    }\n",
       "</style>\n",
       "<table border=\"1\" class=\"dataframe\">\n",
       "  <thead>\n",
       "    <tr style=\"text-align: right;\">\n",
       "      <th></th>\n",
       "      <th>TP</th>\n",
       "      <th>FP</th>\n",
       "      <th>TN</th>\n",
       "      <th>FN</th>\n",
       "      <th>accuracy</th>\n",
       "      <th>TPR</th>\n",
       "      <th>TNR</th>\n",
       "    </tr>\n",
       "  </thead>\n",
       "  <tbody>\n",
       "    <tr>\n",
       "      <th>GaussianNB</th>\n",
       "      <td>737.0</td>\n",
       "      <td>105.0</td>\n",
       "      <td>139.0</td>\n",
       "      <td>82.0</td>\n",
       "      <td>0.82</td>\n",
       "      <td>0.90</td>\n",
       "      <td>0.57</td>\n",
       "    </tr>\n",
       "    <tr>\n",
       "      <th>LogisticRegression</th>\n",
       "      <td>773.0</td>\n",
       "      <td>147.0</td>\n",
       "      <td>97.0</td>\n",
       "      <td>46.0</td>\n",
       "      <td>0.82</td>\n",
       "      <td>0.94</td>\n",
       "      <td>0.40</td>\n",
       "    </tr>\n",
       "    <tr>\n",
       "      <th>DecisionTreeClassifier</th>\n",
       "      <td>759.0</td>\n",
       "      <td>67.0</td>\n",
       "      <td>177.0</td>\n",
       "      <td>60.0</td>\n",
       "      <td>0.88</td>\n",
       "      <td>0.93</td>\n",
       "      <td>0.73</td>\n",
       "    </tr>\n",
       "  </tbody>\n",
       "</table>\n",
       "</div>"
      ],
      "text/plain": [
       "                           TP     FP     TN    FN  accuracy   TPR   TNR\n",
       "GaussianNB              737.0  105.0  139.0  82.0      0.82  0.90  0.57\n",
       "LogisticRegression      773.0  147.0   97.0  46.0      0.82  0.94  0.40\n",
       "DecisionTreeClassifier  759.0   67.0  177.0  60.0      0.88  0.93  0.73"
      ]
     },
     "execution_count": 12,
     "metadata": {},
     "output_type": "execute_result"
    }
   ],
   "source": [
    "results"
   ]
  },
  {
   "cell_type": "code",
   "execution_count": 13,
   "id": "0b850296-9121-487c-a512-baa382ad8d75",
   "metadata": {},
   "outputs": [],
   "source": [
    "test_results = []\n",
    "for d in range(1,6):\n",
    "    for n in range(1,11):\n",
    "        rf = RandomForestClassifier(criterion = 'entropy', \n",
    "                                    n_estimators=n,\n",
    "                                    max_depth=d,random_state=1)\n",
    "        rf.fit(X_train,y_train)\n",
    "        test_results.append((d,n,accuracy_score(y_test,rf.predict(X_test))))\n",
    "        # rf.score(train_X,train_y)\n",
    "        "
   ]
  },
  {
   "cell_type": "code",
   "execution_count": 14,
   "id": "4378e9ef-86d1-42f4-a2f2-54aba71b94bf",
   "metadata": {
    "scrolled": true
   },
   "outputs": [],
   "source": [
    "results_df = pd.DataFrame(test_results, columns = ['d','n','accuracy'])\n",
    "results_df['error'] = 1 - results_df['accuracy']"
   ]
  },
  {
   "cell_type": "code",
   "execution_count": 15,
   "id": "395cf472-a0b4-465b-b350-bfeb854dad84",
   "metadata": {},
   "outputs": [
    {
     "data": {
      "text/html": [
       "<div>\n",
       "<style scoped>\n",
       "    .dataframe tbody tr th:only-of-type {\n",
       "        vertical-align: middle;\n",
       "    }\n",
       "\n",
       "    .dataframe tbody tr th {\n",
       "        vertical-align: top;\n",
       "    }\n",
       "\n",
       "    .dataframe thead th {\n",
       "        text-align: right;\n",
       "    }\n",
       "</style>\n",
       "<table border=\"1\" class=\"dataframe\">\n",
       "  <thead>\n",
       "    <tr style=\"text-align: right;\">\n",
       "      <th></th>\n",
       "      <th>d</th>\n",
       "      <th>n</th>\n",
       "      <th>accuracy</th>\n",
       "      <th>error</th>\n",
       "    </tr>\n",
       "  </thead>\n",
       "  <tbody>\n",
       "    <tr>\n",
       "      <th>48</th>\n",
       "      <td>5</td>\n",
       "      <td>9</td>\n",
       "      <td>0.901223</td>\n",
       "      <td>0.098777</td>\n",
       "    </tr>\n",
       "  </tbody>\n",
       "</table>\n",
       "</div>"
      ],
      "text/plain": [
       "    d  n  accuracy     error\n",
       "48  5  9  0.901223  0.098777"
      ]
     },
     "execution_count": 15,
     "metadata": {},
     "output_type": "execute_result"
    }
   ],
   "source": [
    "results_df[results_df.accuracy == \n",
    "results_df.loc[results_df['accuracy'].idxmax(),'accuracy']]"
   ]
  },
  {
   "cell_type": "code",
   "execution_count": 16,
   "id": "3255f6ae-2389-4144-934e-4cf713e0a64f",
   "metadata": {},
   "outputs": [],
   "source": [
    "rf = RandomForestClassifier(criterion = 'entropy', \n",
    "                                    n_estimators=9,\n",
    "                                    max_depth=5,random_state=1)"
   ]
  },
  {
   "cell_type": "code",
   "execution_count": 17,
   "id": "e5149c45-1ec7-418c-9959-50e1d36fe304",
   "metadata": {},
   "outputs": [
    {
     "data": {
      "text/html": [
       "<div>\n",
       "<style scoped>\n",
       "    .dataframe tbody tr th:only-of-type {\n",
       "        vertical-align: middle;\n",
       "    }\n",
       "\n",
       "    .dataframe tbody tr th {\n",
       "        vertical-align: top;\n",
       "    }\n",
       "\n",
       "    .dataframe thead th {\n",
       "        text-align: right;\n",
       "    }\n",
       "</style>\n",
       "<table border=\"1\" class=\"dataframe\">\n",
       "  <thead>\n",
       "    <tr style=\"text-align: right;\">\n",
       "      <th></th>\n",
       "      <th>TP</th>\n",
       "      <th>FP</th>\n",
       "      <th>TN</th>\n",
       "      <th>FN</th>\n",
       "      <th>accuracy</th>\n",
       "      <th>TPR</th>\n",
       "      <th>TNR</th>\n",
       "    </tr>\n",
       "  </thead>\n",
       "  <tbody>\n",
       "    <tr>\n",
       "      <th>GaussianNB</th>\n",
       "      <td>737</td>\n",
       "      <td>105</td>\n",
       "      <td>139</td>\n",
       "      <td>82</td>\n",
       "      <td>0.82</td>\n",
       "      <td>0.90</td>\n",
       "      <td>0.57</td>\n",
       "    </tr>\n",
       "    <tr>\n",
       "      <th>LogisticRegression</th>\n",
       "      <td>773</td>\n",
       "      <td>147</td>\n",
       "      <td>97</td>\n",
       "      <td>46</td>\n",
       "      <td>0.82</td>\n",
       "      <td>0.94</td>\n",
       "      <td>0.40</td>\n",
       "    </tr>\n",
       "    <tr>\n",
       "      <th>DecisionTreeClassifier</th>\n",
       "      <td>759</td>\n",
       "      <td>67</td>\n",
       "      <td>177</td>\n",
       "      <td>60</td>\n",
       "      <td>0.88</td>\n",
       "      <td>0.93</td>\n",
       "      <td>0.73</td>\n",
       "    </tr>\n",
       "    <tr>\n",
       "      <th>RandomForestClassifier</th>\n",
       "      <td>797</td>\n",
       "      <td>83</td>\n",
       "      <td>161</td>\n",
       "      <td>22</td>\n",
       "      <td>0.90</td>\n",
       "      <td>0.97</td>\n",
       "      <td>0.66</td>\n",
       "    </tr>\n",
       "  </tbody>\n",
       "</table>\n",
       "</div>"
      ],
      "text/plain": [
       "                         TP   FP   TN  FN  accuracy   TPR   TNR\n",
       "GaussianNB              737  105  139  82      0.82  0.90  0.57\n",
       "LogisticRegression      773  147   97  46      0.82  0.94  0.40\n",
       "DecisionTreeClassifier  759   67  177  60      0.88  0.93  0.73\n",
       "RandomForestClassifier  797   83  161  22      0.90  0.97  0.66"
      ]
     },
     "execution_count": 17,
     "metadata": {},
     "output_type": "execute_result"
    }
   ],
   "source": [
    "rf.fit(X_train,y_train)\n",
    "preds = rf.predict(X_test)\n",
    "results = compile_results(results,rf,preds,y_test)\n",
    "results"
   ]
  },
  {
   "cell_type": "code",
   "execution_count": 18,
   "id": "790e257f-995b-4513-ad51-0c2722bf07e8",
   "metadata": {},
   "outputs": [
    {
     "data": {
      "text/plain": [
       "[Text(0.5, 1.0, 'RF Error')]"
      ]
     },
     "execution_count": 18,
     "metadata": {},
     "output_type": "execute_result"
    },
    {
     "data": {
      "image/png": "[encoded data removed]",
      "text/plain": [
       "<Figure size 640x480 with 1 Axes>"
      ]
     },
     "metadata": {},
     "output_type": "display_data"
    }
   ],
   "source": [
    "sns.lineplot(results_df, x = 'n', y = 'error', hue='d').set(title = f'RF Error')"
   ]
  },
  {
   "cell_type": "code",
   "execution_count": 19,
   "id": "b6c418ca-8b55-4160-806f-12ba18ef9285",
   "metadata": {},
   "outputs": [
    {
     "data": {
      "text/html": [
       "<div>\n",
       "<style scoped>\n",
       "    .dataframe tbody tr th:only-of-type {\n",
       "        vertical-align: middle;\n",
       "    }\n",
       "\n",
       "    .dataframe tbody tr th {\n",
       "        vertical-align: top;\n",
       "    }\n",
       "\n",
       "    .dataframe thead th {\n",
       "        text-align: right;\n",
       "    }\n",
       "</style>\n",
       "<table border=\"1\" class=\"dataframe\">\n",
       "  <thead>\n",
       "    <tr style=\"text-align: right;\">\n",
       "      <th></th>\n",
       "      <th>TP</th>\n",
       "      <th>FP</th>\n",
       "      <th>TN</th>\n",
       "      <th>FN</th>\n",
       "      <th>accuracy</th>\n",
       "      <th>TPR</th>\n",
       "      <th>TNR</th>\n",
       "    </tr>\n",
       "  </thead>\n",
       "  <tbody>\n",
       "    <tr>\n",
       "      <th>GaussianNB</th>\n",
       "      <td>737</td>\n",
       "      <td>105</td>\n",
       "      <td>139</td>\n",
       "      <td>82</td>\n",
       "      <td>0.82</td>\n",
       "      <td>0.90</td>\n",
       "      <td>0.57</td>\n",
       "    </tr>\n",
       "    <tr>\n",
       "      <th>LogisticRegression</th>\n",
       "      <td>773</td>\n",
       "      <td>147</td>\n",
       "      <td>97</td>\n",
       "      <td>46</td>\n",
       "      <td>0.82</td>\n",
       "      <td>0.94</td>\n",
       "      <td>0.40</td>\n",
       "    </tr>\n",
       "    <tr>\n",
       "      <th>DecisionTreeClassifier</th>\n",
       "      <td>759</td>\n",
       "      <td>67</td>\n",
       "      <td>177</td>\n",
       "      <td>60</td>\n",
       "      <td>0.88</td>\n",
       "      <td>0.93</td>\n",
       "      <td>0.73</td>\n",
       "    </tr>\n",
       "    <tr>\n",
       "      <th>RandomForestClassifier</th>\n",
       "      <td>797</td>\n",
       "      <td>83</td>\n",
       "      <td>161</td>\n",
       "      <td>22</td>\n",
       "      <td>0.90</td>\n",
       "      <td>0.97</td>\n",
       "      <td>0.66</td>\n",
       "    </tr>\n",
       "    <tr>\n",
       "      <th>SVC_linear</th>\n",
       "      <td>774</td>\n",
       "      <td>147</td>\n",
       "      <td>97</td>\n",
       "      <td>45</td>\n",
       "      <td>0.82</td>\n",
       "      <td>0.95</td>\n",
       "      <td>0.40</td>\n",
       "    </tr>\n",
       "  </tbody>\n",
       "</table>\n",
       "</div>"
      ],
      "text/plain": [
       "                         TP   FP   TN  FN  accuracy   TPR   TNR\n",
       "GaussianNB              737  105  139  82      0.82  0.90  0.57\n",
       "LogisticRegression      773  147   97  46      0.82  0.94  0.40\n",
       "DecisionTreeClassifier  759   67  177  60      0.88  0.93  0.73\n",
       "RandomForestClassifier  797   83  161  22      0.90  0.97  0.66\n",
       "SVC_linear              774  147   97  45      0.82  0.95  0.40"
      ]
     },
     "execution_count": 19,
     "metadata": {},
     "output_type": "execute_result"
    }
   ],
   "source": [
    "clf = SVC(kernel = \"linear\", degree = 1)\n",
    "clf.fit(X_train,y_train)\n",
    "preds = clf.predict(X_test)\n",
    "compile_results(results,clf,preds,y_test, 'SVC_linear')"
   ]
  },
  {
   "cell_type": "code",
   "execution_count": 20,
   "id": "72a94443-5229-4d30-a23d-e7bb5ea3c231",
   "metadata": {},
   "outputs": [
    {
     "data": {
      "text/html": [
       "<div>\n",
       "<style scoped>\n",
       "    .dataframe tbody tr th:only-of-type {\n",
       "        vertical-align: middle;\n",
       "    }\n",
       "\n",
       "    .dataframe tbody tr th {\n",
       "        vertical-align: top;\n",
       "    }\n",
       "\n",
       "    .dataframe thead th {\n",
       "        text-align: right;\n",
       "    }\n",
       "</style>\n",
       "<table border=\"1\" class=\"dataframe\">\n",
       "  <thead>\n",
       "    <tr style=\"text-align: right;\">\n",
       "      <th></th>\n",
       "      <th>TP</th>\n",
       "      <th>FP</th>\n",
       "      <th>TN</th>\n",
       "      <th>FN</th>\n",
       "      <th>accuracy</th>\n",
       "      <th>TPR</th>\n",
       "      <th>TNR</th>\n",
       "    </tr>\n",
       "  </thead>\n",
       "  <tbody>\n",
       "    <tr>\n",
       "      <th>GaussianNB</th>\n",
       "      <td>737</td>\n",
       "      <td>105</td>\n",
       "      <td>139</td>\n",
       "      <td>82</td>\n",
       "      <td>0.82</td>\n",
       "      <td>0.90</td>\n",
       "      <td>0.57</td>\n",
       "    </tr>\n",
       "    <tr>\n",
       "      <th>LogisticRegression</th>\n",
       "      <td>773</td>\n",
       "      <td>147</td>\n",
       "      <td>97</td>\n",
       "      <td>46</td>\n",
       "      <td>0.82</td>\n",
       "      <td>0.94</td>\n",
       "      <td>0.40</td>\n",
       "    </tr>\n",
       "    <tr>\n",
       "      <th>DecisionTreeClassifier</th>\n",
       "      <td>759</td>\n",
       "      <td>67</td>\n",
       "      <td>177</td>\n",
       "      <td>60</td>\n",
       "      <td>0.88</td>\n",
       "      <td>0.93</td>\n",
       "      <td>0.73</td>\n",
       "    </tr>\n",
       "    <tr>\n",
       "      <th>RandomForestClassifier</th>\n",
       "      <td>797</td>\n",
       "      <td>83</td>\n",
       "      <td>161</td>\n",
       "      <td>22</td>\n",
       "      <td>0.90</td>\n",
       "      <td>0.97</td>\n",
       "      <td>0.66</td>\n",
       "    </tr>\n",
       "    <tr>\n",
       "      <th>SVC_linear</th>\n",
       "      <td>774</td>\n",
       "      <td>147</td>\n",
       "      <td>97</td>\n",
       "      <td>45</td>\n",
       "      <td>0.82</td>\n",
       "      <td>0.95</td>\n",
       "      <td>0.40</td>\n",
       "    </tr>\n",
       "    <tr>\n",
       "      <th>SVC_degree2</th>\n",
       "      <td>811</td>\n",
       "      <td>200</td>\n",
       "      <td>44</td>\n",
       "      <td>8</td>\n",
       "      <td>0.80</td>\n",
       "      <td>0.99</td>\n",
       "      <td>0.18</td>\n",
       "    </tr>\n",
       "  </tbody>\n",
       "</table>\n",
       "</div>"
      ],
      "text/plain": [
       "                         TP   FP   TN  FN  accuracy   TPR   TNR\n",
       "GaussianNB              737  105  139  82      0.82  0.90  0.57\n",
       "LogisticRegression      773  147   97  46      0.82  0.94  0.40\n",
       "DecisionTreeClassifier  759   67  177  60      0.88  0.93  0.73\n",
       "RandomForestClassifier  797   83  161  22      0.90  0.97  0.66\n",
       "SVC_linear              774  147   97  45      0.82  0.95  0.40\n",
       "SVC_degree2             811  200   44   8      0.80  0.99  0.18"
      ]
     },
     "execution_count": 20,
     "metadata": {},
     "output_type": "execute_result"
    }
   ],
   "source": [
    "clf = SVC(kernel = \"poly\", degree = 2)\n",
    "clf.fit(X_train,y_train)\n",
    "preds = clf.predict(X_test)\n",
    "compile_results(results,clf,preds,y_test, 'SVC_degree2')"
   ]
  },
  {
   "cell_type": "code",
   "execution_count": 21,
   "id": "5c6f167c-8e81-45ca-875c-c7a53a7913fd",
   "metadata": {},
   "outputs": [
    {
     "data": {
      "text/html": [
       "<div>\n",
       "<style scoped>\n",
       "    .dataframe tbody tr th:only-of-type {\n",
       "        vertical-align: middle;\n",
       "    }\n",
       "\n",
       "    .dataframe tbody tr th {\n",
       "        vertical-align: top;\n",
       "    }\n",
       "\n",
       "    .dataframe thead th {\n",
       "        text-align: right;\n",
       "    }\n",
       "</style>\n",
       "<table border=\"1\" class=\"dataframe\">\n",
       "  <thead>\n",
       "    <tr style=\"text-align: right;\">\n",
       "      <th></th>\n",
       "      <th>TP</th>\n",
       "      <th>FP</th>\n",
       "      <th>TN</th>\n",
       "      <th>FN</th>\n",
       "      <th>accuracy</th>\n",
       "      <th>TPR</th>\n",
       "      <th>TNR</th>\n",
       "    </tr>\n",
       "  </thead>\n",
       "  <tbody>\n",
       "    <tr>\n",
       "      <th>GaussianNB</th>\n",
       "      <td>737</td>\n",
       "      <td>105</td>\n",
       "      <td>139</td>\n",
       "      <td>82</td>\n",
       "      <td>0.82</td>\n",
       "      <td>0.90</td>\n",
       "      <td>0.57</td>\n",
       "    </tr>\n",
       "    <tr>\n",
       "      <th>LogisticRegression</th>\n",
       "      <td>773</td>\n",
       "      <td>147</td>\n",
       "      <td>97</td>\n",
       "      <td>46</td>\n",
       "      <td>0.82</td>\n",
       "      <td>0.94</td>\n",
       "      <td>0.40</td>\n",
       "    </tr>\n",
       "    <tr>\n",
       "      <th>DecisionTreeClassifier</th>\n",
       "      <td>759</td>\n",
       "      <td>67</td>\n",
       "      <td>177</td>\n",
       "      <td>60</td>\n",
       "      <td>0.88</td>\n",
       "      <td>0.93</td>\n",
       "      <td>0.73</td>\n",
       "    </tr>\n",
       "    <tr>\n",
       "      <th>RandomForestClassifier</th>\n",
       "      <td>797</td>\n",
       "      <td>83</td>\n",
       "      <td>161</td>\n",
       "      <td>22</td>\n",
       "      <td>0.90</td>\n",
       "      <td>0.97</td>\n",
       "      <td>0.66</td>\n",
       "    </tr>\n",
       "    <tr>\n",
       "      <th>SVC_linear</th>\n",
       "      <td>774</td>\n",
       "      <td>147</td>\n",
       "      <td>97</td>\n",
       "      <td>45</td>\n",
       "      <td>0.82</td>\n",
       "      <td>0.95</td>\n",
       "      <td>0.40</td>\n",
       "    </tr>\n",
       "    <tr>\n",
       "      <th>SVC_degree2</th>\n",
       "      <td>811</td>\n",
       "      <td>200</td>\n",
       "      <td>44</td>\n",
       "      <td>8</td>\n",
       "      <td>0.80</td>\n",
       "      <td>0.99</td>\n",
       "      <td>0.18</td>\n",
       "    </tr>\n",
       "    <tr>\n",
       "      <th>SVC_gaussian</th>\n",
       "      <td>790</td>\n",
       "      <td>83</td>\n",
       "      <td>161</td>\n",
       "      <td>29</td>\n",
       "      <td>0.89</td>\n",
       "      <td>0.96</td>\n",
       "      <td>0.66</td>\n",
       "    </tr>\n",
       "  </tbody>\n",
       "</table>\n",
       "</div>"
      ],
      "text/plain": [
       "                         TP   FP   TN  FN  accuracy   TPR   TNR\n",
       "GaussianNB              737  105  139  82      0.82  0.90  0.57\n",
       "LogisticRegression      773  147   97  46      0.82  0.94  0.40\n",
       "DecisionTreeClassifier  759   67  177  60      0.88  0.93  0.73\n",
       "RandomForestClassifier  797   83  161  22      0.90  0.97  0.66\n",
       "SVC_linear              774  147   97  45      0.82  0.95  0.40\n",
       "SVC_degree2             811  200   44   8      0.80  0.99  0.18\n",
       "SVC_gaussian            790   83  161  29      0.89  0.96  0.66"
      ]
     },
     "execution_count": 21,
     "metadata": {},
     "output_type": "execute_result"
    }
   ],
   "source": [
    "clf = SVC(kernel = \"rbf\")\n",
    "clf.fit(X_train,y_train)\n",
    "preds = clf.predict(X_test)\n",
    "compile_results(results,clf,preds,y_test, 'SVC_gaussian')"
   ]
  },
  {
   "cell_type": "markdown",
   "id": "aef3ca50-0050-48f1-be20-4d4217edde99",
   "metadata": {},
   "source": [
    "One way to find the importance of features would be to start from scratch.  try each feature individually, proceed with the best feature per test set or validation results.  Next, try adding each remaining feature to the model one at a time.  proceed with the feature that improves the test set the most.  then try removing each feature one at a time (one fewer features than full model) and see if any previously included features are now redundant and lead to overfitting.  proceed until no additional features lead to a statistically significant improvement."
   ]
  },
  {
   "cell_type": "code",
   "execution_count": null,
   "id": "e9a1902b-22d0-4ead-90cd-3f4f10615c53",
   "metadata": {},
   "outputs": [],
   "source": []
  }
 ],
 "metadata": {
  "kernelspec": {
   "display_name": "Python 3 (ipykernel)",
   "language": "python",
   "name": "python3"
  },
  "language_info": {
   "codemirror_mode": {
    "name": "ipython",
    "version": 3
   },
   "file_extension": ".py",
   "mimetype": "text/x-python",
   "name": "python",
   "nbconvert_exporter": "python",
   "pygments_lexer": "ipython3",
   "version": "3.9.18"
  }
 },
 "nbformat": 4,
 "nbformat_minor": 5
}
