{
 "cells": [
  {
   "cell_type": "code",
   "execution_count": 1,
   "id": "3a664c0c-bae0-4d9c-aa18-eeac50fff8a6",
   "metadata": {},
   "outputs": [],
   "source": [
    "import pandas as pd\n",
    "import numpy as np\n",
    "import matplotlib.pyplot as plt\n",
    "import seaborn as sns"
   ]
  },
  {
   "cell_type": "markdown",
   "id": "695dc3f0-f3ab-40f2-8ebf-bc59aa526c3e",
   "metadata": {
    "tags": []
   },
   "source": [
    "###### Q1 Import Data"
   ]
  },
  {
   "cell_type": "code",
   "execution_count": 2,
   "id": "c4e972d4-2d65-48db-9c1f-9f1b517d8411",
   "metadata": {
    "tags": []
   },
   "outputs": [
    {
     "data": {
      "text/html": [
       "<div>\n",
       "<style scoped>\n",
       "    .dataframe tbody tr th:only-of-type {\n",
       "        vertical-align: middle;\n",
       "    }\n",
       "\n",
       "    .dataframe tbody tr th {\n",
       "        vertical-align: top;\n",
       "    }\n",
       "\n",
       "    .dataframe thead th {\n",
       "        text-align: right;\n",
       "    }\n",
       "</style>\n",
       "<table border=\"1\" class=\"dataframe\">\n",
       "  <thead>\n",
       "    <tr style=\"text-align: right;\">\n",
       "      <th></th>\n",
       "      <th>DEPARTMENT</th>\n",
       "      <th>CATEGORY</th>\n",
       "      <th>SUBCATEGORY</th>\n",
       "      <th>SKU</th>\n",
       "      <th>PRODUCT_NAME</th>\n",
       "      <th>BRAND</th>\n",
       "      <th>GENDER</th>\n",
       "      <th>PRICE_RETAIL</th>\n",
       "      <th>PRICE_CURRENT</th>\n",
       "      <th>REVIEW_RATING</th>\n",
       "      <th>REVIEW_COUNT</th>\n",
       "      <th>PROMOTION</th>\n",
       "      <th>COLOR</th>\n",
       "      <th>RunDate</th>\n",
       "      <th>InsertUpdateTime</th>\n",
       "    </tr>\n",
       "  </thead>\n",
       "  <tbody>\n",
       "    <tr>\n",
       "      <th>0</th>\n",
       "      <td>Women</td>\n",
       "      <td>Clothing</td>\n",
       "      <td>Blazers, Suits &amp; Separates</td>\n",
       "      <td>4578258</td>\n",
       "      <td>Etiennette B Good Wool Suit Jacket</td>\n",
       "      <td>Theory</td>\n",
       "      <td>Women</td>\n",
       "      <td>345.0</td>\n",
       "      <td>345.0</td>\n",
       "      <td>4.1</td>\n",
       "      <td>85</td>\n",
       "      <td>NaN</td>\n",
       "      <td>498</td>\n",
       "      <td>2022-05-15 08:03:21</td>\n",
       "      <td>2022-05-15 08:19:11</td>\n",
       "    </tr>\n",
       "    <tr>\n",
       "      <th>1</th>\n",
       "      <td>Women</td>\n",
       "      <td>Clothing</td>\n",
       "      <td>Blazers, Suits &amp; Separates</td>\n",
       "      <td>4954210</td>\n",
       "      <td>Demitria 2 Stretch Good Wool Suit Pants</td>\n",
       "      <td>Theory</td>\n",
       "      <td>Women</td>\n",
       "      <td>215.0</td>\n",
       "      <td>215.0</td>\n",
       "      <td>4.2</td>\n",
       "      <td>71</td>\n",
       "      <td>NaN</td>\n",
       "      <td>020</td>\n",
       "      <td>2022-05-15 08:03:21</td>\n",
       "      <td>2022-05-15 08:19:11</td>\n",
       "    </tr>\n",
       "    <tr>\n",
       "      <th>2</th>\n",
       "      <td>Women</td>\n",
       "      <td>Clothing</td>\n",
       "      <td>Blazers, Suits &amp; Separates</td>\n",
       "      <td>5125568</td>\n",
       "      <td>Bermuda Shorts</td>\n",
       "      <td>Vince</td>\n",
       "      <td>Women</td>\n",
       "      <td>175.0</td>\n",
       "      <td>175.0</td>\n",
       "      <td>4.0</td>\n",
       "      <td>41</td>\n",
       "      <td>NaN</td>\n",
       "      <td>001</td>\n",
       "      <td>2022-05-15 08:03:21</td>\n",
       "      <td>2022-05-15 08:19:11</td>\n",
       "    </tr>\n",
       "  </tbody>\n",
       "</table>\n",
       "</div>"
      ],
      "text/plain": [
       "  DEPARTMENT  CATEGORY                 SUBCATEGORY      SKU  \\\n",
       "0      Women  Clothing  Blazers, Suits & Separates  4578258   \n",
       "1      Women  Clothing  Blazers, Suits & Separates  4954210   \n",
       "2      Women  Clothing  Blazers, Suits & Separates  5125568   \n",
       "\n",
       "                              PRODUCT_NAME   BRAND GENDER  PRICE_RETAIL  \\\n",
       "0       Etiennette B Good Wool Suit Jacket  Theory  Women         345.0   \n",
       "1  Demitria 2 Stretch Good Wool Suit Pants  Theory  Women         215.0   \n",
       "2                           Bermuda Shorts   Vince  Women         175.0   \n",
       "\n",
       "   PRICE_CURRENT  REVIEW_RATING  REVIEW_COUNT PROMOTION COLOR  \\\n",
       "0          345.0            4.1            85       NaN   498   \n",
       "1          215.0            4.2            71       NaN   020   \n",
       "2          175.0            4.0            41       NaN   001   \n",
       "\n",
       "               RunDate     InsertUpdateTime  \n",
       "0  2022-05-15 08:03:21  2022-05-15 08:19:11  \n",
       "1  2022-05-15 08:03:21  2022-05-15 08:19:11  \n",
       "2  2022-05-15 08:03:21  2022-05-15 08:19:11  "
      ]
     },
     "execution_count": 2,
     "metadata": {},
     "output_type": "execute_result"
    }
   ],
   "source": [
    "nordstroms = pd.read_csv('./nordstrom_product_data.csv', low_memory=False)\n",
    "nordstroms.head(3)"
   ]
  },
  {
   "cell_type": "markdown",
   "id": "223b2b22-f941-40f2-a167-8d2a3729c62b",
   "metadata": {
    "tags": []
   },
   "source": [
    "###### Q2 how many categories"
   ]
  },
  {
   "cell_type": "code",
   "execution_count": 3,
   "id": "a2aebf01-7ff9-4c7c-8adf-5b9fec8f7dac",
   "metadata": {
    "tags": []
   },
   "outputs": [
    {
     "data": {
      "text/plain": [
       "7"
      ]
     },
     "execution_count": 3,
     "metadata": {},
     "output_type": "execute_result"
    }
   ],
   "source": [
    "len(nordstroms.CATEGORY.unique())"
   ]
  },
  {
   "cell_type": "code",
   "execution_count": null,
   "id": "7e52b1e9-f8a1-4c4d-947a-ab31286893d1",
   "metadata": {},
   "outputs": [],
   "source": []
  },
  {
   "cell_type": "markdown",
   "id": "5d0e77b4-1ca7-464e-a8fd-bdf98b1ae61d",
   "metadata": {},
   "source": [
    "Q1 answer: 7 categories"
   ]
  },
  {
   "cell_type": "markdown",
   "id": "455852b2-26ed-446f-93e1-0f1f9b7b792c",
   "metadata": {},
   "source": [
    "###### Q3 Categories with most and fewest subcategories"
   ]
  },
  {
   "cell_type": "code",
   "execution_count": 4,
   "id": "e1b62648-23fa-48b9-9579-a45e05b3bbf1",
   "metadata": {
    "tags": []
   },
   "outputs": [
    {
     "name": "stdout",
     "output_type": "stream",
     "text": [
      "Category with least subcategories:\n",
      "    New Arrivals\n",
      "Category with most subcategories:\n",
      "    Clothing\n"
     ]
    }
   ],
   "source": [
    "nunique_dict = {}\n",
    "for c in nordstroms.CATEGORY.unique():\n",
    "    nunique_dict[c] = nordstroms.groupby('CATEGORY')['SUBCATEGORY'].apply('nunique')[f'{c}']\n",
    "\n",
    "print(f'Category with least subcategories:\\n    \\\n",
    "{min(nunique_dict, key=nunique_dict.get)}\\n\\\n",
    "Category with most subcategories:\\n    \\\n",
    "{max(nunique_dict, key=nunique_dict.get)}'\n",
    "     )"
   ]
  },
  {
   "cell_type": "markdown",
   "id": "f02fd53c-418a-4ca4-9fde-4883485ee411",
   "metadata": {},
   "source": [
    "Q4 Median and average price for products in each category"
   ]
  },
  {
   "cell_type": "markdown",
   "id": "b946ddb0-3c8e-4fc6-a6a5-358b7df58b07",
   "metadata": {},
   "source": [
    "I'll answer based on PRICE_RETAIL"
   ]
  },
  {
   "cell_type": "code",
   "execution_count": 5,
   "id": "35f493f4-c8d1-4009-9536-34903e43c8ef",
   "metadata": {
    "tags": []
   },
   "outputs": [
    {
     "data": {
      "text/html": [
       "<div>\n",
       "<style scoped>\n",
       "    .dataframe tbody tr th:only-of-type {\n",
       "        vertical-align: middle;\n",
       "    }\n",
       "\n",
       "    .dataframe tbody tr th {\n",
       "        vertical-align: top;\n",
       "    }\n",
       "\n",
       "    .dataframe thead th {\n",
       "        text-align: right;\n",
       "    }\n",
       "</style>\n",
       "<table border=\"1\" class=\"dataframe\">\n",
       "  <thead>\n",
       "    <tr style=\"text-align: right;\">\n",
       "      <th></th>\n",
       "      <th>median</th>\n",
       "      <th>mean</th>\n",
       "    </tr>\n",
       "    <tr>\n",
       "      <th>CATEGORY</th>\n",
       "      <th></th>\n",
       "      <th></th>\n",
       "    </tr>\n",
       "  </thead>\n",
       "  <tbody>\n",
       "    <tr>\n",
       "      <th>Accessories</th>\n",
       "      <td>198.0</td>\n",
       "      <td>661.102010</td>\n",
       "    </tr>\n",
       "    <tr>\n",
       "      <th>Clothing</th>\n",
       "      <td>89.0</td>\n",
       "      <td>215.042551</td>\n",
       "    </tr>\n",
       "    <tr>\n",
       "      <th>Handbags</th>\n",
       "      <td>698.0</td>\n",
       "      <td>1017.721767</td>\n",
       "    </tr>\n",
       "    <tr>\n",
       "      <th>Jewelry</th>\n",
       "      <td>325.0</td>\n",
       "      <td>1003.327448</td>\n",
       "    </tr>\n",
       "    <tr>\n",
       "      <th>Maternity</th>\n",
       "      <td>68.0</td>\n",
       "      <td>82.381425</td>\n",
       "    </tr>\n",
       "    <tr>\n",
       "      <th>New Arrivals</th>\n",
       "      <td>89.0</td>\n",
       "      <td>258.012151</td>\n",
       "    </tr>\n",
       "    <tr>\n",
       "      <th>Shoes</th>\n",
       "      <td>130.0</td>\n",
       "      <td>185.105339</td>\n",
       "    </tr>\n",
       "  </tbody>\n",
       "</table>\n",
       "</div>"
      ],
      "text/plain": [
       "              median         mean\n",
       "CATEGORY                         \n",
       "Accessories    198.0   661.102010\n",
       "Clothing        89.0   215.042551\n",
       "Handbags       698.0  1017.721767\n",
       "Jewelry        325.0  1003.327448\n",
       "Maternity       68.0    82.381425\n",
       "New Arrivals    89.0   258.012151\n",
       "Shoes          130.0   185.105339"
      ]
     },
     "execution_count": 5,
     "metadata": {},
     "output_type": "execute_result"
    }
   ],
   "source": [
    "nordstroms.groupby('CATEGORY')['PRICE_RETAIL'].agg(['median','mean'])"
   ]
  },
  {
   "cell_type": "markdown",
   "id": "eb8b4240-d0e1-492a-a506-19b2487ee757",
   "metadata": {},
   "source": [
    "###### 5. plot three histograms for the frequencies for real distribu- tion, equal-weight and Bernford (for each digit)"
   ]
  },
  {
   "cell_type": "markdown",
   "id": "1c4f0487-9923-49d2-8352-dee039f2b435",
   "metadata": {},
   "source": [
    "Bernford's law: $\\pi$d = log10(d+1)-log10(d)"
   ]
  },
  {
   "cell_type": "code",
   "execution_count": 6,
   "id": "b1018276-fa58-46f7-89c4-38acaf5aa382",
   "metadata": {
    "tags": []
   },
   "outputs": [],
   "source": [
    "prices = nordstroms.PRICE_RETAIL.values\n",
    "prices = prices.astype('U1').astype(int)\n",
    "nordstroms[\"LEADING_DIGIT\"] = prices"
   ]
  },
  {
   "cell_type": "code",
   "execution_count": 7,
   "id": "ed99ea8d-cc93-4fc2-92d9-277cb51c452c",
   "metadata": {
    "tags": []
   },
   "outputs": [
    {
     "data": {
      "text/plain": [
       "array([1, 2, 3, 4, 5, 6, 7, 8, 9])"
      ]
     },
     "execution_count": 7,
     "metadata": {},
     "output_type": "execute_result"
    }
   ],
   "source": [
    "num, count = np.unique(prices,return_counts=True)\n",
    "num"
   ]
  },
  {
   "cell_type": "code",
   "execution_count": 8,
   "id": "592c1f73-33fc-497a-9ac5-0e94dfe63421",
   "metadata": {
    "tags": []
   },
   "outputs": [],
   "source": [
    "freq = count/sum(count)"
   ]
  },
  {
   "cell_type": "code",
   "execution_count": 9,
   "id": "c4e011d0-55cd-41db-ac89-407d03f1ed28",
   "metadata": {
    "tags": []
   },
   "outputs": [],
   "source": [
    "num_freq = np.asarray((num,freq)).T"
   ]
  },
  {
   "cell_type": "code",
   "execution_count": 10,
   "id": "8c0b3c0d-7fd1-48ee-a802-082dc63e9b9e",
   "metadata": {
    "tags": []
   },
   "outputs": [],
   "source": [
    "bernford = (np.log(range(2,11))-np.log(range(1,10)))/np.log(10)"
   ]
  },
  {
   "cell_type": "code",
   "execution_count": 11,
   "id": "eb48d6a1-af8c-496b-9fe9-d82e73996a7f",
   "metadata": {
    "tags": []
   },
   "outputs": [],
   "source": [
    "equal_weights = np.ones(9)/9"
   ]
  },
  {
   "cell_type": "code",
   "execution_count": 12,
   "id": "402e4367-a155-4c2d-986b-f8e97003155f",
   "metadata": {
    "tags": []
   },
   "outputs": [
    {
     "name": "stderr",
     "output_type": "stream",
     "text": [
      "/var/folders/7q/63cgxnn50sl5zwxkchv_j2cr0000gn/T/ipykernel_26373/2348220586.py:3: MatplotlibDeprecationWarning: Auto-removal of overlapping axes is deprecated since 3.6 and will be removed two minor releases later; explicitly call ax.remove() as needed.\n",
      "  plt.subplot(221)\n"
     ]
    },
    {
     "data": {
      "text/plain": [
       "Text(0, 0.5, 'Probability')"
      ]
     },
     "execution_count": 12,
     "metadata": {},
     "output_type": "execute_result"
    },
    {
     "data": {
      "image/png": "[encoded data removed]",
      "text/plain": [
       "<Figure size 640x480 with 3 Axes>"
      ]
     },
     "metadata": {},
     "output_type": "display_data"
    }
   ],
   "source": [
    "plt.subplots(layout='constrained')\n",
    "\n",
    "plt.subplot(221)\n",
    "plt.bar(x = range(1,10), height = freq)\n",
    "plt.ylim(0,.4)\n",
    "plt.xticks(range(1,10));\n",
    "plt.title('Observed Frequency')\n",
    "plt.ylabel('Probability')\n",
    "\n",
    "\n",
    "plt.subplot(222)\n",
    "plt.bar(x = range(1,10), height = equal_weights)\n",
    "plt.ylim(0,.4)\n",
    "plt.xticks(range(1,10));\n",
    "plt.title('Equal Weights')\n",
    "\n",
    "plt.xlabel('Number')\n",
    "\n",
    "plt.subplot(223)\n",
    "plt.bar(x = range(1,10), height = bernford)\n",
    "plt.ylim(0,.4)\n",
    "plt.xticks(range(1,10));\n",
    "plt.title(\"Bernford's Law \")\n",
    "plt.xlabel('Number')\n",
    "plt.ylabel('Probability')"
   ]
  },
  {
   "cell_type": "markdown",
   "id": "26dc3e99-44db-45cd-ae6b-71a83aec5b7f",
   "metadata": {},
   "source": [
    "###### Q6. plot two histograms for the relative errors for Models 1 and 2 (for each digit)"
   ]
  },
  {
   "cell_type": "code",
   "execution_count": 13,
   "id": "e7929382-57ed-4165-83ce-5bb9d2de67f9",
   "metadata": {
    "tags": []
   },
   "outputs": [
    {
     "data": {
      "text/plain": [
       "Text(0, 0.5, 'Probability')"
      ]
     },
     "execution_count": 13,
     "metadata": {},
     "output_type": "execute_result"
    },
    {
     "data": {
      "image/png": "[encoded data removed]",
      "text/plain": [
       "<Figure size 640x480 with 2 Axes>"
      ]
     },
     "metadata": {},
     "output_type": "display_data"
    }
   ],
   "source": [
    "plt.subplot(121)\n",
    "plt.bar(x = range(1,10), height = np.abs(equal_weights-freq))\n",
    "plt.ylim(0,.25)\n",
    "plt.xticks(range(1,10));\n",
    "plt.title('Equal Weights Rel. Error')\n",
    "\n",
    "plt.xlabel('Number')\n",
    "\n",
    "plt.subplot(122)\n",
    "plt.bar(x = range(1,10), height = np.abs(freq-bernford))\n",
    "plt.ylim(0,.25)\n",
    "plt.xticks(range(1,10));\n",
    "plt.title(\"Bernford's Law Rel. Error\")\n",
    "plt.xlabel('Number')\n",
    "plt.ylabel('Probability')"
   ]
  },
  {
   "cell_type": "markdown",
   "id": "3c7a5b34-c5cd-4497-9783-132f5d139f84",
   "metadata": {},
   "source": [
    "###### Q7 compute RMSE (root mean squared error) for model 1 and 2. Which model is closer to the real distribution?"
   ]
  },
  {
   "cell_type": "code",
   "execution_count": 14,
   "id": "5e3c9b4e-4265-4e1a-9f33-ad705411c386",
   "metadata": {
    "tags": []
   },
   "outputs": [
    {
     "data": {
      "text/plain": [
       "(0.024, 0.081)"
      ]
     },
     "execution_count": 14,
     "metadata": {},
     "output_type": "execute_result"
    }
   ],
   "source": [
    "rmse_bern = np.sqrt(np.sum((freq - bernford)**2)/9)\n",
    "rmse_equ = np.sqrt(np.sum((freq - equal_weights)**2)/9)\n",
    "np.round(rmse_bern,3), np.round(rmse_equ,3)"
   ]
  },
  {
   "cell_type": "markdown",
   "id": "77578e29-3166-4662-b852-e3a4c41a0ba8",
   "metadata": {},
   "source": [
    "Bernstein's model (RMSE of .024) is closer to the real distribution than the equal weighting model (RMSE of .081) "
   ]
  },
  {
   "cell_type": "markdown",
   "id": "77bc8195-db67-4dfa-a298-d88f328ddf8b",
   "metadata": {},
   "source": [
    "###### 8. take 3 categories of your choice For each of these categories do the following: (a) compute F , P and π. (b) using RMSE as a ”distance” metric, for which of these chosen three cat- egories is the distribution ”closest” to equal weight P ?"
   ]
  },
  {
   "cell_type": "code",
   "execution_count": 15,
   "id": "92f8528e-f689-4eb5-ac8d-3c9b516312ef",
   "metadata": {
    "tags": []
   },
   "outputs": [
    {
     "data": {
      "text/plain": [
       "array(['Clothing', 'Shoes', 'Handbags', 'Jewelry', 'Accessories',\n",
       "       'Maternity', 'New Arrivals'], dtype=object)"
      ]
     },
     "execution_count": 15,
     "metadata": {},
     "output_type": "execute_result"
    }
   ],
   "source": [
    "nordstroms.CATEGORY.unique()"
   ]
  },
  {
   "cell_type": "markdown",
   "id": "e3616c2e-8940-4602-8501-f8c687e400ec",
   "metadata": {},
   "source": [
    "Chosen categories: Clothing, Jewelry, and Maternity"
   ]
  },
  {
   "cell_type": "code",
   "execution_count": 16,
   "id": "4a93f03e-7991-4472-8533-3f080c220798",
   "metadata": {
    "tags": []
   },
   "outputs": [],
   "source": [
    "chosen_cats = ['Clothing', 'Jewelry', 'Maternity']"
   ]
  },
  {
   "cell_type": "code",
   "execution_count": 17,
   "id": "82e9d7ec-9e9a-4d00-800d-501e50d5d867",
   "metadata": {
    "tags": []
   },
   "outputs": [
    {
     "data": {
      "text/plain": [
       "Index(['DEPARTMENT', 'CATEGORY', 'SUBCATEGORY', 'SKU', 'PRODUCT_NAME', 'BRAND',\n",
       "       'GENDER', 'PRICE_RETAIL', 'PRICE_CURRENT', 'REVIEW_RATING',\n",
       "       'REVIEW_COUNT', 'PROMOTION', 'COLOR', 'RunDate', 'InsertUpdateTime',\n",
       "       'LEADING_DIGIT'],\n",
       "      dtype='object')"
      ]
     },
     "execution_count": 17,
     "metadata": {},
     "output_type": "execute_result"
    }
   ],
   "source": [
    "nordstroms.columns"
   ]
  },
  {
   "cell_type": "code",
   "execution_count": 18,
   "id": "cc1a54c4-da25-40f5-a71a-22ba45a713aa",
   "metadata": {
    "tags": []
   },
   "outputs": [],
   "source": [
    "def freq(a):\n",
    "    return np.unique(a,return_counts=True)\n",
    "counts_series = nordstroms.groupby('CATEGORY')[\"LEADING_DIGIT\"].apply(freq)[chosen_cats]"
   ]
  },
  {
   "cell_type": "code",
   "execution_count": 19,
   "id": "6446a75d-b84b-4ee0-b92b-9781376a724a",
   "metadata": {
    "tags": []
   },
   "outputs": [
    {
     "data": {
      "text/plain": [
       "(array([1, 2, 3, 4, 5, 6, 7, 8, 9]),\n",
       " array([23785, 14063, 14078, 12343, 11675, 11030,  8514,  6517,  6959]))"
      ]
     },
     "execution_count": 19,
     "metadata": {},
     "output_type": "execute_result"
    }
   ],
   "source": [
    "counts_series['Clothing']"
   ]
  },
  {
   "cell_type": "code",
   "execution_count": 20,
   "id": "0b011b17-cf24-4c2e-baf9-abc96ae6f274",
   "metadata": {
    "tags": []
   },
   "outputs": [],
   "source": [
    "counts_dict = {c:dict(zip(counts_series[c][0],\n",
    "                         counts_series[c][1]/np.sum(counts_series[c][1]))) \n",
    "               for c in counts_series.index }"
   ]
  },
  {
   "cell_type": "code",
   "execution_count": 21,
   "id": "f3d72a14-4115-4319-b61e-d3797d07cddb",
   "metadata": {
    "tags": []
   },
   "outputs": [
    {
     "data": {
      "text/plain": [
       "{'Clothing': {1: 0.2182831026761132,\n",
       "  2: 0.1290609742667303,\n",
       "  3: 0.12919863441136523,\n",
       "  4: 0.1132759443485922,\n",
       "  5: 0.10714547924085019,\n",
       "  6: 0.1012260930215484,\n",
       "  7: 0.07813589809478359,\n",
       "  8: 0.05980874417238721,\n",
       "  9: 0.06386512976762967},\n",
       " 'Jewelry': {1: 0.2514291250847786,\n",
       "  2: 0.15457158544068728,\n",
       "  3: 0.12149985466524561,\n",
       "  4: 0.14840293253237735,\n",
       "  5: 0.0924329037883926,\n",
       "  6: 0.07118173303620451,\n",
       "  7: 0.056486774537351035,\n",
       "  8: 0.04779898588638052,\n",
       "  9: 0.0561961050285825},\n",
       " 'Maternity': {1: 0.13778950454412195,\n",
       "  2: 0.03928466725300499,\n",
       "  3: 0.056874816769275874,\n",
       "  4: 0.20433890354734682,\n",
       "  5: 0.18059220170038112,\n",
       "  6: 0.10290237467018469,\n",
       "  7: 0.09586631486367635,\n",
       "  8: 0.08384637936089123,\n",
       "  9: 0.09850483729111698}}"
      ]
     },
     "execution_count": 21,
     "metadata": {},
     "output_type": "execute_result"
    }
   ],
   "source": [
    "counts_dict"
   ]
  },
  {
   "cell_type": "code",
   "execution_count": 22,
   "id": "ae736359-926f-4a8a-aceb-9f85990ae903",
   "metadata": {
    "tags": []
   },
   "outputs": [
    {
     "data": {
      "text/plain": [
       "array([[0.301, 0.176, 0.125, 0.097, 0.079, 0.067, 0.058, 0.051, 0.046],\n",
       "       [0.111, 0.111, 0.111, 0.111, 0.111, 0.111, 0.111, 0.111, 0.111]])"
      ]
     },
     "execution_count": 22,
     "metadata": {},
     "output_type": "execute_result"
    }
   ],
   "source": [
    "P = [1/9]*9\n",
    "PI = bernford\n",
    "np.round((PI,P),3)"
   ]
  },
  {
   "cell_type": "code",
   "execution_count": 23,
   "id": "88a7ea1b-5f6a-4066-96bb-0cdb6badbeb0",
   "metadata": {
    "tags": []
   },
   "outputs": [],
   "source": [
    "def rmse(a,b):\n",
    "    a= np.asarray(a)\n",
    "    b = np.asarray(b)\n",
    "    n = a.shape[0]\n",
    "    return (sum((a-b)**2)/n)**.5"
   ]
  },
  {
   "cell_type": "code",
   "execution_count": 24,
   "id": "48c2914f-11c1-440a-b775-054839e1ae73",
   "metadata": {
    "tags": []
   },
   "outputs": [],
   "source": [
    "nordstroms['LEADING_DIGIT'] = nordstroms.PRICE_RETAIL.values.astype('U1')\n",
    "def distance_rmse(category, model):\n",
    "    ld = nordstroms[nordstroms['CATEGORY'] == f'{category}']['LEADING_DIGIT']\n",
    "    num, count = np.unique(ld,return_counts=True)\n",
    "    freq = count/sum(count)\n",
    "    return rmse(freq,model)"
   ]
  },
  {
   "cell_type": "code",
   "execution_count": 25,
   "id": "f7493276-6cfd-474b-ae4b-01e3b04e0fea",
   "metadata": {},
   "outputs": [],
   "source": [
    "equal_weights = np.ones(9)/9"
   ]
  },
  {
   "cell_type": "code",
   "execution_count": 26,
   "id": "ef6b4490-816c-498a-8c58-422c382a1419",
   "metadata": {
    "tags": []
   },
   "outputs": [
    {
     "name": "stdout",
     "output_type": "stream",
     "text": [
      "Clothing rmse: 0.045\n",
      "Jewelry rmse: 0.062\n",
      "Maternity rmse: 0.051\n"
     ]
    }
   ],
   "source": [
    "print(f\"Clothing rmse: {np.round(distance_rmse('Clothing',equal_weights),3)}\\n\\\n",
    "Jewelry rmse: {np.round(distance_rmse('Jewelry',equal_weights),3)}\\n\\\n",
    "Maternity rmse: {np.round(distance_rmse('Maternity',equal_weights),3)}\")"
   ]
  },
  {
   "cell_type": "markdown",
   "id": "1e837b4b-a7d6-4c63-87bd-d511558cb488",
   "metadata": {},
   "source": [
    "From above we can see that clothing has an rmse that is closest to equal weighting."
   ]
  },
  {
   "cell_type": "markdown",
   "id": "243276c9-eece-479e-a88f-08edaaa5fcd2",
   "metadata": {},
   "source": [
    "###### Q9. discuss your findings"
   ]
  },
  {
   "cell_type": "markdown",
   "id": "429d2d07-30f5-4781-baa7-28ce444f09ef",
   "metadata": {},
   "source": [
    "From the above, clothing has closest to random first digits. "
   ]
  }
 ],
 "metadata": {
  "kernelspec": {
   "display_name": "Python 3 (ipykernel)",
   "language": "python",
   "name": "python3"
  },
  "language_info": {
   "codemirror_mode": {
    "name": "ipython",
    "version": 3
   },
   "file_extension": ".py",
   "mimetype": "text/x-python",
   "name": "python",
   "nbconvert_exporter": "python",
   "pygments_lexer": "ipython3",
   "version": "3.9.18"
  }
 },
 "nbformat": 4,
 "nbformat_minor": 5
}
