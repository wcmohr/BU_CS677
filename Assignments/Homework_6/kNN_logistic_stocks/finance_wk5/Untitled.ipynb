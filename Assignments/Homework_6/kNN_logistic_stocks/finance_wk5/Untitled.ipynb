{
 "cells": [
  {
   "cell_type": "code",
   "execution_count": null,
   "id": "f762402f-5a51-409d-8146-8884112a8349",
   "metadata": {},
   "outputs": [],
   "source": [
    "def trade_from_close_close_holiday(stock,sd,h_m):\n",
    "    '''Args: stock: dataframe of stock data | sd: dictionary of staggered weeks,\n",
    "    i.e. {2017-02:2017-01, ... 2021-52:2021-51} for getting prior week adjusted\n",
    "    close | h_m: holiday month to exclude from returns calculations \n",
    "    Return a dataframe with weekly return factors based on first day of week\n",
    "    open and last day of week close.'''\n",
    "    \n",
    "    stock_by_week = pd.DataFrame(\n",
    "        columns=['Year','Year_Week',\"Begin_Price\",\"Adj Close\", 'Return', 'WoM',\n",
    "                'Month'])\n",
    "    \n",
    "    year_weeks = stock[\"Year_Week\"].unique()\n",
    "    \n",
    "    for yw in year_weeks:\n",
    "        this_week = stock[stock[\"Year_Week\"]==yw]\n",
    "        try:\n",
    "            begin_price = stock[stock[\"Year_Week\"]==sd[yw]].\\\n",
    "            tail(1)['Adj Close'].values[0]\n",
    "        except (IndexError,KeyError): \n",
    "            begin_price = this_week.head(1)['Open'].values[0]\n",
    "        close_price = this_week.tail(1)['Adj Close'].values[0]\n",
    "        r = close_price/begin_price\n",
    "        wom = this_week.head(1)['WoM'].values[0]\n",
    "        y = this_week.tail(1)['Year'].values[0]\n",
    "        stock_by_week.loc[inx,:] = [y,yw,begin_price,close_price,r,wom]\n",
    "    return stock_by_week"
   ]
  },
  {
   "cell_type": "markdown",
   "id": "dbc7b92a-a628-4eef-a806-f97a61945944",
   "metadata": {
    "tags": []
   },
   "source": [
    "###### nth_friday v1"
   ]
  },
  {
   "cell_type": "markdown",
   "id": "935108b7-f95a-41cb-aa72-d52ee6164fb3",
   "metadata": {
    "tags": []
   },
   "source": [
    "equations = pd.DataFrame({\n",
    "    'poisson':['E( e^(-lambda)*(lambda^k)/(k!) )', \n",
    "     'E( (e^(-lambda)*(lambda^k)/(k!))^2 )- E( e^(-lambda)*(lambda^k)/(k!) )^2']\n",
    "    , 'normal':['E( (1/sqrt(2*pi*sigma^2)*e^(-1/(2*sigma^2)*(x-mu)^2)) )',\n",
    "      'E( (1/sqrt(2*pi*sigma^2)*e^(-1/(2*sigma^2)*(x-mu)^2))^2 ) - \\\n",
    "        E( (1/sqrt(2*pi*sigma^2)*e^(-1/(2*sigma^2)*(x-mu)^2))^2 )^2']})"
   ]
  },
  {
   "cell_type": "markdown",
   "id": "ee098991-ab22-42d1-a652-d69fc843dbb0",
   "metadata": {
    "tags": []
   },
   "source": [
    "equations[equations.index[2]:]"
   ]
  },
  {
   "cell_type": "markdown",
   "id": "8251ffb4-783b-426e-ad3f-21d0920afcbc",
   "metadata": {
    "tags": []
   },
   "source": [
    "np.argmax([2,3,4,4])"
   ]
  },
  {
   "cell_type": "markdown",
   "id": "5cebb92e-eead-4a1f-aa28-dbdd0905e241",
   "metadata": {
    "tags": []
   },
   "source": [
    "def nth_friday(month_of_data):\n",
    "    is_friday = np.where(month_of_data.Weekday == 'Friday',1,0) \n",
    "    # friday's have passed as of each day.  0 fridays -> 1 (first week)\n",
    "    # each friday initially counted in the following week.\n",
    "    # I'll have to deduct 1 \n",
    "    # except for 4th friday, \n",
    "    \n",
    "    # assign week numbers\n",
    "    nth_f = np.where(np.cumsum(is_friday) < 1,\n",
    "                               1,np.where(np.cumsum(is_friday)<2,\n",
    "                               2,np.where(np.cumsum(is_friday)<3,\n",
    "                               3,np.where(np.cumsum(is_friday)<4,\n",
    "                               4,np.where(np.cumsum(is_friday)<5,\n",
    "                               5,6\n",
    "                                )))))\n",
    "    # account for fridays being included in the following week                  \n",
    "    nth_f = np.where(is_friday,nth_f-1,nth_f)\n",
    "    \n",
    "    # the final issue is what to do with days after the fourth week.  \n",
    "    # need to test if there is a fifth friday, in which case the days up to \n",
    "    # and including the fifth day can be discarded.  After that, any remaining \n",
    "    # days can be marked 0th week for inclusion in the next month's first week.\n",
    "    # \n",
    "    total_fridays = sum(is_friday)\n",
    "    last_friday = np.argmax(np.cumsum(is_friday))\n",
    "    \n",
    "    \n",
    "    # take remaining days and set their week# to 0: they will be included in \n",
    "    # the following week in a later step\n",
    "    if total_fridays = 5:\n",
    "        if (len(is_friday)-1) > last_friday:\n",
    "            nth_f[last_friday+1:]=0\n",
    "        continue\n",
    "        \n",
    "    if to\n",
    "        nth_f = np.where((np.cumsum(is_friday)>4) & (np.cumsum(is_friday)<=5),\n",
    "                         1,nth_f)\n",
    "    nth_f = np.where(is_friday,nth_f-1,nth_f)\n",
    "    \n",
    "#     nth_f[np.argmin] = np.where(np.cumsum(is_friday)==4,5,nth_f) # making 4th friday a 5\n",
    "#     nth_f[np.argmax(np.cumsum(is_friday))]\n",
    "    # return nth_f\n",
    "    #     (np.cumsum(month_of_data['Friday'])<=1)\n",
    "    # fridays = [1,2,3,4]\n",
    "    # for day in month_of_data.iterrows():\n",
    "    #     if day \n",
    "    # fridays = 0\n",
    "    # while fridays < 4:\n",
    "    #     fridays += 1\n",
    "    #     month_of_data.Friday.values()\n",
    "        \n",
    "    # 1# is_friday = month_of_data.Friday.values()\n",
    "    # 1# week_num\n",
    "    # 1# for i,f in enumerate(is_friday): \n",
    "    # 1#     if (f == 0) and (fridays == 0):\n",
    "    # 1#         week_num.append()\n",
    "#     fridays =[]\n",
    "    \n",
    "#     for d in month_of_data.iterrows()\n",
    "#         if d[1].Weekday == 'Friday':\n",
    "#             fridays.append(d[1].Day)\n",
    "#         else: continue\n",
    "#     for i,f in enumerate(fridays):\n",
    "    \n",
    "    return nth_f\n",
    "        "
   ]
  },
  {
   "cell_type": "markdown",
   "id": "6ba4ecf7-c213-4f6b-be18-4421485af152",
   "metadata": {
    "jp-MarkdownHeadingCollapsed": true,
    "tags": []
   },
   "source": [
    "###### nth_friday v2"
   ]
  },
  {
   "cell_type": "markdown",
   "id": "25299e91-9d3d-4655-a4d3-2e17180045b6",
   "metadata": {},
   "source": [
    "check for year-week match"
   ]
  },
  {
   "cell_type": "markdown",
   "id": "92312fe6-2e51-4e39-bb8a-5d2138bdfb81",
   "metadata": {},
   "source": [
    "def nth_friday(month_of_data):\n",
    "    \"\"\"Take month of data.  Return a tuple of DataFrames:\n",
    "    a month with 4 weeks , and any then any leftover days for inclusion in the \n",
    "    next month.\"\"\"\n",
    "    \n",
    "    this_month = pd.DataFrame()\n",
    "    \n",
    "    next_month = pd.DataFrame() \n",
    "    \n",
    "    is_friday = np.where(month_of_data.Weekday == 'Friday',1,0) \n",
    "    # friday's have passed as of each day.  0 fridays -> 1 (first week)\n",
    "    # each friday initially counted in the following week.\n",
    "    # I'll have to deduct 1 \n",
    "    # except for 4th friday, \n",
    "    \n",
    "    # assign week numbers\n",
    "    nth_f = np.where(np.cumsum(is_friday) < 1,\n",
    "                               1,np.where(np.cumsum(is_friday)<2,\n",
    "                               2,np.where(np.cumsum(is_friday)<3,\n",
    "                               3,np.where(np.cumsum(is_friday)<4,\n",
    "                               4,np.where(np.cumsum(is_friday)<5,\n",
    "                               5,6\n",
    "                                )))))\n",
    "    # account for fridays being included in the following week\n",
    "    re\n",
    "    last_friday = np.argmax(np.cumsum(is_friday))\n",
    "    nth_f = np.where(is_friday,nth_f-1,nth_f)\n",
    "    fourth_friday = np.argmax(np.cumsum(is_friday)==4)\n",
    "    total_fridays = sum(is_friday)\n",
    "    try:\n",
    "        next_month = pd.concat([next_month,\n",
    "                        month_of_data[month_of_data.index[last_friday]+1:]])\n",
    "    except IndexError:\n",
    "        pass # next month stays empty.\n",
    "    if month_of_data.shape[0] >= last_friday:\n",
    "         next_month = pd.concat([next_month,month_of_data[month_of_data.index[\n",
    "             last_friday]]]):\n",
    "\n",
    "    if total_fridays == 5:\n",
    "        fifth_friday = np.argmax(np.cumsum(is_friday)==5)\n",
    "        drop_days = list(range(fourth_friday:fifth_friday+1))\n",
    "        next_month = pd.concat([next_month,month_of_data[month_of_data.index[drop_days]]])\n",
    "    # To-Do: now any 6s can be made 0s for inclusion with following month.\n",
    "    # check how many fridays there are in this month.\n",
    "    total_fridays = sum(is_friday)\n",
    "    if total_friday == 5\n",
    "    # the final issue is what to do with days after the fourth week.  \n",
    "    # need to test if there is a fifth friday, in which case the days up to \n",
    "    # and including the fifth day can be discarded.  After that, any remaining \n",
    "    # days can be marked 0th week for inclusion in the next month's first week.\n",
    "    # \n",
    "    total_fridays = sum(is_friday)\n",
    "    last_friday = np.argmax(np.cumsum(is_friday))\n",
    "    \n",
    "    \n",
    "    # take remaining days and set their week# to 0: they will be included in \n",
    "    # the following week in a later step\n",
    "    if total_fridays == 5:\n",
    "        if (len(is_friday)-1) > last_friday:\n",
    "            nth_f[last_friday+1:]=0\n",
    "            \n",
    "        \n",
    "    if total_fridays == 4:\n",
    "        \n",
    "    if to\n",
    "        nth_f = np.where((np.cumsum(is_friday)>4) & (np.cumsum(is_friday)<=5),\n",
    "                         1,nth_f)\n",
    "    nth_f = np.where(is_friday,nth_f-1,nth_f)"
   ]
  }
 ],
 "metadata": {
  "kernelspec": {
   "display_name": "Python 3 (ipykernel)",
   "language": "python",
   "name": "python3"
  },
  "language_info": {
   "codemirror_mode": {
    "name": "ipython",
    "version": 3
   },
   "file_extension": ".py",
   "mimetype": "text/x-python",
   "name": "python",
   "nbconvert_exporter": "python",
   "pygments_lexer": "ipython3",
   "version": "3.9.18"
  }
 },
 "nbformat": 4,
 "nbformat_minor": 5
}
