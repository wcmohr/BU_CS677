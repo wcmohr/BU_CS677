{
 "cells": [
  {
   "cell_type": "markdown",
   "id": "3580dd35-c82a-4210-b5e0-a8769d6c52f3",
   "metadata": {},
   "source": [
    "To-Do: clarify positives & negatives of confusion matrix"
   ]
  },
  {
   "cell_type": "code",
   "execution_count": 1,
   "id": "aad18b7f-84c8-47ea-9ed1-4968298baefa",
   "metadata": {
    "tags": []
   },
   "outputs": [],
   "source": [
    "import pandas as pd\n",
    "import numpy as np\n",
    "from sklearn.linear_model import LogisticRegression\n",
    "from sklearn.preprocessing import StandardScaler, LabelEncoder\n",
    "from sklearn.model_selection import train_test_split\n",
    "from sklearn.neighbors import KNeighborsClassifier\n",
    "import matplotlib.pyplot as plt"
   ]
  },
  {
   "cell_type": "code",
   "execution_count": 2,
   "id": "138d307a-3284-4feb-9739-d2f7b09cacdd",
   "metadata": {
    "tags": []
   },
   "outputs": [],
   "source": [
    "from sklearn.metrics import confusion_matrix"
   ]
  },
  {
   "cell_type": "markdown",
   "id": "d69e43de-6724-4166-a654-fc60619f38b0",
   "metadata": {
    "tags": []
   },
   "source": [
    "## Logistic Regression"
   ]
  },
  {
   "cell_type": "markdown",
   "id": "8c924584-2152-4a88-9cf6-a321e588ad1a",
   "metadata": {},
   "source": [
    "### GME"
   ]
  },
  {
   "cell_type": "code",
   "execution_count": 3,
   "id": "b3e727b7-6e66-4c92-abbb-dc86f8ab5698",
   "metadata": {
    "tags": []
   },
   "outputs": [],
   "source": [
    "# Imports\n",
    "gme_wr_v = pd.read_csv('./gme_weekly_return_volatility.csv')\n",
    "# Mask weekly return by year.  Labels already for 2020, 2021\n",
    "gme_wr_v = gme_wr_v[np.isin(gme_wr_v.Year.values,[2020,2021])]\n",
    "gme_wr_v['Labels'] = pd.read_csv('./gme_labels.csv', header=None)[0].values"
   ]
  },
  {
   "cell_type": "code",
   "execution_count": 4,
   "id": "2acfa8dc-47bc-4bbb-bc6e-3b3209550f9f",
   "metadata": {
    "tags": []
   },
   "outputs": [],
   "source": [
    "X = gme_wr_v[['mean_return','volatility']].values\n",
    "y = gme_wr_v[['Labels']].values\n",
    "le = LabelEncoder() \n",
    "y = le.fit_transform(np.ravel(y))\n",
    "y = 1 - y # make 'Green' 1, 'Red' 0\n",
    "m_2020 = np.array(gme_wr_v.Year == 2020) # make masks for train, test\n",
    "m_2021 = np.array(gme_wr_v.Year == 2021)\n",
    "(X_tr, y_tr) = (X[m_2020], y[m_2020])\n",
    "(X_te, y_te) = (X[m_2021], y[m_2021])\n",
    "\n",
    "scaler = StandardScaler()\n",
    "scaler.fit(X_tr)\n",
    "\n",
    "(X_tr, X_te) = (scaler.transform(X_tr), scaler.transform(X_te))"
   ]
  },
  {
   "cell_type": "code",
   "execution_count": 5,
   "id": "d83cc162-5261-4493-8790-f22b8916f332",
   "metadata": {
    "tags": []
   },
   "outputs": [],
   "source": [
    "lr = LogisticRegression()"
   ]
  },
  {
   "cell_type": "code",
   "execution_count": 6,
   "id": "f47f165f-b97f-4282-a0fb-27ff21b2df1a",
   "metadata": {
    "tags": []
   },
   "outputs": [
    {
     "data": {
      "text/html": [
       "<style>#sk-container-id-1 {color: black;}#sk-container-id-1 pre{padding: 0;}#sk-container-id-1 div.sk-toggleable {background-color: white;}#sk-container-id-1 label.sk-toggleable__label {cursor: pointer;display: block;width: 100%;margin-bottom: 0;padding: 0.3em;box-sizing: border-box;text-align: center;}#sk-container-id-1 label.sk-toggleable__label-arrow:before {content: \"▸\";float: left;margin-right: 0.25em;color: #696969;}#sk-container-id-1 label.sk-toggleable__label-arrow:hover:before {color: black;}#sk-container-id-1 div.sk-estimator:hover label.sk-toggleable__label-arrow:before {color: black;}#sk-container-id-1 div.sk-toggleable__content {max-height: 0;max-width: 0;overflow: hidden;text-align: left;background-color: #f0f8ff;}#sk-container-id-1 div.sk-toggleable__content pre {margin: 0.2em;color: black;border-radius: 0.25em;background-color: #f0f8ff;}#sk-container-id-1 input.sk-toggleable__control:checked~div.sk-toggleable__content {max-height: 200px;max-width: 100%;overflow: auto;}#sk-container-id-1 input.sk-toggleable__control:checked~label.sk-toggleable__label-arrow:before {content: \"▾\";}#sk-container-id-1 div.sk-estimator input.sk-toggleable__control:checked~label.sk-toggleable__label {background-color: #d4ebff;}#sk-container-id-1 div.sk-label input.sk-toggleable__control:checked~label.sk-toggleable__label {background-color: #d4ebff;}#sk-container-id-1 input.sk-hidden--visually {border: 0;clip: rect(1px 1px 1px 1px);clip: rect(1px, 1px, 1px, 1px);height: 1px;margin: -1px;overflow: hidden;padding: 0;position: absolute;width: 1px;}#sk-container-id-1 div.sk-estimator {font-family: monospace;background-color: #f0f8ff;border: 1px dotted black;border-radius: 0.25em;box-sizing: border-box;margin-bottom: 0.5em;}#sk-container-id-1 div.sk-estimator:hover {background-color: #d4ebff;}#sk-container-id-1 div.sk-parallel-item::after {content: \"\";width: 100%;border-bottom: 1px solid gray;flex-grow: 1;}#sk-container-id-1 div.sk-label:hover label.sk-toggleable__label {background-color: #d4ebff;}#sk-container-id-1 div.sk-serial::before {content: \"\";position: absolute;border-left: 1px solid gray;box-sizing: border-box;top: 0;bottom: 0;left: 50%;z-index: 0;}#sk-container-id-1 div.sk-serial {display: flex;flex-direction: column;align-items: center;background-color: white;padding-right: 0.2em;padding-left: 0.2em;position: relative;}#sk-container-id-1 div.sk-item {position: relative;z-index: 1;}#sk-container-id-1 div.sk-parallel {display: flex;align-items: stretch;justify-content: center;background-color: white;position: relative;}#sk-container-id-1 div.sk-item::before, #sk-container-id-1 div.sk-parallel-item::before {content: \"\";position: absolute;border-left: 1px solid gray;box-sizing: border-box;top: 0;bottom: 0;left: 50%;z-index: -1;}#sk-container-id-1 div.sk-parallel-item {display: flex;flex-direction: column;z-index: 1;position: relative;background-color: white;}#sk-container-id-1 div.sk-parallel-item:first-child::after {align-self: flex-end;width: 50%;}#sk-container-id-1 div.sk-parallel-item:last-child::after {align-self: flex-start;width: 50%;}#sk-container-id-1 div.sk-parallel-item:only-child::after {width: 0;}#sk-container-id-1 div.sk-dashed-wrapped {border: 1px dashed gray;margin: 0 0.4em 0.5em 0.4em;box-sizing: border-box;padding-bottom: 0.4em;background-color: white;}#sk-container-id-1 div.sk-label label {font-family: monospace;font-weight: bold;display: inline-block;line-height: 1.2em;}#sk-container-id-1 div.sk-label-container {text-align: center;}#sk-container-id-1 div.sk-container {/* jupyter's `normalize.less` sets `[hidden] { display: none; }` but bootstrap.min.css set `[hidden] { display: none !important; }` so we also need the `!important` here to be able to override the default hidden behavior on the sphinx rendered scikit-learn.org. See: https://github.com/scikit-learn/scikit-learn/issues/21755 */display: inline-block !important;position: relative;}#sk-container-id-1 div.sk-text-repr-fallback {display: none;}</style><div id=\"sk-container-id-1\" class=\"sk-top-container\"><div class=\"sk-text-repr-fallback\"><pre>LogisticRegression()</pre><b>In a Jupyter environment, please rerun this cell to show the HTML representation or trust the notebook. <br />On GitHub, the HTML representation is unable to render, please try loading this page with nbviewer.org.</b></div><div class=\"sk-container\" hidden><div class=\"sk-item\"><div class=\"sk-estimator sk-toggleable\"><input class=\"sk-toggleable__control sk-hidden--visually\" id=\"sk-estimator-id-1\" type=\"checkbox\" checked><label for=\"sk-estimator-id-1\" class=\"sk-toggleable__label sk-toggleable__label-arrow\">LogisticRegression</label><div class=\"sk-toggleable__content\"><pre>LogisticRegression()</pre></div></div></div></div></div>"
      ],
      "text/plain": [
       "LogisticRegression()"
      ]
     },
     "execution_count": 6,
     "metadata": {},
     "output_type": "execute_result"
    }
   ],
   "source": [
    "lr.fit(X_tr,y_tr)"
   ]
  },
  {
   "cell_type": "code",
   "execution_count": 7,
   "id": "162790fd-a270-4757-9b97-7e24199faa92",
   "metadata": {
    "tags": []
   },
   "outputs": [
    {
     "data": {
      "text/plain": [
       "array([2.23529302, 0.34453957])"
      ]
     },
     "execution_count": 7,
     "metadata": {},
     "output_type": "execute_result"
    }
   ],
   "source": [
    "coefs = np.array(lr.coef_.flat)\n",
    "lr.coef_[0]"
   ]
  },
  {
   "cell_type": "code",
   "execution_count": 8,
   "id": "5a138211-72eb-4dea-bb02-00603822f765",
   "metadata": {
    "tags": []
   },
   "outputs": [
    {
     "data": {
      "text/plain": [
       "array([[9.34922099, 1.41133994]])"
      ]
     },
     "execution_count": 8,
     "metadata": {},
     "output_type": "execute_result"
    }
   ],
   "source": [
    "np.e**lr.coef_"
   ]
  },
  {
   "cell_type": "markdown",
   "id": "135fe511-e786-47fe-b59d-7c52cc9c89b2",
   "metadata": {},
   "source": [
    "For a one unit increase in mean_return, the odds of being a green label increase by 834.9% or a factor of 9.349, while for every increase of one in volatility,  the odds of a \"Green\" label increase by 41.13% or a factor of 1.411"
   ]
  },
  {
   "cell_type": "code",
   "execution_count": 9,
   "id": "2a78a51a-6ae0-465f-9ed6-a9c94fbe5823",
   "metadata": {
    "tags": []
   },
   "outputs": [
    {
     "data": {
      "text/plain": [
       "array([1.47711064])"
      ]
     },
     "execution_count": 9,
     "metadata": {},
     "output_type": "execute_result"
    }
   ],
   "source": [
    "np.e**lr.intercept_"
   ]
  },
  {
   "cell_type": "markdown",
   "id": "2104872d-2e75-4c8e-8b7e-deb776be30df",
   "metadata": {},
   "source": [
    "The odds of a week with volatility of zero and mean return of zero being a 'green' week is 1.477 to 1."
   ]
  },
  {
   "cell_type": "code",
   "execution_count": 10,
   "id": "99ff302e-4049-48da-9ef8-2036f4372345",
   "metadata": {
    "tags": []
   },
   "outputs": [],
   "source": [
    "i = lr.intercept_[0]\n",
    "w_mr = coefs[0]\n",
    "w_v = coefs[1]"
   ]
  },
  {
   "cell_type": "code",
   "execution_count": 11,
   "id": "d4b45ed4-c548-4aa0-98a3-fe02e1308d9f",
   "metadata": {
    "tags": []
   },
   "outputs": [
    {
     "name": "stdout",
     "output_type": "stream",
     "text": [
      "In the equation for the log odds, the intercept is 0.39, the coefficient for mean_return is 2.24, and the coefficient for volatility is 0.34\n"
     ]
    }
   ],
   "source": [
    "print(f'In the equation for the log odds, the intercept is {i:.2f}, \\\n",
    "the coefficient for mean_return is {w_mr:.2f}, \\\n",
    "and the coefficient for volatility is {w_v:.2f}')"
   ]
  },
  {
   "cell_type": "markdown",
   "id": "bbe290b6-6ea7-4ed5-bedb-2ba969f6274b",
   "metadata": {},
   "source": [
    "###### Q2 Year 2 accuracy"
   ]
  },
  {
   "cell_type": "code",
   "execution_count": 12,
   "id": "28b44b95-c66f-42a2-9b9f-3b998b49ba1b",
   "metadata": {
    "tags": []
   },
   "outputs": [],
   "source": [
    "y_pr = lr.predict(X_te)"
   ]
  },
  {
   "cell_type": "code",
   "execution_count": 13,
   "id": "4b233d2f-ea31-49cb-9595-3460c0d579ab",
   "metadata": {
    "tags": []
   },
   "outputs": [
    {
     "name": "stdout",
     "output_type": "stream",
     "text": [
      "accuracy: 82.69%\n"
     ]
    }
   ],
   "source": [
    "accuracy = lr.score(X_te,y_te)\n",
    "print(f'accuracy: {accuracy:.2%}')"
   ]
  },
  {
   "cell_type": "code",
   "execution_count": 14,
   "id": "0568d08e-5940-49da-8f56-4b6e052debea",
   "metadata": {
    "tags": []
   },
   "outputs": [
    {
     "data": {
      "text/plain": [
       "array([[26,  8],\n",
       "       [ 1, 17]])"
      ]
     },
     "execution_count": 14,
     "metadata": {},
     "output_type": "execute_result"
    }
   ],
   "source": [
    "confusion_matrix(y_te,y_pr)"
   ]
  },
  {
   "cell_type": "code",
   "execution_count": 15,
   "id": "b6b173f2-aa5f-40d8-b0e0-8b648eda6343",
   "metadata": {
    "tags": []
   },
   "outputs": [],
   "source": [
    "cm = confusion_matrix(y_te,y_pr)"
   ]
  },
  {
   "cell_type": "code",
   "execution_count": 16,
   "id": "70bc9672-ea11-4d3d-a98b-8254a7d8a03c",
   "metadata": {
    "tags": []
   },
   "outputs": [],
   "source": [
    "# true ones are true 'Green', true zeros are true 'Red'\n",
    "tpr = cm[1,1]/sum(cm[1,:]) # TP / (TP + FN)\n",
    "tnr = cm[0,0]/sum(cm[0,:]) # TN / (TN + FP)"
   ]
  },
  {
   "cell_type": "code",
   "execution_count": 17,
   "id": "13bb6361-0b04-4fa5-be87-d90af0fdfd85",
   "metadata": {
    "tags": []
   },
   "outputs": [
    {
     "name": "stdout",
     "output_type": "stream",
     "text": [
      "the tpr is 0.94 and the tnr is 0.76\n"
     ]
    }
   ],
   "source": [
    "print(f'the tpr is {tpr:.2f} and the tnr is {tnr:.2f}')"
   ]
  },
  {
   "cell_type": "code",
   "execution_count": 18,
   "id": "829ae22a-69bb-4a66-a40c-4252902c34e7",
   "metadata": {},
   "outputs": [
    {
     "data": {
      "text/plain": [
       "array([-1.145200e+00,  1.724280e+01,  1.783475e+01,  5.384920e+01,\n",
       "       -2.220020e+01, -3.588800e+00, -6.100000e+00,  2.543100e+01,\n",
       "        6.445200e+00,  1.506480e+01, -5.199200e+00,  1.594200e+00,\n",
       "        1.474500e+00, -3.704200e+00, -8.000000e-03, -3.864000e-01,\n",
       "        2.923200e+00, -1.444800e+00,  1.716000e-01,  2.219000e+00,\n",
       "        5.222200e+00,  3.295500e+00, -1.092000e-01, -1.715400e+00,\n",
       "       -2.596000e-01, -6.192000e-01, -1.443000e+00, -2.389200e+00,\n",
       "        1.423800e+00, -2.203000e+00, -1.144400e+00,  1.411800e+00,\n",
       "       -3.588000e-01,  5.728200e+00, -1.612000e-01, -1.540750e+00,\n",
       "        1.530800e+00, -1.980200e+00, -8.690000e-01, -4.728000e-01,\n",
       "        1.224400e+00, -1.476600e+00,  1.598000e+00,  3.126200e+00,\n",
       "       -1.015600e+00,  2.570800e+00, -3.021000e+00, -2.832400e+00,\n",
       "       -1.443000e+00, -9.220000e-02, -5.565000e-01,  5.615000e-01])"
      ]
     },
     "execution_count": 18,
     "metadata": {},
     "output_type": "execute_result"
    }
   ],
   "source": [
    "gme_wr_v[gme_wr_v.Year == 2021].mean_return.values"
   ]
  },
  {
   "cell_type": "code",
   "execution_count": 19,
   "id": "4492b8cf-f4dc-45f7-a749-3d22b6757951",
   "metadata": {
    "tags": []
   },
   "outputs": [],
   "source": [
    "def cum_return_factor(return_weeks):\n",
    "    return_factors = (return_weeks)\n",
    "    total_return_factor = np.prod(return_factors)\n",
    "    return total_return_factor"
   ]
  },
  {
   "cell_type": "code",
   "execution_count": 20,
   "id": "528bc1d3-4074-48f9-8691-3d914794e56b",
   "metadata": {
    "tags": []
   },
   "outputs": [],
   "source": [
    "gme=pd.read_csv('./gme.csv')"
   ]
  },
  {
   "cell_type": "code",
   "execution_count": 21,
   "id": "851ec193-9fbc-434f-8a1d-47a92df03ca9",
   "metadata": {
    "tags": []
   },
   "outputs": [],
   "source": [
    "this_wk_last_wk = dict(zip(gme.Year_Week.unique()[1:], \n",
    "                           gme.Year_Week.unique()[:-1]))"
   ]
  },
  {
   "cell_type": "code",
   "execution_count": 22,
   "id": "e3346bfc-76db-4905-957d-f503505bf03b",
   "metadata": {
    "tags": []
   },
   "outputs": [],
   "source": [
    "def trade_from_close_close(stock,sd):\n",
    "    '''Args: stock: dataframe of stock data | sd: dictionary of staggered weeks,\n",
    "    i.e. {2017-02:2017-01, ... 2021-52:2021-51} for gettin prior week adjusted\n",
    "    close Return a dataframe with weekly return factors based on first day of week\n",
    "    open and last day of week close.'''\n",
    "    \n",
    "    stock_by_week = pd.DataFrame(\n",
    "        columns=['Year','Year_Week',\"Begin_Price\",\"Adj Close\", 'Return'])\n",
    "    \n",
    "    year_weeks = stock[\"Year_Week\"].unique()\n",
    "    \n",
    "    for inx, yw in enumerate(year_weeks):\n",
    "        this_week = stock[stock[\"Year_Week\"]==yw]\n",
    "        try:\n",
    "            begin_price = stock[stock[\"Year_Week\"]==sd[yw]].\\\n",
    "            tail(1)['Adj Close'].values[0]\n",
    "        except (IndexError,KeyError): \n",
    "            begin_price = this_week.head(1)['Open'].values[0]\n",
    "        close_price = this_week.tail(1)['Adj Close'].values[0]\n",
    "        r = close_price/begin_price\n",
    "        y = this_week.tail(1)['Year'].values[0]\n",
    "        stock_by_week.loc[inx,:] = [y,yw,begin_price,close_price,r]\n",
    "    return stock_by_week"
   ]
  },
  {
   "cell_type": "code",
   "execution_count": 23,
   "id": "7c273a37-76ff-4b30-ab35-56ca0a221aa7",
   "metadata": {
    "tags": []
   },
   "outputs": [],
   "source": [
    "gme_returns = trade_from_close_close(gme,this_wk_last_wk)"
   ]
  },
  {
   "cell_type": "code",
   "execution_count": 24,
   "id": "ceaf188f-ef17-4bfd-b187-e3ecaadf3c27",
   "metadata": {
    "tags": []
   },
   "outputs": [
    {
     "data": {
      "text/html": [
       "<div>\n",
       "<style scoped>\n",
       "    .dataframe tbody tr th:only-of-type {\n",
       "        vertical-align: middle;\n",
       "    }\n",
       "\n",
       "    .dataframe tbody tr th {\n",
       "        vertical-align: top;\n",
       "    }\n",
       "\n",
       "    .dataframe thead th {\n",
       "        text-align: right;\n",
       "    }\n",
       "</style>\n",
       "<table border=\"1\" class=\"dataframe\">\n",
       "  <thead>\n",
       "    <tr style=\"text-align: right;\">\n",
       "      <th></th>\n",
       "      <th>Year</th>\n",
       "      <th>Year_Week</th>\n",
       "      <th>Begin_Price</th>\n",
       "      <th>Adj Close</th>\n",
       "      <th>Return</th>\n",
       "    </tr>\n",
       "  </thead>\n",
       "  <tbody>\n",
       "    <tr>\n",
       "      <th>0</th>\n",
       "      <td>2017</td>\n",
       "      <td>2017-01</td>\n",
       "      <td>6.36</td>\n",
       "      <td>4.99</td>\n",
       "      <td>0.784591</td>\n",
       "    </tr>\n",
       "    <tr>\n",
       "      <th>1</th>\n",
       "      <td>2017</td>\n",
       "      <td>2017-02</td>\n",
       "      <td>4.99</td>\n",
       "      <td>4.62</td>\n",
       "      <td>0.925852</td>\n",
       "    </tr>\n",
       "    <tr>\n",
       "      <th>2</th>\n",
       "      <td>2017</td>\n",
       "      <td>2017-03</td>\n",
       "      <td>4.62</td>\n",
       "      <td>4.79</td>\n",
       "      <td>1.036797</td>\n",
       "    </tr>\n",
       "    <tr>\n",
       "      <th>3</th>\n",
       "      <td>2017</td>\n",
       "      <td>2017-04</td>\n",
       "      <td>4.79</td>\n",
       "      <td>4.94</td>\n",
       "      <td>1.031315</td>\n",
       "    </tr>\n",
       "    <tr>\n",
       "      <th>4</th>\n",
       "      <td>2017</td>\n",
       "      <td>2017-05</td>\n",
       "      <td>4.94</td>\n",
       "      <td>5.03</td>\n",
       "      <td>1.018219</td>\n",
       "    </tr>\n",
       "    <tr>\n",
       "      <th>...</th>\n",
       "      <td>...</td>\n",
       "      <td>...</td>\n",
       "      <td>...</td>\n",
       "      <td>...</td>\n",
       "      <td>...</td>\n",
       "    </tr>\n",
       "    <tr>\n",
       "      <th>258</th>\n",
       "      <td>2021</td>\n",
       "      <td>2021-48</td>\n",
       "      <td>49.93</td>\n",
       "      <td>43.1</td>\n",
       "      <td>0.863208</td>\n",
       "    </tr>\n",
       "    <tr>\n",
       "      <th>259</th>\n",
       "      <td>2021</td>\n",
       "      <td>2021-49</td>\n",
       "      <td>43.1</td>\n",
       "      <td>39.75</td>\n",
       "      <td>0.922274</td>\n",
       "    </tr>\n",
       "    <tr>\n",
       "      <th>260</th>\n",
       "      <td>2021</td>\n",
       "      <td>2021-50</td>\n",
       "      <td>39.75</td>\n",
       "      <td>38.91</td>\n",
       "      <td>0.978868</td>\n",
       "    </tr>\n",
       "    <tr>\n",
       "      <th>261</th>\n",
       "      <td>2021</td>\n",
       "      <td>2021-51</td>\n",
       "      <td>38.91</td>\n",
       "      <td>38.03</td>\n",
       "      <td>0.977384</td>\n",
       "    </tr>\n",
       "    <tr>\n",
       "      <th>262</th>\n",
       "      <td>2021</td>\n",
       "      <td>2021-52</td>\n",
       "      <td>38.03</td>\n",
       "      <td>38.83</td>\n",
       "      <td>1.021036</td>\n",
       "    </tr>\n",
       "  </tbody>\n",
       "</table>\n",
       "<p>263 rows × 5 columns</p>\n",
       "</div>"
      ],
      "text/plain": [
       "     Year Year_Week Begin_Price Adj Close    Return\n",
       "0    2017   2017-01        6.36      4.99  0.784591\n",
       "1    2017   2017-02        4.99      4.62  0.925852\n",
       "2    2017   2017-03        4.62      4.79  1.036797\n",
       "3    2017   2017-04        4.79      4.94  1.031315\n",
       "4    2017   2017-05        4.94      5.03  1.018219\n",
       "..    ...       ...         ...       ...       ...\n",
       "258  2021   2021-48       49.93      43.1  0.863208\n",
       "259  2021   2021-49        43.1     39.75  0.922274\n",
       "260  2021   2021-50       39.75     38.91  0.978868\n",
       "261  2021   2021-51       38.91     38.03  0.977384\n",
       "262  2021   2021-52       38.03     38.83  1.021036\n",
       "\n",
       "[263 rows x 5 columns]"
      ]
     },
     "execution_count": 24,
     "metadata": {},
     "output_type": "execute_result"
    }
   ],
   "source": [
    "gme_returns"
   ]
  },
  {
   "cell_type": "markdown",
   "id": "b16722b9-20d1-41d5-9ae2-3544c7253afd",
   "metadata": {},
   "source": [
    "Note: 1 predictions are \"red\", so I need to invert the boolean mask to get 'green' predictions."
   ]
  },
  {
   "cell_type": "code",
   "execution_count": 25,
   "id": "74aa6b2c-3c7a-43f7-9460-4eb830de38bc",
   "metadata": {
    "tags": []
   },
   "outputs": [],
   "source": [
    "logreg_return = np.round(100*np.prod(\\\n",
    "    gme_returns[gme_returns.Year == 2021].Return.values[\\\n",
    "                                    np.ma.make_mask(y_pr,shrink=False)]),2)"
   ]
  },
  {
   "cell_type": "code",
   "execution_count": 26,
   "id": "9c3c4408-ab03-4c5f-9e84-b2efc0a473d4",
   "metadata": {
    "tags": []
   },
   "outputs": [],
   "source": [
    "buy_hold_return = np.round(100*\n",
    "    gme_returns[gme_returns.Year == 2021]['Adj Close'].values[-1]/\n",
    "    gme_returns[gme_returns.Year == 2021]['Begin_Price'].values[0])"
   ]
  },
  {
   "cell_type": "code",
   "execution_count": 27,
   "id": "8f378091-0b61-4bec-9caa-db315986d671",
   "metadata": {
    "tags": []
   },
   "outputs": [
    {
     "name": "stdout",
     "output_type": "stream",
     "text": [
      "$100 invested in GME at the beginning of 2021 would result in $44,369.46 by the end of 2021 if traded according to \"green\" predictions.  Admittedly, knowing return and volatility in advance is not possible in the real world.  The buy-and-hold strategy would have resuled in $824.0\n"
     ]
    }
   ],
   "source": [
    "print(f'$100 invested in GME at the beginning of 2021 would result in \\\n",
    "${logreg_return:,} by the end of 2021 if traded according to \"green\" \\\n",
    "predictions.  Admittedly, knowing return and volatility in advance is not \\\n",
    "possible in the real world.  The buy-and-hold strategy would have resuled in \\\n",
    "${buy_hold_return:,}')"
   ]
  },
  {
   "cell_type": "markdown",
   "id": "42853b13-ebc9-4575-8016-91bb42fd5bbb",
   "metadata": {},
   "source": [
    "### Spy logreg"
   ]
  },
  {
   "cell_type": "code",
   "execution_count": 28,
   "id": "6d47ad61-4574-40a2-b6a1-485146607eb6",
   "metadata": {
    "tags": []
   },
   "outputs": [],
   "source": [
    "spy_wr_v = pd.read_csv('./spy_weekly_return_volatility.csv')\n",
    "spy_wr_v = spy_wr_v[np.isin(spy_wr_v.Year.values,[2020,2021])]\n",
    "spy_wr_v['Labels'] = pd.read_csv('./spy_labels.csv', header=None)[0].values"
   ]
  },
  {
   "cell_type": "code",
   "execution_count": 29,
   "id": "61f73570-ddb2-44e8-a166-959821743c1f",
   "metadata": {
    "tags": []
   },
   "outputs": [],
   "source": [
    "X = spy_wr_v[['mean_return','volatility']].values\n",
    "y = spy_wr_v[['Labels']].values\n",
    "X_tr = scaler.transform(X_tr)\n",
    "X_te = scaler.transform(X_te)\n",
    "y = le.fit_transform(np.ravel(y))\n",
    "y = 1-y \n",
    "X_tr = X[spy_wr_v.Year == 2020]\n",
    "y_tr = y[spy_wr_v.Year == 2020]\n",
    "X_te = X[spy_wr_v.Year == 2021]\n",
    "y_te = y[spy_wr_v.Year == 2021]\n",
    "\n",
    "scaler = StandardScaler()\n",
    "scaler.fit(X_tr)\n",
    "X_tr = scaler.transform(X_tr)\n",
    "X_te = scaler.transform(X_te)\n"
   ]
  },
  {
   "cell_type": "code",
   "execution_count": 30,
   "id": "3f62058c-19ef-48b0-b8c1-c8f9953e64d7",
   "metadata": {
    "tags": []
   },
   "outputs": [
    {
     "data": {
      "text/plain": [
       "array(['Green', 'Red'], dtype=object)"
      ]
     },
     "execution_count": 30,
     "metadata": {},
     "output_type": "execute_result"
    }
   ],
   "source": [
    "le.classes_"
   ]
  },
  {
   "cell_type": "code",
   "execution_count": 31,
   "id": "fd49a1b7-574a-453c-a696-0f45da835d26",
   "metadata": {
    "tags": []
   },
   "outputs": [],
   "source": [
    "lr = LogisticRegression()"
   ]
  },
  {
   "cell_type": "code",
   "execution_count": 32,
   "id": "15be07c4-affd-461f-a752-5fe98b2869c9",
   "metadata": {
    "tags": []
   },
   "outputs": [
    {
     "data": {
      "text/html": [
       "<style>#sk-container-id-2 {color: black;}#sk-container-id-2 pre{padding: 0;}#sk-container-id-2 div.sk-toggleable {background-color: white;}#sk-container-id-2 label.sk-toggleable__label {cursor: pointer;display: block;width: 100%;margin-bottom: 0;padding: 0.3em;box-sizing: border-box;text-align: center;}#sk-container-id-2 label.sk-toggleable__label-arrow:before {content: \"▸\";float: left;margin-right: 0.25em;color: #696969;}#sk-container-id-2 label.sk-toggleable__label-arrow:hover:before {color: black;}#sk-container-id-2 div.sk-estimator:hover label.sk-toggleable__label-arrow:before {color: black;}#sk-container-id-2 div.sk-toggleable__content {max-height: 0;max-width: 0;overflow: hidden;text-align: left;background-color: #f0f8ff;}#sk-container-id-2 div.sk-toggleable__content pre {margin: 0.2em;color: black;border-radius: 0.25em;background-color: #f0f8ff;}#sk-container-id-2 input.sk-toggleable__control:checked~div.sk-toggleable__content {max-height: 200px;max-width: 100%;overflow: auto;}#sk-container-id-2 input.sk-toggleable__control:checked~label.sk-toggleable__label-arrow:before {content: \"▾\";}#sk-container-id-2 div.sk-estimator input.sk-toggleable__control:checked~label.sk-toggleable__label {background-color: #d4ebff;}#sk-container-id-2 div.sk-label input.sk-toggleable__control:checked~label.sk-toggleable__label {background-color: #d4ebff;}#sk-container-id-2 input.sk-hidden--visually {border: 0;clip: rect(1px 1px 1px 1px);clip: rect(1px, 1px, 1px, 1px);height: 1px;margin: -1px;overflow: hidden;padding: 0;position: absolute;width: 1px;}#sk-container-id-2 div.sk-estimator {font-family: monospace;background-color: #f0f8ff;border: 1px dotted black;border-radius: 0.25em;box-sizing: border-box;margin-bottom: 0.5em;}#sk-container-id-2 div.sk-estimator:hover {background-color: #d4ebff;}#sk-container-id-2 div.sk-parallel-item::after {content: \"\";width: 100%;border-bottom: 1px solid gray;flex-grow: 1;}#sk-container-id-2 div.sk-label:hover label.sk-toggleable__label {background-color: #d4ebff;}#sk-container-id-2 div.sk-serial::before {content: \"\";position: absolute;border-left: 1px solid gray;box-sizing: border-box;top: 0;bottom: 0;left: 50%;z-index: 0;}#sk-container-id-2 div.sk-serial {display: flex;flex-direction: column;align-items: center;background-color: white;padding-right: 0.2em;padding-left: 0.2em;position: relative;}#sk-container-id-2 div.sk-item {position: relative;z-index: 1;}#sk-container-id-2 div.sk-parallel {display: flex;align-items: stretch;justify-content: center;background-color: white;position: relative;}#sk-container-id-2 div.sk-item::before, #sk-container-id-2 div.sk-parallel-item::before {content: \"\";position: absolute;border-left: 1px solid gray;box-sizing: border-box;top: 0;bottom: 0;left: 50%;z-index: -1;}#sk-container-id-2 div.sk-parallel-item {display: flex;flex-direction: column;z-index: 1;position: relative;background-color: white;}#sk-container-id-2 div.sk-parallel-item:first-child::after {align-self: flex-end;width: 50%;}#sk-container-id-2 div.sk-parallel-item:last-child::after {align-self: flex-start;width: 50%;}#sk-container-id-2 div.sk-parallel-item:only-child::after {width: 0;}#sk-container-id-2 div.sk-dashed-wrapped {border: 1px dashed gray;margin: 0 0.4em 0.5em 0.4em;box-sizing: border-box;padding-bottom: 0.4em;background-color: white;}#sk-container-id-2 div.sk-label label {font-family: monospace;font-weight: bold;display: inline-block;line-height: 1.2em;}#sk-container-id-2 div.sk-label-container {text-align: center;}#sk-container-id-2 div.sk-container {/* jupyter's `normalize.less` sets `[hidden] { display: none; }` but bootstrap.min.css set `[hidden] { display: none !important; }` so we also need the `!important` here to be able to override the default hidden behavior on the sphinx rendered scikit-learn.org. See: https://github.com/scikit-learn/scikit-learn/issues/21755 */display: inline-block !important;position: relative;}#sk-container-id-2 div.sk-text-repr-fallback {display: none;}</style><div id=\"sk-container-id-2\" class=\"sk-top-container\"><div class=\"sk-text-repr-fallback\"><pre>LogisticRegression()</pre><b>In a Jupyter environment, please rerun this cell to show the HTML representation or trust the notebook. <br />On GitHub, the HTML representation is unable to render, please try loading this page with nbviewer.org.</b></div><div class=\"sk-container\" hidden><div class=\"sk-item\"><div class=\"sk-estimator sk-toggleable\"><input class=\"sk-toggleable__control sk-hidden--visually\" id=\"sk-estimator-id-2\" type=\"checkbox\" checked><label for=\"sk-estimator-id-2\" class=\"sk-toggleable__label sk-toggleable__label-arrow\">LogisticRegression</label><div class=\"sk-toggleable__content\"><pre>LogisticRegression()</pre></div></div></div></div></div>"
      ],
      "text/plain": [
       "LogisticRegression()"
      ]
     },
     "execution_count": 32,
     "metadata": {},
     "output_type": "execute_result"
    }
   ],
   "source": [
    "lr.fit(X_tr,y_tr)"
   ]
  },
  {
   "cell_type": "code",
   "execution_count": 33,
   "id": "01627056-1d4d-48b9-b65f-46dd56118699",
   "metadata": {
    "tags": []
   },
   "outputs": [],
   "source": [
    "coef = np.array(lr.coef_.flat)"
   ]
  },
  {
   "cell_type": "code",
   "execution_count": 34,
   "id": "6d2a61a8-79d9-4efe-bd32-78eb5841ff12",
   "metadata": {
    "tags": []
   },
   "outputs": [
    {
     "data": {
      "text/plain": [
       "array([0.09981525])"
      ]
     },
     "execution_count": 34,
     "metadata": {},
     "output_type": "execute_result"
    }
   ],
   "source": [
    "lr.intercept_"
   ]
  },
  {
   "cell_type": "code",
   "execution_count": 35,
   "id": "24f26a3a-15c2-4cdc-9c6a-09793fa00286",
   "metadata": {
    "tags": []
   },
   "outputs": [],
   "source": [
    "i = lr.intercept_[0]\n",
    "w_mr = coef[0]\n",
    "w_v = coef[1]"
   ]
  },
  {
   "cell_type": "code",
   "execution_count": 36,
   "id": "1750b7e3-66cd-4f77-9c01-128ffd588489",
   "metadata": {
    "tags": []
   },
   "outputs": [
    {
     "name": "stdout",
     "output_type": "stream",
     "text": [
      "In the equation for the log odds, the intercept is 0.10, the coefficient for mean_return is 3.07, and the coefficient for volatility is -0.28\n"
     ]
    }
   ],
   "source": [
    "print(f'In the equation for the log odds, the intercept is {i:.2f}, \\\n",
    "the coefficient for mean_return is {w_mr:.2f}, \\\n",
    "and the coefficient for volatility is {w_v:.2f}')"
   ]
  },
  {
   "cell_type": "markdown",
   "id": "234c86e3-3a74-4c36-af62-a48628ff829d",
   "metadata": {},
   "source": [
    "Intercept & coefficient interpretations:"
   ]
  },
  {
   "cell_type": "code",
   "execution_count": 37,
   "id": "122570b3-11b9-4730-873b-bfabb2d6093a",
   "metadata": {
    "tags": []
   },
   "outputs": [
    {
     "data": {
      "text/plain": [
       "array([21.49293903,  0.75457811])"
      ]
     },
     "execution_count": 37,
     "metadata": {},
     "output_type": "execute_result"
    }
   ],
   "source": [
    "np.e**coef"
   ]
  },
  {
   "cell_type": "code",
   "execution_count": 38,
   "id": "f203500b-ef2b-47fe-9c72-6ed3a862a749",
   "metadata": {
    "tags": []
   },
   "outputs": [
    {
     "name": "stdout",
     "output_type": "stream",
     "text": [
      "In the equation for the log odds, with mean return 0 and volatility 0, the odds of the week being labeled \"Green\" is 0.10 to one.  For every increase in mean return of 1, the odds of a \"Green\" label increases by 2049.29%. For every increase of one in volatility, the odds of a \"Green\" label increases by -24.54%\n"
     ]
    }
   ],
   "source": [
    "print(f'In the equation for the log odds, with mean return 0 and volatility 0, \\\n",
    "the odds of the week being labeled \"Green\" is {np.e**i -1:.2f} to one.  For every increase in\\\n",
    " mean return of 1, the odds of a \"Green\" label increases by {np.e**w_mr -1:.2%}.\\\n",
    " For every increase of one in volatility, the odds of a \"Green\" label increases\\\n",
    " by {np.e**w_v-1:.2%}')"
   ]
  },
  {
   "cell_type": "markdown",
   "id": "79cb5b6e-91d8-4ae8-a685-41429a2609ea",
   "metadata": {},
   "source": [
    "###### Q2 Year 2 accuracy"
   ]
  },
  {
   "cell_type": "code",
   "execution_count": 39,
   "id": "413e586e-2f34-4ee4-80dc-4b0be610ff6b",
   "metadata": {
    "tags": []
   },
   "outputs": [],
   "source": [
    "y_pr = lr.predict(X_te)"
   ]
  },
  {
   "cell_type": "code",
   "execution_count": 40,
   "id": "25a0d400-383a-46e2-a320-cd6c88932d8d",
   "metadata": {
    "tags": []
   },
   "outputs": [
    {
     "name": "stdout",
     "output_type": "stream",
     "text": [
      "accuracy: 96.15%\n"
     ]
    }
   ],
   "source": [
    "accuracy = lr.score(X_te,y_te)\n",
    "print(f'accuracy: {accuracy:.2%}')"
   ]
  },
  {
   "cell_type": "code",
   "execution_count": 41,
   "id": "041ff7b1-feca-4ed6-8317-7579b6503e37",
   "metadata": {
    "tags": []
   },
   "outputs": [
    {
     "data": {
      "text/plain": [
       "array([[19,  2],\n",
       "       [ 0, 31]])"
      ]
     },
     "execution_count": 41,
     "metadata": {},
     "output_type": "execute_result"
    }
   ],
   "source": [
    "confusion_matrix(y_te,y_pr)"
   ]
  },
  {
   "cell_type": "code",
   "execution_count": 42,
   "id": "250d5800-9a72-4e67-a83a-c5d7b4c8f30f",
   "metadata": {
    "tags": []
   },
   "outputs": [],
   "source": [
    "cm = confusion_matrix(y_te,y_pr)"
   ]
  },
  {
   "cell_type": "code",
   "execution_count": 43,
   "id": "93a4df1d-6ac5-4d00-b875-968d38fd6ddd",
   "metadata": {
    "tags": []
   },
   "outputs": [],
   "source": [
    "tpr = cm[1,1]/sum(cm[1,:])\n",
    "tnr = cm[0,0]/sum(cm[0,:])"
   ]
  },
  {
   "cell_type": "code",
   "execution_count": 44,
   "id": "f69e65f2-69ec-498b-9a9b-c123656dfa72",
   "metadata": {
    "tags": []
   },
   "outputs": [
    {
     "data": {
      "text/plain": [
       "array([[19,  2],\n",
       "       [ 0, 31]])"
      ]
     },
     "execution_count": 44,
     "metadata": {},
     "output_type": "execute_result"
    }
   ],
   "source": [
    "cm.view()"
   ]
  },
  {
   "cell_type": "code",
   "execution_count": 45,
   "id": "9c98954a-a998-4ccc-b915-dfdb8d2c54d0",
   "metadata": {
    "tags": []
   },
   "outputs": [
    {
     "name": "stdout",
     "output_type": "stream",
     "text": [
      "the tpr is 1.00 and the tnr is 0.90\n"
     ]
    }
   ],
   "source": [
    "print(f'the tpr is {tpr:.2f} and the tnr is {tnr:.2f}')"
   ]
  },
  {
   "cell_type": "code",
   "execution_count": 46,
   "id": "06936a9b-8ddf-4ef7-b1f2-e24be0f24690",
   "metadata": {
    "tags": []
   },
   "outputs": [],
   "source": [
    "def cum_return_factor(return_weeks):\n",
    "    return_factors = (return_weeks)\n",
    "    total_return_factor = np.prod(return_factors)\n",
    "    return total_return_factor"
   ]
  },
  {
   "cell_type": "code",
   "execution_count": 47,
   "id": "d9397bcf-057a-4a5e-9ce7-a703cf18b4e6",
   "metadata": {
    "tags": []
   },
   "outputs": [],
   "source": [
    "spy=pd.read_csv('./spy.csv')"
   ]
  },
  {
   "cell_type": "code",
   "execution_count": 48,
   "id": "0bd82a3c-9aa4-4603-8e65-02ec91468412",
   "metadata": {
    "tags": []
   },
   "outputs": [],
   "source": [
    "this_wk_last_wk = dict(zip(spy.Year_Week.unique()[1:], \n",
    "                           spy.Year_Week.unique()[:-1]))"
   ]
  },
  {
   "cell_type": "code",
   "execution_count": 49,
   "id": "37918157-a875-41fe-92d1-503f3d66fae3",
   "metadata": {
    "tags": []
   },
   "outputs": [],
   "source": [
    "spy_returns = trade_from_close_close(spy,this_wk_last_wk)"
   ]
  },
  {
   "cell_type": "markdown",
   "id": "dda46850-62c7-47b3-8066-3bc634ac67a0",
   "metadata": {},
   "source": [
    "Since Begin_price on day one here is so much higher than the first adjusted close.  Weeks two onwards use the prior week's adjusted close as the begin price and so don't have the same distortion."
   ]
  },
  {
   "cell_type": "code",
   "execution_count": 50,
   "id": "793aa914-7d66-4603-87c0-340abced2063",
   "metadata": {
    "tags": []
   },
   "outputs": [],
   "source": [
    "logreg_return = np.round(100*np.prod(\\\n",
    "    spy_returns[spy_returns.Year == 2021].Return.values[\\\n",
    "                                    np.ma.make_mask(y_pr,shrink=False)]),2)"
   ]
  },
  {
   "cell_type": "code",
   "execution_count": 51,
   "id": "3bdad8e3-adff-4f6a-b23d-9a57e6fb7b74",
   "metadata": {
    "tags": []
   },
   "outputs": [],
   "source": [
    "buy_hold_return = np.round(100*\n",
    "    spy_returns[spy_returns.Year == 2021]['Adj Close'].values[-1]/\n",
    "    spy_returns[spy_returns.Year == 2021]['Begin_Price'].values[0])"
   ]
  },
  {
   "cell_type": "code",
   "execution_count": 52,
   "id": "8aca051f-8ff3-4d3f-973b-9d915b2d55d7",
   "metadata": {
    "tags": []
   },
   "outputs": [
    {
     "name": "stdout",
     "output_type": "stream",
     "text": [
      "$100 invested in spy at the beginning of 2021 would result in $165.06 by the end of 2021 if traded according to \"green\" predictions.  Admittedly, knowing return and volatility in advance is not possible in the real world.  The buy-and-hold strategy would have resuled in $129.00\n"
     ]
    }
   ],
   "source": [
    "print(f'$100 invested in spy at the beginning of 2021 would result in \\\n",
    "${logreg_return:,} by the end of 2021 if traded according to \"green\" \\\n",
    "predictions.  Admittedly, knowing return and volatility in advance is not \\\n",
    "possible in the real world.  The buy-and-hold strategy would have resuled in \\\n",
    "${buy_hold_return:.2f}')"
   ]
  },
  {
   "cell_type": "markdown",
   "id": "9ca6cb83-e40e-49c2-b46c-47503feb77ed",
   "metadata": {
    "tags": []
   },
   "source": [
    "## KMeans"
   ]
  },
  {
   "cell_type": "markdown",
   "id": "325710c4-7e97-475d-8ace-4cf4a0534a40",
   "metadata": {},
   "source": [
    "Implement k-NN classifier For each week, your feature set is\n",
    "(µ, σ) for that week. Use your labels (you will have 52 labels\n",
    "per year for each week) from year 1 to train your classifier and\n",
    "predict labels for year 2."
   ]
  },
  {
   "cell_type": "markdown",
   "id": "5c36ebed-42fa-4583-a2ec-f1926a14a6a6",
   "metadata": {},
   "source": [
    "### GME"
   ]
  },
  {
   "cell_type": "code",
   "execution_count": 53,
   "id": "5616ed75-1584-437a-b1ce-300df5a6c6e9",
   "metadata": {
    "tags": []
   },
   "outputs": [],
   "source": [
    "gme_wr_v = pd.read_csv('./gme_weekly_return_volatility.csv')\n",
    "gme_wr_v = gme_wr_v[np.isin(gme_wr_v.Year.values,[2020,2021])]\n",
    "gme_wr_v['Labels'] = pd.read_csv('./gme_labels.csv', header=None)[0].values"
   ]
  },
  {
   "cell_type": "code",
   "execution_count": 54,
   "id": "21e92eea-ba8f-482c-ac75-30a528db22a8",
   "metadata": {
    "tags": []
   },
   "outputs": [],
   "source": [
    "X = gme_wr_v[['mean_return','volatility']].values\n",
    "y = gme_wr_v[['Labels']].values\n",
    "X_tr = scaler.transform(X_tr)\n",
    "X_te = scaler.transform(X_te)\n",
    "y = 1- le.fit_transform(np.ravel(y))\n",
    "X_tr = X[gme_wr_v.Year == 2020]\n",
    "y_tr = y[gme_wr_v.Year == 2020]\n",
    "X_te = X[gme_wr_v.Year == 2021]\n",
    "y_te = y[gme_wr_v.Year == 2021]\n",
    "\n",
    "scaler = StandardScaler()\n",
    "scaler.fit(X_tr)\n",
    "X_tr = scaler.transform(X_tr)\n",
    "X_te = scaler.transform(X_te)"
   ]
  },
  {
   "cell_type": "markdown",
   "id": "72b3345a-a6eb-4a34-b6e7-3159a93b4cd5",
   "metadata": {},
   "source": [
    "###### Q1. take k = 3, 5, 7, 9, 11. For each value of k compute the accuracy of your k-NN classifier on year 1 data. On x axis you plot k and on y-axis you plot accuracy. What is the optimal value of k for year 1?"
   ]
  },
  {
   "cell_type": "code",
   "execution_count": 55,
   "id": "c237cee6-94f9-4af8-98f0-8984dc62afd1",
   "metadata": {
    "tags": []
   },
   "outputs": [],
   "source": [
    "accuracies = []"
   ]
  },
  {
   "cell_type": "code",
   "execution_count": 56,
   "id": "ac47d5ca-eb05-4939-94d7-7cc591617b97",
   "metadata": {
    "tags": []
   },
   "outputs": [],
   "source": [
    "for k in range(3,12,2):\n",
    "    knn = KNeighborsClassifier(n_neighbors=k)\n",
    "    knn.fit(X_tr, y_tr)\n",
    "    pred_k = knn.predict(X_tr)\n",
    "    accuracies.append(np.mean(pred_k == y_tr))"
   ]
  },
  {
   "cell_type": "code",
   "execution_count": 57,
   "id": "a1443f16-512a-470f-a4a2-f61a08029a5d",
   "metadata": {
    "tags": []
   },
   "outputs": [
    {
     "data": {
      "text/plain": [
       "[0.9245283018867925,\n",
       " 0.9245283018867925,\n",
       " 0.9056603773584906,\n",
       " 0.8679245283018868,\n",
       " 0.8301886792452831]"
      ]
     },
     "execution_count": 57,
     "metadata": {},
     "output_type": "execute_result"
    }
   ],
   "source": [
    "accuracies"
   ]
  },
  {
   "cell_type": "code",
   "execution_count": 58,
   "id": "60d76b8b-9cab-4c85-bbc4-c4e4fda10209",
   "metadata": {
    "tags": []
   },
   "outputs": [
    {
     "data": {
      "text/plain": [
       "Text(0, 0.5, 'Accuracy')"
      ]
     },
     "execution_count": 58,
     "metadata": {},
     "output_type": "execute_result"
    },
    {
     "data": {
      "image/png": "[encoded data removed]",
      "text/plain": [
       "<Figure size 640x480 with 1 Axes>"
      ]
     },
     "metadata": {},
     "output_type": "display_data"
    }
   ],
   "source": [
    "plt.scatter(x=range(3,12,2), y = accuracies)\n",
    "for i, k in enumerate(range(3,12,2)):\n",
    "    plt.annotate(text = f\"{100*np.round(accuracies[i],2)}%\",\n",
    "             xy=(k,accuracies[i]),xytext=(-16,-11),\n",
    "                textcoords='offset points')\n",
    "plt.title(\"GME Year 1 KNN Accuracy\")\n",
    "plt.xticks(range(3,12,2))\n",
    "plt.xlabel('K Nearest Neighbors')\n",
    "plt.ylabel('Accuracy')"
   ]
  },
  {
   "cell_type": "markdown",
   "id": "c8fdd6de-52d7-4bad-9815-dcecae087e8f",
   "metadata": {},
   "source": [
    "###### Q2. use the optimal value of k from year 1 to predict labels for year 2. What is your accuracy?"
   ]
  },
  {
   "cell_type": "markdown",
   "id": "bfd9933b-1259-427d-bda1-424e265a999e",
   "metadata": {},
   "source": [
    "I'll use a k of 5, since k = 3 and k = 5 have the same y1 accuracy."
   ]
  },
  {
   "cell_type": "code",
   "execution_count": 59,
   "id": "cab2b1fe-f604-42ca-9f56-fd70d7246ce8",
   "metadata": {
    "tags": []
   },
   "outputs": [],
   "source": [
    "knn = KNeighborsClassifier(n_neighbors=5)\n",
    "knn.fit(X_tr,y_tr)\n",
    "pred_5 = knn.predict(X_te)\n",
    "accuracy = np.mean(np.equal(pred_5,y_te))"
   ]
  },
  {
   "cell_type": "code",
   "execution_count": 60,
   "id": "4fab81f1-91f6-4b46-8cc8-cdf13f966468",
   "metadata": {
    "tags": []
   },
   "outputs": [
    {
     "data": {
      "text/plain": [
       "0.865"
      ]
     },
     "execution_count": 60,
     "metadata": {},
     "output_type": "execute_result"
    }
   ],
   "source": [
    "np.round(accuracy,3)"
   ]
  },
  {
   "cell_type": "markdown",
   "id": "6627d5eb-750e-4ae4-a495-35c12fa6c011",
   "metadata": {},
   "source": [
    "The accuracy drops to 86.5% in y2 with the 5 neighbor knn classifier."
   ]
  },
  {
   "cell_type": "markdown",
   "id": "26167960-0921-46a4-9ff6-2d686cb5ad98",
   "metadata": {},
   "source": [
    "###### 3. using the optimal value for k from year 1, compute the confusion matrix for year 2"
   ]
  },
  {
   "cell_type": "code",
   "execution_count": 61,
   "id": "8230c2de-2cf0-4b0f-81d2-372ef63621b1",
   "metadata": {
    "tags": []
   },
   "outputs": [
    {
     "data": {
      "text/plain": [
       "array([[28,  6],\n",
       "       [ 1, 17]])"
      ]
     },
     "execution_count": 61,
     "metadata": {},
     "output_type": "execute_result"
    }
   ],
   "source": [
    "confusion_matrix(y_te, pred_5)"
   ]
  },
  {
   "cell_type": "markdown",
   "id": "8bfc7371-2e89-4345-96e1-0e9761c66cac",
   "metadata": {},
   "source": [
    "###### 4. what is true positive rate (sensitivity or recall) and true negative rate (specificity) for year 2?"
   ]
  },
  {
   "cell_type": "markdown",
   "id": "29550b80-749d-4227-bf8b-16347b00ab87",
   "metadata": {},
   "source": [
    "True positive rate is 17/18, and the true negative rate is 28/34"
   ]
  },
  {
   "cell_type": "markdown",
   "id": "ee92f790-c247-4b1c-b3fd-3e87cfddfecb",
   "metadata": {},
   "source": [
    "5. implement a trading strategy based on your labels for year2 and compare the performance with the ”buy-and-hold” strategy. Which strategy results in a larger amount at the end of the year?"
   ]
  },
  {
   "cell_type": "code",
   "execution_count": 62,
   "id": "10242116-1aea-4532-a279-a427a9cb39e3",
   "metadata": {
    "tags": []
   },
   "outputs": [],
   "source": [
    "gme_returns = trade_from_close_close(gme,this_wk_last_wk)"
   ]
  },
  {
   "cell_type": "code",
   "execution_count": 63,
   "id": "6b8ccb2e-db80-4ac6-9692-9fff02d175e1",
   "metadata": {
    "tags": []
   },
   "outputs": [],
   "source": [
    "knn_return = np.round(100*np.prod(\\\n",
    "    gme_returns[gme_returns.Year == 2021].Return.values[\\\n",
    "                                    ~np.ma.make_mask(pred_5,shrink=False)]),2)"
   ]
  },
  {
   "cell_type": "code",
   "execution_count": 64,
   "id": "f2adedd5-b582-45d7-885c-a8ac14f2fc71",
   "metadata": {
    "tags": []
   },
   "outputs": [],
   "source": [
    "buy_hold_return = np.round(100*\n",
    "    gme_returns[gme_returns.Year == 2021]['Adj Close'].values[-1]/\n",
    "    gme_returns[gme_returns.Year == 2021]['Begin_Price'].values[0])"
   ]
  },
  {
   "cell_type": "code",
   "execution_count": 65,
   "id": "eca66211-e816-4f17-8a6e-37bc70bb93cd",
   "metadata": {
    "tags": []
   },
   "outputs": [
    {
     "name": "stdout",
     "output_type": "stream",
     "text": [
      "$100 invested in gme at the beginning of 2021 would result in $1.8 by the end of 2021 if traded according to \"green\" predictions.  Admittedly, knowing return and volatility in advance is not possible in the real world.  The buy-and-hold strategy would have resuled in $824.0\n"
     ]
    }
   ],
   "source": [
    "print(f'$100 invested in gme at the beginning of 2021 would result in \\\n",
    "${knn_return:,} by the end of 2021 if traded according to \"green\" \\\n",
    "predictions.  Admittedly, knowing return and volatility in advance is not \\\n",
    "possible in the real world.  The buy-and-hold strategy would have resuled in \\\n",
    "${buy_hold_return:,}')"
   ]
  },
  {
   "cell_type": "markdown",
   "id": "a8f262e6-c991-462a-8c7b-9069d90d2547",
   "metadata": {},
   "source": [
    "### SPY"
   ]
  },
  {
   "cell_type": "code",
   "execution_count": 66,
   "id": "5f7f7d0c-0c93-43a9-ba38-e05bf696d558",
   "metadata": {
    "tags": []
   },
   "outputs": [],
   "source": [
    "X = spy_wr_v[['mean_return','volatility']].values\n",
    "y = spy_wr_v[['Labels']].values\n",
    "X_tr = scaler.transform(X_tr)\n",
    "X_te = scaler.transform(X_te)\n",
    "y = le.fit_transform(np.ravel(y))\n",
    "X_tr = X[spy_wr_v.Year == 2020]\n",
    "y_tr = y[spy_wr_v.Year == 2020]\n",
    "X_te = X[spy_wr_v.Year == 2021]\n",
    "y_te = y[spy_wr_v.Year == 2021]\n",
    "\n",
    "scaler = StandardScaler()\n",
    "scaler.fit(X_tr)\n",
    "X_tr = scaler.transform(X_tr)\n",
    "X_te = scaler.transform(X_te)"
   ]
  },
  {
   "cell_type": "markdown",
   "id": "5bd95378-2441-4583-ac08-7159642127c2",
   "metadata": {},
   "source": [
    "###### Q1. take k = 3, 5, 7, 9, 11. For each value of k compute the accuracy of your k-NN classifier on year 1 data. On x axis you plot k and on y-axis you plot accuracy. What is the optimal value of k for year 1?"
   ]
  },
  {
   "cell_type": "code",
   "execution_count": 67,
   "id": "7322d78c-5cde-4520-9838-dbd83ae30707",
   "metadata": {
    "tags": []
   },
   "outputs": [],
   "source": [
    "accuracies = []"
   ]
  },
  {
   "cell_type": "code",
   "execution_count": 68,
   "id": "49a1ba66-48e8-4a0c-bec2-27efa2da7efb",
   "metadata": {
    "tags": []
   },
   "outputs": [],
   "source": [
    "for k in range(3,18,2):\n",
    "    knn = KNeighborsClassifier(n_neighbors=k)\n",
    "    knn.fit(X_tr, y_tr)\n",
    "    pred_k = knn.predict(X_tr)\n",
    "    accuracies.append(np.mean(pred_k == y_tr))"
   ]
  },
  {
   "cell_type": "code",
   "execution_count": 69,
   "id": "33e42af7-a94c-4736-b087-ea0d7f87b8ff",
   "metadata": {
    "tags": []
   },
   "outputs": [
    {
     "data": {
      "text/plain": [
       "[0.9811320754716981,\n",
       " 0.9811320754716981,\n",
       " 0.9811320754716981,\n",
       " 0.9811320754716981,\n",
       " 0.9811320754716981,\n",
       " 0.9622641509433962,\n",
       " 0.9245283018867925,\n",
       " 0.9245283018867925]"
      ]
     },
     "execution_count": 69,
     "metadata": {},
     "output_type": "execute_result"
    }
   ],
   "source": [
    "accuracies"
   ]
  },
  {
   "cell_type": "code",
   "execution_count": 70,
   "id": "1dc32b77-4908-43f7-9be2-7811c45e3497",
   "metadata": {
    "tags": []
   },
   "outputs": [
    {
     "data": {
      "text/plain": [
       "Text(0, 0.5, 'Accuracy')"
      ]
     },
     "execution_count": 70,
     "metadata": {},
     "output_type": "execute_result"
    },
    {
     "data": {
      "image/png": "[encoded data removed]",
      "text/plain": [
       "<Figure size 640x480 with 1 Axes>"
      ]
     },
     "metadata": {},
     "output_type": "display_data"
    }
   ],
   "source": [
    "plt.scatter(x=range(3,18,2), y = accuracies)\n",
    "for i, k in enumerate(range(3,18,2)):\n",
    "    plt.annotate(text = f\"{np.round(100*accuracies[i],2)}%\",\n",
    "             xy=(k,accuracies[i]),xytext=(-16,-11),\n",
    "                textcoords='offset points')\n",
    "plt.title(\"SPY Year 1 KNN Accuracy\")\n",
    "plt.xticks(range(3,18,2))\n",
    "plt.xlabel('K Nearest Neighbors')\n",
    "plt.ylabel('Accuracy')"
   ]
  },
  {
   "cell_type": "markdown",
   "id": "5c865edf-c7b8-4c3d-8c21-01687ae47f6f",
   "metadata": {},
   "source": [
    "K values up to 17 to investigate possible error determining accuracy of 98.11"
   ]
  },
  {
   "cell_type": "markdown",
   "id": "26bff03e-cae4-4d6e-bb27-9ab59623fd8f",
   "metadata": {},
   "source": [
    "###### Q2. use the optimal value of k from year 1 to predict labels for year 2. What is your accuracy?"
   ]
  },
  {
   "cell_type": "markdown",
   "id": "9da5e9df-598f-4487-8c27-5f2ecb258696",
   "metadata": {},
   "source": [
    "I'll use a k of 5, since k = 3 and k = 5 have the same y1 accuracy."
   ]
  },
  {
   "cell_type": "code",
   "execution_count": 71,
   "id": "18439513-63fa-43f1-a9ef-836aea379ca4",
   "metadata": {
    "tags": []
   },
   "outputs": [],
   "source": [
    "knn = KNeighborsClassifier(n_neighbors=5)\n",
    "knn.fit(X_tr,y_tr)\n",
    "pred_5 = knn.predict(X_te)\n",
    "accuracy = np.mean(np.equal(pred_5,y_te))"
   ]
  },
  {
   "cell_type": "code",
   "execution_count": 72,
   "id": "00e288dc-bc15-469c-b2ca-4dbe0dfd4679",
   "metadata": {
    "tags": []
   },
   "outputs": [
    {
     "data": {
      "text/plain": [
       "0.981"
      ]
     },
     "execution_count": 72,
     "metadata": {},
     "output_type": "execute_result"
    }
   ],
   "source": [
    "np.round(accuracy,3)"
   ]
  },
  {
   "cell_type": "markdown",
   "id": "507cf1b4-a0cf-419c-b6c9-9162401d2bb0",
   "metadata": {},
   "source": [
    "The accuracy drops to 98.1% in y2 with the 5 neighbor knn classifier."
   ]
  },
  {
   "cell_type": "markdown",
   "id": "cc88d697-aa0b-4783-8d77-5bdb04883ca0",
   "metadata": {},
   "source": [
    "###### 3. using the optimal value for k from year 1, compute the confusion matrix for year 2"
   ]
  },
  {
   "cell_type": "code",
   "execution_count": 73,
   "id": "d110936f-08f0-4040-bb55-b6f50e43adf4",
   "metadata": {
    "tags": []
   },
   "outputs": [
    {
     "data": {
      "text/plain": [
       "array([[31,  0],\n",
       "       [ 1, 20]])"
      ]
     },
     "execution_count": 73,
     "metadata": {},
     "output_type": "execute_result"
    }
   ],
   "source": [
    "confusion_matrix(y_te, pred_5)"
   ]
  },
  {
   "cell_type": "markdown",
   "id": "5d26d6bb-66e8-4e7b-9202-2d65457c5d2c",
   "metadata": {},
   "source": [
    "###### 4. what is true positive rate (sensitivity or recall) and true negative rate (specificity) for year 2?"
   ]
  },
  {
   "cell_type": "markdown",
   "id": "5846ca78-126e-4f1a-af2b-9ace598ae744",
   "metadata": {},
   "source": [
    "True positive rate is 20/21, and the true negative rate is 31/31."
   ]
  },
  {
   "cell_type": "markdown",
   "id": "e5ec6121-b5c6-4649-9794-b3374d13bfda",
   "metadata": {},
   "source": [
    "5. implement a trading strategy based on your labels for year2 and compare the performance with the ”buy-and-hold” strategy. Which strategy results in a larger amount at the end of the year?"
   ]
  },
  {
   "cell_type": "code",
   "execution_count": 74,
   "id": "8e84255a-445c-4d8d-b4ab-f7904aa8d339",
   "metadata": {
    "tags": []
   },
   "outputs": [],
   "source": [
    "knn_return = np.round(100*np.prod(\\\n",
    "    spy_returns[spy_returns.Year == 2021].Return.values[\\\n",
    "                                    ~np.ma.make_mask(pred_5,shrink=False)]),2)"
   ]
  },
  {
   "cell_type": "code",
   "execution_count": 75,
   "id": "78c625f7-2664-4123-90f9-254ce835b189",
   "metadata": {
    "tags": []
   },
   "outputs": [],
   "source": [
    "buy_hold_return = np.round(100*\n",
    "    spy_returns[spy_returns.Year == 2021]['Adj Close'].values[-1]/\n",
    "    spy_returns[spy_returns.Year == 2021]['Begin_Price'].values[0])"
   ]
  },
  {
   "cell_type": "code",
   "execution_count": 76,
   "id": "a2f11eae-e25f-4f67-a4f1-4d31f5a12bcf",
   "metadata": {
    "tags": []
   },
   "outputs": [
    {
     "name": "stdout",
     "output_type": "stream",
     "text": [
      "$100 invested in spy at the beginning of 2021 would result in $163.66 by the end of 2021 if traded according to \"green\" predictions.  Admittedly, knowing return and volatility in advance is not possible in the real world.  The buy-and-hold strategy would have resulted in $129.0\n"
     ]
    }
   ],
   "source": [
    "print(f'$100 invested in spy at the beginning of 2021 would result in \\\n",
    "${knn_return:,} by the end of 2021 if traded according to \"green\" \\\n",
    "predictions.  Admittedly, knowing return and volatility in advance is not \\\n",
    "possible in the real world.  The buy-and-hold strategy would have resulted in \\\n",
    "${buy_hold_return:,}')"
   ]
  }
 ],
 "metadata": {
  "kernelspec": {
   "display_name": "Python 3 (ipykernel)",
   "language": "python",
   "name": "python3"
  },
  "language_info": {
   "codemirror_mode": {
    "name": "ipython",
    "version": 3
   },
   "file_extension": ".py",
   "mimetype": "text/x-python",
   "name": "python",
   "nbconvert_exporter": "python",
   "pygments_lexer": "ipython3",
   "version": "3.9.18"
  }
 },
 "nbformat": 4,
 "nbformat_minor": 5
}
