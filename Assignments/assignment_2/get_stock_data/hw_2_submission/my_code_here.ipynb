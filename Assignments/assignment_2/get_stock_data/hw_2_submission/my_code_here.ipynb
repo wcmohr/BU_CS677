{
 "cells": [
  {
   "cell_type": "code",
   "execution_count": 1,
   "id": "d2940006-1946-40db-a402-6bac44e6ba8f",
   "metadata": {
    "tags": [
     "Imports"
    ]
   },
   "outputs": [],
   "source": [
    "import seaborn as sns"
   ]
  },
  {
   "cell_type": "code",
   "execution_count": null,
   "id": "2b61a004-cc75-4ad9-b6ad-37d915bd4f68",
   "metadata": {},
   "outputs": [],
   "source": []
  },
  {
   "cell_type": "code",
   "execution_count": 2,
   "id": "7d96e0c8-3e95-44db-97b0-b2f3592b449d",
   "metadata": {},
   "outputs": [
    {
     "name": "stdout",
     "output_type": "stream",
     "text": [
      "[*********************100%%**********************]  1 of 1 completed\n",
      "read  1256  lines of data for ticker:  SPY\n",
      "wrote 1256 lines to file: /Users/williammohr/BostonUniversity/CS677/Assignments/assignment_2/get_stock_data/hw_2_submission/SPY.csv\n"
     ]
    }
   ],
   "source": [
    "# -*- coding: utf-8 -*-\n",
    "\"\"\"\n",
    "Created on Tue Sep  7 16:02:02 2021\n",
    "\n",
    "@author: epinsky\n",
    "\"\"\"\n",
    "\n",
    "# -*- coding: utf-8 -*-\n",
    "\"\"\"\n",
    "Created on Mon Nov  5 14:37:29 2018\n",
    "\n",
    "@author: epinsky\n",
    "\"\"\"\n",
    "\n",
    "# install yfinance version 0.1.62\n",
    "#   !pip install yfinance==0.1.62\n",
    "# run this  !pip install pandas_datareader\n",
    "from pandas_datareader import data as web\n",
    "import os\n",
    "import pandas as pd\n",
    "import yfinance as yf\n",
    "\n",
    "def get_stock(ticker, start_date, end_date, s_window, l_window):\n",
    "    try:\n",
    "#       yf.pdr_override()\n",
    "        df = yf.download(ticker, start=start_date, end=end_date)\n",
    "# can use this as well        df = web.get_data_yahoo(ticker, start=start_date, end=end_date)\n",
    "        df['Return'] = df['Adj Close'].pct_change()\n",
    "        df['Return'].fillna(0, inplace = True)\n",
    "        df['Date'] = df.index\n",
    "        df['Date'] = pd.to_datetime(df['Date'])\n",
    "        df['Month'] = df['Date'].dt.month\n",
    "        df['Year'] = df['Date'].dt.year \n",
    "        df['Day'] = df['Date'].dt.day\n",
    "        for col in ['Open', 'High', 'Low', 'Close', 'Adj Close']:\n",
    "            df[col] = df[col].round(2)\n",
    "        df['Weekday'] = df['Date'].dt.day_name()\n",
    "        df['Week_Number'] = df['Date'].dt.strftime('%U')\n",
    "        df['Year_Week'] = df['Date'].dt.strftime('%Y-%U')\n",
    "        df['Short_MA'] = df['Adj Close'].rolling(window=s_window, min_periods=1).mean()\n",
    "        df['Long_MA'] = df['Adj Close'].rolling(window=l_window, min_periods=1).mean()        \n",
    "        col_list = ['Date', 'Year', 'Month', 'Day', 'Weekday', \n",
    "                    'Week_Number', 'Year_Week', 'Open', \n",
    "                    'High', 'Low', 'Close', 'Volume', 'Adj Close',\n",
    "                    'Return', 'Short_MA', 'Long_MA']\n",
    "        num_lines = len(df)\n",
    "        df = df[col_list]\n",
    "        print('read ', num_lines, ' lines of data for ticker: ' , ticker)\n",
    "        return df\n",
    "    except Exception as error:\n",
    "        print(error)\n",
    "        return None\n",
    "\n",
    "try:\n",
    "    ticker='SPY'\n",
    "    input_dir = os.getcwd()\n",
    "    output_file = os.path.join(input_dir, ticker + '.csv')\n",
    "    df = get_stock(ticker, start_date='2018-09-01', end_date='2023-08-31', \n",
    "               s_window=14, l_window=50)\n",
    "    df.to_csv(output_file, index=False)\n",
    "    print('wrote ' + str(len(df)) + ' lines to file: ' + output_file)\n",
    "except Exception as e:\n",
    "    print(e)\n",
    "    print('failed to get Yahoo stock data for ticker: ', ticker)"
   ]
  },
  {
   "cell_type": "code",
   "execution_count": 3,
   "id": "6bd819f6-eec5-41d8-a109-46cd8d6af9fa",
   "metadata": {},
   "outputs": [
    {
     "name": "stdout",
     "output_type": "stream",
     "text": [
      "[*********************100%%**********************]  1 of 1 completed\n",
      "read  1256  lines of data for ticker:  GME\n",
      "wrote 1256 lines to file: /Users/williammohr/BostonUniversity/CS677/Assignments/assignment_2/get_stock_data/hw_2_submission/GME.csv\n"
     ]
    }
   ],
   "source": [
    "# -*- coding: utf-8 -*-\n",
    "\"\"\"\n",
    "Created on Tue Sep  7 16:02:02 2021\n",
    "\n",
    "@author: epinsky\n",
    "\"\"\"\n",
    "\n",
    "# -*- coding: utf-8 -*-\n",
    "\"\"\"\n",
    "Created on Mon Nov  5 14:37:29 2018\n",
    "\n",
    "@author: epinsky\n",
    "\"\"\"\n",
    "\n",
    "# install yfinance version 0.1.62\n",
    "#   !pip install yfinance==0.1.62\n",
    "# run this  !pip install pandas_datareader\n",
    "from pandas_datareader import data as web\n",
    "import os\n",
    "import pandas as pd\n",
    "import yfinance as yf\n",
    "\n",
    "\n",
    "try:\n",
    "    ticker='GME'\n",
    "    input_dir = os.getcwd()\n",
    "    output_file = os.path.join(input_dir, ticker + '.csv')\n",
    "    df = get_stock(ticker, start_date='2018-09-01', end_date='2023-08-31', \n",
    "               s_window=14, l_window=50)\n",
    "    df.to_csv(output_file, index=False)\n",
    "    print('wrote ' + str(len(df)) + ' lines to file: ' + output_file)\n",
    "except Exception as e:\n",
    "    print(e)\n",
    "    print('failed to get Yahoo stock data for ticker: ', ticker)"
   ]
  },
  {
   "cell_type": "markdown",
   "id": "a6f22981-8305-44c1-94bb-c246609284b9",
   "metadata": {
    "tags": []
   },
   "source": [
    "##### Import stock data"
   ]
  },
  {
   "cell_type": "code",
   "execution_count": 10,
   "id": "3ac30d72-6d01-4eca-bbae-8a1a8ca7f1d5",
   "metadata": {
    "tags": []
   },
   "outputs": [
    {
     "name": "stdout",
     "output_type": "stream",
     "text": [
      "[Errno 2] No such file or directory: '/Users/williammohr/BostonUniversity/CS677/assignment_2/get_stock_data/hw_2_submission/GME.csv'\n",
      "failed to read stock data for ticker:  GME\n"
     ]
    }
   ],
   "source": [
    "ticker='GME'\n",
    "input_dir = \\\n",
    "r'/Users/williammohr/BostonUniversity/CS677/assignment_2/get_stock_data/'\n",
    "ticker_file = os.path.join(input_dir, ticker + '.csv')\n",
    "\n",
    "try:   \n",
    "    with open(ticker_file) as f:\n",
    "        gme_lines = f.read().splitlines()\n",
    "    print('opened file for ticker: ', ticker)\n",
    "    \"\"\"    your code for assignment 1 goes here\n",
    "    \"\"\"\n",
    "    \n",
    "except Exception as e:\n",
    "    print(e)\n",
    "    print('failed to read stock data for ticker: ', ticker)\n",
    "\n"
   ]
  },
  {
   "cell_type": "code",
   "execution_count": 11,
   "id": "3325f33f-5446-4d50-904b-c2472d0be9fa",
   "metadata": {},
   "outputs": [
    {
     "ename": "NameError",
     "evalue": "name 'spy_lines' is not defined",
     "output_type": "error",
     "traceback": [
      "\u001b[0;31m---------------------------------------------------------------------------\u001b[0m",
      "\u001b[0;31mNameError\u001b[0m                                 Traceback (most recent call last)",
      "Cell \u001b[0;32mIn[11], line 1\u001b[0m\n\u001b[0;32m----> 1\u001b[0m \u001b[43mspy_lines\u001b[49m[\u001b[38;5;241m0\u001b[39m]\n",
      "\u001b[0;31mNameError\u001b[0m: name 'spy_lines' is not defined"
     ]
    }
   ],
   "source": [
    "spy_lines[0]"
   ]
  },
  {
   "cell_type": "code",
   "execution_count": 7,
   "id": "8c726ed6-b543-4383-8b33-e8dcf34764d2",
   "metadata": {},
   "outputs": [
    {
     "name": "stdout",
     "output_type": "stream",
     "text": [
      "[Errno 2] No such file or directory: './get_stock_data/hw_2_submission/SPY.csv'\n",
      "failed to read stock data for ticker:  SPY\n"
     ]
    }
   ],
   "source": [
    "ticker='SPY'\n",
    "input_dir = r'./get_stock_data/hw_2_submission'\n",
    "ticker_file = os.path.join(input_dir, ticker + '.csv')\n",
    "\n",
    "try:   \n",
    "    with open(ticker_file) as f:\n",
    "        spy_lines = f.read().splitlines()\n",
    "    print('opened file for ticker: ', ticker)\n",
    "    \"\"\"    your code for assignment 1 goes here\n",
    "    \"\"\"\n",
    "    \n",
    "except Exception as e:\n",
    "    print(e)\n",
    "    print('failed to read stock data for ticker: ', ticker)\n",
    "\n"
   ]
  },
  {
   "cell_type": "markdown",
   "id": "f67e23b1-5835-440f-ac51-8ec3e1b344a0",
   "metadata": {
    "tags": []
   },
   "source": [
    "1. if the Open price is higher than the ”Adj Close” price of yesterday (i.e. overnight return is positive) then you assume that the stock price will continue to increase during the day. Therefore, you buy $100 worth of shares at the ”Open” price and sell this number of shares at the end of the day (at adj close) to close your ”long” position. The number of shares will typically be fractional, like 1.12 or 0.89. Your profit/loss per share is (adj close - open).\n",
    "\n",
    "2. if the open price is lower than the ”Adj Close” price of yesterday (i.e. overnigh return is negative) then you assume that the stock price will continue to fall during the day. Therefore, you sell short $100 worth of shares at the ”Open” price and buy this same number of shares at the end of the day (at adj close price) to close your ”short” position. You profit loss per share is (open - adj close)\n",
    "\n",
    "3. unless the opening price equals yesterdays (adj) closing price, you will always day trade.  Assume in both cases (whether you establish a long or short position) that you have $100 to invest and you know the overnight returns. We ignore trading costs in our analysis.\n",
    "\n",
    "4. for every day that you trade, you are given $100 (regardless of your previous trading performance).\n",
    "\n",
    "5. finally, in your computation of percentages, number of shares, prices - round to 2 decimal points."
   ]
  },
  {
   "cell_type": "markdown",
   "id": "07c99fea-3cc8-489a-b2fe-928b50eb4385",
   "metadata": {},
   "source": [
    "Plan: loop through data from the second day to the last day. Compare adj_close to open_price.  If open_price_t1 > adj_close_t0, append 100*(adj_close_t1-open_price_t1)/open_price_t1.  Likewise, if open_price_t0 > adj_close_t1, append 100*(open_price_t1-adj_close_t0)/(open_price_t1)"
   ]
  },
  {
   "cell_type": "markdown",
   "id": "15caa4df-8986-4b01-ab18-56313e18bdd6",
   "metadata": {
    "tags": []
   },
   "source": [
    "##### Initial Formatting"
   ]
  },
  {
   "cell_type": "code",
   "execution_count": null,
   "id": "6a232d77-9fa7-47c5-8d1d-19b9f0d73349",
   "metadata": {},
   "outputs": [],
   "source": [
    "def get_daily_profits(prices,threshold):\n",
    "    \"\"\"args --> str: ticker of stock; float: proportion of stock change that\n",
    "    triggers a trade.\n",
    "    return --> list: tuples of date, profit, and position\"\"\"\n",
    "    daily_profits = \\\n",
    "    [(d[0],100/d[1]*(d[2]-d[1]),'long') \n",
    "     # profit is 100*(adj_close_t1 - open_t1)\n",
    "     if (d[1]>(prices[i][2] + prices[i][2]*threshold)) # if open_t1 g.t. adj_close_t0\n",
    "     else [(d[0],100/d[1]*(d[1]-d[2]),'short') \n",
    "           if ((prices[i][2]*(1-threshold))>d[1]) # if adj_close_t0 g.t. open_t1\n",
    "           else (d[0], 0,'no_trade')][0]\n",
    "     for i,d in enumerate(prices[1:])] \n",
    "        # begin trading on day2 based on d2 a.close\n",
    "    daily_profits = [tuple([\n",
    "    tuple([int(x) for x in \n",
    "           day[0].split(' ')[0].split('-')]), day[1], day[2]]) \n",
    "                     for day in daily_profits]\n",
    "    return daily_profits"
   ]
  },
  {
   "cell_type": "markdown",
   "id": "26e0864e-7424-471f-b5c5-439dfa9def4d",
   "metadata": {
    "tags": []
   },
   "source": [
    "###### gme"
   ]
  },
  {
   "cell_type": "markdown",
   "id": "08a5eb9b-a320-4b0e-96fb-e21ffdf4fdf2",
   "metadata": {},
   "source": [
    "1) Lines are initially a single string with comma separated values.  I need to convert each line to a list of values of the appropriate type."
   ]
  },
  {
   "cell_type": "code",
   "execution_count": null,
   "id": "1a67cfed-d9f0-4b4f-8b88-adcb2c54d1fb",
   "metadata": {},
   "outputs": [],
   "source": [
    "gme_lines[0]"
   ]
  },
  {
   "cell_type": "code",
   "execution_count": null,
   "id": "df8204ea-1673-4382-a945-e8e9bb1b92fa",
   "metadata": {},
   "outputs": [],
   "source": [
    "# Collect relevant indices\n",
    "relev_inxs = [gme_lines[0].split(',').index(x) \\\n",
    " for x in gme_lines[0].split(',')\\\n",
    "if x in ['Date','Open','Adj Close']\n",
    " ]"
   ]
  },
  {
   "cell_type": "markdown",
   "id": "83cefd73-8c0f-41c2-99ad-7719c72223cb",
   "metadata": {},
   "source": [
    "[0, 7, 12] is the list of relevant indices for momentum analysis purposes, corresponding to Date, Open, and Adj Close."
   ]
  },
  {
   "cell_type": "code",
   "execution_count": null,
   "id": "921e50f2-46f9-4605-af01-579e0df9b348",
   "metadata": {},
   "outputs": [],
   "source": [
    "gme_lines = [line.split(',') for line in gme_lines] # convert csv string to list"
   ]
  },
  {
   "cell_type": "code",
   "execution_count": null,
   "id": "08a5217d-a939-400e-be03-4a70a6d9ee41",
   "metadata": {},
   "outputs": [],
   "source": [
    "# collect relev. header vals\n",
    "headers = [header for inx,header in \n",
    "           enumerate(gme_lines.pop(0)) if inx in [0,7,12]]\n",
    "headers = ['_'.join(header_val.split(' ')) for header_val in headers] # concat."
   ]
  },
  {
   "cell_type": "code",
   "execution_count": null,
   "id": "fc531eed-3858-412f-926f-fa35eab5ad53",
   "metadata": {},
   "outputs": [],
   "source": [
    "gme_prices = [\n",
    "    [val if inx==0 else float(val) # convert open, adj_close to floats\n",
    "  for inx,val in enumerate(\n",
    "      [val for inx,val in enumerate(line) # keep Date, Open, and Adj_\n",
    "       if inx in relev_inxs])] \n",
    "    for line in gme_lines\n",
    "]"
   ]
  },
  {
   "cell_type": "code",
   "execution_count": null,
   "id": "9d4163fd-4be0-4122-9e02-85bca0e7b3f7",
   "metadata": {
    "tags": []
   },
   "outputs": [],
   "source": [
    "gme_daily_profits = get_daily_profits(gme_prices,0)"
   ]
  },
  {
   "cell_type": "markdown",
   "id": "8edc9980-d5f1-4d95-96f0-014c900f1f92",
   "metadata": {
    "tags": []
   },
   "source": [
    "###### spy"
   ]
  },
  {
   "cell_type": "markdown",
   "id": "2d8c1769-3440-4da3-8d93-e9e17b6da41a",
   "metadata": {},
   "source": [
    "1) Lines are initially a single string with comma separated values.  I need to convert each line to a list of values of the appropriate type."
   ]
  },
  {
   "cell_type": "code",
   "execution_count": null,
   "id": "3e550113-11d4-4d0a-9950-612c5ca76b50",
   "metadata": {},
   "outputs": [],
   "source": [
    "spy_lines[0]"
   ]
  },
  {
   "cell_type": "code",
   "execution_count": null,
   "id": "2f1da6c0-417e-414d-9865-46ee9ae54f9e",
   "metadata": {},
   "outputs": [],
   "source": [
    "# Collect relevant indices\n",
    "relev_inxs = [spy_lines[0].split(',').index(x) \\\n",
    " for x in spy_lines[0].split(',')\\\n",
    "if x in ['Date','Open','Adj Close']\n",
    " ]"
   ]
  },
  {
   "cell_type": "markdown",
   "id": "85f0e6b8-ed80-45f5-b66e-af2a953e51ce",
   "metadata": {},
   "source": [
    "[0, 7, 12] is the list of relevant indices for momentum analysis purposes, corresponding to Date, Open, and Adj Close."
   ]
  },
  {
   "cell_type": "code",
   "execution_count": null,
   "id": "bb0988ea-07ff-468f-846f-b4291c44683d",
   "metadata": {},
   "outputs": [],
   "source": [
    "spy_lines = [line.split(',') for line in spy_lines] # convert csv string to list"
   ]
  },
  {
   "cell_type": "code",
   "execution_count": null,
   "id": "abb3de8a-cd95-4046-973c-4f6635e9823f",
   "metadata": {},
   "outputs": [],
   "source": [
    "# collect relev. header vals\n",
    "headers = [header for inx,header in \n",
    "           enumerate(spy_lines.pop(0)) if inx in [0,7,12]]\n",
    "headers = ['_'.join(header_val.split(' ')) for header_val in headers] # concat."
   ]
  },
  {
   "cell_type": "code",
   "execution_count": null,
   "id": "7af7d72d-4ab4-4796-9ee3-b27303796696",
   "metadata": {},
   "outputs": [],
   "source": [
    "spy_prices = [\n",
    "    [val if inx==0 else float(val) # convert open, adj_close to floats\n",
    "  for inx,val in enumerate(\n",
    "      [val for inx,val in enumerate(line) # keep Date, Open, and Adj_\n",
    "       if inx in relev_inxs])] \n",
    "    for line in spy_lines\n",
    "]"
   ]
  },
  {
   "cell_type": "code",
   "execution_count": null,
   "id": "88b94e13-a197-4411-a9db-89349b6f1ad8",
   "metadata": {
    "tags": []
   },
   "outputs": [],
   "source": [
    "spy_daily_profits = get_daily_profits(spy_prices, 0)"
   ]
  },
  {
   "cell_type": "markdown",
   "id": "e3b79eb5-97cc-4321-9cf0-567626df5e58",
   "metadata": {},
   "source": [
    "##### Profit Analysis"
   ]
  },
  {
   "cell_type": "markdown",
   "id": "db00a336-36e3-4d73-8bb8-ffb953678678",
   "metadata": {},
   "source": [
    "For a particular time period (e.g. year): \n",
    "\n",
    "Statistic         | Definition\n",
    "------------------|--------------------------------------------------------\n",
    " \\|S\\|            | number of days when a short position was taken\n",
    " \\|L\\|            | number of days when a long position was taken\n",
    " \\|S+L\\|          | number of days when either a long or short position was taken\n",
    " P(S)             | total profit/loss for 'short' days\n",
    " P(S) / \\|S\\|     | avg daily profit for 'short position' days\n",
    " P(L) / \\|L\\|     | avg daily profit for 'long position' days\n",
    " P(S+L) / \\|S+L\\| | avg daily profit for trading days"
   ]
  },
  {
   "cell_type": "markdown",
   "id": "62b1b594-1182-4f62-90e7-aee5ac61c1d0",
   "metadata": {
    "tags": []
   },
   "source": [
    "###### Trading statistics functions"
   ]
  },
  {
   "cell_type": "code",
   "execution_count": null,
   "id": "f82ead0f-c2a3-4ebb-80f9-143394cffe9d",
   "metadata": {},
   "outputs": [],
   "source": [
    "def short_days(time_period):\n",
    "    \"\"\"arg: a list of profit data-tuples, i.e. (date,profit,position)\n",
    "    return: integer |S|\"\"\"\n",
    "    return sum([1 for day in time_period if day[2] == 'short'])"
   ]
  },
  {
   "cell_type": "code",
   "execution_count": null,
   "id": "440423c2-6088-43f3-83fc-e7a9829cee27",
   "metadata": {},
   "outputs": [],
   "source": [
    "def short_profit(time_period):\n",
    "    \"\"\"arg: a list of profit data-tuples, i.e. (date,profit,position)\n",
    "    return: float P(S) rounded to 2 decimal places\"\"\"\n",
    "    return round(sum([day[1] for day in time_period if day[2] == 'short']),2)"
   ]
  },
  {
   "cell_type": "code",
   "execution_count": null,
   "id": "7281c67a-2019-40cc-8c2c-529ca32f3c6b",
   "metadata": {},
   "outputs": [],
   "source": [
    "def short_profit_mean(time_period):\n",
    "    \"\"\"arg: a list of profit data-tuples, i.e. (date,profit,position)\n",
    "    return: float P(S)/|S| rounded to 2 decimal places\"\"\"\n",
    "    return round(short_profit(time_period)/short_days(time_period),2)"
   ]
  },
  {
   "cell_type": "code",
   "execution_count": null,
   "id": "528dfd26-59e1-4141-b60a-17fae5ee03f9",
   "metadata": {},
   "outputs": [],
   "source": [
    "def long_days(time_period):\n",
    "    \"\"\"arg: a list of profit data-tuples, i.e. (date,profit,position)\n",
    "    return: integer |L|\"\"\"\n",
    "    return sum([1 for day in time_period if day[2] == 'long'])"
   ]
  },
  {
   "cell_type": "code",
   "execution_count": null,
   "id": "0bafacaa-084b-4600-8a29-482bb523950d",
   "metadata": {},
   "outputs": [],
   "source": [
    "def long_profit(time_period):\n",
    "    \"\"\"arg: a list of profit data-tuples, i.e. (date,profit,position)\n",
    "    return: float P(L) rounded to 2 decimal places\"\"\"\n",
    "    return round(sum([day[1] for day in time_period if day[2] == 'long']),2)"
   ]
  },
  {
   "cell_type": "code",
   "execution_count": null,
   "id": "eed83f30-ddbe-43fd-a9b5-4a4c43e0a88a",
   "metadata": {},
   "outputs": [],
   "source": [
    "def long_profit_mean(time_period):\n",
    "    \"\"\"arg: a list of profit data-tuples, i.e. (date,profit,position)\n",
    "    return: float P(L)/|L| rounded to 2 decimal places\"\"\"\n",
    "    return round(long_profit(time_period)/long_days(time_period),2)"
   ]
  },
  {
   "cell_type": "code",
   "execution_count": null,
   "id": "f7ec4979-65a3-4712-8669-99c38bec1057",
   "metadata": {},
   "outputs": [],
   "source": [
    "def trading_days(time_period):\n",
    "    \"\"\"arg: a list of profit data-tuples, i.e. (date,profit,position)\n",
    "    return: integer |S+L|\"\"\"\n",
    "    return sum([1 for day in time_period if day[2] in ('long','short')])"
   ]
  },
  {
   "cell_type": "code",
   "execution_count": null,
   "id": "a2011eb7-33ac-452b-8d8c-6ec9fe72b039",
   "metadata": {},
   "outputs": [],
   "source": [
    "def total_profit(time_period):\n",
    "    \"\"\"arg: a list of profit data-tuples, i.e. (date,profit,position)\n",
    "    return: float P(S+L) rounded to 2 decimal places\"\"\"\n",
    "    return round(sum([day[1] for day in time_period]),2)"
   ]
  },
  {
   "cell_type": "code",
   "execution_count": null,
   "id": "69bc41b4-0b66-4541-8553-438a16b40b58",
   "metadata": {},
   "outputs": [],
   "source": [
    "def total_profit_mean(time_period):\n",
    "    \"\"\"arg: a list of profit data-tuples, i.e. (date,profit,position)\n",
    "    return: float P(S+L)/|S+L| rounded to 2 decimal places\"\"\"\n",
    "    return round(total_profit(time_period)/trading_days(time_period),2)"
   ]
  },
  {
   "cell_type": "code",
   "execution_count": null,
   "id": "73c382aa-97cf-44de-892f-c23f5a5b8a59",
   "metadata": {},
   "outputs": [],
   "source": [
    "b = ['a']"
   ]
  },
  {
   "cell_type": "code",
   "execution_count": null,
   "id": "d74ad09b-a05a-4611-8b21-3ff95918f8e3",
   "metadata": {},
   "outputs": [],
   "source": [
    "b.append(['c'])"
   ]
  },
  {
   "cell_type": "code",
   "execution_count": null,
   "id": "a9b2d106-689d-44eb-b735-4fbf21caee86",
   "metadata": {},
   "outputs": [],
   "source": [
    "def trading_stats(trading_periods):\n",
    "    \"\"\"arg: a list of lists of tuples containing trading data (date,profit,position)\n",
    "    return: a year-by-year list of (|S|, P(S), P(S)/|S|, |L|, P(L), P(L)/|L|,\n",
    "    |S+L|, P(S+L), P(S+L)/|S+L|\"\"\"\n",
    "    stats = []\n",
    "    for p in trading_periods:\n",
    "        try:\n",
    "            spm = short_profit_mean(p)\n",
    "        except ZeroDivisionError:\n",
    "            spm = 0\n",
    "        try:\n",
    "            lpm = long_profit_mean(p)\n",
    "        except ZeroDivisionError:\n",
    "            lpm = 0           \n",
    "        stats = stats + [(short_days(p), short_profit(p),\n",
    "               spm, long_days(p), long_profit(p), lpm, trading_days(p),\n",
    "               total_profit(p), total_profit_mean(p))]\n",
    "        \n",
    "    return stats"
   ]
  },
  {
   "cell_type": "markdown",
   "id": "993b9b06-886d-4db6-ba18-6d45d95204d7",
   "metadata": {
    "tags": []
   },
   "source": [
    "##### Split profit data into yearly intervals"
   ]
  },
  {
   "cell_type": "markdown",
   "id": "5cbd7e3b-4b86-4f02-ba69-58c286e45934",
   "metadata": {},
   "source": [
    "I'll use the property that for every date d0 with year d0_y, month d0_m, day d0_d  prior to any other date with yyyy, mm, dd being respectively d1_y, d1_m, d1_d the following holds:\n",
    "\n",
    "d1_y*2080 + d1_m*32 + d1_d > d0_y*2080 + d0_m*32 + d0_d\n",
    "\n",
    "Thus, I can pop the first day's data while (d1_y*2080 + d1_m*32 + d1_d) < (d0_y*2080 + d0_m*32 + d0_d + (d1_y-d0_y)*2080)"
   ]
  },
  {
   "cell_type": "code",
   "execution_count": null,
   "id": "fd09aa84-00a5-4208-b199-7a3dd18f0bb0",
   "metadata": {},
   "outputs": [],
   "source": [
    "def date_transform(date):\n",
    "    \"\"\"arg: date as tuple of ints (YYYY,MM,DD) \n",
    "    return: date transformed into int by multiplying year by 2080, month by 32,\n",
    "    day by 1, and summing\"\"\"\n",
    "    transform_factors = [2080,40,1]\n",
    "    return sum([i*j for i,j in zip(date,transform_factors)])"
   ]
  },
  {
   "cell_type": "code",
   "execution_count": null,
   "id": "70891d25-2a85-4630-b45f-965e95029229",
   "metadata": {},
   "outputs": [],
   "source": [
    "def five_years(original_trading_data,ticker):\n",
    "    \"\"\"arg: 5 years of data; ticker string, i.e. 'SPY'\n",
    "    return: list of data chopped into yearly periods\"\"\"\n",
    "    \n",
    "    evaporating_data = [td for td in original_trading_data]\n",
    "    ticker = ticker.lower()\n",
    "    years = [1,2,3,4]\n",
    "    d0 = date_transform(original_trading_data[0][0])\n",
    "    d0_transformed = date_transform(evaporating_data[0][0])\n",
    "    for year in years:\n",
    "        placeholder = f'{ticker}_{year}'\n",
    "        globals()[placeholder] = [evaporating_data.pop(0) for _ in \n",
    "                                 evaporating_data \n",
    "                                if  date_transform(evaporating_data[0][0]) < \n",
    "                                 d0+year*2080]\n",
    "    placeholder = f'{ticker}_5'\n",
    "    globals()[placeholder]=evaporating_data\n",
    "    placeholder = f'{ticker}_1_5'\n",
    "    globals()[placeholder] = [td for td in original_trading_data] # all years    \n",
    "    # split_yearly = eval(f'[{ticker}_{year} for year in years]')\n",
    "    print(f'{ticker}_year, i.e {ticker}_1, {ticker}_2, ... {ticker}_5,\\\n",
    " {ticker}_1_5 are now in the local namespace.')"
   ]
  },
  {
   "cell_type": "markdown",
   "id": "eea8c627-7062-40c5-9431-6657dcba9ef4",
   "metadata": {
    "tags": []
   },
   "source": [
    "###### GME"
   ]
  },
  {
   "cell_type": "code",
   "execution_count": null,
   "id": "6cd61eee-f837-4ef3-a246-ca5f3f3a0912",
   "metadata": {},
   "outputs": [],
   "source": [
    "five_years(gme_daily_profits,'gme')"
   ]
  },
  {
   "cell_type": "markdown",
   "id": "2552e1e8-83cf-47cb-853a-d89584039c79",
   "metadata": {},
   "source": [
    "verify that the year separations are correct"
   ]
  },
  {
   "cell_type": "code",
   "execution_count": null,
   "id": "c4cb3cb5-8766-4e8f-a0c0-08c69cb88266",
   "metadata": {},
   "outputs": [],
   "source": [
    "print('{},{},{},{},{},{},{},{},{},{},{},{}'.format(gme_1[0][0],gme_1[-1][0],\n",
    "                                    gme_2[0][0],gme_2[-1][0],gme_3[0][0],\n",
    "                                    gme_3[-1][0],gme_4[0][0],gme_4[-1][0],\n",
    "                                    gme_5[0][0],gme_5[-1][0],gme_1_5[0][0], \n",
    "                                    gme_1_5[-1][0]\n",
    "                                   ))"
   ]
  },
  {
   "cell_type": "code",
   "execution_count": null,
   "id": "1ef5ab68-c00b-430b-98dc-67ef94c5f365",
   "metadata": {},
   "outputs": [],
   "source": [
    "len(gme_daily_profits)"
   ]
  },
  {
   "cell_type": "code",
   "execution_count": null,
   "id": "6ae668d8-e13a-467b-825c-fc7be80d13c1",
   "metadata": {},
   "outputs": [],
   "source": [
    "sum([len(p) for p in [gme_1,gme_2,gme_3,gme_4,gme_5]])"
   ]
  },
  {
   "cell_type": "code",
   "execution_count": null,
   "id": "a6552148-fc29-4ca2-8eb3-fa4c8efd6baa",
   "metadata": {
    "tags": []
   },
   "outputs": [],
   "source": [
    "gme_5"
   ]
  },
  {
   "cell_type": "markdown",
   "id": "d2f47e54-999e-4f33-bc11-f746a87d6faa",
   "metadata": {},
   "source": [
    "No missing vals. Hurray!"
   ]
  },
  {
   "cell_type": "code",
   "execution_count": null,
   "id": "46c0ea18-19c2-4867-8ec4-f298f296908a",
   "metadata": {},
   "outputs": [],
   "source": [
    "[len(p) for p in [gme_1,gme_2,gme_3,gme_4,gme_5,gme_1_5]]"
   ]
  },
  {
   "cell_type": "markdown",
   "id": "2eddb251-32a6-490c-8e6c-079abb154d45",
   "metadata": {},
   "source": [
    "~ 252 trading days per year.  Hurray!"
   ]
  },
  {
   "cell_type": "markdown",
   "id": "cca5f294-2ba4-466a-b55c-dcfd7641c526",
   "metadata": {
    "tags": []
   },
   "source": [
    "###### SPY"
   ]
  },
  {
   "cell_type": "code",
   "execution_count": null,
   "id": "572c0fa8-b398-4ea8-8b37-b17fd7ab0deb",
   "metadata": {},
   "outputs": [],
   "source": [
    "five_years(spy_daily_profits,'spy')"
   ]
  },
  {
   "cell_type": "markdown",
   "id": "70e26192-36e7-4a24-ae79-793e067eaee1",
   "metadata": {},
   "source": [
    "verify that the year separations are correct"
   ]
  },
  {
   "cell_type": "code",
   "execution_count": null,
   "id": "446da691-afca-473f-80db-d3cb7283bb19",
   "metadata": {},
   "outputs": [],
   "source": [
    "len(spy_daily_profits)"
   ]
  },
  {
   "cell_type": "code",
   "execution_count": null,
   "id": "7e1a287f-3902-40d2-9d71-329daa64daf1",
   "metadata": {},
   "outputs": [],
   "source": [
    "print('{},{},{},{},{},{},{},{},{},{}'.format(spy_1[0][0],spy_1[-1][0],\n",
    "                                    spy_2[0][0],spy_2[-1][0],spy_3[0][0],\n",
    "                                    spy_3[-1][0],spy_4[0][0],spy_4[-1][0],\n",
    "                                    spy_5[0][0],spy_5[-1][0]\n",
    "                                   ))"
   ]
  },
  {
   "cell_type": "code",
   "execution_count": null,
   "id": "b8a03f17-29d7-4c26-9873-50b62db691c5",
   "metadata": {},
   "outputs": [],
   "source": [
    "[len(p) for p in [spy_1,spy_2,spy_3,spy_4,spy_5]]"
   ]
  },
  {
   "cell_type": "markdown",
   "id": "53bf270b-691b-41fd-8e63-db71e8cd3940",
   "metadata": {},
   "source": [
    "~252 trades per day.  Hurray!"
   ]
  },
  {
   "cell_type": "markdown",
   "id": "aa336e6f-5a93-4806-aba9-8ac2d5ec7e08",
   "metadata": {},
   "source": [
    "No missing vals. Hurray!"
   ]
  },
  {
   "cell_type": "code",
   "execution_count": null,
   "id": "8e09868b-4ebe-404d-8594-9ea48c2b7169",
   "metadata": {},
   "outputs": [],
   "source": [
    "print('{},{},{},{},{},{},{},{},{},{},{},{}'.format(spy_1[0][0],spy_1[-1][0],\n",
    "                                    spy_2[0][0],spy_2[-1][0],spy_3[0][0],\n",
    "                                    spy_3[-1][0],spy_4[0][0],spy_4[-1][0],\n",
    "                                    spy_5[0][0],spy_5[-1][0],spy_1_5[0][0], \n",
    "                                    spy_1_5[-1][0]\n",
    "                                   ))"
   ]
  },
  {
   "cell_type": "code",
   "execution_count": null,
   "id": "e516c0c0-dba5-451e-a9f1-29c60b14652c",
   "metadata": {},
   "outputs": [],
   "source": [
    "sum([len(p) for p in [spy_1,spy_2,spy_3,spy_4,spy_5]])"
   ]
  },
  {
   "cell_type": "markdown",
   "id": "bdb6903d-e8e9-431f-8299-26623389fdd4",
   "metadata": {},
   "source": [
    "No missing vals. Hurray!"
   ]
  },
  {
   "cell_type": "code",
   "execution_count": null,
   "id": "bc5ae059-003a-402b-ba61-d931d60aaff6",
   "metadata": {},
   "outputs": [],
   "source": [
    "[len(p) for p in [spy_1,spy_2,spy_3,spy_4,spy_5,spy_1_5]]"
   ]
  },
  {
   "cell_type": "markdown",
   "id": "c032b7a5-8be0-4654-b5a3-9355d04ee150",
   "metadata": {},
   "source": [
    "~ 252 trading days per year.  Hurray!"
   ]
  },
  {
   "cell_type": "markdown",
   "id": "c6e80924-e2f0-45b3-94c0-155fafdac67b",
   "metadata": {
    "tags": []
   },
   "source": [
    "##### stock metrics"
   ]
  },
  {
   "cell_type": "code",
   "execution_count": null,
   "id": "2cf9c345-4038-4514-81eb-640536ec3747",
   "metadata": {},
   "outputs": [],
   "source": [
    "def markdown_table(stats):\n",
    "    headers = ['Year', '|S|', 'P(S)', 'P(S)/|S|',\n",
    "               '|L|', 'P(L)','P(L)/|L|','|S+L|', 'P(S+L)', 'P(S+L)/|S+L|']\n",
    "    w_year = [val for (y,s) in \n",
    "        zip(['1','2','3','4','5','1_5'], [list(tup) for tup in stats]) for val in (y,s)]\n",
    "    w_year_all_list = [[val] if type(val) != list else val for val in w_year]\n",
    "    w_year_flat = [val for val_list in w_year_all_list for val in val_list]\n",
    "    flattened_stats = headers + [v if type(v)==str else str(v) for v in w_year_flat]\n",
    "    print(\"\\n\\\n",
    "    {:5s} | {:4s} | {:8s} | {:8s} | {:4s} | {:8s} | {:8s} | {:5s} | {:6s} | {:12s}\\n\\\n",
    "    ------------------------------------------------------------------------------------------------\\n\\\n",
    "    {:5s} | {:4s} | {:8s} | {:8s} | {:4s} | {:8s} | {:8s} | {:5s} | {:6s} | {:12s}\\n\\\n",
    "    {:5s} | {:4s} | {:8s} | {:8s} | {:4s} | {:8s} | {:8s} | {:5s} | {:6s} | {:12s}\\n\\\n",
    "    {:5s} | {:4s} | {:8s} | {:8s} | {:4s} | {:8s} | {:8s} | {:5s} | {:6s} | {:12s}\\n\\\n",
    "    {:5s} | {:4s} | {:8s} | {:8s} | {:4s} | {:8s} | {:8s} | {:5s} | {:6s} | {:12s}\\n\\\n",
    "    {:5s} | {:4s} | {:8s} | {:8s} | {:4s} | {:8s} | {:8s} | {:5s} | {:6s} | {:12s}\\n\\\n",
    "    {:5s} | {:4s} | {:8s} | {:8s} | {:4s} | {:8s} | {:8s} | {:5s} | {:6s} | {:12s}\".format(*flattened_stats))"
   ]
  },
  {
   "cell_type": "code",
   "execution_count": null,
   "id": "6ca94174-641e-4cb0-9f13-2b241ef22854",
   "metadata": {},
   "outputs": [],
   "source": [
    "trading_stats([gme_daily_profits])"
   ]
  },
  {
   "cell_type": "code",
   "execution_count": null,
   "id": "9372f1ef-2876-4ac0-aeaa-4b4ca2e22c75",
   "metadata": {},
   "outputs": [],
   "source": [
    "trading_stats([spy_daily_profits])"
   ]
  },
  {
   "cell_type": "markdown",
   "id": "992d041b-8a03-4380-9e3a-27d255a550f4",
   "metadata": {
    "tags": []
   },
   "source": [
    "###### GME Statistics"
   ]
  },
  {
   "cell_type": "code",
   "execution_count": null,
   "id": "e3658999-899f-4d8d-80e4-ec2fc653665d",
   "metadata": {},
   "outputs": [],
   "source": [
    "markdown_table(trading_stats([gme_1,gme_2,gme_3,gme_4,gme_5,gme_1_5]))"
   ]
  },
  {
   "cell_type": "markdown",
   "id": "b9a3ff4c-1e19-49e3-b3e8-570b38089999",
   "metadata": {},
   "source": [
    "###### SPY Statistics"
   ]
  },
  {
   "cell_type": "code",
   "execution_count": null,
   "id": "a6c18670-0af0-4563-980e-b1c2697430dc",
   "metadata": {},
   "outputs": [],
   "source": [
    "markdown_table(trading_stats([spy_1,spy_2,spy_3,spy_4,spy_5,spy_1_5]))"
   ]
  },
  {
   "cell_type": "markdown",
   "id": "1af1c162-6387-4cb9-83c5-858e7308b706",
   "metadata": {},
   "source": [
    "##### With restriction"
   ]
  },
  {
   "cell_type": "markdown",
   "id": "a7ab2523-a4e1-457c-83c1-4f1f7ccc753c",
   "metadata": {},
   "source": [
    "GME"
   ]
  },
  {
   "cell_type": "code",
   "execution_count": null,
   "id": "6187cecb-635e-4b7d-9ab7-0702946f79e0",
   "metadata": {
    "tags": []
   },
   "outputs": [],
   "source": [
    "h_p_gme = []\n",
    "for i in range(0,100):\n",
    "    h_p = i/1000\n",
    "    h_p_gme = h_p_gme + [(h_p, trading_stats([get_daily_profits(gme_prices,h_p)])[-1][-1])]"
   ]
  },
  {
   "cell_type": "markdown",
   "id": "fe00a137-8995-4d4d-a25a-37343206f411",
   "metadata": {},
   "source": [
    "SPY"
   ]
  },
  {
   "cell_type": "code",
   "execution_count": null,
   "id": "72b51734-3764-400f-8d74-6dd923a29341",
   "metadata": {},
   "outputs": [],
   "source": [
    "h_p_spy = []\n",
    "for i in range(0,100):\n",
    "    h_p = i/1000\n",
    "    h_p_spy = h_p_spy + [(h_p, trading_stats([get_daily_profits(spy_prices,h_p)])[-1][-1])]"
   ]
  },
  {
   "cell_type": "markdown",
   "id": "8d0f0aa7-9f35-48ac-82c6-efeb7180ecfe",
   "metadata": {},
   "source": [
    "Zipped"
   ]
  },
  {
   "cell_type": "code",
   "execution_count": null,
   "id": "7a1394c6-dfb5-434b-ba36-d1e364e7b177",
   "metadata": {
    "tags": []
   },
   "outputs": [],
   "source": [
    "[val for val in zip(h_p_gme, h_p_spy)]"
   ]
  },
  {
   "cell_type": "markdown",
   "id": "679216de-15fd-478c-ac4f-667c7d4cd46b",
   "metadata": {
    "tags": []
   },
   "source": [
    "##### Long and short"
   ]
  },
  {
   "cell_type": "code",
   "execution_count": null,
   "id": "80708918-ff37-4da7-944a-84f85f1a93c8",
   "metadata": {},
   "outputs": [],
   "source": [
    "h_p_gme_long = []\n",
    "for i in range(0,100):\n",
    "    h_p = i/1000\n",
    "    h_p_gme_long = h_p_gme_long + [(h_p, trading_stats([get_daily_profits(gme_prices,h_p)])[-1][5])]"
   ]
  },
  {
   "cell_type": "code",
   "execution_count": null,
   "id": "cc10292d-ba65-44b2-bbb9-f603e4b935a4",
   "metadata": {},
   "outputs": [],
   "source": [
    "h_p_spy_long = []\n",
    "for i in range(0,100):\n",
    "    h_p = i/1000\n",
    "    h_p_spy_long = h_p_spy_long + [(h_p, trading_stats([get_daily_profits(spy_prices,h_p)])[-1][5])]"
   ]
  },
  {
   "cell_type": "code",
   "execution_count": null,
   "id": "c18c5911-acfb-4df8-8a89-e1f0d3610299",
   "metadata": {
    "tags": []
   },
   "outputs": [],
   "source": [
    "[val for val in zip(h_p_gme_long,h_p_spy_long)]"
   ]
  },
  {
   "cell_type": "code",
   "execution_count": null,
   "id": "6fedc003-63ec-4226-88f4-b64b90531178",
   "metadata": {},
   "outputs": [],
   "source": [
    "h_p_gme_short = []\n",
    "for i in range(0,100):\n",
    "    h_p = i/1000\n",
    "    h_p_gme_short = h_p_gme_short + [(h_p, trading_stats([get_daily_profits(gme_prices,h_p)])[-1][5])]"
   ]
  },
  {
   "cell_type": "code",
   "execution_count": null,
   "id": "173c9889-1766-412a-9c43-79333c66f3fb",
   "metadata": {},
   "outputs": [],
   "source": [
    "h_p_spy_short = []\n",
    "for i in range(0,100):\n",
    "    h_p = i/1000\n",
    "    h_p_spy_short = h_p_spy_short + [(h_p, trading_stats([get_daily_profits(spy_prices,h_p)])[-1][5])]"
   ]
  },
  {
   "cell_type": "code",
   "execution_count": null,
   "id": "f9219511-6982-4948-9c02-f39511ced959",
   "metadata": {
    "tags": []
   },
   "outputs": [],
   "source": [
    "[val for val in zip(h_p_gme_short,h_p_spy_short)]"
   ]
  },
  {
   "cell_type": "code",
   "execution_count": null,
   "id": "4ce34162-45ef-4bf4-9d3e-177cea57ae24",
   "metadata": {},
   "outputs": [],
   "source": [
    "'abcd'[-1]"
   ]
  },
  {
   "cell_type": "markdown",
   "id": "364216ea-66bc-4604-9455-043f16d66ab8",
   "metadata": {},
   "source": [
    "##### Last digit analysis"
   ]
  },
  {
   "cell_type": "code",
   "execution_count": null,
   "id": "3b7c72b9-c0b2-4457-9f0c-3da5ae913e44",
   "metadata": {
    "tags": []
   },
   "outputs": [],
   "source": [
    "def last_digit(prices):\n",
    "    return [int(str(d[1])[-1]) for d in prices]"
   ]
  },
  {
   "cell_type": "code",
   "execution_count": null,
   "id": "e70cb72f-e7e0-4a79-bb29-e0cc3cca6e7e",
   "metadata": {},
   "outputs": [],
   "source": [
    "def digit_counts(digits):\n",
    "    zeros = 0; ones = 0; twos = 0; threes = 0; fours = 0;\n",
    "    fives = 0; sixes = 0; sevens = 0; eights = 0; nines = 0;\n",
    "    for d in digits:\n",
    "        if d == 0:\n",
    "            zeros += 1\n",
    "        elif d == 1:\n",
    "            ones += 1\n",
    "        elif d == 2:\n",
    "            twos += 1\n",
    "        elif d == 3:\n",
    "            threes += 1\n",
    "        elif d == 4:\n",
    "            fours += 1\n",
    "        elif d == 5:\n",
    "            fives += 1\n",
    "        elif d == 6:\n",
    "            sixes += 1\n",
    "        elif d == 7:\n",
    "            sevens += 1\n",
    "        elif d == 8:\n",
    "            eights += 1\n",
    "        elif d == 9:\n",
    "            nines += 1\n",
    "    return([zeros,ones,twos,threes,fours,fives,sixes,sevens,eights,nines])"
   ]
  },
  {
   "cell_type": "code",
   "execution_count": null,
   "id": "6292afed-500d-471a-8d76-6d1dfc180aa9",
   "metadata": {},
   "outputs": [],
   "source": [
    "gme_digit_counts = digit_counts(last_digit(gme_prices))\n",
    "gme_digit_counts"
   ]
  },
  {
   "cell_type": "code",
   "execution_count": null,
   "id": "a1eb35d1-4ffc-45b6-91a2-5192b9967184",
   "metadata": {},
   "outputs": [],
   "source": [
    "sns.barplot(x = ['zeros','ones','twos','threes','fours','fives','sixes','sevens',\n",
    "                 'eights','nines'],\n",
    "    y=[51, 127, 132, 123, 129, 223, 107, 115, 125, 124])"
   ]
  },
  {
   "cell_type": "code",
   "execution_count": null,
   "id": "0efd6c77-983b-49e5-8dbf-e8321e4daa4c",
   "metadata": {},
   "outputs": [],
   "source": [
    "spy_digit_counts = digit_counts(last_digit(spy_prices))\n",
    "spy_digit_counts"
   ]
  },
  {
   "cell_type": "code",
   "execution_count": null,
   "id": "65bec619-8f7b-4d4f-86c5-7f680447e6b7",
   "metadata": {},
   "outputs": [],
   "source": [
    "import seaborn as sns"
   ]
  },
  {
   "cell_type": "code",
   "execution_count": null,
   "id": "f7417a27-f9b7-4988-86fa-fba3dbaa28ba",
   "metadata": {},
   "outputs": [],
   "source": [
    "sns.barplot(x = ['zeros','ones','twos','threes','fours','fives','sixes','sevens',\n",
    "                 'eights','nines'],\n",
    "    y=[13, 147, 154, 140, 145, 127, 122, 146, 126, 136])"
   ]
  },
  {
   "cell_type": "code",
   "execution_count": null,
   "id": "d7fa57c0-4068-4036-91e3-659284fcdd9a",
   "metadata": {},
   "outputs": [],
   "source": [
    "sns.barplot(x = ['zeros','ones','twos','threes','fours','fives','sixes','sevens',\n",
    "                 'eights','nines'],\n",
    "    y=[13, 147, 154, 140, 145, 127, 122, 146, 126, 136])"
   ]
  },
  {
   "cell_type": "code",
   "execution_count": null,
   "id": "20b2c259-7ef5-43a9-9851-9328216ed8a8",
   "metadata": {},
   "outputs": [],
   "source": [
    "print('all code runs!')"
   ]
  }
 ],
 "metadata": {
  "kernelspec": {
   "display_name": "Python 3 (ipykernel)",
   "language": "python",
   "name": "python3"
  },
  "language_info": {
   "codemirror_mode": {
    "name": "ipython",
    "version": 3
   },
   "file_extension": ".py",
   "mimetype": "text/x-python",
   "name": "python",
   "nbconvert_exporter": "python",
   "pygments_lexer": "ipython3",
   "version": "3.9.18"
  }
 },
 "nbformat": 4,
 "nbformat_minor": 5
}
